{
 "cells": [
  {
   "cell_type": "markdown",
   "id": "249fd120",
   "metadata": {},
   "source": [
    "## LASSO Regression\n",
    "\n",
    "Least Absolute Shrinkage Operator \n"
   ]
  },
  {
   "cell_type": "markdown",
   "id": "498c4ecb",
   "metadata": {},
   "source": [
    "### Importing Packages"
   ]
  },
  {
   "cell_type": "code",
   "execution_count": 1,
   "id": "7230ebb6",
   "metadata": {},
   "outputs": [
    {
     "data": {
      "application/javascript": [
       "\n",
       "            setTimeout(function() {\n",
       "                var nbb_cell_id = 1;\n",
       "                var nbb_unformatted_code = \"%load_ext nb_black\";\n",
       "                var nbb_formatted_code = \"%load_ext nb_black\";\n",
       "                var nbb_cells = Jupyter.notebook.get_cells();\n",
       "                for (var i = 0; i < nbb_cells.length; ++i) {\n",
       "                    if (nbb_cells[i].input_prompt_number == nbb_cell_id) {\n",
       "                        if (nbb_cells[i].get_text() == nbb_unformatted_code) {\n",
       "                             nbb_cells[i].set_text(nbb_formatted_code);\n",
       "                        }\n",
       "                        break;\n",
       "                    }\n",
       "                }\n",
       "            }, 500);\n",
       "            "
      ],
      "text/plain": [
       "<IPython.core.display.Javascript object>"
      ]
     },
     "metadata": {},
     "output_type": "display_data"
    }
   ],
   "source": [
    "%load_ext nb_black"
   ]
  },
  {
   "cell_type": "code",
   "execution_count": 2,
   "id": "aac2ab56",
   "metadata": {},
   "outputs": [
    {
     "data": {
      "application/javascript": [
       "\n",
       "            setTimeout(function() {\n",
       "                var nbb_cell_id = 2;\n",
       "                var nbb_unformatted_code = \"import pandas as pd\\nimport numpy as np\\nimport warnings\\nfrom sklearn.model_selection import train_test_split\\nfrom sklearn.preprocessing import StandardScaler\\nfrom sklearn.linear_model import Lasso\\nfrom sklearn.metrics import mean_squared_error\\nfrom sklearn.linear_model import LassoCV\\nimport matplotlib.pyplot as plt\";\n",
       "                var nbb_formatted_code = \"import pandas as pd\\nimport numpy as np\\nimport warnings\\nfrom sklearn.model_selection import train_test_split\\nfrom sklearn.preprocessing import StandardScaler\\nfrom sklearn.linear_model import Lasso\\nfrom sklearn.metrics import mean_squared_error\\nfrom sklearn.linear_model import LassoCV\\nimport matplotlib.pyplot as plt\";\n",
       "                var nbb_cells = Jupyter.notebook.get_cells();\n",
       "                for (var i = 0; i < nbb_cells.length; ++i) {\n",
       "                    if (nbb_cells[i].input_prompt_number == nbb_cell_id) {\n",
       "                        if (nbb_cells[i].get_text() == nbb_unformatted_code) {\n",
       "                             nbb_cells[i].set_text(nbb_formatted_code);\n",
       "                        }\n",
       "                        break;\n",
       "                    }\n",
       "                }\n",
       "            }, 500);\n",
       "            "
      ],
      "text/plain": [
       "<IPython.core.display.Javascript object>"
      ]
     },
     "metadata": {},
     "output_type": "display_data"
    }
   ],
   "source": [
    "import pandas as pd\n",
    "import numpy as np\n",
    "import warnings\n",
    "from sklearn.model_selection import train_test_split\n",
    "from sklearn.preprocessing import StandardScaler\n",
    "from sklearn.linear_model import Lasso\n",
    "from sklearn.metrics import mean_squared_error\n",
    "from sklearn.linear_model import LassoCV\n",
    "import matplotlib.pyplot as plt"
   ]
  },
  {
   "cell_type": "markdown",
   "id": "6caf256f",
   "metadata": {},
   "source": [
    "### Importing Data/Data Cleaning"
   ]
  },
  {
   "cell_type": "code",
   "execution_count": 3,
   "id": "cee383d0",
   "metadata": {
    "scrolled": true
   },
   "outputs": [
    {
     "data": {
      "text/html": [
       "<div>\n",
       "<style scoped>\n",
       "    .dataframe tbody tr th:only-of-type {\n",
       "        vertical-align: middle;\n",
       "    }\n",
       "\n",
       "    .dataframe tbody tr th {\n",
       "        vertical-align: top;\n",
       "    }\n",
       "\n",
       "    .dataframe thead th {\n",
       "        text-align: right;\n",
       "    }\n",
       "</style>\n",
       "<table border=\"1\" class=\"dataframe\">\n",
       "  <thead>\n",
       "    <tr style=\"text-align: right;\">\n",
       "      <th></th>\n",
       "      <th>score</th>\n",
       "      <th>Influence</th>\n",
       "      <th>Modesty</th>\n",
       "      <th>Daring</th>\n",
       "      <th>Confidence</th>\n",
       "      <th>Ruling</th>\n",
       "      <th>Responsibility</th>\n",
       "      <th>IntrovExtro</th>\n",
       "      <th>Success</th>\n",
       "      <th>Humble</th>\n",
       "      <th>...</th>\n",
       "      <th>Confidence in Success</th>\n",
       "      <th>MakeBelieve</th>\n",
       "      <th>Leadership Origin</th>\n",
       "      <th>Biography</th>\n",
       "      <th>Public Opinion</th>\n",
       "      <th>Capability</th>\n",
       "      <th>Extraordinary</th>\n",
       "      <th>elapse</th>\n",
       "      <th>gender</th>\n",
       "      <th>age</th>\n",
       "    </tr>\n",
       "  </thead>\n",
       "  <tbody>\n",
       "    <tr>\n",
       "      <th>0</th>\n",
       "      <td>18</td>\n",
       "      <td>0</td>\n",
       "      <td>0</td>\n",
       "      <td>0</td>\n",
       "      <td>1</td>\n",
       "      <td>0</td>\n",
       "      <td>0</td>\n",
       "      <td>0</td>\n",
       "      <td>0</td>\n",
       "      <td>1</td>\n",
       "      <td>...</td>\n",
       "      <td>1</td>\n",
       "      <td>0</td>\n",
       "      <td>0</td>\n",
       "      <td>0</td>\n",
       "      <td>0</td>\n",
       "      <td>1</td>\n",
       "      <td>1</td>\n",
       "      <td>211</td>\n",
       "      <td>1</td>\n",
       "      <td>50</td>\n",
       "    </tr>\n",
       "    <tr>\n",
       "      <th>1</th>\n",
       "      <td>6</td>\n",
       "      <td>0</td>\n",
       "      <td>0</td>\n",
       "      <td>0</td>\n",
       "      <td>0</td>\n",
       "      <td>1</td>\n",
       "      <td>0</td>\n",
       "      <td>0</td>\n",
       "      <td>0</td>\n",
       "      <td>0</td>\n",
       "      <td>...</td>\n",
       "      <td>0</td>\n",
       "      <td>0</td>\n",
       "      <td>0</td>\n",
       "      <td>0</td>\n",
       "      <td>0</td>\n",
       "      <td>0</td>\n",
       "      <td>0</td>\n",
       "      <td>149</td>\n",
       "      <td>1</td>\n",
       "      <td>40</td>\n",
       "    </tr>\n",
       "    <tr>\n",
       "      <th>2</th>\n",
       "      <td>27</td>\n",
       "      <td>1</td>\n",
       "      <td>0</td>\n",
       "      <td>0</td>\n",
       "      <td>0</td>\n",
       "      <td>1</td>\n",
       "      <td>1</td>\n",
       "      <td>1</td>\n",
       "      <td>1</td>\n",
       "      <td>1</td>\n",
       "      <td>...</td>\n",
       "      <td>1</td>\n",
       "      <td>1</td>\n",
       "      <td>1</td>\n",
       "      <td>1</td>\n",
       "      <td>0</td>\n",
       "      <td>1</td>\n",
       "      <td>1</td>\n",
       "      <td>168</td>\n",
       "      <td>1</td>\n",
       "      <td>28</td>\n",
       "    </tr>\n",
       "    <tr>\n",
       "      <th>3</th>\n",
       "      <td>29</td>\n",
       "      <td>1</td>\n",
       "      <td>1</td>\n",
       "      <td>0</td>\n",
       "      <td>1</td>\n",
       "      <td>1</td>\n",
       "      <td>1</td>\n",
       "      <td>1</td>\n",
       "      <td>1</td>\n",
       "      <td>0</td>\n",
       "      <td>...</td>\n",
       "      <td>1</td>\n",
       "      <td>1</td>\n",
       "      <td>1</td>\n",
       "      <td>0</td>\n",
       "      <td>0</td>\n",
       "      <td>1</td>\n",
       "      <td>0</td>\n",
       "      <td>230</td>\n",
       "      <td>1</td>\n",
       "      <td>37</td>\n",
       "    </tr>\n",
       "    <tr>\n",
       "      <th>4</th>\n",
       "      <td>19</td>\n",
       "      <td>1</td>\n",
       "      <td>0</td>\n",
       "      <td>0</td>\n",
       "      <td>0</td>\n",
       "      <td>1</td>\n",
       "      <td>1</td>\n",
       "      <td>0</td>\n",
       "      <td>1</td>\n",
       "      <td>1</td>\n",
       "      <td>...</td>\n",
       "      <td>0</td>\n",
       "      <td>0</td>\n",
       "      <td>1</td>\n",
       "      <td>0</td>\n",
       "      <td>0</td>\n",
       "      <td>0</td>\n",
       "      <td>1</td>\n",
       "      <td>361</td>\n",
       "      <td>1</td>\n",
       "      <td>27</td>\n",
       "    </tr>\n",
       "    <tr>\n",
       "      <th>...</th>\n",
       "      <td>...</td>\n",
       "      <td>...</td>\n",
       "      <td>...</td>\n",
       "      <td>...</td>\n",
       "      <td>...</td>\n",
       "      <td>...</td>\n",
       "      <td>...</td>\n",
       "      <td>...</td>\n",
       "      <td>...</td>\n",
       "      <td>...</td>\n",
       "      <td>...</td>\n",
       "      <td>...</td>\n",
       "      <td>...</td>\n",
       "      <td>...</td>\n",
       "      <td>...</td>\n",
       "      <td>...</td>\n",
       "      <td>...</td>\n",
       "      <td>...</td>\n",
       "      <td>...</td>\n",
       "      <td>...</td>\n",
       "      <td>...</td>\n",
       "    </tr>\n",
       "    <tr>\n",
       "      <th>10413</th>\n",
       "      <td>1</td>\n",
       "      <td>0</td>\n",
       "      <td>0</td>\n",
       "      <td>0</td>\n",
       "      <td>0</td>\n",
       "      <td>0</td>\n",
       "      <td>0</td>\n",
       "      <td>0</td>\n",
       "      <td>0</td>\n",
       "      <td>0</td>\n",
       "      <td>...</td>\n",
       "      <td>0</td>\n",
       "      <td>0</td>\n",
       "      <td>0</td>\n",
       "      <td>0</td>\n",
       "      <td>0</td>\n",
       "      <td>0</td>\n",
       "      <td>0</td>\n",
       "      <td>243</td>\n",
       "      <td>1</td>\n",
       "      <td>24</td>\n",
       "    </tr>\n",
       "    <tr>\n",
       "      <th>10414</th>\n",
       "      <td>10</td>\n",
       "      <td>0</td>\n",
       "      <td>0</td>\n",
       "      <td>1</td>\n",
       "      <td>0</td>\n",
       "      <td>0</td>\n",
       "      <td>0</td>\n",
       "      <td>0</td>\n",
       "      <td>1</td>\n",
       "      <td>0</td>\n",
       "      <td>...</td>\n",
       "      <td>0</td>\n",
       "      <td>0</td>\n",
       "      <td>0</td>\n",
       "      <td>1</td>\n",
       "      <td>0</td>\n",
       "      <td>0</td>\n",
       "      <td>0</td>\n",
       "      <td>197</td>\n",
       "      <td>1</td>\n",
       "      <td>39</td>\n",
       "    </tr>\n",
       "    <tr>\n",
       "      <th>10415</th>\n",
       "      <td>6</td>\n",
       "      <td>1</td>\n",
       "      <td>0</td>\n",
       "      <td>0</td>\n",
       "      <td>0</td>\n",
       "      <td>0</td>\n",
       "      <td>0</td>\n",
       "      <td>0</td>\n",
       "      <td>0</td>\n",
       "      <td>0</td>\n",
       "      <td>...</td>\n",
       "      <td>0</td>\n",
       "      <td>0</td>\n",
       "      <td>0</td>\n",
       "      <td>0</td>\n",
       "      <td>0</td>\n",
       "      <td>0</td>\n",
       "      <td>0</td>\n",
       "      <td>447</td>\n",
       "      <td>2</td>\n",
       "      <td>33</td>\n",
       "    </tr>\n",
       "    <tr>\n",
       "      <th>10416</th>\n",
       "      <td>12</td>\n",
       "      <td>0</td>\n",
       "      <td>0</td>\n",
       "      <td>1</td>\n",
       "      <td>0</td>\n",
       "      <td>0</td>\n",
       "      <td>1</td>\n",
       "      <td>0</td>\n",
       "      <td>1</td>\n",
       "      <td>0</td>\n",
       "      <td>...</td>\n",
       "      <td>1</td>\n",
       "      <td>1</td>\n",
       "      <td>0</td>\n",
       "      <td>0</td>\n",
       "      <td>0</td>\n",
       "      <td>0</td>\n",
       "      <td>0</td>\n",
       "      <td>167</td>\n",
       "      <td>1</td>\n",
       "      <td>24</td>\n",
       "    </tr>\n",
       "    <tr>\n",
       "      <th>10417</th>\n",
       "      <td>18</td>\n",
       "      <td>1</td>\n",
       "      <td>0</td>\n",
       "      <td>1</td>\n",
       "      <td>0</td>\n",
       "      <td>0</td>\n",
       "      <td>1</td>\n",
       "      <td>1</td>\n",
       "      <td>0</td>\n",
       "      <td>0</td>\n",
       "      <td>...</td>\n",
       "      <td>0</td>\n",
       "      <td>1</td>\n",
       "      <td>1</td>\n",
       "      <td>0</td>\n",
       "      <td>0</td>\n",
       "      <td>1</td>\n",
       "      <td>0</td>\n",
       "      <td>291</td>\n",
       "      <td>1</td>\n",
       "      <td>36</td>\n",
       "    </tr>\n",
       "  </tbody>\n",
       "</table>\n",
       "<p>10383 rows × 44 columns</p>\n",
       "</div>"
      ],
      "text/plain": [
       "       score  Influence  Modesty  Daring  Confidence  Ruling  Responsibility  \\\n",
       "0         18          0        0       0           1       0               0   \n",
       "1          6          0        0       0           0       1               0   \n",
       "2         27          1        0       0           0       1               1   \n",
       "3         29          1        1       0           1       1               1   \n",
       "4         19          1        0       0           0       1               1   \n",
       "...      ...        ...      ...     ...         ...     ...             ...   \n",
       "10413      1          0        0       0           0       0               0   \n",
       "10414     10          0        0       1           0       0               0   \n",
       "10415      6          1        0       0           0       0               0   \n",
       "10416     12          0        0       1           0       0               1   \n",
       "10417     18          1        0       1           0       0               1   \n",
       "\n",
       "       IntrovExtro  Success  Humble  ...  Confidence in Success  MakeBelieve  \\\n",
       "0                0        0       1  ...                      1            0   \n",
       "1                0        0       0  ...                      0            0   \n",
       "2                1        1       1  ...                      1            1   \n",
       "3                1        1       0  ...                      1            1   \n",
       "4                0        1       1  ...                      0            0   \n",
       "...            ...      ...     ...  ...                    ...          ...   \n",
       "10413            0        0       0  ...                      0            0   \n",
       "10414            0        1       0  ...                      0            0   \n",
       "10415            0        0       0  ...                      0            0   \n",
       "10416            0        1       0  ...                      1            1   \n",
       "10417            1        0       0  ...                      0            1   \n",
       "\n",
       "       Leadership Origin  Biography  Public Opinion  Capability  \\\n",
       "0                      0          0               0           1   \n",
       "1                      0          0               0           0   \n",
       "2                      1          1               0           1   \n",
       "3                      1          0               0           1   \n",
       "4                      1          0               0           0   \n",
       "...                  ...        ...             ...         ...   \n",
       "10413                  0          0               0           0   \n",
       "10414                  0          1               0           0   \n",
       "10415                  0          0               0           0   \n",
       "10416                  0          0               0           0   \n",
       "10417                  1          0               0           1   \n",
       "\n",
       "       Extraordinary  elapse  gender  age  \n",
       "0                  1     211       1   50  \n",
       "1                  0     149       1   40  \n",
       "2                  1     168       1   28  \n",
       "3                  0     230       1   37  \n",
       "4                  1     361       1   27  \n",
       "...              ...     ...     ...  ...  \n",
       "10413              0     243       1   24  \n",
       "10414              0     197       1   39  \n",
       "10415              0     447       2   33  \n",
       "10416              0     167       1   24  \n",
       "10417              0     291       1   36  \n",
       "\n",
       "[10383 rows x 44 columns]"
      ]
     },
     "execution_count": 3,
     "metadata": {},
     "output_type": "execute_result"
    },
    {
     "data": {
      "application/javascript": [
       "\n",
       "            setTimeout(function() {\n",
       "                var nbb_cell_id = 3;\n",
       "                var nbb_unformatted_code = \"df = pd.read_csv(\\\"Data/data_clean.csv\\\", index_col=[0])\\ndf = df.dropna()\\ndf\";\n",
       "                var nbb_formatted_code = \"df = pd.read_csv(\\\"Data/data_clean.csv\\\", index_col=[0])\\ndf = df.dropna()\\ndf\";\n",
       "                var nbb_cells = Jupyter.notebook.get_cells();\n",
       "                for (var i = 0; i < nbb_cells.length; ++i) {\n",
       "                    if (nbb_cells[i].input_prompt_number == nbb_cell_id) {\n",
       "                        if (nbb_cells[i].get_text() == nbb_unformatted_code) {\n",
       "                             nbb_cells[i].set_text(nbb_formatted_code);\n",
       "                        }\n",
       "                        break;\n",
       "                    }\n",
       "                }\n",
       "            }, 500);\n",
       "            "
      ],
      "text/plain": [
       "<IPython.core.display.Javascript object>"
      ]
     },
     "metadata": {},
     "output_type": "display_data"
    }
   ],
   "source": [
    "df = pd.read_csv(\"Data/data_clean.csv\", index_col=[0])\n",
    "df = df.dropna()\n",
    "df"
   ]
  },
  {
   "cell_type": "code",
   "execution_count": 4,
   "id": "a21a2bb0",
   "metadata": {},
   "outputs": [
    {
     "data": {
      "application/javascript": [
       "\n",
       "            setTimeout(function() {\n",
       "                var nbb_cell_id = 4;\n",
       "                var nbb_unformatted_code = \"# Create dummy variables for gender\\ndummies = pd.get_dummies(df[\\\"gender\\\"])\\ndummies = dummies.rename(columns={1: \\\"Male\\\", 2: \\\"Female\\\", 3: \\\"Other\\\"})\";\n",
       "                var nbb_formatted_code = \"# Create dummy variables for gender\\ndummies = pd.get_dummies(df[\\\"gender\\\"])\\ndummies = dummies.rename(columns={1: \\\"Male\\\", 2: \\\"Female\\\", 3: \\\"Other\\\"})\";\n",
       "                var nbb_cells = Jupyter.notebook.get_cells();\n",
       "                for (var i = 0; i < nbb_cells.length; ++i) {\n",
       "                    if (nbb_cells[i].input_prompt_number == nbb_cell_id) {\n",
       "                        if (nbb_cells[i].get_text() == nbb_unformatted_code) {\n",
       "                             nbb_cells[i].set_text(nbb_formatted_code);\n",
       "                        }\n",
       "                        break;\n",
       "                    }\n",
       "                }\n",
       "            }, 500);\n",
       "            "
      ],
      "text/plain": [
       "<IPython.core.display.Javascript object>"
      ]
     },
     "metadata": {},
     "output_type": "display_data"
    }
   ],
   "source": [
    "# Create dummy variables for gender\n",
    "dummies = pd.get_dummies(df[\"gender\"])\n",
    "dummies = dummies.rename(columns={1: \"Male\", 2: \"Female\", 3: \"Other\"})"
   ]
  },
  {
   "cell_type": "markdown",
   "id": "b01cfffc",
   "metadata": {},
   "source": [
    "### LASSO Regression"
   ]
  },
  {
   "cell_type": "code",
   "execution_count": 5,
   "id": "d34082b0",
   "metadata": {},
   "outputs": [
    {
     "data": {
      "application/javascript": [
       "\n",
       "            setTimeout(function() {\n",
       "                var nbb_cell_id = 5;\n",
       "                var nbb_unformatted_code = \"# Preparing X and Y\\ny = df[\\\"score\\\"]\\nX_numerical = df[[\\\"elapse\\\", \\\"age\\\"]]\\nlist_numerical = X_numerical.columns\\nX = pd.concat([X_numerical, dummies[[\\\"Male\\\", \\\"Female\\\", \\\"Other\\\"]]], axis=1)\";\n",
       "                var nbb_formatted_code = \"# Preparing X and Y\\ny = df[\\\"score\\\"]\\nX_numerical = df[[\\\"elapse\\\", \\\"age\\\"]]\\nlist_numerical = X_numerical.columns\\nX = pd.concat([X_numerical, dummies[[\\\"Male\\\", \\\"Female\\\", \\\"Other\\\"]]], axis=1)\";\n",
       "                var nbb_cells = Jupyter.notebook.get_cells();\n",
       "                for (var i = 0; i < nbb_cells.length; ++i) {\n",
       "                    if (nbb_cells[i].input_prompt_number == nbb_cell_id) {\n",
       "                        if (nbb_cells[i].get_text() == nbb_unformatted_code) {\n",
       "                             nbb_cells[i].set_text(nbb_formatted_code);\n",
       "                        }\n",
       "                        break;\n",
       "                    }\n",
       "                }\n",
       "            }, 500);\n",
       "            "
      ],
      "text/plain": [
       "<IPython.core.display.Javascript object>"
      ]
     },
     "metadata": {},
     "output_type": "display_data"
    }
   ],
   "source": [
    "# Preparing X and Y\n",
    "y = df[\"score\"]\n",
    "X_numerical = df[[\"elapse\", \"age\"]]\n",
    "list_numerical = X_numerical.columns\n",
    "X = pd.concat([X_numerical, dummies[[\"Male\", \"Female\", \"Other\"]]], axis=1)"
   ]
  },
  {
   "cell_type": "code",
   "execution_count": 6,
   "id": "382537f2",
   "metadata": {},
   "outputs": [
    {
     "name": "stdout",
     "output_type": "stream",
     "text": [
      "R squared training set 0.04\n",
      "R squared test set 0.04\n",
      "MSE training set 69.89\n",
      "MSE test set 69.73\n"
     ]
    },
    {
     "data": {
      "application/javascript": [
       "\n",
       "            setTimeout(function() {\n",
       "                var nbb_cell_id = 6;\n",
       "                var nbb_unformatted_code = \"# Lasso Regression\\nwarnings.filterwarnings(\\\"ignore\\\")  # Warnings about using iloc\\n\\nX_train, X_test, y_train, y_test = train_test_split(\\n    X, y, test_size=0.2, random_state=1\\n)\\n\\n# Standardize Values\\nscaler = StandardScaler().fit(X_train[list_numerical])\\nX_train[list_numerical] = scaler.transform(X_train[list_numerical])\\nX_test[list_numerical] = scaler.transform(X_test[list_numerical])\\n\\n# Fitting LASSO Model\\nreg = Lasso(alpha=1)\\nreg.fit(X_train, y_train)\\n\\n# Measures of Accuracy \\nprint(\\\"R squared training set\\\", round(reg.score(X_train, y_train), 2))\\nprint(\\\"R squared test set\\\", round(reg.score(X_test, y_test), 2))\\n\\n# Training data\\npred_train = reg.predict(X_train)\\nmse_train = mean_squared_error(y_train, pred_train)\\nprint('MSE training set', round(mse_train, 2))\\n\\n# Test data\\npred = reg.predict(X_test)\\nmse_test =mean_squared_error(y_test, pred)\\nprint('MSE test set', round(mse_test, 2))\";\n",
       "                var nbb_formatted_code = \"# Lasso Regression\\nwarnings.filterwarnings(\\\"ignore\\\")  # Warnings about using iloc\\n\\nX_train, X_test, y_train, y_test = train_test_split(X, y, test_size=0.2, random_state=1)\\n\\n# Standardize Values\\nscaler = StandardScaler().fit(X_train[list_numerical])\\nX_train[list_numerical] = scaler.transform(X_train[list_numerical])\\nX_test[list_numerical] = scaler.transform(X_test[list_numerical])\\n\\n# Fitting LASSO Model\\nreg = Lasso(alpha=1)\\nreg.fit(X_train, y_train)\\n\\n# Measures of Accuracy\\nprint(\\\"R squared training set\\\", round(reg.score(X_train, y_train), 2))\\nprint(\\\"R squared test set\\\", round(reg.score(X_test, y_test), 2))\\n\\n# Training data\\npred_train = reg.predict(X_train)\\nmse_train = mean_squared_error(y_train, pred_train)\\nprint(\\\"MSE training set\\\", round(mse_train, 2))\\n\\n# Test data\\npred = reg.predict(X_test)\\nmse_test = mean_squared_error(y_test, pred)\\nprint(\\\"MSE test set\\\", round(mse_test, 2))\";\n",
       "                var nbb_cells = Jupyter.notebook.get_cells();\n",
       "                for (var i = 0; i < nbb_cells.length; ++i) {\n",
       "                    if (nbb_cells[i].input_prompt_number == nbb_cell_id) {\n",
       "                        if (nbb_cells[i].get_text() == nbb_unformatted_code) {\n",
       "                             nbb_cells[i].set_text(nbb_formatted_code);\n",
       "                        }\n",
       "                        break;\n",
       "                    }\n",
       "                }\n",
       "            }, 500);\n",
       "            "
      ],
      "text/plain": [
       "<IPython.core.display.Javascript object>"
      ]
     },
     "metadata": {},
     "output_type": "display_data"
    }
   ],
   "source": [
    "# Lasso Regression\n",
    "warnings.filterwarnings(\"ignore\")  # Warnings about using iloc\n",
    "\n",
    "X_train, X_test, y_train, y_test = train_test_split(\n",
    "    X, y, test_size=0.2, random_state=1\n",
    ")\n",
    "\n",
    "# Standardize Values\n",
    "scaler = StandardScaler().fit(X_train[list_numerical])\n",
    "X_train[list_numerical] = scaler.transform(X_train[list_numerical])\n",
    "X_test[list_numerical] = scaler.transform(X_test[list_numerical])\n",
    "\n",
    "# Fitting LASSO Model\n",
    "reg = Lasso(alpha=1)\n",
    "reg.fit(X_train, y_train)\n",
    "\n",
    "# Measures of Accuracy \n",
    "print(\"R squared training set\", round(reg.score(X_train, y_train), 2))\n",
    "print(\"R squared test set\", round(reg.score(X_test, y_test), 2))\n",
    "\n",
    "# Training data\n",
    "pred_train = reg.predict(X_train)\n",
    "mse_train = mean_squared_error(y_train, pred_train)\n",
    "print('MSE training set', round(mse_train, 2))\n",
    "\n",
    "# Test data\n",
    "pred = reg.predict(X_test)\n",
    "mse_test =mean_squared_error(y_test, pred)\n",
    "print('MSE test set', round(mse_test, 2))\n"
   ]
  },
  {
   "cell_type": "markdown",
   "id": "c56cc8cf",
   "metadata": {},
   "source": [
    "### Tuning Hyperparameters"
   ]
  },
  {
   "cell_type": "code",
   "execution_count": 7,
   "id": "d3887a6a",
   "metadata": {},
   "outputs": [
    {
     "data": {
      "text/plain": [
       "Text(0.5, 1.0, 'LASSO Coefficients vs Regularization Parameters')"
      ]
     },
     "execution_count": 7,
     "metadata": {},
     "output_type": "execute_result"
    },
    {
     "data": {
      "image/png": "[encoded data removed]",
      "text/plain": [
       "<Figure size 432x288 with 1 Axes>"
      ]
     },
     "metadata": {
      "needs_background": "light"
     },
     "output_type": "display_data"
    },
    {
     "data": {
      "application/javascript": [
       "\n",
       "            setTimeout(function() {\n",
       "                var nbb_cell_id = 7;\n",
       "                var nbb_unformatted_code = \"# Graph\\ncoef = []\\nalphas = np.arange(0.01, 5, 0.10)\\nlasso = Lasso(max_iter=10000)\\n\\nfor a in alphas:\\n    lasso.set_params(alpha=a)\\n    lasso.fit(X_train, y_train)\\n    coef.append(lasso.coef_)\\n\\nfig = plt.figure()\\nax = fig.add_subplot(111)\\nax.plot(alphas, coef)\\nax.set_xlabel(\\\"Alpha (Regularization Parameter)\\\")\\nax.set_ylabel(\\\"Beta (Predictor Coefficients)\\\")\\nax.set_title(\\\"LASSO Coefficients vs Regularization Parameters\\\")\";\n",
       "                var nbb_formatted_code = \"# Graph\\ncoef = []\\nalphas = np.arange(0.01, 5, 0.10)\\nlasso = Lasso(max_iter=10000)\\n\\nfor a in alphas:\\n    lasso.set_params(alpha=a)\\n    lasso.fit(X_train, y_train)\\n    coef.append(lasso.coef_)\\n\\nfig = plt.figure()\\nax = fig.add_subplot(111)\\nax.plot(alphas, coef)\\nax.set_xlabel(\\\"Alpha (Regularization Parameter)\\\")\\nax.set_ylabel(\\\"Beta (Predictor Coefficients)\\\")\\nax.set_title(\\\"LASSO Coefficients vs Regularization Parameters\\\")\";\n",
       "                var nbb_cells = Jupyter.notebook.get_cells();\n",
       "                for (var i = 0; i < nbb_cells.length; ++i) {\n",
       "                    if (nbb_cells[i].input_prompt_number == nbb_cell_id) {\n",
       "                        if (nbb_cells[i].get_text() == nbb_unformatted_code) {\n",
       "                             nbb_cells[i].set_text(nbb_formatted_code);\n",
       "                        }\n",
       "                        break;\n",
       "                    }\n",
       "                }\n",
       "            }, 500);\n",
       "            "
      ],
      "text/plain": [
       "<IPython.core.display.Javascript object>"
      ]
     },
     "metadata": {},
     "output_type": "display_data"
    }
   ],
   "source": [
    "# Graph\n",
    "coef = []\n",
    "alphas = np.arange(0.01, 5, 0.10)\n",
    "lasso = Lasso(max_iter=10000)\n",
    "\n",
    "for a in alphas:\n",
    "    lasso.set_params(alpha=a)\n",
    "    lasso.fit(X_train, y_train)\n",
    "    coef.append(lasso.coef_)\n",
    "\n",
    "fig = plt.figure()\n",
    "ax = fig.add_subplot(111)\n",
    "ax.plot(alphas, coef)\n",
    "ax.set_xlabel(\"Alpha (Regularization Parameter)\")\n",
    "ax.set_ylabel(\"Beta (Predictor Coefficients)\")\n",
    "ax.set_title(\"LASSO Coefficients vs Regularization Parameters\")\n"
   ]
  },
  {
   "cell_type": "code",
   "execution_count": 8,
   "id": "d12db5a7",
   "metadata": {},
   "outputs": [
    {
     "data": {
      "text/plain": [
       "0.004411607344696783"
      ]
     },
     "execution_count": 8,
     "metadata": {},
     "output_type": "execute_result"
    },
    {
     "data": {
      "application/javascript": [
       "\n",
       "            setTimeout(function() {\n",
       "                var nbb_cell_id = 8;\n",
       "                var nbb_unformatted_code = \"# K Fold Cross Validation\\nmodel = LassoCV(cv=10, random_state=1, max_iter=10000)\\nmodel.fit(X_train, y_train)\\nmodel.alpha_\";\n",
       "                var nbb_formatted_code = \"# K Fold Cross Validation\\nmodel = LassoCV(cv=10, random_state=1, max_iter=10000)\\nmodel.fit(X_train, y_train)\\nmodel.alpha_\";\n",
       "                var nbb_cells = Jupyter.notebook.get_cells();\n",
       "                for (var i = 0; i < nbb_cells.length; ++i) {\n",
       "                    if (nbb_cells[i].input_prompt_number == nbb_cell_id) {\n",
       "                        if (nbb_cells[i].get_text() == nbb_unformatted_code) {\n",
       "                             nbb_cells[i].set_text(nbb_formatted_code);\n",
       "                        }\n",
       "                        break;\n",
       "                    }\n",
       "                }\n",
       "            }, 500);\n",
       "            "
      ],
      "text/plain": [
       "<IPython.core.display.Javascript object>"
      ]
     },
     "metadata": {},
     "output_type": "display_data"
    }
   ],
   "source": [
    "# K Fold Cross Validation\n",
    "model = LassoCV(cv=10, random_state=1, max_iter=10000)\n",
    "model.fit(X_train, y_train)\n",
    "model.alpha_"
   ]
  },
  {
   "cell_type": "code",
   "execution_count": 9,
   "id": "c4c32e45",
   "metadata": {},
   "outputs": [
    {
     "data": {
      "text/html": [
       "<div>\n",
       "<style scoped>\n",
       "    .dataframe tbody tr th:only-of-type {\n",
       "        vertical-align: middle;\n",
       "    }\n",
       "\n",
       "    .dataframe tbody tr th {\n",
       "        vertical-align: top;\n",
       "    }\n",
       "\n",
       "    .dataframe thead th {\n",
       "        text-align: right;\n",
       "    }\n",
       "</style>\n",
       "<table border=\"1\" class=\"dataframe\">\n",
       "  <thead>\n",
       "    <tr style=\"text-align: right;\">\n",
       "      <th></th>\n",
       "      <th>elapse</th>\n",
       "      <th>age</th>\n",
       "      <th>Male</th>\n",
       "      <th>Female</th>\n",
       "      <th>Other</th>\n",
       "    </tr>\n",
       "  </thead>\n",
       "  <tbody>\n",
       "    <tr>\n",
       "      <th>0</th>\n",
       "      <td>211</td>\n",
       "      <td>50</td>\n",
       "      <td>1</td>\n",
       "      <td>0</td>\n",
       "      <td>0</td>\n",
       "    </tr>\n",
       "    <tr>\n",
       "      <th>1</th>\n",
       "      <td>149</td>\n",
       "      <td>40</td>\n",
       "      <td>1</td>\n",
       "      <td>0</td>\n",
       "      <td>0</td>\n",
       "    </tr>\n",
       "    <tr>\n",
       "      <th>2</th>\n",
       "      <td>168</td>\n",
       "      <td>28</td>\n",
       "      <td>1</td>\n",
       "      <td>0</td>\n",
       "      <td>0</td>\n",
       "    </tr>\n",
       "    <tr>\n",
       "      <th>3</th>\n",
       "      <td>230</td>\n",
       "      <td>37</td>\n",
       "      <td>1</td>\n",
       "      <td>0</td>\n",
       "      <td>0</td>\n",
       "    </tr>\n",
       "    <tr>\n",
       "      <th>4</th>\n",
       "      <td>361</td>\n",
       "      <td>27</td>\n",
       "      <td>1</td>\n",
       "      <td>0</td>\n",
       "      <td>0</td>\n",
       "    </tr>\n",
       "    <tr>\n",
       "      <th>...</th>\n",
       "      <td>...</td>\n",
       "      <td>...</td>\n",
       "      <td>...</td>\n",
       "      <td>...</td>\n",
       "      <td>...</td>\n",
       "    </tr>\n",
       "    <tr>\n",
       "      <th>10413</th>\n",
       "      <td>243</td>\n",
       "      <td>24</td>\n",
       "      <td>1</td>\n",
       "      <td>0</td>\n",
       "      <td>0</td>\n",
       "    </tr>\n",
       "    <tr>\n",
       "      <th>10414</th>\n",
       "      <td>197</td>\n",
       "      <td>39</td>\n",
       "      <td>1</td>\n",
       "      <td>0</td>\n",
       "      <td>0</td>\n",
       "    </tr>\n",
       "    <tr>\n",
       "      <th>10415</th>\n",
       "      <td>447</td>\n",
       "      <td>33</td>\n",
       "      <td>0</td>\n",
       "      <td>1</td>\n",
       "      <td>0</td>\n",
       "    </tr>\n",
       "    <tr>\n",
       "      <th>10416</th>\n",
       "      <td>167</td>\n",
       "      <td>24</td>\n",
       "      <td>1</td>\n",
       "      <td>0</td>\n",
       "      <td>0</td>\n",
       "    </tr>\n",
       "    <tr>\n",
       "      <th>10417</th>\n",
       "      <td>291</td>\n",
       "      <td>36</td>\n",
       "      <td>1</td>\n",
       "      <td>0</td>\n",
       "      <td>0</td>\n",
       "    </tr>\n",
       "  </tbody>\n",
       "</table>\n",
       "<p>10383 rows × 5 columns</p>\n",
       "</div>"
      ],
      "text/plain": [
       "       elapse  age  Male  Female  Other\n",
       "0         211   50     1       0      0\n",
       "1         149   40     1       0      0\n",
       "2         168   28     1       0      0\n",
       "3         230   37     1       0      0\n",
       "4         361   27     1       0      0\n",
       "...       ...  ...   ...     ...    ...\n",
       "10413     243   24     1       0      0\n",
       "10414     197   39     1       0      0\n",
       "10415     447   33     0       1      0\n",
       "10416     167   24     1       0      0\n",
       "10417     291   36     1       0      0\n",
       "\n",
       "[10383 rows x 5 columns]"
      ]
     },
     "execution_count": 9,
     "metadata": {},
     "output_type": "execute_result"
    },
    {
     "data": {
      "application/javascript": [
       "\n",
       "            setTimeout(function() {\n",
       "                var nbb_cell_id = 9;\n",
       "                var nbb_unformatted_code = \"X\";\n",
       "                var nbb_formatted_code = \"X\";\n",
       "                var nbb_cells = Jupyter.notebook.get_cells();\n",
       "                for (var i = 0; i < nbb_cells.length; ++i) {\n",
       "                    if (nbb_cells[i].input_prompt_number == nbb_cell_id) {\n",
       "                        if (nbb_cells[i].get_text() == nbb_unformatted_code) {\n",
       "                             nbb_cells[i].set_text(nbb_formatted_code);\n",
       "                        }\n",
       "                        break;\n",
       "                    }\n",
       "                }\n",
       "            }, 500);\n",
       "            "
      ],
      "text/plain": [
       "<IPython.core.display.Javascript object>"
      ]
     },
     "metadata": {},
     "output_type": "display_data"
    }
   ],
   "source": [
    "X"
   ]
  },
  {
   "cell_type": "code",
   "execution_count": 10,
   "id": "87c86930",
   "metadata": {},
   "outputs": [
    {
     "data": {
      "text/plain": [
       "array([ 0.12775121, -1.8448974 ,  0.        , -1.78322728,  0.        ])"
      ]
     },
     "execution_count": 10,
     "metadata": {},
     "output_type": "execute_result"
    },
    {
     "data": {
      "application/javascript": [
       "\n",
       "            setTimeout(function() {\n",
       "                var nbb_cell_id = 10;\n",
       "                var nbb_unformatted_code = \"coefs = np.array(model.coef_)\\ncoefs\";\n",
       "                var nbb_formatted_code = \"coefs = np.array(model.coef_)\\ncoefs\";\n",
       "                var nbb_cells = Jupyter.notebook.get_cells();\n",
       "                for (var i = 0; i < nbb_cells.length; ++i) {\n",
       "                    if (nbb_cells[i].input_prompt_number == nbb_cell_id) {\n",
       "                        if (nbb_cells[i].get_text() == nbb_unformatted_code) {\n",
       "                             nbb_cells[i].set_text(nbb_formatted_code);\n",
       "                        }\n",
       "                        break;\n",
       "                    }\n",
       "                }\n",
       "            }, 500);\n",
       "            "
      ],
      "text/plain": [
       "<IPython.core.display.Javascript object>"
      ]
     },
     "metadata": {},
     "output_type": "display_data"
    }
   ],
   "source": [
    "coefs = np.array(model.coef_)\n",
    "coefs"
   ]
  },
  {
   "cell_type": "markdown",
   "id": "145b0225",
   "metadata": {},
   "source": [
    "### Final Model"
   ]
  },
  {
   "cell_type": "markdown",
   "id": "d98b1c30",
   "metadata": {},
   "source": [
    "$Y = 0.12775121X_{elapse} -1.84489742X_{age} - 1.78322728X_{Female}$"
   ]
  }
 ],
 "metadata": {
  "kernelspec": {
   "display_name": "Python 3",
   "language": "python",
   "name": "python3"
  },
  "language_info": {
   "codemirror_mode": {
    "name": "ipython",
    "version": 3
   },
   "file_extension": ".py",
   "mimetype": "text/x-python",
   "name": "python",
   "nbconvert_exporter": "python",
   "pygments_lexer": "ipython3",
   "version": "3.8.8"
  }
 },
 "nbformat": 4,
 "nbformat_minor": 5
}
