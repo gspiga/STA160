{
 "cells": [
  {
   "cell_type": "code",
   "execution_count": 18,
   "id": "aa1e2789",
   "metadata": {},
   "outputs": [
    {
     "name": "stdout",
     "output_type": "stream",
     "text": [
      "The nb_black extension is already loaded. To reload it, use:\n",
      "  %reload_ext nb_black\n"
     ]
    },
    {
     "data": {
      "application/javascript": [
       "\n",
       "            setTimeout(function() {\n",
       "                var nbb_cell_id = 18;\n",
       "                var nbb_unformatted_code = \"%load_ext nb_black\";\n",
       "                var nbb_formatted_code = \"%load_ext nb_black\";\n",
       "                var nbb_cells = Jupyter.notebook.get_cells();\n",
       "                for (var i = 0; i < nbb_cells.length; ++i) {\n",
       "                    if (nbb_cells[i].input_prompt_number == nbb_cell_id) {\n",
       "                        if (nbb_cells[i].get_text() == nbb_unformatted_code) {\n",
       "                             nbb_cells[i].set_text(nbb_formatted_code);\n",
       "                        }\n",
       "                        break;\n",
       "                    }\n",
       "                }\n",
       "            }, 500);\n",
       "            "
      ],
      "text/plain": [
       "<IPython.core.display.Javascript object>"
      ]
     },
     "metadata": {},
     "output_type": "display_data"
    }
   ],
   "source": [
    "%load_ext nb_black"
   ]
  },
  {
   "cell_type": "code",
   "execution_count": 19,
   "id": "96a4b47c",
   "metadata": {},
   "outputs": [
    {
     "data": {
      "application/javascript": [
       "\n",
       "            setTimeout(function() {\n",
       "                var nbb_cell_id = 19;\n",
       "                var nbb_unformatted_code = \"# evaluate multinomial logistic regression model\\nimport numpy as np\\nimport pandas as pd\\nfrom sklearn.model_selection import *\\nfrom sklearn.metrics import confusion_matrix\\n\\n# from sklearn.model_selection import cross_val_score, cross_validate\\n# from sklearn.model_selection import RepeatedStratifiedKFold\\nfrom sklearn.linear_model import LogisticRegression\\n\\nimport plotly.express as px\\nfrom IPython.display import display\\nimport statsmodels.api as sm\";\n",
       "                var nbb_formatted_code = \"# evaluate multinomial logistic regression model\\nimport numpy as np\\nimport pandas as pd\\nfrom sklearn.model_selection import *\\nfrom sklearn.metrics import confusion_matrix\\n\\n# from sklearn.model_selection import cross_val_score, cross_validate\\n# from sklearn.model_selection import RepeatedStratifiedKFold\\nfrom sklearn.linear_model import LogisticRegression\\n\\nimport plotly.express as px\\nfrom IPython.display import display\\nimport statsmodels.api as sm\";\n",
       "                var nbb_cells = Jupyter.notebook.get_cells();\n",
       "                for (var i = 0; i < nbb_cells.length; ++i) {\n",
       "                    if (nbb_cells[i].input_prompt_number == nbb_cell_id) {\n",
       "                        if (nbb_cells[i].get_text() == nbb_unformatted_code) {\n",
       "                             nbb_cells[i].set_text(nbb_formatted_code);\n",
       "                        }\n",
       "                        break;\n",
       "                    }\n",
       "                }\n",
       "            }, 500);\n",
       "            "
      ],
      "text/plain": [
       "<IPython.core.display.Javascript object>"
      ]
     },
     "metadata": {},
     "output_type": "display_data"
    }
   ],
   "source": [
    "# evaluate multinomial logistic regression model\n",
    "import numpy as np\n",
    "import pandas as pd\n",
    "from sklearn.model_selection import *\n",
    "from sklearn.metrics import confusion_matrix\n",
    "\n",
    "# from sklearn.model_selection import cross_val_score, cross_validate\n",
    "# from sklearn.model_selection import RepeatedStratifiedKFold\n",
    "from sklearn.linear_model import LogisticRegression\n",
    "\n",
    "import plotly.express as px\n",
    "from IPython.display import display\n",
    "import statsmodels.api as sm"
   ]
  },
  {
   "cell_type": "code",
   "execution_count": 20,
   "id": "8d13cb64",
   "metadata": {},
   "outputs": [
    {
     "data": {
      "text/html": [
       "<div>\n",
       "<style scoped>\n",
       "    .dataframe tbody tr th:only-of-type {\n",
       "        vertical-align: middle;\n",
       "    }\n",
       "\n",
       "    .dataframe tbody tr th {\n",
       "        vertical-align: top;\n",
       "    }\n",
       "\n",
       "    .dataframe thead th {\n",
       "        text-align: right;\n",
       "    }\n",
       "</style>\n",
       "<table border=\"1\" class=\"dataframe\">\n",
       "  <thead>\n",
       "    <tr style=\"text-align: right;\">\n",
       "      <th></th>\n",
       "      <th>score</th>\n",
       "      <th>Influence</th>\n",
       "      <th>Modesty</th>\n",
       "      <th>Daring</th>\n",
       "      <th>Confidence</th>\n",
       "      <th>Ruling</th>\n",
       "      <th>Responsibility</th>\n",
       "      <th>IntrovExtro</th>\n",
       "      <th>Success</th>\n",
       "      <th>Humble</th>\n",
       "      <th>...</th>\n",
       "      <th>Confidence in Success</th>\n",
       "      <th>MakeBelieve</th>\n",
       "      <th>Leadership Origin</th>\n",
       "      <th>Biography</th>\n",
       "      <th>Public Opinion</th>\n",
       "      <th>Capability</th>\n",
       "      <th>Extraordinary</th>\n",
       "      <th>elapse</th>\n",
       "      <th>gender</th>\n",
       "      <th>age</th>\n",
       "    </tr>\n",
       "  </thead>\n",
       "  <tbody>\n",
       "    <tr>\n",
       "      <th>0</th>\n",
       "      <td>18</td>\n",
       "      <td>0</td>\n",
       "      <td>0</td>\n",
       "      <td>0</td>\n",
       "      <td>1</td>\n",
       "      <td>0</td>\n",
       "      <td>0</td>\n",
       "      <td>0</td>\n",
       "      <td>0</td>\n",
       "      <td>1</td>\n",
       "      <td>...</td>\n",
       "      <td>1</td>\n",
       "      <td>0</td>\n",
       "      <td>0</td>\n",
       "      <td>0</td>\n",
       "      <td>0</td>\n",
       "      <td>1</td>\n",
       "      <td>1</td>\n",
       "      <td>211</td>\n",
       "      <td>1</td>\n",
       "      <td>50</td>\n",
       "    </tr>\n",
       "    <tr>\n",
       "      <th>1</th>\n",
       "      <td>6</td>\n",
       "      <td>0</td>\n",
       "      <td>0</td>\n",
       "      <td>0</td>\n",
       "      <td>0</td>\n",
       "      <td>1</td>\n",
       "      <td>0</td>\n",
       "      <td>0</td>\n",
       "      <td>0</td>\n",
       "      <td>0</td>\n",
       "      <td>...</td>\n",
       "      <td>0</td>\n",
       "      <td>0</td>\n",
       "      <td>0</td>\n",
       "      <td>0</td>\n",
       "      <td>0</td>\n",
       "      <td>0</td>\n",
       "      <td>0</td>\n",
       "      <td>149</td>\n",
       "      <td>1</td>\n",
       "      <td>40</td>\n",
       "    </tr>\n",
       "    <tr>\n",
       "      <th>2</th>\n",
       "      <td>27</td>\n",
       "      <td>1</td>\n",
       "      <td>0</td>\n",
       "      <td>0</td>\n",
       "      <td>0</td>\n",
       "      <td>1</td>\n",
       "      <td>1</td>\n",
       "      <td>1</td>\n",
       "      <td>1</td>\n",
       "      <td>1</td>\n",
       "      <td>...</td>\n",
       "      <td>1</td>\n",
       "      <td>1</td>\n",
       "      <td>1</td>\n",
       "      <td>1</td>\n",
       "      <td>0</td>\n",
       "      <td>1</td>\n",
       "      <td>1</td>\n",
       "      <td>168</td>\n",
       "      <td>1</td>\n",
       "      <td>28</td>\n",
       "    </tr>\n",
       "    <tr>\n",
       "      <th>3</th>\n",
       "      <td>29</td>\n",
       "      <td>1</td>\n",
       "      <td>1</td>\n",
       "      <td>0</td>\n",
       "      <td>1</td>\n",
       "      <td>1</td>\n",
       "      <td>1</td>\n",
       "      <td>1</td>\n",
       "      <td>1</td>\n",
       "      <td>0</td>\n",
       "      <td>...</td>\n",
       "      <td>1</td>\n",
       "      <td>1</td>\n",
       "      <td>1</td>\n",
       "      <td>0</td>\n",
       "      <td>0</td>\n",
       "      <td>1</td>\n",
       "      <td>0</td>\n",
       "      <td>230</td>\n",
       "      <td>1</td>\n",
       "      <td>37</td>\n",
       "    </tr>\n",
       "    <tr>\n",
       "      <th>4</th>\n",
       "      <td>19</td>\n",
       "      <td>1</td>\n",
       "      <td>0</td>\n",
       "      <td>0</td>\n",
       "      <td>0</td>\n",
       "      <td>1</td>\n",
       "      <td>1</td>\n",
       "      <td>0</td>\n",
       "      <td>1</td>\n",
       "      <td>1</td>\n",
       "      <td>...</td>\n",
       "      <td>0</td>\n",
       "      <td>0</td>\n",
       "      <td>1</td>\n",
       "      <td>0</td>\n",
       "      <td>0</td>\n",
       "      <td>0</td>\n",
       "      <td>1</td>\n",
       "      <td>361</td>\n",
       "      <td>1</td>\n",
       "      <td>27</td>\n",
       "    </tr>\n",
       "    <tr>\n",
       "      <th>...</th>\n",
       "      <td>...</td>\n",
       "      <td>...</td>\n",
       "      <td>...</td>\n",
       "      <td>...</td>\n",
       "      <td>...</td>\n",
       "      <td>...</td>\n",
       "      <td>...</td>\n",
       "      <td>...</td>\n",
       "      <td>...</td>\n",
       "      <td>...</td>\n",
       "      <td>...</td>\n",
       "      <td>...</td>\n",
       "      <td>...</td>\n",
       "      <td>...</td>\n",
       "      <td>...</td>\n",
       "      <td>...</td>\n",
       "      <td>...</td>\n",
       "      <td>...</td>\n",
       "      <td>...</td>\n",
       "      <td>...</td>\n",
       "      <td>...</td>\n",
       "    </tr>\n",
       "    <tr>\n",
       "      <th>10413</th>\n",
       "      <td>1</td>\n",
       "      <td>0</td>\n",
       "      <td>0</td>\n",
       "      <td>0</td>\n",
       "      <td>0</td>\n",
       "      <td>0</td>\n",
       "      <td>0</td>\n",
       "      <td>0</td>\n",
       "      <td>0</td>\n",
       "      <td>0</td>\n",
       "      <td>...</td>\n",
       "      <td>0</td>\n",
       "      <td>0</td>\n",
       "      <td>0</td>\n",
       "      <td>0</td>\n",
       "      <td>0</td>\n",
       "      <td>0</td>\n",
       "      <td>0</td>\n",
       "      <td>243</td>\n",
       "      <td>1</td>\n",
       "      <td>24</td>\n",
       "    </tr>\n",
       "    <tr>\n",
       "      <th>10414</th>\n",
       "      <td>10</td>\n",
       "      <td>0</td>\n",
       "      <td>0</td>\n",
       "      <td>1</td>\n",
       "      <td>0</td>\n",
       "      <td>0</td>\n",
       "      <td>0</td>\n",
       "      <td>0</td>\n",
       "      <td>1</td>\n",
       "      <td>0</td>\n",
       "      <td>...</td>\n",
       "      <td>0</td>\n",
       "      <td>0</td>\n",
       "      <td>0</td>\n",
       "      <td>1</td>\n",
       "      <td>0</td>\n",
       "      <td>0</td>\n",
       "      <td>0</td>\n",
       "      <td>197</td>\n",
       "      <td>1</td>\n",
       "      <td>39</td>\n",
       "    </tr>\n",
       "    <tr>\n",
       "      <th>10415</th>\n",
       "      <td>6</td>\n",
       "      <td>1</td>\n",
       "      <td>0</td>\n",
       "      <td>0</td>\n",
       "      <td>0</td>\n",
       "      <td>0</td>\n",
       "      <td>0</td>\n",
       "      <td>0</td>\n",
       "      <td>0</td>\n",
       "      <td>0</td>\n",
       "      <td>...</td>\n",
       "      <td>0</td>\n",
       "      <td>0</td>\n",
       "      <td>0</td>\n",
       "      <td>0</td>\n",
       "      <td>0</td>\n",
       "      <td>0</td>\n",
       "      <td>0</td>\n",
       "      <td>447</td>\n",
       "      <td>2</td>\n",
       "      <td>33</td>\n",
       "    </tr>\n",
       "    <tr>\n",
       "      <th>10416</th>\n",
       "      <td>12</td>\n",
       "      <td>0</td>\n",
       "      <td>0</td>\n",
       "      <td>1</td>\n",
       "      <td>0</td>\n",
       "      <td>0</td>\n",
       "      <td>1</td>\n",
       "      <td>0</td>\n",
       "      <td>1</td>\n",
       "      <td>0</td>\n",
       "      <td>...</td>\n",
       "      <td>1</td>\n",
       "      <td>1</td>\n",
       "      <td>0</td>\n",
       "      <td>0</td>\n",
       "      <td>0</td>\n",
       "      <td>0</td>\n",
       "      <td>0</td>\n",
       "      <td>167</td>\n",
       "      <td>1</td>\n",
       "      <td>24</td>\n",
       "    </tr>\n",
       "    <tr>\n",
       "      <th>10417</th>\n",
       "      <td>18</td>\n",
       "      <td>1</td>\n",
       "      <td>0</td>\n",
       "      <td>1</td>\n",
       "      <td>0</td>\n",
       "      <td>0</td>\n",
       "      <td>1</td>\n",
       "      <td>1</td>\n",
       "      <td>0</td>\n",
       "      <td>0</td>\n",
       "      <td>...</td>\n",
       "      <td>0</td>\n",
       "      <td>1</td>\n",
       "      <td>1</td>\n",
       "      <td>0</td>\n",
       "      <td>0</td>\n",
       "      <td>1</td>\n",
       "      <td>0</td>\n",
       "      <td>291</td>\n",
       "      <td>1</td>\n",
       "      <td>36</td>\n",
       "    </tr>\n",
       "  </tbody>\n",
       "</table>\n",
       "<p>10383 rows × 44 columns</p>\n",
       "</div>"
      ],
      "text/plain": [
       "       score  Influence  Modesty  Daring  Confidence  Ruling  Responsibility  \\\n",
       "0         18          0        0       0           1       0               0   \n",
       "1          6          0        0       0           0       1               0   \n",
       "2         27          1        0       0           0       1               1   \n",
       "3         29          1        1       0           1       1               1   \n",
       "4         19          1        0       0           0       1               1   \n",
       "...      ...        ...      ...     ...         ...     ...             ...   \n",
       "10413      1          0        0       0           0       0               0   \n",
       "10414     10          0        0       1           0       0               0   \n",
       "10415      6          1        0       0           0       0               0   \n",
       "10416     12          0        0       1           0       0               1   \n",
       "10417     18          1        0       1           0       0               1   \n",
       "\n",
       "       IntrovExtro  Success  Humble  ...  Confidence in Success  MakeBelieve  \\\n",
       "0                0        0       1  ...                      1            0   \n",
       "1                0        0       0  ...                      0            0   \n",
       "2                1        1       1  ...                      1            1   \n",
       "3                1        1       0  ...                      1            1   \n",
       "4                0        1       1  ...                      0            0   \n",
       "...            ...      ...     ...  ...                    ...          ...   \n",
       "10413            0        0       0  ...                      0            0   \n",
       "10414            0        1       0  ...                      0            0   \n",
       "10415            0        0       0  ...                      0            0   \n",
       "10416            0        1       0  ...                      1            1   \n",
       "10417            1        0       0  ...                      0            1   \n",
       "\n",
       "       Leadership Origin  Biography  Public Opinion  Capability  \\\n",
       "0                      0          0               0           1   \n",
       "1                      0          0               0           0   \n",
       "2                      1          1               0           1   \n",
       "3                      1          0               0           1   \n",
       "4                      1          0               0           0   \n",
       "...                  ...        ...             ...         ...   \n",
       "10413                  0          0               0           0   \n",
       "10414                  0          1               0           0   \n",
       "10415                  0          0               0           0   \n",
       "10416                  0          0               0           0   \n",
       "10417                  1          0               0           1   \n",
       "\n",
       "       Extraordinary  elapse  gender  age  \n",
       "0                  1     211       1   50  \n",
       "1                  0     149       1   40  \n",
       "2                  1     168       1   28  \n",
       "3                  0     230       1   37  \n",
       "4                  1     361       1   27  \n",
       "...              ...     ...     ...  ...  \n",
       "10413              0     243       1   24  \n",
       "10414              0     197       1   39  \n",
       "10415              0     447       2   33  \n",
       "10416              0     167       1   24  \n",
       "10417              0     291       1   36  \n",
       "\n",
       "[10383 rows x 44 columns]"
      ]
     },
     "metadata": {},
     "output_type": "display_data"
    },
    {
     "data": {
      "application/javascript": [
       "\n",
       "            setTimeout(function() {\n",
       "                var nbb_cell_id = 20;\n",
       "                var nbb_unformatted_code = \"data = pd.read_csv(\\\"Data/data_clean.csv\\\", index_col=[0])\\ndisplay(data)\\n\\nX = data.drop([\\\"score\\\", \\\"elapse\\\", \\\"gender\\\", \\\"age\\\"], axis=1)\\nY = data[\\\"gender\\\"]\\n\\nX_train, X_test, Y_train, Y_test = train_test_split(X, Y, test_size=0.3, random_state=1)\";\n",
       "                var nbb_formatted_code = \"data = pd.read_csv(\\\"Data/data_clean.csv\\\", index_col=[0])\\ndisplay(data)\\n\\nX = data.drop([\\\"score\\\", \\\"elapse\\\", \\\"gender\\\", \\\"age\\\"], axis=1)\\nY = data[\\\"gender\\\"]\\n\\nX_train, X_test, Y_train, Y_test = train_test_split(X, Y, test_size=0.3, random_state=1)\";\n",
       "                var nbb_cells = Jupyter.notebook.get_cells();\n",
       "                for (var i = 0; i < nbb_cells.length; ++i) {\n",
       "                    if (nbb_cells[i].input_prompt_number == nbb_cell_id) {\n",
       "                        if (nbb_cells[i].get_text() == nbb_unformatted_code) {\n",
       "                             nbb_cells[i].set_text(nbb_formatted_code);\n",
       "                        }\n",
       "                        break;\n",
       "                    }\n",
       "                }\n",
       "            }, 500);\n",
       "            "
      ],
      "text/plain": [
       "<IPython.core.display.Javascript object>"
      ]
     },
     "metadata": {},
     "output_type": "display_data"
    }
   ],
   "source": [
    "data = pd.read_csv(\"Data/data_clean.csv\", index_col=[0])\n",
    "display(data)\n",
    "\n",
    "X = data.drop([\"score\", \"elapse\", \"gender\", \"age\"], axis=1)\n",
    "Y = data[\"gender\"]\n",
    "\n",
    "X_train, X_test, Y_train, Y_test = train_test_split(X, Y, test_size=0.3, random_state=1)"
   ]
  },
  {
   "cell_type": "code",
   "execution_count": 21,
   "id": "fcc80618",
   "metadata": {},
   "outputs": [
    {
     "name": "stdout",
     "output_type": "stream",
     "text": [
      "Mean Accuracy: 0.638 (+/- 0.014)\n"
     ]
    },
    {
     "data": {
      "application/javascript": [
       "\n",
       "            setTimeout(function() {\n",
       "                var nbb_cell_id = 21;\n",
       "                var nbb_unformatted_code = \"# Building the Multinomial Logistic Model with sklearn\\nmodel = LogisticRegression(\\n    multi_class=\\\"multinomial\\\", solver=\\\"sag\\\", fit_intercept=False, max_iter=100\\n)\\n\\ncv = RepeatedStratifiedKFold(n_splits=10, n_repeats=4, random_state=1)\\nn_scores = cross_validate(\\n    model, X_train, Y_train, scoring=\\\"accuracy\\\", cv=cv, n_jobs=-1, return_estimator=True\\n)\\n\\nprint(\\n    \\\"Mean Accuracy: %.3f (+/- %.3f)\\\"\\n    % (np.mean(n_scores[\\\"test_score\\\"]), np.std(n_scores[\\\"test_score\\\"]))\\n)\\n\\n# print(np.argmin(n_scores[\\\"test_score\\\"]))\";\n",
       "                var nbb_formatted_code = \"# Building the Multinomial Logistic Model with sklearn\\nmodel = LogisticRegression(\\n    multi_class=\\\"multinomial\\\", solver=\\\"sag\\\", fit_intercept=False, max_iter=100\\n)\\n\\ncv = RepeatedStratifiedKFold(n_splits=10, n_repeats=4, random_state=1)\\nn_scores = cross_validate(\\n    model, X_train, Y_train, scoring=\\\"accuracy\\\", cv=cv, n_jobs=-1, return_estimator=True\\n)\\n\\nprint(\\n    \\\"Mean Accuracy: %.3f (+/- %.3f)\\\"\\n    % (np.mean(n_scores[\\\"test_score\\\"]), np.std(n_scores[\\\"test_score\\\"]))\\n)\\n\\n# print(np.argmin(n_scores[\\\"test_score\\\"]))\";\n",
       "                var nbb_cells = Jupyter.notebook.get_cells();\n",
       "                for (var i = 0; i < nbb_cells.length; ++i) {\n",
       "                    if (nbb_cells[i].input_prompt_number == nbb_cell_id) {\n",
       "                        if (nbb_cells[i].get_text() == nbb_unformatted_code) {\n",
       "                             nbb_cells[i].set_text(nbb_formatted_code);\n",
       "                        }\n",
       "                        break;\n",
       "                    }\n",
       "                }\n",
       "            }, 500);\n",
       "            "
      ],
      "text/plain": [
       "<IPython.core.display.Javascript object>"
      ]
     },
     "metadata": {},
     "output_type": "display_data"
    }
   ],
   "source": [
    "# Building the Multinomial Logistic Model with sklearn\n",
    "model = LogisticRegression(\n",
    "    multi_class=\"multinomial\", solver=\"sag\", fit_intercept=False, max_iter=100\n",
    ")\n",
    "\n",
    "cv = RepeatedStratifiedKFold(n_splits=10, n_repeats=4, random_state=1)\n",
    "n_scores = cross_validate(\n",
    "    model, X_train, Y_train, scoring=\"accuracy\", cv=cv, n_jobs=-1, return_estimator=True\n",
    ")\n",
    "\n",
    "print(\n",
    "    \"Mean Accuracy: %.3f (+/- %.3f)\"\n",
    "    % (np.mean(n_scores[\"test_score\"]), np.std(n_scores[\"test_score\"]))\n",
    ")\n",
    "\n",
    "# print(np.argmin(n_scores[\"test_score\"]))"
   ]
  },
  {
   "cell_type": "code",
   "execution_count": 22,
   "id": "4e057a01",
   "metadata": {},
   "outputs": [
    {
     "data": {
      "text/html": [
       "<div>\n",
       "<style scoped>\n",
       "    .dataframe tbody tr th:only-of-type {\n",
       "        vertical-align: middle;\n",
       "    }\n",
       "\n",
       "    .dataframe tbody tr th {\n",
       "        vertical-align: top;\n",
       "    }\n",
       "\n",
       "    .dataframe thead th {\n",
       "        text-align: right;\n",
       "    }\n",
       "</style>\n",
       "<table border=\"1\" class=\"dataframe\">\n",
       "  <thead>\n",
       "    <tr style=\"text-align: right;\">\n",
       "      <th></th>\n",
       "      <th>Actual</th>\n",
       "      <th>Predicted</th>\n",
       "    </tr>\n",
       "  </thead>\n",
       "  <tbody>\n",
       "    <tr>\n",
       "      <th>5157</th>\n",
       "      <td>1</td>\n",
       "      <td>1</td>\n",
       "    </tr>\n",
       "    <tr>\n",
       "      <th>7580</th>\n",
       "      <td>1</td>\n",
       "      <td>1</td>\n",
       "    </tr>\n",
       "    <tr>\n",
       "      <th>4182</th>\n",
       "      <td>2</td>\n",
       "      <td>2</td>\n",
       "    </tr>\n",
       "    <tr>\n",
       "      <th>1207</th>\n",
       "      <td>2</td>\n",
       "      <td>2</td>\n",
       "    </tr>\n",
       "    <tr>\n",
       "      <th>5333</th>\n",
       "      <td>2</td>\n",
       "      <td>2</td>\n",
       "    </tr>\n",
       "    <tr>\n",
       "      <th>...</th>\n",
       "      <td>...</td>\n",
       "      <td>...</td>\n",
       "    </tr>\n",
       "    <tr>\n",
       "      <th>555</th>\n",
       "      <td>2</td>\n",
       "      <td>1</td>\n",
       "    </tr>\n",
       "    <tr>\n",
       "      <th>8497</th>\n",
       "      <td>2</td>\n",
       "      <td>2</td>\n",
       "    </tr>\n",
       "    <tr>\n",
       "      <th>8560</th>\n",
       "      <td>1</td>\n",
       "      <td>1</td>\n",
       "    </tr>\n",
       "    <tr>\n",
       "      <th>6252</th>\n",
       "      <td>2</td>\n",
       "      <td>2</td>\n",
       "    </tr>\n",
       "    <tr>\n",
       "      <th>9231</th>\n",
       "      <td>2</td>\n",
       "      <td>2</td>\n",
       "    </tr>\n",
       "  </tbody>\n",
       "</table>\n",
       "<p>3115 rows × 2 columns</p>\n",
       "</div>"
      ],
      "text/plain": [
       "      Actual  Predicted\n",
       "5157       1          1\n",
       "7580       1          1\n",
       "4182       2          2\n",
       "1207       2          2\n",
       "5333       2          2\n",
       "...      ...        ...\n",
       "555        2          1\n",
       "8497       2          2\n",
       "8560       1          1\n",
       "6252       2          2\n",
       "9231       2          2\n",
       "\n",
       "[3115 rows x 2 columns]"
      ]
     },
     "metadata": {},
     "output_type": "display_data"
    },
    {
     "data": {
      "text/html": [
       "<div>\n",
       "<style scoped>\n",
       "    .dataframe tbody tr th:only-of-type {\n",
       "        vertical-align: middle;\n",
       "    }\n",
       "\n",
       "    .dataframe tbody tr th {\n",
       "        vertical-align: top;\n",
       "    }\n",
       "\n",
       "    .dataframe thead th {\n",
       "        text-align: right;\n",
       "    }\n",
       "</style>\n",
       "<table border=\"1\" class=\"dataframe\">\n",
       "  <thead>\n",
       "    <tr style=\"text-align: right;\">\n",
       "      <th></th>\n",
       "      <th>Questions</th>\n",
       "      <th>Male</th>\n",
       "      <th>Female</th>\n",
       "      <th>Other</th>\n",
       "    </tr>\n",
       "  </thead>\n",
       "  <tbody>\n",
       "    <tr>\n",
       "      <th>0</th>\n",
       "      <td>Influence</td>\n",
       "      <td>0.526281</td>\n",
       "      <td>0.532785</td>\n",
       "      <td>-1.059066</td>\n",
       "    </tr>\n",
       "    <tr>\n",
       "      <th>1</th>\n",
       "      <td>Modesty</td>\n",
       "      <td>0.303302</td>\n",
       "      <td>0.177708</td>\n",
       "      <td>-0.481010</td>\n",
       "    </tr>\n",
       "    <tr>\n",
       "      <th>2</th>\n",
       "      <td>Daring</td>\n",
       "      <td>0.098691</td>\n",
       "      <td>0.147412</td>\n",
       "      <td>-0.246102</td>\n",
       "    </tr>\n",
       "    <tr>\n",
       "      <th>3</th>\n",
       "      <td>Confidence</td>\n",
       "      <td>-0.451176</td>\n",
       "      <td>-0.655913</td>\n",
       "      <td>1.107089</td>\n",
       "    </tr>\n",
       "    <tr>\n",
       "      <th>4</th>\n",
       "      <td>Ruling</td>\n",
       "      <td>0.363154</td>\n",
       "      <td>-0.124768</td>\n",
       "      <td>-0.238386</td>\n",
       "    </tr>\n",
       "    <tr>\n",
       "      <th>5</th>\n",
       "      <td>Responsibility</td>\n",
       "      <td>0.181918</td>\n",
       "      <td>0.031690</td>\n",
       "      <td>-0.213608</td>\n",
       "    </tr>\n",
       "    <tr>\n",
       "      <th>6</th>\n",
       "      <td>IntrovExtro</td>\n",
       "      <td>-0.103617</td>\n",
       "      <td>0.234001</td>\n",
       "      <td>-0.130384</td>\n",
       "    </tr>\n",
       "    <tr>\n",
       "      <th>7</th>\n",
       "      <td>Success</td>\n",
       "      <td>0.261294</td>\n",
       "      <td>0.315670</td>\n",
       "      <td>-0.576963</td>\n",
       "    </tr>\n",
       "    <tr>\n",
       "      <th>8</th>\n",
       "      <td>Humble</td>\n",
       "      <td>0.400186</td>\n",
       "      <td>0.301605</td>\n",
       "      <td>-0.701791</td>\n",
       "    </tr>\n",
       "    <tr>\n",
       "      <th>9</th>\n",
       "      <td>Leadership</td>\n",
       "      <td>0.223216</td>\n",
       "      <td>0.271903</td>\n",
       "      <td>-0.495119</td>\n",
       "    </tr>\n",
       "    <tr>\n",
       "      <th>10</th>\n",
       "      <td>Assertive</td>\n",
       "      <td>0.433073</td>\n",
       "      <td>0.634339</td>\n",
       "      <td>-1.067412</td>\n",
       "    </tr>\n",
       "    <tr>\n",
       "      <th>11</th>\n",
       "      <td>Compliant</td>\n",
       "      <td>0.056048</td>\n",
       "      <td>-0.012194</td>\n",
       "      <td>-0.043854</td>\n",
       "    </tr>\n",
       "    <tr>\n",
       "      <th>12</th>\n",
       "      <td>Manipulate</td>\n",
       "      <td>0.343440</td>\n",
       "      <td>0.009167</td>\n",
       "      <td>-0.352607</td>\n",
       "    </tr>\n",
       "    <tr>\n",
       "      <th>13</th>\n",
       "      <td>Respect</td>\n",
       "      <td>0.364612</td>\n",
       "      <td>0.365681</td>\n",
       "      <td>-0.730293</td>\n",
       "    </tr>\n",
       "    <tr>\n",
       "      <th>14</th>\n",
       "      <td>ShowOffBody</td>\n",
       "      <td>0.022393</td>\n",
       "      <td>0.298536</td>\n",
       "      <td>-0.320929</td>\n",
       "    </tr>\n",
       "    <tr>\n",
       "      <th>15</th>\n",
       "      <td>AnalyzePeople</td>\n",
       "      <td>0.426712</td>\n",
       "      <td>0.632072</td>\n",
       "      <td>-1.058784</td>\n",
       "    </tr>\n",
       "    <tr>\n",
       "      <th>16</th>\n",
       "      <td>Decision Responsibility</td>\n",
       "      <td>0.638707</td>\n",
       "      <td>0.545361</td>\n",
       "      <td>-1.184068</td>\n",
       "    </tr>\n",
       "    <tr>\n",
       "      <th>17</th>\n",
       "      <td>HappyvMeaning</td>\n",
       "      <td>0.284153</td>\n",
       "      <td>-0.046918</td>\n",
       "      <td>-0.237234</td>\n",
       "    </tr>\n",
       "    <tr>\n",
       "      <th>18</th>\n",
       "      <td>BodyConfidence</td>\n",
       "      <td>0.005381</td>\n",
       "      <td>-0.115966</td>\n",
       "      <td>0.110585</td>\n",
       "    </tr>\n",
       "    <tr>\n",
       "      <th>19</th>\n",
       "      <td>ShowOff</td>\n",
       "      <td>0.191222</td>\n",
       "      <td>-0.164435</td>\n",
       "      <td>-0.026787</td>\n",
       "    </tr>\n",
       "    <tr>\n",
       "      <th>20</th>\n",
       "      <td>KnowWhattoDo</td>\n",
       "      <td>0.178763</td>\n",
       "      <td>-0.097169</td>\n",
       "      <td>-0.081594</td>\n",
       "    </tr>\n",
       "    <tr>\n",
       "      <th>21</th>\n",
       "      <td>Dependence</td>\n",
       "      <td>0.346535</td>\n",
       "      <td>0.633272</td>\n",
       "      <td>-0.979807</td>\n",
       "    </tr>\n",
       "    <tr>\n",
       "      <th>22</th>\n",
       "      <td>Storytelling</td>\n",
       "      <td>-0.037611</td>\n",
       "      <td>-0.180157</td>\n",
       "      <td>0.217768</td>\n",
       "    </tr>\n",
       "    <tr>\n",
       "      <th>23</th>\n",
       "      <td>Expectations</td>\n",
       "      <td>0.316180</td>\n",
       "      <td>0.405824</td>\n",
       "      <td>-0.722004</td>\n",
       "    </tr>\n",
       "    <tr>\n",
       "      <th>24</th>\n",
       "      <td>Satisfaction</td>\n",
       "      <td>0.019943</td>\n",
       "      <td>0.066022</td>\n",
       "      <td>-0.085965</td>\n",
       "    </tr>\n",
       "    <tr>\n",
       "      <th>25</th>\n",
       "      <td>Compliments</td>\n",
       "      <td>0.457619</td>\n",
       "      <td>0.673729</td>\n",
       "      <td>-1.131348</td>\n",
       "    </tr>\n",
       "    <tr>\n",
       "      <th>26</th>\n",
       "      <td>Power</td>\n",
       "      <td>-0.320359</td>\n",
       "      <td>-0.389202</td>\n",
       "      <td>0.709561</td>\n",
       "    </tr>\n",
       "    <tr>\n",
       "      <th>27</th>\n",
       "      <td>Trendy</td>\n",
       "      <td>-0.185261</td>\n",
       "      <td>0.373062</td>\n",
       "      <td>-0.187801</td>\n",
       "    </tr>\n",
       "    <tr>\n",
       "      <th>28</th>\n",
       "      <td>Mirror</td>\n",
       "      <td>0.341669</td>\n",
       "      <td>0.458892</td>\n",
       "      <td>-0.800562</td>\n",
       "    </tr>\n",
       "    <tr>\n",
       "      <th>29</th>\n",
       "      <td>CenterofAttention</td>\n",
       "      <td>-0.135725</td>\n",
       "      <td>-0.408130</td>\n",
       "      <td>0.543855</td>\n",
       "    </tr>\n",
       "    <tr>\n",
       "      <th>30</th>\n",
       "      <td>Freedom</td>\n",
       "      <td>0.115329</td>\n",
       "      <td>0.030384</td>\n",
       "      <td>-0.145713</td>\n",
       "    </tr>\n",
       "    <tr>\n",
       "      <th>31</th>\n",
       "      <td>Authority</td>\n",
       "      <td>-0.122980</td>\n",
       "      <td>-0.069360</td>\n",
       "      <td>0.192340</td>\n",
       "    </tr>\n",
       "    <tr>\n",
       "      <th>32</th>\n",
       "      <td>LeaderPreference</td>\n",
       "      <td>0.673231</td>\n",
       "      <td>0.305697</td>\n",
       "      <td>-0.978928</td>\n",
       "    </tr>\n",
       "    <tr>\n",
       "      <th>33</th>\n",
       "      <td>Confidence in Success</td>\n",
       "      <td>0.054535</td>\n",
       "      <td>0.168791</td>\n",
       "      <td>-0.223325</td>\n",
       "    </tr>\n",
       "    <tr>\n",
       "      <th>34</th>\n",
       "      <td>MakeBelieve</td>\n",
       "      <td>-0.196079</td>\n",
       "      <td>-0.220811</td>\n",
       "      <td>0.416890</td>\n",
       "    </tr>\n",
       "    <tr>\n",
       "      <th>35</th>\n",
       "      <td>Leadership Origin</td>\n",
       "      <td>-0.761807</td>\n",
       "      <td>-0.348714</td>\n",
       "      <td>1.110521</td>\n",
       "    </tr>\n",
       "    <tr>\n",
       "      <th>36</th>\n",
       "      <td>Biography</td>\n",
       "      <td>0.173083</td>\n",
       "      <td>-0.048973</td>\n",
       "      <td>-0.124111</td>\n",
       "    </tr>\n",
       "    <tr>\n",
       "      <th>37</th>\n",
       "      <td>Public Opinion</td>\n",
       "      <td>-0.552787</td>\n",
       "      <td>0.270604</td>\n",
       "      <td>0.282183</td>\n",
       "    </tr>\n",
       "    <tr>\n",
       "      <th>38</th>\n",
       "      <td>Capability</td>\n",
       "      <td>0.318120</td>\n",
       "      <td>-0.086492</td>\n",
       "      <td>-0.231628</td>\n",
       "    </tr>\n",
       "    <tr>\n",
       "      <th>39</th>\n",
       "      <td>Extraordinary</td>\n",
       "      <td>-0.095308</td>\n",
       "      <td>-0.242524</td>\n",
       "      <td>0.337832</td>\n",
       "    </tr>\n",
       "  </tbody>\n",
       "</table>\n",
       "</div>"
      ],
      "text/plain": [
       "                  Questions      Male    Female     Other\n",
       "0                 Influence  0.526281  0.532785 -1.059066\n",
       "1                   Modesty  0.303302  0.177708 -0.481010\n",
       "2                    Daring  0.098691  0.147412 -0.246102\n",
       "3                Confidence -0.451176 -0.655913  1.107089\n",
       "4                    Ruling  0.363154 -0.124768 -0.238386\n",
       "5            Responsibility  0.181918  0.031690 -0.213608\n",
       "6               IntrovExtro -0.103617  0.234001 -0.130384\n",
       "7                   Success  0.261294  0.315670 -0.576963\n",
       "8                    Humble  0.400186  0.301605 -0.701791\n",
       "9                Leadership  0.223216  0.271903 -0.495119\n",
       "10                Assertive  0.433073  0.634339 -1.067412\n",
       "11                Compliant  0.056048 -0.012194 -0.043854\n",
       "12               Manipulate  0.343440  0.009167 -0.352607\n",
       "13                  Respect  0.364612  0.365681 -0.730293\n",
       "14              ShowOffBody  0.022393  0.298536 -0.320929\n",
       "15            AnalyzePeople  0.426712  0.632072 -1.058784\n",
       "16  Decision Responsibility  0.638707  0.545361 -1.184068\n",
       "17            HappyvMeaning  0.284153 -0.046918 -0.237234\n",
       "18           BodyConfidence  0.005381 -0.115966  0.110585\n",
       "19                  ShowOff  0.191222 -0.164435 -0.026787\n",
       "20             KnowWhattoDo  0.178763 -0.097169 -0.081594\n",
       "21               Dependence  0.346535  0.633272 -0.979807\n",
       "22             Storytelling -0.037611 -0.180157  0.217768\n",
       "23             Expectations  0.316180  0.405824 -0.722004\n",
       "24             Satisfaction  0.019943  0.066022 -0.085965\n",
       "25              Compliments  0.457619  0.673729 -1.131348\n",
       "26                    Power -0.320359 -0.389202  0.709561\n",
       "27                   Trendy -0.185261  0.373062 -0.187801\n",
       "28                   Mirror  0.341669  0.458892 -0.800562\n",
       "29        CenterofAttention -0.135725 -0.408130  0.543855\n",
       "30                  Freedom  0.115329  0.030384 -0.145713\n",
       "31                Authority -0.122980 -0.069360  0.192340\n",
       "32         LeaderPreference  0.673231  0.305697 -0.978928\n",
       "33    Confidence in Success  0.054535  0.168791 -0.223325\n",
       "34              MakeBelieve -0.196079 -0.220811  0.416890\n",
       "35        Leadership Origin -0.761807 -0.348714  1.110521\n",
       "36                Biography  0.173083 -0.048973 -0.124111\n",
       "37           Public Opinion -0.552787  0.270604  0.282183\n",
       "38               Capability  0.318120 -0.086492 -0.231628\n",
       "39            Extraordinary -0.095308 -0.242524  0.337832"
      ]
     },
     "metadata": {},
     "output_type": "display_data"
    },
    {
     "data": {
      "application/javascript": [
       "\n",
       "            setTimeout(function() {\n",
       "                var nbb_cell_id = 22;\n",
       "                var nbb_unformatted_code = \"# for model in n_scores[\\\"estimator\\\"]:\\n#     print(model.coef_)\\n\\n# n_scores[\\\"estimator\\\"].coef_\\n\\nmodel.fit(X_train, Y_train)\\n\\n# Create dataframe for coefficients\\nmodel_coef = pd.DataFrame(model.coef_.T)\\nmodel_coef.insert(0, \\\"Questions\\\", X.columns)\\nmodel_coef.columns = [\\\"Questions\\\", \\\"Male\\\", \\\"Female\\\", \\\"Other\\\"]\\nY_pred = model.predict(X_test)\\n\\n# Create dataframe to assess predictions\\nmodel_eval = pd.DataFrame({\\\"Actual\\\": Y_test, \\\"Predicted\\\": Y_pred})\\ndisplay(model_eval)\\ndisplay(model_coef)\";\n",
       "                var nbb_formatted_code = \"# for model in n_scores[\\\"estimator\\\"]:\\n#     print(model.coef_)\\n\\n# n_scores[\\\"estimator\\\"].coef_\\n\\nmodel.fit(X_train, Y_train)\\n\\n# Create dataframe for coefficients\\nmodel_coef = pd.DataFrame(model.coef_.T)\\nmodel_coef.insert(0, \\\"Questions\\\", X.columns)\\nmodel_coef.columns = [\\\"Questions\\\", \\\"Male\\\", \\\"Female\\\", \\\"Other\\\"]\\nY_pred = model.predict(X_test)\\n\\n# Create dataframe to assess predictions\\nmodel_eval = pd.DataFrame({\\\"Actual\\\": Y_test, \\\"Predicted\\\": Y_pred})\\ndisplay(model_eval)\\ndisplay(model_coef)\";\n",
       "                var nbb_cells = Jupyter.notebook.get_cells();\n",
       "                for (var i = 0; i < nbb_cells.length; ++i) {\n",
       "                    if (nbb_cells[i].input_prompt_number == nbb_cell_id) {\n",
       "                        if (nbb_cells[i].get_text() == nbb_unformatted_code) {\n",
       "                             nbb_cells[i].set_text(nbb_formatted_code);\n",
       "                        }\n",
       "                        break;\n",
       "                    }\n",
       "                }\n",
       "            }, 500);\n",
       "            "
      ],
      "text/plain": [
       "<IPython.core.display.Javascript object>"
      ]
     },
     "metadata": {},
     "output_type": "display_data"
    }
   ],
   "source": [
    "# for model in n_scores[\"estimator\"]:\n",
    "#     print(model.coef_)\n",
    "\n",
    "# n_scores[\"estimator\"].coef_\n",
    "\n",
    "model.fit(X_train, Y_train)\n",
    "\n",
    "# Create dataframe for coefficients\n",
    "model_coef = pd.DataFrame(model.coef_.T)\n",
    "model_coef.insert(0, \"Questions\", X.columns)\n",
    "model_coef.columns = [\"Questions\", \"Male\", \"Female\", \"Other\"]\n",
    "Y_pred = model.predict(X_test)\n",
    "\n",
    "# Create dataframe to assess predictions\n",
    "model_eval = pd.DataFrame({\"Actual\": Y_test, \"Predicted\": Y_pred})\n",
    "display(model_eval)\n",
    "display(model_coef)"
   ]
  },
  {
   "cell_type": "code",
   "execution_count": 23,
   "id": "b8788691",
   "metadata": {
    "scrolled": false
   },
   "outputs": [
    {
     "data": {
      "application/javascript": [
       "\n",
       "            setTimeout(function() {\n",
       "                var nbb_cell_id = 23;\n",
       "                var nbb_unformatted_code = \"# Using Statsmodels.api\\n# logit_model = sm.MNLogit(Y, X)\\n# result = logit_model.fit()\\n# print(result.summary2())\";\n",
       "                var nbb_formatted_code = \"# Using Statsmodels.api\\n# logit_model = sm.MNLogit(Y, X)\\n# result = logit_model.fit()\\n# print(result.summary2())\";\n",
       "                var nbb_cells = Jupyter.notebook.get_cells();\n",
       "                for (var i = 0; i < nbb_cells.length; ++i) {\n",
       "                    if (nbb_cells[i].input_prompt_number == nbb_cell_id) {\n",
       "                        if (nbb_cells[i].get_text() == nbb_unformatted_code) {\n",
       "                             nbb_cells[i].set_text(nbb_formatted_code);\n",
       "                        }\n",
       "                        break;\n",
       "                    }\n",
       "                }\n",
       "            }, 500);\n",
       "            "
      ],
      "text/plain": [
       "<IPython.core.display.Javascript object>"
      ]
     },
     "metadata": {},
     "output_type": "display_data"
    }
   ],
   "source": [
    "# Using Statsmodels.api\n",
    "# logit_model = sm.MNLogit(Y, X)\n",
    "# result = logit_model.fit()\n",
    "# print(result.summary2())"
   ]
  },
  {
   "cell_type": "code",
   "execution_count": 24,
   "id": "3e074bf5",
   "metadata": {},
   "outputs": [
    {
     "data": {
      "text/plain": [
       "array([[1347,  413,    3],\n",
       "       [ 697,  639,    3],\n",
       "       [  11,    2,    0]], dtype=int64)"
      ]
     },
     "metadata": {},
     "output_type": "display_data"
    },
    {
     "data": {
      "application/vnd.plotly.v1+json": {
       "config": {
        "plotlyServerURL": "https://plot.ly"
       },
       "data": [
        {
         "coloraxis": "coloraxis",
         "hovertemplate": "Predicted Values: %{x}<br>True Values: %{y}<br>Percentage Classified: %{z}<extra></extra>",
         "name": "0",
         "type": "heatmap",
         "x": [
          "Male",
          "Female",
          "Other"
         ],
         "xaxis": "x",
         "y": [
          "Male",
          "Female",
          "Other"
         ],
         "yaxis": "y",
         "z": [
          [
           43.242,
           13.258,
           0.096
          ],
          [
           22.376,
           20.514,
           0.096
          ],
          [
           0.353,
           0.064,
           0
          ]
         ]
        }
       ],
       "layout": {
        "coloraxis": {
         "colorbar": {
          "title": {
           "text": "Percentage Classified"
          }
         },
         "colorscale": [
          [
           0,
           "#0d0887"
          ],
          [
           0.1111111111111111,
           "#46039f"
          ],
          [
           0.2222222222222222,
           "#7201a8"
          ],
          [
           0.3333333333333333,
           "#9c179e"
          ],
          [
           0.4444444444444444,
           "#bd3786"
          ],
          [
           0.5555555555555556,
           "#d8576b"
          ],
          [
           0.6666666666666666,
           "#ed7953"
          ],
          [
           0.7777777777777778,
           "#fb9f3a"
          ],
          [
           0.8888888888888888,
           "#fdca26"
          ],
          [
           1,
           "#f0f921"
          ]
         ]
        },
        "margin": {
         "t": 60
        },
        "template": {
         "data": {
          "bar": [
           {
            "error_x": {
             "color": "#2a3f5f"
            },
            "error_y": {
             "color": "#2a3f5f"
            },
            "marker": {
             "line": {
              "color": "#E5ECF6",
              "width": 0.5
             },
             "pattern": {
              "fillmode": "overlay",
              "size": 10,
              "solidity": 0.2
             }
            },
            "type": "bar"
           }
          ],
          "barpolar": [
           {
            "marker": {
             "line": {
              "color": "#E5ECF6",
              "width": 0.5
             },
             "pattern": {
              "fillmode": "overlay",
              "size": 10,
              "solidity": 0.2
             }
            },
            "type": "barpolar"
           }
          ],
          "carpet": [
           {
            "aaxis": {
             "endlinecolor": "#2a3f5f",
             "gridcolor": "white",
             "linecolor": "white",
             "minorgridcolor": "white",
             "startlinecolor": "#2a3f5f"
            },
            "baxis": {
             "endlinecolor": "#2a3f5f",
             "gridcolor": "white",
             "linecolor": "white",
             "minorgridcolor": "white",
             "startlinecolor": "#2a3f5f"
            },
            "type": "carpet"
           }
          ],
          "choropleth": [
           {
            "colorbar": {
             "outlinewidth": 0,
             "ticks": ""
            },
            "type": "choropleth"
           }
          ],
          "contour": [
           {
            "colorbar": {
             "outlinewidth": 0,
             "ticks": ""
            },
            "colorscale": [
             [
              0,
              "#0d0887"
             ],
             [
              0.1111111111111111,
              "#46039f"
             ],
             [
              0.2222222222222222,
              "#7201a8"
             ],
             [
              0.3333333333333333,
              "#9c179e"
             ],
             [
              0.4444444444444444,
              "#bd3786"
             ],
             [
              0.5555555555555556,
              "#d8576b"
             ],
             [
              0.6666666666666666,
              "#ed7953"
             ],
             [
              0.7777777777777778,
              "#fb9f3a"
             ],
             [
              0.8888888888888888,
              "#fdca26"
             ],
             [
              1,
              "#f0f921"
             ]
            ],
            "type": "contour"
           }
          ],
          "contourcarpet": [
           {
            "colorbar": {
             "outlinewidth": 0,
             "ticks": ""
            },
            "type": "contourcarpet"
           }
          ],
          "heatmap": [
           {
            "colorbar": {
             "outlinewidth": 0,
             "ticks": ""
            },
            "colorscale": [
             [
              0,
              "#0d0887"
             ],
             [
              0.1111111111111111,
              "#46039f"
             ],
             [
              0.2222222222222222,
              "#7201a8"
             ],
             [
              0.3333333333333333,
              "#9c179e"
             ],
             [
              0.4444444444444444,
              "#bd3786"
             ],
             [
              0.5555555555555556,
              "#d8576b"
             ],
             [
              0.6666666666666666,
              "#ed7953"
             ],
             [
              0.7777777777777778,
              "#fb9f3a"
             ],
             [
              0.8888888888888888,
              "#fdca26"
             ],
             [
              1,
              "#f0f921"
             ]
            ],
            "type": "heatmap"
           }
          ],
          "heatmapgl": [
           {
            "colorbar": {
             "outlinewidth": 0,
             "ticks": ""
            },
            "colorscale": [
             [
              0,
              "#0d0887"
             ],
             [
              0.1111111111111111,
              "#46039f"
             ],
             [
              0.2222222222222222,
              "#7201a8"
             ],
             [
              0.3333333333333333,
              "#9c179e"
             ],
             [
              0.4444444444444444,
              "#bd3786"
             ],
             [
              0.5555555555555556,
              "#d8576b"
             ],
             [
              0.6666666666666666,
              "#ed7953"
             ],
             [
              0.7777777777777778,
              "#fb9f3a"
             ],
             [
              0.8888888888888888,
              "#fdca26"
             ],
             [
              1,
              "#f0f921"
             ]
            ],
            "type": "heatmapgl"
           }
          ],
          "histogram": [
           {
            "marker": {
             "pattern": {
              "fillmode": "overlay",
              "size": 10,
              "solidity": 0.2
             }
            },
            "type": "histogram"
           }
          ],
          "histogram2d": [
           {
            "colorbar": {
             "outlinewidth": 0,
             "ticks": ""
            },
            "colorscale": [
             [
              0,
              "#0d0887"
             ],
             [
              0.1111111111111111,
              "#46039f"
             ],
             [
              0.2222222222222222,
              "#7201a8"
             ],
             [
              0.3333333333333333,
              "#9c179e"
             ],
             [
              0.4444444444444444,
              "#bd3786"
             ],
             [
              0.5555555555555556,
              "#d8576b"
             ],
             [
              0.6666666666666666,
              "#ed7953"
             ],
             [
              0.7777777777777778,
              "#fb9f3a"
             ],
             [
              0.8888888888888888,
              "#fdca26"
             ],
             [
              1,
              "#f0f921"
             ]
            ],
            "type": "histogram2d"
           }
          ],
          "histogram2dcontour": [
           {
            "colorbar": {
             "outlinewidth": 0,
             "ticks": ""
            },
            "colorscale": [
             [
              0,
              "#0d0887"
             ],
             [
              0.1111111111111111,
              "#46039f"
             ],
             [
              0.2222222222222222,
              "#7201a8"
             ],
             [
              0.3333333333333333,
              "#9c179e"
             ],
             [
              0.4444444444444444,
              "#bd3786"
             ],
             [
              0.5555555555555556,
              "#d8576b"
             ],
             [
              0.6666666666666666,
              "#ed7953"
             ],
             [
              0.7777777777777778,
              "#fb9f3a"
             ],
             [
              0.8888888888888888,
              "#fdca26"
             ],
             [
              1,
              "#f0f921"
             ]
            ],
            "type": "histogram2dcontour"
           }
          ],
          "mesh3d": [
           {
            "colorbar": {
             "outlinewidth": 0,
             "ticks": ""
            },
            "type": "mesh3d"
           }
          ],
          "parcoords": [
           {
            "line": {
             "colorbar": {
              "outlinewidth": 0,
              "ticks": ""
             }
            },
            "type": "parcoords"
           }
          ],
          "pie": [
           {
            "automargin": true,
            "type": "pie"
           }
          ],
          "scatter": [
           {
            "marker": {
             "colorbar": {
              "outlinewidth": 0,
              "ticks": ""
             }
            },
            "type": "scatter"
           }
          ],
          "scatter3d": [
           {
            "line": {
             "colorbar": {
              "outlinewidth": 0,
              "ticks": ""
             }
            },
            "marker": {
             "colorbar": {
              "outlinewidth": 0,
              "ticks": ""
             }
            },
            "type": "scatter3d"
           }
          ],
          "scattercarpet": [
           {
            "marker": {
             "colorbar": {
              "outlinewidth": 0,
              "ticks": ""
             }
            },
            "type": "scattercarpet"
           }
          ],
          "scattergeo": [
           {
            "marker": {
             "colorbar": {
              "outlinewidth": 0,
              "ticks": ""
             }
            },
            "type": "scattergeo"
           }
          ],
          "scattergl": [
           {
            "marker": {
             "colorbar": {
              "outlinewidth": 0,
              "ticks": ""
             }
            },
            "type": "scattergl"
           }
          ],
          "scattermapbox": [
           {
            "marker": {
             "colorbar": {
              "outlinewidth": 0,
              "ticks": ""
             }
            },
            "type": "scattermapbox"
           }
          ],
          "scatterpolar": [
           {
            "marker": {
             "colorbar": {
              "outlinewidth": 0,
              "ticks": ""
             }
            },
            "type": "scatterpolar"
           }
          ],
          "scatterpolargl": [
           {
            "marker": {
             "colorbar": {
              "outlinewidth": 0,
              "ticks": ""
             }
            },
            "type": "scatterpolargl"
           }
          ],
          "scatterternary": [
           {
            "marker": {
             "colorbar": {
              "outlinewidth": 0,
              "ticks": ""
             }
            },
            "type": "scatterternary"
           }
          ],
          "surface": [
           {
            "colorbar": {
             "outlinewidth": 0,
             "ticks": ""
            },
            "colorscale": [
             [
              0,
              "#0d0887"
             ],
             [
              0.1111111111111111,
              "#46039f"
             ],
             [
              0.2222222222222222,
              "#7201a8"
             ],
             [
              0.3333333333333333,
              "#9c179e"
             ],
             [
              0.4444444444444444,
              "#bd3786"
             ],
             [
              0.5555555555555556,
              "#d8576b"
             ],
             [
              0.6666666666666666,
              "#ed7953"
             ],
             [
              0.7777777777777778,
              "#fb9f3a"
             ],
             [
              0.8888888888888888,
              "#fdca26"
             ],
             [
              1,
              "#f0f921"
             ]
            ],
            "type": "surface"
           }
          ],
          "table": [
           {
            "cells": {
             "fill": {
              "color": "#EBF0F8"
             },
             "line": {
              "color": "white"
             }
            },
            "header": {
             "fill": {
              "color": "#C8D4E3"
             },
             "line": {
              "color": "white"
             }
            },
            "type": "table"
           }
          ]
         },
         "layout": {
          "annotationdefaults": {
           "arrowcolor": "#2a3f5f",
           "arrowhead": 0,
           "arrowwidth": 1
          },
          "autotypenumbers": "strict",
          "coloraxis": {
           "colorbar": {
            "outlinewidth": 0,
            "ticks": ""
           }
          },
          "colorscale": {
           "diverging": [
            [
             0,
             "#8e0152"
            ],
            [
             0.1,
             "#c51b7d"
            ],
            [
             0.2,
             "#de77ae"
            ],
            [
             0.3,
             "#f1b6da"
            ],
            [
             0.4,
             "#fde0ef"
            ],
            [
             0.5,
             "#f7f7f7"
            ],
            [
             0.6,
             "#e6f5d0"
            ],
            [
             0.7,
             "#b8e186"
            ],
            [
             0.8,
             "#7fbc41"
            ],
            [
             0.9,
             "#4d9221"
            ],
            [
             1,
             "#276419"
            ]
           ],
           "sequential": [
            [
             0,
             "#0d0887"
            ],
            [
             0.1111111111111111,
             "#46039f"
            ],
            [
             0.2222222222222222,
             "#7201a8"
            ],
            [
             0.3333333333333333,
             "#9c179e"
            ],
            [
             0.4444444444444444,
             "#bd3786"
            ],
            [
             0.5555555555555556,
             "#d8576b"
            ],
            [
             0.6666666666666666,
             "#ed7953"
            ],
            [
             0.7777777777777778,
             "#fb9f3a"
            ],
            [
             0.8888888888888888,
             "#fdca26"
            ],
            [
             1,
             "#f0f921"
            ]
           ],
           "sequentialminus": [
            [
             0,
             "#0d0887"
            ],
            [
             0.1111111111111111,
             "#46039f"
            ],
            [
             0.2222222222222222,
             "#7201a8"
            ],
            [
             0.3333333333333333,
             "#9c179e"
            ],
            [
             0.4444444444444444,
             "#bd3786"
            ],
            [
             0.5555555555555556,
             "#d8576b"
            ],
            [
             0.6666666666666666,
             "#ed7953"
            ],
            [
             0.7777777777777778,
             "#fb9f3a"
            ],
            [
             0.8888888888888888,
             "#fdca26"
            ],
            [
             1,
             "#f0f921"
            ]
           ]
          },
          "colorway": [
           "#636efa",
           "#EF553B",
           "#00cc96",
           "#ab63fa",
           "#FFA15A",
           "#19d3f3",
           "#FF6692",
           "#B6E880",
           "#FF97FF",
           "#FECB52"
          ],
          "font": {
           "color": "#2a3f5f"
          },
          "geo": {
           "bgcolor": "white",
           "lakecolor": "white",
           "landcolor": "#E5ECF6",
           "showlakes": true,
           "showland": true,
           "subunitcolor": "white"
          },
          "hoverlabel": {
           "align": "left"
          },
          "hovermode": "closest",
          "mapbox": {
           "style": "light"
          },
          "paper_bgcolor": "white",
          "plot_bgcolor": "#E5ECF6",
          "polar": {
           "angularaxis": {
            "gridcolor": "white",
            "linecolor": "white",
            "ticks": ""
           },
           "bgcolor": "#E5ECF6",
           "radialaxis": {
            "gridcolor": "white",
            "linecolor": "white",
            "ticks": ""
           }
          },
          "scene": {
           "xaxis": {
            "backgroundcolor": "#E5ECF6",
            "gridcolor": "white",
            "gridwidth": 2,
            "linecolor": "white",
            "showbackground": true,
            "ticks": "",
            "zerolinecolor": "white"
           },
           "yaxis": {
            "backgroundcolor": "#E5ECF6",
            "gridcolor": "white",
            "gridwidth": 2,
            "linecolor": "white",
            "showbackground": true,
            "ticks": "",
            "zerolinecolor": "white"
           },
           "zaxis": {
            "backgroundcolor": "#E5ECF6",
            "gridcolor": "white",
            "gridwidth": 2,
            "linecolor": "white",
            "showbackground": true,
            "ticks": "",
            "zerolinecolor": "white"
           }
          },
          "shapedefaults": {
           "line": {
            "color": "#2a3f5f"
           }
          },
          "ternary": {
           "aaxis": {
            "gridcolor": "white",
            "linecolor": "white",
            "ticks": ""
           },
           "baxis": {
            "gridcolor": "white",
            "linecolor": "white",
            "ticks": ""
           },
           "bgcolor": "#E5ECF6",
           "caxis": {
            "gridcolor": "white",
            "linecolor": "white",
            "ticks": ""
           }
          },
          "title": {
           "x": 0.05
          },
          "xaxis": {
           "automargin": true,
           "gridcolor": "white",
           "linecolor": "white",
           "ticks": "",
           "title": {
            "standoff": 15
           },
           "zerolinecolor": "white",
           "zerolinewidth": 2
          },
          "yaxis": {
           "automargin": true,
           "gridcolor": "white",
           "linecolor": "white",
           "ticks": "",
           "title": {
            "standoff": 15
           },
           "zerolinecolor": "white",
           "zerolinewidth": 2
          }
         }
        },
        "xaxis": {
         "anchor": "y",
         "constrain": "domain",
         "domain": [
          0,
          1
         ],
         "scaleanchor": "y",
         "side": "top",
         "title": {
          "text": "Predicted Values"
         }
        },
        "yaxis": {
         "anchor": "x",
         "autorange": "reversed",
         "constrain": "domain",
         "domain": [
          0,
          1
         ],
         "title": {
          "text": "True Values"
         }
        }
       }
      },
      "text/html": [
       "<div>                            <div id=\"9d761785-986a-4450-a3cd-a01267cafd8f\" class=\"plotly-graph-div\" style=\"height:525px; width:100%;\"></div>            <script type=\"text/javascript\">                require([\"plotly\"], function(Plotly) {                    window.PLOTLYENV=window.PLOTLYENV || {};                                    if (document.getElementById(\"9d761785-986a-4450-a3cd-a01267cafd8f\")) {                    Plotly.newPlot(                        \"9d761785-986a-4450-a3cd-a01267cafd8f\",                        [{\"coloraxis\":\"coloraxis\",\"name\":\"0\",\"x\":[\"Male\",\"Female\",\"Other\"],\"y\":[\"Male\",\"Female\",\"Other\"],\"z\":[[43.242,13.258,0.096],[22.376,20.514,0.096],[0.353,0.064,0.0]],\"type\":\"heatmap\",\"xaxis\":\"x\",\"yaxis\":\"y\",\"hovertemplate\":\"Predicted Values: %{x}<br>True Values: %{y}<br>Percentage Classified: %{z}<extra></extra>\"}],                        {\"template\":{\"data\":{\"bar\":[{\"error_x\":{\"color\":\"#2a3f5f\"},\"error_y\":{\"color\":\"#2a3f5f\"},\"marker\":{\"line\":{\"color\":\"#E5ECF6\",\"width\":0.5},\"pattern\":{\"fillmode\":\"overlay\",\"size\":10,\"solidity\":0.2}},\"type\":\"bar\"}],\"barpolar\":[{\"marker\":{\"line\":{\"color\":\"#E5ECF6\",\"width\":0.5},\"pattern\":{\"fillmode\":\"overlay\",\"size\":10,\"solidity\":0.2}},\"type\":\"barpolar\"}],\"carpet\":[{\"aaxis\":{\"endlinecolor\":\"#2a3f5f\",\"gridcolor\":\"white\",\"linecolor\":\"white\",\"minorgridcolor\":\"white\",\"startlinecolor\":\"#2a3f5f\"},\"baxis\":{\"endlinecolor\":\"#2a3f5f\",\"gridcolor\":\"white\",\"linecolor\":\"white\",\"minorgridcolor\":\"white\",\"startlinecolor\":\"#2a3f5f\"},\"type\":\"carpet\"}],\"choropleth\":[{\"colorbar\":{\"outlinewidth\":0,\"ticks\":\"\"},\"type\":\"choropleth\"}],\"contour\":[{\"colorbar\":{\"outlinewidth\":0,\"ticks\":\"\"},\"colorscale\":[[0.0,\"#0d0887\"],[0.1111111111111111,\"#46039f\"],[0.2222222222222222,\"#7201a8\"],[0.3333333333333333,\"#9c179e\"],[0.4444444444444444,\"#bd3786\"],[0.5555555555555556,\"#d8576b\"],[0.6666666666666666,\"#ed7953\"],[0.7777777777777778,\"#fb9f3a\"],[0.8888888888888888,\"#fdca26\"],[1.0,\"#f0f921\"]],\"type\":\"contour\"}],\"contourcarpet\":[{\"colorbar\":{\"outlinewidth\":0,\"ticks\":\"\"},\"type\":\"contourcarpet\"}],\"heatmap\":[{\"colorbar\":{\"outlinewidth\":0,\"ticks\":\"\"},\"colorscale\":[[0.0,\"#0d0887\"],[0.1111111111111111,\"#46039f\"],[0.2222222222222222,\"#7201a8\"],[0.3333333333333333,\"#9c179e\"],[0.4444444444444444,\"#bd3786\"],[0.5555555555555556,\"#d8576b\"],[0.6666666666666666,\"#ed7953\"],[0.7777777777777778,\"#fb9f3a\"],[0.8888888888888888,\"#fdca26\"],[1.0,\"#f0f921\"]],\"type\":\"heatmap\"}],\"heatmapgl\":[{\"colorbar\":{\"outlinewidth\":0,\"ticks\":\"\"},\"colorscale\":[[0.0,\"#0d0887\"],[0.1111111111111111,\"#46039f\"],[0.2222222222222222,\"#7201a8\"],[0.3333333333333333,\"#9c179e\"],[0.4444444444444444,\"#bd3786\"],[0.5555555555555556,\"#d8576b\"],[0.6666666666666666,\"#ed7953\"],[0.7777777777777778,\"#fb9f3a\"],[0.8888888888888888,\"#fdca26\"],[1.0,\"#f0f921\"]],\"type\":\"heatmapgl\"}],\"histogram\":[{\"marker\":{\"pattern\":{\"fillmode\":\"overlay\",\"size\":10,\"solidity\":0.2}},\"type\":\"histogram\"}],\"histogram2d\":[{\"colorbar\":{\"outlinewidth\":0,\"ticks\":\"\"},\"colorscale\":[[0.0,\"#0d0887\"],[0.1111111111111111,\"#46039f\"],[0.2222222222222222,\"#7201a8\"],[0.3333333333333333,\"#9c179e\"],[0.4444444444444444,\"#bd3786\"],[0.5555555555555556,\"#d8576b\"],[0.6666666666666666,\"#ed7953\"],[0.7777777777777778,\"#fb9f3a\"],[0.8888888888888888,\"#fdca26\"],[1.0,\"#f0f921\"]],\"type\":\"histogram2d\"}],\"histogram2dcontour\":[{\"colorbar\":{\"outlinewidth\":0,\"ticks\":\"\"},\"colorscale\":[[0.0,\"#0d0887\"],[0.1111111111111111,\"#46039f\"],[0.2222222222222222,\"#7201a8\"],[0.3333333333333333,\"#9c179e\"],[0.4444444444444444,\"#bd3786\"],[0.5555555555555556,\"#d8576b\"],[0.6666666666666666,\"#ed7953\"],[0.7777777777777778,\"#fb9f3a\"],[0.8888888888888888,\"#fdca26\"],[1.0,\"#f0f921\"]],\"type\":\"histogram2dcontour\"}],\"mesh3d\":[{\"colorbar\":{\"outlinewidth\":0,\"ticks\":\"\"},\"type\":\"mesh3d\"}],\"parcoords\":[{\"line\":{\"colorbar\":{\"outlinewidth\":0,\"ticks\":\"\"}},\"type\":\"parcoords\"}],\"pie\":[{\"automargin\":true,\"type\":\"pie\"}],\"scatter\":[{\"marker\":{\"colorbar\":{\"outlinewidth\":0,\"ticks\":\"\"}},\"type\":\"scatter\"}],\"scatter3d\":[{\"line\":{\"colorbar\":{\"outlinewidth\":0,\"ticks\":\"\"}},\"marker\":{\"colorbar\":{\"outlinewidth\":0,\"ticks\":\"\"}},\"type\":\"scatter3d\"}],\"scattercarpet\":[{\"marker\":{\"colorbar\":{\"outlinewidth\":0,\"ticks\":\"\"}},\"type\":\"scattercarpet\"}],\"scattergeo\":[{\"marker\":{\"colorbar\":{\"outlinewidth\":0,\"ticks\":\"\"}},\"type\":\"scattergeo\"}],\"scattergl\":[{\"marker\":{\"colorbar\":{\"outlinewidth\":0,\"ticks\":\"\"}},\"type\":\"scattergl\"}],\"scattermapbox\":[{\"marker\":{\"colorbar\":{\"outlinewidth\":0,\"ticks\":\"\"}},\"type\":\"scattermapbox\"}],\"scatterpolar\":[{\"marker\":{\"colorbar\":{\"outlinewidth\":0,\"ticks\":\"\"}},\"type\":\"scatterpolar\"}],\"scatterpolargl\":[{\"marker\":{\"colorbar\":{\"outlinewidth\":0,\"ticks\":\"\"}},\"type\":\"scatterpolargl\"}],\"scatterternary\":[{\"marker\":{\"colorbar\":{\"outlinewidth\":0,\"ticks\":\"\"}},\"type\":\"scatterternary\"}],\"surface\":[{\"colorbar\":{\"outlinewidth\":0,\"ticks\":\"\"},\"colorscale\":[[0.0,\"#0d0887\"],[0.1111111111111111,\"#46039f\"],[0.2222222222222222,\"#7201a8\"],[0.3333333333333333,\"#9c179e\"],[0.4444444444444444,\"#bd3786\"],[0.5555555555555556,\"#d8576b\"],[0.6666666666666666,\"#ed7953\"],[0.7777777777777778,\"#fb9f3a\"],[0.8888888888888888,\"#fdca26\"],[1.0,\"#f0f921\"]],\"type\":\"surface\"}],\"table\":[{\"cells\":{\"fill\":{\"color\":\"#EBF0F8\"},\"line\":{\"color\":\"white\"}},\"header\":{\"fill\":{\"color\":\"#C8D4E3\"},\"line\":{\"color\":\"white\"}},\"type\":\"table\"}]},\"layout\":{\"annotationdefaults\":{\"arrowcolor\":\"#2a3f5f\",\"arrowhead\":0,\"arrowwidth\":1},\"autotypenumbers\":\"strict\",\"coloraxis\":{\"colorbar\":{\"outlinewidth\":0,\"ticks\":\"\"}},\"colorscale\":{\"diverging\":[[0,\"#8e0152\"],[0.1,\"#c51b7d\"],[0.2,\"#de77ae\"],[0.3,\"#f1b6da\"],[0.4,\"#fde0ef\"],[0.5,\"#f7f7f7\"],[0.6,\"#e6f5d0\"],[0.7,\"#b8e186\"],[0.8,\"#7fbc41\"],[0.9,\"#4d9221\"],[1,\"#276419\"]],\"sequential\":[[0.0,\"#0d0887\"],[0.1111111111111111,\"#46039f\"],[0.2222222222222222,\"#7201a8\"],[0.3333333333333333,\"#9c179e\"],[0.4444444444444444,\"#bd3786\"],[0.5555555555555556,\"#d8576b\"],[0.6666666666666666,\"#ed7953\"],[0.7777777777777778,\"#fb9f3a\"],[0.8888888888888888,\"#fdca26\"],[1.0,\"#f0f921\"]],\"sequentialminus\":[[0.0,\"#0d0887\"],[0.1111111111111111,\"#46039f\"],[0.2222222222222222,\"#7201a8\"],[0.3333333333333333,\"#9c179e\"],[0.4444444444444444,\"#bd3786\"],[0.5555555555555556,\"#d8576b\"],[0.6666666666666666,\"#ed7953\"],[0.7777777777777778,\"#fb9f3a\"],[0.8888888888888888,\"#fdca26\"],[1.0,\"#f0f921\"]]},\"colorway\":[\"#636efa\",\"#EF553B\",\"#00cc96\",\"#ab63fa\",\"#FFA15A\",\"#19d3f3\",\"#FF6692\",\"#B6E880\",\"#FF97FF\",\"#FECB52\"],\"font\":{\"color\":\"#2a3f5f\"},\"geo\":{\"bgcolor\":\"white\",\"lakecolor\":\"white\",\"landcolor\":\"#E5ECF6\",\"showlakes\":true,\"showland\":true,\"subunitcolor\":\"white\"},\"hoverlabel\":{\"align\":\"left\"},\"hovermode\":\"closest\",\"mapbox\":{\"style\":\"light\"},\"paper_bgcolor\":\"white\",\"plot_bgcolor\":\"#E5ECF6\",\"polar\":{\"angularaxis\":{\"gridcolor\":\"white\",\"linecolor\":\"white\",\"ticks\":\"\"},\"bgcolor\":\"#E5ECF6\",\"radialaxis\":{\"gridcolor\":\"white\",\"linecolor\":\"white\",\"ticks\":\"\"}},\"scene\":{\"xaxis\":{\"backgroundcolor\":\"#E5ECF6\",\"gridcolor\":\"white\",\"gridwidth\":2,\"linecolor\":\"white\",\"showbackground\":true,\"ticks\":\"\",\"zerolinecolor\":\"white\"},\"yaxis\":{\"backgroundcolor\":\"#E5ECF6\",\"gridcolor\":\"white\",\"gridwidth\":2,\"linecolor\":\"white\",\"showbackground\":true,\"ticks\":\"\",\"zerolinecolor\":\"white\"},\"zaxis\":{\"backgroundcolor\":\"#E5ECF6\",\"gridcolor\":\"white\",\"gridwidth\":2,\"linecolor\":\"white\",\"showbackground\":true,\"ticks\":\"\",\"zerolinecolor\":\"white\"}},\"shapedefaults\":{\"line\":{\"color\":\"#2a3f5f\"}},\"ternary\":{\"aaxis\":{\"gridcolor\":\"white\",\"linecolor\":\"white\",\"ticks\":\"\"},\"baxis\":{\"gridcolor\":\"white\",\"linecolor\":\"white\",\"ticks\":\"\"},\"bgcolor\":\"#E5ECF6\",\"caxis\":{\"gridcolor\":\"white\",\"linecolor\":\"white\",\"ticks\":\"\"}},\"title\":{\"x\":0.05},\"xaxis\":{\"automargin\":true,\"gridcolor\":\"white\",\"linecolor\":\"white\",\"ticks\":\"\",\"title\":{\"standoff\":15},\"zerolinecolor\":\"white\",\"zerolinewidth\":2},\"yaxis\":{\"automargin\":true,\"gridcolor\":\"white\",\"linecolor\":\"white\",\"ticks\":\"\",\"title\":{\"standoff\":15},\"zerolinecolor\":\"white\",\"zerolinewidth\":2}}},\"xaxis\":{\"anchor\":\"y\",\"domain\":[0.0,1.0],\"scaleanchor\":\"y\",\"constrain\":\"domain\",\"title\":{\"text\":\"Predicted Values\"},\"side\":\"top\"},\"yaxis\":{\"anchor\":\"x\",\"domain\":[0.0,1.0],\"autorange\":\"reversed\",\"constrain\":\"domain\",\"title\":{\"text\":\"True Values\"}},\"coloraxis\":{\"colorbar\":{\"title\":{\"text\":\"Percentage Classified\"}},\"colorscale\":[[0.0,\"#0d0887\"],[0.1111111111111111,\"#46039f\"],[0.2222222222222222,\"#7201a8\"],[0.3333333333333333,\"#9c179e\"],[0.4444444444444444,\"#bd3786\"],[0.5555555555555556,\"#d8576b\"],[0.6666666666666666,\"#ed7953\"],[0.7777777777777778,\"#fb9f3a\"],[0.8888888888888888,\"#fdca26\"],[1.0,\"#f0f921\"]]},\"margin\":{\"t\":60}},                        {\"responsive\": true}                    ).then(function(){\n",
       "                            \n",
       "var gd = document.getElementById('9d761785-986a-4450-a3cd-a01267cafd8f');\n",
       "var x = new MutationObserver(function (mutations, observer) {{\n",
       "        var display = window.getComputedStyle(gd).display;\n",
       "        if (!display || display === 'none') {{\n",
       "            console.log([gd, 'removed!']);\n",
       "            Plotly.purge(gd);\n",
       "            observer.disconnect();\n",
       "        }}\n",
       "}});\n",
       "\n",
       "// Listen for the removal of the full notebook cells\n",
       "var notebookContainer = gd.closest('#notebook-container');\n",
       "if (notebookContainer) {{\n",
       "    x.observe(notebookContainer, {childList: true});\n",
       "}}\n",
       "\n",
       "// Listen for the clearing of the current output cell\n",
       "var outputEl = gd.closest('.output');\n",
       "if (outputEl) {{\n",
       "    x.observe(outputEl, {childList: true});\n",
       "}}\n",
       "\n",
       "                        })                };                });            </script>        </div>"
      ]
     },
     "metadata": {},
     "output_type": "display_data"
    },
    {
     "data": {
      "application/javascript": [
       "\n",
       "            setTimeout(function() {\n",
       "                var nbb_cell_id = 24;\n",
       "                var nbb_unformatted_code = \"conmat = confusion_matrix(Y_test, Y_pred)\\ndisplay(conmat)\\nfig = px.imshow(\\n    np.round((conmat / conmat.sum()) * 100, 3),\\n    labels=dict(x=\\\"Predicted Values\\\", y=\\\"True Values\\\", color=\\\"Percentage Classified\\\"),\\n    x=[\\\"Male\\\", \\\"Female\\\", \\\"Other\\\"],\\n    y=[\\\"Male\\\", \\\"Female\\\", \\\"Other\\\"],\\n)\\nfig.update_xaxes(side=\\\"top\\\")\\nfig.show()\";\n",
       "                var nbb_formatted_code = \"conmat = confusion_matrix(Y_test, Y_pred)\\ndisplay(conmat)\\nfig = px.imshow(\\n    np.round((conmat / conmat.sum()) * 100, 3),\\n    labels=dict(x=\\\"Predicted Values\\\", y=\\\"True Values\\\", color=\\\"Percentage Classified\\\"),\\n    x=[\\\"Male\\\", \\\"Female\\\", \\\"Other\\\"],\\n    y=[\\\"Male\\\", \\\"Female\\\", \\\"Other\\\"],\\n)\\nfig.update_xaxes(side=\\\"top\\\")\\nfig.show()\";\n",
       "                var nbb_cells = Jupyter.notebook.get_cells();\n",
       "                for (var i = 0; i < nbb_cells.length; ++i) {\n",
       "                    if (nbb_cells[i].input_prompt_number == nbb_cell_id) {\n",
       "                        if (nbb_cells[i].get_text() == nbb_unformatted_code) {\n",
       "                             nbb_cells[i].set_text(nbb_formatted_code);\n",
       "                        }\n",
       "                        break;\n",
       "                    }\n",
       "                }\n",
       "            }, 500);\n",
       "            "
      ],
      "text/plain": [
       "<IPython.core.display.Javascript object>"
      ]
     },
     "metadata": {},
     "output_type": "display_data"
    }
   ],
   "source": [
    "conmat = confusion_matrix(Y_test, Y_pred)\n",
    "display(conmat)\n",
    "fig = px.imshow(\n",
    "    np.round((conmat / conmat.sum()) * 100, 3),\n",
    "    labels=dict(x=\"Predicted Values\", y=\"True Values\", color=\"Percentage Classified\"),\n",
    "    x=[\"Male\", \"Female\", \"Other\"],\n",
    "    y=[\"Male\", \"Female\", \"Other\"],\n",
    ")\n",
    "fig.update_xaxes(side=\"top\")\n",
    "fig.show()"
   ]
  },
  {
   "cell_type": "markdown",
   "id": "8cf2caf1",
   "metadata": {},
   "source": [
    "### Multinomial Log Reg with Age Group"
   ]
  },
  {
   "cell_type": "code",
   "execution_count": 25,
   "id": "6ffefb8a",
   "metadata": {},
   "outputs": [
    {
     "data": {
      "text/html": [
       "<div>\n",
       "<style scoped>\n",
       "    .dataframe tbody tr th:only-of-type {\n",
       "        vertical-align: middle;\n",
       "    }\n",
       "\n",
       "    .dataframe tbody tr th {\n",
       "        vertical-align: top;\n",
       "    }\n",
       "\n",
       "    .dataframe thead th {\n",
       "        text-align: right;\n",
       "    }\n",
       "</style>\n",
       "<table border=\"1\" class=\"dataframe\">\n",
       "  <thead>\n",
       "    <tr style=\"text-align: right;\">\n",
       "      <th></th>\n",
       "      <th>score</th>\n",
       "      <th>Influence</th>\n",
       "      <th>Modesty</th>\n",
       "      <th>Daring</th>\n",
       "      <th>Confidence</th>\n",
       "      <th>Ruling</th>\n",
       "      <th>Responsibility</th>\n",
       "      <th>IntrovExtro</th>\n",
       "      <th>Success</th>\n",
       "      <th>Humble</th>\n",
       "      <th>...</th>\n",
       "      <th>MakeBelieve</th>\n",
       "      <th>Leadership Origin</th>\n",
       "      <th>Biography</th>\n",
       "      <th>Public Opinion</th>\n",
       "      <th>Capability</th>\n",
       "      <th>Extraordinary</th>\n",
       "      <th>elapse</th>\n",
       "      <th>gender</th>\n",
       "      <th>age</th>\n",
       "      <th>Age_Group</th>\n",
       "    </tr>\n",
       "  </thead>\n",
       "  <tbody>\n",
       "    <tr>\n",
       "      <th>0</th>\n",
       "      <td>18</td>\n",
       "      <td>0</td>\n",
       "      <td>0</td>\n",
       "      <td>0</td>\n",
       "      <td>1</td>\n",
       "      <td>0</td>\n",
       "      <td>0</td>\n",
       "      <td>0</td>\n",
       "      <td>0</td>\n",
       "      <td>1</td>\n",
       "      <td>...</td>\n",
       "      <td>0</td>\n",
       "      <td>0</td>\n",
       "      <td>0</td>\n",
       "      <td>0</td>\n",
       "      <td>1</td>\n",
       "      <td>1</td>\n",
       "      <td>211</td>\n",
       "      <td>1</td>\n",
       "      <td>50</td>\n",
       "      <td>5.0</td>\n",
       "    </tr>\n",
       "    <tr>\n",
       "      <th>1</th>\n",
       "      <td>6</td>\n",
       "      <td>0</td>\n",
       "      <td>0</td>\n",
       "      <td>0</td>\n",
       "      <td>0</td>\n",
       "      <td>1</td>\n",
       "      <td>0</td>\n",
       "      <td>0</td>\n",
       "      <td>0</td>\n",
       "      <td>0</td>\n",
       "      <td>...</td>\n",
       "      <td>0</td>\n",
       "      <td>0</td>\n",
       "      <td>0</td>\n",
       "      <td>0</td>\n",
       "      <td>0</td>\n",
       "      <td>0</td>\n",
       "      <td>149</td>\n",
       "      <td>1</td>\n",
       "      <td>40</td>\n",
       "      <td>4.0</td>\n",
       "    </tr>\n",
       "    <tr>\n",
       "      <th>2</th>\n",
       "      <td>27</td>\n",
       "      <td>1</td>\n",
       "      <td>0</td>\n",
       "      <td>0</td>\n",
       "      <td>0</td>\n",
       "      <td>1</td>\n",
       "      <td>1</td>\n",
       "      <td>1</td>\n",
       "      <td>1</td>\n",
       "      <td>1</td>\n",
       "      <td>...</td>\n",
       "      <td>1</td>\n",
       "      <td>1</td>\n",
       "      <td>1</td>\n",
       "      <td>0</td>\n",
       "      <td>1</td>\n",
       "      <td>1</td>\n",
       "      <td>168</td>\n",
       "      <td>1</td>\n",
       "      <td>28</td>\n",
       "      <td>3.0</td>\n",
       "    </tr>\n",
       "    <tr>\n",
       "      <th>3</th>\n",
       "      <td>29</td>\n",
       "      <td>1</td>\n",
       "      <td>1</td>\n",
       "      <td>0</td>\n",
       "      <td>1</td>\n",
       "      <td>1</td>\n",
       "      <td>1</td>\n",
       "      <td>1</td>\n",
       "      <td>1</td>\n",
       "      <td>0</td>\n",
       "      <td>...</td>\n",
       "      <td>1</td>\n",
       "      <td>1</td>\n",
       "      <td>0</td>\n",
       "      <td>0</td>\n",
       "      <td>1</td>\n",
       "      <td>0</td>\n",
       "      <td>230</td>\n",
       "      <td>1</td>\n",
       "      <td>37</td>\n",
       "      <td>4.0</td>\n",
       "    </tr>\n",
       "    <tr>\n",
       "      <th>4</th>\n",
       "      <td>19</td>\n",
       "      <td>1</td>\n",
       "      <td>0</td>\n",
       "      <td>0</td>\n",
       "      <td>0</td>\n",
       "      <td>1</td>\n",
       "      <td>1</td>\n",
       "      <td>0</td>\n",
       "      <td>1</td>\n",
       "      <td>1</td>\n",
       "      <td>...</td>\n",
       "      <td>0</td>\n",
       "      <td>1</td>\n",
       "      <td>0</td>\n",
       "      <td>0</td>\n",
       "      <td>0</td>\n",
       "      <td>1</td>\n",
       "      <td>361</td>\n",
       "      <td>1</td>\n",
       "      <td>27</td>\n",
       "      <td>3.0</td>\n",
       "    </tr>\n",
       "    <tr>\n",
       "      <th>...</th>\n",
       "      <td>...</td>\n",
       "      <td>...</td>\n",
       "      <td>...</td>\n",
       "      <td>...</td>\n",
       "      <td>...</td>\n",
       "      <td>...</td>\n",
       "      <td>...</td>\n",
       "      <td>...</td>\n",
       "      <td>...</td>\n",
       "      <td>...</td>\n",
       "      <td>...</td>\n",
       "      <td>...</td>\n",
       "      <td>...</td>\n",
       "      <td>...</td>\n",
       "      <td>...</td>\n",
       "      <td>...</td>\n",
       "      <td>...</td>\n",
       "      <td>...</td>\n",
       "      <td>...</td>\n",
       "      <td>...</td>\n",
       "      <td>...</td>\n",
       "    </tr>\n",
       "    <tr>\n",
       "      <th>10413</th>\n",
       "      <td>1</td>\n",
       "      <td>0</td>\n",
       "      <td>0</td>\n",
       "      <td>0</td>\n",
       "      <td>0</td>\n",
       "      <td>0</td>\n",
       "      <td>0</td>\n",
       "      <td>0</td>\n",
       "      <td>0</td>\n",
       "      <td>0</td>\n",
       "      <td>...</td>\n",
       "      <td>0</td>\n",
       "      <td>0</td>\n",
       "      <td>0</td>\n",
       "      <td>0</td>\n",
       "      <td>0</td>\n",
       "      <td>0</td>\n",
       "      <td>243</td>\n",
       "      <td>1</td>\n",
       "      <td>24</td>\n",
       "      <td>2.0</td>\n",
       "    </tr>\n",
       "    <tr>\n",
       "      <th>10414</th>\n",
       "      <td>10</td>\n",
       "      <td>0</td>\n",
       "      <td>0</td>\n",
       "      <td>1</td>\n",
       "      <td>0</td>\n",
       "      <td>0</td>\n",
       "      <td>0</td>\n",
       "      <td>0</td>\n",
       "      <td>1</td>\n",
       "      <td>0</td>\n",
       "      <td>...</td>\n",
       "      <td>0</td>\n",
       "      <td>0</td>\n",
       "      <td>1</td>\n",
       "      <td>0</td>\n",
       "      <td>0</td>\n",
       "      <td>0</td>\n",
       "      <td>197</td>\n",
       "      <td>1</td>\n",
       "      <td>39</td>\n",
       "      <td>4.0</td>\n",
       "    </tr>\n",
       "    <tr>\n",
       "      <th>10415</th>\n",
       "      <td>6</td>\n",
       "      <td>1</td>\n",
       "      <td>0</td>\n",
       "      <td>0</td>\n",
       "      <td>0</td>\n",
       "      <td>0</td>\n",
       "      <td>0</td>\n",
       "      <td>0</td>\n",
       "      <td>0</td>\n",
       "      <td>0</td>\n",
       "      <td>...</td>\n",
       "      <td>0</td>\n",
       "      <td>0</td>\n",
       "      <td>0</td>\n",
       "      <td>0</td>\n",
       "      <td>0</td>\n",
       "      <td>0</td>\n",
       "      <td>447</td>\n",
       "      <td>2</td>\n",
       "      <td>33</td>\n",
       "      <td>3.0</td>\n",
       "    </tr>\n",
       "    <tr>\n",
       "      <th>10416</th>\n",
       "      <td>12</td>\n",
       "      <td>0</td>\n",
       "      <td>0</td>\n",
       "      <td>1</td>\n",
       "      <td>0</td>\n",
       "      <td>0</td>\n",
       "      <td>1</td>\n",
       "      <td>0</td>\n",
       "      <td>1</td>\n",
       "      <td>0</td>\n",
       "      <td>...</td>\n",
       "      <td>1</td>\n",
       "      <td>0</td>\n",
       "      <td>0</td>\n",
       "      <td>0</td>\n",
       "      <td>0</td>\n",
       "      <td>0</td>\n",
       "      <td>167</td>\n",
       "      <td>1</td>\n",
       "      <td>24</td>\n",
       "      <td>2.0</td>\n",
       "    </tr>\n",
       "    <tr>\n",
       "      <th>10417</th>\n",
       "      <td>18</td>\n",
       "      <td>1</td>\n",
       "      <td>0</td>\n",
       "      <td>1</td>\n",
       "      <td>0</td>\n",
       "      <td>0</td>\n",
       "      <td>1</td>\n",
       "      <td>1</td>\n",
       "      <td>0</td>\n",
       "      <td>0</td>\n",
       "      <td>...</td>\n",
       "      <td>1</td>\n",
       "      <td>1</td>\n",
       "      <td>0</td>\n",
       "      <td>0</td>\n",
       "      <td>1</td>\n",
       "      <td>0</td>\n",
       "      <td>291</td>\n",
       "      <td>1</td>\n",
       "      <td>36</td>\n",
       "      <td>4.0</td>\n",
       "    </tr>\n",
       "  </tbody>\n",
       "</table>\n",
       "<p>10383 rows × 45 columns</p>\n",
       "</div>"
      ],
      "text/plain": [
       "       score  Influence  Modesty  Daring  Confidence  Ruling  Responsibility  \\\n",
       "0         18          0        0       0           1       0               0   \n",
       "1          6          0        0       0           0       1               0   \n",
       "2         27          1        0       0           0       1               1   \n",
       "3         29          1        1       0           1       1               1   \n",
       "4         19          1        0       0           0       1               1   \n",
       "...      ...        ...      ...     ...         ...     ...             ...   \n",
       "10413      1          0        0       0           0       0               0   \n",
       "10414     10          0        0       1           0       0               0   \n",
       "10415      6          1        0       0           0       0               0   \n",
       "10416     12          0        0       1           0       0               1   \n",
       "10417     18          1        0       1           0       0               1   \n",
       "\n",
       "       IntrovExtro  Success  Humble  ...  MakeBelieve  Leadership Origin  \\\n",
       "0                0        0       1  ...            0                  0   \n",
       "1                0        0       0  ...            0                  0   \n",
       "2                1        1       1  ...            1                  1   \n",
       "3                1        1       0  ...            1                  1   \n",
       "4                0        1       1  ...            0                  1   \n",
       "...            ...      ...     ...  ...          ...                ...   \n",
       "10413            0        0       0  ...            0                  0   \n",
       "10414            0        1       0  ...            0                  0   \n",
       "10415            0        0       0  ...            0                  0   \n",
       "10416            0        1       0  ...            1                  0   \n",
       "10417            1        0       0  ...            1                  1   \n",
       "\n",
       "       Biography  Public Opinion  Capability  Extraordinary  elapse  gender  \\\n",
       "0              0               0           1              1     211       1   \n",
       "1              0               0           0              0     149       1   \n",
       "2              1               0           1              1     168       1   \n",
       "3              0               0           1              0     230       1   \n",
       "4              0               0           0              1     361       1   \n",
       "...          ...             ...         ...            ...     ...     ...   \n",
       "10413          0               0           0              0     243       1   \n",
       "10414          1               0           0              0     197       1   \n",
       "10415          0               0           0              0     447       2   \n",
       "10416          0               0           0              0     167       1   \n",
       "10417          0               0           1              0     291       1   \n",
       "\n",
       "       age  Age_Group  \n",
       "0       50        5.0  \n",
       "1       40        4.0  \n",
       "2       28        3.0  \n",
       "3       37        4.0  \n",
       "4       27        3.0  \n",
       "...    ...        ...  \n",
       "10413   24        2.0  \n",
       "10414   39        4.0  \n",
       "10415   33        3.0  \n",
       "10416   24        2.0  \n",
       "10417   36        4.0  \n",
       "\n",
       "[10383 rows x 45 columns]"
      ]
     },
     "metadata": {},
     "output_type": "display_data"
    },
    {
     "data": {
      "application/javascript": [
       "\n",
       "            setTimeout(function() {\n",
       "                var nbb_cell_id = 25;\n",
       "                var nbb_unformatted_code = \"data = pd.read_csv(\\\"Data/data_AgeGroup.csv\\\", index_col=[0])\\ndisplay(data)\\n\\nX = data.drop([\\\"score\\\", \\\"elapse\\\", \\\"gender\\\", \\\"age\\\", \\\"Age_Group\\\"], axis=1)\\nY = data[\\\"Age_Group\\\"]\\n\\nX_train, X_test, Y_train, Y_test = train_test_split(X, Y, test_size=0.3, random_state=1)\";\n",
       "                var nbb_formatted_code = \"data = pd.read_csv(\\\"Data/data_AgeGroup.csv\\\", index_col=[0])\\ndisplay(data)\\n\\nX = data.drop([\\\"score\\\", \\\"elapse\\\", \\\"gender\\\", \\\"age\\\", \\\"Age_Group\\\"], axis=1)\\nY = data[\\\"Age_Group\\\"]\\n\\nX_train, X_test, Y_train, Y_test = train_test_split(X, Y, test_size=0.3, random_state=1)\";\n",
       "                var nbb_cells = Jupyter.notebook.get_cells();\n",
       "                for (var i = 0; i < nbb_cells.length; ++i) {\n",
       "                    if (nbb_cells[i].input_prompt_number == nbb_cell_id) {\n",
       "                        if (nbb_cells[i].get_text() == nbb_unformatted_code) {\n",
       "                             nbb_cells[i].set_text(nbb_formatted_code);\n",
       "                        }\n",
       "                        break;\n",
       "                    }\n",
       "                }\n",
       "            }, 500);\n",
       "            "
      ],
      "text/plain": [
       "<IPython.core.display.Javascript object>"
      ]
     },
     "metadata": {},
     "output_type": "display_data"
    }
   ],
   "source": [
    "data = pd.read_csv(\"Data/data_AgeGroup.csv\", index_col=[0])\n",
    "display(data)\n",
    "\n",
    "X = data.drop([\"score\", \"elapse\", \"gender\", \"age\", \"Age_Group\"], axis=1)\n",
    "Y = data[\"Age_Group\"]\n",
    "\n",
    "X_train, X_test, Y_train, Y_test = train_test_split(X, Y, test_size=0.3, random_state=1)"
   ]
  },
  {
   "cell_type": "code",
   "execution_count": 30,
   "id": "e5aa0811",
   "metadata": {},
   "outputs": [
    {
     "name": "stdout",
     "output_type": "stream",
     "text": [
      "Mean Accuracy: 0.315 (+/- 0.016)\n"
     ]
    },
    {
     "data": {
      "application/javascript": [
       "\n",
       "            setTimeout(function() {\n",
       "                var nbb_cell_id = 30;\n",
       "                var nbb_unformatted_code = \"# Building the Multinomial Logistic Model with sklearn\\nmodel = LogisticRegression(\\n    multi_class=\\\"multinomial\\\", solver=\\\"sag\\\", fit_intercept=False, max_iter=100\\n)\\n\\ncv = RepeatedStratifiedKFold(n_splits=10, n_repeats=4, random_state=1)\\nn_scores = cross_validate(\\n    model, X_train, Y_train, scoring=\\\"accuracy\\\", cv=cv, n_jobs=-1, return_estimator=True\\n)\\n\\nprint(\\n    \\\"Mean Accuracy: %.3f (+/- %.3f)\\\"\\n    % (np.mean(n_scores[\\\"test_score\\\"]), np.std(n_scores[\\\"test_score\\\"]))\\n)\";\n",
       "                var nbb_formatted_code = \"# Building the Multinomial Logistic Model with sklearn\\nmodel = LogisticRegression(\\n    multi_class=\\\"multinomial\\\", solver=\\\"sag\\\", fit_intercept=False, max_iter=100\\n)\\n\\ncv = RepeatedStratifiedKFold(n_splits=10, n_repeats=4, random_state=1)\\nn_scores = cross_validate(\\n    model, X_train, Y_train, scoring=\\\"accuracy\\\", cv=cv, n_jobs=-1, return_estimator=True\\n)\\n\\nprint(\\n    \\\"Mean Accuracy: %.3f (+/- %.3f)\\\"\\n    % (np.mean(n_scores[\\\"test_score\\\"]), np.std(n_scores[\\\"test_score\\\"]))\\n)\";\n",
       "                var nbb_cells = Jupyter.notebook.get_cells();\n",
       "                for (var i = 0; i < nbb_cells.length; ++i) {\n",
       "                    if (nbb_cells[i].input_prompt_number == nbb_cell_id) {\n",
       "                        if (nbb_cells[i].get_text() == nbb_unformatted_code) {\n",
       "                             nbb_cells[i].set_text(nbb_formatted_code);\n",
       "                        }\n",
       "                        break;\n",
       "                    }\n",
       "                }\n",
       "            }, 500);\n",
       "            "
      ],
      "text/plain": [
       "<IPython.core.display.Javascript object>"
      ]
     },
     "metadata": {},
     "output_type": "display_data"
    }
   ],
   "source": [
    "# Building the Multinomial Logistic Model with sklearn\n",
    "model = LogisticRegression(\n",
    "    multi_class=\"multinomial\", solver=\"sag\", fit_intercept=False, max_iter=100\n",
    ")\n",
    "\n",
    "cv = RepeatedStratifiedKFold(n_splits=10, n_repeats=4, random_state=1)\n",
    "n_scores = cross_validate(\n",
    "    model, X_train, Y_train, scoring=\"accuracy\", cv=cv, n_jobs=-1, return_estimator=True\n",
    ")\n",
    "\n",
    "print(\n",
    "    \"Mean Accuracy: %.3f (+/- %.3f)\"\n",
    "    % (np.mean(n_scores[\"test_score\"]), np.std(n_scores[\"test_score\"]))\n",
    ")"
   ]
  },
  {
   "cell_type": "code",
   "execution_count": 28,
   "id": "3f058e79",
   "metadata": {},
   "outputs": [
    {
     "data": {
      "text/html": [
       "<div>\n",
       "<style scoped>\n",
       "    .dataframe tbody tr th:only-of-type {\n",
       "        vertical-align: middle;\n",
       "    }\n",
       "\n",
       "    .dataframe tbody tr th {\n",
       "        vertical-align: top;\n",
       "    }\n",
       "\n",
       "    .dataframe thead th {\n",
       "        text-align: right;\n",
       "    }\n",
       "</style>\n",
       "<table border=\"1\" class=\"dataframe\">\n",
       "  <thead>\n",
       "    <tr style=\"text-align: right;\">\n",
       "      <th></th>\n",
       "      <th>Actual</th>\n",
       "      <th>Predicted</th>\n",
       "    </tr>\n",
       "  </thead>\n",
       "  <tbody>\n",
       "    <tr>\n",
       "      <th>5157</th>\n",
       "      <td>6.0</td>\n",
       "      <td>2.0</td>\n",
       "    </tr>\n",
       "    <tr>\n",
       "      <th>7580</th>\n",
       "      <td>6.0</td>\n",
       "      <td>2.0</td>\n",
       "    </tr>\n",
       "    <tr>\n",
       "      <th>4182</th>\n",
       "      <td>4.0</td>\n",
       "      <td>5.0</td>\n",
       "    </tr>\n",
       "    <tr>\n",
       "      <th>1207</th>\n",
       "      <td>5.0</td>\n",
       "      <td>3.0</td>\n",
       "    </tr>\n",
       "    <tr>\n",
       "      <th>5333</th>\n",
       "      <td>5.0</td>\n",
       "      <td>4.0</td>\n",
       "    </tr>\n",
       "    <tr>\n",
       "      <th>...</th>\n",
       "      <td>...</td>\n",
       "      <td>...</td>\n",
       "    </tr>\n",
       "    <tr>\n",
       "      <th>555</th>\n",
       "      <td>3.0</td>\n",
       "      <td>5.0</td>\n",
       "    </tr>\n",
       "    <tr>\n",
       "      <th>8497</th>\n",
       "      <td>2.0</td>\n",
       "      <td>2.0</td>\n",
       "    </tr>\n",
       "    <tr>\n",
       "      <th>8560</th>\n",
       "      <td>3.0</td>\n",
       "      <td>5.0</td>\n",
       "    </tr>\n",
       "    <tr>\n",
       "      <th>6252</th>\n",
       "      <td>2.0</td>\n",
       "      <td>2.0</td>\n",
       "    </tr>\n",
       "    <tr>\n",
       "      <th>9231</th>\n",
       "      <td>4.0</td>\n",
       "      <td>2.0</td>\n",
       "    </tr>\n",
       "  </tbody>\n",
       "</table>\n",
       "<p>3115 rows × 2 columns</p>\n",
       "</div>"
      ],
      "text/plain": [
       "      Actual  Predicted\n",
       "5157     6.0        2.0\n",
       "7580     6.0        2.0\n",
       "4182     4.0        5.0\n",
       "1207     5.0        3.0\n",
       "5333     5.0        4.0\n",
       "...      ...        ...\n",
       "555      3.0        5.0\n",
       "8497     2.0        2.0\n",
       "8560     3.0        5.0\n",
       "6252     2.0        2.0\n",
       "9231     4.0        2.0\n",
       "\n",
       "[3115 rows x 2 columns]"
      ]
     },
     "metadata": {},
     "output_type": "display_data"
    },
    {
     "data": {
      "text/html": [
       "<div>\n",
       "<style scoped>\n",
       "    .dataframe tbody tr th:only-of-type {\n",
       "        vertical-align: middle;\n",
       "    }\n",
       "\n",
       "    .dataframe tbody tr th {\n",
       "        vertical-align: top;\n",
       "    }\n",
       "\n",
       "    .dataframe thead th {\n",
       "        text-align: right;\n",
       "    }\n",
       "</style>\n",
       "<table border=\"1\" class=\"dataframe\">\n",
       "  <thead>\n",
       "    <tr style=\"text-align: right;\">\n",
       "      <th></th>\n",
       "      <th>Questions</th>\n",
       "      <th>Under 18</th>\n",
       "      <th>18-24</th>\n",
       "      <th>25-34</th>\n",
       "      <th>35-44</th>\n",
       "      <th>45-54</th>\n",
       "      <th>55-64</th>\n",
       "      <th>65+</th>\n",
       "    </tr>\n",
       "  </thead>\n",
       "  <tbody>\n",
       "    <tr>\n",
       "      <th>0</th>\n",
       "      <td>Influence</td>\n",
       "      <td>-0.471141</td>\n",
       "      <td>-0.037147</td>\n",
       "      <td>0.106591</td>\n",
       "      <td>0.302387</td>\n",
       "      <td>0.233766</td>\n",
       "      <td>0.110064</td>\n",
       "      <td>-0.244521</td>\n",
       "    </tr>\n",
       "    <tr>\n",
       "      <th>1</th>\n",
       "      <td>Modesty</td>\n",
       "      <td>0.278013</td>\n",
       "      <td>0.050401</td>\n",
       "      <td>0.034247</td>\n",
       "      <td>0.049567</td>\n",
       "      <td>-0.022215</td>\n",
       "      <td>-0.009111</td>\n",
       "      <td>-0.380902</td>\n",
       "    </tr>\n",
       "    <tr>\n",
       "      <th>2</th>\n",
       "      <td>Daring</td>\n",
       "      <td>0.411626</td>\n",
       "      <td>0.307896</td>\n",
       "      <td>0.277344</td>\n",
       "      <td>0.089426</td>\n",
       "      <td>-0.039425</td>\n",
       "      <td>-0.180162</td>\n",
       "      <td>-0.866705</td>\n",
       "    </tr>\n",
       "    <tr>\n",
       "      <th>3</th>\n",
       "      <td>Confidence</td>\n",
       "      <td>0.363375</td>\n",
       "      <td>-0.156995</td>\n",
       "      <td>-0.345404</td>\n",
       "      <td>-0.261665</td>\n",
       "      <td>-0.305617</td>\n",
       "      <td>0.173323</td>\n",
       "      <td>0.532982</td>\n",
       "    </tr>\n",
       "    <tr>\n",
       "      <th>4</th>\n",
       "      <td>Ruling</td>\n",
       "      <td>-0.078589</td>\n",
       "      <td>0.093683</td>\n",
       "      <td>0.235101</td>\n",
       "      <td>0.014987</td>\n",
       "      <td>-0.079831</td>\n",
       "      <td>-0.047458</td>\n",
       "      <td>-0.137893</td>\n",
       "    </tr>\n",
       "    <tr>\n",
       "      <th>5</th>\n",
       "      <td>Responsibility</td>\n",
       "      <td>0.277893</td>\n",
       "      <td>0.382507</td>\n",
       "      <td>0.243928</td>\n",
       "      <td>0.035842</td>\n",
       "      <td>-0.086745</td>\n",
       "      <td>-0.298205</td>\n",
       "      <td>-0.555221</td>\n",
       "    </tr>\n",
       "    <tr>\n",
       "      <th>6</th>\n",
       "      <td>IntrovExtro</td>\n",
       "      <td>0.002649</td>\n",
       "      <td>-0.158144</td>\n",
       "      <td>-0.049756</td>\n",
       "      <td>0.167311</td>\n",
       "      <td>0.010794</td>\n",
       "      <td>0.053621</td>\n",
       "      <td>-0.026475</td>\n",
       "    </tr>\n",
       "    <tr>\n",
       "      <th>7</th>\n",
       "      <td>Success</td>\n",
       "      <td>-0.084138</td>\n",
       "      <td>0.474414</td>\n",
       "      <td>0.423955</td>\n",
       "      <td>0.160856</td>\n",
       "      <td>-0.039429</td>\n",
       "      <td>-0.142971</td>\n",
       "      <td>-0.792687</td>\n",
       "    </tr>\n",
       "    <tr>\n",
       "      <th>8</th>\n",
       "      <td>Humble</td>\n",
       "      <td>-0.197479</td>\n",
       "      <td>0.037962</td>\n",
       "      <td>0.279037</td>\n",
       "      <td>0.061713</td>\n",
       "      <td>-0.001198</td>\n",
       "      <td>-0.056829</td>\n",
       "      <td>-0.123205</td>\n",
       "    </tr>\n",
       "    <tr>\n",
       "      <th>9</th>\n",
       "      <td>Leadership</td>\n",
       "      <td>-0.335812</td>\n",
       "      <td>0.055252</td>\n",
       "      <td>0.167576</td>\n",
       "      <td>0.100175</td>\n",
       "      <td>0.190869</td>\n",
       "      <td>0.093467</td>\n",
       "      <td>-0.271527</td>\n",
       "    </tr>\n",
       "    <tr>\n",
       "      <th>10</th>\n",
       "      <td>Assertive</td>\n",
       "      <td>-0.271055</td>\n",
       "      <td>-0.294566</td>\n",
       "      <td>-0.149891</td>\n",
       "      <td>0.059617</td>\n",
       "      <td>0.208733</td>\n",
       "      <td>0.305568</td>\n",
       "      <td>0.141594</td>\n",
       "    </tr>\n",
       "    <tr>\n",
       "      <th>11</th>\n",
       "      <td>Compliant</td>\n",
       "      <td>0.176263</td>\n",
       "      <td>0.031702</td>\n",
       "      <td>-0.134959</td>\n",
       "      <td>0.055857</td>\n",
       "      <td>-0.109706</td>\n",
       "      <td>0.157407</td>\n",
       "      <td>-0.176565</td>\n",
       "    </tr>\n",
       "    <tr>\n",
       "      <th>12</th>\n",
       "      <td>Manipulate</td>\n",
       "      <td>0.431642</td>\n",
       "      <td>0.268315</td>\n",
       "      <td>0.067010</td>\n",
       "      <td>-0.049465</td>\n",
       "      <td>-0.364989</td>\n",
       "      <td>-0.011488</td>\n",
       "      <td>-0.341026</td>\n",
       "    </tr>\n",
       "    <tr>\n",
       "      <th>13</th>\n",
       "      <td>Respect</td>\n",
       "      <td>-0.018275</td>\n",
       "      <td>0.054184</td>\n",
       "      <td>0.111741</td>\n",
       "      <td>0.009813</td>\n",
       "      <td>0.079121</td>\n",
       "      <td>-0.009207</td>\n",
       "      <td>-0.227377</td>\n",
       "    </tr>\n",
       "    <tr>\n",
       "      <th>14</th>\n",
       "      <td>ShowOffBody</td>\n",
       "      <td>-0.329127</td>\n",
       "      <td>0.007525</td>\n",
       "      <td>0.013710</td>\n",
       "      <td>0.094475</td>\n",
       "      <td>0.416467</td>\n",
       "      <td>0.096661</td>\n",
       "      <td>-0.299711</td>\n",
       "    </tr>\n",
       "    <tr>\n",
       "      <th>15</th>\n",
       "      <td>AnalyzePeople</td>\n",
       "      <td>-0.031649</td>\n",
       "      <td>0.253025</td>\n",
       "      <td>0.311342</td>\n",
       "      <td>0.169644</td>\n",
       "      <td>0.138226</td>\n",
       "      <td>-0.251382</td>\n",
       "      <td>-0.589206</td>\n",
       "    </tr>\n",
       "    <tr>\n",
       "      <th>16</th>\n",
       "      <td>Decision Responsibility</td>\n",
       "      <td>0.128321</td>\n",
       "      <td>-0.201376</td>\n",
       "      <td>-0.275211</td>\n",
       "      <td>0.089685</td>\n",
       "      <td>0.170952</td>\n",
       "      <td>0.014985</td>\n",
       "      <td>0.072644</td>\n",
       "    </tr>\n",
       "    <tr>\n",
       "      <th>17</th>\n",
       "      <td>HappyvMeaning</td>\n",
       "      <td>0.255996</td>\n",
       "      <td>0.148397</td>\n",
       "      <td>0.072576</td>\n",
       "      <td>-0.151424</td>\n",
       "      <td>-0.083507</td>\n",
       "      <td>-0.084184</td>\n",
       "      <td>-0.157854</td>\n",
       "    </tr>\n",
       "    <tr>\n",
       "      <th>18</th>\n",
       "      <td>BodyConfidence</td>\n",
       "      <td>-0.117619</td>\n",
       "      <td>0.067088</td>\n",
       "      <td>0.126613</td>\n",
       "      <td>0.214258</td>\n",
       "      <td>-0.181034</td>\n",
       "      <td>0.040883</td>\n",
       "      <td>-0.150190</td>\n",
       "    </tr>\n",
       "    <tr>\n",
       "      <th>19</th>\n",
       "      <td>ShowOff</td>\n",
       "      <td>0.000428</td>\n",
       "      <td>-0.048783</td>\n",
       "      <td>0.065621</td>\n",
       "      <td>-0.058840</td>\n",
       "      <td>0.045280</td>\n",
       "      <td>0.011649</td>\n",
       "      <td>-0.015355</td>\n",
       "    </tr>\n",
       "    <tr>\n",
       "      <th>20</th>\n",
       "      <td>KnowWhattoDo</td>\n",
       "      <td>-0.422201</td>\n",
       "      <td>-0.225887</td>\n",
       "      <td>-0.258954</td>\n",
       "      <td>-0.073041</td>\n",
       "      <td>0.254707</td>\n",
       "      <td>0.259511</td>\n",
       "      <td>0.465864</td>\n",
       "    </tr>\n",
       "    <tr>\n",
       "      <th>21</th>\n",
       "      <td>Dependence</td>\n",
       "      <td>0.009450</td>\n",
       "      <td>0.224348</td>\n",
       "      <td>0.181942</td>\n",
       "      <td>0.120319</td>\n",
       "      <td>-0.110322</td>\n",
       "      <td>0.083946</td>\n",
       "      <td>-0.509682</td>\n",
       "    </tr>\n",
       "    <tr>\n",
       "      <th>22</th>\n",
       "      <td>Storytelling</td>\n",
       "      <td>-0.128091</td>\n",
       "      <td>-0.444949</td>\n",
       "      <td>-0.223827</td>\n",
       "      <td>0.136205</td>\n",
       "      <td>0.155717</td>\n",
       "      <td>0.060468</td>\n",
       "      <td>0.444476</td>\n",
       "    </tr>\n",
       "    <tr>\n",
       "      <th>23</th>\n",
       "      <td>Expectations</td>\n",
       "      <td>-0.306780</td>\n",
       "      <td>0.033687</td>\n",
       "      <td>0.136987</td>\n",
       "      <td>0.250668</td>\n",
       "      <td>0.269908</td>\n",
       "      <td>-0.040942</td>\n",
       "      <td>-0.343528</td>\n",
       "    </tr>\n",
       "    <tr>\n",
       "      <th>24</th>\n",
       "      <td>Satisfaction</td>\n",
       "      <td>0.146665</td>\n",
       "      <td>0.227093</td>\n",
       "      <td>0.157915</td>\n",
       "      <td>0.143829</td>\n",
       "      <td>-0.081342</td>\n",
       "      <td>-0.385959</td>\n",
       "      <td>-0.208201</td>\n",
       "    </tr>\n",
       "    <tr>\n",
       "      <th>25</th>\n",
       "      <td>Compliments</td>\n",
       "      <td>-0.561669</td>\n",
       "      <td>0.027558</td>\n",
       "      <td>0.009361</td>\n",
       "      <td>0.065906</td>\n",
       "      <td>0.257839</td>\n",
       "      <td>0.186053</td>\n",
       "      <td>0.014953</td>\n",
       "    </tr>\n",
       "    <tr>\n",
       "      <th>26</th>\n",
       "      <td>Power</td>\n",
       "      <td>0.514581</td>\n",
       "      <td>0.264372</td>\n",
       "      <td>-0.091716</td>\n",
       "      <td>-0.253819</td>\n",
       "      <td>-0.326172</td>\n",
       "      <td>-0.321436</td>\n",
       "      <td>0.214191</td>\n",
       "    </tr>\n",
       "    <tr>\n",
       "      <th>27</th>\n",
       "      <td>Trendy</td>\n",
       "      <td>-0.070430</td>\n",
       "      <td>0.101325</td>\n",
       "      <td>0.064489</td>\n",
       "      <td>0.074197</td>\n",
       "      <td>0.141382</td>\n",
       "      <td>-0.233877</td>\n",
       "      <td>-0.077087</td>\n",
       "    </tr>\n",
       "    <tr>\n",
       "      <th>28</th>\n",
       "      <td>Mirror</td>\n",
       "      <td>0.278099</td>\n",
       "      <td>0.750740</td>\n",
       "      <td>0.374348</td>\n",
       "      <td>-0.021507</td>\n",
       "      <td>-0.403485</td>\n",
       "      <td>-0.501007</td>\n",
       "      <td>-0.477186</td>\n",
       "    </tr>\n",
       "    <tr>\n",
       "      <th>29</th>\n",
       "      <td>CenterofAttention</td>\n",
       "      <td>0.031008</td>\n",
       "      <td>-0.019870</td>\n",
       "      <td>-0.031035</td>\n",
       "      <td>-0.004228</td>\n",
       "      <td>0.096523</td>\n",
       "      <td>-0.136801</td>\n",
       "      <td>0.064405</td>\n",
       "    </tr>\n",
       "    <tr>\n",
       "      <th>30</th>\n",
       "      <td>Freedom</td>\n",
       "      <td>0.358279</td>\n",
       "      <td>0.342087</td>\n",
       "      <td>0.222444</td>\n",
       "      <td>0.007945</td>\n",
       "      <td>-0.124636</td>\n",
       "      <td>-0.381957</td>\n",
       "      <td>-0.424163</td>\n",
       "    </tr>\n",
       "    <tr>\n",
       "      <th>31</th>\n",
       "      <td>Authority</td>\n",
       "      <td>-0.321639</td>\n",
       "      <td>-0.442738</td>\n",
       "      <td>-0.251726</td>\n",
       "      <td>0.147705</td>\n",
       "      <td>0.388447</td>\n",
       "      <td>0.270446</td>\n",
       "      <td>0.209506</td>\n",
       "    </tr>\n",
       "    <tr>\n",
       "      <th>32</th>\n",
       "      <td>LeaderPreference</td>\n",
       "      <td>-0.134851</td>\n",
       "      <td>-0.061132</td>\n",
       "      <td>0.098319</td>\n",
       "      <td>-0.043042</td>\n",
       "      <td>0.070318</td>\n",
       "      <td>-0.075526</td>\n",
       "      <td>0.145914</td>\n",
       "    </tr>\n",
       "    <tr>\n",
       "      <th>33</th>\n",
       "      <td>Confidence in Success</td>\n",
       "      <td>0.276543</td>\n",
       "      <td>0.441118</td>\n",
       "      <td>0.267792</td>\n",
       "      <td>-0.005163</td>\n",
       "      <td>-0.384844</td>\n",
       "      <td>-0.306666</td>\n",
       "      <td>-0.288780</td>\n",
       "    </tr>\n",
       "    <tr>\n",
       "      <th>34</th>\n",
       "      <td>MakeBelieve</td>\n",
       "      <td>0.206806</td>\n",
       "      <td>0.315893</td>\n",
       "      <td>0.047831</td>\n",
       "      <td>-0.103052</td>\n",
       "      <td>-0.282773</td>\n",
       "      <td>-0.350988</td>\n",
       "      <td>0.166284</td>\n",
       "    </tr>\n",
       "    <tr>\n",
       "      <th>35</th>\n",
       "      <td>Leadership Origin</td>\n",
       "      <td>0.010170</td>\n",
       "      <td>-0.320380</td>\n",
       "      <td>-0.303975</td>\n",
       "      <td>-0.221575</td>\n",
       "      <td>-0.164247</td>\n",
       "      <td>0.143682</td>\n",
       "      <td>0.856326</td>\n",
       "    </tr>\n",
       "    <tr>\n",
       "      <th>36</th>\n",
       "      <td>Biography</td>\n",
       "      <td>0.053678</td>\n",
       "      <td>0.174620</td>\n",
       "      <td>0.083221</td>\n",
       "      <td>-0.027247</td>\n",
       "      <td>-0.198106</td>\n",
       "      <td>-0.121650</td>\n",
       "      <td>0.035484</td>\n",
       "    </tr>\n",
       "    <tr>\n",
       "      <th>37</th>\n",
       "      <td>Public Opinion</td>\n",
       "      <td>0.342346</td>\n",
       "      <td>-0.025012</td>\n",
       "      <td>-0.192160</td>\n",
       "      <td>-0.303259</td>\n",
       "      <td>-0.245048</td>\n",
       "      <td>0.104965</td>\n",
       "      <td>0.318169</td>\n",
       "    </tr>\n",
       "    <tr>\n",
       "      <th>38</th>\n",
       "      <td>Capability</td>\n",
       "      <td>-0.437892</td>\n",
       "      <td>-0.321702</td>\n",
       "      <td>0.048549</td>\n",
       "      <td>0.091787</td>\n",
       "      <td>0.293819</td>\n",
       "      <td>0.047845</td>\n",
       "      <td>0.277594</td>\n",
       "    </tr>\n",
       "    <tr>\n",
       "      <th>39</th>\n",
       "      <td>Extraordinary</td>\n",
       "      <td>-0.054911</td>\n",
       "      <td>-0.163291</td>\n",
       "      <td>0.004083</td>\n",
       "      <td>-0.063460</td>\n",
       "      <td>-0.019881</td>\n",
       "      <td>0.061197</td>\n",
       "      <td>0.236261</td>\n",
       "    </tr>\n",
       "  </tbody>\n",
       "</table>\n",
       "</div>"
      ],
      "text/plain": [
       "                  Questions  Under 18     18-24     25-34     35-44     45-54  \\\n",
       "0                 Influence -0.471141 -0.037147  0.106591  0.302387  0.233766   \n",
       "1                   Modesty  0.278013  0.050401  0.034247  0.049567 -0.022215   \n",
       "2                    Daring  0.411626  0.307896  0.277344  0.089426 -0.039425   \n",
       "3                Confidence  0.363375 -0.156995 -0.345404 -0.261665 -0.305617   \n",
       "4                    Ruling -0.078589  0.093683  0.235101  0.014987 -0.079831   \n",
       "5            Responsibility  0.277893  0.382507  0.243928  0.035842 -0.086745   \n",
       "6               IntrovExtro  0.002649 -0.158144 -0.049756  0.167311  0.010794   \n",
       "7                   Success -0.084138  0.474414  0.423955  0.160856 -0.039429   \n",
       "8                    Humble -0.197479  0.037962  0.279037  0.061713 -0.001198   \n",
       "9                Leadership -0.335812  0.055252  0.167576  0.100175  0.190869   \n",
       "10                Assertive -0.271055 -0.294566 -0.149891  0.059617  0.208733   \n",
       "11                Compliant  0.176263  0.031702 -0.134959  0.055857 -0.109706   \n",
       "12               Manipulate  0.431642  0.268315  0.067010 -0.049465 -0.364989   \n",
       "13                  Respect -0.018275  0.054184  0.111741  0.009813  0.079121   \n",
       "14              ShowOffBody -0.329127  0.007525  0.013710  0.094475  0.416467   \n",
       "15            AnalyzePeople -0.031649  0.253025  0.311342  0.169644  0.138226   \n",
       "16  Decision Responsibility  0.128321 -0.201376 -0.275211  0.089685  0.170952   \n",
       "17            HappyvMeaning  0.255996  0.148397  0.072576 -0.151424 -0.083507   \n",
       "18           BodyConfidence -0.117619  0.067088  0.126613  0.214258 -0.181034   \n",
       "19                  ShowOff  0.000428 -0.048783  0.065621 -0.058840  0.045280   \n",
       "20             KnowWhattoDo -0.422201 -0.225887 -0.258954 -0.073041  0.254707   \n",
       "21               Dependence  0.009450  0.224348  0.181942  0.120319 -0.110322   \n",
       "22             Storytelling -0.128091 -0.444949 -0.223827  0.136205  0.155717   \n",
       "23             Expectations -0.306780  0.033687  0.136987  0.250668  0.269908   \n",
       "24             Satisfaction  0.146665  0.227093  0.157915  0.143829 -0.081342   \n",
       "25              Compliments -0.561669  0.027558  0.009361  0.065906  0.257839   \n",
       "26                    Power  0.514581  0.264372 -0.091716 -0.253819 -0.326172   \n",
       "27                   Trendy -0.070430  0.101325  0.064489  0.074197  0.141382   \n",
       "28                   Mirror  0.278099  0.750740  0.374348 -0.021507 -0.403485   \n",
       "29        CenterofAttention  0.031008 -0.019870 -0.031035 -0.004228  0.096523   \n",
       "30                  Freedom  0.358279  0.342087  0.222444  0.007945 -0.124636   \n",
       "31                Authority -0.321639 -0.442738 -0.251726  0.147705  0.388447   \n",
       "32         LeaderPreference -0.134851 -0.061132  0.098319 -0.043042  0.070318   \n",
       "33    Confidence in Success  0.276543  0.441118  0.267792 -0.005163 -0.384844   \n",
       "34              MakeBelieve  0.206806  0.315893  0.047831 -0.103052 -0.282773   \n",
       "35        Leadership Origin  0.010170 -0.320380 -0.303975 -0.221575 -0.164247   \n",
       "36                Biography  0.053678  0.174620  0.083221 -0.027247 -0.198106   \n",
       "37           Public Opinion  0.342346 -0.025012 -0.192160 -0.303259 -0.245048   \n",
       "38               Capability -0.437892 -0.321702  0.048549  0.091787  0.293819   \n",
       "39            Extraordinary -0.054911 -0.163291  0.004083 -0.063460 -0.019881   \n",
       "\n",
       "       55-64       65+  \n",
       "0   0.110064 -0.244521  \n",
       "1  -0.009111 -0.380902  \n",
       "2  -0.180162 -0.866705  \n",
       "3   0.173323  0.532982  \n",
       "4  -0.047458 -0.137893  \n",
       "5  -0.298205 -0.555221  \n",
       "6   0.053621 -0.026475  \n",
       "7  -0.142971 -0.792687  \n",
       "8  -0.056829 -0.123205  \n",
       "9   0.093467 -0.271527  \n",
       "10  0.305568  0.141594  \n",
       "11  0.157407 -0.176565  \n",
       "12 -0.011488 -0.341026  \n",
       "13 -0.009207 -0.227377  \n",
       "14  0.096661 -0.299711  \n",
       "15 -0.251382 -0.589206  \n",
       "16  0.014985  0.072644  \n",
       "17 -0.084184 -0.157854  \n",
       "18  0.040883 -0.150190  \n",
       "19  0.011649 -0.015355  \n",
       "20  0.259511  0.465864  \n",
       "21  0.083946 -0.509682  \n",
       "22  0.060468  0.444476  \n",
       "23 -0.040942 -0.343528  \n",
       "24 -0.385959 -0.208201  \n",
       "25  0.186053  0.014953  \n",
       "26 -0.321436  0.214191  \n",
       "27 -0.233877 -0.077087  \n",
       "28 -0.501007 -0.477186  \n",
       "29 -0.136801  0.064405  \n",
       "30 -0.381957 -0.424163  \n",
       "31  0.270446  0.209506  \n",
       "32 -0.075526  0.145914  \n",
       "33 -0.306666 -0.288780  \n",
       "34 -0.350988  0.166284  \n",
       "35  0.143682  0.856326  \n",
       "36 -0.121650  0.035484  \n",
       "37  0.104965  0.318169  \n",
       "38  0.047845  0.277594  \n",
       "39  0.061197  0.236261  "
      ]
     },
     "metadata": {},
     "output_type": "display_data"
    },
    {
     "data": {
      "application/javascript": [
       "\n",
       "            setTimeout(function() {\n",
       "                var nbb_cell_id = 28;\n",
       "                var nbb_unformatted_code = \"model.fit(X_train, Y_train)\\n\\n# Create dataframe for coefficients\\nmodel_coef = pd.DataFrame(model.coef_.T)\\nmodel_coef.insert(0, \\\"Questions\\\", X.columns)\\nmodel_coef.columns = [\\\"Questions\\\", \\\"Under 18\\\", \\\"18-24\\\", \\\"25-34\\\", \\\"35-44\\\", \\\"45-54\\\", \\\"55-64\\\", \\\"65+\\\"]\\nY_pred = model.predict(X_test)\\n\\n# Create dataframe to assess predictions\\nmodel_eval = pd.DataFrame({\\\"Actual\\\": Y_test, \\\"Predicted\\\": Y_pred})\\ndisplay(model_eval)\\ndisplay(model_coef)\";\n",
       "                var nbb_formatted_code = \"model.fit(X_train, Y_train)\\n\\n# Create dataframe for coefficients\\nmodel_coef = pd.DataFrame(model.coef_.T)\\nmodel_coef.insert(0, \\\"Questions\\\", X.columns)\\nmodel_coef.columns = [\\n    \\\"Questions\\\",\\n    \\\"Under 18\\\",\\n    \\\"18-24\\\",\\n    \\\"25-34\\\",\\n    \\\"35-44\\\",\\n    \\\"45-54\\\",\\n    \\\"55-64\\\",\\n    \\\"65+\\\",\\n]\\nY_pred = model.predict(X_test)\\n\\n# Create dataframe to assess predictions\\nmodel_eval = pd.DataFrame({\\\"Actual\\\": Y_test, \\\"Predicted\\\": Y_pred})\\ndisplay(model_eval)\\ndisplay(model_coef)\";\n",
       "                var nbb_cells = Jupyter.notebook.get_cells();\n",
       "                for (var i = 0; i < nbb_cells.length; ++i) {\n",
       "                    if (nbb_cells[i].input_prompt_number == nbb_cell_id) {\n",
       "                        if (nbb_cells[i].get_text() == nbb_unformatted_code) {\n",
       "                             nbb_cells[i].set_text(nbb_formatted_code);\n",
       "                        }\n",
       "                        break;\n",
       "                    }\n",
       "                }\n",
       "            }, 500);\n",
       "            "
      ],
      "text/plain": [
       "<IPython.core.display.Javascript object>"
      ]
     },
     "metadata": {},
     "output_type": "display_data"
    }
   ],
   "source": [
    "model.fit(X_train, Y_train)\n",
    "\n",
    "# Create dataframe for coefficients\n",
    "model_coef = pd.DataFrame(model.coef_.T)\n",
    "model_coef.insert(0, \"Questions\", X.columns)\n",
    "model_coef.columns = [\n",
    "    \"Questions\",\n",
    "    \"Under 18\",\n",
    "    \"18-24\",\n",
    "    \"25-34\",\n",
    "    \"35-44\",\n",
    "    \"45-54\",\n",
    "    \"55-64\",\n",
    "    \"65+\",\n",
    "]\n",
    "Y_pred = model.predict(X_test)\n",
    "\n",
    "# Create dataframe to assess predictions\n",
    "model_eval = pd.DataFrame({\"Actual\": Y_test, \"Predicted\": Y_pred})\n",
    "display(model_eval)\n",
    "display(model_coef)"
   ]
  },
  {
   "cell_type": "code",
   "execution_count": 29,
   "id": "9db7e467",
   "metadata": {},
   "outputs": [
    {
     "data": {
      "text/plain": [
       "array([[  3, 101,  40,   6,   2,   0,   0],\n",
       "       [ 13, 445, 292,  39,  32,   5,   4],\n",
       "       [ 13, 371, 349,  63,  51,  14,   5],\n",
       "       [  6, 171, 203,  75,  73,  13,   7],\n",
       "       [ 10,  90, 128,  46, 102,  11,   5],\n",
       "       [  7,  46,  75,  30,  78,  12,   2],\n",
       "       [  1,   9,  23,   9,  31,   3,   1]], dtype=int64)"
      ]
     },
     "metadata": {},
     "output_type": "display_data"
    },
    {
     "data": {
      "application/vnd.plotly.v1+json": {
       "config": {
        "plotlyServerURL": "https://plot.ly"
       },
       "data": [
        {
         "coloraxis": "coloraxis",
         "hovertemplate": "Predicted Values: %{x}<br>True Values: %{y}<br>Percentage Classified: %{z}<extra></extra>",
         "name": "0",
         "type": "heatmap",
         "x": [
          "Under 18",
          "18-24",
          "25-34",
          "35-44",
          "45-54",
          "55-64",
          "65+"
         ],
         "xaxis": "x",
         "y": [
          "Under 18",
          "18-24",
          "25-34",
          "35-44",
          "45-54",
          "55-64",
          "65+"
         ],
         "yaxis": "y",
         "z": [
          [
           0.096,
           3.242,
           1.284,
           0.193,
           0.064,
           0,
           0
          ],
          [
           0.417,
           14.286,
           9.374,
           1.252,
           1.027,
           0.161,
           0.128
          ],
          [
           0.417,
           11.91,
           11.204,
           2.022,
           1.637,
           0.449,
           0.161
          ],
          [
           0.193,
           5.49,
           6.517,
           2.408,
           2.343,
           0.417,
           0.225
          ],
          [
           0.321,
           2.889,
           4.109,
           1.477,
           3.274,
           0.353,
           0.161
          ],
          [
           0.225,
           1.477,
           2.408,
           0.963,
           2.504,
           0.385,
           0.064
          ],
          [
           0.032,
           0.289,
           0.738,
           0.289,
           0.995,
           0.096,
           0.032
          ]
         ]
        }
       ],
       "layout": {
        "coloraxis": {
         "colorbar": {
          "title": {
           "text": "Percentage Classified"
          }
         },
         "colorscale": [
          [
           0,
           "#0d0887"
          ],
          [
           0.1111111111111111,
           "#46039f"
          ],
          [
           0.2222222222222222,
           "#7201a8"
          ],
          [
           0.3333333333333333,
           "#9c179e"
          ],
          [
           0.4444444444444444,
           "#bd3786"
          ],
          [
           0.5555555555555556,
           "#d8576b"
          ],
          [
           0.6666666666666666,
           "#ed7953"
          ],
          [
           0.7777777777777778,
           "#fb9f3a"
          ],
          [
           0.8888888888888888,
           "#fdca26"
          ],
          [
           1,
           "#f0f921"
          ]
         ]
        },
        "margin": {
         "t": 60
        },
        "template": {
         "data": {
          "bar": [
           {
            "error_x": {
             "color": "#2a3f5f"
            },
            "error_y": {
             "color": "#2a3f5f"
            },
            "marker": {
             "line": {
              "color": "#E5ECF6",
              "width": 0.5
             },
             "pattern": {
              "fillmode": "overlay",
              "size": 10,
              "solidity": 0.2
             }
            },
            "type": "bar"
           }
          ],
          "barpolar": [
           {
            "marker": {
             "line": {
              "color": "#E5ECF6",
              "width": 0.5
             },
             "pattern": {
              "fillmode": "overlay",
              "size": 10,
              "solidity": 0.2
             }
            },
            "type": "barpolar"
           }
          ],
          "carpet": [
           {
            "aaxis": {
             "endlinecolor": "#2a3f5f",
             "gridcolor": "white",
             "linecolor": "white",
             "minorgridcolor": "white",
             "startlinecolor": "#2a3f5f"
            },
            "baxis": {
             "endlinecolor": "#2a3f5f",
             "gridcolor": "white",
             "linecolor": "white",
             "minorgridcolor": "white",
             "startlinecolor": "#2a3f5f"
            },
            "type": "carpet"
           }
          ],
          "choropleth": [
           {
            "colorbar": {
             "outlinewidth": 0,
             "ticks": ""
            },
            "type": "choropleth"
           }
          ],
          "contour": [
           {
            "colorbar": {
             "outlinewidth": 0,
             "ticks": ""
            },
            "colorscale": [
             [
              0,
              "#0d0887"
             ],
             [
              0.1111111111111111,
              "#46039f"
             ],
             [
              0.2222222222222222,
              "#7201a8"
             ],
             [
              0.3333333333333333,
              "#9c179e"
             ],
             [
              0.4444444444444444,
              "#bd3786"
             ],
             [
              0.5555555555555556,
              "#d8576b"
             ],
             [
              0.6666666666666666,
              "#ed7953"
             ],
             [
              0.7777777777777778,
              "#fb9f3a"
             ],
             [
              0.8888888888888888,
              "#fdca26"
             ],
             [
              1,
              "#f0f921"
             ]
            ],
            "type": "contour"
           }
          ],
          "contourcarpet": [
           {
            "colorbar": {
             "outlinewidth": 0,
             "ticks": ""
            },
            "type": "contourcarpet"
           }
          ],
          "heatmap": [
           {
            "colorbar": {
             "outlinewidth": 0,
             "ticks": ""
            },
            "colorscale": [
             [
              0,
              "#0d0887"
             ],
             [
              0.1111111111111111,
              "#46039f"
             ],
             [
              0.2222222222222222,
              "#7201a8"
             ],
             [
              0.3333333333333333,
              "#9c179e"
             ],
             [
              0.4444444444444444,
              "#bd3786"
             ],
             [
              0.5555555555555556,
              "#d8576b"
             ],
             [
              0.6666666666666666,
              "#ed7953"
             ],
             [
              0.7777777777777778,
              "#fb9f3a"
             ],
             [
              0.8888888888888888,
              "#fdca26"
             ],
             [
              1,
              "#f0f921"
             ]
            ],
            "type": "heatmap"
           }
          ],
          "heatmapgl": [
           {
            "colorbar": {
             "outlinewidth": 0,
             "ticks": ""
            },
            "colorscale": [
             [
              0,
              "#0d0887"
             ],
             [
              0.1111111111111111,
              "#46039f"
             ],
             [
              0.2222222222222222,
              "#7201a8"
             ],
             [
              0.3333333333333333,
              "#9c179e"
             ],
             [
              0.4444444444444444,
              "#bd3786"
             ],
             [
              0.5555555555555556,
              "#d8576b"
             ],
             [
              0.6666666666666666,
              "#ed7953"
             ],
             [
              0.7777777777777778,
              "#fb9f3a"
             ],
             [
              0.8888888888888888,
              "#fdca26"
             ],
             [
              1,
              "#f0f921"
             ]
            ],
            "type": "heatmapgl"
           }
          ],
          "histogram": [
           {
            "marker": {
             "pattern": {
              "fillmode": "overlay",
              "size": 10,
              "solidity": 0.2
             }
            },
            "type": "histogram"
           }
          ],
          "histogram2d": [
           {
            "colorbar": {
             "outlinewidth": 0,
             "ticks": ""
            },
            "colorscale": [
             [
              0,
              "#0d0887"
             ],
             [
              0.1111111111111111,
              "#46039f"
             ],
             [
              0.2222222222222222,
              "#7201a8"
             ],
             [
              0.3333333333333333,
              "#9c179e"
             ],
             [
              0.4444444444444444,
              "#bd3786"
             ],
             [
              0.5555555555555556,
              "#d8576b"
             ],
             [
              0.6666666666666666,
              "#ed7953"
             ],
             [
              0.7777777777777778,
              "#fb9f3a"
             ],
             [
              0.8888888888888888,
              "#fdca26"
             ],
             [
              1,
              "#f0f921"
             ]
            ],
            "type": "histogram2d"
           }
          ],
          "histogram2dcontour": [
           {
            "colorbar": {
             "outlinewidth": 0,
             "ticks": ""
            },
            "colorscale": [
             [
              0,
              "#0d0887"
             ],
             [
              0.1111111111111111,
              "#46039f"
             ],
             [
              0.2222222222222222,
              "#7201a8"
             ],
             [
              0.3333333333333333,
              "#9c179e"
             ],
             [
              0.4444444444444444,
              "#bd3786"
             ],
             [
              0.5555555555555556,
              "#d8576b"
             ],
             [
              0.6666666666666666,
              "#ed7953"
             ],
             [
              0.7777777777777778,
              "#fb9f3a"
             ],
             [
              0.8888888888888888,
              "#fdca26"
             ],
             [
              1,
              "#f0f921"
             ]
            ],
            "type": "histogram2dcontour"
           }
          ],
          "mesh3d": [
           {
            "colorbar": {
             "outlinewidth": 0,
             "ticks": ""
            },
            "type": "mesh3d"
           }
          ],
          "parcoords": [
           {
            "line": {
             "colorbar": {
              "outlinewidth": 0,
              "ticks": ""
             }
            },
            "type": "parcoords"
           }
          ],
          "pie": [
           {
            "automargin": true,
            "type": "pie"
           }
          ],
          "scatter": [
           {
            "marker": {
             "colorbar": {
              "outlinewidth": 0,
              "ticks": ""
             }
            },
            "type": "scatter"
           }
          ],
          "scatter3d": [
           {
            "line": {
             "colorbar": {
              "outlinewidth": 0,
              "ticks": ""
             }
            },
            "marker": {
             "colorbar": {
              "outlinewidth": 0,
              "ticks": ""
             }
            },
            "type": "scatter3d"
           }
          ],
          "scattercarpet": [
           {
            "marker": {
             "colorbar": {
              "outlinewidth": 0,
              "ticks": ""
             }
            },
            "type": "scattercarpet"
           }
          ],
          "scattergeo": [
           {
            "marker": {
             "colorbar": {
              "outlinewidth": 0,
              "ticks": ""
             }
            },
            "type": "scattergeo"
           }
          ],
          "scattergl": [
           {
            "marker": {
             "colorbar": {
              "outlinewidth": 0,
              "ticks": ""
             }
            },
            "type": "scattergl"
           }
          ],
          "scattermapbox": [
           {
            "marker": {
             "colorbar": {
              "outlinewidth": 0,
              "ticks": ""
             }
            },
            "type": "scattermapbox"
           }
          ],
          "scatterpolar": [
           {
            "marker": {
             "colorbar": {
              "outlinewidth": 0,
              "ticks": ""
             }
            },
            "type": "scatterpolar"
           }
          ],
          "scatterpolargl": [
           {
            "marker": {
             "colorbar": {
              "outlinewidth": 0,
              "ticks": ""
             }
            },
            "type": "scatterpolargl"
           }
          ],
          "scatterternary": [
           {
            "marker": {
             "colorbar": {
              "outlinewidth": 0,
              "ticks": ""
             }
            },
            "type": "scatterternary"
           }
          ],
          "surface": [
           {
            "colorbar": {
             "outlinewidth": 0,
             "ticks": ""
            },
            "colorscale": [
             [
              0,
              "#0d0887"
             ],
             [
              0.1111111111111111,
              "#46039f"
             ],
             [
              0.2222222222222222,
              "#7201a8"
             ],
             [
              0.3333333333333333,
              "#9c179e"
             ],
             [
              0.4444444444444444,
              "#bd3786"
             ],
             [
              0.5555555555555556,
              "#d8576b"
             ],
             [
              0.6666666666666666,
              "#ed7953"
             ],
             [
              0.7777777777777778,
              "#fb9f3a"
             ],
             [
              0.8888888888888888,
              "#fdca26"
             ],
             [
              1,
              "#f0f921"
             ]
            ],
            "type": "surface"
           }
          ],
          "table": [
           {
            "cells": {
             "fill": {
              "color": "#EBF0F8"
             },
             "line": {
              "color": "white"
             }
            },
            "header": {
             "fill": {
              "color": "#C8D4E3"
             },
             "line": {
              "color": "white"
             }
            },
            "type": "table"
           }
          ]
         },
         "layout": {
          "annotationdefaults": {
           "arrowcolor": "#2a3f5f",
           "arrowhead": 0,
           "arrowwidth": 1
          },
          "autotypenumbers": "strict",
          "coloraxis": {
           "colorbar": {
            "outlinewidth": 0,
            "ticks": ""
           }
          },
          "colorscale": {
           "diverging": [
            [
             0,
             "#8e0152"
            ],
            [
             0.1,
             "#c51b7d"
            ],
            [
             0.2,
             "#de77ae"
            ],
            [
             0.3,
             "#f1b6da"
            ],
            [
             0.4,
             "#fde0ef"
            ],
            [
             0.5,
             "#f7f7f7"
            ],
            [
             0.6,
             "#e6f5d0"
            ],
            [
             0.7,
             "#b8e186"
            ],
            [
             0.8,
             "#7fbc41"
            ],
            [
             0.9,
             "#4d9221"
            ],
            [
             1,
             "#276419"
            ]
           ],
           "sequential": [
            [
             0,
             "#0d0887"
            ],
            [
             0.1111111111111111,
             "#46039f"
            ],
            [
             0.2222222222222222,
             "#7201a8"
            ],
            [
             0.3333333333333333,
             "#9c179e"
            ],
            [
             0.4444444444444444,
             "#bd3786"
            ],
            [
             0.5555555555555556,
             "#d8576b"
            ],
            [
             0.6666666666666666,
             "#ed7953"
            ],
            [
             0.7777777777777778,
             "#fb9f3a"
            ],
            [
             0.8888888888888888,
             "#fdca26"
            ],
            [
             1,
             "#f0f921"
            ]
           ],
           "sequentialminus": [
            [
             0,
             "#0d0887"
            ],
            [
             0.1111111111111111,
             "#46039f"
            ],
            [
             0.2222222222222222,
             "#7201a8"
            ],
            [
             0.3333333333333333,
             "#9c179e"
            ],
            [
             0.4444444444444444,
             "#bd3786"
            ],
            [
             0.5555555555555556,
             "#d8576b"
            ],
            [
             0.6666666666666666,
             "#ed7953"
            ],
            [
             0.7777777777777778,
             "#fb9f3a"
            ],
            [
             0.8888888888888888,
             "#fdca26"
            ],
            [
             1,
             "#f0f921"
            ]
           ]
          },
          "colorway": [
           "#636efa",
           "#EF553B",
           "#00cc96",
           "#ab63fa",
           "#FFA15A",
           "#19d3f3",
           "#FF6692",
           "#B6E880",
           "#FF97FF",
           "#FECB52"
          ],
          "font": {
           "color": "#2a3f5f"
          },
          "geo": {
           "bgcolor": "white",
           "lakecolor": "white",
           "landcolor": "#E5ECF6",
           "showlakes": true,
           "showland": true,
           "subunitcolor": "white"
          },
          "hoverlabel": {
           "align": "left"
          },
          "hovermode": "closest",
          "mapbox": {
           "style": "light"
          },
          "paper_bgcolor": "white",
          "plot_bgcolor": "#E5ECF6",
          "polar": {
           "angularaxis": {
            "gridcolor": "white",
            "linecolor": "white",
            "ticks": ""
           },
           "bgcolor": "#E5ECF6",
           "radialaxis": {
            "gridcolor": "white",
            "linecolor": "white",
            "ticks": ""
           }
          },
          "scene": {
           "xaxis": {
            "backgroundcolor": "#E5ECF6",
            "gridcolor": "white",
            "gridwidth": 2,
            "linecolor": "white",
            "showbackground": true,
            "ticks": "",
            "zerolinecolor": "white"
           },
           "yaxis": {
            "backgroundcolor": "#E5ECF6",
            "gridcolor": "white",
            "gridwidth": 2,
            "linecolor": "white",
            "showbackground": true,
            "ticks": "",
            "zerolinecolor": "white"
           },
           "zaxis": {
            "backgroundcolor": "#E5ECF6",
            "gridcolor": "white",
            "gridwidth": 2,
            "linecolor": "white",
            "showbackground": true,
            "ticks": "",
            "zerolinecolor": "white"
           }
          },
          "shapedefaults": {
           "line": {
            "color": "#2a3f5f"
           }
          },
          "ternary": {
           "aaxis": {
            "gridcolor": "white",
            "linecolor": "white",
            "ticks": ""
           },
           "baxis": {
            "gridcolor": "white",
            "linecolor": "white",
            "ticks": ""
           },
           "bgcolor": "#E5ECF6",
           "caxis": {
            "gridcolor": "white",
            "linecolor": "white",
            "ticks": ""
           }
          },
          "title": {
           "x": 0.05
          },
          "xaxis": {
           "automargin": true,
           "gridcolor": "white",
           "linecolor": "white",
           "ticks": "",
           "title": {
            "standoff": 15
           },
           "zerolinecolor": "white",
           "zerolinewidth": 2
          },
          "yaxis": {
           "automargin": true,
           "gridcolor": "white",
           "linecolor": "white",
           "ticks": "",
           "title": {
            "standoff": 15
           },
           "zerolinecolor": "white",
           "zerolinewidth": 2
          }
         }
        },
        "xaxis": {
         "anchor": "y",
         "constrain": "domain",
         "domain": [
          0,
          1
         ],
         "scaleanchor": "y",
         "side": "top",
         "title": {
          "text": "Predicted Values"
         }
        },
        "yaxis": {
         "anchor": "x",
         "autorange": "reversed",
         "constrain": "domain",
         "domain": [
          0,
          1
         ],
         "title": {
          "text": "True Values"
         }
        }
       }
      },
      "text/html": [
       "<div>                            <div id=\"59c2854c-8f1d-4d82-b634-f1bf267a2b09\" class=\"plotly-graph-div\" style=\"height:525px; width:100%;\"></div>            <script type=\"text/javascript\">                require([\"plotly\"], function(Plotly) {                    window.PLOTLYENV=window.PLOTLYENV || {};                                    if (document.getElementById(\"59c2854c-8f1d-4d82-b634-f1bf267a2b09\")) {                    Plotly.newPlot(                        \"59c2854c-8f1d-4d82-b634-f1bf267a2b09\",                        [{\"coloraxis\":\"coloraxis\",\"name\":\"0\",\"x\":[\"Under 18\",\"18-24\",\"25-34\",\"35-44\",\"45-54\",\"55-64\",\"65+\"],\"y\":[\"Under 18\",\"18-24\",\"25-34\",\"35-44\",\"45-54\",\"55-64\",\"65+\"],\"z\":[[0.096,3.242,1.284,0.193,0.064,0.0,0.0],[0.417,14.286,9.374,1.252,1.027,0.161,0.128],[0.417,11.91,11.204,2.022,1.637,0.449,0.161],[0.193,5.49,6.517,2.408,2.343,0.417,0.225],[0.321,2.889,4.109,1.477,3.274,0.353,0.161],[0.225,1.477,2.408,0.963,2.504,0.385,0.064],[0.032,0.289,0.738,0.289,0.995,0.096,0.032]],\"type\":\"heatmap\",\"xaxis\":\"x\",\"yaxis\":\"y\",\"hovertemplate\":\"Predicted Values: %{x}<br>True Values: %{y}<br>Percentage Classified: %{z}<extra></extra>\"}],                        {\"template\":{\"data\":{\"bar\":[{\"error_x\":{\"color\":\"#2a3f5f\"},\"error_y\":{\"color\":\"#2a3f5f\"},\"marker\":{\"line\":{\"color\":\"#E5ECF6\",\"width\":0.5},\"pattern\":{\"fillmode\":\"overlay\",\"size\":10,\"solidity\":0.2}},\"type\":\"bar\"}],\"barpolar\":[{\"marker\":{\"line\":{\"color\":\"#E5ECF6\",\"width\":0.5},\"pattern\":{\"fillmode\":\"overlay\",\"size\":10,\"solidity\":0.2}},\"type\":\"barpolar\"}],\"carpet\":[{\"aaxis\":{\"endlinecolor\":\"#2a3f5f\",\"gridcolor\":\"white\",\"linecolor\":\"white\",\"minorgridcolor\":\"white\",\"startlinecolor\":\"#2a3f5f\"},\"baxis\":{\"endlinecolor\":\"#2a3f5f\",\"gridcolor\":\"white\",\"linecolor\":\"white\",\"minorgridcolor\":\"white\",\"startlinecolor\":\"#2a3f5f\"},\"type\":\"carpet\"}],\"choropleth\":[{\"colorbar\":{\"outlinewidth\":0,\"ticks\":\"\"},\"type\":\"choropleth\"}],\"contour\":[{\"colorbar\":{\"outlinewidth\":0,\"ticks\":\"\"},\"colorscale\":[[0.0,\"#0d0887\"],[0.1111111111111111,\"#46039f\"],[0.2222222222222222,\"#7201a8\"],[0.3333333333333333,\"#9c179e\"],[0.4444444444444444,\"#bd3786\"],[0.5555555555555556,\"#d8576b\"],[0.6666666666666666,\"#ed7953\"],[0.7777777777777778,\"#fb9f3a\"],[0.8888888888888888,\"#fdca26\"],[1.0,\"#f0f921\"]],\"type\":\"contour\"}],\"contourcarpet\":[{\"colorbar\":{\"outlinewidth\":0,\"ticks\":\"\"},\"type\":\"contourcarpet\"}],\"heatmap\":[{\"colorbar\":{\"outlinewidth\":0,\"ticks\":\"\"},\"colorscale\":[[0.0,\"#0d0887\"],[0.1111111111111111,\"#46039f\"],[0.2222222222222222,\"#7201a8\"],[0.3333333333333333,\"#9c179e\"],[0.4444444444444444,\"#bd3786\"],[0.5555555555555556,\"#d8576b\"],[0.6666666666666666,\"#ed7953\"],[0.7777777777777778,\"#fb9f3a\"],[0.8888888888888888,\"#fdca26\"],[1.0,\"#f0f921\"]],\"type\":\"heatmap\"}],\"heatmapgl\":[{\"colorbar\":{\"outlinewidth\":0,\"ticks\":\"\"},\"colorscale\":[[0.0,\"#0d0887\"],[0.1111111111111111,\"#46039f\"],[0.2222222222222222,\"#7201a8\"],[0.3333333333333333,\"#9c179e\"],[0.4444444444444444,\"#bd3786\"],[0.5555555555555556,\"#d8576b\"],[0.6666666666666666,\"#ed7953\"],[0.7777777777777778,\"#fb9f3a\"],[0.8888888888888888,\"#fdca26\"],[1.0,\"#f0f921\"]],\"type\":\"heatmapgl\"}],\"histogram\":[{\"marker\":{\"pattern\":{\"fillmode\":\"overlay\",\"size\":10,\"solidity\":0.2}},\"type\":\"histogram\"}],\"histogram2d\":[{\"colorbar\":{\"outlinewidth\":0,\"ticks\":\"\"},\"colorscale\":[[0.0,\"#0d0887\"],[0.1111111111111111,\"#46039f\"],[0.2222222222222222,\"#7201a8\"],[0.3333333333333333,\"#9c179e\"],[0.4444444444444444,\"#bd3786\"],[0.5555555555555556,\"#d8576b\"],[0.6666666666666666,\"#ed7953\"],[0.7777777777777778,\"#fb9f3a\"],[0.8888888888888888,\"#fdca26\"],[1.0,\"#f0f921\"]],\"type\":\"histogram2d\"}],\"histogram2dcontour\":[{\"colorbar\":{\"outlinewidth\":0,\"ticks\":\"\"},\"colorscale\":[[0.0,\"#0d0887\"],[0.1111111111111111,\"#46039f\"],[0.2222222222222222,\"#7201a8\"],[0.3333333333333333,\"#9c179e\"],[0.4444444444444444,\"#bd3786\"],[0.5555555555555556,\"#d8576b\"],[0.6666666666666666,\"#ed7953\"],[0.7777777777777778,\"#fb9f3a\"],[0.8888888888888888,\"#fdca26\"],[1.0,\"#f0f921\"]],\"type\":\"histogram2dcontour\"}],\"mesh3d\":[{\"colorbar\":{\"outlinewidth\":0,\"ticks\":\"\"},\"type\":\"mesh3d\"}],\"parcoords\":[{\"line\":{\"colorbar\":{\"outlinewidth\":0,\"ticks\":\"\"}},\"type\":\"parcoords\"}],\"pie\":[{\"automargin\":true,\"type\":\"pie\"}],\"scatter\":[{\"marker\":{\"colorbar\":{\"outlinewidth\":0,\"ticks\":\"\"}},\"type\":\"scatter\"}],\"scatter3d\":[{\"line\":{\"colorbar\":{\"outlinewidth\":0,\"ticks\":\"\"}},\"marker\":{\"colorbar\":{\"outlinewidth\":0,\"ticks\":\"\"}},\"type\":\"scatter3d\"}],\"scattercarpet\":[{\"marker\":{\"colorbar\":{\"outlinewidth\":0,\"ticks\":\"\"}},\"type\":\"scattercarpet\"}],\"scattergeo\":[{\"marker\":{\"colorbar\":{\"outlinewidth\":0,\"ticks\":\"\"}},\"type\":\"scattergeo\"}],\"scattergl\":[{\"marker\":{\"colorbar\":{\"outlinewidth\":0,\"ticks\":\"\"}},\"type\":\"scattergl\"}],\"scattermapbox\":[{\"marker\":{\"colorbar\":{\"outlinewidth\":0,\"ticks\":\"\"}},\"type\":\"scattermapbox\"}],\"scatterpolar\":[{\"marker\":{\"colorbar\":{\"outlinewidth\":0,\"ticks\":\"\"}},\"type\":\"scatterpolar\"}],\"scatterpolargl\":[{\"marker\":{\"colorbar\":{\"outlinewidth\":0,\"ticks\":\"\"}},\"type\":\"scatterpolargl\"}],\"scatterternary\":[{\"marker\":{\"colorbar\":{\"outlinewidth\":0,\"ticks\":\"\"}},\"type\":\"scatterternary\"}],\"surface\":[{\"colorbar\":{\"outlinewidth\":0,\"ticks\":\"\"},\"colorscale\":[[0.0,\"#0d0887\"],[0.1111111111111111,\"#46039f\"],[0.2222222222222222,\"#7201a8\"],[0.3333333333333333,\"#9c179e\"],[0.4444444444444444,\"#bd3786\"],[0.5555555555555556,\"#d8576b\"],[0.6666666666666666,\"#ed7953\"],[0.7777777777777778,\"#fb9f3a\"],[0.8888888888888888,\"#fdca26\"],[1.0,\"#f0f921\"]],\"type\":\"surface\"}],\"table\":[{\"cells\":{\"fill\":{\"color\":\"#EBF0F8\"},\"line\":{\"color\":\"white\"}},\"header\":{\"fill\":{\"color\":\"#C8D4E3\"},\"line\":{\"color\":\"white\"}},\"type\":\"table\"}]},\"layout\":{\"annotationdefaults\":{\"arrowcolor\":\"#2a3f5f\",\"arrowhead\":0,\"arrowwidth\":1},\"autotypenumbers\":\"strict\",\"coloraxis\":{\"colorbar\":{\"outlinewidth\":0,\"ticks\":\"\"}},\"colorscale\":{\"diverging\":[[0,\"#8e0152\"],[0.1,\"#c51b7d\"],[0.2,\"#de77ae\"],[0.3,\"#f1b6da\"],[0.4,\"#fde0ef\"],[0.5,\"#f7f7f7\"],[0.6,\"#e6f5d0\"],[0.7,\"#b8e186\"],[0.8,\"#7fbc41\"],[0.9,\"#4d9221\"],[1,\"#276419\"]],\"sequential\":[[0.0,\"#0d0887\"],[0.1111111111111111,\"#46039f\"],[0.2222222222222222,\"#7201a8\"],[0.3333333333333333,\"#9c179e\"],[0.4444444444444444,\"#bd3786\"],[0.5555555555555556,\"#d8576b\"],[0.6666666666666666,\"#ed7953\"],[0.7777777777777778,\"#fb9f3a\"],[0.8888888888888888,\"#fdca26\"],[1.0,\"#f0f921\"]],\"sequentialminus\":[[0.0,\"#0d0887\"],[0.1111111111111111,\"#46039f\"],[0.2222222222222222,\"#7201a8\"],[0.3333333333333333,\"#9c179e\"],[0.4444444444444444,\"#bd3786\"],[0.5555555555555556,\"#d8576b\"],[0.6666666666666666,\"#ed7953\"],[0.7777777777777778,\"#fb9f3a\"],[0.8888888888888888,\"#fdca26\"],[1.0,\"#f0f921\"]]},\"colorway\":[\"#636efa\",\"#EF553B\",\"#00cc96\",\"#ab63fa\",\"#FFA15A\",\"#19d3f3\",\"#FF6692\",\"#B6E880\",\"#FF97FF\",\"#FECB52\"],\"font\":{\"color\":\"#2a3f5f\"},\"geo\":{\"bgcolor\":\"white\",\"lakecolor\":\"white\",\"landcolor\":\"#E5ECF6\",\"showlakes\":true,\"showland\":true,\"subunitcolor\":\"white\"},\"hoverlabel\":{\"align\":\"left\"},\"hovermode\":\"closest\",\"mapbox\":{\"style\":\"light\"},\"paper_bgcolor\":\"white\",\"plot_bgcolor\":\"#E5ECF6\",\"polar\":{\"angularaxis\":{\"gridcolor\":\"white\",\"linecolor\":\"white\",\"ticks\":\"\"},\"bgcolor\":\"#E5ECF6\",\"radialaxis\":{\"gridcolor\":\"white\",\"linecolor\":\"white\",\"ticks\":\"\"}},\"scene\":{\"xaxis\":{\"backgroundcolor\":\"#E5ECF6\",\"gridcolor\":\"white\",\"gridwidth\":2,\"linecolor\":\"white\",\"showbackground\":true,\"ticks\":\"\",\"zerolinecolor\":\"white\"},\"yaxis\":{\"backgroundcolor\":\"#E5ECF6\",\"gridcolor\":\"white\",\"gridwidth\":2,\"linecolor\":\"white\",\"showbackground\":true,\"ticks\":\"\",\"zerolinecolor\":\"white\"},\"zaxis\":{\"backgroundcolor\":\"#E5ECF6\",\"gridcolor\":\"white\",\"gridwidth\":2,\"linecolor\":\"white\",\"showbackground\":true,\"ticks\":\"\",\"zerolinecolor\":\"white\"}},\"shapedefaults\":{\"line\":{\"color\":\"#2a3f5f\"}},\"ternary\":{\"aaxis\":{\"gridcolor\":\"white\",\"linecolor\":\"white\",\"ticks\":\"\"},\"baxis\":{\"gridcolor\":\"white\",\"linecolor\":\"white\",\"ticks\":\"\"},\"bgcolor\":\"#E5ECF6\",\"caxis\":{\"gridcolor\":\"white\",\"linecolor\":\"white\",\"ticks\":\"\"}},\"title\":{\"x\":0.05},\"xaxis\":{\"automargin\":true,\"gridcolor\":\"white\",\"linecolor\":\"white\",\"ticks\":\"\",\"title\":{\"standoff\":15},\"zerolinecolor\":\"white\",\"zerolinewidth\":2},\"yaxis\":{\"automargin\":true,\"gridcolor\":\"white\",\"linecolor\":\"white\",\"ticks\":\"\",\"title\":{\"standoff\":15},\"zerolinecolor\":\"white\",\"zerolinewidth\":2}}},\"xaxis\":{\"anchor\":\"y\",\"domain\":[0.0,1.0],\"scaleanchor\":\"y\",\"constrain\":\"domain\",\"title\":{\"text\":\"Predicted Values\"},\"side\":\"top\"},\"yaxis\":{\"anchor\":\"x\",\"domain\":[0.0,1.0],\"autorange\":\"reversed\",\"constrain\":\"domain\",\"title\":{\"text\":\"True Values\"}},\"coloraxis\":{\"colorbar\":{\"title\":{\"text\":\"Percentage Classified\"}},\"colorscale\":[[0.0,\"#0d0887\"],[0.1111111111111111,\"#46039f\"],[0.2222222222222222,\"#7201a8\"],[0.3333333333333333,\"#9c179e\"],[0.4444444444444444,\"#bd3786\"],[0.5555555555555556,\"#d8576b\"],[0.6666666666666666,\"#ed7953\"],[0.7777777777777778,\"#fb9f3a\"],[0.8888888888888888,\"#fdca26\"],[1.0,\"#f0f921\"]]},\"margin\":{\"t\":60}},                        {\"responsive\": true}                    ).then(function(){\n",
       "                            \n",
       "var gd = document.getElementById('59c2854c-8f1d-4d82-b634-f1bf267a2b09');\n",
       "var x = new MutationObserver(function (mutations, observer) {{\n",
       "        var display = window.getComputedStyle(gd).display;\n",
       "        if (!display || display === 'none') {{\n",
       "            console.log([gd, 'removed!']);\n",
       "            Plotly.purge(gd);\n",
       "            observer.disconnect();\n",
       "        }}\n",
       "}});\n",
       "\n",
       "// Listen for the removal of the full notebook cells\n",
       "var notebookContainer = gd.closest('#notebook-container');\n",
       "if (notebookContainer) {{\n",
       "    x.observe(notebookContainer, {childList: true});\n",
       "}}\n",
       "\n",
       "// Listen for the clearing of the current output cell\n",
       "var outputEl = gd.closest('.output');\n",
       "if (outputEl) {{\n",
       "    x.observe(outputEl, {childList: true});\n",
       "}}\n",
       "\n",
       "                        })                };                });            </script>        </div>"
      ]
     },
     "metadata": {},
     "output_type": "display_data"
    },
    {
     "data": {
      "application/javascript": [
       "\n",
       "            setTimeout(function() {\n",
       "                var nbb_cell_id = 29;\n",
       "                var nbb_unformatted_code = \"conmat = confusion_matrix(Y_test, Y_pred)\\ndisplay(conmat)\\nfig = px.imshow(\\n    np.round((conmat / conmat.sum()) * 100, 3),\\n    labels=dict(x=\\\"Predicted Values\\\", y=\\\"True Values\\\", color=\\\"Percentage Classified\\\"),\\n    x=[\\n    \\\"Under 18\\\",\\n    \\\"18-24\\\",\\n    \\\"25-34\\\",\\n    \\\"35-44\\\",\\n    \\\"45-54\\\",\\n    \\\"55-64\\\",\\n    \\\"65+\\\",\\n],\\n    y=[\\n    \\\"Under 18\\\",\\n    \\\"18-24\\\",\\n    \\\"25-34\\\",\\n    \\\"35-44\\\",\\n    \\\"45-54\\\",\\n    \\\"55-64\\\",\\n    \\\"65+\\\",\\n],\\n)\\nfig.update_xaxes(side=\\\"top\\\")\\nfig.show()\";\n",
       "                var nbb_formatted_code = \"conmat = confusion_matrix(Y_test, Y_pred)\\ndisplay(conmat)\\nfig = px.imshow(\\n    np.round((conmat / conmat.sum()) * 100, 3),\\n    labels=dict(x=\\\"Predicted Values\\\", y=\\\"True Values\\\", color=\\\"Percentage Classified\\\"),\\n    x=[\\\"Under 18\\\", \\\"18-24\\\", \\\"25-34\\\", \\\"35-44\\\", \\\"45-54\\\", \\\"55-64\\\", \\\"65+\\\",],\\n    y=[\\\"Under 18\\\", \\\"18-24\\\", \\\"25-34\\\", \\\"35-44\\\", \\\"45-54\\\", \\\"55-64\\\", \\\"65+\\\",],\\n)\\nfig.update_xaxes(side=\\\"top\\\")\\nfig.show()\";\n",
       "                var nbb_cells = Jupyter.notebook.get_cells();\n",
       "                for (var i = 0; i < nbb_cells.length; ++i) {\n",
       "                    if (nbb_cells[i].input_prompt_number == nbb_cell_id) {\n",
       "                        if (nbb_cells[i].get_text() == nbb_unformatted_code) {\n",
       "                             nbb_cells[i].set_text(nbb_formatted_code);\n",
       "                        }\n",
       "                        break;\n",
       "                    }\n",
       "                }\n",
       "            }, 500);\n",
       "            "
      ],
      "text/plain": [
       "<IPython.core.display.Javascript object>"
      ]
     },
     "metadata": {},
     "output_type": "display_data"
    }
   ],
   "source": [
    "conmat = confusion_matrix(Y_test, Y_pred)\n",
    "display(conmat)\n",
    "fig = px.imshow(\n",
    "    np.round((conmat / conmat.sum()) * 100, 3),\n",
    "    labels=dict(x=\"Predicted Values\", y=\"True Values\", color=\"Percentage Classified\"),\n",
    "    x=[\"Under 18\", \"18-24\", \"25-34\", \"35-44\", \"45-54\", \"55-64\", \"65+\",],\n",
    "    y=[\"Under 18\", \"18-24\", \"25-34\", \"35-44\", \"45-54\", \"55-64\", \"65+\",],\n",
    ")\n",
    "fig.update_xaxes(side=\"top\")\n",
    "fig.show()"
   ]
  },
  {
   "cell_type": "code",
   "execution_count": null,
   "id": "4d4cb370",
   "metadata": {},
   "outputs": [],
   "source": [
    "data[\"Age_Group\"].value_counts()"
   ]
  }
 ],
 "metadata": {
  "kernelspec": {
   "display_name": "Python 3 (ipykernel)",
   "language": "python",
   "name": "python3"
  },
  "language_info": {
   "codemirror_mode": {
    "name": "ipython",
    "version": 3
   },
   "file_extension": ".py",
   "mimetype": "text/x-python",
   "name": "python",
   "nbconvert_exporter": "python",
   "pygments_lexer": "ipython3",
   "version": "3.8.8"
  }
 },
 "nbformat": 4,
 "nbformat_minor": 5
}
