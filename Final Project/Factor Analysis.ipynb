{
 "cells": [
  {
   "cell_type": "code",
   "execution_count": 132,
   "id": "3038d91d",
   "metadata": {},
   "outputs": [
    {
     "name": "stdout",
     "output_type": "stream",
     "text": [
      "The nb_black extension is already loaded. To reload it, use:\n",
      "  %reload_ext nb_black\n"
     ]
    },
    {
     "data": {
      "application/javascript": [
       "\n",
       "            setTimeout(function() {\n",
       "                var nbb_cell_id = 132;\n",
       "                var nbb_unformatted_code = \"%load_ext nb_black\";\n",
       "                var nbb_formatted_code = \"%load_ext nb_black\";\n",
       "                var nbb_cells = Jupyter.notebook.get_cells();\n",
       "                for (var i = 0; i < nbb_cells.length; ++i) {\n",
       "                    if (nbb_cells[i].input_prompt_number == nbb_cell_id) {\n",
       "                        if (nbb_cells[i].get_text() == nbb_unformatted_code) {\n",
       "                             nbb_cells[i].set_text(nbb_formatted_code);\n",
       "                        }\n",
       "                        break;\n",
       "                    }\n",
       "                }\n",
       "            }, 500);\n",
       "            "
      ],
      "text/plain": [
       "<IPython.core.display.Javascript object>"
      ]
     },
     "metadata": {},
     "output_type": "display_data"
    }
   ],
   "source": [
    "%load_ext nb_black"
   ]
  },
  {
   "cell_type": "code",
   "execution_count": 133,
   "id": "ac9525a7",
   "metadata": {},
   "outputs": [
    {
     "data": {
      "application/javascript": [
       "\n",
       "            setTimeout(function() {\n",
       "                var nbb_cell_id = 133;\n",
       "                var nbb_unformatted_code = \"import numpy as np\\nimport pandas as pd\\nimport plotly.express as px\\nfrom sklearn.decomposition import FactorAnalysis\\nfrom sklearn.preprocessing import StandardScaler\\n\\nimport statsmodels.api as sm\\nimport factor_analyzer as FA\\nfrom factor_analyzer.factor_analyzer import calculate_bartlett_sphericity\";\n",
       "                var nbb_formatted_code = \"import numpy as np\\nimport pandas as pd\\nimport plotly.express as px\\nfrom sklearn.decomposition import FactorAnalysis\\nfrom sklearn.preprocessing import StandardScaler\\n\\nimport statsmodels.api as sm\\nimport factor_analyzer as FA\\nfrom factor_analyzer.factor_analyzer import calculate_bartlett_sphericity\";\n",
       "                var nbb_cells = Jupyter.notebook.get_cells();\n",
       "                for (var i = 0; i < nbb_cells.length; ++i) {\n",
       "                    if (nbb_cells[i].input_prompt_number == nbb_cell_id) {\n",
       "                        if (nbb_cells[i].get_text() == nbb_unformatted_code) {\n",
       "                             nbb_cells[i].set_text(nbb_formatted_code);\n",
       "                        }\n",
       "                        break;\n",
       "                    }\n",
       "                }\n",
       "            }, 500);\n",
       "            "
      ],
      "text/plain": [
       "<IPython.core.display.Javascript object>"
      ]
     },
     "metadata": {},
     "output_type": "display_data"
    }
   ],
   "source": [
    "import numpy as np\n",
    "import pandas as pd\n",
    "import plotly.express as px\n",
    "from sklearn.decomposition import FactorAnalysis\n",
    "from sklearn.preprocessing import StandardScaler\n",
    "\n",
    "import statsmodels.api as sm\n",
    "import factor_analyzer as FA\n",
    "from factor_analyzer.factor_analyzer import calculate_bartlett_sphericity"
   ]
  },
  {
   "cell_type": "code",
   "execution_count": 134,
   "id": "0d7ba456",
   "metadata": {},
   "outputs": [
    {
     "data": {
      "application/javascript": [
       "\n",
       "            setTimeout(function() {\n",
       "                var nbb_cell_id = 134;\n",
       "                var nbb_unformatted_code = \"pd.set_option(\\\"display.max_columns\\\", None)  # View all columns\";\n",
       "                var nbb_formatted_code = \"pd.set_option(\\\"display.max_columns\\\", None)  # View all columns\";\n",
       "                var nbb_cells = Jupyter.notebook.get_cells();\n",
       "                for (var i = 0; i < nbb_cells.length; ++i) {\n",
       "                    if (nbb_cells[i].input_prompt_number == nbb_cell_id) {\n",
       "                        if (nbb_cells[i].get_text() == nbb_unformatted_code) {\n",
       "                             nbb_cells[i].set_text(nbb_formatted_code);\n",
       "                        }\n",
       "                        break;\n",
       "                    }\n",
       "                }\n",
       "            }, 500);\n",
       "            "
      ],
      "text/plain": [
       "<IPython.core.display.Javascript object>"
      ]
     },
     "metadata": {},
     "output_type": "display_data"
    }
   ],
   "source": [
    "pd.set_option(\"display.max_columns\", None)  # View all columns"
   ]
  },
  {
   "cell_type": "code",
   "execution_count": 135,
   "id": "16e32bd8",
   "metadata": {},
   "outputs": [
    {
     "data": {
      "text/html": [
       "<div>\n",
       "<style scoped>\n",
       "    .dataframe tbody tr th:only-of-type {\n",
       "        vertical-align: middle;\n",
       "    }\n",
       "\n",
       "    .dataframe tbody tr th {\n",
       "        vertical-align: top;\n",
       "    }\n",
       "\n",
       "    .dataframe thead th {\n",
       "        text-align: right;\n",
       "    }\n",
       "</style>\n",
       "<table border=\"1\" class=\"dataframe\">\n",
       "  <thead>\n",
       "    <tr style=\"text-align: right;\">\n",
       "      <th></th>\n",
       "      <th>state</th>\n",
       "      <th>county</th>\n",
       "      <th>area_sqmi</th>\n",
       "      <th>epl_pov</th>\n",
       "      <th>epl_unemp</th>\n",
       "      <th>epl_pci</th>\n",
       "      <th>epl_nohsdp</th>\n",
       "      <th>spl_theme1</th>\n",
       "      <th>rpl_theme1</th>\n",
       "      <th>epl_age65</th>\n",
       "      <th>epl_age17</th>\n",
       "      <th>epl_disabl</th>\n",
       "      <th>epl_sngpnt</th>\n",
       "      <th>spl_theme2</th>\n",
       "      <th>rpl_theme2</th>\n",
       "      <th>epl_minrty</th>\n",
       "      <th>epl_limeng</th>\n",
       "      <th>spl_theme3</th>\n",
       "      <th>rpl_theme3</th>\n",
       "      <th>epl_munit</th>\n",
       "      <th>epl_mobile</th>\n",
       "      <th>epl_crowd</th>\n",
       "      <th>epl_noveh</th>\n",
       "      <th>epl_groupq</th>\n",
       "      <th>spl_theme4</th>\n",
       "      <th>rpl_theme4</th>\n",
       "      <th>spl_themes</th>\n",
       "      <th>rpl_themes</th>\n",
       "      <th>f_pov</th>\n",
       "      <th>f_unemp</th>\n",
       "      <th>f_pci</th>\n",
       "      <th>f_nohsdp</th>\n",
       "      <th>f_theme1</th>\n",
       "      <th>f_age65</th>\n",
       "      <th>f_age17</th>\n",
       "      <th>f_disabl</th>\n",
       "      <th>f_sngpnt</th>\n",
       "      <th>f_theme2</th>\n",
       "      <th>f_minrty</th>\n",
       "      <th>f_limeng</th>\n",
       "      <th>f_theme3</th>\n",
       "      <th>f_munit</th>\n",
       "      <th>f_mobile</th>\n",
       "      <th>f_crowd</th>\n",
       "      <th>f_noveh</th>\n",
       "      <th>f_groupq</th>\n",
       "      <th>f_theme4</th>\n",
       "      <th>f_total</th>\n",
       "    </tr>\n",
       "  </thead>\n",
       "  <tbody>\n",
       "    <tr>\n",
       "      <th>0</th>\n",
       "      <td>ALABAMA</td>\n",
       "      <td>Autauga</td>\n",
       "      <td>594.443459</td>\n",
       "      <td>0.5401</td>\n",
       "      <td>0.2745</td>\n",
       "      <td>0.2860</td>\n",
       "      <td>0.4397</td>\n",
       "      <td>1.5403</td>\n",
       "      <td>0.3631</td>\n",
       "      <td>0.1850</td>\n",
       "      <td>0.7529</td>\n",
       "      <td>0.7905</td>\n",
       "      <td>0.3792</td>\n",
       "      <td>2.1076</td>\n",
       "      <td>0.5810</td>\n",
       "      <td>0.6336</td>\n",
       "      <td>0.5113</td>\n",
       "      <td>1.1449</td>\n",
       "      <td>0.5947</td>\n",
       "      <td>0.6017</td>\n",
       "      <td>0.7408</td>\n",
       "      <td>0.2964</td>\n",
       "      <td>0.4846</td>\n",
       "      <td>0.1525</td>\n",
       "      <td>2.2760</td>\n",
       "      <td>0.3741</td>\n",
       "      <td>7.0688</td>\n",
       "      <td>0.4354</td>\n",
       "      <td>0</td>\n",
       "      <td>0</td>\n",
       "      <td>0</td>\n",
       "      <td>0</td>\n",
       "      <td>0</td>\n",
       "      <td>0</td>\n",
       "      <td>0</td>\n",
       "      <td>0</td>\n",
       "      <td>0</td>\n",
       "      <td>0</td>\n",
       "      <td>0</td>\n",
       "      <td>0</td>\n",
       "      <td>0</td>\n",
       "      <td>0</td>\n",
       "      <td>0</td>\n",
       "      <td>0</td>\n",
       "      <td>0</td>\n",
       "      <td>0</td>\n",
       "      <td>0</td>\n",
       "      <td>0</td>\n",
       "    </tr>\n",
       "    <tr>\n",
       "      <th>1</th>\n",
       "      <td>ALABAMA</td>\n",
       "      <td>Baldwin</td>\n",
       "      <td>1589.793007</td>\n",
       "      <td>0.2239</td>\n",
       "      <td>0.3121</td>\n",
       "      <td>0.2057</td>\n",
       "      <td>0.3209</td>\n",
       "      <td>1.0626</td>\n",
       "      <td>0.2232</td>\n",
       "      <td>0.6428</td>\n",
       "      <td>0.4323</td>\n",
       "      <td>0.3524</td>\n",
       "      <td>0.1391</td>\n",
       "      <td>1.5666</td>\n",
       "      <td>0.1990</td>\n",
       "      <td>0.5158</td>\n",
       "      <td>0.3582</td>\n",
       "      <td>0.8740</td>\n",
       "      <td>0.4358</td>\n",
       "      <td>0.9713</td>\n",
       "      <td>0.5339</td>\n",
       "      <td>0.2604</td>\n",
       "      <td>0.1328</td>\n",
       "      <td>0.3018</td>\n",
       "      <td>2.2002</td>\n",
       "      <td>0.3359</td>\n",
       "      <td>5.7034</td>\n",
       "      <td>0.2162</td>\n",
       "      <td>0</td>\n",
       "      <td>0</td>\n",
       "      <td>0</td>\n",
       "      <td>0</td>\n",
       "      <td>0</td>\n",
       "      <td>0</td>\n",
       "      <td>0</td>\n",
       "      <td>0</td>\n",
       "      <td>0</td>\n",
       "      <td>0</td>\n",
       "      <td>0</td>\n",
       "      <td>0</td>\n",
       "      <td>0</td>\n",
       "      <td>1</td>\n",
       "      <td>0</td>\n",
       "      <td>0</td>\n",
       "      <td>0</td>\n",
       "      <td>0</td>\n",
       "      <td>1</td>\n",
       "      <td>1</td>\n",
       "    </tr>\n",
       "    <tr>\n",
       "      <th>2</th>\n",
       "      <td>ALABAMA</td>\n",
       "      <td>Barbour</td>\n",
       "      <td>885.001636</td>\n",
       "      <td>0.9631</td>\n",
       "      <td>0.9217</td>\n",
       "      <td>0.9481</td>\n",
       "      <td>0.9701</td>\n",
       "      <td>3.8030</td>\n",
       "      <td>0.9780</td>\n",
       "      <td>0.4893</td>\n",
       "      <td>0.3327</td>\n",
       "      <td>0.9064</td>\n",
       "      <td>0.9468</td>\n",
       "      <td>2.6752</td>\n",
       "      <td>0.9153</td>\n",
       "      <td>0.8965</td>\n",
       "      <td>0.7052</td>\n",
       "      <td>1.6017</td>\n",
       "      <td>0.8558</td>\n",
       "      <td>0.2416</td>\n",
       "      <td>0.9280</td>\n",
       "      <td>0.8198</td>\n",
       "      <td>0.8685</td>\n",
       "      <td>0.9449</td>\n",
       "      <td>3.8028</td>\n",
       "      <td>0.9889</td>\n",
       "      <td>11.8827</td>\n",
       "      <td>0.9959</td>\n",
       "      <td>1</td>\n",
       "      <td>1</td>\n",
       "      <td>1</td>\n",
       "      <td>1</td>\n",
       "      <td>4</td>\n",
       "      <td>0</td>\n",
       "      <td>0</td>\n",
       "      <td>1</td>\n",
       "      <td>1</td>\n",
       "      <td>2</td>\n",
       "      <td>0</td>\n",
       "      <td>0</td>\n",
       "      <td>0</td>\n",
       "      <td>0</td>\n",
       "      <td>1</td>\n",
       "      <td>0</td>\n",
       "      <td>0</td>\n",
       "      <td>1</td>\n",
       "      <td>2</td>\n",
       "      <td>8</td>\n",
       "    </tr>\n",
       "    <tr>\n",
       "      <th>3</th>\n",
       "      <td>ALABAMA</td>\n",
       "      <td>Bibb</td>\n",
       "      <td>622.461089</td>\n",
       "      <td>0.4430</td>\n",
       "      <td>0.7895</td>\n",
       "      <td>0.8987</td>\n",
       "      <td>0.7351</td>\n",
       "      <td>2.8663</td>\n",
       "      <td>0.7694</td>\n",
       "      <td>0.3200</td>\n",
       "      <td>0.2846</td>\n",
       "      <td>0.6074</td>\n",
       "      <td>0.1706</td>\n",
       "      <td>1.3826</td>\n",
       "      <td>0.1203</td>\n",
       "      <td>0.6390</td>\n",
       "      <td>0.2270</td>\n",
       "      <td>0.8660</td>\n",
       "      <td>0.4323</td>\n",
       "      <td>0.4317</td>\n",
       "      <td>0.9207</td>\n",
       "      <td>0.0981</td>\n",
       "      <td>0.5441</td>\n",
       "      <td>0.9214</td>\n",
       "      <td>2.9160</td>\n",
       "      <td>0.7189</td>\n",
       "      <td>8.0309</td>\n",
       "      <td>0.6003</td>\n",
       "      <td>0</td>\n",
       "      <td>0</td>\n",
       "      <td>0</td>\n",
       "      <td>0</td>\n",
       "      <td>0</td>\n",
       "      <td>0</td>\n",
       "      <td>0</td>\n",
       "      <td>0</td>\n",
       "      <td>0</td>\n",
       "      <td>0</td>\n",
       "      <td>0</td>\n",
       "      <td>0</td>\n",
       "      <td>0</td>\n",
       "      <td>0</td>\n",
       "      <td>1</td>\n",
       "      <td>0</td>\n",
       "      <td>0</td>\n",
       "      <td>1</td>\n",
       "      <td>2</td>\n",
       "      <td>2</td>\n",
       "    </tr>\n",
       "    <tr>\n",
       "      <th>4</th>\n",
       "      <td>ALABAMA</td>\n",
       "      <td>Blount</td>\n",
       "      <td>644.830460</td>\n",
       "      <td>0.4723</td>\n",
       "      <td>0.2611</td>\n",
       "      <td>0.7561</td>\n",
       "      <td>0.8405</td>\n",
       "      <td>2.3300</td>\n",
       "      <td>0.6143</td>\n",
       "      <td>0.4715</td>\n",
       "      <td>0.6406</td>\n",
       "      <td>0.3763</td>\n",
       "      <td>0.2961</td>\n",
       "      <td>1.7845</td>\n",
       "      <td>0.3187</td>\n",
       "      <td>0.4206</td>\n",
       "      <td>0.7170</td>\n",
       "      <td>1.1376</td>\n",
       "      <td>0.5915</td>\n",
       "      <td>0.1512</td>\n",
       "      <td>0.8816</td>\n",
       "      <td>0.3703</td>\n",
       "      <td>0.2420</td>\n",
       "      <td>0.1165</td>\n",
       "      <td>1.7616</td>\n",
       "      <td>0.1741</td>\n",
       "      <td>7.0137</td>\n",
       "      <td>0.4242</td>\n",
       "      <td>0</td>\n",
       "      <td>0</td>\n",
       "      <td>0</td>\n",
       "      <td>0</td>\n",
       "      <td>0</td>\n",
       "      <td>0</td>\n",
       "      <td>0</td>\n",
       "      <td>0</td>\n",
       "      <td>0</td>\n",
       "      <td>0</td>\n",
       "      <td>0</td>\n",
       "      <td>0</td>\n",
       "      <td>0</td>\n",
       "      <td>0</td>\n",
       "      <td>0</td>\n",
       "      <td>0</td>\n",
       "      <td>0</td>\n",
       "      <td>0</td>\n",
       "      <td>0</td>\n",
       "      <td>0</td>\n",
       "    </tr>\n",
       "    <tr>\n",
       "      <th>...</th>\n",
       "      <td>...</td>\n",
       "      <td>...</td>\n",
       "      <td>...</td>\n",
       "      <td>...</td>\n",
       "      <td>...</td>\n",
       "      <td>...</td>\n",
       "      <td>...</td>\n",
       "      <td>...</td>\n",
       "      <td>...</td>\n",
       "      <td>...</td>\n",
       "      <td>...</td>\n",
       "      <td>...</td>\n",
       "      <td>...</td>\n",
       "      <td>...</td>\n",
       "      <td>...</td>\n",
       "      <td>...</td>\n",
       "      <td>...</td>\n",
       "      <td>...</td>\n",
       "      <td>...</td>\n",
       "      <td>...</td>\n",
       "      <td>...</td>\n",
       "      <td>...</td>\n",
       "      <td>...</td>\n",
       "      <td>...</td>\n",
       "      <td>...</td>\n",
       "      <td>...</td>\n",
       "      <td>...</td>\n",
       "      <td>...</td>\n",
       "      <td>...</td>\n",
       "      <td>...</td>\n",
       "      <td>...</td>\n",
       "      <td>...</td>\n",
       "      <td>...</td>\n",
       "      <td>...</td>\n",
       "      <td>...</td>\n",
       "      <td>...</td>\n",
       "      <td>...</td>\n",
       "      <td>...</td>\n",
       "      <td>...</td>\n",
       "      <td>...</td>\n",
       "      <td>...</td>\n",
       "      <td>...</td>\n",
       "      <td>...</td>\n",
       "      <td>...</td>\n",
       "      <td>...</td>\n",
       "      <td>...</td>\n",
       "      <td>...</td>\n",
       "      <td>...</td>\n",
       "    </tr>\n",
       "    <tr>\n",
       "      <th>3137</th>\n",
       "      <td>WYOMING</td>\n",
       "      <td>Sweetwater</td>\n",
       "      <td>10426.975725</td>\n",
       "      <td>0.3127</td>\n",
       "      <td>0.4490</td>\n",
       "      <td>0.1497</td>\n",
       "      <td>0.2668</td>\n",
       "      <td>1.1782</td>\n",
       "      <td>0.2576</td>\n",
       "      <td>0.0293</td>\n",
       "      <td>0.9150</td>\n",
       "      <td>0.2041</td>\n",
       "      <td>0.7679</td>\n",
       "      <td>1.9163</td>\n",
       "      <td>0.4193</td>\n",
       "      <td>0.5680</td>\n",
       "      <td>0.7052</td>\n",
       "      <td>1.2732</td>\n",
       "      <td>0.6718</td>\n",
       "      <td>0.7307</td>\n",
       "      <td>0.8306</td>\n",
       "      <td>0.4817</td>\n",
       "      <td>0.0503</td>\n",
       "      <td>0.2582</td>\n",
       "      <td>2.3515</td>\n",
       "      <td>0.4120</td>\n",
       "      <td>6.7192</td>\n",
       "      <td>0.3701</td>\n",
       "      <td>0</td>\n",
       "      <td>0</td>\n",
       "      <td>0</td>\n",
       "      <td>0</td>\n",
       "      <td>0</td>\n",
       "      <td>0</td>\n",
       "      <td>1</td>\n",
       "      <td>0</td>\n",
       "      <td>0</td>\n",
       "      <td>1</td>\n",
       "      <td>0</td>\n",
       "      <td>0</td>\n",
       "      <td>0</td>\n",
       "      <td>0</td>\n",
       "      <td>0</td>\n",
       "      <td>0</td>\n",
       "      <td>0</td>\n",
       "      <td>0</td>\n",
       "      <td>0</td>\n",
       "      <td>1</td>\n",
       "    </tr>\n",
       "    <tr>\n",
       "      <th>3138</th>\n",
       "      <td>WYOMING</td>\n",
       "      <td>Teton</td>\n",
       "      <td>3996.844622</td>\n",
       "      <td>0.0522</td>\n",
       "      <td>0.0264</td>\n",
       "      <td>0.0051</td>\n",
       "      <td>0.0548</td>\n",
       "      <td>0.1385</td>\n",
       "      <td>0.0025</td>\n",
       "      <td>0.1334</td>\n",
       "      <td>0.1506</td>\n",
       "      <td>0.0060</td>\n",
       "      <td>0.2216</td>\n",
       "      <td>0.5116</td>\n",
       "      <td>0.0096</td>\n",
       "      <td>0.5400</td>\n",
       "      <td>0.9000</td>\n",
       "      <td>1.4400</td>\n",
       "      <td>0.7736</td>\n",
       "      <td>0.8109</td>\n",
       "      <td>0.1442</td>\n",
       "      <td>0.9688</td>\n",
       "      <td>0.0503</td>\n",
       "      <td>0.7561</td>\n",
       "      <td>2.7303</td>\n",
       "      <td>0.6266</td>\n",
       "      <td>4.8204</td>\n",
       "      <td>0.1127</td>\n",
       "      <td>0</td>\n",
       "      <td>0</td>\n",
       "      <td>0</td>\n",
       "      <td>0</td>\n",
       "      <td>0</td>\n",
       "      <td>0</td>\n",
       "      <td>0</td>\n",
       "      <td>0</td>\n",
       "      <td>0</td>\n",
       "      <td>0</td>\n",
       "      <td>0</td>\n",
       "      <td>1</td>\n",
       "      <td>1</td>\n",
       "      <td>0</td>\n",
       "      <td>0</td>\n",
       "      <td>1</td>\n",
       "      <td>0</td>\n",
       "      <td>0</td>\n",
       "      <td>1</td>\n",
       "      <td>2</td>\n",
       "    </tr>\n",
       "    <tr>\n",
       "      <th>3139</th>\n",
       "      <td>WYOMING</td>\n",
       "      <td>Uinta</td>\n",
       "      <td>2081.719807</td>\n",
       "      <td>0.3430</td>\n",
       "      <td>0.6032</td>\n",
       "      <td>0.4443</td>\n",
       "      <td>0.1347</td>\n",
       "      <td>1.5252</td>\n",
       "      <td>0.3583</td>\n",
       "      <td>0.0675</td>\n",
       "      <td>0.9685</td>\n",
       "      <td>0.6488</td>\n",
       "      <td>0.2665</td>\n",
       "      <td>1.9513</td>\n",
       "      <td>0.4486</td>\n",
       "      <td>0.4136</td>\n",
       "      <td>0.4642</td>\n",
       "      <td>0.8778</td>\n",
       "      <td>0.4390</td>\n",
       "      <td>0.7453</td>\n",
       "      <td>0.8816</td>\n",
       "      <td>0.7249</td>\n",
       "      <td>0.1971</td>\n",
       "      <td>0.2582</td>\n",
       "      <td>2.8071</td>\n",
       "      <td>0.6657</td>\n",
       "      <td>7.1614</td>\n",
       "      <td>0.4522</td>\n",
       "      <td>0</td>\n",
       "      <td>0</td>\n",
       "      <td>0</td>\n",
       "      <td>0</td>\n",
       "      <td>0</td>\n",
       "      <td>0</td>\n",
       "      <td>1</td>\n",
       "      <td>0</td>\n",
       "      <td>0</td>\n",
       "      <td>1</td>\n",
       "      <td>0</td>\n",
       "      <td>0</td>\n",
       "      <td>0</td>\n",
       "      <td>0</td>\n",
       "      <td>0</td>\n",
       "      <td>0</td>\n",
       "      <td>0</td>\n",
       "      <td>0</td>\n",
       "      <td>0</td>\n",
       "      <td>1</td>\n",
       "    </tr>\n",
       "    <tr>\n",
       "      <th>3140</th>\n",
       "      <td>WYOMING</td>\n",
       "      <td>Washakie</td>\n",
       "      <td>2238.672972</td>\n",
       "      <td>0.3360</td>\n",
       "      <td>0.6207</td>\n",
       "      <td>0.4035</td>\n",
       "      <td>0.3792</td>\n",
       "      <td>1.7394</td>\n",
       "      <td>0.4293</td>\n",
       "      <td>0.7380</td>\n",
       "      <td>0.7122</td>\n",
       "      <td>0.4448</td>\n",
       "      <td>0.2961</td>\n",
       "      <td>2.1911</td>\n",
       "      <td>0.6482</td>\n",
       "      <td>0.5330</td>\n",
       "      <td>0.2270</td>\n",
       "      <td>0.7600</td>\n",
       "      <td>0.3687</td>\n",
       "      <td>0.1958</td>\n",
       "      <td>0.5384</td>\n",
       "      <td>0.4457</td>\n",
       "      <td>0.3715</td>\n",
       "      <td>0.4995</td>\n",
       "      <td>2.0509</td>\n",
       "      <td>0.2751</td>\n",
       "      <td>6.7414</td>\n",
       "      <td>0.3732</td>\n",
       "      <td>0</td>\n",
       "      <td>0</td>\n",
       "      <td>0</td>\n",
       "      <td>0</td>\n",
       "      <td>0</td>\n",
       "      <td>0</td>\n",
       "      <td>0</td>\n",
       "      <td>0</td>\n",
       "      <td>0</td>\n",
       "      <td>0</td>\n",
       "      <td>0</td>\n",
       "      <td>0</td>\n",
       "      <td>0</td>\n",
       "      <td>0</td>\n",
       "      <td>0</td>\n",
       "      <td>0</td>\n",
       "      <td>0</td>\n",
       "      <td>0</td>\n",
       "      <td>0</td>\n",
       "      <td>0</td>\n",
       "    </tr>\n",
       "    <tr>\n",
       "      <th>3141</th>\n",
       "      <td>WYOMING</td>\n",
       "      <td>Weston</td>\n",
       "      <td>2398.003891</td>\n",
       "      <td>0.6745</td>\n",
       "      <td>0.1822</td>\n",
       "      <td>0.2968</td>\n",
       "      <td>0.1831</td>\n",
       "      <td>1.3366</td>\n",
       "      <td>0.3022</td>\n",
       "      <td>0.5817</td>\n",
       "      <td>0.3419</td>\n",
       "      <td>0.3983</td>\n",
       "      <td>0.2961</td>\n",
       "      <td>1.6180</td>\n",
       "      <td>0.2260</td>\n",
       "      <td>0.3095</td>\n",
       "      <td>0.5492</td>\n",
       "      <td>0.8587</td>\n",
       "      <td>0.4276</td>\n",
       "      <td>0.4575</td>\n",
       "      <td>0.8535</td>\n",
       "      <td>0.6049</td>\n",
       "      <td>0.0630</td>\n",
       "      <td>0.8131</td>\n",
       "      <td>2.7920</td>\n",
       "      <td>0.6581</td>\n",
       "      <td>6.6053</td>\n",
       "      <td>0.3475</td>\n",
       "      <td>0</td>\n",
       "      <td>0</td>\n",
       "      <td>0</td>\n",
       "      <td>0</td>\n",
       "      <td>0</td>\n",
       "      <td>0</td>\n",
       "      <td>0</td>\n",
       "      <td>0</td>\n",
       "      <td>0</td>\n",
       "      <td>0</td>\n",
       "      <td>0</td>\n",
       "      <td>0</td>\n",
       "      <td>0</td>\n",
       "      <td>0</td>\n",
       "      <td>0</td>\n",
       "      <td>0</td>\n",
       "      <td>0</td>\n",
       "      <td>0</td>\n",
       "      <td>0</td>\n",
       "      <td>0</td>\n",
       "    </tr>\n",
       "  </tbody>\n",
       "</table>\n",
       "<p>3141 rows × 48 columns</p>\n",
       "</div>"
      ],
      "text/plain": [
       "        state      county     area_sqmi  epl_pov  epl_unemp  epl_pci  \\\n",
       "0     ALABAMA     Autauga    594.443459   0.5401     0.2745   0.2860   \n",
       "1     ALABAMA     Baldwin   1589.793007   0.2239     0.3121   0.2057   \n",
       "2     ALABAMA     Barbour    885.001636   0.9631     0.9217   0.9481   \n",
       "3     ALABAMA        Bibb    622.461089   0.4430     0.7895   0.8987   \n",
       "4     ALABAMA      Blount    644.830460   0.4723     0.2611   0.7561   \n",
       "...       ...         ...           ...      ...        ...      ...   \n",
       "3137  WYOMING  Sweetwater  10426.975725   0.3127     0.4490   0.1497   \n",
       "3138  WYOMING       Teton   3996.844622   0.0522     0.0264   0.0051   \n",
       "3139  WYOMING       Uinta   2081.719807   0.3430     0.6032   0.4443   \n",
       "3140  WYOMING    Washakie   2238.672972   0.3360     0.6207   0.4035   \n",
       "3141  WYOMING      Weston   2398.003891   0.6745     0.1822   0.2968   \n",
       "\n",
       "      epl_nohsdp  spl_theme1  rpl_theme1  epl_age65  epl_age17  epl_disabl  \\\n",
       "0         0.4397      1.5403      0.3631     0.1850     0.7529      0.7905   \n",
       "1         0.3209      1.0626      0.2232     0.6428     0.4323      0.3524   \n",
       "2         0.9701      3.8030      0.9780     0.4893     0.3327      0.9064   \n",
       "3         0.7351      2.8663      0.7694     0.3200     0.2846      0.6074   \n",
       "4         0.8405      2.3300      0.6143     0.4715     0.6406      0.3763   \n",
       "...          ...         ...         ...        ...        ...         ...   \n",
       "3137      0.2668      1.1782      0.2576     0.0293     0.9150      0.2041   \n",
       "3138      0.0548      0.1385      0.0025     0.1334     0.1506      0.0060   \n",
       "3139      0.1347      1.5252      0.3583     0.0675     0.9685      0.6488   \n",
       "3140      0.3792      1.7394      0.4293     0.7380     0.7122      0.4448   \n",
       "3141      0.1831      1.3366      0.3022     0.5817     0.3419      0.3983   \n",
       "\n",
       "      epl_sngpnt  spl_theme2  rpl_theme2  epl_minrty  epl_limeng  spl_theme3  \\\n",
       "0         0.3792      2.1076      0.5810      0.6336      0.5113      1.1449   \n",
       "1         0.1391      1.5666      0.1990      0.5158      0.3582      0.8740   \n",
       "2         0.9468      2.6752      0.9153      0.8965      0.7052      1.6017   \n",
       "3         0.1706      1.3826      0.1203      0.6390      0.2270      0.8660   \n",
       "4         0.2961      1.7845      0.3187      0.4206      0.7170      1.1376   \n",
       "...          ...         ...         ...         ...         ...         ...   \n",
       "3137      0.7679      1.9163      0.4193      0.5680      0.7052      1.2732   \n",
       "3138      0.2216      0.5116      0.0096      0.5400      0.9000      1.4400   \n",
       "3139      0.2665      1.9513      0.4486      0.4136      0.4642      0.8778   \n",
       "3140      0.2961      2.1911      0.6482      0.5330      0.2270      0.7600   \n",
       "3141      0.2961      1.6180      0.2260      0.3095      0.5492      0.8587   \n",
       "\n",
       "      rpl_theme3  epl_munit  epl_mobile  epl_crowd  epl_noveh  epl_groupq  \\\n",
       "0         0.5947     0.6017      0.7408     0.2964     0.4846      0.1525   \n",
       "1         0.4358     0.9713      0.5339     0.2604     0.1328      0.3018   \n",
       "2         0.8558     0.2416      0.9280     0.8198     0.8685      0.9449   \n",
       "3         0.4323     0.4317      0.9207     0.0981     0.5441      0.9214   \n",
       "4         0.5915     0.1512      0.8816     0.3703     0.2420      0.1165   \n",
       "...          ...        ...         ...        ...        ...         ...   \n",
       "3137      0.6718     0.7307      0.8306     0.4817     0.0503      0.2582   \n",
       "3138      0.7736     0.8109      0.1442     0.9688     0.0503      0.7561   \n",
       "3139      0.4390     0.7453      0.8816     0.7249     0.1971      0.2582   \n",
       "3140      0.3687     0.1958      0.5384     0.4457     0.3715      0.4995   \n",
       "3141      0.4276     0.4575      0.8535     0.6049     0.0630      0.8131   \n",
       "\n",
       "      spl_theme4  rpl_theme4  spl_themes  rpl_themes  f_pov  f_unemp  f_pci  \\\n",
       "0         2.2760      0.3741      7.0688      0.4354      0        0      0   \n",
       "1         2.2002      0.3359      5.7034      0.2162      0        0      0   \n",
       "2         3.8028      0.9889     11.8827      0.9959      1        1      1   \n",
       "3         2.9160      0.7189      8.0309      0.6003      0        0      0   \n",
       "4         1.7616      0.1741      7.0137      0.4242      0        0      0   \n",
       "...          ...         ...         ...         ...    ...      ...    ...   \n",
       "3137      2.3515      0.4120      6.7192      0.3701      0        0      0   \n",
       "3138      2.7303      0.6266      4.8204      0.1127      0        0      0   \n",
       "3139      2.8071      0.6657      7.1614      0.4522      0        0      0   \n",
       "3140      2.0509      0.2751      6.7414      0.3732      0        0      0   \n",
       "3141      2.7920      0.6581      6.6053      0.3475      0        0      0   \n",
       "\n",
       "      f_nohsdp  f_theme1  f_age65  f_age17  f_disabl  f_sngpnt  f_theme2  \\\n",
       "0            0         0        0        0         0         0         0   \n",
       "1            0         0        0        0         0         0         0   \n",
       "2            1         4        0        0         1         1         2   \n",
       "3            0         0        0        0         0         0         0   \n",
       "4            0         0        0        0         0         0         0   \n",
       "...        ...       ...      ...      ...       ...       ...       ...   \n",
       "3137         0         0        0        1         0         0         1   \n",
       "3138         0         0        0        0         0         0         0   \n",
       "3139         0         0        0        1         0         0         1   \n",
       "3140         0         0        0        0         0         0         0   \n",
       "3141         0         0        0        0         0         0         0   \n",
       "\n",
       "      f_minrty  f_limeng  f_theme3  f_munit  f_mobile  f_crowd  f_noveh  \\\n",
       "0            0         0         0        0         0        0        0   \n",
       "1            0         0         0        1         0        0        0   \n",
       "2            0         0         0        0         1        0        0   \n",
       "3            0         0         0        0         1        0        0   \n",
       "4            0         0         0        0         0        0        0   \n",
       "...        ...       ...       ...      ...       ...      ...      ...   \n",
       "3137         0         0         0        0         0        0        0   \n",
       "3138         0         1         1        0         0        1        0   \n",
       "3139         0         0         0        0         0        0        0   \n",
       "3140         0         0         0        0         0        0        0   \n",
       "3141         0         0         0        0         0        0        0   \n",
       "\n",
       "      f_groupq  f_theme4  f_total  \n",
       "0            0         0        0  \n",
       "1            0         1        1  \n",
       "2            1         2        8  \n",
       "3            1         2        2  \n",
       "4            0         0        0  \n",
       "...        ...       ...      ...  \n",
       "3137         0         0        1  \n",
       "3138         0         1        2  \n",
       "3139         0         0        1  \n",
       "3140         0         0        0  \n",
       "3141         0         0        0  \n",
       "\n",
       "[3141 rows x 48 columns]"
      ]
     },
     "execution_count": 135,
     "metadata": {},
     "output_type": "execute_result"
    },
    {
     "data": {
      "application/javascript": [
       "\n",
       "            setTimeout(function() {\n",
       "                var nbb_cell_id = 135;\n",
       "                var nbb_unformatted_code = \"data = pd.read_csv(\\\"Data/data.csv\\\", index_col=[0])\\ndata\";\n",
       "                var nbb_formatted_code = \"data = pd.read_csv(\\\"Data/data.csv\\\", index_col=[0])\\ndata\";\n",
       "                var nbb_cells = Jupyter.notebook.get_cells();\n",
       "                for (var i = 0; i < nbb_cells.length; ++i) {\n",
       "                    if (nbb_cells[i].input_prompt_number == nbb_cell_id) {\n",
       "                        if (nbb_cells[i].get_text() == nbb_unformatted_code) {\n",
       "                             nbb_cells[i].set_text(nbb_formatted_code);\n",
       "                        }\n",
       "                        break;\n",
       "                    }\n",
       "                }\n",
       "            }, 500);\n",
       "            "
      ],
      "text/plain": [
       "<IPython.core.display.Javascript object>"
      ]
     },
     "metadata": {},
     "output_type": "display_data"
    }
   ],
   "source": [
    "data = pd.read_csv(\"Data/data.csv\", index_col=[0])\n",
    "data"
   ]
  },
  {
   "cell_type": "code",
   "execution_count": 136,
   "id": "ee2681ac",
   "metadata": {},
   "outputs": [
    {
     "data": {
      "text/html": [
       "<div>\n",
       "<style scoped>\n",
       "    .dataframe tbody tr th:only-of-type {\n",
       "        vertical-align: middle;\n",
       "    }\n",
       "\n",
       "    .dataframe tbody tr th {\n",
       "        vertical-align: top;\n",
       "    }\n",
       "\n",
       "    .dataframe thead th {\n",
       "        text-align: right;\n",
       "    }\n",
       "</style>\n",
       "<table border=\"1\" class=\"dataframe\">\n",
       "  <thead>\n",
       "    <tr style=\"text-align: right;\">\n",
       "      <th></th>\n",
       "      <th>state</th>\n",
       "      <th>county</th>\n",
       "      <th>area_sqmi</th>\n",
       "      <th>epl_pov</th>\n",
       "      <th>epl_unemp</th>\n",
       "      <th>epl_pci</th>\n",
       "      <th>epl_nohsdp</th>\n",
       "      <th>epl_age65</th>\n",
       "      <th>epl_age17</th>\n",
       "      <th>epl_disabl</th>\n",
       "      <th>epl_sngpnt</th>\n",
       "      <th>epl_minrty</th>\n",
       "      <th>epl_limeng</th>\n",
       "      <th>epl_munit</th>\n",
       "      <th>epl_mobile</th>\n",
       "      <th>epl_crowd</th>\n",
       "      <th>epl_noveh</th>\n",
       "      <th>epl_groupq</th>\n",
       "      <th>f_pov</th>\n",
       "      <th>f_unemp</th>\n",
       "      <th>f_pci</th>\n",
       "      <th>f_nohsdp</th>\n",
       "      <th>f_theme1</th>\n",
       "      <th>f_age65</th>\n",
       "      <th>f_age17</th>\n",
       "      <th>f_disabl</th>\n",
       "      <th>f_sngpnt</th>\n",
       "      <th>f_theme2</th>\n",
       "      <th>f_minrty</th>\n",
       "      <th>f_limeng</th>\n",
       "      <th>f_theme3</th>\n",
       "      <th>f_munit</th>\n",
       "      <th>f_mobile</th>\n",
       "      <th>f_crowd</th>\n",
       "      <th>f_noveh</th>\n",
       "      <th>f_groupq</th>\n",
       "      <th>f_theme4</th>\n",
       "    </tr>\n",
       "  </thead>\n",
       "  <tbody>\n",
       "    <tr>\n",
       "      <th>0</th>\n",
       "      <td>ALABAMA</td>\n",
       "      <td>Autauga</td>\n",
       "      <td>594.443459</td>\n",
       "      <td>0.5401</td>\n",
       "      <td>0.2745</td>\n",
       "      <td>0.2860</td>\n",
       "      <td>0.4397</td>\n",
       "      <td>0.1850</td>\n",
       "      <td>0.7529</td>\n",
       "      <td>0.7905</td>\n",
       "      <td>0.3792</td>\n",
       "      <td>0.6336</td>\n",
       "      <td>0.5113</td>\n",
       "      <td>0.6017</td>\n",
       "      <td>0.7408</td>\n",
       "      <td>0.2964</td>\n",
       "      <td>0.4846</td>\n",
       "      <td>0.1525</td>\n",
       "      <td>0</td>\n",
       "      <td>0</td>\n",
       "      <td>0</td>\n",
       "      <td>0</td>\n",
       "      <td>0</td>\n",
       "      <td>0</td>\n",
       "      <td>0</td>\n",
       "      <td>0</td>\n",
       "      <td>0</td>\n",
       "      <td>0</td>\n",
       "      <td>0</td>\n",
       "      <td>0</td>\n",
       "      <td>0</td>\n",
       "      <td>0</td>\n",
       "      <td>0</td>\n",
       "      <td>0</td>\n",
       "      <td>0</td>\n",
       "      <td>0</td>\n",
       "      <td>0</td>\n",
       "    </tr>\n",
       "    <tr>\n",
       "      <th>1</th>\n",
       "      <td>ALABAMA</td>\n",
       "      <td>Baldwin</td>\n",
       "      <td>1589.793007</td>\n",
       "      <td>0.2239</td>\n",
       "      <td>0.3121</td>\n",
       "      <td>0.2057</td>\n",
       "      <td>0.3209</td>\n",
       "      <td>0.6428</td>\n",
       "      <td>0.4323</td>\n",
       "      <td>0.3524</td>\n",
       "      <td>0.1391</td>\n",
       "      <td>0.5158</td>\n",
       "      <td>0.3582</td>\n",
       "      <td>0.9713</td>\n",
       "      <td>0.5339</td>\n",
       "      <td>0.2604</td>\n",
       "      <td>0.1328</td>\n",
       "      <td>0.3018</td>\n",
       "      <td>0</td>\n",
       "      <td>0</td>\n",
       "      <td>0</td>\n",
       "      <td>0</td>\n",
       "      <td>0</td>\n",
       "      <td>0</td>\n",
       "      <td>0</td>\n",
       "      <td>0</td>\n",
       "      <td>0</td>\n",
       "      <td>0</td>\n",
       "      <td>0</td>\n",
       "      <td>0</td>\n",
       "      <td>0</td>\n",
       "      <td>1</td>\n",
       "      <td>0</td>\n",
       "      <td>0</td>\n",
       "      <td>0</td>\n",
       "      <td>0</td>\n",
       "      <td>1</td>\n",
       "    </tr>\n",
       "    <tr>\n",
       "      <th>2</th>\n",
       "      <td>ALABAMA</td>\n",
       "      <td>Barbour</td>\n",
       "      <td>885.001636</td>\n",
       "      <td>0.9631</td>\n",
       "      <td>0.9217</td>\n",
       "      <td>0.9481</td>\n",
       "      <td>0.9701</td>\n",
       "      <td>0.4893</td>\n",
       "      <td>0.3327</td>\n",
       "      <td>0.9064</td>\n",
       "      <td>0.9468</td>\n",
       "      <td>0.8965</td>\n",
       "      <td>0.7052</td>\n",
       "      <td>0.2416</td>\n",
       "      <td>0.9280</td>\n",
       "      <td>0.8198</td>\n",
       "      <td>0.8685</td>\n",
       "      <td>0.9449</td>\n",
       "      <td>1</td>\n",
       "      <td>1</td>\n",
       "      <td>1</td>\n",
       "      <td>1</td>\n",
       "      <td>4</td>\n",
       "      <td>0</td>\n",
       "      <td>0</td>\n",
       "      <td>1</td>\n",
       "      <td>1</td>\n",
       "      <td>2</td>\n",
       "      <td>0</td>\n",
       "      <td>0</td>\n",
       "      <td>0</td>\n",
       "      <td>0</td>\n",
       "      <td>1</td>\n",
       "      <td>0</td>\n",
       "      <td>0</td>\n",
       "      <td>1</td>\n",
       "      <td>2</td>\n",
       "    </tr>\n",
       "    <tr>\n",
       "      <th>3</th>\n",
       "      <td>ALABAMA</td>\n",
       "      <td>Bibb</td>\n",
       "      <td>622.461089</td>\n",
       "      <td>0.4430</td>\n",
       "      <td>0.7895</td>\n",
       "      <td>0.8987</td>\n",
       "      <td>0.7351</td>\n",
       "      <td>0.3200</td>\n",
       "      <td>0.2846</td>\n",
       "      <td>0.6074</td>\n",
       "      <td>0.1706</td>\n",
       "      <td>0.6390</td>\n",
       "      <td>0.2270</td>\n",
       "      <td>0.4317</td>\n",
       "      <td>0.9207</td>\n",
       "      <td>0.0981</td>\n",
       "      <td>0.5441</td>\n",
       "      <td>0.9214</td>\n",
       "      <td>0</td>\n",
       "      <td>0</td>\n",
       "      <td>0</td>\n",
       "      <td>0</td>\n",
       "      <td>0</td>\n",
       "      <td>0</td>\n",
       "      <td>0</td>\n",
       "      <td>0</td>\n",
       "      <td>0</td>\n",
       "      <td>0</td>\n",
       "      <td>0</td>\n",
       "      <td>0</td>\n",
       "      <td>0</td>\n",
       "      <td>0</td>\n",
       "      <td>1</td>\n",
       "      <td>0</td>\n",
       "      <td>0</td>\n",
       "      <td>1</td>\n",
       "      <td>2</td>\n",
       "    </tr>\n",
       "    <tr>\n",
       "      <th>4</th>\n",
       "      <td>ALABAMA</td>\n",
       "      <td>Blount</td>\n",
       "      <td>644.830460</td>\n",
       "      <td>0.4723</td>\n",
       "      <td>0.2611</td>\n",
       "      <td>0.7561</td>\n",
       "      <td>0.8405</td>\n",
       "      <td>0.4715</td>\n",
       "      <td>0.6406</td>\n",
       "      <td>0.3763</td>\n",
       "      <td>0.2961</td>\n",
       "      <td>0.4206</td>\n",
       "      <td>0.7170</td>\n",
       "      <td>0.1512</td>\n",
       "      <td>0.8816</td>\n",
       "      <td>0.3703</td>\n",
       "      <td>0.2420</td>\n",
       "      <td>0.1165</td>\n",
       "      <td>0</td>\n",
       "      <td>0</td>\n",
       "      <td>0</td>\n",
       "      <td>0</td>\n",
       "      <td>0</td>\n",
       "      <td>0</td>\n",
       "      <td>0</td>\n",
       "      <td>0</td>\n",
       "      <td>0</td>\n",
       "      <td>0</td>\n",
       "      <td>0</td>\n",
       "      <td>0</td>\n",
       "      <td>0</td>\n",
       "      <td>0</td>\n",
       "      <td>0</td>\n",
       "      <td>0</td>\n",
       "      <td>0</td>\n",
       "      <td>0</td>\n",
       "      <td>0</td>\n",
       "    </tr>\n",
       "    <tr>\n",
       "      <th>...</th>\n",
       "      <td>...</td>\n",
       "      <td>...</td>\n",
       "      <td>...</td>\n",
       "      <td>...</td>\n",
       "      <td>...</td>\n",
       "      <td>...</td>\n",
       "      <td>...</td>\n",
       "      <td>...</td>\n",
       "      <td>...</td>\n",
       "      <td>...</td>\n",
       "      <td>...</td>\n",
       "      <td>...</td>\n",
       "      <td>...</td>\n",
       "      <td>...</td>\n",
       "      <td>...</td>\n",
       "      <td>...</td>\n",
       "      <td>...</td>\n",
       "      <td>...</td>\n",
       "      <td>...</td>\n",
       "      <td>...</td>\n",
       "      <td>...</td>\n",
       "      <td>...</td>\n",
       "      <td>...</td>\n",
       "      <td>...</td>\n",
       "      <td>...</td>\n",
       "      <td>...</td>\n",
       "      <td>...</td>\n",
       "      <td>...</td>\n",
       "      <td>...</td>\n",
       "      <td>...</td>\n",
       "      <td>...</td>\n",
       "      <td>...</td>\n",
       "      <td>...</td>\n",
       "      <td>...</td>\n",
       "      <td>...</td>\n",
       "      <td>...</td>\n",
       "      <td>...</td>\n",
       "    </tr>\n",
       "    <tr>\n",
       "      <th>3137</th>\n",
       "      <td>WYOMING</td>\n",
       "      <td>Sweetwater</td>\n",
       "      <td>10426.975725</td>\n",
       "      <td>0.3127</td>\n",
       "      <td>0.4490</td>\n",
       "      <td>0.1497</td>\n",
       "      <td>0.2668</td>\n",
       "      <td>0.0293</td>\n",
       "      <td>0.9150</td>\n",
       "      <td>0.2041</td>\n",
       "      <td>0.7679</td>\n",
       "      <td>0.5680</td>\n",
       "      <td>0.7052</td>\n",
       "      <td>0.7307</td>\n",
       "      <td>0.8306</td>\n",
       "      <td>0.4817</td>\n",
       "      <td>0.0503</td>\n",
       "      <td>0.2582</td>\n",
       "      <td>0</td>\n",
       "      <td>0</td>\n",
       "      <td>0</td>\n",
       "      <td>0</td>\n",
       "      <td>0</td>\n",
       "      <td>0</td>\n",
       "      <td>1</td>\n",
       "      <td>0</td>\n",
       "      <td>0</td>\n",
       "      <td>1</td>\n",
       "      <td>0</td>\n",
       "      <td>0</td>\n",
       "      <td>0</td>\n",
       "      <td>0</td>\n",
       "      <td>0</td>\n",
       "      <td>0</td>\n",
       "      <td>0</td>\n",
       "      <td>0</td>\n",
       "      <td>0</td>\n",
       "    </tr>\n",
       "    <tr>\n",
       "      <th>3138</th>\n",
       "      <td>WYOMING</td>\n",
       "      <td>Teton</td>\n",
       "      <td>3996.844622</td>\n",
       "      <td>0.0522</td>\n",
       "      <td>0.0264</td>\n",
       "      <td>0.0051</td>\n",
       "      <td>0.0548</td>\n",
       "      <td>0.1334</td>\n",
       "      <td>0.1506</td>\n",
       "      <td>0.0060</td>\n",
       "      <td>0.2216</td>\n",
       "      <td>0.5400</td>\n",
       "      <td>0.9000</td>\n",
       "      <td>0.8109</td>\n",
       "      <td>0.1442</td>\n",
       "      <td>0.9688</td>\n",
       "      <td>0.0503</td>\n",
       "      <td>0.7561</td>\n",
       "      <td>0</td>\n",
       "      <td>0</td>\n",
       "      <td>0</td>\n",
       "      <td>0</td>\n",
       "      <td>0</td>\n",
       "      <td>0</td>\n",
       "      <td>0</td>\n",
       "      <td>0</td>\n",
       "      <td>0</td>\n",
       "      <td>0</td>\n",
       "      <td>0</td>\n",
       "      <td>1</td>\n",
       "      <td>1</td>\n",
       "      <td>0</td>\n",
       "      <td>0</td>\n",
       "      <td>1</td>\n",
       "      <td>0</td>\n",
       "      <td>0</td>\n",
       "      <td>1</td>\n",
       "    </tr>\n",
       "    <tr>\n",
       "      <th>3139</th>\n",
       "      <td>WYOMING</td>\n",
       "      <td>Uinta</td>\n",
       "      <td>2081.719807</td>\n",
       "      <td>0.3430</td>\n",
       "      <td>0.6032</td>\n",
       "      <td>0.4443</td>\n",
       "      <td>0.1347</td>\n",
       "      <td>0.0675</td>\n",
       "      <td>0.9685</td>\n",
       "      <td>0.6488</td>\n",
       "      <td>0.2665</td>\n",
       "      <td>0.4136</td>\n",
       "      <td>0.4642</td>\n",
       "      <td>0.7453</td>\n",
       "      <td>0.8816</td>\n",
       "      <td>0.7249</td>\n",
       "      <td>0.1971</td>\n",
       "      <td>0.2582</td>\n",
       "      <td>0</td>\n",
       "      <td>0</td>\n",
       "      <td>0</td>\n",
       "      <td>0</td>\n",
       "      <td>0</td>\n",
       "      <td>0</td>\n",
       "      <td>1</td>\n",
       "      <td>0</td>\n",
       "      <td>0</td>\n",
       "      <td>1</td>\n",
       "      <td>0</td>\n",
       "      <td>0</td>\n",
       "      <td>0</td>\n",
       "      <td>0</td>\n",
       "      <td>0</td>\n",
       "      <td>0</td>\n",
       "      <td>0</td>\n",
       "      <td>0</td>\n",
       "      <td>0</td>\n",
       "    </tr>\n",
       "    <tr>\n",
       "      <th>3140</th>\n",
       "      <td>WYOMING</td>\n",
       "      <td>Washakie</td>\n",
       "      <td>2238.672972</td>\n",
       "      <td>0.3360</td>\n",
       "      <td>0.6207</td>\n",
       "      <td>0.4035</td>\n",
       "      <td>0.3792</td>\n",
       "      <td>0.7380</td>\n",
       "      <td>0.7122</td>\n",
       "      <td>0.4448</td>\n",
       "      <td>0.2961</td>\n",
       "      <td>0.5330</td>\n",
       "      <td>0.2270</td>\n",
       "      <td>0.1958</td>\n",
       "      <td>0.5384</td>\n",
       "      <td>0.4457</td>\n",
       "      <td>0.3715</td>\n",
       "      <td>0.4995</td>\n",
       "      <td>0</td>\n",
       "      <td>0</td>\n",
       "      <td>0</td>\n",
       "      <td>0</td>\n",
       "      <td>0</td>\n",
       "      <td>0</td>\n",
       "      <td>0</td>\n",
       "      <td>0</td>\n",
       "      <td>0</td>\n",
       "      <td>0</td>\n",
       "      <td>0</td>\n",
       "      <td>0</td>\n",
       "      <td>0</td>\n",
       "      <td>0</td>\n",
       "      <td>0</td>\n",
       "      <td>0</td>\n",
       "      <td>0</td>\n",
       "      <td>0</td>\n",
       "      <td>0</td>\n",
       "    </tr>\n",
       "    <tr>\n",
       "      <th>3141</th>\n",
       "      <td>WYOMING</td>\n",
       "      <td>Weston</td>\n",
       "      <td>2398.003891</td>\n",
       "      <td>0.6745</td>\n",
       "      <td>0.1822</td>\n",
       "      <td>0.2968</td>\n",
       "      <td>0.1831</td>\n",
       "      <td>0.5817</td>\n",
       "      <td>0.3419</td>\n",
       "      <td>0.3983</td>\n",
       "      <td>0.2961</td>\n",
       "      <td>0.3095</td>\n",
       "      <td>0.5492</td>\n",
       "      <td>0.4575</td>\n",
       "      <td>0.8535</td>\n",
       "      <td>0.6049</td>\n",
       "      <td>0.0630</td>\n",
       "      <td>0.8131</td>\n",
       "      <td>0</td>\n",
       "      <td>0</td>\n",
       "      <td>0</td>\n",
       "      <td>0</td>\n",
       "      <td>0</td>\n",
       "      <td>0</td>\n",
       "      <td>0</td>\n",
       "      <td>0</td>\n",
       "      <td>0</td>\n",
       "      <td>0</td>\n",
       "      <td>0</td>\n",
       "      <td>0</td>\n",
       "      <td>0</td>\n",
       "      <td>0</td>\n",
       "      <td>0</td>\n",
       "      <td>0</td>\n",
       "      <td>0</td>\n",
       "      <td>0</td>\n",
       "      <td>0</td>\n",
       "    </tr>\n",
       "  </tbody>\n",
       "</table>\n",
       "<p>3141 rows × 37 columns</p>\n",
       "</div>"
      ],
      "text/plain": [
       "        state      county     area_sqmi  epl_pov  epl_unemp  epl_pci  \\\n",
       "0     ALABAMA     Autauga    594.443459   0.5401     0.2745   0.2860   \n",
       "1     ALABAMA     Baldwin   1589.793007   0.2239     0.3121   0.2057   \n",
       "2     ALABAMA     Barbour    885.001636   0.9631     0.9217   0.9481   \n",
       "3     ALABAMA        Bibb    622.461089   0.4430     0.7895   0.8987   \n",
       "4     ALABAMA      Blount    644.830460   0.4723     0.2611   0.7561   \n",
       "...       ...         ...           ...      ...        ...      ...   \n",
       "3137  WYOMING  Sweetwater  10426.975725   0.3127     0.4490   0.1497   \n",
       "3138  WYOMING       Teton   3996.844622   0.0522     0.0264   0.0051   \n",
       "3139  WYOMING       Uinta   2081.719807   0.3430     0.6032   0.4443   \n",
       "3140  WYOMING    Washakie   2238.672972   0.3360     0.6207   0.4035   \n",
       "3141  WYOMING      Weston   2398.003891   0.6745     0.1822   0.2968   \n",
       "\n",
       "      epl_nohsdp  epl_age65  epl_age17  epl_disabl  epl_sngpnt  epl_minrty  \\\n",
       "0         0.4397     0.1850     0.7529      0.7905      0.3792      0.6336   \n",
       "1         0.3209     0.6428     0.4323      0.3524      0.1391      0.5158   \n",
       "2         0.9701     0.4893     0.3327      0.9064      0.9468      0.8965   \n",
       "3         0.7351     0.3200     0.2846      0.6074      0.1706      0.6390   \n",
       "4         0.8405     0.4715     0.6406      0.3763      0.2961      0.4206   \n",
       "...          ...        ...        ...         ...         ...         ...   \n",
       "3137      0.2668     0.0293     0.9150      0.2041      0.7679      0.5680   \n",
       "3138      0.0548     0.1334     0.1506      0.0060      0.2216      0.5400   \n",
       "3139      0.1347     0.0675     0.9685      0.6488      0.2665      0.4136   \n",
       "3140      0.3792     0.7380     0.7122      0.4448      0.2961      0.5330   \n",
       "3141      0.1831     0.5817     0.3419      0.3983      0.2961      0.3095   \n",
       "\n",
       "      epl_limeng  epl_munit  epl_mobile  epl_crowd  epl_noveh  epl_groupq  \\\n",
       "0         0.5113     0.6017      0.7408     0.2964     0.4846      0.1525   \n",
       "1         0.3582     0.9713      0.5339     0.2604     0.1328      0.3018   \n",
       "2         0.7052     0.2416      0.9280     0.8198     0.8685      0.9449   \n",
       "3         0.2270     0.4317      0.9207     0.0981     0.5441      0.9214   \n",
       "4         0.7170     0.1512      0.8816     0.3703     0.2420      0.1165   \n",
       "...          ...        ...         ...        ...        ...         ...   \n",
       "3137      0.7052     0.7307      0.8306     0.4817     0.0503      0.2582   \n",
       "3138      0.9000     0.8109      0.1442     0.9688     0.0503      0.7561   \n",
       "3139      0.4642     0.7453      0.8816     0.7249     0.1971      0.2582   \n",
       "3140      0.2270     0.1958      0.5384     0.4457     0.3715      0.4995   \n",
       "3141      0.5492     0.4575      0.8535     0.6049     0.0630      0.8131   \n",
       "\n",
       "      f_pov  f_unemp  f_pci  f_nohsdp  f_theme1  f_age65  f_age17  f_disabl  \\\n",
       "0         0        0      0         0         0        0        0         0   \n",
       "1         0        0      0         0         0        0        0         0   \n",
       "2         1        1      1         1         4        0        0         1   \n",
       "3         0        0      0         0         0        0        0         0   \n",
       "4         0        0      0         0         0        0        0         0   \n",
       "...     ...      ...    ...       ...       ...      ...      ...       ...   \n",
       "3137      0        0      0         0         0        0        1         0   \n",
       "3138      0        0      0         0         0        0        0         0   \n",
       "3139      0        0      0         0         0        0        1         0   \n",
       "3140      0        0      0         0         0        0        0         0   \n",
       "3141      0        0      0         0         0        0        0         0   \n",
       "\n",
       "      f_sngpnt  f_theme2  f_minrty  f_limeng  f_theme3  f_munit  f_mobile  \\\n",
       "0            0         0         0         0         0        0         0   \n",
       "1            0         0         0         0         0        1         0   \n",
       "2            1         2         0         0         0        0         1   \n",
       "3            0         0         0         0         0        0         1   \n",
       "4            0         0         0         0         0        0         0   \n",
       "...        ...       ...       ...       ...       ...      ...       ...   \n",
       "3137         0         1         0         0         0        0         0   \n",
       "3138         0         0         0         1         1        0         0   \n",
       "3139         0         1         0         0         0        0         0   \n",
       "3140         0         0         0         0         0        0         0   \n",
       "3141         0         0         0         0         0        0         0   \n",
       "\n",
       "      f_crowd  f_noveh  f_groupq  f_theme4  \n",
       "0           0        0         0         0  \n",
       "1           0        0         0         1  \n",
       "2           0        0         1         2  \n",
       "3           0        0         1         2  \n",
       "4           0        0         0         0  \n",
       "...       ...      ...       ...       ...  \n",
       "3137        0        0         0         0  \n",
       "3138        1        0         0         1  \n",
       "3139        0        0         0         0  \n",
       "3140        0        0         0         0  \n",
       "3141        0        0         0         0  \n",
       "\n",
       "[3141 rows x 37 columns]"
      ]
     },
     "execution_count": 136,
     "metadata": {},
     "output_type": "execute_result"
    },
    {
     "data": {
      "application/javascript": [
       "\n",
       "            setTimeout(function() {\n",
       "                var nbb_cell_id = 136;\n",
       "                var nbb_unformatted_code = \"# data = data.drop(\\n#     [\\\"rpl_themes\\\", \\\"rpl_theme1\\\", \\\"rpl_theme2\\\", \\\"rpl_theme3\\\", \\\"rpl_theme4\\\"], axis=1\\n# )\\ndata = data.drop(\\n    [\\n        \\\"rpl_themes\\\",\\n        \\\"rpl_theme1\\\",\\n        \\\"rpl_theme2\\\",\\n        \\\"rpl_theme3\\\",\\n        \\\"rpl_theme4\\\",\\n        \\\"spl_theme1\\\",\\n        \\\"spl_theme2\\\",\\n        \\\"spl_theme3\\\",\\n        \\\"spl_theme4\\\",\\n        \\\"spl_themes\\\",\\n        \\\"f_total\\\",\\n    ],\\n    axis=1,\\n)\\ndata\";\n",
       "                var nbb_formatted_code = \"# data = data.drop(\\n#     [\\\"rpl_themes\\\", \\\"rpl_theme1\\\", \\\"rpl_theme2\\\", \\\"rpl_theme3\\\", \\\"rpl_theme4\\\"], axis=1\\n# )\\ndata = data.drop(\\n    [\\n        \\\"rpl_themes\\\",\\n        \\\"rpl_theme1\\\",\\n        \\\"rpl_theme2\\\",\\n        \\\"rpl_theme3\\\",\\n        \\\"rpl_theme4\\\",\\n        \\\"spl_theme1\\\",\\n        \\\"spl_theme2\\\",\\n        \\\"spl_theme3\\\",\\n        \\\"spl_theme4\\\",\\n        \\\"spl_themes\\\",\\n        \\\"f_total\\\",\\n    ],\\n    axis=1,\\n)\\ndata\";\n",
       "                var nbb_cells = Jupyter.notebook.get_cells();\n",
       "                for (var i = 0; i < nbb_cells.length; ++i) {\n",
       "                    if (nbb_cells[i].input_prompt_number == nbb_cell_id) {\n",
       "                        if (nbb_cells[i].get_text() == nbb_unformatted_code) {\n",
       "                             nbb_cells[i].set_text(nbb_formatted_code);\n",
       "                        }\n",
       "                        break;\n",
       "                    }\n",
       "                }\n",
       "            }, 500);\n",
       "            "
      ],
      "text/plain": [
       "<IPython.core.display.Javascript object>"
      ]
     },
     "metadata": {},
     "output_type": "display_data"
    }
   ],
   "source": [
    "# data = data.drop(\n",
    "#     [\"rpl_themes\", \"rpl_theme1\", \"rpl_theme2\", \"rpl_theme3\", \"rpl_theme4\"], axis=1\n",
    "# )\n",
    "data = data.drop(\n",
    "    [\n",
    "        \"rpl_themes\",\n",
    "        \"rpl_theme1\",\n",
    "        \"rpl_theme2\",\n",
    "        \"rpl_theme3\",\n",
    "        \"rpl_theme4\",\n",
    "        \"spl_theme1\",\n",
    "        \"spl_theme2\",\n",
    "        \"spl_theme3\",\n",
    "        \"spl_theme4\",\n",
    "        \"spl_themes\",\n",
    "        \"f_total\",\n",
    "    ],\n",
    "    axis=1,\n",
    ")\n",
    "data"
   ]
  },
  {
   "cell_type": "code",
   "execution_count": 137,
   "id": "7cea131b",
   "metadata": {},
   "outputs": [
    {
     "data": {
      "text/html": [
       "<div>\n",
       "<style scoped>\n",
       "    .dataframe tbody tr th:only-of-type {\n",
       "        vertical-align: middle;\n",
       "    }\n",
       "\n",
       "    .dataframe tbody tr th {\n",
       "        vertical-align: top;\n",
       "    }\n",
       "\n",
       "    .dataframe thead th {\n",
       "        text-align: right;\n",
       "    }\n",
       "</style>\n",
       "<table border=\"1\" class=\"dataframe\">\n",
       "  <thead>\n",
       "    <tr style=\"text-align: right;\">\n",
       "      <th></th>\n",
       "      <th>state</th>\n",
       "      <th>county</th>\n",
       "      <th>area_sqmi</th>\n",
       "      <th>epl_pov</th>\n",
       "      <th>epl_unemp</th>\n",
       "      <th>epl_pci</th>\n",
       "      <th>epl_nohsdp</th>\n",
       "      <th>epl_age65</th>\n",
       "      <th>epl_age17</th>\n",
       "      <th>epl_disabl</th>\n",
       "      <th>epl_sngpnt</th>\n",
       "      <th>epl_minrty</th>\n",
       "      <th>epl_limeng</th>\n",
       "      <th>epl_munit</th>\n",
       "      <th>epl_mobile</th>\n",
       "      <th>epl_crowd</th>\n",
       "      <th>epl_noveh</th>\n",
       "      <th>epl_groupq</th>\n",
       "    </tr>\n",
       "  </thead>\n",
       "  <tbody>\n",
       "    <tr>\n",
       "      <th>0</th>\n",
       "      <td>ALABAMA</td>\n",
       "      <td>Autauga</td>\n",
       "      <td>-0.146226</td>\n",
       "      <td>0.147034</td>\n",
       "      <td>-0.758697</td>\n",
       "      <td>-0.741168</td>\n",
       "      <td>-0.199502</td>\n",
       "      <td>-1.078248</td>\n",
       "      <td>0.892276</td>\n",
       "      <td>1.016059</td>\n",
       "      <td>-0.397494</td>\n",
       "      <td>0.466278</td>\n",
       "      <td>0.104862</td>\n",
       "      <td>0.367873</td>\n",
       "      <td>0.838905</td>\n",
       "      <td>-0.655436</td>\n",
       "      <td>-0.033367</td>\n",
       "      <td>-1.149022</td>\n",
       "    </tr>\n",
       "    <tr>\n",
       "      <th>1</th>\n",
       "      <td>ALABAMA</td>\n",
       "      <td>Baldwin</td>\n",
       "      <td>0.129237</td>\n",
       "      <td>-0.946418</td>\n",
       "      <td>-0.628783</td>\n",
       "      <td>-1.019243</td>\n",
       "      <td>-0.609932</td>\n",
       "      <td>0.505686</td>\n",
       "      <td>-0.218058</td>\n",
       "      <td>-0.498723</td>\n",
       "      <td>-1.227960</td>\n",
       "      <td>0.059334</td>\n",
       "      <td>-0.401806</td>\n",
       "      <td>1.633605</td>\n",
       "      <td>0.123762</td>\n",
       "      <td>-0.778635</td>\n",
       "      <td>-1.247522</td>\n",
       "      <td>-0.640892</td>\n",
       "    </tr>\n",
       "    <tr>\n",
       "      <th>2</th>\n",
       "      <td>ALABAMA</td>\n",
       "      <td>Barbour</td>\n",
       "      <td>-0.065814</td>\n",
       "      <td>1.609811</td>\n",
       "      <td>1.477477</td>\n",
       "      <td>1.551660</td>\n",
       "      <td>1.632922</td>\n",
       "      <td>-0.025406</td>\n",
       "      <td>-0.563003</td>\n",
       "      <td>1.416797</td>\n",
       "      <td>1.565740</td>\n",
       "      <td>1.374474</td>\n",
       "      <td>0.746553</td>\n",
       "      <td>-0.865325</td>\n",
       "      <td>1.485956</td>\n",
       "      <td>1.135743</td>\n",
       "      <td>1.291572</td>\n",
       "      <td>1.547842</td>\n",
       "    </tr>\n",
       "    <tr>\n",
       "      <th>3</th>\n",
       "      <td>ALABAMA</td>\n",
       "      <td>Bibb</td>\n",
       "      <td>-0.138472</td>\n",
       "      <td>-0.188748</td>\n",
       "      <td>1.020706</td>\n",
       "      <td>1.380590</td>\n",
       "      <td>0.821045</td>\n",
       "      <td>-0.611164</td>\n",
       "      <td>-0.729588</td>\n",
       "      <td>0.382969</td>\n",
       "      <td>-1.119007</td>\n",
       "      <td>0.484932</td>\n",
       "      <td>-0.835999</td>\n",
       "      <td>-0.214309</td>\n",
       "      <td>1.460724</td>\n",
       "      <td>-1.334058</td>\n",
       "      <td>0.171983</td>\n",
       "      <td>1.467862</td>\n",
       "    </tr>\n",
       "    <tr>\n",
       "      <th>4</th>\n",
       "      <td>ALABAMA</td>\n",
       "      <td>Blount</td>\n",
       "      <td>-0.132282</td>\n",
       "      <td>-0.087425</td>\n",
       "      <td>-0.804996</td>\n",
       "      <td>0.886771</td>\n",
       "      <td>1.185181</td>\n",
       "      <td>-0.086991</td>\n",
       "      <td>0.503348</td>\n",
       "      <td>-0.416086</td>\n",
       "      <td>-0.684924</td>\n",
       "      <td>-0.269538</td>\n",
       "      <td>0.785604</td>\n",
       "      <td>-1.174909</td>\n",
       "      <td>1.325576</td>\n",
       "      <td>-0.402536</td>\n",
       "      <td>-0.870644</td>\n",
       "      <td>-1.271545</td>\n",
       "    </tr>\n",
       "    <tr>\n",
       "      <th>...</th>\n",
       "      <td>...</td>\n",
       "      <td>...</td>\n",
       "      <td>...</td>\n",
       "      <td>...</td>\n",
       "      <td>...</td>\n",
       "      <td>...</td>\n",
       "      <td>...</td>\n",
       "      <td>...</td>\n",
       "      <td>...</td>\n",
       "      <td>...</td>\n",
       "      <td>...</td>\n",
       "      <td>...</td>\n",
       "      <td>...</td>\n",
       "      <td>...</td>\n",
       "      <td>...</td>\n",
       "      <td>...</td>\n",
       "      <td>...</td>\n",
       "      <td>...</td>\n",
       "    </tr>\n",
       "    <tr>\n",
       "      <th>3137</th>\n",
       "      <td>WYOMING</td>\n",
       "      <td>Sweetwater</td>\n",
       "      <td>0.795391</td>\n",
       "      <td>-1.540174</td>\n",
       "      <td>-1.615920</td>\n",
       "      <td>-1.713914</td>\n",
       "      <td>-1.529254</td>\n",
       "      <td>-1.256777</td>\n",
       "      <td>-1.193670</td>\n",
       "      <td>-1.696442</td>\n",
       "      <td>-0.942607</td>\n",
       "      <td>0.142933</td>\n",
       "      <td>1.391223</td>\n",
       "      <td>1.084299</td>\n",
       "      <td>-1.223224</td>\n",
       "      <td>1.645650</td>\n",
       "      <td>-1.532251</td>\n",
       "      <td>0.905278</td>\n",
       "    </tr>\n",
       "    <tr>\n",
       "      <th>3138</th>\n",
       "      <td>WYOMING</td>\n",
       "      <td>Teton</td>\n",
       "      <td>0.265379</td>\n",
       "      <td>-0.534558</td>\n",
       "      <td>0.377011</td>\n",
       "      <td>-0.192981</td>\n",
       "      <td>-1.253215</td>\n",
       "      <td>-1.484784</td>\n",
       "      <td>1.638964</td>\n",
       "      <td>0.526115</td>\n",
       "      <td>-0.787305</td>\n",
       "      <td>-0.293720</td>\n",
       "      <td>-0.051011</td>\n",
       "      <td>0.859645</td>\n",
       "      <td>1.325576</td>\n",
       "      <td>0.810976</td>\n",
       "      <td>-1.025606</td>\n",
       "      <td>-0.789281</td>\n",
       "    </tr>\n",
       "    <tr>\n",
       "      <th>3139</th>\n",
       "      <td>WYOMING</td>\n",
       "      <td>Uinta</td>\n",
       "      <td>0.308815</td>\n",
       "      <td>-0.558765</td>\n",
       "      <td>0.437476</td>\n",
       "      <td>-0.334269</td>\n",
       "      <td>-0.408517</td>\n",
       "      <td>0.835067</td>\n",
       "      <td>0.751320</td>\n",
       "      <td>-0.179239</td>\n",
       "      <td>-0.684924</td>\n",
       "      <td>0.118752</td>\n",
       "      <td>-0.835999</td>\n",
       "      <td>-1.022172</td>\n",
       "      <td>0.139316</td>\n",
       "      <td>-0.144502</td>\n",
       "      <td>-0.423705</td>\n",
       "      <td>0.031962</td>\n",
       "    </tr>\n",
       "    <tr>\n",
       "      <th>3140</th>\n",
       "      <td>WYOMING</td>\n",
       "      <td>Washakie</td>\n",
       "      <td>0.352910</td>\n",
       "      <td>0.611803</td>\n",
       "      <td>-1.077607</td>\n",
       "      <td>-0.703768</td>\n",
       "      <td>-1.086003</td>\n",
       "      <td>0.294288</td>\n",
       "      <td>-0.531140</td>\n",
       "      <td>-0.340018</td>\n",
       "      <td>-0.684924</td>\n",
       "      <td>-0.653336</td>\n",
       "      <td>0.230288</td>\n",
       "      <td>-0.125954</td>\n",
       "      <td>1.228449</td>\n",
       "      <td>0.400312</td>\n",
       "      <td>-1.488420</td>\n",
       "      <td>1.099272</td>\n",
       "    </tr>\n",
       "    <tr>\n",
       "      <th>3141</th>\n",
       "      <td>WYOMING</td>\n",
       "      <td>Weston</td>\n",
       "      <td>NaN</td>\n",
       "      <td>NaN</td>\n",
       "      <td>NaN</td>\n",
       "      <td>NaN</td>\n",
       "      <td>NaN</td>\n",
       "      <td>NaN</td>\n",
       "      <td>NaN</td>\n",
       "      <td>NaN</td>\n",
       "      <td>NaN</td>\n",
       "      <td>NaN</td>\n",
       "      <td>NaN</td>\n",
       "      <td>NaN</td>\n",
       "      <td>NaN</td>\n",
       "      <td>NaN</td>\n",
       "      <td>NaN</td>\n",
       "      <td>NaN</td>\n",
       "    </tr>\n",
       "  </tbody>\n",
       "</table>\n",
       "<p>3141 rows × 18 columns</p>\n",
       "</div>"
      ],
      "text/plain": [
       "        state      county  area_sqmi   epl_pov  epl_unemp   epl_pci  \\\n",
       "0     ALABAMA     Autauga  -0.146226  0.147034  -0.758697 -0.741168   \n",
       "1     ALABAMA     Baldwin   0.129237 -0.946418  -0.628783 -1.019243   \n",
       "2     ALABAMA     Barbour  -0.065814  1.609811   1.477477  1.551660   \n",
       "3     ALABAMA        Bibb  -0.138472 -0.188748   1.020706  1.380590   \n",
       "4     ALABAMA      Blount  -0.132282 -0.087425  -0.804996  0.886771   \n",
       "...       ...         ...        ...       ...        ...       ...   \n",
       "3137  WYOMING  Sweetwater   0.795391 -1.540174  -1.615920 -1.713914   \n",
       "3138  WYOMING       Teton   0.265379 -0.534558   0.377011 -0.192981   \n",
       "3139  WYOMING       Uinta   0.308815 -0.558765   0.437476 -0.334269   \n",
       "3140  WYOMING    Washakie   0.352910  0.611803  -1.077607 -0.703768   \n",
       "3141  WYOMING      Weston        NaN       NaN        NaN       NaN   \n",
       "\n",
       "      epl_nohsdp  epl_age65  epl_age17  epl_disabl  epl_sngpnt  epl_minrty  \\\n",
       "0      -0.199502  -1.078248   0.892276    1.016059   -0.397494    0.466278   \n",
       "1      -0.609932   0.505686  -0.218058   -0.498723   -1.227960    0.059334   \n",
       "2       1.632922  -0.025406  -0.563003    1.416797    1.565740    1.374474   \n",
       "3       0.821045  -0.611164  -0.729588    0.382969   -1.119007    0.484932   \n",
       "4       1.185181  -0.086991   0.503348   -0.416086   -0.684924   -0.269538   \n",
       "...          ...        ...        ...         ...         ...         ...   \n",
       "3137   -1.529254  -1.256777  -1.193670   -1.696442   -0.942607    0.142933   \n",
       "3138   -1.253215  -1.484784   1.638964    0.526115   -0.787305   -0.293720   \n",
       "3139   -0.408517   0.835067   0.751320   -0.179239   -0.684924    0.118752   \n",
       "3140   -1.086003   0.294288  -0.531140   -0.340018   -0.684924   -0.653336   \n",
       "3141         NaN        NaN        NaN         NaN         NaN         NaN   \n",
       "\n",
       "      epl_limeng  epl_munit  epl_mobile  epl_crowd  epl_noveh  epl_groupq  \n",
       "0       0.104862   0.367873    0.838905  -0.655436  -0.033367   -1.149022  \n",
       "1      -0.401806   1.633605    0.123762  -0.778635  -1.247522   -0.640892  \n",
       "2       0.746553  -0.865325    1.485956   1.135743   1.291572    1.547842  \n",
       "3      -0.835999  -0.214309    1.460724  -1.334058   0.171983    1.467862  \n",
       "4       0.785604  -1.174909    1.325576  -0.402536  -0.870644   -1.271545  \n",
       "...          ...        ...         ...        ...        ...         ...  \n",
       "3137    1.391223   1.084299   -1.223224   1.645650  -1.532251    0.905278  \n",
       "3138   -0.051011   0.859645    1.325576   0.810976  -1.025606   -0.789281  \n",
       "3139   -0.835999  -1.022172    0.139316  -0.144502  -0.423705    0.031962  \n",
       "3140    0.230288  -0.125954    1.228449   0.400312  -1.488420    1.099272  \n",
       "3141         NaN        NaN         NaN        NaN        NaN         NaN  \n",
       "\n",
       "[3141 rows x 18 columns]"
      ]
     },
     "metadata": {},
     "output_type": "display_data"
    },
    {
     "data": {
      "application/javascript": [
       "\n",
       "            setTimeout(function() {\n",
       "                var nbb_cell_id = 137;\n",
       "                var nbb_unformatted_code = \"### Standardize Data\\nX_numerical = data.iloc[:, 2:18]\\nlist_numerical = X_numerical.columns\\n\\n# Standardize the features\\nscalar = StandardScaler()\\ndf = data\\ndf[list_numerical] = pd.DataFrame(\\n    scalar.fit_transform(df[list_numerical])\\n)  # scaling the data\\ndf = df.iloc[:, :18].copy()\\ndisplay(df)\";\n",
       "                var nbb_formatted_code = \"### Standardize Data\\nX_numerical = data.iloc[:, 2:18]\\nlist_numerical = X_numerical.columns\\n\\n# Standardize the features\\nscalar = StandardScaler()\\ndf = data\\ndf[list_numerical] = pd.DataFrame(\\n    scalar.fit_transform(df[list_numerical])\\n)  # scaling the data\\ndf = df.iloc[:, :18].copy()\\ndisplay(df)\";\n",
       "                var nbb_cells = Jupyter.notebook.get_cells();\n",
       "                for (var i = 0; i < nbb_cells.length; ++i) {\n",
       "                    if (nbb_cells[i].input_prompt_number == nbb_cell_id) {\n",
       "                        if (nbb_cells[i].get_text() == nbb_unformatted_code) {\n",
       "                             nbb_cells[i].set_text(nbb_formatted_code);\n",
       "                        }\n",
       "                        break;\n",
       "                    }\n",
       "                }\n",
       "            }, 500);\n",
       "            "
      ],
      "text/plain": [
       "<IPython.core.display.Javascript object>"
      ]
     },
     "metadata": {},
     "output_type": "display_data"
    }
   ],
   "source": [
    "### Standardize Data\n",
    "X_numerical = data.iloc[:, 2:18]\n",
    "list_numerical = X_numerical.columns\n",
    "\n",
    "# Standardize the features\n",
    "scalar = StandardScaler()\n",
    "df = data\n",
    "df[list_numerical] = pd.DataFrame(\n",
    "    scalar.fit_transform(df[list_numerical])\n",
    ")  # scaling the data\n",
    "df = df.iloc[:, :18].copy()\n",
    "display(df)"
   ]
  },
  {
   "cell_type": "code",
   "execution_count": 138,
   "id": "171293fd",
   "metadata": {},
   "outputs": [
    {
     "data": {
      "text/html": [
       "<div>\n",
       "<style scoped>\n",
       "    .dataframe tbody tr th:only-of-type {\n",
       "        vertical-align: middle;\n",
       "    }\n",
       "\n",
       "    .dataframe tbody tr th {\n",
       "        vertical-align: top;\n",
       "    }\n",
       "\n",
       "    .dataframe thead th {\n",
       "        text-align: right;\n",
       "    }\n",
       "</style>\n",
       "<table border=\"1\" class=\"dataframe\">\n",
       "  <thead>\n",
       "    <tr style=\"text-align: right;\">\n",
       "      <th></th>\n",
       "      <th>state</th>\n",
       "      <th>county</th>\n",
       "      <th>area_sqmi</th>\n",
       "      <th>epl_pov</th>\n",
       "      <th>epl_unemp</th>\n",
       "      <th>epl_pci</th>\n",
       "      <th>epl_nohsdp</th>\n",
       "      <th>epl_age65</th>\n",
       "      <th>epl_age17</th>\n",
       "      <th>epl_disabl</th>\n",
       "      <th>epl_sngpnt</th>\n",
       "      <th>epl_minrty</th>\n",
       "      <th>epl_limeng</th>\n",
       "      <th>epl_munit</th>\n",
       "      <th>epl_mobile</th>\n",
       "      <th>epl_crowd</th>\n",
       "      <th>epl_noveh</th>\n",
       "      <th>epl_groupq</th>\n",
       "    </tr>\n",
       "  </thead>\n",
       "  <tbody>\n",
       "    <tr>\n",
       "      <th>0</th>\n",
       "      <td>ALABAMA</td>\n",
       "      <td>Autauga</td>\n",
       "      <td>-0.146226</td>\n",
       "      <td>0.147034</td>\n",
       "      <td>-0.758697</td>\n",
       "      <td>-0.741168</td>\n",
       "      <td>-0.199502</td>\n",
       "      <td>-1.078248</td>\n",
       "      <td>0.892276</td>\n",
       "      <td>1.016059</td>\n",
       "      <td>-0.397494</td>\n",
       "      <td>0.466278</td>\n",
       "      <td>0.104862</td>\n",
       "      <td>0.367873</td>\n",
       "      <td>0.838905</td>\n",
       "      <td>-0.655436</td>\n",
       "      <td>-0.033367</td>\n",
       "      <td>-1.149022</td>\n",
       "    </tr>\n",
       "    <tr>\n",
       "      <th>1</th>\n",
       "      <td>ALABAMA</td>\n",
       "      <td>Baldwin</td>\n",
       "      <td>0.129237</td>\n",
       "      <td>-0.946418</td>\n",
       "      <td>-0.628783</td>\n",
       "      <td>-1.019243</td>\n",
       "      <td>-0.609932</td>\n",
       "      <td>0.505686</td>\n",
       "      <td>-0.218058</td>\n",
       "      <td>-0.498723</td>\n",
       "      <td>-1.227960</td>\n",
       "      <td>0.059334</td>\n",
       "      <td>-0.401806</td>\n",
       "      <td>1.633605</td>\n",
       "      <td>0.123762</td>\n",
       "      <td>-0.778635</td>\n",
       "      <td>-1.247522</td>\n",
       "      <td>-0.640892</td>\n",
       "    </tr>\n",
       "    <tr>\n",
       "      <th>2</th>\n",
       "      <td>ALABAMA</td>\n",
       "      <td>Barbour</td>\n",
       "      <td>-0.065814</td>\n",
       "      <td>1.609811</td>\n",
       "      <td>1.477477</td>\n",
       "      <td>1.551660</td>\n",
       "      <td>1.632922</td>\n",
       "      <td>-0.025406</td>\n",
       "      <td>-0.563003</td>\n",
       "      <td>1.416797</td>\n",
       "      <td>1.565740</td>\n",
       "      <td>1.374474</td>\n",
       "      <td>0.746553</td>\n",
       "      <td>-0.865325</td>\n",
       "      <td>1.485956</td>\n",
       "      <td>1.135743</td>\n",
       "      <td>1.291572</td>\n",
       "      <td>1.547842</td>\n",
       "    </tr>\n",
       "    <tr>\n",
       "      <th>3</th>\n",
       "      <td>ALABAMA</td>\n",
       "      <td>Bibb</td>\n",
       "      <td>-0.138472</td>\n",
       "      <td>-0.188748</td>\n",
       "      <td>1.020706</td>\n",
       "      <td>1.380590</td>\n",
       "      <td>0.821045</td>\n",
       "      <td>-0.611164</td>\n",
       "      <td>-0.729588</td>\n",
       "      <td>0.382969</td>\n",
       "      <td>-1.119007</td>\n",
       "      <td>0.484932</td>\n",
       "      <td>-0.835999</td>\n",
       "      <td>-0.214309</td>\n",
       "      <td>1.460724</td>\n",
       "      <td>-1.334058</td>\n",
       "      <td>0.171983</td>\n",
       "      <td>1.467862</td>\n",
       "    </tr>\n",
       "    <tr>\n",
       "      <th>4</th>\n",
       "      <td>ALABAMA</td>\n",
       "      <td>Blount</td>\n",
       "      <td>-0.132282</td>\n",
       "      <td>-0.087425</td>\n",
       "      <td>-0.804996</td>\n",
       "      <td>0.886771</td>\n",
       "      <td>1.185181</td>\n",
       "      <td>-0.086991</td>\n",
       "      <td>0.503348</td>\n",
       "      <td>-0.416086</td>\n",
       "      <td>-0.684924</td>\n",
       "      <td>-0.269538</td>\n",
       "      <td>0.785604</td>\n",
       "      <td>-1.174909</td>\n",
       "      <td>1.325576</td>\n",
       "      <td>-0.402536</td>\n",
       "      <td>-0.870644</td>\n",
       "      <td>-1.271545</td>\n",
       "    </tr>\n",
       "    <tr>\n",
       "      <th>...</th>\n",
       "      <td>...</td>\n",
       "      <td>...</td>\n",
       "      <td>...</td>\n",
       "      <td>...</td>\n",
       "      <td>...</td>\n",
       "      <td>...</td>\n",
       "      <td>...</td>\n",
       "      <td>...</td>\n",
       "      <td>...</td>\n",
       "      <td>...</td>\n",
       "      <td>...</td>\n",
       "      <td>...</td>\n",
       "      <td>...</td>\n",
       "      <td>...</td>\n",
       "      <td>...</td>\n",
       "      <td>...</td>\n",
       "      <td>...</td>\n",
       "      <td>...</td>\n",
       "    </tr>\n",
       "    <tr>\n",
       "      <th>3136</th>\n",
       "      <td>WYOMING</td>\n",
       "      <td>Sublette</td>\n",
       "      <td>2.574934</td>\n",
       "      <td>-0.639338</td>\n",
       "      <td>-0.155773</td>\n",
       "      <td>-1.213169</td>\n",
       "      <td>-0.796837</td>\n",
       "      <td>-1.616951</td>\n",
       "      <td>1.453678</td>\n",
       "      <td>-1.011488</td>\n",
       "      <td>0.946954</td>\n",
       "      <td>0.239660</td>\n",
       "      <td>0.746553</td>\n",
       "      <td>0.809646</td>\n",
       "      <td>1.149296</td>\n",
       "      <td>-0.021303</td>\n",
       "      <td>-1.532251</td>\n",
       "      <td>-0.789281</td>\n",
       "    </tr>\n",
       "    <tr>\n",
       "      <th>3137</th>\n",
       "      <td>WYOMING</td>\n",
       "      <td>Sweetwater</td>\n",
       "      <td>0.795391</td>\n",
       "      <td>-1.540174</td>\n",
       "      <td>-1.615920</td>\n",
       "      <td>-1.713914</td>\n",
       "      <td>-1.529254</td>\n",
       "      <td>-1.256777</td>\n",
       "      <td>-1.193670</td>\n",
       "      <td>-1.696442</td>\n",
       "      <td>-0.942607</td>\n",
       "      <td>0.142933</td>\n",
       "      <td>1.391223</td>\n",
       "      <td>1.084299</td>\n",
       "      <td>-1.223224</td>\n",
       "      <td>1.645650</td>\n",
       "      <td>-1.532251</td>\n",
       "      <td>0.905278</td>\n",
       "    </tr>\n",
       "    <tr>\n",
       "      <th>3138</th>\n",
       "      <td>WYOMING</td>\n",
       "      <td>Teton</td>\n",
       "      <td>0.265379</td>\n",
       "      <td>-0.534558</td>\n",
       "      <td>0.377011</td>\n",
       "      <td>-0.192981</td>\n",
       "      <td>-1.253215</td>\n",
       "      <td>-1.484784</td>\n",
       "      <td>1.638964</td>\n",
       "      <td>0.526115</td>\n",
       "      <td>-0.787305</td>\n",
       "      <td>-0.293720</td>\n",
       "      <td>-0.051011</td>\n",
       "      <td>0.859645</td>\n",
       "      <td>1.325576</td>\n",
       "      <td>0.810976</td>\n",
       "      <td>-1.025606</td>\n",
       "      <td>-0.789281</td>\n",
       "    </tr>\n",
       "    <tr>\n",
       "      <th>3139</th>\n",
       "      <td>WYOMING</td>\n",
       "      <td>Uinta</td>\n",
       "      <td>0.308815</td>\n",
       "      <td>-0.558765</td>\n",
       "      <td>0.437476</td>\n",
       "      <td>-0.334269</td>\n",
       "      <td>-0.408517</td>\n",
       "      <td>0.835067</td>\n",
       "      <td>0.751320</td>\n",
       "      <td>-0.179239</td>\n",
       "      <td>-0.684924</td>\n",
       "      <td>0.118752</td>\n",
       "      <td>-0.835999</td>\n",
       "      <td>-1.022172</td>\n",
       "      <td>0.139316</td>\n",
       "      <td>-0.144502</td>\n",
       "      <td>-0.423705</td>\n",
       "      <td>0.031962</td>\n",
       "    </tr>\n",
       "    <tr>\n",
       "      <th>3140</th>\n",
       "      <td>WYOMING</td>\n",
       "      <td>Washakie</td>\n",
       "      <td>0.352910</td>\n",
       "      <td>0.611803</td>\n",
       "      <td>-1.077607</td>\n",
       "      <td>-0.703768</td>\n",
       "      <td>-1.086003</td>\n",
       "      <td>0.294288</td>\n",
       "      <td>-0.531140</td>\n",
       "      <td>-0.340018</td>\n",
       "      <td>-0.684924</td>\n",
       "      <td>-0.653336</td>\n",
       "      <td>0.230288</td>\n",
       "      <td>-0.125954</td>\n",
       "      <td>1.228449</td>\n",
       "      <td>0.400312</td>\n",
       "      <td>-1.488420</td>\n",
       "      <td>1.099272</td>\n",
       "    </tr>\n",
       "  </tbody>\n",
       "</table>\n",
       "<p>3140 rows × 18 columns</p>\n",
       "</div>"
      ],
      "text/plain": [
       "        state      county  area_sqmi   epl_pov  epl_unemp   epl_pci  \\\n",
       "0     ALABAMA     Autauga  -0.146226  0.147034  -0.758697 -0.741168   \n",
       "1     ALABAMA     Baldwin   0.129237 -0.946418  -0.628783 -1.019243   \n",
       "2     ALABAMA     Barbour  -0.065814  1.609811   1.477477  1.551660   \n",
       "3     ALABAMA        Bibb  -0.138472 -0.188748   1.020706  1.380590   \n",
       "4     ALABAMA      Blount  -0.132282 -0.087425  -0.804996  0.886771   \n",
       "...       ...         ...        ...       ...        ...       ...   \n",
       "3136  WYOMING    Sublette   2.574934 -0.639338  -0.155773 -1.213169   \n",
       "3137  WYOMING  Sweetwater   0.795391 -1.540174  -1.615920 -1.713914   \n",
       "3138  WYOMING       Teton   0.265379 -0.534558   0.377011 -0.192981   \n",
       "3139  WYOMING       Uinta   0.308815 -0.558765   0.437476 -0.334269   \n",
       "3140  WYOMING    Washakie   0.352910  0.611803  -1.077607 -0.703768   \n",
       "\n",
       "      epl_nohsdp  epl_age65  epl_age17  epl_disabl  epl_sngpnt  epl_minrty  \\\n",
       "0      -0.199502  -1.078248   0.892276    1.016059   -0.397494    0.466278   \n",
       "1      -0.609932   0.505686  -0.218058   -0.498723   -1.227960    0.059334   \n",
       "2       1.632922  -0.025406  -0.563003    1.416797    1.565740    1.374474   \n",
       "3       0.821045  -0.611164  -0.729588    0.382969   -1.119007    0.484932   \n",
       "4       1.185181  -0.086991   0.503348   -0.416086   -0.684924   -0.269538   \n",
       "...          ...        ...        ...         ...         ...         ...   \n",
       "3136   -0.796837  -1.616951   1.453678   -1.011488    0.946954    0.239660   \n",
       "3137   -1.529254  -1.256777  -1.193670   -1.696442   -0.942607    0.142933   \n",
       "3138   -1.253215  -1.484784   1.638964    0.526115   -0.787305   -0.293720   \n",
       "3139   -0.408517   0.835067   0.751320   -0.179239   -0.684924    0.118752   \n",
       "3140   -1.086003   0.294288  -0.531140   -0.340018   -0.684924   -0.653336   \n",
       "\n",
       "      epl_limeng  epl_munit  epl_mobile  epl_crowd  epl_noveh  epl_groupq  \n",
       "0       0.104862   0.367873    0.838905  -0.655436  -0.033367   -1.149022  \n",
       "1      -0.401806   1.633605    0.123762  -0.778635  -1.247522   -0.640892  \n",
       "2       0.746553  -0.865325    1.485956   1.135743   1.291572    1.547842  \n",
       "3      -0.835999  -0.214309    1.460724  -1.334058   0.171983    1.467862  \n",
       "4       0.785604  -1.174909    1.325576  -0.402536  -0.870644   -1.271545  \n",
       "...          ...        ...         ...        ...        ...         ...  \n",
       "3136    0.746553   0.809646    1.149296  -0.021303  -1.532251   -0.789281  \n",
       "3137    1.391223   1.084299   -1.223224   1.645650  -1.532251    0.905278  \n",
       "3138   -0.051011   0.859645    1.325576   0.810976  -1.025606   -0.789281  \n",
       "3139   -0.835999  -1.022172    0.139316  -0.144502  -0.423705    0.031962  \n",
       "3140    0.230288  -0.125954    1.228449   0.400312  -1.488420    1.099272  \n",
       "\n",
       "[3140 rows x 18 columns]"
      ]
     },
     "execution_count": 138,
     "metadata": {},
     "output_type": "execute_result"
    },
    {
     "data": {
      "application/javascript": [
       "\n",
       "            setTimeout(function() {\n",
       "                var nbb_cell_id = 138;\n",
       "                var nbb_unformatted_code = \"df = df.dropna()\\ndf\";\n",
       "                var nbb_formatted_code = \"df = df.dropna()\\ndf\";\n",
       "                var nbb_cells = Jupyter.notebook.get_cells();\n",
       "                for (var i = 0; i < nbb_cells.length; ++i) {\n",
       "                    if (nbb_cells[i].input_prompt_number == nbb_cell_id) {\n",
       "                        if (nbb_cells[i].get_text() == nbb_unformatted_code) {\n",
       "                             nbb_cells[i].set_text(nbb_formatted_code);\n",
       "                        }\n",
       "                        break;\n",
       "                    }\n",
       "                }\n",
       "            }, 500);\n",
       "            "
      ],
      "text/plain": [
       "<IPython.core.display.Javascript object>"
      ]
     },
     "metadata": {},
     "output_type": "display_data"
    }
   ],
   "source": [
    "df = df.dropna()\n",
    "df"
   ]
  },
  {
   "cell_type": "markdown",
   "id": "4cf5f4dc",
   "metadata": {},
   "source": [
    "## Bartlett's Test of Sphericity\n",
    "\n",
    "One aspect of the data that we need to check is whether or not the data is suitable for a technique like factor analysis or principal component analysis. Thus we perform Bartlett's Test of Sphericity. This test will compare the correlation matrix of our data to an identity matrix. If our variables are orthogonal to each other, uncorrelated, then factor analysis and pca are techniques that will be of no benefit to this data, since the data can not be reduced further. \n",
    "\n",
    "Our null hypthosis is that these variables are orthogonal, while the alternative is that the variables are not orthogonal. If our p-value is greater than a chosen $\\alpha$, in this 0.05, we can reject the null and conclude that dimension reduction techniques are an effective method for the data. "
   ]
  },
  {
   "cell_type": "code",
   "execution_count": 139,
   "id": "6fb04b0f",
   "metadata": {},
   "outputs": [
    {
     "name": "stdout",
     "output_type": "stream",
     "text": [
      "Our chi squared statistic is  27691.20801158174\n",
      "Our p-value from our chi statistic is  0.0\n"
     ]
    },
    {
     "data": {
      "application/javascript": [
       "\n",
       "            setTimeout(function() {\n",
       "                var nbb_cell_id = 139;\n",
       "                var nbb_unformatted_code = \"chi2, p = calculate_bartlett_sphericity(df.iloc[:, 2:])\\nprint(\\\"Our chi squared statistic is \\\", chi2)\\nprint(\\\"Our p-value from our chi statistic is \\\", p)\";\n",
       "                var nbb_formatted_code = \"chi2, p = calculate_bartlett_sphericity(df.iloc[:, 2:])\\nprint(\\\"Our chi squared statistic is \\\", chi2)\\nprint(\\\"Our p-value from our chi statistic is \\\", p)\";\n",
       "                var nbb_cells = Jupyter.notebook.get_cells();\n",
       "                for (var i = 0; i < nbb_cells.length; ++i) {\n",
       "                    if (nbb_cells[i].input_prompt_number == nbb_cell_id) {\n",
       "                        if (nbb_cells[i].get_text() == nbb_unformatted_code) {\n",
       "                             nbb_cells[i].set_text(nbb_formatted_code);\n",
       "                        }\n",
       "                        break;\n",
       "                    }\n",
       "                }\n",
       "            }, 500);\n",
       "            "
      ],
      "text/plain": [
       "<IPython.core.display.Javascript object>"
      ]
     },
     "metadata": {},
     "output_type": "display_data"
    }
   ],
   "source": [
    "chi2, p = calculate_bartlett_sphericity(df.iloc[:, 2:])\n",
    "print(\"Our chi squared statistic is \", chi2)\n",
    "print(\"Our p-value from our chi statistic is \", p)"
   ]
  },
  {
   "cell_type": "markdown",
   "id": "2ced8584",
   "metadata": {},
   "source": [
    "Since our p-value is far below $\\alpha = 0.05$, we can conclude that this data is suitable for factor analysis. "
   ]
  },
  {
   "cell_type": "markdown",
   "id": "6f3bd448",
   "metadata": {},
   "source": [
    "## Factor Analysis"
   ]
  },
  {
   "cell_type": "code",
   "execution_count": 140,
   "id": "780caf1e",
   "metadata": {},
   "outputs": [
    {
     "data": {
      "application/javascript": [
       "\n",
       "            setTimeout(function() {\n",
       "                var nbb_cell_id = 140;\n",
       "                var nbb_unformatted_code = \"# fa = FA.FactorAnalyzer(rotation = None,impute = \\\"drop\\\",n_factors=data.shape[1])\\n# fa.fit(data.iloc[:,2:])\\n# ev,_ = fa.get_eigenvalues()\\n# print(ev.shape)\\n\\n# px.line(x = range(1,data.shape[1]-1), y = ev, labels = {'x': \\\"Factors\\\", \\\"y\\\": 'Eigenvalues'}, title = \\\"Scree Plot for Factor Analysis\\\", color_discrete_sequence = ['#e377c2'], markers = True)\";\n",
       "                var nbb_formatted_code = \"# fa = FA.FactorAnalyzer(rotation = None,impute = \\\"drop\\\",n_factors=data.shape[1])\\n# fa.fit(data.iloc[:,2:])\\n# ev,_ = fa.get_eigenvalues()\\n# print(ev.shape)\\n\\n# px.line(x = range(1,data.shape[1]-1), y = ev, labels = {'x': \\\"Factors\\\", \\\"y\\\": 'Eigenvalues'}, title = \\\"Scree Plot for Factor Analysis\\\", color_discrete_sequence = ['#e377c2'], markers = True)\";\n",
       "                var nbb_cells = Jupyter.notebook.get_cells();\n",
       "                for (var i = 0; i < nbb_cells.length; ++i) {\n",
       "                    if (nbb_cells[i].input_prompt_number == nbb_cell_id) {\n",
       "                        if (nbb_cells[i].get_text() == nbb_unformatted_code) {\n",
       "                             nbb_cells[i].set_text(nbb_formatted_code);\n",
       "                        }\n",
       "                        break;\n",
       "                    }\n",
       "                }\n",
       "            }, 500);\n",
       "            "
      ],
      "text/plain": [
       "<IPython.core.display.Javascript object>"
      ]
     },
     "metadata": {},
     "output_type": "display_data"
    }
   ],
   "source": [
    "# fa = FA.FactorAnalyzer(rotation = None,impute = \"drop\",n_factors=data.shape[1])\n",
    "# fa.fit(data.iloc[:,2:])\n",
    "# ev,_ = fa.get_eigenvalues()\n",
    "# print(ev.shape)\n",
    "\n",
    "# px.line(x = range(1,data.shape[1]-1), y = ev, labels = {'x': \"Factors\", \"y\": 'Eigenvalues'}, title = \"Scree Plot for Factor Analysis\", color_discrete_sequence = ['#e377c2'], markers = True)"
   ]
  },
  {
   "cell_type": "code",
   "execution_count": 141,
   "id": "fbbe74a9",
   "metadata": {},
   "outputs": [
    {
     "data": {
      "application/javascript": [
       "\n",
       "            setTimeout(function() {\n",
       "                var nbb_cell_id = 141;\n",
       "                var nbb_unformatted_code = \"FA_vars = df.iloc[:, 2:].columns\\n\\nnewFA = sm.multivariate.Factor(df.iloc[:, 2:])\\nmodel = newFA.fit()\\n# display(model.summary())\\nnewev = model.eigenvals\";\n",
       "                var nbb_formatted_code = \"FA_vars = df.iloc[:, 2:].columns\\n\\nnewFA = sm.multivariate.Factor(df.iloc[:, 2:])\\nmodel = newFA.fit()\\n# display(model.summary())\\nnewev = model.eigenvals\";\n",
       "                var nbb_cells = Jupyter.notebook.get_cells();\n",
       "                for (var i = 0; i < nbb_cells.length; ++i) {\n",
       "                    if (nbb_cells[i].input_prompt_number == nbb_cell_id) {\n",
       "                        if (nbb_cells[i].get_text() == nbb_unformatted_code) {\n",
       "                             nbb_cells[i].set_text(nbb_formatted_code);\n",
       "                        }\n",
       "                        break;\n",
       "                    }\n",
       "                }\n",
       "            }, 500);\n",
       "            "
      ],
      "text/plain": [
       "<IPython.core.display.Javascript object>"
      ]
     },
     "metadata": {},
     "output_type": "display_data"
    }
   ],
   "source": [
    "FA_vars = df.iloc[:, 2:].columns\n",
    "\n",
    "newFA = sm.multivariate.Factor(df.iloc[:, 2:])\n",
    "model = newFA.fit()\n",
    "# display(model.summary())\n",
    "newev = model.eigenvals"
   ]
  },
  {
   "cell_type": "code",
   "execution_count": 142,
   "id": "f51ca17d",
   "metadata": {},
   "outputs": [
    {
     "data": {
      "application/vnd.plotly.v1+json": {
       "config": {
        "plotlyServerURL": "https://plot.ly"
       },
       "data": [
        {
         "hovertemplate": "Factors=%{x}<br>Eigenvalues=%{y}<extra></extra>",
         "legendgroup": "",
         "line": {
          "color": "#e377c2",
          "dash": "solid"
         },
         "marker": {
          "symbol": "circle"
         },
         "mode": "markers+lines",
         "name": "",
         "orientation": "v",
         "showlegend": false,
         "type": "scatter",
         "x": [
          1,
          2,
          3,
          4,
          5,
          6,
          7,
          8,
          9,
          10,
          11,
          12,
          13,
          14,
          15,
          16
         ],
         "xaxis": "x",
         "y": [
          4.360750444314037,
          2.469592038735187,
          0.8857093685749514,
          0.17592205890837442,
          0.11378815510544793,
          0.05200625923620829,
          -0.052957220896033094,
          -0.12415249980915521,
          -0.21512819882616122,
          -0.25955865431125447,
          -0.34011587116458636,
          -0.37890197132785863,
          -0.46627595981146175,
          -0.526273367467087,
          -0.6101436949293265,
          -0.7235104430902773
         ],
         "yaxis": "y"
        }
       ],
       "layout": {
        "legend": {
         "tracegroupgap": 0
        },
        "template": {
         "data": {
          "bar": [
           {
            "error_x": {
             "color": "#2a3f5f"
            },
            "error_y": {
             "color": "#2a3f5f"
            },
            "marker": {
             "line": {
              "color": "#E5ECF6",
              "width": 0.5
             },
             "pattern": {
              "fillmode": "overlay",
              "size": 10,
              "solidity": 0.2
             }
            },
            "type": "bar"
           }
          ],
          "barpolar": [
           {
            "marker": {
             "line": {
              "color": "#E5ECF6",
              "width": 0.5
             },
             "pattern": {
              "fillmode": "overlay",
              "size": 10,
              "solidity": 0.2
             }
            },
            "type": "barpolar"
           }
          ],
          "carpet": [
           {
            "aaxis": {
             "endlinecolor": "#2a3f5f",
             "gridcolor": "white",
             "linecolor": "white",
             "minorgridcolor": "white",
             "startlinecolor": "#2a3f5f"
            },
            "baxis": {
             "endlinecolor": "#2a3f5f",
             "gridcolor": "white",
             "linecolor": "white",
             "minorgridcolor": "white",
             "startlinecolor": "#2a3f5f"
            },
            "type": "carpet"
           }
          ],
          "choropleth": [
           {
            "colorbar": {
             "outlinewidth": 0,
             "ticks": ""
            },
            "type": "choropleth"
           }
          ],
          "contour": [
           {
            "colorbar": {
             "outlinewidth": 0,
             "ticks": ""
            },
            "colorscale": [
             [
              0,
              "#0d0887"
             ],
             [
              0.1111111111111111,
              "#46039f"
             ],
             [
              0.2222222222222222,
              "#7201a8"
             ],
             [
              0.3333333333333333,
              "#9c179e"
             ],
             [
              0.4444444444444444,
              "#bd3786"
             ],
             [
              0.5555555555555556,
              "#d8576b"
             ],
             [
              0.6666666666666666,
              "#ed7953"
             ],
             [
              0.7777777777777778,
              "#fb9f3a"
             ],
             [
              0.8888888888888888,
              "#fdca26"
             ],
             [
              1,
              "#f0f921"
             ]
            ],
            "type": "contour"
           }
          ],
          "contourcarpet": [
           {
            "colorbar": {
             "outlinewidth": 0,
             "ticks": ""
            },
            "type": "contourcarpet"
           }
          ],
          "heatmap": [
           {
            "colorbar": {
             "outlinewidth": 0,
             "ticks": ""
            },
            "colorscale": [
             [
              0,
              "#0d0887"
             ],
             [
              0.1111111111111111,
              "#46039f"
             ],
             [
              0.2222222222222222,
              "#7201a8"
             ],
             [
              0.3333333333333333,
              "#9c179e"
             ],
             [
              0.4444444444444444,
              "#bd3786"
             ],
             [
              0.5555555555555556,
              "#d8576b"
             ],
             [
              0.6666666666666666,
              "#ed7953"
             ],
             [
              0.7777777777777778,
              "#fb9f3a"
             ],
             [
              0.8888888888888888,
              "#fdca26"
             ],
             [
              1,
              "#f0f921"
             ]
            ],
            "type": "heatmap"
           }
          ],
          "heatmapgl": [
           {
            "colorbar": {
             "outlinewidth": 0,
             "ticks": ""
            },
            "colorscale": [
             [
              0,
              "#0d0887"
             ],
             [
              0.1111111111111111,
              "#46039f"
             ],
             [
              0.2222222222222222,
              "#7201a8"
             ],
             [
              0.3333333333333333,
              "#9c179e"
             ],
             [
              0.4444444444444444,
              "#bd3786"
             ],
             [
              0.5555555555555556,
              "#d8576b"
             ],
             [
              0.6666666666666666,
              "#ed7953"
             ],
             [
              0.7777777777777778,
              "#fb9f3a"
             ],
             [
              0.8888888888888888,
              "#fdca26"
             ],
             [
              1,
              "#f0f921"
             ]
            ],
            "type": "heatmapgl"
           }
          ],
          "histogram": [
           {
            "marker": {
             "pattern": {
              "fillmode": "overlay",
              "size": 10,
              "solidity": 0.2
             }
            },
            "type": "histogram"
           }
          ],
          "histogram2d": [
           {
            "colorbar": {
             "outlinewidth": 0,
             "ticks": ""
            },
            "colorscale": [
             [
              0,
              "#0d0887"
             ],
             [
              0.1111111111111111,
              "#46039f"
             ],
             [
              0.2222222222222222,
              "#7201a8"
             ],
             [
              0.3333333333333333,
              "#9c179e"
             ],
             [
              0.4444444444444444,
              "#bd3786"
             ],
             [
              0.5555555555555556,
              "#d8576b"
             ],
             [
              0.6666666666666666,
              "#ed7953"
             ],
             [
              0.7777777777777778,
              "#fb9f3a"
             ],
             [
              0.8888888888888888,
              "#fdca26"
             ],
             [
              1,
              "#f0f921"
             ]
            ],
            "type": "histogram2d"
           }
          ],
          "histogram2dcontour": [
           {
            "colorbar": {
             "outlinewidth": 0,
             "ticks": ""
            },
            "colorscale": [
             [
              0,
              "#0d0887"
             ],
             [
              0.1111111111111111,
              "#46039f"
             ],
             [
              0.2222222222222222,
              "#7201a8"
             ],
             [
              0.3333333333333333,
              "#9c179e"
             ],
             [
              0.4444444444444444,
              "#bd3786"
             ],
             [
              0.5555555555555556,
              "#d8576b"
             ],
             [
              0.6666666666666666,
              "#ed7953"
             ],
             [
              0.7777777777777778,
              "#fb9f3a"
             ],
             [
              0.8888888888888888,
              "#fdca26"
             ],
             [
              1,
              "#f0f921"
             ]
            ],
            "type": "histogram2dcontour"
           }
          ],
          "mesh3d": [
           {
            "colorbar": {
             "outlinewidth": 0,
             "ticks": ""
            },
            "type": "mesh3d"
           }
          ],
          "parcoords": [
           {
            "line": {
             "colorbar": {
              "outlinewidth": 0,
              "ticks": ""
             }
            },
            "type": "parcoords"
           }
          ],
          "pie": [
           {
            "automargin": true,
            "type": "pie"
           }
          ],
          "scatter": [
           {
            "marker": {
             "colorbar": {
              "outlinewidth": 0,
              "ticks": ""
             }
            },
            "type": "scatter"
           }
          ],
          "scatter3d": [
           {
            "line": {
             "colorbar": {
              "outlinewidth": 0,
              "ticks": ""
             }
            },
            "marker": {
             "colorbar": {
              "outlinewidth": 0,
              "ticks": ""
             }
            },
            "type": "scatter3d"
           }
          ],
          "scattercarpet": [
           {
            "marker": {
             "colorbar": {
              "outlinewidth": 0,
              "ticks": ""
             }
            },
            "type": "scattercarpet"
           }
          ],
          "scattergeo": [
           {
            "marker": {
             "colorbar": {
              "outlinewidth": 0,
              "ticks": ""
             }
            },
            "type": "scattergeo"
           }
          ],
          "scattergl": [
           {
            "marker": {
             "colorbar": {
              "outlinewidth": 0,
              "ticks": ""
             }
            },
            "type": "scattergl"
           }
          ],
          "scattermapbox": [
           {
            "marker": {
             "colorbar": {
              "outlinewidth": 0,
              "ticks": ""
             }
            },
            "type": "scattermapbox"
           }
          ],
          "scatterpolar": [
           {
            "marker": {
             "colorbar": {
              "outlinewidth": 0,
              "ticks": ""
             }
            },
            "type": "scatterpolar"
           }
          ],
          "scatterpolargl": [
           {
            "marker": {
             "colorbar": {
              "outlinewidth": 0,
              "ticks": ""
             }
            },
            "type": "scatterpolargl"
           }
          ],
          "scatterternary": [
           {
            "marker": {
             "colorbar": {
              "outlinewidth": 0,
              "ticks": ""
             }
            },
            "type": "scatterternary"
           }
          ],
          "surface": [
           {
            "colorbar": {
             "outlinewidth": 0,
             "ticks": ""
            },
            "colorscale": [
             [
              0,
              "#0d0887"
             ],
             [
              0.1111111111111111,
              "#46039f"
             ],
             [
              0.2222222222222222,
              "#7201a8"
             ],
             [
              0.3333333333333333,
              "#9c179e"
             ],
             [
              0.4444444444444444,
              "#bd3786"
             ],
             [
              0.5555555555555556,
              "#d8576b"
             ],
             [
              0.6666666666666666,
              "#ed7953"
             ],
             [
              0.7777777777777778,
              "#fb9f3a"
             ],
             [
              0.8888888888888888,
              "#fdca26"
             ],
             [
              1,
              "#f0f921"
             ]
            ],
            "type": "surface"
           }
          ],
          "table": [
           {
            "cells": {
             "fill": {
              "color": "#EBF0F8"
             },
             "line": {
              "color": "white"
             }
            },
            "header": {
             "fill": {
              "color": "#C8D4E3"
             },
             "line": {
              "color": "white"
             }
            },
            "type": "table"
           }
          ]
         },
         "layout": {
          "annotationdefaults": {
           "arrowcolor": "#2a3f5f",
           "arrowhead": 0,
           "arrowwidth": 1
          },
          "autotypenumbers": "strict",
          "coloraxis": {
           "colorbar": {
            "outlinewidth": 0,
            "ticks": ""
           }
          },
          "colorscale": {
           "diverging": [
            [
             0,
             "#8e0152"
            ],
            [
             0.1,
             "#c51b7d"
            ],
            [
             0.2,
             "#de77ae"
            ],
            [
             0.3,
             "#f1b6da"
            ],
            [
             0.4,
             "#fde0ef"
            ],
            [
             0.5,
             "#f7f7f7"
            ],
            [
             0.6,
             "#e6f5d0"
            ],
            [
             0.7,
             "#b8e186"
            ],
            [
             0.8,
             "#7fbc41"
            ],
            [
             0.9,
             "#4d9221"
            ],
            [
             1,
             "#276419"
            ]
           ],
           "sequential": [
            [
             0,
             "#0d0887"
            ],
            [
             0.1111111111111111,
             "#46039f"
            ],
            [
             0.2222222222222222,
             "#7201a8"
            ],
            [
             0.3333333333333333,
             "#9c179e"
            ],
            [
             0.4444444444444444,
             "#bd3786"
            ],
            [
             0.5555555555555556,
             "#d8576b"
            ],
            [
             0.6666666666666666,
             "#ed7953"
            ],
            [
             0.7777777777777778,
             "#fb9f3a"
            ],
            [
             0.8888888888888888,
             "#fdca26"
            ],
            [
             1,
             "#f0f921"
            ]
           ],
           "sequentialminus": [
            [
             0,
             "#0d0887"
            ],
            [
             0.1111111111111111,
             "#46039f"
            ],
            [
             0.2222222222222222,
             "#7201a8"
            ],
            [
             0.3333333333333333,
             "#9c179e"
            ],
            [
             0.4444444444444444,
             "#bd3786"
            ],
            [
             0.5555555555555556,
             "#d8576b"
            ],
            [
             0.6666666666666666,
             "#ed7953"
            ],
            [
             0.7777777777777778,
             "#fb9f3a"
            ],
            [
             0.8888888888888888,
             "#fdca26"
            ],
            [
             1,
             "#f0f921"
            ]
           ]
          },
          "colorway": [
           "#636efa",
           "#EF553B",
           "#00cc96",
           "#ab63fa",
           "#FFA15A",
           "#19d3f3",
           "#FF6692",
           "#B6E880",
           "#FF97FF",
           "#FECB52"
          ],
          "font": {
           "color": "#2a3f5f"
          },
          "geo": {
           "bgcolor": "white",
           "lakecolor": "white",
           "landcolor": "#E5ECF6",
           "showlakes": true,
           "showland": true,
           "subunitcolor": "white"
          },
          "hoverlabel": {
           "align": "left"
          },
          "hovermode": "closest",
          "mapbox": {
           "style": "light"
          },
          "paper_bgcolor": "white",
          "plot_bgcolor": "#E5ECF6",
          "polar": {
           "angularaxis": {
            "gridcolor": "white",
            "linecolor": "white",
            "ticks": ""
           },
           "bgcolor": "#E5ECF6",
           "radialaxis": {
            "gridcolor": "white",
            "linecolor": "white",
            "ticks": ""
           }
          },
          "scene": {
           "xaxis": {
            "backgroundcolor": "#E5ECF6",
            "gridcolor": "white",
            "gridwidth": 2,
            "linecolor": "white",
            "showbackground": true,
            "ticks": "",
            "zerolinecolor": "white"
           },
           "yaxis": {
            "backgroundcolor": "#E5ECF6",
            "gridcolor": "white",
            "gridwidth": 2,
            "linecolor": "white",
            "showbackground": true,
            "ticks": "",
            "zerolinecolor": "white"
           },
           "zaxis": {
            "backgroundcolor": "#E5ECF6",
            "gridcolor": "white",
            "gridwidth": 2,
            "linecolor": "white",
            "showbackground": true,
            "ticks": "",
            "zerolinecolor": "white"
           }
          },
          "shapedefaults": {
           "line": {
            "color": "#2a3f5f"
           }
          },
          "ternary": {
           "aaxis": {
            "gridcolor": "white",
            "linecolor": "white",
            "ticks": ""
           },
           "baxis": {
            "gridcolor": "white",
            "linecolor": "white",
            "ticks": ""
           },
           "bgcolor": "#E5ECF6",
           "caxis": {
            "gridcolor": "white",
            "linecolor": "white",
            "ticks": ""
           }
          },
          "title": {
           "x": 0.05
          },
          "xaxis": {
           "automargin": true,
           "gridcolor": "white",
           "linecolor": "white",
           "ticks": "",
           "title": {
            "standoff": 15
           },
           "zerolinecolor": "white",
           "zerolinewidth": 2
          },
          "yaxis": {
           "automargin": true,
           "gridcolor": "white",
           "linecolor": "white",
           "ticks": "",
           "title": {
            "standoff": 15
           },
           "zerolinecolor": "white",
           "zerolinewidth": 2
          }
         }
        },
        "title": {
         "text": "Scree Plot for Factor Analysis"
        },
        "xaxis": {
         "anchor": "y",
         "domain": [
          0,
          1
         ],
         "title": {
          "text": "Factors"
         }
        },
        "yaxis": {
         "anchor": "x",
         "domain": [
          0,
          1
         ],
         "title": {
          "text": "Eigenvalues"
         }
        }
       }
      },
      "text/html": [
       "<div>                            <div id=\"06008013-02ba-47d0-8758-e7c63ddab6c5\" class=\"plotly-graph-div\" style=\"height:525px; width:100%;\"></div>            <script type=\"text/javascript\">                require([\"plotly\"], function(Plotly) {                    window.PLOTLYENV=window.PLOTLYENV || {};                                    if (document.getElementById(\"06008013-02ba-47d0-8758-e7c63ddab6c5\")) {                    Plotly.newPlot(                        \"06008013-02ba-47d0-8758-e7c63ddab6c5\",                        [{\"hovertemplate\":\"Factors=%{x}<br>Eigenvalues=%{y}<extra></extra>\",\"legendgroup\":\"\",\"line\":{\"color\":\"#e377c2\",\"dash\":\"solid\"},\"marker\":{\"symbol\":\"circle\"},\"mode\":\"markers+lines\",\"name\":\"\",\"orientation\":\"v\",\"showlegend\":false,\"x\":[1,2,3,4,5,6,7,8,9,10,11,12,13,14,15,16],\"xaxis\":\"x\",\"y\":[4.360750444314037,2.469592038735187,0.8857093685749514,0.17592205890837442,0.11378815510544793,0.05200625923620829,-0.052957220896033094,-0.12415249980915521,-0.21512819882616122,-0.25955865431125447,-0.34011587116458636,-0.37890197132785863,-0.46627595981146175,-0.526273367467087,-0.6101436949293265,-0.7235104430902773],\"yaxis\":\"y\",\"type\":\"scatter\"}],                        {\"template\":{\"data\":{\"bar\":[{\"error_x\":{\"color\":\"#2a3f5f\"},\"error_y\":{\"color\":\"#2a3f5f\"},\"marker\":{\"line\":{\"color\":\"#E5ECF6\",\"width\":0.5},\"pattern\":{\"fillmode\":\"overlay\",\"size\":10,\"solidity\":0.2}},\"type\":\"bar\"}],\"barpolar\":[{\"marker\":{\"line\":{\"color\":\"#E5ECF6\",\"width\":0.5},\"pattern\":{\"fillmode\":\"overlay\",\"size\":10,\"solidity\":0.2}},\"type\":\"barpolar\"}],\"carpet\":[{\"aaxis\":{\"endlinecolor\":\"#2a3f5f\",\"gridcolor\":\"white\",\"linecolor\":\"white\",\"minorgridcolor\":\"white\",\"startlinecolor\":\"#2a3f5f\"},\"baxis\":{\"endlinecolor\":\"#2a3f5f\",\"gridcolor\":\"white\",\"linecolor\":\"white\",\"minorgridcolor\":\"white\",\"startlinecolor\":\"#2a3f5f\"},\"type\":\"carpet\"}],\"choropleth\":[{\"colorbar\":{\"outlinewidth\":0,\"ticks\":\"\"},\"type\":\"choropleth\"}],\"contour\":[{\"colorbar\":{\"outlinewidth\":0,\"ticks\":\"\"},\"colorscale\":[[0.0,\"#0d0887\"],[0.1111111111111111,\"#46039f\"],[0.2222222222222222,\"#7201a8\"],[0.3333333333333333,\"#9c179e\"],[0.4444444444444444,\"#bd3786\"],[0.5555555555555556,\"#d8576b\"],[0.6666666666666666,\"#ed7953\"],[0.7777777777777778,\"#fb9f3a\"],[0.8888888888888888,\"#fdca26\"],[1.0,\"#f0f921\"]],\"type\":\"contour\"}],\"contourcarpet\":[{\"colorbar\":{\"outlinewidth\":0,\"ticks\":\"\"},\"type\":\"contourcarpet\"}],\"heatmap\":[{\"colorbar\":{\"outlinewidth\":0,\"ticks\":\"\"},\"colorscale\":[[0.0,\"#0d0887\"],[0.1111111111111111,\"#46039f\"],[0.2222222222222222,\"#7201a8\"],[0.3333333333333333,\"#9c179e\"],[0.4444444444444444,\"#bd3786\"],[0.5555555555555556,\"#d8576b\"],[0.6666666666666666,\"#ed7953\"],[0.7777777777777778,\"#fb9f3a\"],[0.8888888888888888,\"#fdca26\"],[1.0,\"#f0f921\"]],\"type\":\"heatmap\"}],\"heatmapgl\":[{\"colorbar\":{\"outlinewidth\":0,\"ticks\":\"\"},\"colorscale\":[[0.0,\"#0d0887\"],[0.1111111111111111,\"#46039f\"],[0.2222222222222222,\"#7201a8\"],[0.3333333333333333,\"#9c179e\"],[0.4444444444444444,\"#bd3786\"],[0.5555555555555556,\"#d8576b\"],[0.6666666666666666,\"#ed7953\"],[0.7777777777777778,\"#fb9f3a\"],[0.8888888888888888,\"#fdca26\"],[1.0,\"#f0f921\"]],\"type\":\"heatmapgl\"}],\"histogram\":[{\"marker\":{\"pattern\":{\"fillmode\":\"overlay\",\"size\":10,\"solidity\":0.2}},\"type\":\"histogram\"}],\"histogram2d\":[{\"colorbar\":{\"outlinewidth\":0,\"ticks\":\"\"},\"colorscale\":[[0.0,\"#0d0887\"],[0.1111111111111111,\"#46039f\"],[0.2222222222222222,\"#7201a8\"],[0.3333333333333333,\"#9c179e\"],[0.4444444444444444,\"#bd3786\"],[0.5555555555555556,\"#d8576b\"],[0.6666666666666666,\"#ed7953\"],[0.7777777777777778,\"#fb9f3a\"],[0.8888888888888888,\"#fdca26\"],[1.0,\"#f0f921\"]],\"type\":\"histogram2d\"}],\"histogram2dcontour\":[{\"colorbar\":{\"outlinewidth\":0,\"ticks\":\"\"},\"colorscale\":[[0.0,\"#0d0887\"],[0.1111111111111111,\"#46039f\"],[0.2222222222222222,\"#7201a8\"],[0.3333333333333333,\"#9c179e\"],[0.4444444444444444,\"#bd3786\"],[0.5555555555555556,\"#d8576b\"],[0.6666666666666666,\"#ed7953\"],[0.7777777777777778,\"#fb9f3a\"],[0.8888888888888888,\"#fdca26\"],[1.0,\"#f0f921\"]],\"type\":\"histogram2dcontour\"}],\"mesh3d\":[{\"colorbar\":{\"outlinewidth\":0,\"ticks\":\"\"},\"type\":\"mesh3d\"}],\"parcoords\":[{\"line\":{\"colorbar\":{\"outlinewidth\":0,\"ticks\":\"\"}},\"type\":\"parcoords\"}],\"pie\":[{\"automargin\":true,\"type\":\"pie\"}],\"scatter\":[{\"marker\":{\"colorbar\":{\"outlinewidth\":0,\"ticks\":\"\"}},\"type\":\"scatter\"}],\"scatter3d\":[{\"line\":{\"colorbar\":{\"outlinewidth\":0,\"ticks\":\"\"}},\"marker\":{\"colorbar\":{\"outlinewidth\":0,\"ticks\":\"\"}},\"type\":\"scatter3d\"}],\"scattercarpet\":[{\"marker\":{\"colorbar\":{\"outlinewidth\":0,\"ticks\":\"\"}},\"type\":\"scattercarpet\"}],\"scattergeo\":[{\"marker\":{\"colorbar\":{\"outlinewidth\":0,\"ticks\":\"\"}},\"type\":\"scattergeo\"}],\"scattergl\":[{\"marker\":{\"colorbar\":{\"outlinewidth\":0,\"ticks\":\"\"}},\"type\":\"scattergl\"}],\"scattermapbox\":[{\"marker\":{\"colorbar\":{\"outlinewidth\":0,\"ticks\":\"\"}},\"type\":\"scattermapbox\"}],\"scatterpolar\":[{\"marker\":{\"colorbar\":{\"outlinewidth\":0,\"ticks\":\"\"}},\"type\":\"scatterpolar\"}],\"scatterpolargl\":[{\"marker\":{\"colorbar\":{\"outlinewidth\":0,\"ticks\":\"\"}},\"type\":\"scatterpolargl\"}],\"scatterternary\":[{\"marker\":{\"colorbar\":{\"outlinewidth\":0,\"ticks\":\"\"}},\"type\":\"scatterternary\"}],\"surface\":[{\"colorbar\":{\"outlinewidth\":0,\"ticks\":\"\"},\"colorscale\":[[0.0,\"#0d0887\"],[0.1111111111111111,\"#46039f\"],[0.2222222222222222,\"#7201a8\"],[0.3333333333333333,\"#9c179e\"],[0.4444444444444444,\"#bd3786\"],[0.5555555555555556,\"#d8576b\"],[0.6666666666666666,\"#ed7953\"],[0.7777777777777778,\"#fb9f3a\"],[0.8888888888888888,\"#fdca26\"],[1.0,\"#f0f921\"]],\"type\":\"surface\"}],\"table\":[{\"cells\":{\"fill\":{\"color\":\"#EBF0F8\"},\"line\":{\"color\":\"white\"}},\"header\":{\"fill\":{\"color\":\"#C8D4E3\"},\"line\":{\"color\":\"white\"}},\"type\":\"table\"}]},\"layout\":{\"annotationdefaults\":{\"arrowcolor\":\"#2a3f5f\",\"arrowhead\":0,\"arrowwidth\":1},\"autotypenumbers\":\"strict\",\"coloraxis\":{\"colorbar\":{\"outlinewidth\":0,\"ticks\":\"\"}},\"colorscale\":{\"diverging\":[[0,\"#8e0152\"],[0.1,\"#c51b7d\"],[0.2,\"#de77ae\"],[0.3,\"#f1b6da\"],[0.4,\"#fde0ef\"],[0.5,\"#f7f7f7\"],[0.6,\"#e6f5d0\"],[0.7,\"#b8e186\"],[0.8,\"#7fbc41\"],[0.9,\"#4d9221\"],[1,\"#276419\"]],\"sequential\":[[0.0,\"#0d0887\"],[0.1111111111111111,\"#46039f\"],[0.2222222222222222,\"#7201a8\"],[0.3333333333333333,\"#9c179e\"],[0.4444444444444444,\"#bd3786\"],[0.5555555555555556,\"#d8576b\"],[0.6666666666666666,\"#ed7953\"],[0.7777777777777778,\"#fb9f3a\"],[0.8888888888888888,\"#fdca26\"],[1.0,\"#f0f921\"]],\"sequentialminus\":[[0.0,\"#0d0887\"],[0.1111111111111111,\"#46039f\"],[0.2222222222222222,\"#7201a8\"],[0.3333333333333333,\"#9c179e\"],[0.4444444444444444,\"#bd3786\"],[0.5555555555555556,\"#d8576b\"],[0.6666666666666666,\"#ed7953\"],[0.7777777777777778,\"#fb9f3a\"],[0.8888888888888888,\"#fdca26\"],[1.0,\"#f0f921\"]]},\"colorway\":[\"#636efa\",\"#EF553B\",\"#00cc96\",\"#ab63fa\",\"#FFA15A\",\"#19d3f3\",\"#FF6692\",\"#B6E880\",\"#FF97FF\",\"#FECB52\"],\"font\":{\"color\":\"#2a3f5f\"},\"geo\":{\"bgcolor\":\"white\",\"lakecolor\":\"white\",\"landcolor\":\"#E5ECF6\",\"showlakes\":true,\"showland\":true,\"subunitcolor\":\"white\"},\"hoverlabel\":{\"align\":\"left\"},\"hovermode\":\"closest\",\"mapbox\":{\"style\":\"light\"},\"paper_bgcolor\":\"white\",\"plot_bgcolor\":\"#E5ECF6\",\"polar\":{\"angularaxis\":{\"gridcolor\":\"white\",\"linecolor\":\"white\",\"ticks\":\"\"},\"bgcolor\":\"#E5ECF6\",\"radialaxis\":{\"gridcolor\":\"white\",\"linecolor\":\"white\",\"ticks\":\"\"}},\"scene\":{\"xaxis\":{\"backgroundcolor\":\"#E5ECF6\",\"gridcolor\":\"white\",\"gridwidth\":2,\"linecolor\":\"white\",\"showbackground\":true,\"ticks\":\"\",\"zerolinecolor\":\"white\"},\"yaxis\":{\"backgroundcolor\":\"#E5ECF6\",\"gridcolor\":\"white\",\"gridwidth\":2,\"linecolor\":\"white\",\"showbackground\":true,\"ticks\":\"\",\"zerolinecolor\":\"white\"},\"zaxis\":{\"backgroundcolor\":\"#E5ECF6\",\"gridcolor\":\"white\",\"gridwidth\":2,\"linecolor\":\"white\",\"showbackground\":true,\"ticks\":\"\",\"zerolinecolor\":\"white\"}},\"shapedefaults\":{\"line\":{\"color\":\"#2a3f5f\"}},\"ternary\":{\"aaxis\":{\"gridcolor\":\"white\",\"linecolor\":\"white\",\"ticks\":\"\"},\"baxis\":{\"gridcolor\":\"white\",\"linecolor\":\"white\",\"ticks\":\"\"},\"bgcolor\":\"#E5ECF6\",\"caxis\":{\"gridcolor\":\"white\",\"linecolor\":\"white\",\"ticks\":\"\"}},\"title\":{\"x\":0.05},\"xaxis\":{\"automargin\":true,\"gridcolor\":\"white\",\"linecolor\":\"white\",\"ticks\":\"\",\"title\":{\"standoff\":15},\"zerolinecolor\":\"white\",\"zerolinewidth\":2},\"yaxis\":{\"automargin\":true,\"gridcolor\":\"white\",\"linecolor\":\"white\",\"ticks\":\"\",\"title\":{\"standoff\":15},\"zerolinecolor\":\"white\",\"zerolinewidth\":2}}},\"xaxis\":{\"anchor\":\"y\",\"domain\":[0.0,1.0],\"title\":{\"text\":\"Factors\"}},\"yaxis\":{\"anchor\":\"x\",\"domain\":[0.0,1.0],\"title\":{\"text\":\"Eigenvalues\"}},\"legend\":{\"tracegroupgap\":0},\"title\":{\"text\":\"Scree Plot for Factor Analysis\"}},                        {\"responsive\": true}                    ).then(function(){\n",
       "                            \n",
       "var gd = document.getElementById('06008013-02ba-47d0-8758-e7c63ddab6c5');\n",
       "var x = new MutationObserver(function (mutations, observer) {{\n",
       "        var display = window.getComputedStyle(gd).display;\n",
       "        if (!display || display === 'none') {{\n",
       "            console.log([gd, 'removed!']);\n",
       "            Plotly.purge(gd);\n",
       "            observer.disconnect();\n",
       "        }}\n",
       "}});\n",
       "\n",
       "// Listen for the removal of the full notebook cells\n",
       "var notebookContainer = gd.closest('#notebook-container');\n",
       "if (notebookContainer) {{\n",
       "    x.observe(notebookContainer, {childList: true});\n",
       "}}\n",
       "\n",
       "// Listen for the clearing of the current output cell\n",
       "var outputEl = gd.closest('.output');\n",
       "if (outputEl) {{\n",
       "    x.observe(outputEl, {childList: true});\n",
       "}}\n",
       "\n",
       "                        })                };                });            </script>        </div>"
      ]
     },
     "metadata": {},
     "output_type": "display_data"
    },
    {
     "data": {
      "application/javascript": [
       "\n",
       "            setTimeout(function() {\n",
       "                var nbb_cell_id = 142;\n",
       "                var nbb_unformatted_code = \"px.line(\\n    x=range(1, df.shape[1] - 1),\\n    y=newev,\\n    labels={\\\"x\\\": \\\"Factors\\\", \\\"y\\\": \\\"Eigenvalues\\\"},\\n    title=\\\"Scree Plot for Factor Analysis\\\",\\n    color_discrete_sequence=[\\\"#e377c2\\\"],\\n    markers=True,\\n)\";\n",
       "                var nbb_formatted_code = \"px.line(\\n    x=range(1, df.shape[1] - 1),\\n    y=newev,\\n    labels={\\\"x\\\": \\\"Factors\\\", \\\"y\\\": \\\"Eigenvalues\\\"},\\n    title=\\\"Scree Plot for Factor Analysis\\\",\\n    color_discrete_sequence=[\\\"#e377c2\\\"],\\n    markers=True,\\n)\";\n",
       "                var nbb_cells = Jupyter.notebook.get_cells();\n",
       "                for (var i = 0; i < nbb_cells.length; ++i) {\n",
       "                    if (nbb_cells[i].input_prompt_number == nbb_cell_id) {\n",
       "                        if (nbb_cells[i].get_text() == nbb_unformatted_code) {\n",
       "                             nbb_cells[i].set_text(nbb_formatted_code);\n",
       "                        }\n",
       "                        break;\n",
       "                    }\n",
       "                }\n",
       "            }, 500);\n",
       "            "
      ],
      "text/plain": [
       "<IPython.core.display.Javascript object>"
      ]
     },
     "metadata": {},
     "output_type": "display_data"
    }
   ],
   "source": [
    "px.line(\n",
    "    x=range(1, df.shape[1] - 1),\n",
    "    y=newev,\n",
    "    labels={\"x\": \"Factors\", \"y\": \"Eigenvalues\"},\n",
    "    title=\"Scree Plot for Factor Analysis\",\n",
    "    color_discrete_sequence=[\"#e377c2\"],\n",
    "    markers=True,\n",
    ")"
   ]
  },
  {
   "cell_type": "markdown",
   "id": "651848a9",
   "metadata": {},
   "source": [
    "Using the elbow rule (as opposed to the Kaiser-Guttman rule) on our scree plot, we can see that four factors would be suitable for use in our analysis. Now we rebuild the Factor Analysis, this time with our factors paramater equal to five. "
   ]
  },
  {
   "cell_type": "code",
   "execution_count": 143,
   "id": "63c2665c",
   "metadata": {},
   "outputs": [
    {
     "data": {
      "text/html": [
       "<table class=\"simpletable\">\n",
       "<tr>\n",
       "  <td></td> <td>Eigenvalues</td> <td></td> <td></td>\n",
       "</tr>\n",
       "</table>\n",
       "<table class=\"simpletable\">\n",
       "<tr>\n",
       "  <td></td> <th>area_sqmi</th> <th>epl_pov</th> <th>epl_unemp</th> <th>epl_pci</th> <th>epl_nohsdp</th> <th>epl_age65</th> <th>epl_age17</th> <th>epl_disabl</th> <th>epl_sngpnt</th> <th>epl_minrty</th> <th>epl_limeng</th> <th>epl_munit</th> <th>epl_mobile</th> <th>epl_crowd</th> <th>epl_noveh</th> <th>epl_groupq</th>\n",
       "</tr>\n",
       "<tr>\n",
       "  <th></th>  <td>4.5276</td>   <td>2.9961</td>   <td>1.3249</td>   <td>0.7230</td>    <td>0.2629</td>    <td>0.1811</td>    <td>0.1076</td>     <td>0.0862</td>     <td>0.0178</td>     <td>-0.0067</td>    <td>-0.0314</td>   <td>-0.0465</td>    <td>-0.1063</td>   <td>-0.1141</td>   <td>-0.1299</td>    <td>-0.2210</td> \n",
       "</tr>\n",
       "</table>\n",
       "<table class=\"simpletable\">\n",
       "<tr>\n",
       "  <td></td> <td></td> <td></td> <td></td>\n",
       "</tr>\n",
       "</table>\n",
       "<table class=\"simpletable\">\n",
       "<tr>\n",
       "  <td></td> <td>Communality</td> <td></td> <td></td>\n",
       "</tr>\n",
       "</table>\n",
       "<table class=\"simpletable\">\n",
       "<tr>\n",
       "  <td></td> <th>area_sqmi</th> <th>epl_pov</th> <th>epl_unemp</th> <th>epl_pci</th> <th>epl_nohsdp</th> <th>epl_age65</th> <th>epl_age17</th> <th>epl_disabl</th> <th>epl_sngpnt</th> <th>epl_minrty</th> <th>epl_limeng</th> <th>epl_munit</th> <th>epl_mobile</th> <th>epl_crowd</th> <th>epl_noveh</th> <th>epl_groupq</th>\n",
       "</tr>\n",
       "<tr>\n",
       "  <th></th>  <td>0.0142</td>   <td>0.8180</td>   <td>0.5062</td>   <td>0.7820</td>    <td>0.7417</td>    <td>0.5882</td>    <td>1.0104</td>     <td>0.6898</td>     <td>0.5595</td>     <td>0.6736</td>     <td>0.6279</td>    <td>0.6455</td>     <td>0.6651</td>    <td>0.4885</td>    <td>0.5763</td>     <td>0.1846</td>  \n",
       "</tr>\n",
       "</table>\n",
       "<table class=\"simpletable\">\n",
       "<tr>\n",
       "  <td></td> <td></td> <td></td> <td></td>\n",
       "</tr>\n",
       "</table>\n",
       "<table class=\"simpletable\">\n",
       "<tr>\n",
       "  <td></td> <td>Pre-rotated loadings</td> <td></td> <td></td>\n",
       "</tr>\n",
       "</table>\n",
       "<table class=\"simpletable\">\n",
       "<tr>\n",
       "       <td></td>      <th>factor 0</th> <th>factor 1</th> <th>factor 2</th> <th>factor 3</th>\n",
       "</tr>\n",
       "<tr>\n",
       "  <th>area_sqmi</th>   <td>0.0412</td>   <td>0.1087</td>   <td>0.0033</td>   <td>-0.0258</td>\n",
       "</tr>\n",
       "<tr>\n",
       "  <th>epl_pov</th>     <td>0.8755</td>   <td>-0.0734</td>  <td>0.1858</td>   <td>0.1074</td> \n",
       "</tr>\n",
       "<tr>\n",
       "  <th>epl_unemp</th>   <td>0.6816</td>   <td>0.0210</td>   <td>0.2018</td>   <td>0.0203</td> \n",
       "</tr>\n",
       "<tr>\n",
       "  <th>epl_pci</th>     <td>0.8457</td>   <td>-0.2124</td>  <td>-0.0889</td>  <td>0.1176</td> \n",
       "</tr>\n",
       "<tr>\n",
       "  <th>epl_nohsdp</th>  <td>0.8349</td>   <td>0.0047</td>   <td>-0.1644</td>  <td>-0.1328</td>\n",
       "</tr>\n",
       "<tr>\n",
       "  <th>epl_age65</th>   <td>-0.1251</td>  <td>-0.7425</td>  <td>0.0088</td>   <td>-0.1454</td>\n",
       "</tr>\n",
       "<tr>\n",
       "  <th>epl_age17</th>   <td>0.1383</td>   <td>0.6317</td>   <td>-0.6384</td>  <td>0.4297</td> \n",
       "</tr>\n",
       "<tr>\n",
       "  <th>epl_disabl</th>  <td>0.5863</td>   <td>-0.5875</td>  <td>0.0295</td>   <td>0.0046</td> \n",
       "</tr>\n",
       "<tr>\n",
       "  <th>epl_sngpnt</th>  <td>0.5217</td>   <td>0.4533</td>   <td>0.1288</td>   <td>0.2554</td> \n",
       "</tr>\n",
       "<tr>\n",
       "  <th>epl_minrty</th>  <td>0.4623</td>   <td>0.6037</td>   <td>0.0796</td>   <td>-0.2984</td>\n",
       "</tr>\n",
       "<tr>\n",
       "  <th>epl_limeng</th>  <td>0.0862</td>   <td>0.6411</td>   <td>-0.0456</td>  <td>-0.4554</td>\n",
       "</tr>\n",
       "<tr>\n",
       "  <th>epl_munit</th>   <td>-0.3385</td>  <td>0.5489</td>   <td>0.4734</td>   <td>0.0744</td> \n",
       "</tr>\n",
       "<tr>\n",
       "  <th>epl_mobile</th>  <td>0.6407</td>   <td>-0.3855</td>  <td>-0.2866</td>  <td>-0.1541</td>\n",
       "</tr>\n",
       "<tr>\n",
       "  <th>epl_crowd</th>   <td>0.4501</td>   <td>0.4458</td>   <td>-0.1943</td>  <td>-0.2223</td>\n",
       "</tr>\n",
       "<tr>\n",
       "  <th>epl_noveh</th>   <td>0.5197</td>   <td>0.0821</td>   <td>0.5166</td>   <td>0.1805</td> \n",
       "</tr>\n",
       "<tr>\n",
       "  <th>epl_groupq</th>  <td>0.1137</td>   <td>0.0356</td>   <td>0.4126</td>   <td>-0.0136</td>\n",
       "</tr>\n",
       "</table>\n",
       "<table class=\"simpletable\">\n",
       "<tr>\n",
       "  <td></td> <td></td> <td></td> <td></td>\n",
       "</tr>\n",
       "</table>"
      ],
      "text/plain": [
       "<class 'statsmodels.iolib.summary2.Summary'>\n",
       "\"\"\"\n",
       "                                                                      Factor analysis results\n",
       "===================================================================================================================================================================\n",
       "                                                    Eigenvalues                                                                                                    \n",
       "-------------------------------------------------------------------------------------------------------------------------------------------------------------------\n",
       " area_sqmi epl_pov epl_unemp epl_pci epl_nohsdp epl_age65 epl_age17 epl_disabl epl_sngpnt epl_minrty epl_limeng epl_munit epl_mobile epl_crowd epl_noveh epl_groupq\n",
       "-------------------------------------------------------------------------------------------------------------------------------------------------------------------\n",
       "    4.5276  2.9961    1.3249  0.7230     0.2629    0.1811    0.1076     0.0862     0.0178    -0.0067    -0.0314   -0.0465    -0.1063   -0.1141   -0.1299    -0.2210\n",
       "-------------------------------------------------------------------------------------------------------------------------------------------------------------------\n",
       "                                                                                                                                                                   \n",
       "-------------------------------------------------------------------------------------------------------------------------------------------------------------------\n",
       "                                                    Communality                                                                                                    \n",
       "-------------------------------------------------------------------------------------------------------------------------------------------------------------------\n",
       " area_sqmi epl_pov epl_unemp epl_pci epl_nohsdp epl_age65 epl_age17 epl_disabl epl_sngpnt epl_minrty epl_limeng epl_munit epl_mobile epl_crowd epl_noveh epl_groupq\n",
       "-------------------------------------------------------------------------------------------------------------------------------------------------------------------\n",
       "    0.0142  0.8180    0.5062  0.7820     0.7417    0.5882    1.0104     0.6898     0.5595     0.6736     0.6279    0.6455     0.6651    0.4885    0.5763     0.1846\n",
       "-------------------------------------------------------------------------------------------------------------------------------------------------------------------\n",
       "                                                                                                                                                                   \n",
       "-------------------------------------------------------------------------------------------------------------------------------------------------------------------\n",
       "                                                 Pre-rotated loadings                                                                                              \n",
       "----------------------------------------------------------------------------------------------------------------------------------------------------------------------------------------------------------\n",
       "                                                  factor 0                                        factor 1                                        factor 2                                        factor 3\n",
       "----------------------------------------------------------------------------------------------------------------------------------------------------------------------------------------------------------\n",
       "area_sqmi                                           0.0412                                          0.1087                                          0.0033                                         -0.0258\n",
       "epl_pov                                             0.8755                                         -0.0734                                          0.1858                                          0.1074\n",
       "epl_unemp                                           0.6816                                          0.0210                                          0.2018                                          0.0203\n",
       "epl_pci                                             0.8457                                         -0.2124                                         -0.0889                                          0.1176\n",
       "epl_nohsdp                                          0.8349                                          0.0047                                         -0.1644                                         -0.1328\n",
       "epl_age65                                          -0.1251                                         -0.7425                                          0.0088                                         -0.1454\n",
       "epl_age17                                           0.1383                                          0.6317                                         -0.6384                                          0.4297\n",
       "epl_disabl                                          0.5863                                         -0.5875                                          0.0295                                          0.0046\n",
       "epl_sngpnt                                          0.5217                                          0.4533                                          0.1288                                          0.2554\n",
       "epl_minrty                                          0.4623                                          0.6037                                          0.0796                                         -0.2984\n",
       "epl_limeng                                          0.0862                                          0.6411                                         -0.0456                                         -0.4554\n",
       "epl_munit                                          -0.3385                                          0.5489                                          0.4734                                          0.0744\n",
       "epl_mobile                                          0.6407                                         -0.3855                                         -0.2866                                         -0.1541\n",
       "epl_crowd                                           0.4501                                          0.4458                                         -0.1943                                         -0.2223\n",
       "epl_noveh                                           0.5197                                          0.0821                                          0.5166                                          0.1805\n",
       "epl_groupq                                          0.1137                                          0.0356                                          0.4126                                         -0.0136\n",
       "-------------------------------------------------------------------------------------------------------------------------------------------------------------------\n",
       "                                                                                                                                                                   \n",
       "===================================================================================================================================================================\n",
       "\n",
       "\"\"\""
      ]
     },
     "metadata": {},
     "output_type": "display_data"
    },
    {
     "data": {
      "application/javascript": [
       "\n",
       "            setTimeout(function() {\n",
       "                var nbb_cell_id = 143;\n",
       "                var nbb_unformatted_code = \"# https://www.ibm.com/docs/en/spss-statistics/beta?topic=analysis-exploratory-factor-rotation\\nnewFA = sm.multivariate.Factor(df.iloc[:, 2:], n_factor=4, method=\\\"pa\\\")\\nmodel = newFA.fit()\\ndisplay(model.summary())\\n# newev = model.eigenvals\";\n",
       "                var nbb_formatted_code = \"# https://www.ibm.com/docs/en/spss-statistics/beta?topic=analysis-exploratory-factor-rotation\\nnewFA = sm.multivariate.Factor(df.iloc[:, 2:], n_factor=4, method=\\\"pa\\\")\\nmodel = newFA.fit()\\ndisplay(model.summary())\\n# newev = model.eigenvals\";\n",
       "                var nbb_cells = Jupyter.notebook.get_cells();\n",
       "                for (var i = 0; i < nbb_cells.length; ++i) {\n",
       "                    if (nbb_cells[i].input_prompt_number == nbb_cell_id) {\n",
       "                        if (nbb_cells[i].get_text() == nbb_unformatted_code) {\n",
       "                             nbb_cells[i].set_text(nbb_formatted_code);\n",
       "                        }\n",
       "                        break;\n",
       "                    }\n",
       "                }\n",
       "            }, 500);\n",
       "            "
      ],
      "text/plain": [
       "<IPython.core.display.Javascript object>"
      ]
     },
     "metadata": {},
     "output_type": "display_data"
    }
   ],
   "source": [
    "# https://www.ibm.com/docs/en/spss-statistics/beta?topic=analysis-exploratory-factor-rotation\n",
    "newFA = sm.multivariate.Factor(df.iloc[:, 2:], n_factor=4, method=\"pa\")\n",
    "model = newFA.fit()\n",
    "display(model.summary())\n",
    "# newev = model.eigenvals"
   ]
  },
  {
   "cell_type": "code",
   "execution_count": 179,
   "id": "06b70d40",
   "metadata": {},
   "outputs": [
    {
     "data": {
      "text/html": [
       "<div>\n",
       "<style scoped>\n",
       "    .dataframe tbody tr th:only-of-type {\n",
       "        vertical-align: middle;\n",
       "    }\n",
       "\n",
       "    .dataframe tbody tr th {\n",
       "        vertical-align: top;\n",
       "    }\n",
       "\n",
       "    .dataframe thead th {\n",
       "        text-align: right;\n",
       "    }\n",
       "</style>\n",
       "<table border=\"1\" class=\"dataframe\">\n",
       "  <thead>\n",
       "    <tr style=\"text-align: right;\">\n",
       "      <th></th>\n",
       "      <th>Factor 1</th>\n",
       "      <th>Factor 2</th>\n",
       "      <th>Factor 3</th>\n",
       "      <th>Factor 4</th>\n",
       "    </tr>\n",
       "  </thead>\n",
       "  <tbody>\n",
       "    <tr>\n",
       "      <th>area_sqmi</th>\n",
       "      <td>0.041209</td>\n",
       "      <td>0.108738</td>\n",
       "      <td>0.003290</td>\n",
       "      <td>0.025758</td>\n",
       "    </tr>\n",
       "    <tr>\n",
       "      <th>epl_pov</th>\n",
       "      <td>0.875530</td>\n",
       "      <td>0.073385</td>\n",
       "      <td>0.185839</td>\n",
       "      <td>0.107400</td>\n",
       "    </tr>\n",
       "    <tr>\n",
       "      <th>epl_unemp</th>\n",
       "      <td>0.681600</td>\n",
       "      <td>0.021018</td>\n",
       "      <td>0.201818</td>\n",
       "      <td>0.020273</td>\n",
       "    </tr>\n",
       "    <tr>\n",
       "      <th>epl_pci</th>\n",
       "      <td>0.845683</td>\n",
       "      <td>0.212387</td>\n",
       "      <td>0.088890</td>\n",
       "      <td>0.117645</td>\n",
       "    </tr>\n",
       "    <tr>\n",
       "      <th>epl_nohsdp</th>\n",
       "      <td>0.834903</td>\n",
       "      <td>0.004657</td>\n",
       "      <td>0.164406</td>\n",
       "      <td>0.132757</td>\n",
       "    </tr>\n",
       "    <tr>\n",
       "      <th>epl_age65</th>\n",
       "      <td>0.125078</td>\n",
       "      <td>0.742537</td>\n",
       "      <td>0.008761</td>\n",
       "      <td>0.145386</td>\n",
       "    </tr>\n",
       "    <tr>\n",
       "      <th>epl_age17</th>\n",
       "      <td>0.138272</td>\n",
       "      <td>0.631748</td>\n",
       "      <td>0.638413</td>\n",
       "      <td>0.429690</td>\n",
       "    </tr>\n",
       "    <tr>\n",
       "      <th>epl_disabl</th>\n",
       "      <td>0.586290</td>\n",
       "      <td>0.587540</td>\n",
       "      <td>0.029500</td>\n",
       "      <td>0.004575</td>\n",
       "    </tr>\n",
       "    <tr>\n",
       "      <th>epl_sngpnt</th>\n",
       "      <td>0.521689</td>\n",
       "      <td>0.453339</td>\n",
       "      <td>0.128832</td>\n",
       "      <td>0.255370</td>\n",
       "    </tr>\n",
       "    <tr>\n",
       "      <th>epl_minrty</th>\n",
       "      <td>0.462329</td>\n",
       "      <td>0.603731</td>\n",
       "      <td>0.079626</td>\n",
       "      <td>0.298361</td>\n",
       "    </tr>\n",
       "    <tr>\n",
       "      <th>epl_limeng</th>\n",
       "      <td>0.086201</td>\n",
       "      <td>0.641075</td>\n",
       "      <td>0.045577</td>\n",
       "      <td>0.455423</td>\n",
       "    </tr>\n",
       "    <tr>\n",
       "      <th>epl_munit</th>\n",
       "      <td>0.338475</td>\n",
       "      <td>0.548907</td>\n",
       "      <td>0.473428</td>\n",
       "      <td>0.074395</td>\n",
       "    </tr>\n",
       "    <tr>\n",
       "      <th>epl_mobile</th>\n",
       "      <td>0.640735</td>\n",
       "      <td>0.385537</td>\n",
       "      <td>0.286648</td>\n",
       "      <td>0.154105</td>\n",
       "    </tr>\n",
       "    <tr>\n",
       "      <th>epl_crowd</th>\n",
       "      <td>0.450104</td>\n",
       "      <td>0.445789</td>\n",
       "      <td>0.194328</td>\n",
       "      <td>0.222337</td>\n",
       "    </tr>\n",
       "    <tr>\n",
       "      <th>epl_noveh</th>\n",
       "      <td>0.519696</td>\n",
       "      <td>0.082061</td>\n",
       "      <td>0.516634</td>\n",
       "      <td>0.180491</td>\n",
       "    </tr>\n",
       "    <tr>\n",
       "      <th>epl_groupq</th>\n",
       "      <td>0.113676</td>\n",
       "      <td>0.035562</td>\n",
       "      <td>0.412561</td>\n",
       "      <td>0.013632</td>\n",
       "    </tr>\n",
       "  </tbody>\n",
       "</table>\n",
       "</div>"
      ],
      "text/plain": [
       "            Factor 1  Factor 2  Factor 3  Factor 4\n",
       "area_sqmi   0.041209  0.108738  0.003290  0.025758\n",
       "epl_pov     0.875530  0.073385  0.185839  0.107400\n",
       "epl_unemp   0.681600  0.021018  0.201818  0.020273\n",
       "epl_pci     0.845683  0.212387  0.088890  0.117645\n",
       "epl_nohsdp  0.834903  0.004657  0.164406  0.132757\n",
       "epl_age65   0.125078  0.742537  0.008761  0.145386\n",
       "epl_age17   0.138272  0.631748  0.638413  0.429690\n",
       "epl_disabl  0.586290  0.587540  0.029500  0.004575\n",
       "epl_sngpnt  0.521689  0.453339  0.128832  0.255370\n",
       "epl_minrty  0.462329  0.603731  0.079626  0.298361\n",
       "epl_limeng  0.086201  0.641075  0.045577  0.455423\n",
       "epl_munit   0.338475  0.548907  0.473428  0.074395\n",
       "epl_mobile  0.640735  0.385537  0.286648  0.154105\n",
       "epl_crowd   0.450104  0.445789  0.194328  0.222337\n",
       "epl_noveh   0.519696  0.082061  0.516634  0.180491\n",
       "epl_groupq  0.113676  0.035562  0.412561  0.013632"
      ]
     },
     "metadata": {},
     "output_type": "display_data"
    },
    {
     "data": {
      "text/html": [
       "<div>\n",
       "<style scoped>\n",
       "    .dataframe tbody tr th:only-of-type {\n",
       "        vertical-align: middle;\n",
       "    }\n",
       "\n",
       "    .dataframe tbody tr th {\n",
       "        vertical-align: top;\n",
       "    }\n",
       "\n",
       "    .dataframe thead th {\n",
       "        text-align: right;\n",
       "    }\n",
       "</style>\n",
       "<table border=\"1\" class=\"dataframe\">\n",
       "  <thead>\n",
       "    <tr style=\"text-align: right;\">\n",
       "      <th></th>\n",
       "      <th>Factor 1</th>\n",
       "      <th>Factor 2</th>\n",
       "      <th>Factor 3</th>\n",
       "      <th>Factor 4</th>\n",
       "    </tr>\n",
       "  </thead>\n",
       "  <tbody>\n",
       "    <tr>\n",
       "      <th>epl_pov</th>\n",
       "      <td>0.875530</td>\n",
       "      <td>0.073385</td>\n",
       "      <td>0.185839</td>\n",
       "      <td>0.107400</td>\n",
       "    </tr>\n",
       "    <tr>\n",
       "      <th>epl_pci</th>\n",
       "      <td>0.845683</td>\n",
       "      <td>0.212387</td>\n",
       "      <td>0.088890</td>\n",
       "      <td>0.117645</td>\n",
       "    </tr>\n",
       "    <tr>\n",
       "      <th>epl_nohsdp</th>\n",
       "      <td>0.834903</td>\n",
       "      <td>0.004657</td>\n",
       "      <td>0.164406</td>\n",
       "      <td>0.132757</td>\n",
       "    </tr>\n",
       "    <tr>\n",
       "      <th>epl_unemp</th>\n",
       "      <td>0.681600</td>\n",
       "      <td>0.021018</td>\n",
       "      <td>0.201818</td>\n",
       "      <td>0.020273</td>\n",
       "    </tr>\n",
       "  </tbody>\n",
       "</table>\n",
       "</div>"
      ],
      "text/plain": [
       "            Factor 1  Factor 2  Factor 3  Factor 4\n",
       "epl_pov     0.875530  0.073385  0.185839  0.107400\n",
       "epl_pci     0.845683  0.212387  0.088890  0.117645\n",
       "epl_nohsdp  0.834903  0.004657  0.164406  0.132757\n",
       "epl_unemp   0.681600  0.021018  0.201818  0.020273"
      ]
     },
     "metadata": {},
     "output_type": "display_data"
    },
    {
     "data": {
      "text/html": [
       "<div>\n",
       "<style scoped>\n",
       "    .dataframe tbody tr th:only-of-type {\n",
       "        vertical-align: middle;\n",
       "    }\n",
       "\n",
       "    .dataframe tbody tr th {\n",
       "        vertical-align: top;\n",
       "    }\n",
       "\n",
       "    .dataframe thead th {\n",
       "        text-align: right;\n",
       "    }\n",
       "</style>\n",
       "<table border=\"1\" class=\"dataframe\">\n",
       "  <thead>\n",
       "    <tr style=\"text-align: right;\">\n",
       "      <th></th>\n",
       "      <th>Factor 1</th>\n",
       "      <th>Factor 2</th>\n",
       "      <th>Factor 3</th>\n",
       "      <th>Factor 4</th>\n",
       "    </tr>\n",
       "  </thead>\n",
       "  <tbody>\n",
       "    <tr>\n",
       "      <th>epl_age65</th>\n",
       "      <td>0.125078</td>\n",
       "      <td>0.742537</td>\n",
       "      <td>0.008761</td>\n",
       "      <td>0.145386</td>\n",
       "    </tr>\n",
       "    <tr>\n",
       "      <th>epl_limeng</th>\n",
       "      <td>0.086201</td>\n",
       "      <td>0.641075</td>\n",
       "      <td>0.045577</td>\n",
       "      <td>0.455423</td>\n",
       "    </tr>\n",
       "    <tr>\n",
       "      <th>epl_age17</th>\n",
       "      <td>0.138272</td>\n",
       "      <td>0.631748</td>\n",
       "      <td>0.638413</td>\n",
       "      <td>0.429690</td>\n",
       "    </tr>\n",
       "    <tr>\n",
       "      <th>epl_minrty</th>\n",
       "      <td>0.462329</td>\n",
       "      <td>0.603731</td>\n",
       "      <td>0.079626</td>\n",
       "      <td>0.298361</td>\n",
       "    </tr>\n",
       "  </tbody>\n",
       "</table>\n",
       "</div>"
      ],
      "text/plain": [
       "            Factor 1  Factor 2  Factor 3  Factor 4\n",
       "epl_age65   0.125078  0.742537  0.008761  0.145386\n",
       "epl_limeng  0.086201  0.641075  0.045577  0.455423\n",
       "epl_age17   0.138272  0.631748  0.638413  0.429690\n",
       "epl_minrty  0.462329  0.603731  0.079626  0.298361"
      ]
     },
     "metadata": {},
     "output_type": "display_data"
    },
    {
     "data": {
      "text/html": [
       "<div>\n",
       "<style scoped>\n",
       "    .dataframe tbody tr th:only-of-type {\n",
       "        vertical-align: middle;\n",
       "    }\n",
       "\n",
       "    .dataframe tbody tr th {\n",
       "        vertical-align: top;\n",
       "    }\n",
       "\n",
       "    .dataframe thead th {\n",
       "        text-align: right;\n",
       "    }\n",
       "</style>\n",
       "<table border=\"1\" class=\"dataframe\">\n",
       "  <thead>\n",
       "    <tr style=\"text-align: right;\">\n",
       "      <th></th>\n",
       "      <th>Factor 1</th>\n",
       "      <th>Factor 2</th>\n",
       "      <th>Factor 3</th>\n",
       "      <th>Factor 4</th>\n",
       "    </tr>\n",
       "  </thead>\n",
       "  <tbody>\n",
       "    <tr>\n",
       "      <th>epl_age17</th>\n",
       "      <td>0.138272</td>\n",
       "      <td>0.631748</td>\n",
       "      <td>0.638413</td>\n",
       "      <td>0.429690</td>\n",
       "    </tr>\n",
       "    <tr>\n",
       "      <th>epl_noveh</th>\n",
       "      <td>0.519696</td>\n",
       "      <td>0.082061</td>\n",
       "      <td>0.516634</td>\n",
       "      <td>0.180491</td>\n",
       "    </tr>\n",
       "    <tr>\n",
       "      <th>epl_munit</th>\n",
       "      <td>0.338475</td>\n",
       "      <td>0.548907</td>\n",
       "      <td>0.473428</td>\n",
       "      <td>0.074395</td>\n",
       "    </tr>\n",
       "    <tr>\n",
       "      <th>epl_groupq</th>\n",
       "      <td>0.113676</td>\n",
       "      <td>0.035562</td>\n",
       "      <td>0.412561</td>\n",
       "      <td>0.013632</td>\n",
       "    </tr>\n",
       "  </tbody>\n",
       "</table>\n",
       "</div>"
      ],
      "text/plain": [
       "            Factor 1  Factor 2  Factor 3  Factor 4\n",
       "epl_age17   0.138272  0.631748  0.638413  0.429690\n",
       "epl_noveh   0.519696  0.082061  0.516634  0.180491\n",
       "epl_munit   0.338475  0.548907  0.473428  0.074395\n",
       "epl_groupq  0.113676  0.035562  0.412561  0.013632"
      ]
     },
     "metadata": {},
     "output_type": "display_data"
    },
    {
     "data": {
      "text/html": [
       "<div>\n",
       "<style scoped>\n",
       "    .dataframe tbody tr th:only-of-type {\n",
       "        vertical-align: middle;\n",
       "    }\n",
       "\n",
       "    .dataframe tbody tr th {\n",
       "        vertical-align: top;\n",
       "    }\n",
       "\n",
       "    .dataframe thead th {\n",
       "        text-align: right;\n",
       "    }\n",
       "</style>\n",
       "<table border=\"1\" class=\"dataframe\">\n",
       "  <thead>\n",
       "    <tr style=\"text-align: right;\">\n",
       "      <th></th>\n",
       "      <th>Factor 1</th>\n",
       "      <th>Factor 2</th>\n",
       "      <th>Factor 3</th>\n",
       "      <th>Factor 4</th>\n",
       "    </tr>\n",
       "  </thead>\n",
       "  <tbody>\n",
       "    <tr>\n",
       "      <th>epl_limeng</th>\n",
       "      <td>0.086201</td>\n",
       "      <td>0.641075</td>\n",
       "      <td>0.045577</td>\n",
       "      <td>0.455423</td>\n",
       "    </tr>\n",
       "    <tr>\n",
       "      <th>epl_age17</th>\n",
       "      <td>0.138272</td>\n",
       "      <td>0.631748</td>\n",
       "      <td>0.638413</td>\n",
       "      <td>0.429690</td>\n",
       "    </tr>\n",
       "    <tr>\n",
       "      <th>epl_minrty</th>\n",
       "      <td>0.462329</td>\n",
       "      <td>0.603731</td>\n",
       "      <td>0.079626</td>\n",
       "      <td>0.298361</td>\n",
       "    </tr>\n",
       "    <tr>\n",
       "      <th>epl_sngpnt</th>\n",
       "      <td>0.521689</td>\n",
       "      <td>0.453339</td>\n",
       "      <td>0.128832</td>\n",
       "      <td>0.255370</td>\n",
       "    </tr>\n",
       "  </tbody>\n",
       "</table>\n",
       "</div>"
      ],
      "text/plain": [
       "            Factor 1  Factor 2  Factor 3  Factor 4\n",
       "epl_limeng  0.086201  0.641075  0.045577  0.455423\n",
       "epl_age17   0.138272  0.631748  0.638413  0.429690\n",
       "epl_minrty  0.462329  0.603731  0.079626  0.298361\n",
       "epl_sngpnt  0.521689  0.453339  0.128832  0.255370"
      ]
     },
     "metadata": {},
     "output_type": "display_data"
    },
    {
     "data": {
      "application/javascript": [
       "\n",
       "            setTimeout(function() {\n",
       "                var nbb_cell_id = 179;\n",
       "                var nbb_unformatted_code = \"loadings = pd.DataFrame(model.loadings, index=FA_vars)\\ncolNames = [\\\"Factor 1\\\", \\\"Factor 2\\\", \\\"Factor 3\\\", \\\"Factor 4\\\"]  # , \\\"Factor 5\\\"]\\nloadings.columns = colNames\\n\\ndisplay(loadings.abs())\\n\\nfor i in colNames:\\n    display(loadings.abs().nlargest(4, i))\";\n",
       "                var nbb_formatted_code = \"loadings = pd.DataFrame(model.loadings, index=FA_vars)\\ncolNames = [\\\"Factor 1\\\", \\\"Factor 2\\\", \\\"Factor 3\\\", \\\"Factor 4\\\"]  # , \\\"Factor 5\\\"]\\nloadings.columns = colNames\\n\\ndisplay(loadings.abs())\\n\\nfor i in colNames:\\n    display(loadings.abs().nlargest(4, i))\";\n",
       "                var nbb_cells = Jupyter.notebook.get_cells();\n",
       "                for (var i = 0; i < nbb_cells.length; ++i) {\n",
       "                    if (nbb_cells[i].input_prompt_number == nbb_cell_id) {\n",
       "                        if (nbb_cells[i].get_text() == nbb_unformatted_code) {\n",
       "                             nbb_cells[i].set_text(nbb_formatted_code);\n",
       "                        }\n",
       "                        break;\n",
       "                    }\n",
       "                }\n",
       "            }, 500);\n",
       "            "
      ],
      "text/plain": [
       "<IPython.core.display.Javascript object>"
      ]
     },
     "metadata": {},
     "output_type": "display_data"
    }
   ],
   "source": [
    "loadings = pd.DataFrame(model.loadings, index=FA_vars)\n",
    "colNames = [\"Factor 1\", \"Factor 2\", \"Factor 3\", \"Factor 4\"]  # , \"Factor 5\"]\n",
    "loadings.columns = colNames\n",
    "\n",
    "display(loadings.abs())\n",
    "\n",
    "for i in colNames:\n",
    "    display(loadings.abs().nlargest(4, i))"
   ]
  },
  {
   "cell_type": "markdown",
   "id": "2e50e981",
   "metadata": {},
   "source": [
    "We choose the four highest loadings for each individual factor. In the first factor, we have epl_pov, epl_pci, epl_nohsdp, and epl_unemp. These variables are the percentile percentage of persons below poverty estimate, the percentile per capita income estimate, persons with no high school diploma above the age of 25, and percentage of civilian (age 16+) unemployed estimate. We can think of the first factor as a measure of intensity of low socioeconomic status. \n",
    "\n",
    "The second factor takes into account the percentile percentage of people who are 65 or older, those above the age of five who speak English \"less then well\", percentile percentage of persons above the age of 17, and percentile percentage minority (all but white, non-hispanic). With this factor, we can infer that this is encompassing the population of adult minorities who are not fluent in English. \n",
    "\n",
    "In our third factor, we can see the largest influence of our loadings comes from three variables, percentile percentage of those who do not own a vehicle, those who live in a housing structure with 10 or more units, and those who come from an institutional group quarter. Institutional group quarters include quarters such as correctional facilities, nursing homes, or mental hospitals. We can see this factor as a measure of legal incomptency, measuring both the ability and eligibility to have legal freedoms. NOTE: We do see a repeat of variable for above age 17, but this is implied. \n",
    "(https://legalbeagle.com/5750519-prove-mental-health-problems-court.html)\n",
    "\n",
    "Our final factor takes into account two variables, those who are the age of 17 or younger and are single parent households with children under 18. This factor we can conclude summarizes those who are underage, minority, single parents. "
   ]
  },
  {
   "cell_type": "code",
   "execution_count": 145,
   "id": "8e49e2ca",
   "metadata": {},
   "outputs": [
    {
     "data": {
      "application/javascript": [
       "\n",
       "            setTimeout(function() {\n",
       "                var nbb_cell_id = 145;\n",
       "                var nbb_unformatted_code = \"fig = px.line(\\n    np.cumsum(model.eigenvals) / np.sum(model.eigenvals),\\n    labels={\\n        \\\"index\\\": \\\"Number of Components\\\",\\n        \\\"value\\\": \\\"Cumulative Explained Variance\\\",\\n        \\\"variable\\\": \\\"Variance Explained\\\",\\n    },\\n    title=\\\"Cumulative Explained Variance vs Number of Components\\\",\\n)\\n# fig.show()\";\n",
       "                var nbb_formatted_code = \"fig = px.line(\\n    np.cumsum(model.eigenvals) / np.sum(model.eigenvals),\\n    labels={\\n        \\\"index\\\": \\\"Number of Components\\\",\\n        \\\"value\\\": \\\"Cumulative Explained Variance\\\",\\n        \\\"variable\\\": \\\"Variance Explained\\\",\\n    },\\n    title=\\\"Cumulative Explained Variance vs Number of Components\\\",\\n)\\n# fig.show()\";\n",
       "                var nbb_cells = Jupyter.notebook.get_cells();\n",
       "                for (var i = 0; i < nbb_cells.length; ++i) {\n",
       "                    if (nbb_cells[i].input_prompt_number == nbb_cell_id) {\n",
       "                        if (nbb_cells[i].get_text() == nbb_unformatted_code) {\n",
       "                             nbb_cells[i].set_text(nbb_formatted_code);\n",
       "                        }\n",
       "                        break;\n",
       "                    }\n",
       "                }\n",
       "            }, 500);\n",
       "            "
      ],
      "text/plain": [
       "<IPython.core.display.Javascript object>"
      ]
     },
     "metadata": {},
     "output_type": "display_data"
    }
   ],
   "source": [
    "# fig = px.line(\n",
    "#     np.cumsum(model.eigenvals) / np.sum(model.eigenvals),\n",
    "#     labels={\n",
    "#         \"index\": \"Number of Components\",\n",
    "#         \"value\": \"Cumulative Explained Variance\",\n",
    "#         \"variable\": \"Variance Explained\",\n",
    "#     },\n",
    "#     title=\"Cumulative Explained Variance vs Number of Components\",\n",
    "# )\n",
    "# fig.show()"
   ]
  },
  {
   "cell_type": "code",
   "execution_count": 146,
   "id": "5dbf0514",
   "metadata": {},
   "outputs": [
    {
     "data": {
      "text/html": [
       "<div>\n",
       "<style scoped>\n",
       "    .dataframe tbody tr th:only-of-type {\n",
       "        vertical-align: middle;\n",
       "    }\n",
       "\n",
       "    .dataframe tbody tr th {\n",
       "        vertical-align: top;\n",
       "    }\n",
       "\n",
       "    .dataframe thead th {\n",
       "        text-align: right;\n",
       "    }\n",
       "</style>\n",
       "<table border=\"1\" class=\"dataframe\">\n",
       "  <thead>\n",
       "    <tr style=\"text-align: right;\">\n",
       "      <th></th>\n",
       "      <th>state</th>\n",
       "      <th>county</th>\n",
       "      <th>epl_pov</th>\n",
       "      <th>epl_pci</th>\n",
       "      <th>epl_nohsdp</th>\n",
       "      <th>epl_unemp</th>\n",
       "      <th>epl_limeng</th>\n",
       "      <th>epl_age17</th>\n",
       "      <th>epl_minrty</th>\n",
       "      <th>epl_munit</th>\n",
       "      <th>epl_noveh</th>\n",
       "      <th>epl_groupq</th>\n",
       "      <th>epl_sngpnt</th>\n",
       "    </tr>\n",
       "  </thead>\n",
       "  <tbody>\n",
       "    <tr>\n",
       "      <th>0</th>\n",
       "      <td>ALABAMA</td>\n",
       "      <td>Autauga</td>\n",
       "      <td>0.147034</td>\n",
       "      <td>-0.741168</td>\n",
       "      <td>-0.199502</td>\n",
       "      <td>-0.758697</td>\n",
       "      <td>0.104862</td>\n",
       "      <td>0.892276</td>\n",
       "      <td>0.466278</td>\n",
       "      <td>0.367873</td>\n",
       "      <td>-0.033367</td>\n",
       "      <td>-1.149022</td>\n",
       "      <td>-0.397494</td>\n",
       "    </tr>\n",
       "    <tr>\n",
       "      <th>1</th>\n",
       "      <td>ALABAMA</td>\n",
       "      <td>Baldwin</td>\n",
       "      <td>-0.946418</td>\n",
       "      <td>-1.019243</td>\n",
       "      <td>-0.609932</td>\n",
       "      <td>-0.628783</td>\n",
       "      <td>-0.401806</td>\n",
       "      <td>-0.218058</td>\n",
       "      <td>0.059334</td>\n",
       "      <td>1.633605</td>\n",
       "      <td>-1.247522</td>\n",
       "      <td>-0.640892</td>\n",
       "      <td>-1.227960</td>\n",
       "    </tr>\n",
       "    <tr>\n",
       "      <th>2</th>\n",
       "      <td>ALABAMA</td>\n",
       "      <td>Barbour</td>\n",
       "      <td>1.609811</td>\n",
       "      <td>1.551660</td>\n",
       "      <td>1.632922</td>\n",
       "      <td>1.477477</td>\n",
       "      <td>0.746553</td>\n",
       "      <td>-0.563003</td>\n",
       "      <td>1.374474</td>\n",
       "      <td>-0.865325</td>\n",
       "      <td>1.291572</td>\n",
       "      <td>1.547842</td>\n",
       "      <td>1.565740</td>\n",
       "    </tr>\n",
       "    <tr>\n",
       "      <th>3</th>\n",
       "      <td>ALABAMA</td>\n",
       "      <td>Bibb</td>\n",
       "      <td>-0.188748</td>\n",
       "      <td>1.380590</td>\n",
       "      <td>0.821045</td>\n",
       "      <td>1.020706</td>\n",
       "      <td>-0.835999</td>\n",
       "      <td>-0.729588</td>\n",
       "      <td>0.484932</td>\n",
       "      <td>-0.214309</td>\n",
       "      <td>0.171983</td>\n",
       "      <td>1.467862</td>\n",
       "      <td>-1.119007</td>\n",
       "    </tr>\n",
       "    <tr>\n",
       "      <th>4</th>\n",
       "      <td>ALABAMA</td>\n",
       "      <td>Blount</td>\n",
       "      <td>-0.087425</td>\n",
       "      <td>0.886771</td>\n",
       "      <td>1.185181</td>\n",
       "      <td>-0.804996</td>\n",
       "      <td>0.785604</td>\n",
       "      <td>0.503348</td>\n",
       "      <td>-0.269538</td>\n",
       "      <td>-1.174909</td>\n",
       "      <td>-0.870644</td>\n",
       "      <td>-1.271545</td>\n",
       "      <td>-0.684924</td>\n",
       "    </tr>\n",
       "    <tr>\n",
       "      <th>...</th>\n",
       "      <td>...</td>\n",
       "      <td>...</td>\n",
       "      <td>...</td>\n",
       "      <td>...</td>\n",
       "      <td>...</td>\n",
       "      <td>...</td>\n",
       "      <td>...</td>\n",
       "      <td>...</td>\n",
       "      <td>...</td>\n",
       "      <td>...</td>\n",
       "      <td>...</td>\n",
       "      <td>...</td>\n",
       "      <td>...</td>\n",
       "    </tr>\n",
       "    <tr>\n",
       "      <th>3136</th>\n",
       "      <td>WYOMING</td>\n",
       "      <td>Sublette</td>\n",
       "      <td>-0.639338</td>\n",
       "      <td>-1.213169</td>\n",
       "      <td>-0.796837</td>\n",
       "      <td>-0.155773</td>\n",
       "      <td>0.746553</td>\n",
       "      <td>1.453678</td>\n",
       "      <td>0.239660</td>\n",
       "      <td>0.809646</td>\n",
       "      <td>-1.532251</td>\n",
       "      <td>-0.789281</td>\n",
       "      <td>0.946954</td>\n",
       "    </tr>\n",
       "    <tr>\n",
       "      <th>3137</th>\n",
       "      <td>WYOMING</td>\n",
       "      <td>Sweetwater</td>\n",
       "      <td>-1.540174</td>\n",
       "      <td>-1.713914</td>\n",
       "      <td>-1.529254</td>\n",
       "      <td>-1.615920</td>\n",
       "      <td>1.391223</td>\n",
       "      <td>-1.193670</td>\n",
       "      <td>0.142933</td>\n",
       "      <td>1.084299</td>\n",
       "      <td>-1.532251</td>\n",
       "      <td>0.905278</td>\n",
       "      <td>-0.942607</td>\n",
       "    </tr>\n",
       "    <tr>\n",
       "      <th>3138</th>\n",
       "      <td>WYOMING</td>\n",
       "      <td>Teton</td>\n",
       "      <td>-0.534558</td>\n",
       "      <td>-0.192981</td>\n",
       "      <td>-1.253215</td>\n",
       "      <td>0.377011</td>\n",
       "      <td>-0.051011</td>\n",
       "      <td>1.638964</td>\n",
       "      <td>-0.293720</td>\n",
       "      <td>0.859645</td>\n",
       "      <td>-1.025606</td>\n",
       "      <td>-0.789281</td>\n",
       "      <td>-0.787305</td>\n",
       "    </tr>\n",
       "    <tr>\n",
       "      <th>3139</th>\n",
       "      <td>WYOMING</td>\n",
       "      <td>Uinta</td>\n",
       "      <td>-0.558765</td>\n",
       "      <td>-0.334269</td>\n",
       "      <td>-0.408517</td>\n",
       "      <td>0.437476</td>\n",
       "      <td>-0.835999</td>\n",
       "      <td>0.751320</td>\n",
       "      <td>0.118752</td>\n",
       "      <td>-1.022172</td>\n",
       "      <td>-0.423705</td>\n",
       "      <td>0.031962</td>\n",
       "      <td>-0.684924</td>\n",
       "    </tr>\n",
       "    <tr>\n",
       "      <th>3140</th>\n",
       "      <td>WYOMING</td>\n",
       "      <td>Washakie</td>\n",
       "      <td>0.611803</td>\n",
       "      <td>-0.703768</td>\n",
       "      <td>-1.086003</td>\n",
       "      <td>-1.077607</td>\n",
       "      <td>0.230288</td>\n",
       "      <td>-0.531140</td>\n",
       "      <td>-0.653336</td>\n",
       "      <td>-0.125954</td>\n",
       "      <td>-1.488420</td>\n",
       "      <td>1.099272</td>\n",
       "      <td>-0.684924</td>\n",
       "    </tr>\n",
       "  </tbody>\n",
       "</table>\n",
       "<p>3140 rows × 13 columns</p>\n",
       "</div>"
      ],
      "text/plain": [
       "        state      county   epl_pov   epl_pci  epl_nohsdp  epl_unemp  \\\n",
       "0     ALABAMA     Autauga  0.147034 -0.741168   -0.199502  -0.758697   \n",
       "1     ALABAMA     Baldwin -0.946418 -1.019243   -0.609932  -0.628783   \n",
       "2     ALABAMA     Barbour  1.609811  1.551660    1.632922   1.477477   \n",
       "3     ALABAMA        Bibb -0.188748  1.380590    0.821045   1.020706   \n",
       "4     ALABAMA      Blount -0.087425  0.886771    1.185181  -0.804996   \n",
       "...       ...         ...       ...       ...         ...        ...   \n",
       "3136  WYOMING    Sublette -0.639338 -1.213169   -0.796837  -0.155773   \n",
       "3137  WYOMING  Sweetwater -1.540174 -1.713914   -1.529254  -1.615920   \n",
       "3138  WYOMING       Teton -0.534558 -0.192981   -1.253215   0.377011   \n",
       "3139  WYOMING       Uinta -0.558765 -0.334269   -0.408517   0.437476   \n",
       "3140  WYOMING    Washakie  0.611803 -0.703768   -1.086003  -1.077607   \n",
       "\n",
       "      epl_limeng  epl_age17  epl_minrty  epl_munit  epl_noveh  epl_groupq  \\\n",
       "0       0.104862   0.892276    0.466278   0.367873  -0.033367   -1.149022   \n",
       "1      -0.401806  -0.218058    0.059334   1.633605  -1.247522   -0.640892   \n",
       "2       0.746553  -0.563003    1.374474  -0.865325   1.291572    1.547842   \n",
       "3      -0.835999  -0.729588    0.484932  -0.214309   0.171983    1.467862   \n",
       "4       0.785604   0.503348   -0.269538  -1.174909  -0.870644   -1.271545   \n",
       "...          ...        ...         ...        ...        ...         ...   \n",
       "3136    0.746553   1.453678    0.239660   0.809646  -1.532251   -0.789281   \n",
       "3137    1.391223  -1.193670    0.142933   1.084299  -1.532251    0.905278   \n",
       "3138   -0.051011   1.638964   -0.293720   0.859645  -1.025606   -0.789281   \n",
       "3139   -0.835999   0.751320    0.118752  -1.022172  -0.423705    0.031962   \n",
       "3140    0.230288  -0.531140   -0.653336  -0.125954  -1.488420    1.099272   \n",
       "\n",
       "      epl_sngpnt  \n",
       "0      -0.397494  \n",
       "1      -1.227960  \n",
       "2       1.565740  \n",
       "3      -1.119007  \n",
       "4      -0.684924  \n",
       "...          ...  \n",
       "3136    0.946954  \n",
       "3137   -0.942607  \n",
       "3138   -0.787305  \n",
       "3139   -0.684924  \n",
       "3140   -0.684924  \n",
       "\n",
       "[3140 rows x 13 columns]"
      ]
     },
     "metadata": {},
     "output_type": "display_data"
    },
    {
     "data": {
      "application/javascript": [
       "\n",
       "            setTimeout(function() {\n",
       "                var nbb_cell_id = 146;\n",
       "                var nbb_unformatted_code = \"# np.cumsum(model.eigenvals)  / np.sum(model.eigenvals)\\ndataRed = df[\\n    [\\n        \\\"epl_pov\\\",\\n        \\\"epl_pci\\\",\\n        \\\"epl_nohsdp\\\",\\n        \\\"epl_unemp\\\",\\n        \\\"epl_limeng\\\",\\n        \\\"epl_age17\\\",\\n        \\\"epl_minrty\\\",\\n        \\\"epl_munit\\\",\\n        \\\"epl_noveh\\\",\\n        \\\"epl_groupq\\\",\\n        \\\"epl_sngpnt\\\",\\n    ]\\n]\\ndataFinal = pd.concat([df.iloc[:, 0:2], dataRed], axis = 1)\\ndisplay(dataFinal)\";\n",
       "                var nbb_formatted_code = \"# np.cumsum(model.eigenvals)  / np.sum(model.eigenvals)\\ndataRed = df[\\n    [\\n        \\\"epl_pov\\\",\\n        \\\"epl_pci\\\",\\n        \\\"epl_nohsdp\\\",\\n        \\\"epl_unemp\\\",\\n        \\\"epl_limeng\\\",\\n        \\\"epl_age17\\\",\\n        \\\"epl_minrty\\\",\\n        \\\"epl_munit\\\",\\n        \\\"epl_noveh\\\",\\n        \\\"epl_groupq\\\",\\n        \\\"epl_sngpnt\\\",\\n    ]\\n]\\ndataFinal = pd.concat([df.iloc[:, 0:2], dataRed], axis=1)\\ndisplay(dataFinal)\";\n",
       "                var nbb_cells = Jupyter.notebook.get_cells();\n",
       "                for (var i = 0; i < nbb_cells.length; ++i) {\n",
       "                    if (nbb_cells[i].input_prompt_number == nbb_cell_id) {\n",
       "                        if (nbb_cells[i].get_text() == nbb_unformatted_code) {\n",
       "                             nbb_cells[i].set_text(nbb_formatted_code);\n",
       "                        }\n",
       "                        break;\n",
       "                    }\n",
       "                }\n",
       "            }, 500);\n",
       "            "
      ],
      "text/plain": [
       "<IPython.core.display.Javascript object>"
      ]
     },
     "metadata": {},
     "output_type": "display_data"
    }
   ],
   "source": [
    "# np.cumsum(model.eigenvals)  / np.sum(model.eigenvals)\n",
    "dataRed = df[\n",
    "    [\n",
    "        \"epl_pov\",\n",
    "        \"epl_pci\",\n",
    "        \"epl_nohsdp\",\n",
    "        \"epl_unemp\",\n",
    "        \"epl_limeng\",\n",
    "        \"epl_age17\",\n",
    "        \"epl_minrty\",\n",
    "        \"epl_munit\",\n",
    "        \"epl_noveh\",\n",
    "        \"epl_groupq\",\n",
    "        \"epl_sngpnt\",\n",
    "    ]\n",
    "]\n",
    "dataFinal = pd.concat([df.iloc[:, 0:2], dataRed], axis = 1)\n",
    "display(dataFinal)\n"
   ]
  },
  {
   "cell_type": "code",
   "execution_count": 175,
   "id": "6cdd698c",
   "metadata": {},
   "outputs": [
    {
     "data": {
      "application/vnd.plotly.v1+json": {
       "config": {
        "plotlyServerURL": "https://plot.ly"
       },
       "data": [
        {
         "coloraxis": "coloraxis",
         "hovertemplate": "x: %{x}<br>y: %{y}<br>color: %{z}<extra></extra>",
         "name": "0",
         "texttemplate": "%{z}",
         "type": "heatmap",
         "x": [
          "Factor 1",
          "Factor 2",
          "Factor 3",
          "Factor 4"
         ],
         "xaxis": "x",
         "y": [
          "Factor 1",
          "Factor 2",
          "Factor 3",
          "Factor 4"
         ],
         "yaxis": "y",
         "z": [
          [
           1,
           -0.26033522477305987,
           -0.15192747785540534,
           0.08474140440018828
          ],
          [
           -0.26033522477305987,
           1,
           -0.03185693362530139,
           0.017769012777668278
          ],
          [
           -0.15192747785540534,
           -0.03185693362530139,
           1,
           0.010369711965197566
          ],
          [
           0.08474140440018828,
           0.017769012777668278,
           0.010369711965197566,
           1
          ]
         ]
        }
       ],
       "layout": {
        "coloraxis": {
         "colorscale": [
          [
           0,
           "#0d0887"
          ],
          [
           0.1111111111111111,
           "#46039f"
          ],
          [
           0.2222222222222222,
           "#7201a8"
          ],
          [
           0.3333333333333333,
           "#9c179e"
          ],
          [
           0.4444444444444444,
           "#bd3786"
          ],
          [
           0.5555555555555556,
           "#d8576b"
          ],
          [
           0.6666666666666666,
           "#ed7953"
          ],
          [
           0.7777777777777778,
           "#fb9f3a"
          ],
          [
           0.8888888888888888,
           "#fdca26"
          ],
          [
           1,
           "#f0f921"
          ]
         ]
        },
        "margin": {
         "t": 60
        },
        "template": {
         "data": {
          "bar": [
           {
            "error_x": {
             "color": "#2a3f5f"
            },
            "error_y": {
             "color": "#2a3f5f"
            },
            "marker": {
             "line": {
              "color": "#E5ECF6",
              "width": 0.5
             },
             "pattern": {
              "fillmode": "overlay",
              "size": 10,
              "solidity": 0.2
             }
            },
            "type": "bar"
           }
          ],
          "barpolar": [
           {
            "marker": {
             "line": {
              "color": "#E5ECF6",
              "width": 0.5
             },
             "pattern": {
              "fillmode": "overlay",
              "size": 10,
              "solidity": 0.2
             }
            },
            "type": "barpolar"
           }
          ],
          "carpet": [
           {
            "aaxis": {
             "endlinecolor": "#2a3f5f",
             "gridcolor": "white",
             "linecolor": "white",
             "minorgridcolor": "white",
             "startlinecolor": "#2a3f5f"
            },
            "baxis": {
             "endlinecolor": "#2a3f5f",
             "gridcolor": "white",
             "linecolor": "white",
             "minorgridcolor": "white",
             "startlinecolor": "#2a3f5f"
            },
            "type": "carpet"
           }
          ],
          "choropleth": [
           {
            "colorbar": {
             "outlinewidth": 0,
             "ticks": ""
            },
            "type": "choropleth"
           }
          ],
          "contour": [
           {
            "colorbar": {
             "outlinewidth": 0,
             "ticks": ""
            },
            "colorscale": [
             [
              0,
              "#0d0887"
             ],
             [
              0.1111111111111111,
              "#46039f"
             ],
             [
              0.2222222222222222,
              "#7201a8"
             ],
             [
              0.3333333333333333,
              "#9c179e"
             ],
             [
              0.4444444444444444,
              "#bd3786"
             ],
             [
              0.5555555555555556,
              "#d8576b"
             ],
             [
              0.6666666666666666,
              "#ed7953"
             ],
             [
              0.7777777777777778,
              "#fb9f3a"
             ],
             [
              0.8888888888888888,
              "#fdca26"
             ],
             [
              1,
              "#f0f921"
             ]
            ],
            "type": "contour"
           }
          ],
          "contourcarpet": [
           {
            "colorbar": {
             "outlinewidth": 0,
             "ticks": ""
            },
            "type": "contourcarpet"
           }
          ],
          "heatmap": [
           {
            "colorbar": {
             "outlinewidth": 0,
             "ticks": ""
            },
            "colorscale": [
             [
              0,
              "#0d0887"
             ],
             [
              0.1111111111111111,
              "#46039f"
             ],
             [
              0.2222222222222222,
              "#7201a8"
             ],
             [
              0.3333333333333333,
              "#9c179e"
             ],
             [
              0.4444444444444444,
              "#bd3786"
             ],
             [
              0.5555555555555556,
              "#d8576b"
             ],
             [
              0.6666666666666666,
              "#ed7953"
             ],
             [
              0.7777777777777778,
              "#fb9f3a"
             ],
             [
              0.8888888888888888,
              "#fdca26"
             ],
             [
              1,
              "#f0f921"
             ]
            ],
            "type": "heatmap"
           }
          ],
          "heatmapgl": [
           {
            "colorbar": {
             "outlinewidth": 0,
             "ticks": ""
            },
            "colorscale": [
             [
              0,
              "#0d0887"
             ],
             [
              0.1111111111111111,
              "#46039f"
             ],
             [
              0.2222222222222222,
              "#7201a8"
             ],
             [
              0.3333333333333333,
              "#9c179e"
             ],
             [
              0.4444444444444444,
              "#bd3786"
             ],
             [
              0.5555555555555556,
              "#d8576b"
             ],
             [
              0.6666666666666666,
              "#ed7953"
             ],
             [
              0.7777777777777778,
              "#fb9f3a"
             ],
             [
              0.8888888888888888,
              "#fdca26"
             ],
             [
              1,
              "#f0f921"
             ]
            ],
            "type": "heatmapgl"
           }
          ],
          "histogram": [
           {
            "marker": {
             "pattern": {
              "fillmode": "overlay",
              "size": 10,
              "solidity": 0.2
             }
            },
            "type": "histogram"
           }
          ],
          "histogram2d": [
           {
            "colorbar": {
             "outlinewidth": 0,
             "ticks": ""
            },
            "colorscale": [
             [
              0,
              "#0d0887"
             ],
             [
              0.1111111111111111,
              "#46039f"
             ],
             [
              0.2222222222222222,
              "#7201a8"
             ],
             [
              0.3333333333333333,
              "#9c179e"
             ],
             [
              0.4444444444444444,
              "#bd3786"
             ],
             [
              0.5555555555555556,
              "#d8576b"
             ],
             [
              0.6666666666666666,
              "#ed7953"
             ],
             [
              0.7777777777777778,
              "#fb9f3a"
             ],
             [
              0.8888888888888888,
              "#fdca26"
             ],
             [
              1,
              "#f0f921"
             ]
            ],
            "type": "histogram2d"
           }
          ],
          "histogram2dcontour": [
           {
            "colorbar": {
             "outlinewidth": 0,
             "ticks": ""
            },
            "colorscale": [
             [
              0,
              "#0d0887"
             ],
             [
              0.1111111111111111,
              "#46039f"
             ],
             [
              0.2222222222222222,
              "#7201a8"
             ],
             [
              0.3333333333333333,
              "#9c179e"
             ],
             [
              0.4444444444444444,
              "#bd3786"
             ],
             [
              0.5555555555555556,
              "#d8576b"
             ],
             [
              0.6666666666666666,
              "#ed7953"
             ],
             [
              0.7777777777777778,
              "#fb9f3a"
             ],
             [
              0.8888888888888888,
              "#fdca26"
             ],
             [
              1,
              "#f0f921"
             ]
            ],
            "type": "histogram2dcontour"
           }
          ],
          "mesh3d": [
           {
            "colorbar": {
             "outlinewidth": 0,
             "ticks": ""
            },
            "type": "mesh3d"
           }
          ],
          "parcoords": [
           {
            "line": {
             "colorbar": {
              "outlinewidth": 0,
              "ticks": ""
             }
            },
            "type": "parcoords"
           }
          ],
          "pie": [
           {
            "automargin": true,
            "type": "pie"
           }
          ],
          "scatter": [
           {
            "marker": {
             "colorbar": {
              "outlinewidth": 0,
              "ticks": ""
             }
            },
            "type": "scatter"
           }
          ],
          "scatter3d": [
           {
            "line": {
             "colorbar": {
              "outlinewidth": 0,
              "ticks": ""
             }
            },
            "marker": {
             "colorbar": {
              "outlinewidth": 0,
              "ticks": ""
             }
            },
            "type": "scatter3d"
           }
          ],
          "scattercarpet": [
           {
            "marker": {
             "colorbar": {
              "outlinewidth": 0,
              "ticks": ""
             }
            },
            "type": "scattercarpet"
           }
          ],
          "scattergeo": [
           {
            "marker": {
             "colorbar": {
              "outlinewidth": 0,
              "ticks": ""
             }
            },
            "type": "scattergeo"
           }
          ],
          "scattergl": [
           {
            "marker": {
             "colorbar": {
              "outlinewidth": 0,
              "ticks": ""
             }
            },
            "type": "scattergl"
           }
          ],
          "scattermapbox": [
           {
            "marker": {
             "colorbar": {
              "outlinewidth": 0,
              "ticks": ""
             }
            },
            "type": "scattermapbox"
           }
          ],
          "scatterpolar": [
           {
            "marker": {
             "colorbar": {
              "outlinewidth": 0,
              "ticks": ""
             }
            },
            "type": "scatterpolar"
           }
          ],
          "scatterpolargl": [
           {
            "marker": {
             "colorbar": {
              "outlinewidth": 0,
              "ticks": ""
             }
            },
            "type": "scatterpolargl"
           }
          ],
          "scatterternary": [
           {
            "marker": {
             "colorbar": {
              "outlinewidth": 0,
              "ticks": ""
             }
            },
            "type": "scatterternary"
           }
          ],
          "surface": [
           {
            "colorbar": {
             "outlinewidth": 0,
             "ticks": ""
            },
            "colorscale": [
             [
              0,
              "#0d0887"
             ],
             [
              0.1111111111111111,
              "#46039f"
             ],
             [
              0.2222222222222222,
              "#7201a8"
             ],
             [
              0.3333333333333333,
              "#9c179e"
             ],
             [
              0.4444444444444444,
              "#bd3786"
             ],
             [
              0.5555555555555556,
              "#d8576b"
             ],
             [
              0.6666666666666666,
              "#ed7953"
             ],
             [
              0.7777777777777778,
              "#fb9f3a"
             ],
             [
              0.8888888888888888,
              "#fdca26"
             ],
             [
              1,
              "#f0f921"
             ]
            ],
            "type": "surface"
           }
          ],
          "table": [
           {
            "cells": {
             "fill": {
              "color": "#EBF0F8"
             },
             "line": {
              "color": "white"
             }
            },
            "header": {
             "fill": {
              "color": "#C8D4E3"
             },
             "line": {
              "color": "white"
             }
            },
            "type": "table"
           }
          ]
         },
         "layout": {
          "annotationdefaults": {
           "arrowcolor": "#2a3f5f",
           "arrowhead": 0,
           "arrowwidth": 1
          },
          "autotypenumbers": "strict",
          "coloraxis": {
           "colorbar": {
            "outlinewidth": 0,
            "ticks": ""
           }
          },
          "colorscale": {
           "diverging": [
            [
             0,
             "#8e0152"
            ],
            [
             0.1,
             "#c51b7d"
            ],
            [
             0.2,
             "#de77ae"
            ],
            [
             0.3,
             "#f1b6da"
            ],
            [
             0.4,
             "#fde0ef"
            ],
            [
             0.5,
             "#f7f7f7"
            ],
            [
             0.6,
             "#e6f5d0"
            ],
            [
             0.7,
             "#b8e186"
            ],
            [
             0.8,
             "#7fbc41"
            ],
            [
             0.9,
             "#4d9221"
            ],
            [
             1,
             "#276419"
            ]
           ],
           "sequential": [
            [
             0,
             "#0d0887"
            ],
            [
             0.1111111111111111,
             "#46039f"
            ],
            [
             0.2222222222222222,
             "#7201a8"
            ],
            [
             0.3333333333333333,
             "#9c179e"
            ],
            [
             0.4444444444444444,
             "#bd3786"
            ],
            [
             0.5555555555555556,
             "#d8576b"
            ],
            [
             0.6666666666666666,
             "#ed7953"
            ],
            [
             0.7777777777777778,
             "#fb9f3a"
            ],
            [
             0.8888888888888888,
             "#fdca26"
            ],
            [
             1,
             "#f0f921"
            ]
           ],
           "sequentialminus": [
            [
             0,
             "#0d0887"
            ],
            [
             0.1111111111111111,
             "#46039f"
            ],
            [
             0.2222222222222222,
             "#7201a8"
            ],
            [
             0.3333333333333333,
             "#9c179e"
            ],
            [
             0.4444444444444444,
             "#bd3786"
            ],
            [
             0.5555555555555556,
             "#d8576b"
            ],
            [
             0.6666666666666666,
             "#ed7953"
            ],
            [
             0.7777777777777778,
             "#fb9f3a"
            ],
            [
             0.8888888888888888,
             "#fdca26"
            ],
            [
             1,
             "#f0f921"
            ]
           ]
          },
          "colorway": [
           "#636efa",
           "#EF553B",
           "#00cc96",
           "#ab63fa",
           "#FFA15A",
           "#19d3f3",
           "#FF6692",
           "#B6E880",
           "#FF97FF",
           "#FECB52"
          ],
          "font": {
           "color": "#2a3f5f"
          },
          "geo": {
           "bgcolor": "white",
           "lakecolor": "white",
           "landcolor": "#E5ECF6",
           "showlakes": true,
           "showland": true,
           "subunitcolor": "white"
          },
          "hoverlabel": {
           "align": "left"
          },
          "hovermode": "closest",
          "mapbox": {
           "style": "light"
          },
          "paper_bgcolor": "white",
          "plot_bgcolor": "#E5ECF6",
          "polar": {
           "angularaxis": {
            "gridcolor": "white",
            "linecolor": "white",
            "ticks": ""
           },
           "bgcolor": "#E5ECF6",
           "radialaxis": {
            "gridcolor": "white",
            "linecolor": "white",
            "ticks": ""
           }
          },
          "scene": {
           "xaxis": {
            "backgroundcolor": "#E5ECF6",
            "gridcolor": "white",
            "gridwidth": 2,
            "linecolor": "white",
            "showbackground": true,
            "ticks": "",
            "zerolinecolor": "white"
           },
           "yaxis": {
            "backgroundcolor": "#E5ECF6",
            "gridcolor": "white",
            "gridwidth": 2,
            "linecolor": "white",
            "showbackground": true,
            "ticks": "",
            "zerolinecolor": "white"
           },
           "zaxis": {
            "backgroundcolor": "#E5ECF6",
            "gridcolor": "white",
            "gridwidth": 2,
            "linecolor": "white",
            "showbackground": true,
            "ticks": "",
            "zerolinecolor": "white"
           }
          },
          "shapedefaults": {
           "line": {
            "color": "#2a3f5f"
           }
          },
          "ternary": {
           "aaxis": {
            "gridcolor": "white",
            "linecolor": "white",
            "ticks": ""
           },
           "baxis": {
            "gridcolor": "white",
            "linecolor": "white",
            "ticks": ""
           },
           "bgcolor": "#E5ECF6",
           "caxis": {
            "gridcolor": "white",
            "linecolor": "white",
            "ticks": ""
           }
          },
          "title": {
           "x": 0.05
          },
          "xaxis": {
           "automargin": true,
           "gridcolor": "white",
           "linecolor": "white",
           "ticks": "",
           "title": {
            "standoff": 15
           },
           "zerolinecolor": "white",
           "zerolinewidth": 2
          },
          "yaxis": {
           "automargin": true,
           "gridcolor": "white",
           "linecolor": "white",
           "ticks": "",
           "title": {
            "standoff": 15
           },
           "zerolinecolor": "white",
           "zerolinewidth": 2
          }
         }
        },
        "xaxis": {
         "anchor": "y",
         "constrain": "domain",
         "domain": [
          0,
          1
         ],
         "scaleanchor": "y",
         "side": "top"
        },
        "yaxis": {
         "anchor": "x",
         "autorange": "reversed",
         "constrain": "domain",
         "domain": [
          0,
          1
         ]
        }
       }
      },
      "text/html": [
       "<div>                            <div id=\"bb0b5c02-7ad6-4bb8-b8b1-804913759b54\" class=\"plotly-graph-div\" style=\"height:525px; width:100%;\"></div>            <script type=\"text/javascript\">                require([\"plotly\"], function(Plotly) {                    window.PLOTLYENV=window.PLOTLYENV || {};                                    if (document.getElementById(\"bb0b5c02-7ad6-4bb8-b8b1-804913759b54\")) {                    Plotly.newPlot(                        \"bb0b5c02-7ad6-4bb8-b8b1-804913759b54\",                        [{\"coloraxis\":\"coloraxis\",\"name\":\"0\",\"texttemplate\":\"%{z}\",\"x\":[\"Factor 1\",\"Factor 2\",\"Factor 3\",\"Factor 4\"],\"y\":[\"Factor 1\",\"Factor 2\",\"Factor 3\",\"Factor 4\"],\"z\":[[1.0,-0.26033522477305987,-0.15192747785540534,0.08474140440018828],[-0.26033522477305987,1.0,-0.03185693362530139,0.017769012777668278],[-0.15192747785540534,-0.03185693362530139,1.0,0.010369711965197566],[0.08474140440018828,0.017769012777668278,0.010369711965197566,1.0]],\"type\":\"heatmap\",\"xaxis\":\"x\",\"yaxis\":\"y\",\"hovertemplate\":\"x: %{x}<br>y: %{y}<br>color: %{z}<extra></extra>\"}],                        {\"template\":{\"data\":{\"bar\":[{\"error_x\":{\"color\":\"#2a3f5f\"},\"error_y\":{\"color\":\"#2a3f5f\"},\"marker\":{\"line\":{\"color\":\"#E5ECF6\",\"width\":0.5},\"pattern\":{\"fillmode\":\"overlay\",\"size\":10,\"solidity\":0.2}},\"type\":\"bar\"}],\"barpolar\":[{\"marker\":{\"line\":{\"color\":\"#E5ECF6\",\"width\":0.5},\"pattern\":{\"fillmode\":\"overlay\",\"size\":10,\"solidity\":0.2}},\"type\":\"barpolar\"}],\"carpet\":[{\"aaxis\":{\"endlinecolor\":\"#2a3f5f\",\"gridcolor\":\"white\",\"linecolor\":\"white\",\"minorgridcolor\":\"white\",\"startlinecolor\":\"#2a3f5f\"},\"baxis\":{\"endlinecolor\":\"#2a3f5f\",\"gridcolor\":\"white\",\"linecolor\":\"white\",\"minorgridcolor\":\"white\",\"startlinecolor\":\"#2a3f5f\"},\"type\":\"carpet\"}],\"choropleth\":[{\"colorbar\":{\"outlinewidth\":0,\"ticks\":\"\"},\"type\":\"choropleth\"}],\"contour\":[{\"colorbar\":{\"outlinewidth\":0,\"ticks\":\"\"},\"colorscale\":[[0.0,\"#0d0887\"],[0.1111111111111111,\"#46039f\"],[0.2222222222222222,\"#7201a8\"],[0.3333333333333333,\"#9c179e\"],[0.4444444444444444,\"#bd3786\"],[0.5555555555555556,\"#d8576b\"],[0.6666666666666666,\"#ed7953\"],[0.7777777777777778,\"#fb9f3a\"],[0.8888888888888888,\"#fdca26\"],[1.0,\"#f0f921\"]],\"type\":\"contour\"}],\"contourcarpet\":[{\"colorbar\":{\"outlinewidth\":0,\"ticks\":\"\"},\"type\":\"contourcarpet\"}],\"heatmap\":[{\"colorbar\":{\"outlinewidth\":0,\"ticks\":\"\"},\"colorscale\":[[0.0,\"#0d0887\"],[0.1111111111111111,\"#46039f\"],[0.2222222222222222,\"#7201a8\"],[0.3333333333333333,\"#9c179e\"],[0.4444444444444444,\"#bd3786\"],[0.5555555555555556,\"#d8576b\"],[0.6666666666666666,\"#ed7953\"],[0.7777777777777778,\"#fb9f3a\"],[0.8888888888888888,\"#fdca26\"],[1.0,\"#f0f921\"]],\"type\":\"heatmap\"}],\"heatmapgl\":[{\"colorbar\":{\"outlinewidth\":0,\"ticks\":\"\"},\"colorscale\":[[0.0,\"#0d0887\"],[0.1111111111111111,\"#46039f\"],[0.2222222222222222,\"#7201a8\"],[0.3333333333333333,\"#9c179e\"],[0.4444444444444444,\"#bd3786\"],[0.5555555555555556,\"#d8576b\"],[0.6666666666666666,\"#ed7953\"],[0.7777777777777778,\"#fb9f3a\"],[0.8888888888888888,\"#fdca26\"],[1.0,\"#f0f921\"]],\"type\":\"heatmapgl\"}],\"histogram\":[{\"marker\":{\"pattern\":{\"fillmode\":\"overlay\",\"size\":10,\"solidity\":0.2}},\"type\":\"histogram\"}],\"histogram2d\":[{\"colorbar\":{\"outlinewidth\":0,\"ticks\":\"\"},\"colorscale\":[[0.0,\"#0d0887\"],[0.1111111111111111,\"#46039f\"],[0.2222222222222222,\"#7201a8\"],[0.3333333333333333,\"#9c179e\"],[0.4444444444444444,\"#bd3786\"],[0.5555555555555556,\"#d8576b\"],[0.6666666666666666,\"#ed7953\"],[0.7777777777777778,\"#fb9f3a\"],[0.8888888888888888,\"#fdca26\"],[1.0,\"#f0f921\"]],\"type\":\"histogram2d\"}],\"histogram2dcontour\":[{\"colorbar\":{\"outlinewidth\":0,\"ticks\":\"\"},\"colorscale\":[[0.0,\"#0d0887\"],[0.1111111111111111,\"#46039f\"],[0.2222222222222222,\"#7201a8\"],[0.3333333333333333,\"#9c179e\"],[0.4444444444444444,\"#bd3786\"],[0.5555555555555556,\"#d8576b\"],[0.6666666666666666,\"#ed7953\"],[0.7777777777777778,\"#fb9f3a\"],[0.8888888888888888,\"#fdca26\"],[1.0,\"#f0f921\"]],\"type\":\"histogram2dcontour\"}],\"mesh3d\":[{\"colorbar\":{\"outlinewidth\":0,\"ticks\":\"\"},\"type\":\"mesh3d\"}],\"parcoords\":[{\"line\":{\"colorbar\":{\"outlinewidth\":0,\"ticks\":\"\"}},\"type\":\"parcoords\"}],\"pie\":[{\"automargin\":true,\"type\":\"pie\"}],\"scatter\":[{\"marker\":{\"colorbar\":{\"outlinewidth\":0,\"ticks\":\"\"}},\"type\":\"scatter\"}],\"scatter3d\":[{\"line\":{\"colorbar\":{\"outlinewidth\":0,\"ticks\":\"\"}},\"marker\":{\"colorbar\":{\"outlinewidth\":0,\"ticks\":\"\"}},\"type\":\"scatter3d\"}],\"scattercarpet\":[{\"marker\":{\"colorbar\":{\"outlinewidth\":0,\"ticks\":\"\"}},\"type\":\"scattercarpet\"}],\"scattergeo\":[{\"marker\":{\"colorbar\":{\"outlinewidth\":0,\"ticks\":\"\"}},\"type\":\"scattergeo\"}],\"scattergl\":[{\"marker\":{\"colorbar\":{\"outlinewidth\":0,\"ticks\":\"\"}},\"type\":\"scattergl\"}],\"scattermapbox\":[{\"marker\":{\"colorbar\":{\"outlinewidth\":0,\"ticks\":\"\"}},\"type\":\"scattermapbox\"}],\"scatterpolar\":[{\"marker\":{\"colorbar\":{\"outlinewidth\":0,\"ticks\":\"\"}},\"type\":\"scatterpolar\"}],\"scatterpolargl\":[{\"marker\":{\"colorbar\":{\"outlinewidth\":0,\"ticks\":\"\"}},\"type\":\"scatterpolargl\"}],\"scatterternary\":[{\"marker\":{\"colorbar\":{\"outlinewidth\":0,\"ticks\":\"\"}},\"type\":\"scatterternary\"}],\"surface\":[{\"colorbar\":{\"outlinewidth\":0,\"ticks\":\"\"},\"colorscale\":[[0.0,\"#0d0887\"],[0.1111111111111111,\"#46039f\"],[0.2222222222222222,\"#7201a8\"],[0.3333333333333333,\"#9c179e\"],[0.4444444444444444,\"#bd3786\"],[0.5555555555555556,\"#d8576b\"],[0.6666666666666666,\"#ed7953\"],[0.7777777777777778,\"#fb9f3a\"],[0.8888888888888888,\"#fdca26\"],[1.0,\"#f0f921\"]],\"type\":\"surface\"}],\"table\":[{\"cells\":{\"fill\":{\"color\":\"#EBF0F8\"},\"line\":{\"color\":\"white\"}},\"header\":{\"fill\":{\"color\":\"#C8D4E3\"},\"line\":{\"color\":\"white\"}},\"type\":\"table\"}]},\"layout\":{\"annotationdefaults\":{\"arrowcolor\":\"#2a3f5f\",\"arrowhead\":0,\"arrowwidth\":1},\"autotypenumbers\":\"strict\",\"coloraxis\":{\"colorbar\":{\"outlinewidth\":0,\"ticks\":\"\"}},\"colorscale\":{\"diverging\":[[0,\"#8e0152\"],[0.1,\"#c51b7d\"],[0.2,\"#de77ae\"],[0.3,\"#f1b6da\"],[0.4,\"#fde0ef\"],[0.5,\"#f7f7f7\"],[0.6,\"#e6f5d0\"],[0.7,\"#b8e186\"],[0.8,\"#7fbc41\"],[0.9,\"#4d9221\"],[1,\"#276419\"]],\"sequential\":[[0.0,\"#0d0887\"],[0.1111111111111111,\"#46039f\"],[0.2222222222222222,\"#7201a8\"],[0.3333333333333333,\"#9c179e\"],[0.4444444444444444,\"#bd3786\"],[0.5555555555555556,\"#d8576b\"],[0.6666666666666666,\"#ed7953\"],[0.7777777777777778,\"#fb9f3a\"],[0.8888888888888888,\"#fdca26\"],[1.0,\"#f0f921\"]],\"sequentialminus\":[[0.0,\"#0d0887\"],[0.1111111111111111,\"#46039f\"],[0.2222222222222222,\"#7201a8\"],[0.3333333333333333,\"#9c179e\"],[0.4444444444444444,\"#bd3786\"],[0.5555555555555556,\"#d8576b\"],[0.6666666666666666,\"#ed7953\"],[0.7777777777777778,\"#fb9f3a\"],[0.8888888888888888,\"#fdca26\"],[1.0,\"#f0f921\"]]},\"colorway\":[\"#636efa\",\"#EF553B\",\"#00cc96\",\"#ab63fa\",\"#FFA15A\",\"#19d3f3\",\"#FF6692\",\"#B6E880\",\"#FF97FF\",\"#FECB52\"],\"font\":{\"color\":\"#2a3f5f\"},\"geo\":{\"bgcolor\":\"white\",\"lakecolor\":\"white\",\"landcolor\":\"#E5ECF6\",\"showlakes\":true,\"showland\":true,\"subunitcolor\":\"white\"},\"hoverlabel\":{\"align\":\"left\"},\"hovermode\":\"closest\",\"mapbox\":{\"style\":\"light\"},\"paper_bgcolor\":\"white\",\"plot_bgcolor\":\"#E5ECF6\",\"polar\":{\"angularaxis\":{\"gridcolor\":\"white\",\"linecolor\":\"white\",\"ticks\":\"\"},\"bgcolor\":\"#E5ECF6\",\"radialaxis\":{\"gridcolor\":\"white\",\"linecolor\":\"white\",\"ticks\":\"\"}},\"scene\":{\"xaxis\":{\"backgroundcolor\":\"#E5ECF6\",\"gridcolor\":\"white\",\"gridwidth\":2,\"linecolor\":\"white\",\"showbackground\":true,\"ticks\":\"\",\"zerolinecolor\":\"white\"},\"yaxis\":{\"backgroundcolor\":\"#E5ECF6\",\"gridcolor\":\"white\",\"gridwidth\":2,\"linecolor\":\"white\",\"showbackground\":true,\"ticks\":\"\",\"zerolinecolor\":\"white\"},\"zaxis\":{\"backgroundcolor\":\"#E5ECF6\",\"gridcolor\":\"white\",\"gridwidth\":2,\"linecolor\":\"white\",\"showbackground\":true,\"ticks\":\"\",\"zerolinecolor\":\"white\"}},\"shapedefaults\":{\"line\":{\"color\":\"#2a3f5f\"}},\"ternary\":{\"aaxis\":{\"gridcolor\":\"white\",\"linecolor\":\"white\",\"ticks\":\"\"},\"baxis\":{\"gridcolor\":\"white\",\"linecolor\":\"white\",\"ticks\":\"\"},\"bgcolor\":\"#E5ECF6\",\"caxis\":{\"gridcolor\":\"white\",\"linecolor\":\"white\",\"ticks\":\"\"}},\"title\":{\"x\":0.05},\"xaxis\":{\"automargin\":true,\"gridcolor\":\"white\",\"linecolor\":\"white\",\"ticks\":\"\",\"title\":{\"standoff\":15},\"zerolinecolor\":\"white\",\"zerolinewidth\":2},\"yaxis\":{\"automargin\":true,\"gridcolor\":\"white\",\"linecolor\":\"white\",\"ticks\":\"\",\"title\":{\"standoff\":15},\"zerolinecolor\":\"white\",\"zerolinewidth\":2}}},\"xaxis\":{\"anchor\":\"y\",\"domain\":[0.0,1.0],\"scaleanchor\":\"y\",\"constrain\":\"domain\",\"side\":\"top\"},\"yaxis\":{\"anchor\":\"x\",\"domain\":[0.0,1.0],\"autorange\":\"reversed\",\"constrain\":\"domain\"},\"coloraxis\":{\"colorscale\":[[0.0,\"#0d0887\"],[0.1111111111111111,\"#46039f\"],[0.2222222222222222,\"#7201a8\"],[0.3333333333333333,\"#9c179e\"],[0.4444444444444444,\"#bd3786\"],[0.5555555555555556,\"#d8576b\"],[0.6666666666666666,\"#ed7953\"],[0.7777777777777778,\"#fb9f3a\"],[0.8888888888888888,\"#fdca26\"],[1.0,\"#f0f921\"]]},\"margin\":{\"t\":60}},                        {\"responsive\": true}                    ).then(function(){\n",
       "                            \n",
       "var gd = document.getElementById('bb0b5c02-7ad6-4bb8-b8b1-804913759b54');\n",
       "var x = new MutationObserver(function (mutations, observer) {{\n",
       "        var display = window.getComputedStyle(gd).display;\n",
       "        if (!display || display === 'none') {{\n",
       "            console.log([gd, 'removed!']);\n",
       "            Plotly.purge(gd);\n",
       "            observer.disconnect();\n",
       "        }}\n",
       "}});\n",
       "\n",
       "// Listen for the removal of the full notebook cells\n",
       "var notebookContainer = gd.closest('#notebook-container');\n",
       "if (notebookContainer) {{\n",
       "    x.observe(notebookContainer, {childList: true});\n",
       "}}\n",
       "\n",
       "// Listen for the clearing of the current output cell\n",
       "var outputEl = gd.closest('.output');\n",
       "if (outputEl) {{\n",
       "    x.observe(outputEl, {childList: true});\n",
       "}}\n",
       "\n",
       "                        })                };                });            </script>        </div>"
      ]
     },
     "metadata": {},
     "output_type": "display_data"
    },
    {
     "data": {
      "application/javascript": [
       "\n",
       "            setTimeout(function() {\n",
       "                var nbb_cell_id = 175;\n",
       "                var nbb_unformatted_code = \"px.imshow(loadings.corr(), text_auto=True).update_xaxes(side=\\\"top\\\")\";\n",
       "                var nbb_formatted_code = \"px.imshow(loadings.corr(), text_auto=True).update_xaxes(side=\\\"top\\\")\";\n",
       "                var nbb_cells = Jupyter.notebook.get_cells();\n",
       "                for (var i = 0; i < nbb_cells.length; ++i) {\n",
       "                    if (nbb_cells[i].input_prompt_number == nbb_cell_id) {\n",
       "                        if (nbb_cells[i].get_text() == nbb_unformatted_code) {\n",
       "                             nbb_cells[i].set_text(nbb_formatted_code);\n",
       "                        }\n",
       "                        break;\n",
       "                    }\n",
       "                }\n",
       "            }, 500);\n",
       "            "
      ],
      "text/plain": [
       "<IPython.core.display.Javascript object>"
      ]
     },
     "metadata": {},
     "output_type": "display_data"
    }
   ],
   "source": [
    "px.imshow(loadings.corr(), text_auto=True).update_xaxes(side=\"top\")"
   ]
  }
 ],
 "metadata": {
  "kernelspec": {
   "display_name": "Python 3 (ipykernel)",
   "language": "python",
   "name": "python3"
  },
  "language_info": {
   "codemirror_mode": {
    "name": "ipython",
    "version": 3
   },
   "file_extension": ".py",
   "mimetype": "text/x-python",
   "name": "python",
   "nbconvert_exporter": "python",
   "pygments_lexer": "ipython3",
   "version": "3.8.8"
  }
 },
 "nbformat": 4,
 "nbformat_minor": 5
}
