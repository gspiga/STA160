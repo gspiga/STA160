{
 "cells": [
  {
   "cell_type": "code",
   "execution_count": 127,
   "id": "3038d91d",
   "metadata": {},
   "outputs": [
    {
     "name": "stdout",
     "output_type": "stream",
     "text": [
      "The nb_black extension is already loaded. To reload it, use:\n",
      "  %reload_ext nb_black\n"
     ]
    },
    {
     "data": {
      "application/javascript": [
       "\n",
       "            setTimeout(function() {\n",
       "                var nbb_cell_id = 127;\n",
       "                var nbb_unformatted_code = \"%load_ext nb_black\";\n",
       "                var nbb_formatted_code = \"%load_ext nb_black\";\n",
       "                var nbb_cells = Jupyter.notebook.get_cells();\n",
       "                for (var i = 0; i < nbb_cells.length; ++i) {\n",
       "                    if (nbb_cells[i].input_prompt_number == nbb_cell_id) {\n",
       "                        if (nbb_cells[i].get_text() == nbb_unformatted_code) {\n",
       "                             nbb_cells[i].set_text(nbb_formatted_code);\n",
       "                        }\n",
       "                        break;\n",
       "                    }\n",
       "                }\n",
       "            }, 500);\n",
       "            "
      ],
      "text/plain": [
       "<IPython.core.display.Javascript object>"
      ]
     },
     "metadata": {},
     "output_type": "display_data"
    }
   ],
   "source": [
    "%load_ext nb_black"
   ]
  },
  {
   "cell_type": "code",
   "execution_count": 122,
   "id": "ac9525a7",
   "metadata": {},
   "outputs": [
    {
     "data": {
      "application/javascript": [
       "\n",
       "            setTimeout(function() {\n",
       "                var nbb_cell_id = 122;\n",
       "                var nbb_unformatted_code = \"import numpy as np\\nimport pandas as pd\\nimport plotly.express as px\\nfrom sklearn.decomposition import FactorAnalysis\\nfrom sklearn.preprocessing import StandardScaler\\n\\nimport statsmodels.api as sm\\nimport factor_analyzer as FA\\nfrom factor_analyzer.factor_analyzer import calculate_bartlett_sphericity\";\n",
       "                var nbb_formatted_code = \"import numpy as np\\nimport pandas as pd\\nimport plotly.express as px\\nfrom sklearn.decomposition import FactorAnalysis\\nfrom sklearn.preprocessing import StandardScaler\\n\\nimport statsmodels.api as sm\\nimport factor_analyzer as FA\\nfrom factor_analyzer.factor_analyzer import calculate_bartlett_sphericity\";\n",
       "                var nbb_cells = Jupyter.notebook.get_cells();\n",
       "                for (var i = 0; i < nbb_cells.length; ++i) {\n",
       "                    if (nbb_cells[i].input_prompt_number == nbb_cell_id) {\n",
       "                        if (nbb_cells[i].get_text() == nbb_unformatted_code) {\n",
       "                             nbb_cells[i].set_text(nbb_formatted_code);\n",
       "                        }\n",
       "                        break;\n",
       "                    }\n",
       "                }\n",
       "            }, 500);\n",
       "            "
      ],
      "text/plain": [
       "<IPython.core.display.Javascript object>"
      ]
     },
     "metadata": {},
     "output_type": "display_data"
    }
   ],
   "source": [
    "import numpy as np\n",
    "import pandas as pd\n",
    "import plotly.express as px\n",
    "from sklearn.decomposition import FactorAnalysis\n",
    "from sklearn.preprocessing import StandardScaler\n",
    "\n",
    "import statsmodels.api as sm\n",
    "import factor_analyzer as FA\n",
    "from factor_analyzer.factor_analyzer import calculate_bartlett_sphericity"
   ]
  },
  {
   "cell_type": "code",
   "execution_count": 11,
   "id": "0d7ba456",
   "metadata": {},
   "outputs": [
    {
     "data": {
      "application/javascript": [
       "\n",
       "            setTimeout(function() {\n",
       "                var nbb_cell_id = 11;\n",
       "                var nbb_unformatted_code = \"pd.set_option(\\\"display.max_columns\\\", None)  # View all columns\";\n",
       "                var nbb_formatted_code = \"pd.set_option(\\\"display.max_columns\\\", None)  # View all columns\";\n",
       "                var nbb_cells = Jupyter.notebook.get_cells();\n",
       "                for (var i = 0; i < nbb_cells.length; ++i) {\n",
       "                    if (nbb_cells[i].input_prompt_number == nbb_cell_id) {\n",
       "                        if (nbb_cells[i].get_text() == nbb_unformatted_code) {\n",
       "                             nbb_cells[i].set_text(nbb_formatted_code);\n",
       "                        }\n",
       "                        break;\n",
       "                    }\n",
       "                }\n",
       "            }, 500);\n",
       "            "
      ],
      "text/plain": [
       "<IPython.core.display.Javascript object>"
      ]
     },
     "metadata": {},
     "output_type": "display_data"
    }
   ],
   "source": [
    "pd.set_option(\"display.max_columns\", None)  # View all columns"
   ]
  },
  {
   "cell_type": "code",
   "execution_count": 182,
   "id": "16e32bd8",
   "metadata": {},
   "outputs": [
    {
     "data": {
      "text/html": [
       "<div>\n",
       "<style scoped>\n",
       "    .dataframe tbody tr th:only-of-type {\n",
       "        vertical-align: middle;\n",
       "    }\n",
       "\n",
       "    .dataframe tbody tr th {\n",
       "        vertical-align: top;\n",
       "    }\n",
       "\n",
       "    .dataframe thead th {\n",
       "        text-align: right;\n",
       "    }\n",
       "</style>\n",
       "<table border=\"1\" class=\"dataframe\">\n",
       "  <thead>\n",
       "    <tr style=\"text-align: right;\">\n",
       "      <th></th>\n",
       "      <th>state</th>\n",
       "      <th>county</th>\n",
       "      <th>area_sqmi</th>\n",
       "      <th>epl_pov</th>\n",
       "      <th>epl_unemp</th>\n",
       "      <th>epl_pci</th>\n",
       "      <th>epl_nohsdp</th>\n",
       "      <th>spl_theme1</th>\n",
       "      <th>rpl_theme1</th>\n",
       "      <th>epl_age65</th>\n",
       "      <th>epl_age17</th>\n",
       "      <th>epl_disabl</th>\n",
       "      <th>epl_sngpnt</th>\n",
       "      <th>spl_theme2</th>\n",
       "      <th>rpl_theme2</th>\n",
       "      <th>epl_minrty</th>\n",
       "      <th>epl_limeng</th>\n",
       "      <th>spl_theme3</th>\n",
       "      <th>rpl_theme3</th>\n",
       "      <th>epl_munit</th>\n",
       "      <th>epl_mobile</th>\n",
       "      <th>epl_crowd</th>\n",
       "      <th>epl_noveh</th>\n",
       "      <th>epl_groupq</th>\n",
       "      <th>spl_theme4</th>\n",
       "      <th>rpl_theme4</th>\n",
       "      <th>spl_themes</th>\n",
       "      <th>rpl_themes</th>\n",
       "      <th>f_pov</th>\n",
       "      <th>f_unemp</th>\n",
       "      <th>f_pci</th>\n",
       "      <th>f_nohsdp</th>\n",
       "      <th>f_theme1</th>\n",
       "      <th>f_age65</th>\n",
       "      <th>f_age17</th>\n",
       "      <th>f_disabl</th>\n",
       "      <th>f_sngpnt</th>\n",
       "      <th>f_theme2</th>\n",
       "      <th>f_minrty</th>\n",
       "      <th>f_limeng</th>\n",
       "      <th>f_theme3</th>\n",
       "      <th>f_munit</th>\n",
       "      <th>f_mobile</th>\n",
       "      <th>f_crowd</th>\n",
       "      <th>f_noveh</th>\n",
       "      <th>f_groupq</th>\n",
       "      <th>f_theme4</th>\n",
       "      <th>f_total</th>\n",
       "    </tr>\n",
       "  </thead>\n",
       "  <tbody>\n",
       "    <tr>\n",
       "      <th>0</th>\n",
       "      <td>ALABAMA</td>\n",
       "      <td>Autauga</td>\n",
       "      <td>594.443459</td>\n",
       "      <td>0.5401</td>\n",
       "      <td>0.2745</td>\n",
       "      <td>0.2860</td>\n",
       "      <td>0.4397</td>\n",
       "      <td>1.5403</td>\n",
       "      <td>0.3631</td>\n",
       "      <td>0.1850</td>\n",
       "      <td>0.7529</td>\n",
       "      <td>0.7905</td>\n",
       "      <td>0.3792</td>\n",
       "      <td>2.1076</td>\n",
       "      <td>0.5810</td>\n",
       "      <td>0.6336</td>\n",
       "      <td>0.5113</td>\n",
       "      <td>1.1449</td>\n",
       "      <td>0.5947</td>\n",
       "      <td>0.6017</td>\n",
       "      <td>0.7408</td>\n",
       "      <td>0.2964</td>\n",
       "      <td>0.4846</td>\n",
       "      <td>0.1525</td>\n",
       "      <td>2.2760</td>\n",
       "      <td>0.3741</td>\n",
       "      <td>7.0688</td>\n",
       "      <td>0.4354</td>\n",
       "      <td>0</td>\n",
       "      <td>0</td>\n",
       "      <td>0</td>\n",
       "      <td>0</td>\n",
       "      <td>0</td>\n",
       "      <td>0</td>\n",
       "      <td>0</td>\n",
       "      <td>0</td>\n",
       "      <td>0</td>\n",
       "      <td>0</td>\n",
       "      <td>0</td>\n",
       "      <td>0</td>\n",
       "      <td>0</td>\n",
       "      <td>0</td>\n",
       "      <td>0</td>\n",
       "      <td>0</td>\n",
       "      <td>0</td>\n",
       "      <td>0</td>\n",
       "      <td>0</td>\n",
       "      <td>0</td>\n",
       "    </tr>\n",
       "    <tr>\n",
       "      <th>1</th>\n",
       "      <td>ALABAMA</td>\n",
       "      <td>Baldwin</td>\n",
       "      <td>1589.793007</td>\n",
       "      <td>0.2239</td>\n",
       "      <td>0.3121</td>\n",
       "      <td>0.2057</td>\n",
       "      <td>0.3209</td>\n",
       "      <td>1.0626</td>\n",
       "      <td>0.2232</td>\n",
       "      <td>0.6428</td>\n",
       "      <td>0.4323</td>\n",
       "      <td>0.3524</td>\n",
       "      <td>0.1391</td>\n",
       "      <td>1.5666</td>\n",
       "      <td>0.1990</td>\n",
       "      <td>0.5158</td>\n",
       "      <td>0.3582</td>\n",
       "      <td>0.8740</td>\n",
       "      <td>0.4358</td>\n",
       "      <td>0.9713</td>\n",
       "      <td>0.5339</td>\n",
       "      <td>0.2604</td>\n",
       "      <td>0.1328</td>\n",
       "      <td>0.3018</td>\n",
       "      <td>2.2002</td>\n",
       "      <td>0.3359</td>\n",
       "      <td>5.7034</td>\n",
       "      <td>0.2162</td>\n",
       "      <td>0</td>\n",
       "      <td>0</td>\n",
       "      <td>0</td>\n",
       "      <td>0</td>\n",
       "      <td>0</td>\n",
       "      <td>0</td>\n",
       "      <td>0</td>\n",
       "      <td>0</td>\n",
       "      <td>0</td>\n",
       "      <td>0</td>\n",
       "      <td>0</td>\n",
       "      <td>0</td>\n",
       "      <td>0</td>\n",
       "      <td>1</td>\n",
       "      <td>0</td>\n",
       "      <td>0</td>\n",
       "      <td>0</td>\n",
       "      <td>0</td>\n",
       "      <td>1</td>\n",
       "      <td>1</td>\n",
       "    </tr>\n",
       "    <tr>\n",
       "      <th>2</th>\n",
       "      <td>ALABAMA</td>\n",
       "      <td>Barbour</td>\n",
       "      <td>885.001636</td>\n",
       "      <td>0.9631</td>\n",
       "      <td>0.9217</td>\n",
       "      <td>0.9481</td>\n",
       "      <td>0.9701</td>\n",
       "      <td>3.8030</td>\n",
       "      <td>0.9780</td>\n",
       "      <td>0.4893</td>\n",
       "      <td>0.3327</td>\n",
       "      <td>0.9064</td>\n",
       "      <td>0.9468</td>\n",
       "      <td>2.6752</td>\n",
       "      <td>0.9153</td>\n",
       "      <td>0.8965</td>\n",
       "      <td>0.7052</td>\n",
       "      <td>1.6017</td>\n",
       "      <td>0.8558</td>\n",
       "      <td>0.2416</td>\n",
       "      <td>0.9280</td>\n",
       "      <td>0.8198</td>\n",
       "      <td>0.8685</td>\n",
       "      <td>0.9449</td>\n",
       "      <td>3.8028</td>\n",
       "      <td>0.9889</td>\n",
       "      <td>11.8827</td>\n",
       "      <td>0.9959</td>\n",
       "      <td>1</td>\n",
       "      <td>1</td>\n",
       "      <td>1</td>\n",
       "      <td>1</td>\n",
       "      <td>4</td>\n",
       "      <td>0</td>\n",
       "      <td>0</td>\n",
       "      <td>1</td>\n",
       "      <td>1</td>\n",
       "      <td>2</td>\n",
       "      <td>0</td>\n",
       "      <td>0</td>\n",
       "      <td>0</td>\n",
       "      <td>0</td>\n",
       "      <td>1</td>\n",
       "      <td>0</td>\n",
       "      <td>0</td>\n",
       "      <td>1</td>\n",
       "      <td>2</td>\n",
       "      <td>8</td>\n",
       "    </tr>\n",
       "    <tr>\n",
       "      <th>3</th>\n",
       "      <td>ALABAMA</td>\n",
       "      <td>Bibb</td>\n",
       "      <td>622.461089</td>\n",
       "      <td>0.4430</td>\n",
       "      <td>0.7895</td>\n",
       "      <td>0.8987</td>\n",
       "      <td>0.7351</td>\n",
       "      <td>2.8663</td>\n",
       "      <td>0.7694</td>\n",
       "      <td>0.3200</td>\n",
       "      <td>0.2846</td>\n",
       "      <td>0.6074</td>\n",
       "      <td>0.1706</td>\n",
       "      <td>1.3826</td>\n",
       "      <td>0.1203</td>\n",
       "      <td>0.6390</td>\n",
       "      <td>0.2270</td>\n",
       "      <td>0.8660</td>\n",
       "      <td>0.4323</td>\n",
       "      <td>0.4317</td>\n",
       "      <td>0.9207</td>\n",
       "      <td>0.0981</td>\n",
       "      <td>0.5441</td>\n",
       "      <td>0.9214</td>\n",
       "      <td>2.9160</td>\n",
       "      <td>0.7189</td>\n",
       "      <td>8.0309</td>\n",
       "      <td>0.6003</td>\n",
       "      <td>0</td>\n",
       "      <td>0</td>\n",
       "      <td>0</td>\n",
       "      <td>0</td>\n",
       "      <td>0</td>\n",
       "      <td>0</td>\n",
       "      <td>0</td>\n",
       "      <td>0</td>\n",
       "      <td>0</td>\n",
       "      <td>0</td>\n",
       "      <td>0</td>\n",
       "      <td>0</td>\n",
       "      <td>0</td>\n",
       "      <td>0</td>\n",
       "      <td>1</td>\n",
       "      <td>0</td>\n",
       "      <td>0</td>\n",
       "      <td>1</td>\n",
       "      <td>2</td>\n",
       "      <td>2</td>\n",
       "    </tr>\n",
       "    <tr>\n",
       "      <th>4</th>\n",
       "      <td>ALABAMA</td>\n",
       "      <td>Blount</td>\n",
       "      <td>644.830460</td>\n",
       "      <td>0.4723</td>\n",
       "      <td>0.2611</td>\n",
       "      <td>0.7561</td>\n",
       "      <td>0.8405</td>\n",
       "      <td>2.3300</td>\n",
       "      <td>0.6143</td>\n",
       "      <td>0.4715</td>\n",
       "      <td>0.6406</td>\n",
       "      <td>0.3763</td>\n",
       "      <td>0.2961</td>\n",
       "      <td>1.7845</td>\n",
       "      <td>0.3187</td>\n",
       "      <td>0.4206</td>\n",
       "      <td>0.7170</td>\n",
       "      <td>1.1376</td>\n",
       "      <td>0.5915</td>\n",
       "      <td>0.1512</td>\n",
       "      <td>0.8816</td>\n",
       "      <td>0.3703</td>\n",
       "      <td>0.2420</td>\n",
       "      <td>0.1165</td>\n",
       "      <td>1.7616</td>\n",
       "      <td>0.1741</td>\n",
       "      <td>7.0137</td>\n",
       "      <td>0.4242</td>\n",
       "      <td>0</td>\n",
       "      <td>0</td>\n",
       "      <td>0</td>\n",
       "      <td>0</td>\n",
       "      <td>0</td>\n",
       "      <td>0</td>\n",
       "      <td>0</td>\n",
       "      <td>0</td>\n",
       "      <td>0</td>\n",
       "      <td>0</td>\n",
       "      <td>0</td>\n",
       "      <td>0</td>\n",
       "      <td>0</td>\n",
       "      <td>0</td>\n",
       "      <td>0</td>\n",
       "      <td>0</td>\n",
       "      <td>0</td>\n",
       "      <td>0</td>\n",
       "      <td>0</td>\n",
       "      <td>0</td>\n",
       "    </tr>\n",
       "    <tr>\n",
       "      <th>...</th>\n",
       "      <td>...</td>\n",
       "      <td>...</td>\n",
       "      <td>...</td>\n",
       "      <td>...</td>\n",
       "      <td>...</td>\n",
       "      <td>...</td>\n",
       "      <td>...</td>\n",
       "      <td>...</td>\n",
       "      <td>...</td>\n",
       "      <td>...</td>\n",
       "      <td>...</td>\n",
       "      <td>...</td>\n",
       "      <td>...</td>\n",
       "      <td>...</td>\n",
       "      <td>...</td>\n",
       "      <td>...</td>\n",
       "      <td>...</td>\n",
       "      <td>...</td>\n",
       "      <td>...</td>\n",
       "      <td>...</td>\n",
       "      <td>...</td>\n",
       "      <td>...</td>\n",
       "      <td>...</td>\n",
       "      <td>...</td>\n",
       "      <td>...</td>\n",
       "      <td>...</td>\n",
       "      <td>...</td>\n",
       "      <td>...</td>\n",
       "      <td>...</td>\n",
       "      <td>...</td>\n",
       "      <td>...</td>\n",
       "      <td>...</td>\n",
       "      <td>...</td>\n",
       "      <td>...</td>\n",
       "      <td>...</td>\n",
       "      <td>...</td>\n",
       "      <td>...</td>\n",
       "      <td>...</td>\n",
       "      <td>...</td>\n",
       "      <td>...</td>\n",
       "      <td>...</td>\n",
       "      <td>...</td>\n",
       "      <td>...</td>\n",
       "      <td>...</td>\n",
       "      <td>...</td>\n",
       "      <td>...</td>\n",
       "      <td>...</td>\n",
       "      <td>...</td>\n",
       "    </tr>\n",
       "    <tr>\n",
       "      <th>3137</th>\n",
       "      <td>WYOMING</td>\n",
       "      <td>Sweetwater</td>\n",
       "      <td>10426.975725</td>\n",
       "      <td>0.3127</td>\n",
       "      <td>0.4490</td>\n",
       "      <td>0.1497</td>\n",
       "      <td>0.2668</td>\n",
       "      <td>1.1782</td>\n",
       "      <td>0.2576</td>\n",
       "      <td>0.0293</td>\n",
       "      <td>0.9150</td>\n",
       "      <td>0.2041</td>\n",
       "      <td>0.7679</td>\n",
       "      <td>1.9163</td>\n",
       "      <td>0.4193</td>\n",
       "      <td>0.5680</td>\n",
       "      <td>0.7052</td>\n",
       "      <td>1.2732</td>\n",
       "      <td>0.6718</td>\n",
       "      <td>0.7307</td>\n",
       "      <td>0.8306</td>\n",
       "      <td>0.4817</td>\n",
       "      <td>0.0503</td>\n",
       "      <td>0.2582</td>\n",
       "      <td>2.3515</td>\n",
       "      <td>0.4120</td>\n",
       "      <td>6.7192</td>\n",
       "      <td>0.3701</td>\n",
       "      <td>0</td>\n",
       "      <td>0</td>\n",
       "      <td>0</td>\n",
       "      <td>0</td>\n",
       "      <td>0</td>\n",
       "      <td>0</td>\n",
       "      <td>1</td>\n",
       "      <td>0</td>\n",
       "      <td>0</td>\n",
       "      <td>1</td>\n",
       "      <td>0</td>\n",
       "      <td>0</td>\n",
       "      <td>0</td>\n",
       "      <td>0</td>\n",
       "      <td>0</td>\n",
       "      <td>0</td>\n",
       "      <td>0</td>\n",
       "      <td>0</td>\n",
       "      <td>0</td>\n",
       "      <td>1</td>\n",
       "    </tr>\n",
       "    <tr>\n",
       "      <th>3138</th>\n",
       "      <td>WYOMING</td>\n",
       "      <td>Teton</td>\n",
       "      <td>3996.844622</td>\n",
       "      <td>0.0522</td>\n",
       "      <td>0.0264</td>\n",
       "      <td>0.0051</td>\n",
       "      <td>0.0548</td>\n",
       "      <td>0.1385</td>\n",
       "      <td>0.0025</td>\n",
       "      <td>0.1334</td>\n",
       "      <td>0.1506</td>\n",
       "      <td>0.0060</td>\n",
       "      <td>0.2216</td>\n",
       "      <td>0.5116</td>\n",
       "      <td>0.0096</td>\n",
       "      <td>0.5400</td>\n",
       "      <td>0.9000</td>\n",
       "      <td>1.4400</td>\n",
       "      <td>0.7736</td>\n",
       "      <td>0.8109</td>\n",
       "      <td>0.1442</td>\n",
       "      <td>0.9688</td>\n",
       "      <td>0.0503</td>\n",
       "      <td>0.7561</td>\n",
       "      <td>2.7303</td>\n",
       "      <td>0.6266</td>\n",
       "      <td>4.8204</td>\n",
       "      <td>0.1127</td>\n",
       "      <td>0</td>\n",
       "      <td>0</td>\n",
       "      <td>0</td>\n",
       "      <td>0</td>\n",
       "      <td>0</td>\n",
       "      <td>0</td>\n",
       "      <td>0</td>\n",
       "      <td>0</td>\n",
       "      <td>0</td>\n",
       "      <td>0</td>\n",
       "      <td>0</td>\n",
       "      <td>1</td>\n",
       "      <td>1</td>\n",
       "      <td>0</td>\n",
       "      <td>0</td>\n",
       "      <td>1</td>\n",
       "      <td>0</td>\n",
       "      <td>0</td>\n",
       "      <td>1</td>\n",
       "      <td>2</td>\n",
       "    </tr>\n",
       "    <tr>\n",
       "      <th>3139</th>\n",
       "      <td>WYOMING</td>\n",
       "      <td>Uinta</td>\n",
       "      <td>2081.719807</td>\n",
       "      <td>0.3430</td>\n",
       "      <td>0.6032</td>\n",
       "      <td>0.4443</td>\n",
       "      <td>0.1347</td>\n",
       "      <td>1.5252</td>\n",
       "      <td>0.3583</td>\n",
       "      <td>0.0675</td>\n",
       "      <td>0.9685</td>\n",
       "      <td>0.6488</td>\n",
       "      <td>0.2665</td>\n",
       "      <td>1.9513</td>\n",
       "      <td>0.4486</td>\n",
       "      <td>0.4136</td>\n",
       "      <td>0.4642</td>\n",
       "      <td>0.8778</td>\n",
       "      <td>0.4390</td>\n",
       "      <td>0.7453</td>\n",
       "      <td>0.8816</td>\n",
       "      <td>0.7249</td>\n",
       "      <td>0.1971</td>\n",
       "      <td>0.2582</td>\n",
       "      <td>2.8071</td>\n",
       "      <td>0.6657</td>\n",
       "      <td>7.1614</td>\n",
       "      <td>0.4522</td>\n",
       "      <td>0</td>\n",
       "      <td>0</td>\n",
       "      <td>0</td>\n",
       "      <td>0</td>\n",
       "      <td>0</td>\n",
       "      <td>0</td>\n",
       "      <td>1</td>\n",
       "      <td>0</td>\n",
       "      <td>0</td>\n",
       "      <td>1</td>\n",
       "      <td>0</td>\n",
       "      <td>0</td>\n",
       "      <td>0</td>\n",
       "      <td>0</td>\n",
       "      <td>0</td>\n",
       "      <td>0</td>\n",
       "      <td>0</td>\n",
       "      <td>0</td>\n",
       "      <td>0</td>\n",
       "      <td>1</td>\n",
       "    </tr>\n",
       "    <tr>\n",
       "      <th>3140</th>\n",
       "      <td>WYOMING</td>\n",
       "      <td>Washakie</td>\n",
       "      <td>2238.672972</td>\n",
       "      <td>0.3360</td>\n",
       "      <td>0.6207</td>\n",
       "      <td>0.4035</td>\n",
       "      <td>0.3792</td>\n",
       "      <td>1.7394</td>\n",
       "      <td>0.4293</td>\n",
       "      <td>0.7380</td>\n",
       "      <td>0.7122</td>\n",
       "      <td>0.4448</td>\n",
       "      <td>0.2961</td>\n",
       "      <td>2.1911</td>\n",
       "      <td>0.6482</td>\n",
       "      <td>0.5330</td>\n",
       "      <td>0.2270</td>\n",
       "      <td>0.7600</td>\n",
       "      <td>0.3687</td>\n",
       "      <td>0.1958</td>\n",
       "      <td>0.5384</td>\n",
       "      <td>0.4457</td>\n",
       "      <td>0.3715</td>\n",
       "      <td>0.4995</td>\n",
       "      <td>2.0509</td>\n",
       "      <td>0.2751</td>\n",
       "      <td>6.7414</td>\n",
       "      <td>0.3732</td>\n",
       "      <td>0</td>\n",
       "      <td>0</td>\n",
       "      <td>0</td>\n",
       "      <td>0</td>\n",
       "      <td>0</td>\n",
       "      <td>0</td>\n",
       "      <td>0</td>\n",
       "      <td>0</td>\n",
       "      <td>0</td>\n",
       "      <td>0</td>\n",
       "      <td>0</td>\n",
       "      <td>0</td>\n",
       "      <td>0</td>\n",
       "      <td>0</td>\n",
       "      <td>0</td>\n",
       "      <td>0</td>\n",
       "      <td>0</td>\n",
       "      <td>0</td>\n",
       "      <td>0</td>\n",
       "      <td>0</td>\n",
       "    </tr>\n",
       "    <tr>\n",
       "      <th>3141</th>\n",
       "      <td>WYOMING</td>\n",
       "      <td>Weston</td>\n",
       "      <td>2398.003891</td>\n",
       "      <td>0.6745</td>\n",
       "      <td>0.1822</td>\n",
       "      <td>0.2968</td>\n",
       "      <td>0.1831</td>\n",
       "      <td>1.3366</td>\n",
       "      <td>0.3022</td>\n",
       "      <td>0.5817</td>\n",
       "      <td>0.3419</td>\n",
       "      <td>0.3983</td>\n",
       "      <td>0.2961</td>\n",
       "      <td>1.6180</td>\n",
       "      <td>0.2260</td>\n",
       "      <td>0.3095</td>\n",
       "      <td>0.5492</td>\n",
       "      <td>0.8587</td>\n",
       "      <td>0.4276</td>\n",
       "      <td>0.4575</td>\n",
       "      <td>0.8535</td>\n",
       "      <td>0.6049</td>\n",
       "      <td>0.0630</td>\n",
       "      <td>0.8131</td>\n",
       "      <td>2.7920</td>\n",
       "      <td>0.6581</td>\n",
       "      <td>6.6053</td>\n",
       "      <td>0.3475</td>\n",
       "      <td>0</td>\n",
       "      <td>0</td>\n",
       "      <td>0</td>\n",
       "      <td>0</td>\n",
       "      <td>0</td>\n",
       "      <td>0</td>\n",
       "      <td>0</td>\n",
       "      <td>0</td>\n",
       "      <td>0</td>\n",
       "      <td>0</td>\n",
       "      <td>0</td>\n",
       "      <td>0</td>\n",
       "      <td>0</td>\n",
       "      <td>0</td>\n",
       "      <td>0</td>\n",
       "      <td>0</td>\n",
       "      <td>0</td>\n",
       "      <td>0</td>\n",
       "      <td>0</td>\n",
       "      <td>0</td>\n",
       "    </tr>\n",
       "  </tbody>\n",
       "</table>\n",
       "<p>3141 rows × 48 columns</p>\n",
       "</div>"
      ],
      "text/plain": [
       "        state      county     area_sqmi  epl_pov  epl_unemp  epl_pci  \\\n",
       "0     ALABAMA     Autauga    594.443459   0.5401     0.2745   0.2860   \n",
       "1     ALABAMA     Baldwin   1589.793007   0.2239     0.3121   0.2057   \n",
       "2     ALABAMA     Barbour    885.001636   0.9631     0.9217   0.9481   \n",
       "3     ALABAMA        Bibb    622.461089   0.4430     0.7895   0.8987   \n",
       "4     ALABAMA      Blount    644.830460   0.4723     0.2611   0.7561   \n",
       "...       ...         ...           ...      ...        ...      ...   \n",
       "3137  WYOMING  Sweetwater  10426.975725   0.3127     0.4490   0.1497   \n",
       "3138  WYOMING       Teton   3996.844622   0.0522     0.0264   0.0051   \n",
       "3139  WYOMING       Uinta   2081.719807   0.3430     0.6032   0.4443   \n",
       "3140  WYOMING    Washakie   2238.672972   0.3360     0.6207   0.4035   \n",
       "3141  WYOMING      Weston   2398.003891   0.6745     0.1822   0.2968   \n",
       "\n",
       "      epl_nohsdp  spl_theme1  rpl_theme1  epl_age65  epl_age17  epl_disabl  \\\n",
       "0         0.4397      1.5403      0.3631     0.1850     0.7529      0.7905   \n",
       "1         0.3209      1.0626      0.2232     0.6428     0.4323      0.3524   \n",
       "2         0.9701      3.8030      0.9780     0.4893     0.3327      0.9064   \n",
       "3         0.7351      2.8663      0.7694     0.3200     0.2846      0.6074   \n",
       "4         0.8405      2.3300      0.6143     0.4715     0.6406      0.3763   \n",
       "...          ...         ...         ...        ...        ...         ...   \n",
       "3137      0.2668      1.1782      0.2576     0.0293     0.9150      0.2041   \n",
       "3138      0.0548      0.1385      0.0025     0.1334     0.1506      0.0060   \n",
       "3139      0.1347      1.5252      0.3583     0.0675     0.9685      0.6488   \n",
       "3140      0.3792      1.7394      0.4293     0.7380     0.7122      0.4448   \n",
       "3141      0.1831      1.3366      0.3022     0.5817     0.3419      0.3983   \n",
       "\n",
       "      epl_sngpnt  spl_theme2  rpl_theme2  epl_minrty  epl_limeng  spl_theme3  \\\n",
       "0         0.3792      2.1076      0.5810      0.6336      0.5113      1.1449   \n",
       "1         0.1391      1.5666      0.1990      0.5158      0.3582      0.8740   \n",
       "2         0.9468      2.6752      0.9153      0.8965      0.7052      1.6017   \n",
       "3         0.1706      1.3826      0.1203      0.6390      0.2270      0.8660   \n",
       "4         0.2961      1.7845      0.3187      0.4206      0.7170      1.1376   \n",
       "...          ...         ...         ...         ...         ...         ...   \n",
       "3137      0.7679      1.9163      0.4193      0.5680      0.7052      1.2732   \n",
       "3138      0.2216      0.5116      0.0096      0.5400      0.9000      1.4400   \n",
       "3139      0.2665      1.9513      0.4486      0.4136      0.4642      0.8778   \n",
       "3140      0.2961      2.1911      0.6482      0.5330      0.2270      0.7600   \n",
       "3141      0.2961      1.6180      0.2260      0.3095      0.5492      0.8587   \n",
       "\n",
       "      rpl_theme3  epl_munit  epl_mobile  epl_crowd  epl_noveh  epl_groupq  \\\n",
       "0         0.5947     0.6017      0.7408     0.2964     0.4846      0.1525   \n",
       "1         0.4358     0.9713      0.5339     0.2604     0.1328      0.3018   \n",
       "2         0.8558     0.2416      0.9280     0.8198     0.8685      0.9449   \n",
       "3         0.4323     0.4317      0.9207     0.0981     0.5441      0.9214   \n",
       "4         0.5915     0.1512      0.8816     0.3703     0.2420      0.1165   \n",
       "...          ...        ...         ...        ...        ...         ...   \n",
       "3137      0.6718     0.7307      0.8306     0.4817     0.0503      0.2582   \n",
       "3138      0.7736     0.8109      0.1442     0.9688     0.0503      0.7561   \n",
       "3139      0.4390     0.7453      0.8816     0.7249     0.1971      0.2582   \n",
       "3140      0.3687     0.1958      0.5384     0.4457     0.3715      0.4995   \n",
       "3141      0.4276     0.4575      0.8535     0.6049     0.0630      0.8131   \n",
       "\n",
       "      spl_theme4  rpl_theme4  spl_themes  rpl_themes  f_pov  f_unemp  f_pci  \\\n",
       "0         2.2760      0.3741      7.0688      0.4354      0        0      0   \n",
       "1         2.2002      0.3359      5.7034      0.2162      0        0      0   \n",
       "2         3.8028      0.9889     11.8827      0.9959      1        1      1   \n",
       "3         2.9160      0.7189      8.0309      0.6003      0        0      0   \n",
       "4         1.7616      0.1741      7.0137      0.4242      0        0      0   \n",
       "...          ...         ...         ...         ...    ...      ...    ...   \n",
       "3137      2.3515      0.4120      6.7192      0.3701      0        0      0   \n",
       "3138      2.7303      0.6266      4.8204      0.1127      0        0      0   \n",
       "3139      2.8071      0.6657      7.1614      0.4522      0        0      0   \n",
       "3140      2.0509      0.2751      6.7414      0.3732      0        0      0   \n",
       "3141      2.7920      0.6581      6.6053      0.3475      0        0      0   \n",
       "\n",
       "      f_nohsdp  f_theme1  f_age65  f_age17  f_disabl  f_sngpnt  f_theme2  \\\n",
       "0            0         0        0        0         0         0         0   \n",
       "1            0         0        0        0         0         0         0   \n",
       "2            1         4        0        0         1         1         2   \n",
       "3            0         0        0        0         0         0         0   \n",
       "4            0         0        0        0         0         0         0   \n",
       "...        ...       ...      ...      ...       ...       ...       ...   \n",
       "3137         0         0        0        1         0         0         1   \n",
       "3138         0         0        0        0         0         0         0   \n",
       "3139         0         0        0        1         0         0         1   \n",
       "3140         0         0        0        0         0         0         0   \n",
       "3141         0         0        0        0         0         0         0   \n",
       "\n",
       "      f_minrty  f_limeng  f_theme3  f_munit  f_mobile  f_crowd  f_noveh  \\\n",
       "0            0         0         0        0         0        0        0   \n",
       "1            0         0         0        1         0        0        0   \n",
       "2            0         0         0        0         1        0        0   \n",
       "3            0         0         0        0         1        0        0   \n",
       "4            0         0         0        0         0        0        0   \n",
       "...        ...       ...       ...      ...       ...      ...      ...   \n",
       "3137         0         0         0        0         0        0        0   \n",
       "3138         0         1         1        0         0        1        0   \n",
       "3139         0         0         0        0         0        0        0   \n",
       "3140         0         0         0        0         0        0        0   \n",
       "3141         0         0         0        0         0        0        0   \n",
       "\n",
       "      f_groupq  f_theme4  f_total  \n",
       "0            0         0        0  \n",
       "1            0         1        1  \n",
       "2            1         2        8  \n",
       "3            1         2        2  \n",
       "4            0         0        0  \n",
       "...        ...       ...      ...  \n",
       "3137         0         0        1  \n",
       "3138         0         1        2  \n",
       "3139         0         0        1  \n",
       "3140         0         0        0  \n",
       "3141         0         0        0  \n",
       "\n",
       "[3141 rows x 48 columns]"
      ]
     },
     "execution_count": 182,
     "metadata": {},
     "output_type": "execute_result"
    },
    {
     "data": {
      "application/javascript": [
       "\n",
       "            setTimeout(function() {\n",
       "                var nbb_cell_id = 182;\n",
       "                var nbb_unformatted_code = \"data = pd.read_csv(\\\"Data/data.csv\\\", index_col=[0])\\ndata\";\n",
       "                var nbb_formatted_code = \"data = pd.read_csv(\\\"Data/data.csv\\\", index_col=[0])\\ndata\";\n",
       "                var nbb_cells = Jupyter.notebook.get_cells();\n",
       "                for (var i = 0; i < nbb_cells.length; ++i) {\n",
       "                    if (nbb_cells[i].input_prompt_number == nbb_cell_id) {\n",
       "                        if (nbb_cells[i].get_text() == nbb_unformatted_code) {\n",
       "                             nbb_cells[i].set_text(nbb_formatted_code);\n",
       "                        }\n",
       "                        break;\n",
       "                    }\n",
       "                }\n",
       "            }, 500);\n",
       "            "
      ],
      "text/plain": [
       "<IPython.core.display.Javascript object>"
      ]
     },
     "metadata": {},
     "output_type": "display_data"
    }
   ],
   "source": [
    "data = pd.read_csv(\"Data/data.csv\", index_col=[0])\n",
    "data"
   ]
  },
  {
   "cell_type": "code",
   "execution_count": 184,
   "id": "ee2681ac",
   "metadata": {},
   "outputs": [
    {
     "data": {
      "text/html": [
       "<div>\n",
       "<style scoped>\n",
       "    .dataframe tbody tr th:only-of-type {\n",
       "        vertical-align: middle;\n",
       "    }\n",
       "\n",
       "    .dataframe tbody tr th {\n",
       "        vertical-align: top;\n",
       "    }\n",
       "\n",
       "    .dataframe thead th {\n",
       "        text-align: right;\n",
       "    }\n",
       "</style>\n",
       "<table border=\"1\" class=\"dataframe\">\n",
       "  <thead>\n",
       "    <tr style=\"text-align: right;\">\n",
       "      <th></th>\n",
       "      <th>state</th>\n",
       "      <th>county</th>\n",
       "      <th>area_sqmi</th>\n",
       "      <th>epl_pov</th>\n",
       "      <th>epl_unemp</th>\n",
       "      <th>epl_pci</th>\n",
       "      <th>epl_nohsdp</th>\n",
       "      <th>epl_age65</th>\n",
       "      <th>epl_age17</th>\n",
       "      <th>epl_disabl</th>\n",
       "      <th>epl_sngpnt</th>\n",
       "      <th>epl_minrty</th>\n",
       "      <th>epl_limeng</th>\n",
       "      <th>epl_munit</th>\n",
       "      <th>epl_mobile</th>\n",
       "      <th>epl_crowd</th>\n",
       "      <th>epl_noveh</th>\n",
       "      <th>epl_groupq</th>\n",
       "      <th>f_pov</th>\n",
       "      <th>f_unemp</th>\n",
       "      <th>f_pci</th>\n",
       "      <th>f_nohsdp</th>\n",
       "      <th>f_theme1</th>\n",
       "      <th>f_age65</th>\n",
       "      <th>f_age17</th>\n",
       "      <th>f_disabl</th>\n",
       "      <th>f_sngpnt</th>\n",
       "      <th>f_theme2</th>\n",
       "      <th>f_minrty</th>\n",
       "      <th>f_limeng</th>\n",
       "      <th>f_theme3</th>\n",
       "      <th>f_munit</th>\n",
       "      <th>f_mobile</th>\n",
       "      <th>f_crowd</th>\n",
       "      <th>f_noveh</th>\n",
       "      <th>f_groupq</th>\n",
       "      <th>f_theme4</th>\n",
       "    </tr>\n",
       "  </thead>\n",
       "  <tbody>\n",
       "    <tr>\n",
       "      <th>0</th>\n",
       "      <td>ALABAMA</td>\n",
       "      <td>Autauga</td>\n",
       "      <td>594.443459</td>\n",
       "      <td>0.5401</td>\n",
       "      <td>0.2745</td>\n",
       "      <td>0.2860</td>\n",
       "      <td>0.4397</td>\n",
       "      <td>0.1850</td>\n",
       "      <td>0.7529</td>\n",
       "      <td>0.7905</td>\n",
       "      <td>0.3792</td>\n",
       "      <td>0.6336</td>\n",
       "      <td>0.5113</td>\n",
       "      <td>0.6017</td>\n",
       "      <td>0.7408</td>\n",
       "      <td>0.2964</td>\n",
       "      <td>0.4846</td>\n",
       "      <td>0.1525</td>\n",
       "      <td>0</td>\n",
       "      <td>0</td>\n",
       "      <td>0</td>\n",
       "      <td>0</td>\n",
       "      <td>0</td>\n",
       "      <td>0</td>\n",
       "      <td>0</td>\n",
       "      <td>0</td>\n",
       "      <td>0</td>\n",
       "      <td>0</td>\n",
       "      <td>0</td>\n",
       "      <td>0</td>\n",
       "      <td>0</td>\n",
       "      <td>0</td>\n",
       "      <td>0</td>\n",
       "      <td>0</td>\n",
       "      <td>0</td>\n",
       "      <td>0</td>\n",
       "      <td>0</td>\n",
       "    </tr>\n",
       "    <tr>\n",
       "      <th>1</th>\n",
       "      <td>ALABAMA</td>\n",
       "      <td>Baldwin</td>\n",
       "      <td>1589.793007</td>\n",
       "      <td>0.2239</td>\n",
       "      <td>0.3121</td>\n",
       "      <td>0.2057</td>\n",
       "      <td>0.3209</td>\n",
       "      <td>0.6428</td>\n",
       "      <td>0.4323</td>\n",
       "      <td>0.3524</td>\n",
       "      <td>0.1391</td>\n",
       "      <td>0.5158</td>\n",
       "      <td>0.3582</td>\n",
       "      <td>0.9713</td>\n",
       "      <td>0.5339</td>\n",
       "      <td>0.2604</td>\n",
       "      <td>0.1328</td>\n",
       "      <td>0.3018</td>\n",
       "      <td>0</td>\n",
       "      <td>0</td>\n",
       "      <td>0</td>\n",
       "      <td>0</td>\n",
       "      <td>0</td>\n",
       "      <td>0</td>\n",
       "      <td>0</td>\n",
       "      <td>0</td>\n",
       "      <td>0</td>\n",
       "      <td>0</td>\n",
       "      <td>0</td>\n",
       "      <td>0</td>\n",
       "      <td>0</td>\n",
       "      <td>1</td>\n",
       "      <td>0</td>\n",
       "      <td>0</td>\n",
       "      <td>0</td>\n",
       "      <td>0</td>\n",
       "      <td>1</td>\n",
       "    </tr>\n",
       "    <tr>\n",
       "      <th>2</th>\n",
       "      <td>ALABAMA</td>\n",
       "      <td>Barbour</td>\n",
       "      <td>885.001636</td>\n",
       "      <td>0.9631</td>\n",
       "      <td>0.9217</td>\n",
       "      <td>0.9481</td>\n",
       "      <td>0.9701</td>\n",
       "      <td>0.4893</td>\n",
       "      <td>0.3327</td>\n",
       "      <td>0.9064</td>\n",
       "      <td>0.9468</td>\n",
       "      <td>0.8965</td>\n",
       "      <td>0.7052</td>\n",
       "      <td>0.2416</td>\n",
       "      <td>0.9280</td>\n",
       "      <td>0.8198</td>\n",
       "      <td>0.8685</td>\n",
       "      <td>0.9449</td>\n",
       "      <td>1</td>\n",
       "      <td>1</td>\n",
       "      <td>1</td>\n",
       "      <td>1</td>\n",
       "      <td>4</td>\n",
       "      <td>0</td>\n",
       "      <td>0</td>\n",
       "      <td>1</td>\n",
       "      <td>1</td>\n",
       "      <td>2</td>\n",
       "      <td>0</td>\n",
       "      <td>0</td>\n",
       "      <td>0</td>\n",
       "      <td>0</td>\n",
       "      <td>1</td>\n",
       "      <td>0</td>\n",
       "      <td>0</td>\n",
       "      <td>1</td>\n",
       "      <td>2</td>\n",
       "    </tr>\n",
       "    <tr>\n",
       "      <th>3</th>\n",
       "      <td>ALABAMA</td>\n",
       "      <td>Bibb</td>\n",
       "      <td>622.461089</td>\n",
       "      <td>0.4430</td>\n",
       "      <td>0.7895</td>\n",
       "      <td>0.8987</td>\n",
       "      <td>0.7351</td>\n",
       "      <td>0.3200</td>\n",
       "      <td>0.2846</td>\n",
       "      <td>0.6074</td>\n",
       "      <td>0.1706</td>\n",
       "      <td>0.6390</td>\n",
       "      <td>0.2270</td>\n",
       "      <td>0.4317</td>\n",
       "      <td>0.9207</td>\n",
       "      <td>0.0981</td>\n",
       "      <td>0.5441</td>\n",
       "      <td>0.9214</td>\n",
       "      <td>0</td>\n",
       "      <td>0</td>\n",
       "      <td>0</td>\n",
       "      <td>0</td>\n",
       "      <td>0</td>\n",
       "      <td>0</td>\n",
       "      <td>0</td>\n",
       "      <td>0</td>\n",
       "      <td>0</td>\n",
       "      <td>0</td>\n",
       "      <td>0</td>\n",
       "      <td>0</td>\n",
       "      <td>0</td>\n",
       "      <td>0</td>\n",
       "      <td>1</td>\n",
       "      <td>0</td>\n",
       "      <td>0</td>\n",
       "      <td>1</td>\n",
       "      <td>2</td>\n",
       "    </tr>\n",
       "    <tr>\n",
       "      <th>4</th>\n",
       "      <td>ALABAMA</td>\n",
       "      <td>Blount</td>\n",
       "      <td>644.830460</td>\n",
       "      <td>0.4723</td>\n",
       "      <td>0.2611</td>\n",
       "      <td>0.7561</td>\n",
       "      <td>0.8405</td>\n",
       "      <td>0.4715</td>\n",
       "      <td>0.6406</td>\n",
       "      <td>0.3763</td>\n",
       "      <td>0.2961</td>\n",
       "      <td>0.4206</td>\n",
       "      <td>0.7170</td>\n",
       "      <td>0.1512</td>\n",
       "      <td>0.8816</td>\n",
       "      <td>0.3703</td>\n",
       "      <td>0.2420</td>\n",
       "      <td>0.1165</td>\n",
       "      <td>0</td>\n",
       "      <td>0</td>\n",
       "      <td>0</td>\n",
       "      <td>0</td>\n",
       "      <td>0</td>\n",
       "      <td>0</td>\n",
       "      <td>0</td>\n",
       "      <td>0</td>\n",
       "      <td>0</td>\n",
       "      <td>0</td>\n",
       "      <td>0</td>\n",
       "      <td>0</td>\n",
       "      <td>0</td>\n",
       "      <td>0</td>\n",
       "      <td>0</td>\n",
       "      <td>0</td>\n",
       "      <td>0</td>\n",
       "      <td>0</td>\n",
       "      <td>0</td>\n",
       "    </tr>\n",
       "    <tr>\n",
       "      <th>...</th>\n",
       "      <td>...</td>\n",
       "      <td>...</td>\n",
       "      <td>...</td>\n",
       "      <td>...</td>\n",
       "      <td>...</td>\n",
       "      <td>...</td>\n",
       "      <td>...</td>\n",
       "      <td>...</td>\n",
       "      <td>...</td>\n",
       "      <td>...</td>\n",
       "      <td>...</td>\n",
       "      <td>...</td>\n",
       "      <td>...</td>\n",
       "      <td>...</td>\n",
       "      <td>...</td>\n",
       "      <td>...</td>\n",
       "      <td>...</td>\n",
       "      <td>...</td>\n",
       "      <td>...</td>\n",
       "      <td>...</td>\n",
       "      <td>...</td>\n",
       "      <td>...</td>\n",
       "      <td>...</td>\n",
       "      <td>...</td>\n",
       "      <td>...</td>\n",
       "      <td>...</td>\n",
       "      <td>...</td>\n",
       "      <td>...</td>\n",
       "      <td>...</td>\n",
       "      <td>...</td>\n",
       "      <td>...</td>\n",
       "      <td>...</td>\n",
       "      <td>...</td>\n",
       "      <td>...</td>\n",
       "      <td>...</td>\n",
       "      <td>...</td>\n",
       "      <td>...</td>\n",
       "    </tr>\n",
       "    <tr>\n",
       "      <th>3137</th>\n",
       "      <td>WYOMING</td>\n",
       "      <td>Sweetwater</td>\n",
       "      <td>10426.975725</td>\n",
       "      <td>0.3127</td>\n",
       "      <td>0.4490</td>\n",
       "      <td>0.1497</td>\n",
       "      <td>0.2668</td>\n",
       "      <td>0.0293</td>\n",
       "      <td>0.9150</td>\n",
       "      <td>0.2041</td>\n",
       "      <td>0.7679</td>\n",
       "      <td>0.5680</td>\n",
       "      <td>0.7052</td>\n",
       "      <td>0.7307</td>\n",
       "      <td>0.8306</td>\n",
       "      <td>0.4817</td>\n",
       "      <td>0.0503</td>\n",
       "      <td>0.2582</td>\n",
       "      <td>0</td>\n",
       "      <td>0</td>\n",
       "      <td>0</td>\n",
       "      <td>0</td>\n",
       "      <td>0</td>\n",
       "      <td>0</td>\n",
       "      <td>1</td>\n",
       "      <td>0</td>\n",
       "      <td>0</td>\n",
       "      <td>1</td>\n",
       "      <td>0</td>\n",
       "      <td>0</td>\n",
       "      <td>0</td>\n",
       "      <td>0</td>\n",
       "      <td>0</td>\n",
       "      <td>0</td>\n",
       "      <td>0</td>\n",
       "      <td>0</td>\n",
       "      <td>0</td>\n",
       "    </tr>\n",
       "    <tr>\n",
       "      <th>3138</th>\n",
       "      <td>WYOMING</td>\n",
       "      <td>Teton</td>\n",
       "      <td>3996.844622</td>\n",
       "      <td>0.0522</td>\n",
       "      <td>0.0264</td>\n",
       "      <td>0.0051</td>\n",
       "      <td>0.0548</td>\n",
       "      <td>0.1334</td>\n",
       "      <td>0.1506</td>\n",
       "      <td>0.0060</td>\n",
       "      <td>0.2216</td>\n",
       "      <td>0.5400</td>\n",
       "      <td>0.9000</td>\n",
       "      <td>0.8109</td>\n",
       "      <td>0.1442</td>\n",
       "      <td>0.9688</td>\n",
       "      <td>0.0503</td>\n",
       "      <td>0.7561</td>\n",
       "      <td>0</td>\n",
       "      <td>0</td>\n",
       "      <td>0</td>\n",
       "      <td>0</td>\n",
       "      <td>0</td>\n",
       "      <td>0</td>\n",
       "      <td>0</td>\n",
       "      <td>0</td>\n",
       "      <td>0</td>\n",
       "      <td>0</td>\n",
       "      <td>0</td>\n",
       "      <td>1</td>\n",
       "      <td>1</td>\n",
       "      <td>0</td>\n",
       "      <td>0</td>\n",
       "      <td>1</td>\n",
       "      <td>0</td>\n",
       "      <td>0</td>\n",
       "      <td>1</td>\n",
       "    </tr>\n",
       "    <tr>\n",
       "      <th>3139</th>\n",
       "      <td>WYOMING</td>\n",
       "      <td>Uinta</td>\n",
       "      <td>2081.719807</td>\n",
       "      <td>0.3430</td>\n",
       "      <td>0.6032</td>\n",
       "      <td>0.4443</td>\n",
       "      <td>0.1347</td>\n",
       "      <td>0.0675</td>\n",
       "      <td>0.9685</td>\n",
       "      <td>0.6488</td>\n",
       "      <td>0.2665</td>\n",
       "      <td>0.4136</td>\n",
       "      <td>0.4642</td>\n",
       "      <td>0.7453</td>\n",
       "      <td>0.8816</td>\n",
       "      <td>0.7249</td>\n",
       "      <td>0.1971</td>\n",
       "      <td>0.2582</td>\n",
       "      <td>0</td>\n",
       "      <td>0</td>\n",
       "      <td>0</td>\n",
       "      <td>0</td>\n",
       "      <td>0</td>\n",
       "      <td>0</td>\n",
       "      <td>1</td>\n",
       "      <td>0</td>\n",
       "      <td>0</td>\n",
       "      <td>1</td>\n",
       "      <td>0</td>\n",
       "      <td>0</td>\n",
       "      <td>0</td>\n",
       "      <td>0</td>\n",
       "      <td>0</td>\n",
       "      <td>0</td>\n",
       "      <td>0</td>\n",
       "      <td>0</td>\n",
       "      <td>0</td>\n",
       "    </tr>\n",
       "    <tr>\n",
       "      <th>3140</th>\n",
       "      <td>WYOMING</td>\n",
       "      <td>Washakie</td>\n",
       "      <td>2238.672972</td>\n",
       "      <td>0.3360</td>\n",
       "      <td>0.6207</td>\n",
       "      <td>0.4035</td>\n",
       "      <td>0.3792</td>\n",
       "      <td>0.7380</td>\n",
       "      <td>0.7122</td>\n",
       "      <td>0.4448</td>\n",
       "      <td>0.2961</td>\n",
       "      <td>0.5330</td>\n",
       "      <td>0.2270</td>\n",
       "      <td>0.1958</td>\n",
       "      <td>0.5384</td>\n",
       "      <td>0.4457</td>\n",
       "      <td>0.3715</td>\n",
       "      <td>0.4995</td>\n",
       "      <td>0</td>\n",
       "      <td>0</td>\n",
       "      <td>0</td>\n",
       "      <td>0</td>\n",
       "      <td>0</td>\n",
       "      <td>0</td>\n",
       "      <td>0</td>\n",
       "      <td>0</td>\n",
       "      <td>0</td>\n",
       "      <td>0</td>\n",
       "      <td>0</td>\n",
       "      <td>0</td>\n",
       "      <td>0</td>\n",
       "      <td>0</td>\n",
       "      <td>0</td>\n",
       "      <td>0</td>\n",
       "      <td>0</td>\n",
       "      <td>0</td>\n",
       "      <td>0</td>\n",
       "    </tr>\n",
       "    <tr>\n",
       "      <th>3141</th>\n",
       "      <td>WYOMING</td>\n",
       "      <td>Weston</td>\n",
       "      <td>2398.003891</td>\n",
       "      <td>0.6745</td>\n",
       "      <td>0.1822</td>\n",
       "      <td>0.2968</td>\n",
       "      <td>0.1831</td>\n",
       "      <td>0.5817</td>\n",
       "      <td>0.3419</td>\n",
       "      <td>0.3983</td>\n",
       "      <td>0.2961</td>\n",
       "      <td>0.3095</td>\n",
       "      <td>0.5492</td>\n",
       "      <td>0.4575</td>\n",
       "      <td>0.8535</td>\n",
       "      <td>0.6049</td>\n",
       "      <td>0.0630</td>\n",
       "      <td>0.8131</td>\n",
       "      <td>0</td>\n",
       "      <td>0</td>\n",
       "      <td>0</td>\n",
       "      <td>0</td>\n",
       "      <td>0</td>\n",
       "      <td>0</td>\n",
       "      <td>0</td>\n",
       "      <td>0</td>\n",
       "      <td>0</td>\n",
       "      <td>0</td>\n",
       "      <td>0</td>\n",
       "      <td>0</td>\n",
       "      <td>0</td>\n",
       "      <td>0</td>\n",
       "      <td>0</td>\n",
       "      <td>0</td>\n",
       "      <td>0</td>\n",
       "      <td>0</td>\n",
       "      <td>0</td>\n",
       "    </tr>\n",
       "  </tbody>\n",
       "</table>\n",
       "<p>3141 rows × 37 columns</p>\n",
       "</div>"
      ],
      "text/plain": [
       "        state      county     area_sqmi  epl_pov  epl_unemp  epl_pci  \\\n",
       "0     ALABAMA     Autauga    594.443459   0.5401     0.2745   0.2860   \n",
       "1     ALABAMA     Baldwin   1589.793007   0.2239     0.3121   0.2057   \n",
       "2     ALABAMA     Barbour    885.001636   0.9631     0.9217   0.9481   \n",
       "3     ALABAMA        Bibb    622.461089   0.4430     0.7895   0.8987   \n",
       "4     ALABAMA      Blount    644.830460   0.4723     0.2611   0.7561   \n",
       "...       ...         ...           ...      ...        ...      ...   \n",
       "3137  WYOMING  Sweetwater  10426.975725   0.3127     0.4490   0.1497   \n",
       "3138  WYOMING       Teton   3996.844622   0.0522     0.0264   0.0051   \n",
       "3139  WYOMING       Uinta   2081.719807   0.3430     0.6032   0.4443   \n",
       "3140  WYOMING    Washakie   2238.672972   0.3360     0.6207   0.4035   \n",
       "3141  WYOMING      Weston   2398.003891   0.6745     0.1822   0.2968   \n",
       "\n",
       "      epl_nohsdp  epl_age65  epl_age17  epl_disabl  epl_sngpnt  epl_minrty  \\\n",
       "0         0.4397     0.1850     0.7529      0.7905      0.3792      0.6336   \n",
       "1         0.3209     0.6428     0.4323      0.3524      0.1391      0.5158   \n",
       "2         0.9701     0.4893     0.3327      0.9064      0.9468      0.8965   \n",
       "3         0.7351     0.3200     0.2846      0.6074      0.1706      0.6390   \n",
       "4         0.8405     0.4715     0.6406      0.3763      0.2961      0.4206   \n",
       "...          ...        ...        ...         ...         ...         ...   \n",
       "3137      0.2668     0.0293     0.9150      0.2041      0.7679      0.5680   \n",
       "3138      0.0548     0.1334     0.1506      0.0060      0.2216      0.5400   \n",
       "3139      0.1347     0.0675     0.9685      0.6488      0.2665      0.4136   \n",
       "3140      0.3792     0.7380     0.7122      0.4448      0.2961      0.5330   \n",
       "3141      0.1831     0.5817     0.3419      0.3983      0.2961      0.3095   \n",
       "\n",
       "      epl_limeng  epl_munit  epl_mobile  epl_crowd  epl_noveh  epl_groupq  \\\n",
       "0         0.5113     0.6017      0.7408     0.2964     0.4846      0.1525   \n",
       "1         0.3582     0.9713      0.5339     0.2604     0.1328      0.3018   \n",
       "2         0.7052     0.2416      0.9280     0.8198     0.8685      0.9449   \n",
       "3         0.2270     0.4317      0.9207     0.0981     0.5441      0.9214   \n",
       "4         0.7170     0.1512      0.8816     0.3703     0.2420      0.1165   \n",
       "...          ...        ...         ...        ...        ...         ...   \n",
       "3137      0.7052     0.7307      0.8306     0.4817     0.0503      0.2582   \n",
       "3138      0.9000     0.8109      0.1442     0.9688     0.0503      0.7561   \n",
       "3139      0.4642     0.7453      0.8816     0.7249     0.1971      0.2582   \n",
       "3140      0.2270     0.1958      0.5384     0.4457     0.3715      0.4995   \n",
       "3141      0.5492     0.4575      0.8535     0.6049     0.0630      0.8131   \n",
       "\n",
       "      f_pov  f_unemp  f_pci  f_nohsdp  f_theme1  f_age65  f_age17  f_disabl  \\\n",
       "0         0        0      0         0         0        0        0         0   \n",
       "1         0        0      0         0         0        0        0         0   \n",
       "2         1        1      1         1         4        0        0         1   \n",
       "3         0        0      0         0         0        0        0         0   \n",
       "4         0        0      0         0         0        0        0         0   \n",
       "...     ...      ...    ...       ...       ...      ...      ...       ...   \n",
       "3137      0        0      0         0         0        0        1         0   \n",
       "3138      0        0      0         0         0        0        0         0   \n",
       "3139      0        0      0         0         0        0        1         0   \n",
       "3140      0        0      0         0         0        0        0         0   \n",
       "3141      0        0      0         0         0        0        0         0   \n",
       "\n",
       "      f_sngpnt  f_theme2  f_minrty  f_limeng  f_theme3  f_munit  f_mobile  \\\n",
       "0            0         0         0         0         0        0         0   \n",
       "1            0         0         0         0         0        1         0   \n",
       "2            1         2         0         0         0        0         1   \n",
       "3            0         0         0         0         0        0         1   \n",
       "4            0         0         0         0         0        0         0   \n",
       "...        ...       ...       ...       ...       ...      ...       ...   \n",
       "3137         0         1         0         0         0        0         0   \n",
       "3138         0         0         0         1         1        0         0   \n",
       "3139         0         1         0         0         0        0         0   \n",
       "3140         0         0         0         0         0        0         0   \n",
       "3141         0         0         0         0         0        0         0   \n",
       "\n",
       "      f_crowd  f_noveh  f_groupq  f_theme4  \n",
       "0           0        0         0         0  \n",
       "1           0        0         0         1  \n",
       "2           0        0         1         2  \n",
       "3           0        0         1         2  \n",
       "4           0        0         0         0  \n",
       "...       ...      ...       ...       ...  \n",
       "3137        0        0         0         0  \n",
       "3138        1        0         0         1  \n",
       "3139        0        0         0         0  \n",
       "3140        0        0         0         0  \n",
       "3141        0        0         0         0  \n",
       "\n",
       "[3141 rows x 37 columns]"
      ]
     },
     "execution_count": 184,
     "metadata": {},
     "output_type": "execute_result"
    },
    {
     "data": {
      "application/javascript": [
       "\n",
       "            setTimeout(function() {\n",
       "                var nbb_cell_id = 184;\n",
       "                var nbb_unformatted_code = \"# data = data.drop(\\n#     [\\\"rpl_themes\\\", \\\"rpl_theme1\\\", \\\"rpl_theme2\\\", \\\"rpl_theme3\\\", \\\"rpl_theme4\\\"], axis=1\\n# )\\ndata = data.drop(\\n    [\\n        \\\"rpl_themes\\\",\\n        \\\"rpl_theme1\\\",\\n        \\\"rpl_theme2\\\",\\n        \\\"rpl_theme3\\\",\\n        \\\"rpl_theme4\\\",\\n        \\\"spl_theme1\\\",\\n        \\\"spl_theme2\\\",\\n        \\\"spl_theme3\\\",\\n        \\\"spl_theme4\\\",\\n        \\\"spl_themes\\\",\\n        \\\"f_total\\\",\\n    ],\\n    axis=1,\\n)\\ndata\";\n",
       "                var nbb_formatted_code = \"# data = data.drop(\\n#     [\\\"rpl_themes\\\", \\\"rpl_theme1\\\", \\\"rpl_theme2\\\", \\\"rpl_theme3\\\", \\\"rpl_theme4\\\"], axis=1\\n# )\\ndata = data.drop(\\n    [\\n        \\\"rpl_themes\\\",\\n        \\\"rpl_theme1\\\",\\n        \\\"rpl_theme2\\\",\\n        \\\"rpl_theme3\\\",\\n        \\\"rpl_theme4\\\",\\n        \\\"spl_theme1\\\",\\n        \\\"spl_theme2\\\",\\n        \\\"spl_theme3\\\",\\n        \\\"spl_theme4\\\",\\n        \\\"spl_themes\\\",\\n        \\\"f_total\\\",\\n    ],\\n    axis=1,\\n)\\ndata\";\n",
       "                var nbb_cells = Jupyter.notebook.get_cells();\n",
       "                for (var i = 0; i < nbb_cells.length; ++i) {\n",
       "                    if (nbb_cells[i].input_prompt_number == nbb_cell_id) {\n",
       "                        if (nbb_cells[i].get_text() == nbb_unformatted_code) {\n",
       "                             nbb_cells[i].set_text(nbb_formatted_code);\n",
       "                        }\n",
       "                        break;\n",
       "                    }\n",
       "                }\n",
       "            }, 500);\n",
       "            "
      ],
      "text/plain": [
       "<IPython.core.display.Javascript object>"
      ]
     },
     "metadata": {},
     "output_type": "display_data"
    }
   ],
   "source": [
    "# data = data.drop(\n",
    "#     [\"rpl_themes\", \"rpl_theme1\", \"rpl_theme2\", \"rpl_theme3\", \"rpl_theme4\"], axis=1\n",
    "# )\n",
    "data = data.drop(\n",
    "    [\n",
    "        \"rpl_themes\",\n",
    "        \"rpl_theme1\",\n",
    "        \"rpl_theme2\",\n",
    "        \"rpl_theme3\",\n",
    "        \"rpl_theme4\",\n",
    "        \"spl_theme1\",\n",
    "        \"spl_theme2\",\n",
    "        \"spl_theme3\",\n",
    "        \"spl_theme4\",\n",
    "        \"spl_themes\",\n",
    "        \"f_total\",\n",
    "    ],\n",
    "    axis=1,\n",
    ")\n",
    "data"
   ]
  },
  {
   "cell_type": "code",
   "execution_count": 185,
   "id": "7cea131b",
   "metadata": {},
   "outputs": [
    {
     "data": {
      "text/html": [
       "<div>\n",
       "<style scoped>\n",
       "    .dataframe tbody tr th:only-of-type {\n",
       "        vertical-align: middle;\n",
       "    }\n",
       "\n",
       "    .dataframe tbody tr th {\n",
       "        vertical-align: top;\n",
       "    }\n",
       "\n",
       "    .dataframe thead th {\n",
       "        text-align: right;\n",
       "    }\n",
       "</style>\n",
       "<table border=\"1\" class=\"dataframe\">\n",
       "  <thead>\n",
       "    <tr style=\"text-align: right;\">\n",
       "      <th></th>\n",
       "      <th>state</th>\n",
       "      <th>county</th>\n",
       "      <th>area_sqmi</th>\n",
       "      <th>epl_pov</th>\n",
       "      <th>epl_unemp</th>\n",
       "      <th>epl_pci</th>\n",
       "      <th>epl_nohsdp</th>\n",
       "      <th>epl_age65</th>\n",
       "      <th>epl_age17</th>\n",
       "      <th>epl_disabl</th>\n",
       "      <th>epl_sngpnt</th>\n",
       "      <th>epl_minrty</th>\n",
       "      <th>epl_limeng</th>\n",
       "      <th>epl_munit</th>\n",
       "      <th>epl_mobile</th>\n",
       "      <th>epl_crowd</th>\n",
       "      <th>epl_noveh</th>\n",
       "      <th>epl_groupq</th>\n",
       "      <th>f_pov</th>\n",
       "      <th>f_unemp</th>\n",
       "      <th>f_pci</th>\n",
       "      <th>f_nohsdp</th>\n",
       "      <th>f_theme1</th>\n",
       "      <th>f_age65</th>\n",
       "      <th>f_age17</th>\n",
       "      <th>f_disabl</th>\n",
       "      <th>f_sngpnt</th>\n",
       "      <th>f_theme2</th>\n",
       "      <th>f_minrty</th>\n",
       "      <th>f_limeng</th>\n",
       "      <th>f_theme3</th>\n",
       "      <th>f_munit</th>\n",
       "      <th>f_mobile</th>\n",
       "      <th>f_crowd</th>\n",
       "      <th>f_noveh</th>\n",
       "      <th>f_groupq</th>\n",
       "      <th>f_theme4</th>\n",
       "    </tr>\n",
       "  </thead>\n",
       "  <tbody>\n",
       "    <tr>\n",
       "      <th>0</th>\n",
       "      <td>ALABAMA</td>\n",
       "      <td>Autauga</td>\n",
       "      <td>-0.146226</td>\n",
       "      <td>0.147034</td>\n",
       "      <td>-0.758697</td>\n",
       "      <td>-0.741168</td>\n",
       "      <td>-0.199502</td>\n",
       "      <td>-1.078248</td>\n",
       "      <td>0.892276</td>\n",
       "      <td>1.016059</td>\n",
       "      <td>-0.397494</td>\n",
       "      <td>0.466278</td>\n",
       "      <td>0.104862</td>\n",
       "      <td>0.367873</td>\n",
       "      <td>0.838905</td>\n",
       "      <td>-0.655436</td>\n",
       "      <td>-0.033367</td>\n",
       "      <td>-1.149022</td>\n",
       "      <td>0</td>\n",
       "      <td>0</td>\n",
       "      <td>0</td>\n",
       "      <td>0</td>\n",
       "      <td>0</td>\n",
       "      <td>0</td>\n",
       "      <td>0</td>\n",
       "      <td>0</td>\n",
       "      <td>0</td>\n",
       "      <td>0</td>\n",
       "      <td>0</td>\n",
       "      <td>0</td>\n",
       "      <td>0</td>\n",
       "      <td>0</td>\n",
       "      <td>0</td>\n",
       "      <td>0</td>\n",
       "      <td>0</td>\n",
       "      <td>0</td>\n",
       "      <td>0</td>\n",
       "    </tr>\n",
       "    <tr>\n",
       "      <th>1</th>\n",
       "      <td>ALABAMA</td>\n",
       "      <td>Baldwin</td>\n",
       "      <td>0.129237</td>\n",
       "      <td>-0.946418</td>\n",
       "      <td>-0.628783</td>\n",
       "      <td>-1.019243</td>\n",
       "      <td>-0.609932</td>\n",
       "      <td>0.505686</td>\n",
       "      <td>-0.218058</td>\n",
       "      <td>-0.498723</td>\n",
       "      <td>-1.227960</td>\n",
       "      <td>0.059334</td>\n",
       "      <td>-0.401806</td>\n",
       "      <td>1.633605</td>\n",
       "      <td>0.123762</td>\n",
       "      <td>-0.778635</td>\n",
       "      <td>-1.247522</td>\n",
       "      <td>-0.640892</td>\n",
       "      <td>0</td>\n",
       "      <td>0</td>\n",
       "      <td>0</td>\n",
       "      <td>0</td>\n",
       "      <td>0</td>\n",
       "      <td>0</td>\n",
       "      <td>0</td>\n",
       "      <td>0</td>\n",
       "      <td>0</td>\n",
       "      <td>0</td>\n",
       "      <td>0</td>\n",
       "      <td>0</td>\n",
       "      <td>0</td>\n",
       "      <td>1</td>\n",
       "      <td>0</td>\n",
       "      <td>0</td>\n",
       "      <td>0</td>\n",
       "      <td>0</td>\n",
       "      <td>1</td>\n",
       "    </tr>\n",
       "    <tr>\n",
       "      <th>2</th>\n",
       "      <td>ALABAMA</td>\n",
       "      <td>Barbour</td>\n",
       "      <td>-0.065814</td>\n",
       "      <td>1.609811</td>\n",
       "      <td>1.477477</td>\n",
       "      <td>1.551660</td>\n",
       "      <td>1.632922</td>\n",
       "      <td>-0.025406</td>\n",
       "      <td>-0.563003</td>\n",
       "      <td>1.416797</td>\n",
       "      <td>1.565740</td>\n",
       "      <td>1.374474</td>\n",
       "      <td>0.746553</td>\n",
       "      <td>-0.865325</td>\n",
       "      <td>1.485956</td>\n",
       "      <td>1.135743</td>\n",
       "      <td>1.291572</td>\n",
       "      <td>1.547842</td>\n",
       "      <td>1</td>\n",
       "      <td>1</td>\n",
       "      <td>1</td>\n",
       "      <td>1</td>\n",
       "      <td>4</td>\n",
       "      <td>0</td>\n",
       "      <td>0</td>\n",
       "      <td>1</td>\n",
       "      <td>1</td>\n",
       "      <td>2</td>\n",
       "      <td>0</td>\n",
       "      <td>0</td>\n",
       "      <td>0</td>\n",
       "      <td>0</td>\n",
       "      <td>1</td>\n",
       "      <td>0</td>\n",
       "      <td>0</td>\n",
       "      <td>1</td>\n",
       "      <td>2</td>\n",
       "    </tr>\n",
       "    <tr>\n",
       "      <th>3</th>\n",
       "      <td>ALABAMA</td>\n",
       "      <td>Bibb</td>\n",
       "      <td>-0.138472</td>\n",
       "      <td>-0.188748</td>\n",
       "      <td>1.020706</td>\n",
       "      <td>1.380590</td>\n",
       "      <td>0.821045</td>\n",
       "      <td>-0.611164</td>\n",
       "      <td>-0.729588</td>\n",
       "      <td>0.382969</td>\n",
       "      <td>-1.119007</td>\n",
       "      <td>0.484932</td>\n",
       "      <td>-0.835999</td>\n",
       "      <td>-0.214309</td>\n",
       "      <td>1.460724</td>\n",
       "      <td>-1.334058</td>\n",
       "      <td>0.171983</td>\n",
       "      <td>1.467862</td>\n",
       "      <td>0</td>\n",
       "      <td>0</td>\n",
       "      <td>0</td>\n",
       "      <td>0</td>\n",
       "      <td>0</td>\n",
       "      <td>0</td>\n",
       "      <td>0</td>\n",
       "      <td>0</td>\n",
       "      <td>0</td>\n",
       "      <td>0</td>\n",
       "      <td>0</td>\n",
       "      <td>0</td>\n",
       "      <td>0</td>\n",
       "      <td>0</td>\n",
       "      <td>1</td>\n",
       "      <td>0</td>\n",
       "      <td>0</td>\n",
       "      <td>1</td>\n",
       "      <td>2</td>\n",
       "    </tr>\n",
       "    <tr>\n",
       "      <th>4</th>\n",
       "      <td>ALABAMA</td>\n",
       "      <td>Blount</td>\n",
       "      <td>-0.132282</td>\n",
       "      <td>-0.087425</td>\n",
       "      <td>-0.804996</td>\n",
       "      <td>0.886771</td>\n",
       "      <td>1.185181</td>\n",
       "      <td>-0.086991</td>\n",
       "      <td>0.503348</td>\n",
       "      <td>-0.416086</td>\n",
       "      <td>-0.684924</td>\n",
       "      <td>-0.269538</td>\n",
       "      <td>0.785604</td>\n",
       "      <td>-1.174909</td>\n",
       "      <td>1.325576</td>\n",
       "      <td>-0.402536</td>\n",
       "      <td>-0.870644</td>\n",
       "      <td>-1.271545</td>\n",
       "      <td>0</td>\n",
       "      <td>0</td>\n",
       "      <td>0</td>\n",
       "      <td>0</td>\n",
       "      <td>0</td>\n",
       "      <td>0</td>\n",
       "      <td>0</td>\n",
       "      <td>0</td>\n",
       "      <td>0</td>\n",
       "      <td>0</td>\n",
       "      <td>0</td>\n",
       "      <td>0</td>\n",
       "      <td>0</td>\n",
       "      <td>0</td>\n",
       "      <td>0</td>\n",
       "      <td>0</td>\n",
       "      <td>0</td>\n",
       "      <td>0</td>\n",
       "      <td>0</td>\n",
       "    </tr>\n",
       "    <tr>\n",
       "      <th>...</th>\n",
       "      <td>...</td>\n",
       "      <td>...</td>\n",
       "      <td>...</td>\n",
       "      <td>...</td>\n",
       "      <td>...</td>\n",
       "      <td>...</td>\n",
       "      <td>...</td>\n",
       "      <td>...</td>\n",
       "      <td>...</td>\n",
       "      <td>...</td>\n",
       "      <td>...</td>\n",
       "      <td>...</td>\n",
       "      <td>...</td>\n",
       "      <td>...</td>\n",
       "      <td>...</td>\n",
       "      <td>...</td>\n",
       "      <td>...</td>\n",
       "      <td>...</td>\n",
       "      <td>...</td>\n",
       "      <td>...</td>\n",
       "      <td>...</td>\n",
       "      <td>...</td>\n",
       "      <td>...</td>\n",
       "      <td>...</td>\n",
       "      <td>...</td>\n",
       "      <td>...</td>\n",
       "      <td>...</td>\n",
       "      <td>...</td>\n",
       "      <td>...</td>\n",
       "      <td>...</td>\n",
       "      <td>...</td>\n",
       "      <td>...</td>\n",
       "      <td>...</td>\n",
       "      <td>...</td>\n",
       "      <td>...</td>\n",
       "      <td>...</td>\n",
       "      <td>...</td>\n",
       "    </tr>\n",
       "    <tr>\n",
       "      <th>3137</th>\n",
       "      <td>WYOMING</td>\n",
       "      <td>Sweetwater</td>\n",
       "      <td>0.795391</td>\n",
       "      <td>-1.540174</td>\n",
       "      <td>-1.615920</td>\n",
       "      <td>-1.713914</td>\n",
       "      <td>-1.529254</td>\n",
       "      <td>-1.256777</td>\n",
       "      <td>-1.193670</td>\n",
       "      <td>-1.696442</td>\n",
       "      <td>-0.942607</td>\n",
       "      <td>0.142933</td>\n",
       "      <td>1.391223</td>\n",
       "      <td>1.084299</td>\n",
       "      <td>-1.223224</td>\n",
       "      <td>1.645650</td>\n",
       "      <td>-1.532251</td>\n",
       "      <td>0.905278</td>\n",
       "      <td>0</td>\n",
       "      <td>0</td>\n",
       "      <td>0</td>\n",
       "      <td>0</td>\n",
       "      <td>0</td>\n",
       "      <td>0</td>\n",
       "      <td>1</td>\n",
       "      <td>0</td>\n",
       "      <td>0</td>\n",
       "      <td>1</td>\n",
       "      <td>0</td>\n",
       "      <td>0</td>\n",
       "      <td>0</td>\n",
       "      <td>0</td>\n",
       "      <td>0</td>\n",
       "      <td>0</td>\n",
       "      <td>0</td>\n",
       "      <td>0</td>\n",
       "      <td>0</td>\n",
       "    </tr>\n",
       "    <tr>\n",
       "      <th>3138</th>\n",
       "      <td>WYOMING</td>\n",
       "      <td>Teton</td>\n",
       "      <td>0.265379</td>\n",
       "      <td>-0.534558</td>\n",
       "      <td>0.377011</td>\n",
       "      <td>-0.192981</td>\n",
       "      <td>-1.253215</td>\n",
       "      <td>-1.484784</td>\n",
       "      <td>1.638964</td>\n",
       "      <td>0.526115</td>\n",
       "      <td>-0.787305</td>\n",
       "      <td>-0.293720</td>\n",
       "      <td>-0.051011</td>\n",
       "      <td>0.859645</td>\n",
       "      <td>1.325576</td>\n",
       "      <td>0.810976</td>\n",
       "      <td>-1.025606</td>\n",
       "      <td>-0.789281</td>\n",
       "      <td>0</td>\n",
       "      <td>0</td>\n",
       "      <td>0</td>\n",
       "      <td>0</td>\n",
       "      <td>0</td>\n",
       "      <td>0</td>\n",
       "      <td>0</td>\n",
       "      <td>0</td>\n",
       "      <td>0</td>\n",
       "      <td>0</td>\n",
       "      <td>0</td>\n",
       "      <td>1</td>\n",
       "      <td>1</td>\n",
       "      <td>0</td>\n",
       "      <td>0</td>\n",
       "      <td>1</td>\n",
       "      <td>0</td>\n",
       "      <td>0</td>\n",
       "      <td>1</td>\n",
       "    </tr>\n",
       "    <tr>\n",
       "      <th>3139</th>\n",
       "      <td>WYOMING</td>\n",
       "      <td>Uinta</td>\n",
       "      <td>0.308815</td>\n",
       "      <td>-0.558765</td>\n",
       "      <td>0.437476</td>\n",
       "      <td>-0.334269</td>\n",
       "      <td>-0.408517</td>\n",
       "      <td>0.835067</td>\n",
       "      <td>0.751320</td>\n",
       "      <td>-0.179239</td>\n",
       "      <td>-0.684924</td>\n",
       "      <td>0.118752</td>\n",
       "      <td>-0.835999</td>\n",
       "      <td>-1.022172</td>\n",
       "      <td>0.139316</td>\n",
       "      <td>-0.144502</td>\n",
       "      <td>-0.423705</td>\n",
       "      <td>0.031962</td>\n",
       "      <td>0</td>\n",
       "      <td>0</td>\n",
       "      <td>0</td>\n",
       "      <td>0</td>\n",
       "      <td>0</td>\n",
       "      <td>0</td>\n",
       "      <td>1</td>\n",
       "      <td>0</td>\n",
       "      <td>0</td>\n",
       "      <td>1</td>\n",
       "      <td>0</td>\n",
       "      <td>0</td>\n",
       "      <td>0</td>\n",
       "      <td>0</td>\n",
       "      <td>0</td>\n",
       "      <td>0</td>\n",
       "      <td>0</td>\n",
       "      <td>0</td>\n",
       "      <td>0</td>\n",
       "    </tr>\n",
       "    <tr>\n",
       "      <th>3140</th>\n",
       "      <td>WYOMING</td>\n",
       "      <td>Washakie</td>\n",
       "      <td>0.352910</td>\n",
       "      <td>0.611803</td>\n",
       "      <td>-1.077607</td>\n",
       "      <td>-0.703768</td>\n",
       "      <td>-1.086003</td>\n",
       "      <td>0.294288</td>\n",
       "      <td>-0.531140</td>\n",
       "      <td>-0.340018</td>\n",
       "      <td>-0.684924</td>\n",
       "      <td>-0.653336</td>\n",
       "      <td>0.230288</td>\n",
       "      <td>-0.125954</td>\n",
       "      <td>1.228449</td>\n",
       "      <td>0.400312</td>\n",
       "      <td>-1.488420</td>\n",
       "      <td>1.099272</td>\n",
       "      <td>0</td>\n",
       "      <td>0</td>\n",
       "      <td>0</td>\n",
       "      <td>0</td>\n",
       "      <td>0</td>\n",
       "      <td>0</td>\n",
       "      <td>0</td>\n",
       "      <td>0</td>\n",
       "      <td>0</td>\n",
       "      <td>0</td>\n",
       "      <td>0</td>\n",
       "      <td>0</td>\n",
       "      <td>0</td>\n",
       "      <td>0</td>\n",
       "      <td>0</td>\n",
       "      <td>0</td>\n",
       "      <td>0</td>\n",
       "      <td>0</td>\n",
       "      <td>0</td>\n",
       "    </tr>\n",
       "    <tr>\n",
       "      <th>3141</th>\n",
       "      <td>WYOMING</td>\n",
       "      <td>Weston</td>\n",
       "      <td>NaN</td>\n",
       "      <td>NaN</td>\n",
       "      <td>NaN</td>\n",
       "      <td>NaN</td>\n",
       "      <td>NaN</td>\n",
       "      <td>NaN</td>\n",
       "      <td>NaN</td>\n",
       "      <td>NaN</td>\n",
       "      <td>NaN</td>\n",
       "      <td>NaN</td>\n",
       "      <td>NaN</td>\n",
       "      <td>NaN</td>\n",
       "      <td>NaN</td>\n",
       "      <td>NaN</td>\n",
       "      <td>NaN</td>\n",
       "      <td>NaN</td>\n",
       "      <td>0</td>\n",
       "      <td>0</td>\n",
       "      <td>0</td>\n",
       "      <td>0</td>\n",
       "      <td>0</td>\n",
       "      <td>0</td>\n",
       "      <td>0</td>\n",
       "      <td>0</td>\n",
       "      <td>0</td>\n",
       "      <td>0</td>\n",
       "      <td>0</td>\n",
       "      <td>0</td>\n",
       "      <td>0</td>\n",
       "      <td>0</td>\n",
       "      <td>0</td>\n",
       "      <td>0</td>\n",
       "      <td>0</td>\n",
       "      <td>0</td>\n",
       "      <td>0</td>\n",
       "    </tr>\n",
       "  </tbody>\n",
       "</table>\n",
       "<p>3141 rows × 37 columns</p>\n",
       "</div>"
      ],
      "text/plain": [
       "        state      county  area_sqmi   epl_pov  epl_unemp   epl_pci  \\\n",
       "0     ALABAMA     Autauga  -0.146226  0.147034  -0.758697 -0.741168   \n",
       "1     ALABAMA     Baldwin   0.129237 -0.946418  -0.628783 -1.019243   \n",
       "2     ALABAMA     Barbour  -0.065814  1.609811   1.477477  1.551660   \n",
       "3     ALABAMA        Bibb  -0.138472 -0.188748   1.020706  1.380590   \n",
       "4     ALABAMA      Blount  -0.132282 -0.087425  -0.804996  0.886771   \n",
       "...       ...         ...        ...       ...        ...       ...   \n",
       "3137  WYOMING  Sweetwater   0.795391 -1.540174  -1.615920 -1.713914   \n",
       "3138  WYOMING       Teton   0.265379 -0.534558   0.377011 -0.192981   \n",
       "3139  WYOMING       Uinta   0.308815 -0.558765   0.437476 -0.334269   \n",
       "3140  WYOMING    Washakie   0.352910  0.611803  -1.077607 -0.703768   \n",
       "3141  WYOMING      Weston        NaN       NaN        NaN       NaN   \n",
       "\n",
       "      epl_nohsdp  epl_age65  epl_age17  epl_disabl  epl_sngpnt  epl_minrty  \\\n",
       "0      -0.199502  -1.078248   0.892276    1.016059   -0.397494    0.466278   \n",
       "1      -0.609932   0.505686  -0.218058   -0.498723   -1.227960    0.059334   \n",
       "2       1.632922  -0.025406  -0.563003    1.416797    1.565740    1.374474   \n",
       "3       0.821045  -0.611164  -0.729588    0.382969   -1.119007    0.484932   \n",
       "4       1.185181  -0.086991   0.503348   -0.416086   -0.684924   -0.269538   \n",
       "...          ...        ...        ...         ...         ...         ...   \n",
       "3137   -1.529254  -1.256777  -1.193670   -1.696442   -0.942607    0.142933   \n",
       "3138   -1.253215  -1.484784   1.638964    0.526115   -0.787305   -0.293720   \n",
       "3139   -0.408517   0.835067   0.751320   -0.179239   -0.684924    0.118752   \n",
       "3140   -1.086003   0.294288  -0.531140   -0.340018   -0.684924   -0.653336   \n",
       "3141         NaN        NaN        NaN         NaN         NaN         NaN   \n",
       "\n",
       "      epl_limeng  epl_munit  epl_mobile  epl_crowd  epl_noveh  epl_groupq  \\\n",
       "0       0.104862   0.367873    0.838905  -0.655436  -0.033367   -1.149022   \n",
       "1      -0.401806   1.633605    0.123762  -0.778635  -1.247522   -0.640892   \n",
       "2       0.746553  -0.865325    1.485956   1.135743   1.291572    1.547842   \n",
       "3      -0.835999  -0.214309    1.460724  -1.334058   0.171983    1.467862   \n",
       "4       0.785604  -1.174909    1.325576  -0.402536  -0.870644   -1.271545   \n",
       "...          ...        ...         ...        ...        ...         ...   \n",
       "3137    1.391223   1.084299   -1.223224   1.645650  -1.532251    0.905278   \n",
       "3138   -0.051011   0.859645    1.325576   0.810976  -1.025606   -0.789281   \n",
       "3139   -0.835999  -1.022172    0.139316  -0.144502  -0.423705    0.031962   \n",
       "3140    0.230288  -0.125954    1.228449   0.400312  -1.488420    1.099272   \n",
       "3141         NaN        NaN         NaN        NaN        NaN         NaN   \n",
       "\n",
       "      f_pov  f_unemp  f_pci  f_nohsdp  f_theme1  f_age65  f_age17  f_disabl  \\\n",
       "0         0        0      0         0         0        0        0         0   \n",
       "1         0        0      0         0         0        0        0         0   \n",
       "2         1        1      1         1         4        0        0         1   \n",
       "3         0        0      0         0         0        0        0         0   \n",
       "4         0        0      0         0         0        0        0         0   \n",
       "...     ...      ...    ...       ...       ...      ...      ...       ...   \n",
       "3137      0        0      0         0         0        0        1         0   \n",
       "3138      0        0      0         0         0        0        0         0   \n",
       "3139      0        0      0         0         0        0        1         0   \n",
       "3140      0        0      0         0         0        0        0         0   \n",
       "3141      0        0      0         0         0        0        0         0   \n",
       "\n",
       "      f_sngpnt  f_theme2  f_minrty  f_limeng  f_theme3  f_munit  f_mobile  \\\n",
       "0            0         0         0         0         0        0         0   \n",
       "1            0         0         0         0         0        1         0   \n",
       "2            1         2         0         0         0        0         1   \n",
       "3            0         0         0         0         0        0         1   \n",
       "4            0         0         0         0         0        0         0   \n",
       "...        ...       ...       ...       ...       ...      ...       ...   \n",
       "3137         0         1         0         0         0        0         0   \n",
       "3138         0         0         0         1         1        0         0   \n",
       "3139         0         1         0         0         0        0         0   \n",
       "3140         0         0         0         0         0        0         0   \n",
       "3141         0         0         0         0         0        0         0   \n",
       "\n",
       "      f_crowd  f_noveh  f_groupq  f_theme4  \n",
       "0           0        0         0         0  \n",
       "1           0        0         0         1  \n",
       "2           0        0         1         2  \n",
       "3           0        0         1         2  \n",
       "4           0        0         0         0  \n",
       "...       ...      ...       ...       ...  \n",
       "3137        0        0         0         0  \n",
       "3138        1        0         0         1  \n",
       "3139        0        0         0         0  \n",
       "3140        0        0         0         0  \n",
       "3141        0        0         0         0  \n",
       "\n",
       "[3141 rows x 37 columns]"
      ]
     },
     "execution_count": 185,
     "metadata": {},
     "output_type": "execute_result"
    },
    {
     "data": {
      "application/javascript": [
       "\n",
       "            setTimeout(function() {\n",
       "                var nbb_cell_id = 185;\n",
       "                var nbb_unformatted_code = \"### Standardize Data\\nX_numerical = data.iloc[:, 2:18]\\nlist_numerical = X_numerical.columns\\n\\n# Standardize the features\\nscalar = StandardScaler()\\ndf = data\\ndf[list_numerical] = pd.DataFrame(\\n    scalar.fit_transform(df[list_numerical])\\n)  # scaling the data\\ndf\";\n",
       "                var nbb_formatted_code = \"### Standardize Data\\nX_numerical = data.iloc[:, 2:18]\\nlist_numerical = X_numerical.columns\\n\\n# Standardize the features\\nscalar = StandardScaler()\\ndf = data\\ndf[list_numerical] = pd.DataFrame(\\n    scalar.fit_transform(df[list_numerical])\\n)  # scaling the data\\ndf\";\n",
       "                var nbb_cells = Jupyter.notebook.get_cells();\n",
       "                for (var i = 0; i < nbb_cells.length; ++i) {\n",
       "                    if (nbb_cells[i].input_prompt_number == nbb_cell_id) {\n",
       "                        if (nbb_cells[i].get_text() == nbb_unformatted_code) {\n",
       "                             nbb_cells[i].set_text(nbb_formatted_code);\n",
       "                        }\n",
       "                        break;\n",
       "                    }\n",
       "                }\n",
       "            }, 500);\n",
       "            "
      ],
      "text/plain": [
       "<IPython.core.display.Javascript object>"
      ]
     },
     "metadata": {},
     "output_type": "display_data"
    }
   ],
   "source": [
    "### Standardize Data\n",
    "X_numerical = data.iloc[:, 2:18]\n",
    "list_numerical = X_numerical.columns\n",
    "\n",
    "# Standardize the features\n",
    "scalar = StandardScaler()\n",
    "df = data\n",
    "df[list_numerical] = pd.DataFrame(\n",
    "    scalar.fit_transform(df[list_numerical])\n",
    ")  # scaling the data\n",
    "df"
   ]
  },
  {
   "cell_type": "code",
   "execution_count": 186,
   "id": "171293fd",
   "metadata": {},
   "outputs": [
    {
     "data": {
      "text/html": [
       "<div>\n",
       "<style scoped>\n",
       "    .dataframe tbody tr th:only-of-type {\n",
       "        vertical-align: middle;\n",
       "    }\n",
       "\n",
       "    .dataframe tbody tr th {\n",
       "        vertical-align: top;\n",
       "    }\n",
       "\n",
       "    .dataframe thead th {\n",
       "        text-align: right;\n",
       "    }\n",
       "</style>\n",
       "<table border=\"1\" class=\"dataframe\">\n",
       "  <thead>\n",
       "    <tr style=\"text-align: right;\">\n",
       "      <th></th>\n",
       "      <th>state</th>\n",
       "      <th>county</th>\n",
       "      <th>area_sqmi</th>\n",
       "      <th>epl_pov</th>\n",
       "      <th>epl_unemp</th>\n",
       "      <th>epl_pci</th>\n",
       "      <th>epl_nohsdp</th>\n",
       "      <th>epl_age65</th>\n",
       "      <th>epl_age17</th>\n",
       "      <th>epl_disabl</th>\n",
       "      <th>epl_sngpnt</th>\n",
       "      <th>epl_minrty</th>\n",
       "      <th>epl_limeng</th>\n",
       "      <th>epl_munit</th>\n",
       "      <th>epl_mobile</th>\n",
       "      <th>epl_crowd</th>\n",
       "      <th>epl_noveh</th>\n",
       "      <th>epl_groupq</th>\n",
       "      <th>f_pov</th>\n",
       "      <th>f_unemp</th>\n",
       "      <th>f_pci</th>\n",
       "      <th>f_nohsdp</th>\n",
       "      <th>f_theme1</th>\n",
       "      <th>f_age65</th>\n",
       "      <th>f_age17</th>\n",
       "      <th>f_disabl</th>\n",
       "      <th>f_sngpnt</th>\n",
       "      <th>f_theme2</th>\n",
       "      <th>f_minrty</th>\n",
       "      <th>f_limeng</th>\n",
       "      <th>f_theme3</th>\n",
       "      <th>f_munit</th>\n",
       "      <th>f_mobile</th>\n",
       "      <th>f_crowd</th>\n",
       "      <th>f_noveh</th>\n",
       "      <th>f_groupq</th>\n",
       "      <th>f_theme4</th>\n",
       "    </tr>\n",
       "  </thead>\n",
       "  <tbody>\n",
       "    <tr>\n",
       "      <th>0</th>\n",
       "      <td>ALABAMA</td>\n",
       "      <td>Autauga</td>\n",
       "      <td>-0.146226</td>\n",
       "      <td>0.147034</td>\n",
       "      <td>-0.758697</td>\n",
       "      <td>-0.741168</td>\n",
       "      <td>-0.199502</td>\n",
       "      <td>-1.078248</td>\n",
       "      <td>0.892276</td>\n",
       "      <td>1.016059</td>\n",
       "      <td>-0.397494</td>\n",
       "      <td>0.466278</td>\n",
       "      <td>0.104862</td>\n",
       "      <td>0.367873</td>\n",
       "      <td>0.838905</td>\n",
       "      <td>-0.655436</td>\n",
       "      <td>-0.033367</td>\n",
       "      <td>-1.149022</td>\n",
       "      <td>0</td>\n",
       "      <td>0</td>\n",
       "      <td>0</td>\n",
       "      <td>0</td>\n",
       "      <td>0</td>\n",
       "      <td>0</td>\n",
       "      <td>0</td>\n",
       "      <td>0</td>\n",
       "      <td>0</td>\n",
       "      <td>0</td>\n",
       "      <td>0</td>\n",
       "      <td>0</td>\n",
       "      <td>0</td>\n",
       "      <td>0</td>\n",
       "      <td>0</td>\n",
       "      <td>0</td>\n",
       "      <td>0</td>\n",
       "      <td>0</td>\n",
       "      <td>0</td>\n",
       "    </tr>\n",
       "    <tr>\n",
       "      <th>1</th>\n",
       "      <td>ALABAMA</td>\n",
       "      <td>Baldwin</td>\n",
       "      <td>0.129237</td>\n",
       "      <td>-0.946418</td>\n",
       "      <td>-0.628783</td>\n",
       "      <td>-1.019243</td>\n",
       "      <td>-0.609932</td>\n",
       "      <td>0.505686</td>\n",
       "      <td>-0.218058</td>\n",
       "      <td>-0.498723</td>\n",
       "      <td>-1.227960</td>\n",
       "      <td>0.059334</td>\n",
       "      <td>-0.401806</td>\n",
       "      <td>1.633605</td>\n",
       "      <td>0.123762</td>\n",
       "      <td>-0.778635</td>\n",
       "      <td>-1.247522</td>\n",
       "      <td>-0.640892</td>\n",
       "      <td>0</td>\n",
       "      <td>0</td>\n",
       "      <td>0</td>\n",
       "      <td>0</td>\n",
       "      <td>0</td>\n",
       "      <td>0</td>\n",
       "      <td>0</td>\n",
       "      <td>0</td>\n",
       "      <td>0</td>\n",
       "      <td>0</td>\n",
       "      <td>0</td>\n",
       "      <td>0</td>\n",
       "      <td>0</td>\n",
       "      <td>1</td>\n",
       "      <td>0</td>\n",
       "      <td>0</td>\n",
       "      <td>0</td>\n",
       "      <td>0</td>\n",
       "      <td>1</td>\n",
       "    </tr>\n",
       "    <tr>\n",
       "      <th>2</th>\n",
       "      <td>ALABAMA</td>\n",
       "      <td>Barbour</td>\n",
       "      <td>-0.065814</td>\n",
       "      <td>1.609811</td>\n",
       "      <td>1.477477</td>\n",
       "      <td>1.551660</td>\n",
       "      <td>1.632922</td>\n",
       "      <td>-0.025406</td>\n",
       "      <td>-0.563003</td>\n",
       "      <td>1.416797</td>\n",
       "      <td>1.565740</td>\n",
       "      <td>1.374474</td>\n",
       "      <td>0.746553</td>\n",
       "      <td>-0.865325</td>\n",
       "      <td>1.485956</td>\n",
       "      <td>1.135743</td>\n",
       "      <td>1.291572</td>\n",
       "      <td>1.547842</td>\n",
       "      <td>1</td>\n",
       "      <td>1</td>\n",
       "      <td>1</td>\n",
       "      <td>1</td>\n",
       "      <td>4</td>\n",
       "      <td>0</td>\n",
       "      <td>0</td>\n",
       "      <td>1</td>\n",
       "      <td>1</td>\n",
       "      <td>2</td>\n",
       "      <td>0</td>\n",
       "      <td>0</td>\n",
       "      <td>0</td>\n",
       "      <td>0</td>\n",
       "      <td>1</td>\n",
       "      <td>0</td>\n",
       "      <td>0</td>\n",
       "      <td>1</td>\n",
       "      <td>2</td>\n",
       "    </tr>\n",
       "    <tr>\n",
       "      <th>3</th>\n",
       "      <td>ALABAMA</td>\n",
       "      <td>Bibb</td>\n",
       "      <td>-0.138472</td>\n",
       "      <td>-0.188748</td>\n",
       "      <td>1.020706</td>\n",
       "      <td>1.380590</td>\n",
       "      <td>0.821045</td>\n",
       "      <td>-0.611164</td>\n",
       "      <td>-0.729588</td>\n",
       "      <td>0.382969</td>\n",
       "      <td>-1.119007</td>\n",
       "      <td>0.484932</td>\n",
       "      <td>-0.835999</td>\n",
       "      <td>-0.214309</td>\n",
       "      <td>1.460724</td>\n",
       "      <td>-1.334058</td>\n",
       "      <td>0.171983</td>\n",
       "      <td>1.467862</td>\n",
       "      <td>0</td>\n",
       "      <td>0</td>\n",
       "      <td>0</td>\n",
       "      <td>0</td>\n",
       "      <td>0</td>\n",
       "      <td>0</td>\n",
       "      <td>0</td>\n",
       "      <td>0</td>\n",
       "      <td>0</td>\n",
       "      <td>0</td>\n",
       "      <td>0</td>\n",
       "      <td>0</td>\n",
       "      <td>0</td>\n",
       "      <td>0</td>\n",
       "      <td>1</td>\n",
       "      <td>0</td>\n",
       "      <td>0</td>\n",
       "      <td>1</td>\n",
       "      <td>2</td>\n",
       "    </tr>\n",
       "    <tr>\n",
       "      <th>4</th>\n",
       "      <td>ALABAMA</td>\n",
       "      <td>Blount</td>\n",
       "      <td>-0.132282</td>\n",
       "      <td>-0.087425</td>\n",
       "      <td>-0.804996</td>\n",
       "      <td>0.886771</td>\n",
       "      <td>1.185181</td>\n",
       "      <td>-0.086991</td>\n",
       "      <td>0.503348</td>\n",
       "      <td>-0.416086</td>\n",
       "      <td>-0.684924</td>\n",
       "      <td>-0.269538</td>\n",
       "      <td>0.785604</td>\n",
       "      <td>-1.174909</td>\n",
       "      <td>1.325576</td>\n",
       "      <td>-0.402536</td>\n",
       "      <td>-0.870644</td>\n",
       "      <td>-1.271545</td>\n",
       "      <td>0</td>\n",
       "      <td>0</td>\n",
       "      <td>0</td>\n",
       "      <td>0</td>\n",
       "      <td>0</td>\n",
       "      <td>0</td>\n",
       "      <td>0</td>\n",
       "      <td>0</td>\n",
       "      <td>0</td>\n",
       "      <td>0</td>\n",
       "      <td>0</td>\n",
       "      <td>0</td>\n",
       "      <td>0</td>\n",
       "      <td>0</td>\n",
       "      <td>0</td>\n",
       "      <td>0</td>\n",
       "      <td>0</td>\n",
       "      <td>0</td>\n",
       "      <td>0</td>\n",
       "    </tr>\n",
       "    <tr>\n",
       "      <th>...</th>\n",
       "      <td>...</td>\n",
       "      <td>...</td>\n",
       "      <td>...</td>\n",
       "      <td>...</td>\n",
       "      <td>...</td>\n",
       "      <td>...</td>\n",
       "      <td>...</td>\n",
       "      <td>...</td>\n",
       "      <td>...</td>\n",
       "      <td>...</td>\n",
       "      <td>...</td>\n",
       "      <td>...</td>\n",
       "      <td>...</td>\n",
       "      <td>...</td>\n",
       "      <td>...</td>\n",
       "      <td>...</td>\n",
       "      <td>...</td>\n",
       "      <td>...</td>\n",
       "      <td>...</td>\n",
       "      <td>...</td>\n",
       "      <td>...</td>\n",
       "      <td>...</td>\n",
       "      <td>...</td>\n",
       "      <td>...</td>\n",
       "      <td>...</td>\n",
       "      <td>...</td>\n",
       "      <td>...</td>\n",
       "      <td>...</td>\n",
       "      <td>...</td>\n",
       "      <td>...</td>\n",
       "      <td>...</td>\n",
       "      <td>...</td>\n",
       "      <td>...</td>\n",
       "      <td>...</td>\n",
       "      <td>...</td>\n",
       "      <td>...</td>\n",
       "      <td>...</td>\n",
       "    </tr>\n",
       "    <tr>\n",
       "      <th>3136</th>\n",
       "      <td>WYOMING</td>\n",
       "      <td>Sublette</td>\n",
       "      <td>2.574934</td>\n",
       "      <td>-0.639338</td>\n",
       "      <td>-0.155773</td>\n",
       "      <td>-1.213169</td>\n",
       "      <td>-0.796837</td>\n",
       "      <td>-1.616951</td>\n",
       "      <td>1.453678</td>\n",
       "      <td>-1.011488</td>\n",
       "      <td>0.946954</td>\n",
       "      <td>0.239660</td>\n",
       "      <td>0.746553</td>\n",
       "      <td>0.809646</td>\n",
       "      <td>1.149296</td>\n",
       "      <td>-0.021303</td>\n",
       "      <td>-1.532251</td>\n",
       "      <td>-0.789281</td>\n",
       "      <td>0</td>\n",
       "      <td>0</td>\n",
       "      <td>0</td>\n",
       "      <td>0</td>\n",
       "      <td>0</td>\n",
       "      <td>0</td>\n",
       "      <td>0</td>\n",
       "      <td>0</td>\n",
       "      <td>0</td>\n",
       "      <td>0</td>\n",
       "      <td>0</td>\n",
       "      <td>0</td>\n",
       "      <td>0</td>\n",
       "      <td>0</td>\n",
       "      <td>0</td>\n",
       "      <td>0</td>\n",
       "      <td>0</td>\n",
       "      <td>0</td>\n",
       "      <td>0</td>\n",
       "    </tr>\n",
       "    <tr>\n",
       "      <th>3137</th>\n",
       "      <td>WYOMING</td>\n",
       "      <td>Sweetwater</td>\n",
       "      <td>0.795391</td>\n",
       "      <td>-1.540174</td>\n",
       "      <td>-1.615920</td>\n",
       "      <td>-1.713914</td>\n",
       "      <td>-1.529254</td>\n",
       "      <td>-1.256777</td>\n",
       "      <td>-1.193670</td>\n",
       "      <td>-1.696442</td>\n",
       "      <td>-0.942607</td>\n",
       "      <td>0.142933</td>\n",
       "      <td>1.391223</td>\n",
       "      <td>1.084299</td>\n",
       "      <td>-1.223224</td>\n",
       "      <td>1.645650</td>\n",
       "      <td>-1.532251</td>\n",
       "      <td>0.905278</td>\n",
       "      <td>0</td>\n",
       "      <td>0</td>\n",
       "      <td>0</td>\n",
       "      <td>0</td>\n",
       "      <td>0</td>\n",
       "      <td>0</td>\n",
       "      <td>1</td>\n",
       "      <td>0</td>\n",
       "      <td>0</td>\n",
       "      <td>1</td>\n",
       "      <td>0</td>\n",
       "      <td>0</td>\n",
       "      <td>0</td>\n",
       "      <td>0</td>\n",
       "      <td>0</td>\n",
       "      <td>0</td>\n",
       "      <td>0</td>\n",
       "      <td>0</td>\n",
       "      <td>0</td>\n",
       "    </tr>\n",
       "    <tr>\n",
       "      <th>3138</th>\n",
       "      <td>WYOMING</td>\n",
       "      <td>Teton</td>\n",
       "      <td>0.265379</td>\n",
       "      <td>-0.534558</td>\n",
       "      <td>0.377011</td>\n",
       "      <td>-0.192981</td>\n",
       "      <td>-1.253215</td>\n",
       "      <td>-1.484784</td>\n",
       "      <td>1.638964</td>\n",
       "      <td>0.526115</td>\n",
       "      <td>-0.787305</td>\n",
       "      <td>-0.293720</td>\n",
       "      <td>-0.051011</td>\n",
       "      <td>0.859645</td>\n",
       "      <td>1.325576</td>\n",
       "      <td>0.810976</td>\n",
       "      <td>-1.025606</td>\n",
       "      <td>-0.789281</td>\n",
       "      <td>0</td>\n",
       "      <td>0</td>\n",
       "      <td>0</td>\n",
       "      <td>0</td>\n",
       "      <td>0</td>\n",
       "      <td>0</td>\n",
       "      <td>0</td>\n",
       "      <td>0</td>\n",
       "      <td>0</td>\n",
       "      <td>0</td>\n",
       "      <td>0</td>\n",
       "      <td>1</td>\n",
       "      <td>1</td>\n",
       "      <td>0</td>\n",
       "      <td>0</td>\n",
       "      <td>1</td>\n",
       "      <td>0</td>\n",
       "      <td>0</td>\n",
       "      <td>1</td>\n",
       "    </tr>\n",
       "    <tr>\n",
       "      <th>3139</th>\n",
       "      <td>WYOMING</td>\n",
       "      <td>Uinta</td>\n",
       "      <td>0.308815</td>\n",
       "      <td>-0.558765</td>\n",
       "      <td>0.437476</td>\n",
       "      <td>-0.334269</td>\n",
       "      <td>-0.408517</td>\n",
       "      <td>0.835067</td>\n",
       "      <td>0.751320</td>\n",
       "      <td>-0.179239</td>\n",
       "      <td>-0.684924</td>\n",
       "      <td>0.118752</td>\n",
       "      <td>-0.835999</td>\n",
       "      <td>-1.022172</td>\n",
       "      <td>0.139316</td>\n",
       "      <td>-0.144502</td>\n",
       "      <td>-0.423705</td>\n",
       "      <td>0.031962</td>\n",
       "      <td>0</td>\n",
       "      <td>0</td>\n",
       "      <td>0</td>\n",
       "      <td>0</td>\n",
       "      <td>0</td>\n",
       "      <td>0</td>\n",
       "      <td>1</td>\n",
       "      <td>0</td>\n",
       "      <td>0</td>\n",
       "      <td>1</td>\n",
       "      <td>0</td>\n",
       "      <td>0</td>\n",
       "      <td>0</td>\n",
       "      <td>0</td>\n",
       "      <td>0</td>\n",
       "      <td>0</td>\n",
       "      <td>0</td>\n",
       "      <td>0</td>\n",
       "      <td>0</td>\n",
       "    </tr>\n",
       "    <tr>\n",
       "      <th>3140</th>\n",
       "      <td>WYOMING</td>\n",
       "      <td>Washakie</td>\n",
       "      <td>0.352910</td>\n",
       "      <td>0.611803</td>\n",
       "      <td>-1.077607</td>\n",
       "      <td>-0.703768</td>\n",
       "      <td>-1.086003</td>\n",
       "      <td>0.294288</td>\n",
       "      <td>-0.531140</td>\n",
       "      <td>-0.340018</td>\n",
       "      <td>-0.684924</td>\n",
       "      <td>-0.653336</td>\n",
       "      <td>0.230288</td>\n",
       "      <td>-0.125954</td>\n",
       "      <td>1.228449</td>\n",
       "      <td>0.400312</td>\n",
       "      <td>-1.488420</td>\n",
       "      <td>1.099272</td>\n",
       "      <td>0</td>\n",
       "      <td>0</td>\n",
       "      <td>0</td>\n",
       "      <td>0</td>\n",
       "      <td>0</td>\n",
       "      <td>0</td>\n",
       "      <td>0</td>\n",
       "      <td>0</td>\n",
       "      <td>0</td>\n",
       "      <td>0</td>\n",
       "      <td>0</td>\n",
       "      <td>0</td>\n",
       "      <td>0</td>\n",
       "      <td>0</td>\n",
       "      <td>0</td>\n",
       "      <td>0</td>\n",
       "      <td>0</td>\n",
       "      <td>0</td>\n",
       "      <td>0</td>\n",
       "    </tr>\n",
       "  </tbody>\n",
       "</table>\n",
       "<p>3140 rows × 37 columns</p>\n",
       "</div>"
      ],
      "text/plain": [
       "        state      county  area_sqmi   epl_pov  epl_unemp   epl_pci  \\\n",
       "0     ALABAMA     Autauga  -0.146226  0.147034  -0.758697 -0.741168   \n",
       "1     ALABAMA     Baldwin   0.129237 -0.946418  -0.628783 -1.019243   \n",
       "2     ALABAMA     Barbour  -0.065814  1.609811   1.477477  1.551660   \n",
       "3     ALABAMA        Bibb  -0.138472 -0.188748   1.020706  1.380590   \n",
       "4     ALABAMA      Blount  -0.132282 -0.087425  -0.804996  0.886771   \n",
       "...       ...         ...        ...       ...        ...       ...   \n",
       "3136  WYOMING    Sublette   2.574934 -0.639338  -0.155773 -1.213169   \n",
       "3137  WYOMING  Sweetwater   0.795391 -1.540174  -1.615920 -1.713914   \n",
       "3138  WYOMING       Teton   0.265379 -0.534558   0.377011 -0.192981   \n",
       "3139  WYOMING       Uinta   0.308815 -0.558765   0.437476 -0.334269   \n",
       "3140  WYOMING    Washakie   0.352910  0.611803  -1.077607 -0.703768   \n",
       "\n",
       "      epl_nohsdp  epl_age65  epl_age17  epl_disabl  epl_sngpnt  epl_minrty  \\\n",
       "0      -0.199502  -1.078248   0.892276    1.016059   -0.397494    0.466278   \n",
       "1      -0.609932   0.505686  -0.218058   -0.498723   -1.227960    0.059334   \n",
       "2       1.632922  -0.025406  -0.563003    1.416797    1.565740    1.374474   \n",
       "3       0.821045  -0.611164  -0.729588    0.382969   -1.119007    0.484932   \n",
       "4       1.185181  -0.086991   0.503348   -0.416086   -0.684924   -0.269538   \n",
       "...          ...        ...        ...         ...         ...         ...   \n",
       "3136   -0.796837  -1.616951   1.453678   -1.011488    0.946954    0.239660   \n",
       "3137   -1.529254  -1.256777  -1.193670   -1.696442   -0.942607    0.142933   \n",
       "3138   -1.253215  -1.484784   1.638964    0.526115   -0.787305   -0.293720   \n",
       "3139   -0.408517   0.835067   0.751320   -0.179239   -0.684924    0.118752   \n",
       "3140   -1.086003   0.294288  -0.531140   -0.340018   -0.684924   -0.653336   \n",
       "\n",
       "      epl_limeng  epl_munit  epl_mobile  epl_crowd  epl_noveh  epl_groupq  \\\n",
       "0       0.104862   0.367873    0.838905  -0.655436  -0.033367   -1.149022   \n",
       "1      -0.401806   1.633605    0.123762  -0.778635  -1.247522   -0.640892   \n",
       "2       0.746553  -0.865325    1.485956   1.135743   1.291572    1.547842   \n",
       "3      -0.835999  -0.214309    1.460724  -1.334058   0.171983    1.467862   \n",
       "4       0.785604  -1.174909    1.325576  -0.402536  -0.870644   -1.271545   \n",
       "...          ...        ...         ...        ...        ...         ...   \n",
       "3136    0.746553   0.809646    1.149296  -0.021303  -1.532251   -0.789281   \n",
       "3137    1.391223   1.084299   -1.223224   1.645650  -1.532251    0.905278   \n",
       "3138   -0.051011   0.859645    1.325576   0.810976  -1.025606   -0.789281   \n",
       "3139   -0.835999  -1.022172    0.139316  -0.144502  -0.423705    0.031962   \n",
       "3140    0.230288  -0.125954    1.228449   0.400312  -1.488420    1.099272   \n",
       "\n",
       "      f_pov  f_unemp  f_pci  f_nohsdp  f_theme1  f_age65  f_age17  f_disabl  \\\n",
       "0         0        0      0         0         0        0        0         0   \n",
       "1         0        0      0         0         0        0        0         0   \n",
       "2         1        1      1         1         4        0        0         1   \n",
       "3         0        0      0         0         0        0        0         0   \n",
       "4         0        0      0         0         0        0        0         0   \n",
       "...     ...      ...    ...       ...       ...      ...      ...       ...   \n",
       "3136      0        0      0         0         0        0        0         0   \n",
       "3137      0        0      0         0         0        0        1         0   \n",
       "3138      0        0      0         0         0        0        0         0   \n",
       "3139      0        0      0         0         0        0        1         0   \n",
       "3140      0        0      0         0         0        0        0         0   \n",
       "\n",
       "      f_sngpnt  f_theme2  f_minrty  f_limeng  f_theme3  f_munit  f_mobile  \\\n",
       "0            0         0         0         0         0        0         0   \n",
       "1            0         0         0         0         0        1         0   \n",
       "2            1         2         0         0         0        0         1   \n",
       "3            0         0         0         0         0        0         1   \n",
       "4            0         0         0         0         0        0         0   \n",
       "...        ...       ...       ...       ...       ...      ...       ...   \n",
       "3136         0         0         0         0         0        0         0   \n",
       "3137         0         1         0         0         0        0         0   \n",
       "3138         0         0         0         1         1        0         0   \n",
       "3139         0         1         0         0         0        0         0   \n",
       "3140         0         0         0         0         0        0         0   \n",
       "\n",
       "      f_crowd  f_noveh  f_groupq  f_theme4  \n",
       "0           0        0         0         0  \n",
       "1           0        0         0         1  \n",
       "2           0        0         1         2  \n",
       "3           0        0         1         2  \n",
       "4           0        0         0         0  \n",
       "...       ...      ...       ...       ...  \n",
       "3136        0        0         0         0  \n",
       "3137        0        0         0         0  \n",
       "3138        1        0         0         1  \n",
       "3139        0        0         0         0  \n",
       "3140        0        0         0         0  \n",
       "\n",
       "[3140 rows x 37 columns]"
      ]
     },
     "execution_count": 186,
     "metadata": {},
     "output_type": "execute_result"
    },
    {
     "data": {
      "application/javascript": [
       "\n",
       "            setTimeout(function() {\n",
       "                var nbb_cell_id = 186;\n",
       "                var nbb_unformatted_code = \"df = df.dropna()\\ndf\";\n",
       "                var nbb_formatted_code = \"df = df.dropna()\\ndf\";\n",
       "                var nbb_cells = Jupyter.notebook.get_cells();\n",
       "                for (var i = 0; i < nbb_cells.length; ++i) {\n",
       "                    if (nbb_cells[i].input_prompt_number == nbb_cell_id) {\n",
       "                        if (nbb_cells[i].get_text() == nbb_unformatted_code) {\n",
       "                             nbb_cells[i].set_text(nbb_formatted_code);\n",
       "                        }\n",
       "                        break;\n",
       "                    }\n",
       "                }\n",
       "            }, 500);\n",
       "            "
      ],
      "text/plain": [
       "<IPython.core.display.Javascript object>"
      ]
     },
     "metadata": {},
     "output_type": "display_data"
    }
   ],
   "source": [
    "df = df.dropna()\n",
    "df"
   ]
  },
  {
   "cell_type": "markdown",
   "id": "4cf5f4dc",
   "metadata": {},
   "source": [
    "## Bartlett's Test of Sphericity\n",
    "\n",
    "One aspect of the data that we need to check is whether or not the data is suitable for a technique like factor analysis or principal component analysis. Thus we perform Bartlett's Test of Sphericity. This test will compare the correlation matrix of our data to an identity matrix. If our variables are orthogonal to each other, uncorrelated, then factor analysis and pca are techniques that will be of no benefit to this data, since the data can not be reduced further. \n",
    "\n",
    "Our null hypthosis is that these variables are orthogonal, while the alternative is that the variables are not orthogonal. If our p-value is greater than a chosen $\\alpha$, in this 0.05, we can reject the null and conclude that dimension reduction techniques are an effective method for the data. "
   ]
  },
  {
   "cell_type": "code",
   "execution_count": 157,
   "id": "6fb04b0f",
   "metadata": {},
   "outputs": [
    {
     "name": "stdout",
     "output_type": "stream",
     "text": [
      "Our chi squared statistic is  617995.044157114\n",
      "Our p-value from our chi statistic is  0.0\n"
     ]
    },
    {
     "data": {
      "application/javascript": [
       "\n",
       "            setTimeout(function() {\n",
       "                var nbb_cell_id = 157;\n",
       "                var nbb_unformatted_code = \"chi2, p = calculate_bartlett_sphericity(df.iloc[:, 2:])\\nprint(\\\"Our chi squared statistic is \\\", chi2)\\nprint(\\\"Our p-value from our chi statistic is \\\", p)\";\n",
       "                var nbb_formatted_code = \"chi2, p = calculate_bartlett_sphericity(df.iloc[:, 2:])\\nprint(\\\"Our chi squared statistic is \\\", chi2)\\nprint(\\\"Our p-value from our chi statistic is \\\", p)\";\n",
       "                var nbb_cells = Jupyter.notebook.get_cells();\n",
       "                for (var i = 0; i < nbb_cells.length; ++i) {\n",
       "                    if (nbb_cells[i].input_prompt_number == nbb_cell_id) {\n",
       "                        if (nbb_cells[i].get_text() == nbb_unformatted_code) {\n",
       "                             nbb_cells[i].set_text(nbb_formatted_code);\n",
       "                        }\n",
       "                        break;\n",
       "                    }\n",
       "                }\n",
       "            }, 500);\n",
       "            "
      ],
      "text/plain": [
       "<IPython.core.display.Javascript object>"
      ]
     },
     "metadata": {},
     "output_type": "display_data"
    }
   ],
   "source": [
    "chi2, p = calculate_bartlett_sphericity(df.iloc[:, 2:])\n",
    "print(\"Our chi squared statistic is \", chi2)\n",
    "print(\"Our p-value from our chi statistic is \", p)"
   ]
  },
  {
   "cell_type": "markdown",
   "id": "2ced8584",
   "metadata": {},
   "source": [
    "Since our p-value is far below $\\alpha = 0.05$, we can conclude that this data is suitable for factor analysis. "
   ]
  },
  {
   "cell_type": "markdown",
   "id": "6f3bd448",
   "metadata": {},
   "source": [
    "## Factor Analysis"
   ]
  },
  {
   "cell_type": "code",
   "execution_count": 121,
   "id": "780caf1e",
   "metadata": {},
   "outputs": [
    {
     "data": {
      "application/javascript": [
       "\n",
       "            setTimeout(function() {\n",
       "                var nbb_cell_id = 121;\n",
       "                var nbb_unformatted_code = \"# fa = FA.FactorAnalyzer(rotation = None,impute = \\\"drop\\\",n_factors=data.shape[1])\\n# fa.fit(data.iloc[:,2:])\\n# ev,_ = fa.get_eigenvalues()\\n# print(ev.shape)\\n\\n# px.line(x = range(1,data.shape[1]-1), y = ev, labels = {'x': \\\"Factors\\\", \\\"y\\\": 'Eigenvalues'}, title = \\\"Scree Plot for Factor Analysis\\\", color_discrete_sequence = ['#e377c2'], markers = True)\";\n",
       "                var nbb_formatted_code = \"# fa = FA.FactorAnalyzer(rotation = None,impute = \\\"drop\\\",n_factors=data.shape[1])\\n# fa.fit(data.iloc[:,2:])\\n# ev,_ = fa.get_eigenvalues()\\n# print(ev.shape)\\n\\n# px.line(x = range(1,data.shape[1]-1), y = ev, labels = {'x': \\\"Factors\\\", \\\"y\\\": 'Eigenvalues'}, title = \\\"Scree Plot for Factor Analysis\\\", color_discrete_sequence = ['#e377c2'], markers = True)\";\n",
       "                var nbb_cells = Jupyter.notebook.get_cells();\n",
       "                for (var i = 0; i < nbb_cells.length; ++i) {\n",
       "                    if (nbb_cells[i].input_prompt_number == nbb_cell_id) {\n",
       "                        if (nbb_cells[i].get_text() == nbb_unformatted_code) {\n",
       "                             nbb_cells[i].set_text(nbb_formatted_code);\n",
       "                        }\n",
       "                        break;\n",
       "                    }\n",
       "                }\n",
       "            }, 500);\n",
       "            "
      ],
      "text/plain": [
       "<IPython.core.display.Javascript object>"
      ]
     },
     "metadata": {},
     "output_type": "display_data"
    }
   ],
   "source": [
    "# fa = FA.FactorAnalyzer(rotation = None,impute = \"drop\",n_factors=data.shape[1])\n",
    "# fa.fit(data.iloc[:,2:])\n",
    "# ev,_ = fa.get_eigenvalues()\n",
    "# print(ev.shape)\n",
    "\n",
    "# px.line(x = range(1,data.shape[1]-1), y = ev, labels = {'x': \"Factors\", \"y\": 'Eigenvalues'}, title = \"Scree Plot for Factor Analysis\", color_discrete_sequence = ['#e377c2'], markers = True)"
   ]
  },
  {
   "cell_type": "code",
   "execution_count": 221,
   "id": "fbbe74a9",
   "metadata": {},
   "outputs": [
    {
     "data": {
      "text/plain": [
       "Index(['area_sqmi', 'epl_pov', 'epl_unemp', 'epl_pci', 'epl_nohsdp',\n",
       "       'epl_age65', 'epl_age17', 'epl_disabl', 'epl_sngpnt', 'epl_minrty',\n",
       "       'epl_limeng', 'epl_munit', 'epl_mobile', 'epl_crowd', 'epl_noveh',\n",
       "       'epl_groupq', 'f_pov', 'f_unemp', 'f_pci', 'f_nohsdp', 'f_theme1',\n",
       "       'f_age65', 'f_age17', 'f_disabl', 'f_sngpnt', 'f_theme2', 'f_minrty',\n",
       "       'f_limeng', 'f_theme3', 'f_munit', 'f_mobile', 'f_crowd', 'f_noveh',\n",
       "       'f_groupq', 'f_theme4'],\n",
       "      dtype='object')"
      ]
     },
     "metadata": {},
     "output_type": "display_data"
    },
    {
     "data": {
      "application/javascript": [
       "\n",
       "            setTimeout(function() {\n",
       "                var nbb_cell_id = 221;\n",
       "                var nbb_unformatted_code = \"FA_vars = df.iloc[:, 2:].columns\\ndisplay(FA_vars)\\n\\nnewFA = sm.multivariate.Factor(df.iloc[:, 2:])\\nmodel = newFA.fit()\\n# display(model.summary())\\nnewev = model.eigenvals\";\n",
       "                var nbb_formatted_code = \"FA_vars = df.iloc[:, 2:].columns\\ndisplay(FA_vars)\\n\\nnewFA = sm.multivariate.Factor(df.iloc[:, 2:])\\nmodel = newFA.fit()\\n# display(model.summary())\\nnewev = model.eigenvals\";\n",
       "                var nbb_cells = Jupyter.notebook.get_cells();\n",
       "                for (var i = 0; i < nbb_cells.length; ++i) {\n",
       "                    if (nbb_cells[i].input_prompt_number == nbb_cell_id) {\n",
       "                        if (nbb_cells[i].get_text() == nbb_unformatted_code) {\n",
       "                             nbb_cells[i].set_text(nbb_formatted_code);\n",
       "                        }\n",
       "                        break;\n",
       "                    }\n",
       "                }\n",
       "            }, 500);\n",
       "            "
      ],
      "text/plain": [
       "<IPython.core.display.Javascript object>"
      ]
     },
     "metadata": {},
     "output_type": "display_data"
    }
   ],
   "source": [
    "FA_vars = df.iloc[:, 2:].columns\n",
    "\n",
    "newFA = sm.multivariate.Factor(df.iloc[:, 2:])\n",
    "model = newFA.fit()\n",
    "# display(model.summary())\n",
    "newev = model.eigenvals"
   ]
  },
  {
   "cell_type": "code",
   "execution_count": 188,
   "id": "f51ca17d",
   "metadata": {},
   "outputs": [
    {
     "data": {
      "application/vnd.plotly.v1+json": {
       "config": {
        "plotlyServerURL": "https://plot.ly"
       },
       "data": [
        {
         "hovertemplate": "Factors=%{x}<br>Eigenvalues=%{y}<extra></extra>",
         "legendgroup": "",
         "line": {
          "color": "#e377c2",
          "dash": "solid"
         },
         "marker": {
          "symbol": "circle"
         },
         "mode": "markers+lines",
         "name": "",
         "orientation": "v",
         "showlegend": false,
         "type": "scatter",
         "x": [
          1,
          2,
          3,
          4,
          5,
          6,
          7,
          8,
          9,
          10,
          11,
          12,
          13,
          14,
          15,
          16,
          17,
          18,
          19,
          20,
          21,
          22,
          23,
          24,
          25,
          26,
          27,
          28,
          29,
          30,
          31,
          32,
          33,
          34,
          35
         ],
         "xaxis": "x",
         "y": [
          7.105336249646221,
          3.5991981131111466,
          1.9182886306898579,
          1.581116613428925,
          0.972238069271526,
          0.7942005749749588,
          0.5136602719358632,
          0.3023509984776645,
          0.2353953102139953,
          0.13579409148865404,
          0.03202233230751474,
          -0.044647833357392475,
          -0.07513053929949988,
          -0.11744054083375219,
          -0.14986050135963191,
          -0.1960030842546438,
          -0.2528295937614549,
          -0.2703460908724329,
          -0.2722006643964185,
          -0.31485266792166555,
          -0.3386962574595911,
          -0.38589222723967825,
          -0.4024907104579616,
          -0.4155266329493743,
          -0.42948989499278595,
          -0.45298776536883534,
          -0.4681967690747779,
          -0.508792240343314,
          -0.5534154751596146,
          -0.623354030135119,
          -0.6417255006976033,
          -0.7352608859613756,
          -0.7888326165698207,
          -0.7919083031815469,
          -0.8543841789468608
         ],
         "yaxis": "y"
        }
       ],
       "layout": {
        "legend": {
         "tracegroupgap": 0
        },
        "template": {
         "data": {
          "bar": [
           {
            "error_x": {
             "color": "#2a3f5f"
            },
            "error_y": {
             "color": "#2a3f5f"
            },
            "marker": {
             "line": {
              "color": "#E5ECF6",
              "width": 0.5
             },
             "pattern": {
              "fillmode": "overlay",
              "size": 10,
              "solidity": 0.2
             }
            },
            "type": "bar"
           }
          ],
          "barpolar": [
           {
            "marker": {
             "line": {
              "color": "#E5ECF6",
              "width": 0.5
             },
             "pattern": {
              "fillmode": "overlay",
              "size": 10,
              "solidity": 0.2
             }
            },
            "type": "barpolar"
           }
          ],
          "carpet": [
           {
            "aaxis": {
             "endlinecolor": "#2a3f5f",
             "gridcolor": "white",
             "linecolor": "white",
             "minorgridcolor": "white",
             "startlinecolor": "#2a3f5f"
            },
            "baxis": {
             "endlinecolor": "#2a3f5f",
             "gridcolor": "white",
             "linecolor": "white",
             "minorgridcolor": "white",
             "startlinecolor": "#2a3f5f"
            },
            "type": "carpet"
           }
          ],
          "choropleth": [
           {
            "colorbar": {
             "outlinewidth": 0,
             "ticks": ""
            },
            "type": "choropleth"
           }
          ],
          "contour": [
           {
            "colorbar": {
             "outlinewidth": 0,
             "ticks": ""
            },
            "colorscale": [
             [
              0,
              "#0d0887"
             ],
             [
              0.1111111111111111,
              "#46039f"
             ],
             [
              0.2222222222222222,
              "#7201a8"
             ],
             [
              0.3333333333333333,
              "#9c179e"
             ],
             [
              0.4444444444444444,
              "#bd3786"
             ],
             [
              0.5555555555555556,
              "#d8576b"
             ],
             [
              0.6666666666666666,
              "#ed7953"
             ],
             [
              0.7777777777777778,
              "#fb9f3a"
             ],
             [
              0.8888888888888888,
              "#fdca26"
             ],
             [
              1,
              "#f0f921"
             ]
            ],
            "type": "contour"
           }
          ],
          "contourcarpet": [
           {
            "colorbar": {
             "outlinewidth": 0,
             "ticks": ""
            },
            "type": "contourcarpet"
           }
          ],
          "heatmap": [
           {
            "colorbar": {
             "outlinewidth": 0,
             "ticks": ""
            },
            "colorscale": [
             [
              0,
              "#0d0887"
             ],
             [
              0.1111111111111111,
              "#46039f"
             ],
             [
              0.2222222222222222,
              "#7201a8"
             ],
             [
              0.3333333333333333,
              "#9c179e"
             ],
             [
              0.4444444444444444,
              "#bd3786"
             ],
             [
              0.5555555555555556,
              "#d8576b"
             ],
             [
              0.6666666666666666,
              "#ed7953"
             ],
             [
              0.7777777777777778,
              "#fb9f3a"
             ],
             [
              0.8888888888888888,
              "#fdca26"
             ],
             [
              1,
              "#f0f921"
             ]
            ],
            "type": "heatmap"
           }
          ],
          "heatmapgl": [
           {
            "colorbar": {
             "outlinewidth": 0,
             "ticks": ""
            },
            "colorscale": [
             [
              0,
              "#0d0887"
             ],
             [
              0.1111111111111111,
              "#46039f"
             ],
             [
              0.2222222222222222,
              "#7201a8"
             ],
             [
              0.3333333333333333,
              "#9c179e"
             ],
             [
              0.4444444444444444,
              "#bd3786"
             ],
             [
              0.5555555555555556,
              "#d8576b"
             ],
             [
              0.6666666666666666,
              "#ed7953"
             ],
             [
              0.7777777777777778,
              "#fb9f3a"
             ],
             [
              0.8888888888888888,
              "#fdca26"
             ],
             [
              1,
              "#f0f921"
             ]
            ],
            "type": "heatmapgl"
           }
          ],
          "histogram": [
           {
            "marker": {
             "pattern": {
              "fillmode": "overlay",
              "size": 10,
              "solidity": 0.2
             }
            },
            "type": "histogram"
           }
          ],
          "histogram2d": [
           {
            "colorbar": {
             "outlinewidth": 0,
             "ticks": ""
            },
            "colorscale": [
             [
              0,
              "#0d0887"
             ],
             [
              0.1111111111111111,
              "#46039f"
             ],
             [
              0.2222222222222222,
              "#7201a8"
             ],
             [
              0.3333333333333333,
              "#9c179e"
             ],
             [
              0.4444444444444444,
              "#bd3786"
             ],
             [
              0.5555555555555556,
              "#d8576b"
             ],
             [
              0.6666666666666666,
              "#ed7953"
             ],
             [
              0.7777777777777778,
              "#fb9f3a"
             ],
             [
              0.8888888888888888,
              "#fdca26"
             ],
             [
              1,
              "#f0f921"
             ]
            ],
            "type": "histogram2d"
           }
          ],
          "histogram2dcontour": [
           {
            "colorbar": {
             "outlinewidth": 0,
             "ticks": ""
            },
            "colorscale": [
             [
              0,
              "#0d0887"
             ],
             [
              0.1111111111111111,
              "#46039f"
             ],
             [
              0.2222222222222222,
              "#7201a8"
             ],
             [
              0.3333333333333333,
              "#9c179e"
             ],
             [
              0.4444444444444444,
              "#bd3786"
             ],
             [
              0.5555555555555556,
              "#d8576b"
             ],
             [
              0.6666666666666666,
              "#ed7953"
             ],
             [
              0.7777777777777778,
              "#fb9f3a"
             ],
             [
              0.8888888888888888,
              "#fdca26"
             ],
             [
              1,
              "#f0f921"
             ]
            ],
            "type": "histogram2dcontour"
           }
          ],
          "mesh3d": [
           {
            "colorbar": {
             "outlinewidth": 0,
             "ticks": ""
            },
            "type": "mesh3d"
           }
          ],
          "parcoords": [
           {
            "line": {
             "colorbar": {
              "outlinewidth": 0,
              "ticks": ""
             }
            },
            "type": "parcoords"
           }
          ],
          "pie": [
           {
            "automargin": true,
            "type": "pie"
           }
          ],
          "scatter": [
           {
            "marker": {
             "colorbar": {
              "outlinewidth": 0,
              "ticks": ""
             }
            },
            "type": "scatter"
           }
          ],
          "scatter3d": [
           {
            "line": {
             "colorbar": {
              "outlinewidth": 0,
              "ticks": ""
             }
            },
            "marker": {
             "colorbar": {
              "outlinewidth": 0,
              "ticks": ""
             }
            },
            "type": "scatter3d"
           }
          ],
          "scattercarpet": [
           {
            "marker": {
             "colorbar": {
              "outlinewidth": 0,
              "ticks": ""
             }
            },
            "type": "scattercarpet"
           }
          ],
          "scattergeo": [
           {
            "marker": {
             "colorbar": {
              "outlinewidth": 0,
              "ticks": ""
             }
            },
            "type": "scattergeo"
           }
          ],
          "scattergl": [
           {
            "marker": {
             "colorbar": {
              "outlinewidth": 0,
              "ticks": ""
             }
            },
            "type": "scattergl"
           }
          ],
          "scattermapbox": [
           {
            "marker": {
             "colorbar": {
              "outlinewidth": 0,
              "ticks": ""
             }
            },
            "type": "scattermapbox"
           }
          ],
          "scatterpolar": [
           {
            "marker": {
             "colorbar": {
              "outlinewidth": 0,
              "ticks": ""
             }
            },
            "type": "scatterpolar"
           }
          ],
          "scatterpolargl": [
           {
            "marker": {
             "colorbar": {
              "outlinewidth": 0,
              "ticks": ""
             }
            },
            "type": "scatterpolargl"
           }
          ],
          "scatterternary": [
           {
            "marker": {
             "colorbar": {
              "outlinewidth": 0,
              "ticks": ""
             }
            },
            "type": "scatterternary"
           }
          ],
          "surface": [
           {
            "colorbar": {
             "outlinewidth": 0,
             "ticks": ""
            },
            "colorscale": [
             [
              0,
              "#0d0887"
             ],
             [
              0.1111111111111111,
              "#46039f"
             ],
             [
              0.2222222222222222,
              "#7201a8"
             ],
             [
              0.3333333333333333,
              "#9c179e"
             ],
             [
              0.4444444444444444,
              "#bd3786"
             ],
             [
              0.5555555555555556,
              "#d8576b"
             ],
             [
              0.6666666666666666,
              "#ed7953"
             ],
             [
              0.7777777777777778,
              "#fb9f3a"
             ],
             [
              0.8888888888888888,
              "#fdca26"
             ],
             [
              1,
              "#f0f921"
             ]
            ],
            "type": "surface"
           }
          ],
          "table": [
           {
            "cells": {
             "fill": {
              "color": "#EBF0F8"
             },
             "line": {
              "color": "white"
             }
            },
            "header": {
             "fill": {
              "color": "#C8D4E3"
             },
             "line": {
              "color": "white"
             }
            },
            "type": "table"
           }
          ]
         },
         "layout": {
          "annotationdefaults": {
           "arrowcolor": "#2a3f5f",
           "arrowhead": 0,
           "arrowwidth": 1
          },
          "autotypenumbers": "strict",
          "coloraxis": {
           "colorbar": {
            "outlinewidth": 0,
            "ticks": ""
           }
          },
          "colorscale": {
           "diverging": [
            [
             0,
             "#8e0152"
            ],
            [
             0.1,
             "#c51b7d"
            ],
            [
             0.2,
             "#de77ae"
            ],
            [
             0.3,
             "#f1b6da"
            ],
            [
             0.4,
             "#fde0ef"
            ],
            [
             0.5,
             "#f7f7f7"
            ],
            [
             0.6,
             "#e6f5d0"
            ],
            [
             0.7,
             "#b8e186"
            ],
            [
             0.8,
             "#7fbc41"
            ],
            [
             0.9,
             "#4d9221"
            ],
            [
             1,
             "#276419"
            ]
           ],
           "sequential": [
            [
             0,
             "#0d0887"
            ],
            [
             0.1111111111111111,
             "#46039f"
            ],
            [
             0.2222222222222222,
             "#7201a8"
            ],
            [
             0.3333333333333333,
             "#9c179e"
            ],
            [
             0.4444444444444444,
             "#bd3786"
            ],
            [
             0.5555555555555556,
             "#d8576b"
            ],
            [
             0.6666666666666666,
             "#ed7953"
            ],
            [
             0.7777777777777778,
             "#fb9f3a"
            ],
            [
             0.8888888888888888,
             "#fdca26"
            ],
            [
             1,
             "#f0f921"
            ]
           ],
           "sequentialminus": [
            [
             0,
             "#0d0887"
            ],
            [
             0.1111111111111111,
             "#46039f"
            ],
            [
             0.2222222222222222,
             "#7201a8"
            ],
            [
             0.3333333333333333,
             "#9c179e"
            ],
            [
             0.4444444444444444,
             "#bd3786"
            ],
            [
             0.5555555555555556,
             "#d8576b"
            ],
            [
             0.6666666666666666,
             "#ed7953"
            ],
            [
             0.7777777777777778,
             "#fb9f3a"
            ],
            [
             0.8888888888888888,
             "#fdca26"
            ],
            [
             1,
             "#f0f921"
            ]
           ]
          },
          "colorway": [
           "#636efa",
           "#EF553B",
           "#00cc96",
           "#ab63fa",
           "#FFA15A",
           "#19d3f3",
           "#FF6692",
           "#B6E880",
           "#FF97FF",
           "#FECB52"
          ],
          "font": {
           "color": "#2a3f5f"
          },
          "geo": {
           "bgcolor": "white",
           "lakecolor": "white",
           "landcolor": "#E5ECF6",
           "showlakes": true,
           "showland": true,
           "subunitcolor": "white"
          },
          "hoverlabel": {
           "align": "left"
          },
          "hovermode": "closest",
          "mapbox": {
           "style": "light"
          },
          "paper_bgcolor": "white",
          "plot_bgcolor": "#E5ECF6",
          "polar": {
           "angularaxis": {
            "gridcolor": "white",
            "linecolor": "white",
            "ticks": ""
           },
           "bgcolor": "#E5ECF6",
           "radialaxis": {
            "gridcolor": "white",
            "linecolor": "white",
            "ticks": ""
           }
          },
          "scene": {
           "xaxis": {
            "backgroundcolor": "#E5ECF6",
            "gridcolor": "white",
            "gridwidth": 2,
            "linecolor": "white",
            "showbackground": true,
            "ticks": "",
            "zerolinecolor": "white"
           },
           "yaxis": {
            "backgroundcolor": "#E5ECF6",
            "gridcolor": "white",
            "gridwidth": 2,
            "linecolor": "white",
            "showbackground": true,
            "ticks": "",
            "zerolinecolor": "white"
           },
           "zaxis": {
            "backgroundcolor": "#E5ECF6",
            "gridcolor": "white",
            "gridwidth": 2,
            "linecolor": "white",
            "showbackground": true,
            "ticks": "",
            "zerolinecolor": "white"
           }
          },
          "shapedefaults": {
           "line": {
            "color": "#2a3f5f"
           }
          },
          "ternary": {
           "aaxis": {
            "gridcolor": "white",
            "linecolor": "white",
            "ticks": ""
           },
           "baxis": {
            "gridcolor": "white",
            "linecolor": "white",
            "ticks": ""
           },
           "bgcolor": "#E5ECF6",
           "caxis": {
            "gridcolor": "white",
            "linecolor": "white",
            "ticks": ""
           }
          },
          "title": {
           "x": 0.05
          },
          "xaxis": {
           "automargin": true,
           "gridcolor": "white",
           "linecolor": "white",
           "ticks": "",
           "title": {
            "standoff": 15
           },
           "zerolinecolor": "white",
           "zerolinewidth": 2
          },
          "yaxis": {
           "automargin": true,
           "gridcolor": "white",
           "linecolor": "white",
           "ticks": "",
           "title": {
            "standoff": 15
           },
           "zerolinecolor": "white",
           "zerolinewidth": 2
          }
         }
        },
        "title": {
         "text": "Scree Plot for Factor Analysis"
        },
        "xaxis": {
         "anchor": "y",
         "domain": [
          0,
          1
         ],
         "title": {
          "text": "Factors"
         }
        },
        "yaxis": {
         "anchor": "x",
         "domain": [
          0,
          1
         ],
         "title": {
          "text": "Eigenvalues"
         }
        }
       }
      },
      "text/html": [
       "<div>                            <div id=\"c475f0ab-0351-4f89-9f6f-c5fd3abacd4c\" class=\"plotly-graph-div\" style=\"height:525px; width:100%;\"></div>            <script type=\"text/javascript\">                require([\"plotly\"], function(Plotly) {                    window.PLOTLYENV=window.PLOTLYENV || {};                                    if (document.getElementById(\"c475f0ab-0351-4f89-9f6f-c5fd3abacd4c\")) {                    Plotly.newPlot(                        \"c475f0ab-0351-4f89-9f6f-c5fd3abacd4c\",                        [{\"hovertemplate\":\"Factors=%{x}<br>Eigenvalues=%{y}<extra></extra>\",\"legendgroup\":\"\",\"line\":{\"color\":\"#e377c2\",\"dash\":\"solid\"},\"marker\":{\"symbol\":\"circle\"},\"mode\":\"markers+lines\",\"name\":\"\",\"orientation\":\"v\",\"showlegend\":false,\"x\":[1,2,3,4,5,6,7,8,9,10,11,12,13,14,15,16,17,18,19,20,21,22,23,24,25,26,27,28,29,30,31,32,33,34,35],\"xaxis\":\"x\",\"y\":[7.105336249646221,3.5991981131111466,1.9182886306898579,1.581116613428925,0.972238069271526,0.7942005749749588,0.5136602719358632,0.3023509984776645,0.2353953102139953,0.13579409148865404,0.03202233230751474,-0.044647833357392475,-0.07513053929949988,-0.11744054083375219,-0.14986050135963191,-0.1960030842546438,-0.2528295937614549,-0.2703460908724329,-0.2722006643964185,-0.31485266792166555,-0.3386962574595911,-0.38589222723967825,-0.4024907104579616,-0.4155266329493743,-0.42948989499278595,-0.45298776536883534,-0.4681967690747779,-0.508792240343314,-0.5534154751596146,-0.623354030135119,-0.6417255006976033,-0.7352608859613756,-0.7888326165698207,-0.7919083031815469,-0.8543841789468608],\"yaxis\":\"y\",\"type\":\"scatter\"}],                        {\"template\":{\"data\":{\"bar\":[{\"error_x\":{\"color\":\"#2a3f5f\"},\"error_y\":{\"color\":\"#2a3f5f\"},\"marker\":{\"line\":{\"color\":\"#E5ECF6\",\"width\":0.5},\"pattern\":{\"fillmode\":\"overlay\",\"size\":10,\"solidity\":0.2}},\"type\":\"bar\"}],\"barpolar\":[{\"marker\":{\"line\":{\"color\":\"#E5ECF6\",\"width\":0.5},\"pattern\":{\"fillmode\":\"overlay\",\"size\":10,\"solidity\":0.2}},\"type\":\"barpolar\"}],\"carpet\":[{\"aaxis\":{\"endlinecolor\":\"#2a3f5f\",\"gridcolor\":\"white\",\"linecolor\":\"white\",\"minorgridcolor\":\"white\",\"startlinecolor\":\"#2a3f5f\"},\"baxis\":{\"endlinecolor\":\"#2a3f5f\",\"gridcolor\":\"white\",\"linecolor\":\"white\",\"minorgridcolor\":\"white\",\"startlinecolor\":\"#2a3f5f\"},\"type\":\"carpet\"}],\"choropleth\":[{\"colorbar\":{\"outlinewidth\":0,\"ticks\":\"\"},\"type\":\"choropleth\"}],\"contour\":[{\"colorbar\":{\"outlinewidth\":0,\"ticks\":\"\"},\"colorscale\":[[0.0,\"#0d0887\"],[0.1111111111111111,\"#46039f\"],[0.2222222222222222,\"#7201a8\"],[0.3333333333333333,\"#9c179e\"],[0.4444444444444444,\"#bd3786\"],[0.5555555555555556,\"#d8576b\"],[0.6666666666666666,\"#ed7953\"],[0.7777777777777778,\"#fb9f3a\"],[0.8888888888888888,\"#fdca26\"],[1.0,\"#f0f921\"]],\"type\":\"contour\"}],\"contourcarpet\":[{\"colorbar\":{\"outlinewidth\":0,\"ticks\":\"\"},\"type\":\"contourcarpet\"}],\"heatmap\":[{\"colorbar\":{\"outlinewidth\":0,\"ticks\":\"\"},\"colorscale\":[[0.0,\"#0d0887\"],[0.1111111111111111,\"#46039f\"],[0.2222222222222222,\"#7201a8\"],[0.3333333333333333,\"#9c179e\"],[0.4444444444444444,\"#bd3786\"],[0.5555555555555556,\"#d8576b\"],[0.6666666666666666,\"#ed7953\"],[0.7777777777777778,\"#fb9f3a\"],[0.8888888888888888,\"#fdca26\"],[1.0,\"#f0f921\"]],\"type\":\"heatmap\"}],\"heatmapgl\":[{\"colorbar\":{\"outlinewidth\":0,\"ticks\":\"\"},\"colorscale\":[[0.0,\"#0d0887\"],[0.1111111111111111,\"#46039f\"],[0.2222222222222222,\"#7201a8\"],[0.3333333333333333,\"#9c179e\"],[0.4444444444444444,\"#bd3786\"],[0.5555555555555556,\"#d8576b\"],[0.6666666666666666,\"#ed7953\"],[0.7777777777777778,\"#fb9f3a\"],[0.8888888888888888,\"#fdca26\"],[1.0,\"#f0f921\"]],\"type\":\"heatmapgl\"}],\"histogram\":[{\"marker\":{\"pattern\":{\"fillmode\":\"overlay\",\"size\":10,\"solidity\":0.2}},\"type\":\"histogram\"}],\"histogram2d\":[{\"colorbar\":{\"outlinewidth\":0,\"ticks\":\"\"},\"colorscale\":[[0.0,\"#0d0887\"],[0.1111111111111111,\"#46039f\"],[0.2222222222222222,\"#7201a8\"],[0.3333333333333333,\"#9c179e\"],[0.4444444444444444,\"#bd3786\"],[0.5555555555555556,\"#d8576b\"],[0.6666666666666666,\"#ed7953\"],[0.7777777777777778,\"#fb9f3a\"],[0.8888888888888888,\"#fdca26\"],[1.0,\"#f0f921\"]],\"type\":\"histogram2d\"}],\"histogram2dcontour\":[{\"colorbar\":{\"outlinewidth\":0,\"ticks\":\"\"},\"colorscale\":[[0.0,\"#0d0887\"],[0.1111111111111111,\"#46039f\"],[0.2222222222222222,\"#7201a8\"],[0.3333333333333333,\"#9c179e\"],[0.4444444444444444,\"#bd3786\"],[0.5555555555555556,\"#d8576b\"],[0.6666666666666666,\"#ed7953\"],[0.7777777777777778,\"#fb9f3a\"],[0.8888888888888888,\"#fdca26\"],[1.0,\"#f0f921\"]],\"type\":\"histogram2dcontour\"}],\"mesh3d\":[{\"colorbar\":{\"outlinewidth\":0,\"ticks\":\"\"},\"type\":\"mesh3d\"}],\"parcoords\":[{\"line\":{\"colorbar\":{\"outlinewidth\":0,\"ticks\":\"\"}},\"type\":\"parcoords\"}],\"pie\":[{\"automargin\":true,\"type\":\"pie\"}],\"scatter\":[{\"marker\":{\"colorbar\":{\"outlinewidth\":0,\"ticks\":\"\"}},\"type\":\"scatter\"}],\"scatter3d\":[{\"line\":{\"colorbar\":{\"outlinewidth\":0,\"ticks\":\"\"}},\"marker\":{\"colorbar\":{\"outlinewidth\":0,\"ticks\":\"\"}},\"type\":\"scatter3d\"}],\"scattercarpet\":[{\"marker\":{\"colorbar\":{\"outlinewidth\":0,\"ticks\":\"\"}},\"type\":\"scattercarpet\"}],\"scattergeo\":[{\"marker\":{\"colorbar\":{\"outlinewidth\":0,\"ticks\":\"\"}},\"type\":\"scattergeo\"}],\"scattergl\":[{\"marker\":{\"colorbar\":{\"outlinewidth\":0,\"ticks\":\"\"}},\"type\":\"scattergl\"}],\"scattermapbox\":[{\"marker\":{\"colorbar\":{\"outlinewidth\":0,\"ticks\":\"\"}},\"type\":\"scattermapbox\"}],\"scatterpolar\":[{\"marker\":{\"colorbar\":{\"outlinewidth\":0,\"ticks\":\"\"}},\"type\":\"scatterpolar\"}],\"scatterpolargl\":[{\"marker\":{\"colorbar\":{\"outlinewidth\":0,\"ticks\":\"\"}},\"type\":\"scatterpolargl\"}],\"scatterternary\":[{\"marker\":{\"colorbar\":{\"outlinewidth\":0,\"ticks\":\"\"}},\"type\":\"scatterternary\"}],\"surface\":[{\"colorbar\":{\"outlinewidth\":0,\"ticks\":\"\"},\"colorscale\":[[0.0,\"#0d0887\"],[0.1111111111111111,\"#46039f\"],[0.2222222222222222,\"#7201a8\"],[0.3333333333333333,\"#9c179e\"],[0.4444444444444444,\"#bd3786\"],[0.5555555555555556,\"#d8576b\"],[0.6666666666666666,\"#ed7953\"],[0.7777777777777778,\"#fb9f3a\"],[0.8888888888888888,\"#fdca26\"],[1.0,\"#f0f921\"]],\"type\":\"surface\"}],\"table\":[{\"cells\":{\"fill\":{\"color\":\"#EBF0F8\"},\"line\":{\"color\":\"white\"}},\"header\":{\"fill\":{\"color\":\"#C8D4E3\"},\"line\":{\"color\":\"white\"}},\"type\":\"table\"}]},\"layout\":{\"annotationdefaults\":{\"arrowcolor\":\"#2a3f5f\",\"arrowhead\":0,\"arrowwidth\":1},\"autotypenumbers\":\"strict\",\"coloraxis\":{\"colorbar\":{\"outlinewidth\":0,\"ticks\":\"\"}},\"colorscale\":{\"diverging\":[[0,\"#8e0152\"],[0.1,\"#c51b7d\"],[0.2,\"#de77ae\"],[0.3,\"#f1b6da\"],[0.4,\"#fde0ef\"],[0.5,\"#f7f7f7\"],[0.6,\"#e6f5d0\"],[0.7,\"#b8e186\"],[0.8,\"#7fbc41\"],[0.9,\"#4d9221\"],[1,\"#276419\"]],\"sequential\":[[0.0,\"#0d0887\"],[0.1111111111111111,\"#46039f\"],[0.2222222222222222,\"#7201a8\"],[0.3333333333333333,\"#9c179e\"],[0.4444444444444444,\"#bd3786\"],[0.5555555555555556,\"#d8576b\"],[0.6666666666666666,\"#ed7953\"],[0.7777777777777778,\"#fb9f3a\"],[0.8888888888888888,\"#fdca26\"],[1.0,\"#f0f921\"]],\"sequentialminus\":[[0.0,\"#0d0887\"],[0.1111111111111111,\"#46039f\"],[0.2222222222222222,\"#7201a8\"],[0.3333333333333333,\"#9c179e\"],[0.4444444444444444,\"#bd3786\"],[0.5555555555555556,\"#d8576b\"],[0.6666666666666666,\"#ed7953\"],[0.7777777777777778,\"#fb9f3a\"],[0.8888888888888888,\"#fdca26\"],[1.0,\"#f0f921\"]]},\"colorway\":[\"#636efa\",\"#EF553B\",\"#00cc96\",\"#ab63fa\",\"#FFA15A\",\"#19d3f3\",\"#FF6692\",\"#B6E880\",\"#FF97FF\",\"#FECB52\"],\"font\":{\"color\":\"#2a3f5f\"},\"geo\":{\"bgcolor\":\"white\",\"lakecolor\":\"white\",\"landcolor\":\"#E5ECF6\",\"showlakes\":true,\"showland\":true,\"subunitcolor\":\"white\"},\"hoverlabel\":{\"align\":\"left\"},\"hovermode\":\"closest\",\"mapbox\":{\"style\":\"light\"},\"paper_bgcolor\":\"white\",\"plot_bgcolor\":\"#E5ECF6\",\"polar\":{\"angularaxis\":{\"gridcolor\":\"white\",\"linecolor\":\"white\",\"ticks\":\"\"},\"bgcolor\":\"#E5ECF6\",\"radialaxis\":{\"gridcolor\":\"white\",\"linecolor\":\"white\",\"ticks\":\"\"}},\"scene\":{\"xaxis\":{\"backgroundcolor\":\"#E5ECF6\",\"gridcolor\":\"white\",\"gridwidth\":2,\"linecolor\":\"white\",\"showbackground\":true,\"ticks\":\"\",\"zerolinecolor\":\"white\"},\"yaxis\":{\"backgroundcolor\":\"#E5ECF6\",\"gridcolor\":\"white\",\"gridwidth\":2,\"linecolor\":\"white\",\"showbackground\":true,\"ticks\":\"\",\"zerolinecolor\":\"white\"},\"zaxis\":{\"backgroundcolor\":\"#E5ECF6\",\"gridcolor\":\"white\",\"gridwidth\":2,\"linecolor\":\"white\",\"showbackground\":true,\"ticks\":\"\",\"zerolinecolor\":\"white\"}},\"shapedefaults\":{\"line\":{\"color\":\"#2a3f5f\"}},\"ternary\":{\"aaxis\":{\"gridcolor\":\"white\",\"linecolor\":\"white\",\"ticks\":\"\"},\"baxis\":{\"gridcolor\":\"white\",\"linecolor\":\"white\",\"ticks\":\"\"},\"bgcolor\":\"#E5ECF6\",\"caxis\":{\"gridcolor\":\"white\",\"linecolor\":\"white\",\"ticks\":\"\"}},\"title\":{\"x\":0.05},\"xaxis\":{\"automargin\":true,\"gridcolor\":\"white\",\"linecolor\":\"white\",\"ticks\":\"\",\"title\":{\"standoff\":15},\"zerolinecolor\":\"white\",\"zerolinewidth\":2},\"yaxis\":{\"automargin\":true,\"gridcolor\":\"white\",\"linecolor\":\"white\",\"ticks\":\"\",\"title\":{\"standoff\":15},\"zerolinecolor\":\"white\",\"zerolinewidth\":2}}},\"xaxis\":{\"anchor\":\"y\",\"domain\":[0.0,1.0],\"title\":{\"text\":\"Factors\"}},\"yaxis\":{\"anchor\":\"x\",\"domain\":[0.0,1.0],\"title\":{\"text\":\"Eigenvalues\"}},\"legend\":{\"tracegroupgap\":0},\"title\":{\"text\":\"Scree Plot for Factor Analysis\"}},                        {\"responsive\": true}                    ).then(function(){\n",
       "                            \n",
       "var gd = document.getElementById('c475f0ab-0351-4f89-9f6f-c5fd3abacd4c');\n",
       "var x = new MutationObserver(function (mutations, observer) {{\n",
       "        var display = window.getComputedStyle(gd).display;\n",
       "        if (!display || display === 'none') {{\n",
       "            console.log([gd, 'removed!']);\n",
       "            Plotly.purge(gd);\n",
       "            observer.disconnect();\n",
       "        }}\n",
       "}});\n",
       "\n",
       "// Listen for the removal of the full notebook cells\n",
       "var notebookContainer = gd.closest('#notebook-container');\n",
       "if (notebookContainer) {{\n",
       "    x.observe(notebookContainer, {childList: true});\n",
       "}}\n",
       "\n",
       "// Listen for the clearing of the current output cell\n",
       "var outputEl = gd.closest('.output');\n",
       "if (outputEl) {{\n",
       "    x.observe(outputEl, {childList: true});\n",
       "}}\n",
       "\n",
       "                        })                };                });            </script>        </div>"
      ]
     },
     "metadata": {},
     "output_type": "display_data"
    },
    {
     "data": {
      "application/javascript": [
       "\n",
       "            setTimeout(function() {\n",
       "                var nbb_cell_id = 188;\n",
       "                var nbb_unformatted_code = \"px.line(\\n    x=range(1, df.shape[1] - 1),\\n    y=newev,\\n    labels={\\\"x\\\": \\\"Factors\\\", \\\"y\\\": \\\"Eigenvalues\\\"},\\n    title=\\\"Scree Plot for Factor Analysis\\\",\\n    color_discrete_sequence=[\\\"#e377c2\\\"],\\n    markers=True,\\n)\";\n",
       "                var nbb_formatted_code = \"px.line(\\n    x=range(1, df.shape[1] - 1),\\n    y=newev,\\n    labels={\\\"x\\\": \\\"Factors\\\", \\\"y\\\": \\\"Eigenvalues\\\"},\\n    title=\\\"Scree Plot for Factor Analysis\\\",\\n    color_discrete_sequence=[\\\"#e377c2\\\"],\\n    markers=True,\\n)\";\n",
       "                var nbb_cells = Jupyter.notebook.get_cells();\n",
       "                for (var i = 0; i < nbb_cells.length; ++i) {\n",
       "                    if (nbb_cells[i].input_prompt_number == nbb_cell_id) {\n",
       "                        if (nbb_cells[i].get_text() == nbb_unformatted_code) {\n",
       "                             nbb_cells[i].set_text(nbb_formatted_code);\n",
       "                        }\n",
       "                        break;\n",
       "                    }\n",
       "                }\n",
       "            }, 500);\n",
       "            "
      ],
      "text/plain": [
       "<IPython.core.display.Javascript object>"
      ]
     },
     "metadata": {},
     "output_type": "display_data"
    }
   ],
   "source": [
    "px.line(\n",
    "    x=range(1, df.shape[1] - 1),\n",
    "    y=newev,\n",
    "    labels={\"x\": \"Factors\", \"y\": \"Eigenvalues\"},\n",
    "    title=\"Scree Plot for Factor Analysis\",\n",
    "    color_discrete_sequence=[\"#e377c2\"],\n",
    "    markers=True,\n",
    ")"
   ]
  },
  {
   "cell_type": "markdown",
   "id": "651848a9",
   "metadata": {},
   "source": [
    "We can see from our scree plot above that 5 factors seems to summarize our data efficiently. Now we rebuild the Factor Analysis, this time with our factors paramater equal to five. "
   ]
  },
  {
   "cell_type": "code",
   "execution_count": 215,
   "id": "63c2665c",
   "metadata": {},
   "outputs": [
    {
     "data": {
      "text/html": [
       "<table class=\"simpletable\">\n",
       "<tr>\n",
       "  <td></td> <td>Eigenvalues</td> <td></td> <td></td>\n",
       "</tr>\n",
       "</table>\n",
       "<table class=\"simpletable\">\n",
       "<tr>\n",
       "  <td></td> <th>area_sqmi</th> <th>epl_pov</th> <th>epl_unemp</th> <th>epl_pci</th> <th>epl_nohsdp</th> <th>epl_age65</th> <th>epl_age17</th> <th>epl_disabl</th> <th>epl_sngpnt</th> <th>epl_minrty</th> <th>epl_limeng</th> <th>epl_munit</th> <th>epl_mobile</th> <th>epl_crowd</th> <th>epl_noveh</th> <th>epl_groupq</th>  <th>f_pov</th>  <th>f_unemp</th>  <th>f_pci</th>  <th>f_nohsdp</th> <th>f_theme1</th> <th>f_age65</th> <th>f_age17</th> <th>f_disabl</th> <th>f_sngpnt</th> <th>f_theme2</th> <th>f_minrty</th> <th>f_limeng</th> <th>f_theme3</th> <th>f_munit</th> <th>f_mobile</th> <th>f_crowd</th> <th>f_noveh</th> <th>f_groupq</th> <th>f_theme4</th>\n",
       "</tr>\n",
       "<tr>\n",
       "  <th></th>  <td>7.3726</td>   <td>4.0232</td>   <td>2.2197</td>   <td>1.8913</td>    <td>1.3875</td>    <td>1.0136</td>    <td>0.7786</td>     <td>0.5233</td>     <td>0.4686</td>     <td>0.3269</td>     <td>0.2565</td>    <td>0.1728</td>     <td>0.1249</td>    <td>0.1072</td>    <td>0.0897</td>     <td>0.0550</td>   <td>-0.0136</td> <td>-0.0249</td> <td>-0.0550</td>  <td>-0.0885</td>  <td>-0.1080</td> <td>-0.1165</td> <td>-0.1199</td>  <td>-0.1398</td>  <td>-0.1589</td>  <td>-0.1673</td>  <td>-0.1879</td>  <td>-0.1977</td>  <td>-0.2186</td> <td>-0.2553</td>  <td>-0.2749</td> <td>-0.2825</td> <td>-0.3018</td>  <td>-0.5495</td>  <td>-0.6562</td>\n",
       "</tr>\n",
       "</table>\n",
       "<table class=\"simpletable\">\n",
       "<tr>\n",
       "  <td></td> <td></td> <td></td> <td></td>\n",
       "</tr>\n",
       "</table>\n",
       "<table class=\"simpletable\">\n",
       "<tr>\n",
       "  <td></td> <td>Communality</td> <td></td> <td></td>\n",
       "</tr>\n",
       "</table>\n",
       "<table class=\"simpletable\">\n",
       "<tr>\n",
       "  <td></td> <th>area_sqmi</th> <th>epl_pov</th> <th>epl_unemp</th> <th>epl_pci</th> <th>epl_nohsdp</th> <th>epl_age65</th> <th>epl_age17</th> <th>epl_disabl</th> <th>epl_sngpnt</th> <th>epl_minrty</th> <th>epl_limeng</th> <th>epl_munit</th> <th>epl_mobile</th> <th>epl_crowd</th> <th>epl_noveh</th> <th>epl_groupq</th>  <th>f_pov</th> <th>f_unemp</th>  <th>f_pci</th> <th>f_nohsdp</th> <th>f_theme1</th> <th>f_age65</th> <th>f_age17</th> <th>f_disabl</th> <th>f_sngpnt</th> <th>f_theme2</th> <th>f_minrty</th> <th>f_limeng</th> <th>f_theme3</th> <th>f_munit</th> <th>f_mobile</th> <th>f_crowd</th> <th>f_noveh</th> <th>f_groupq</th> <th>f_theme4</th>\n",
       "</tr>\n",
       "<tr>\n",
       "  <th></th>  <td>0.0264</td>   <td>0.7727</td>   <td>0.4883</td>   <td>0.7661</td>    <td>0.7382</td>    <td>0.6532</td>    <td>0.6513</td>     <td>0.7218</td>     <td>0.5386</td>     <td>0.5647</td>     <td>0.4106</td>    <td>0.5147</td>     <td>0.5934</td>    <td>0.4406</td>    <td>0.4671</td>     <td>0.1693</td>   <td>0.5792</td> <td>0.3327</td>  <td>0.5420</td>  <td>0.4003</td>   <td>0.9771</td>  <td>0.1103</td>  <td>0.3889</td>   <td>0.2158</td>   <td>0.3332</td>   <td>0.4420</td>   <td>0.5168</td>   <td>0.6223</td>   <td>0.8886</td>  <td>0.2523</td>   <td>0.2208</td>  <td>0.3958</td>  <td>0.3450</td>   <td>0.1440</td>   <td>0.6703</td> \n",
       "</tr>\n",
       "</table>\n",
       "<table class=\"simpletable\">\n",
       "<tr>\n",
       "  <td></td> <td></td> <td></td> <td></td>\n",
       "</tr>\n",
       "</table>\n",
       "<table class=\"simpletable\">\n",
       "<tr>\n",
       "  <td></td> <td>Pre-rotated loadings</td> <td></td> <td></td>\n",
       "</tr>\n",
       "</table>\n",
       "<table class=\"simpletable\">\n",
       "<tr>\n",
       "       <td></td>      <th>factor 0</th> <th>factor 1</th> <th>factor 2</th> <th>factor 3</th> <th>factor 4</th>\n",
       "</tr>\n",
       "<tr>\n",
       "  <th>area_sqmi</th>   <td>0.0996</td>   <td>0.1206</td>   <td>-0.0203</td>  <td>-0.0319</td>  <td>0.0236</td> \n",
       "</tr>\n",
       "<tr>\n",
       "  <th>epl_pov</th>     <td>0.6953</td>   <td>-0.3541</td>  <td>0.3860</td>   <td>0.0687</td>   <td>-0.1010</td>\n",
       "</tr>\n",
       "<tr>\n",
       "  <th>epl_unemp</th>   <td>0.5740</td>   <td>-0.2058</td>  <td>0.3037</td>   <td>0.1071</td>   <td>-0.1131</td>\n",
       "</tr>\n",
       "<tr>\n",
       "  <th>epl_pci</th>     <td>0.6560</td>   <td>-0.4651</td>  <td>0.3134</td>   <td>-0.1443</td>  <td>-0.0210</td>\n",
       "</tr>\n",
       "<tr>\n",
       "  <th>epl_nohsdp</th>  <td>0.7160</td>   <td>-0.2236</td>  <td>0.3380</td>   <td>-0.2145</td>  <td>-0.1235</td>\n",
       "</tr>\n",
       "<tr>\n",
       "  <th>epl_age65</th>   <td>-0.2223</td>  <td>-0.5639</td>  <td>-0.3897</td>  <td>-0.1608</td>  <td>-0.3288</td>\n",
       "</tr>\n",
       "<tr>\n",
       "  <th>epl_age17</th>   <td>0.1728</td>   <td>0.4136</td>   <td>0.3199</td>   <td>-0.3393</td>  <td>0.4826</td> \n",
       "</tr>\n",
       "<tr>\n",
       "  <th>epl_disabl</th>  <td>0.3545</td>   <td>-0.7118</td>  <td>0.0823</td>   <td>-0.1268</td>  <td>-0.2581</td>\n",
       "</tr>\n",
       "<tr>\n",
       "  <th>epl_sngpnt</th>  <td>0.4719</td>   <td>0.1809</td>   <td>0.4828</td>   <td>0.1359</td>   <td>0.1778</td> \n",
       "</tr>\n",
       "<tr>\n",
       "  <th>epl_minrty</th>  <td>0.5235</td>   <td>0.4126</td>   <td>0.3362</td>   <td>0.0541</td>   <td>-0.0667</td>\n",
       "</tr>\n",
       "<tr>\n",
       "  <th>epl_limeng</th>  <td>0.1708</td>   <td>0.5548</td>   <td>0.2367</td>   <td>-0.0827</td>  <td>-0.1034</td>\n",
       "</tr>\n",
       "<tr>\n",
       "  <th>epl_munit</th>   <td>-0.2147</td>  <td>0.5349</td>   <td>0.1085</td>   <td>0.4126</td>   <td>0.0217</td> \n",
       "</tr>\n",
       "<tr>\n",
       "  <th>epl_mobile</th>  <td>0.4746</td>   <td>-0.5236</td>  <td>0.1121</td>   <td>-0.2650</td>  <td>-0.1060</td>\n",
       "</tr>\n",
       "<tr>\n",
       "  <th>epl_crowd</th>   <td>0.4472</td>   <td>0.2830</td>   <td>0.3353</td>   <td>-0.2180</td>  <td>-0.0239</td>\n",
       "</tr>\n",
       "<tr>\n",
       "  <th>epl_noveh</th>   <td>0.4359</td>   <td>-0.1165</td>  <td>0.2790</td>   <td>0.4125</td>   <td>-0.1248</td>\n",
       "</tr>\n",
       "<tr>\n",
       "  <th>epl_groupq</th>  <td>0.1218</td>   <td>-0.0144</td>  <td>0.0519</td>   <td>0.3688</td>   <td>-0.1246</td>\n",
       "</tr>\n",
       "<tr>\n",
       "  <th>f_pov</th>       <td>0.6262</td>   <td>-0.0724</td>  <td>-0.2731</td>  <td>0.2072</td>   <td>0.2537</td> \n",
       "</tr>\n",
       "<tr>\n",
       "  <th>f_unemp</th>     <td>0.5072</td>   <td>-0.0898</td>  <td>-0.1869</td>  <td>0.1144</td>   <td>0.1389</td> \n",
       "</tr>\n",
       "<tr>\n",
       "  <th>f_pci</th>       <td>0.6137</td>   <td>-0.1157</td>  <td>-0.2912</td>  <td>0.1442</td>   <td>0.2152</td> \n",
       "</tr>\n",
       "<tr>\n",
       "  <th>f_nohsdp</th>    <td>0.5741</td>   <td>0.0496</td>   <td>-0.2415</td>  <td>-0.0856</td>  <td>0.0516</td> \n",
       "</tr>\n",
       "<tr>\n",
       "  <th>f_theme1</th>    <td>0.8317</td>   <td>-0.0857</td>  <td>-0.4070</td>  <td>0.1573</td>   <td>0.2959</td> \n",
       "</tr>\n",
       "<tr>\n",
       "  <th>f_age65</th>     <td>-0.1105</td>  <td>-0.1728</td>  <td>-0.1928</td>  <td>-0.1607</td>  <td>-0.0724</td>\n",
       "</tr>\n",
       "<tr>\n",
       "  <th>f_age17</th>     <td>0.2547</td>   <td>0.3465</td>   <td>-0.1296</td>  <td>-0.4010</td>  <td>0.1624</td> \n",
       "</tr>\n",
       "<tr>\n",
       "  <th>f_disabl</th>    <td>0.2822</td>   <td>-0.3211</td>  <td>-0.1637</td>  <td>-0.0571</td>  <td>0.0552</td> \n",
       "</tr>\n",
       "<tr>\n",
       "  <th>f_sngpnt</th>    <td>0.4980</td>   <td>0.1529</td>   <td>-0.0961</td>  <td>-0.0301</td>  <td>0.2273</td> \n",
       "</tr>\n",
       "<tr>\n",
       "  <th>f_theme2</th>    <td>0.4539</td>   <td>-0.0062</td>  <td>-0.3017</td>  <td>-0.3320</td>  <td>0.1862</td> \n",
       "</tr>\n",
       "<tr>\n",
       "  <th>f_minrty</th>    <td>0.5371</td>   <td>0.3656</td>   <td>-0.2659</td>  <td>-0.0481</td>  <td>-0.1470</td>\n",
       "</tr>\n",
       "<tr>\n",
       "  <th>f_limeng</th>    <td>0.3140</td>   <td>0.5123</td>   <td>-0.0981</td>  <td>-0.2835</td>  <td>-0.4137</td>\n",
       "</tr>\n",
       "<tr>\n",
       "  <th>f_theme3</th>    <td>0.5352</td>   <td>0.5687</td>   <td>-0.2513</td>  <td>-0.2282</td>  <td>-0.4044</td>\n",
       "</tr>\n",
       "<tr>\n",
       "  <th>f_munit</th>     <td>-0.0390</td>  <td>0.3489</td>   <td>-0.0040</td>  <td>0.2735</td>   <td>-0.2329</td>\n",
       "</tr>\n",
       "<tr>\n",
       "  <th>f_mobile</th>    <td>0.4111</td>   <td>-0.1944</td>  <td>-0.0845</td>  <td>0.0828</td>   <td>0.0047</td> \n",
       "</tr>\n",
       "<tr>\n",
       "  <th>f_crowd</th>     <td>0.3689</td>   <td>0.3923</td>   <td>-0.1577</td>  <td>-0.2339</td>  <td>-0.1622</td>\n",
       "</tr>\n",
       "<tr>\n",
       "  <th>f_noveh</th>     <td>0.4161</td>   <td>0.0570</td>   <td>-0.2180</td>  <td>0.3464</td>   <td>0.0326</td> \n",
       "</tr>\n",
       "<tr>\n",
       "  <th>f_groupq</th>    <td>0.2086</td>   <td>-0.0231</td>  <td>-0.0586</td>  <td>0.2883</td>   <td>-0.1157</td>\n",
       "</tr>\n",
       "<tr>\n",
       "  <th>f_theme4</th>    <td>0.5874</td>   <td>0.2538</td>   <td>-0.2439</td>  <td>0.3789</td>   <td>-0.2404</td>\n",
       "</tr>\n",
       "</table>\n",
       "<table class=\"simpletable\">\n",
       "<tr>\n",
       "  <td></td> <td></td> <td></td> <td></td>\n",
       "</tr>\n",
       "</table>"
      ],
      "text/plain": [
       "<class 'statsmodels.iolib.summary2.Summary'>\n",
       "\"\"\"\n",
       "                                                                                                                                                       Factor analysis results\n",
       "======================================================================================================================================================================================================================================================================================================================================\n",
       "                                                                                                         Eigenvalues                                                                                                                                                                                                                  \n",
       "--------------------------------------------------------------------------------------------------------------------------------------------------------------------------------------------------------------------------------------------------------------------------------------------------------------------------------------\n",
       " area_sqmi epl_pov epl_unemp epl_pci epl_nohsdp epl_age65 epl_age17 epl_disabl epl_sngpnt epl_minrty epl_limeng epl_munit epl_mobile epl_crowd epl_noveh epl_groupq  f_pov  f_unemp  f_pci  f_nohsdp f_theme1 f_age65 f_age17 f_disabl f_sngpnt f_theme2 f_minrty f_limeng f_theme3 f_munit f_mobile f_crowd f_noveh f_groupq f_theme4\n",
       "--------------------------------------------------------------------------------------------------------------------------------------------------------------------------------------------------------------------------------------------------------------------------------------------------------------------------------------\n",
       "    7.3726  4.0232    2.2197  1.8913     1.3875    1.0136    0.7786     0.5233     0.4686     0.3269     0.2565    0.1728     0.1249    0.1072    0.0897     0.0550 -0.0136 -0.0249 -0.0550  -0.0885  -0.1080 -0.1165 -0.1199  -0.1398  -0.1589  -0.1673  -0.1879  -0.1977  -0.2186 -0.2553  -0.2749 -0.2825 -0.3018  -0.5495  -0.6562\n",
       "--------------------------------------------------------------------------------------------------------------------------------------------------------------------------------------------------------------------------------------------------------------------------------------------------------------------------------------\n",
       "                                                                                                                                                                                                                                                                                                                                      \n",
       "--------------------------------------------------------------------------------------------------------------------------------------------------------------------------------------------------------------------------------------------------------------------------------------------------------------------------------------\n",
       "                                                                                                         Communality                                                                                                                                                                                                                  \n",
       "--------------------------------------------------------------------------------------------------------------------------------------------------------------------------------------------------------------------------------------------------------------------------------------------------------------------------------------\n",
       "   area_sqmi epl_pov epl_unemp epl_pci epl_nohsdp epl_age65 epl_age17 epl_disabl epl_sngpnt epl_minrty epl_limeng epl_munit epl_mobile epl_crowd epl_noveh epl_groupq f_pov  f_unemp f_pci  f_nohsdp f_theme1 f_age65 f_age17 f_disabl f_sngpnt f_theme2 f_minrty f_limeng f_theme3 f_munit f_mobile f_crowd f_noveh f_groupq f_theme4\n",
       "--------------------------------------------------------------------------------------------------------------------------------------------------------------------------------------------------------------------------------------------------------------------------------------------------------------------------------------\n",
       "      0.0264  0.7727    0.4883  0.7661     0.7382    0.6532    0.6513     0.7218     0.5386     0.5647     0.4106    0.5147     0.5934    0.4406    0.4671     0.1693 0.5792  0.3327 0.5420   0.4003   0.9771  0.1103  0.3889   0.2158   0.3332   0.4420   0.5168   0.6223   0.8886  0.2523   0.2208  0.3958  0.3450   0.1440   0.6703\n",
       "--------------------------------------------------------------------------------------------------------------------------------------------------------------------------------------------------------------------------------------------------------------------------------------------------------------------------------------\n",
       "                                                                                                                                                                                                                                                                                                                                      \n",
       "--------------------------------------------------------------------------------------------------------------------------------------------------------------------------------------------------------------------------------------------------------------------------------------------------------------------------------------\n",
       "                                                                                                      Pre-rotated loadings                                                                                                                                                                                                            \n",
       "---------------------------------------------------------------------------------------------------------------------------------------------------------------------------------------------------------------------------------------------------------------------------------------------------------------------------------------------------------------------------------------------------------\n",
       "                                                                                 factor 0                                                                    factor 1                                                                    factor 2                                                                    factor 3                                                                    factor 4\n",
       "---------------------------------------------------------------------------------------------------------------------------------------------------------------------------------------------------------------------------------------------------------------------------------------------------------------------------------------------------------------------------------------------------------\n",
       "area_sqmi                                                                          0.0996                                                                      0.1206                                                                     -0.0203                                                                     -0.0319                                                                      0.0236\n",
       "epl_pov                                                                            0.6953                                                                     -0.3541                                                                      0.3860                                                                      0.0687                                                                     -0.1010\n",
       "epl_unemp                                                                          0.5740                                                                     -0.2058                                                                      0.3037                                                                      0.1071                                                                     -0.1131\n",
       "epl_pci                                                                            0.6560                                                                     -0.4651                                                                      0.3134                                                                     -0.1443                                                                     -0.0210\n",
       "epl_nohsdp                                                                         0.7160                                                                     -0.2236                                                                      0.3380                                                                     -0.2145                                                                     -0.1235\n",
       "epl_age65                                                                         -0.2223                                                                     -0.5639                                                                     -0.3897                                                                     -0.1608                                                                     -0.3288\n",
       "epl_age17                                                                          0.1728                                                                      0.4136                                                                      0.3199                                                                     -0.3393                                                                      0.4826\n",
       "epl_disabl                                                                         0.3545                                                                     -0.7118                                                                      0.0823                                                                     -0.1268                                                                     -0.2581\n",
       "epl_sngpnt                                                                         0.4719                                                                      0.1809                                                                      0.4828                                                                      0.1359                                                                      0.1778\n",
       "epl_minrty                                                                         0.5235                                                                      0.4126                                                                      0.3362                                                                      0.0541                                                                     -0.0667\n",
       "epl_limeng                                                                         0.1708                                                                      0.5548                                                                      0.2367                                                                     -0.0827                                                                     -0.1034\n",
       "epl_munit                                                                         -0.2147                                                                      0.5349                                                                      0.1085                                                                      0.4126                                                                      0.0217\n",
       "epl_mobile                                                                         0.4746                                                                     -0.5236                                                                      0.1121                                                                     -0.2650                                                                     -0.1060\n",
       "epl_crowd                                                                          0.4472                                                                      0.2830                                                                      0.3353                                                                     -0.2180                                                                     -0.0239\n",
       "epl_noveh                                                                          0.4359                                                                     -0.1165                                                                      0.2790                                                                      0.4125                                                                     -0.1248\n",
       "epl_groupq                                                                         0.1218                                                                     -0.0144                                                                      0.0519                                                                      0.3688                                                                     -0.1246\n",
       "f_pov                                                                              0.6262                                                                     -0.0724                                                                     -0.2731                                                                      0.2072                                                                      0.2537\n",
       "f_unemp                                                                            0.5072                                                                     -0.0898                                                                     -0.1869                                                                      0.1144                                                                      0.1389\n",
       "f_pci                                                                              0.6137                                                                     -0.1157                                                                     -0.2912                                                                      0.1442                                                                      0.2152\n",
       "f_nohsdp                                                                           0.5741                                                                      0.0496                                                                     -0.2415                                                                     -0.0856                                                                      0.0516\n",
       "f_theme1                                                                           0.8317                                                                     -0.0857                                                                     -0.4070                                                                      0.1573                                                                      0.2959\n",
       "f_age65                                                                           -0.1105                                                                     -0.1728                                                                     -0.1928                                                                     -0.1607                                                                     -0.0724\n",
       "f_age17                                                                            0.2547                                                                      0.3465                                                                     -0.1296                                                                     -0.4010                                                                      0.1624\n",
       "f_disabl                                                                           0.2822                                                                     -0.3211                                                                     -0.1637                                                                     -0.0571                                                                      0.0552\n",
       "f_sngpnt                                                                           0.4980                                                                      0.1529                                                                     -0.0961                                                                     -0.0301                                                                      0.2273\n",
       "f_theme2                                                                           0.4539                                                                     -0.0062                                                                     -0.3017                                                                     -0.3320                                                                      0.1862\n",
       "f_minrty                                                                           0.5371                                                                      0.3656                                                                     -0.2659                                                                     -0.0481                                                                     -0.1470\n",
       "f_limeng                                                                           0.3140                                                                      0.5123                                                                     -0.0981                                                                     -0.2835                                                                     -0.4137\n",
       "f_theme3                                                                           0.5352                                                                      0.5687                                                                     -0.2513                                                                     -0.2282                                                                     -0.4044\n",
       "f_munit                                                                           -0.0390                                                                      0.3489                                                                     -0.0040                                                                      0.2735                                                                     -0.2329\n",
       "f_mobile                                                                           0.4111                                                                     -0.1944                                                                     -0.0845                                                                      0.0828                                                                      0.0047\n",
       "f_crowd                                                                            0.3689                                                                      0.3923                                                                     -0.1577                                                                     -0.2339                                                                     -0.1622\n",
       "f_noveh                                                                            0.4161                                                                      0.0570                                                                     -0.2180                                                                      0.3464                                                                      0.0326\n",
       "f_groupq                                                                           0.2086                                                                     -0.0231                                                                     -0.0586                                                                      0.2883                                                                     -0.1157\n",
       "f_theme4                                                                           0.5874                                                                      0.2538                                                                     -0.2439                                                                      0.3789                                                                     -0.2404\n",
       "--------------------------------------------------------------------------------------------------------------------------------------------------------------------------------------------------------------------------------------------------------------------------------------------------------------------------------------\n",
       "                                                                                                                                                                                                                                                                                                                                      \n",
       "======================================================================================================================================================================================================================================================================================================================================\n",
       "\n",
       "\"\"\""
      ]
     },
     "metadata": {},
     "output_type": "display_data"
    },
    {
     "data": {
      "application/javascript": [
       "\n",
       "            setTimeout(function() {\n",
       "                var nbb_cell_id = 215;\n",
       "                var nbb_unformatted_code = \"# https://www.ibm.com/docs/en/spss-statistics/beta?topic=analysis-exploratory-factor-rotation\\nnewFA = sm.multivariate.Factor(df.iloc[:, 2:], n_factor=5, method=\\\"pa\\\")\\nmodel = newFA.fit()\\ndisplay(model.summary())\\n# newev = model.eigenvals\";\n",
       "                var nbb_formatted_code = \"# https://www.ibm.com/docs/en/spss-statistics/beta?topic=analysis-exploratory-factor-rotation\\nnewFA = sm.multivariate.Factor(df.iloc[:, 2:], n_factor=5, method=\\\"pa\\\")\\nmodel = newFA.fit()\\ndisplay(model.summary())\\n# newev = model.eigenvals\";\n",
       "                var nbb_cells = Jupyter.notebook.get_cells();\n",
       "                for (var i = 0; i < nbb_cells.length; ++i) {\n",
       "                    if (nbb_cells[i].input_prompt_number == nbb_cell_id) {\n",
       "                        if (nbb_cells[i].get_text() == nbb_unformatted_code) {\n",
       "                             nbb_cells[i].set_text(nbb_formatted_code);\n",
       "                        }\n",
       "                        break;\n",
       "                    }\n",
       "                }\n",
       "            }, 500);\n",
       "            "
      ],
      "text/plain": [
       "<IPython.core.display.Javascript object>"
      ]
     },
     "metadata": {},
     "output_type": "display_data"
    }
   ],
   "source": [
    "# https://www.ibm.com/docs/en/spss-statistics/beta?topic=analysis-exploratory-factor-rotation\n",
    "newFA = sm.multivariate.Factor(df.iloc[:, 2:], n_factor=5, method=\"pa\")\n",
    "model = newFA.fit()\n",
    "display(model.summary())\n",
    "# newev = model.eigenvals"
   ]
  },
  {
   "cell_type": "code",
   "execution_count": 223,
   "id": "06b70d40",
   "metadata": {},
   "outputs": [
    {
     "ename": "ValueError",
     "evalue": "Length mismatch: Expected axis has 1 elements, new values have 5 elements",
     "output_type": "error",
     "traceback": [
      "\u001b[1;31m---------------------------------------------------------------------------\u001b[0m",
      "\u001b[1;31mValueError\u001b[0m                                Traceback (most recent call last)",
      "\u001b[1;32m<ipython-input-223-bd3c7172a1e9>\u001b[0m in \u001b[0;36m<module>\u001b[1;34m\u001b[0m\n\u001b[0;32m      4\u001b[0m \u001b[0mloadings\u001b[0m \u001b[1;33m=\u001b[0m \u001b[0mpd\u001b[0m\u001b[1;33m.\u001b[0m\u001b[0mDataFrame\u001b[0m\u001b[1;33m(\u001b[0m\u001b[0mmodel\u001b[0m\u001b[1;33m.\u001b[0m\u001b[0mloadings\u001b[0m\u001b[1;33m)\u001b[0m\u001b[1;33m\u001b[0m\u001b[1;33m\u001b[0m\u001b[0m\n\u001b[0;32m      5\u001b[0m \u001b[0mcolNames\u001b[0m \u001b[1;33m=\u001b[0m \u001b[1;33m[\u001b[0m\u001b[1;34m\"Factor 1\"\u001b[0m\u001b[1;33m,\u001b[0m \u001b[1;34m\"Factor 2\"\u001b[0m\u001b[1;33m,\u001b[0m \u001b[1;34m\"Factor 3\"\u001b[0m\u001b[1;33m,\u001b[0m \u001b[1;34m\"Factor 4\"\u001b[0m\u001b[1;33m,\u001b[0m \u001b[1;34m\"Factor 5\"\u001b[0m\u001b[1;33m]\u001b[0m\u001b[1;33m\u001b[0m\u001b[1;33m\u001b[0m\u001b[0m\n\u001b[1;32m----> 6\u001b[1;33m \u001b[0mloadings\u001b[0m\u001b[1;33m.\u001b[0m\u001b[0mcolumns\u001b[0m \u001b[1;33m=\u001b[0m \u001b[0mcolNames\u001b[0m\u001b[1;33m\u001b[0m\u001b[1;33m\u001b[0m\u001b[0m\n\u001b[0m\u001b[0;32m      7\u001b[0m \u001b[0mloadings\u001b[0m\u001b[1;33m.\u001b[0m\u001b[0mset_index\u001b[0m\u001b[1;33m(\u001b[0m\u001b[1;33m[\u001b[0m\u001b[0mFA_vars\u001b[0m\u001b[1;33m]\u001b[0m\u001b[1;33m)\u001b[0m\u001b[1;33m\u001b[0m\u001b[1;33m\u001b[0m\u001b[0m\n\u001b[0;32m      8\u001b[0m \u001b[0mloadings\u001b[0m\u001b[1;33m\u001b[0m\u001b[1;33m\u001b[0m\u001b[0m\n",
      "\u001b[1;32m~\\anaconda3\\lib\\site-packages\\pandas\\core\\generic.py\u001b[0m in \u001b[0;36m__setattr__\u001b[1;34m(self, name, value)\u001b[0m\n\u001b[0;32m   5476\u001b[0m         \u001b[1;32mtry\u001b[0m\u001b[1;33m:\u001b[0m\u001b[1;33m\u001b[0m\u001b[1;33m\u001b[0m\u001b[0m\n\u001b[0;32m   5477\u001b[0m             \u001b[0mobject\u001b[0m\u001b[1;33m.\u001b[0m\u001b[0m__getattribute__\u001b[0m\u001b[1;33m(\u001b[0m\u001b[0mself\u001b[0m\u001b[1;33m,\u001b[0m \u001b[0mname\u001b[0m\u001b[1;33m)\u001b[0m\u001b[1;33m\u001b[0m\u001b[1;33m\u001b[0m\u001b[0m\n\u001b[1;32m-> 5478\u001b[1;33m             \u001b[1;32mreturn\u001b[0m \u001b[0mobject\u001b[0m\u001b[1;33m.\u001b[0m\u001b[0m__setattr__\u001b[0m\u001b[1;33m(\u001b[0m\u001b[0mself\u001b[0m\u001b[1;33m,\u001b[0m \u001b[0mname\u001b[0m\u001b[1;33m,\u001b[0m \u001b[0mvalue\u001b[0m\u001b[1;33m)\u001b[0m\u001b[1;33m\u001b[0m\u001b[1;33m\u001b[0m\u001b[0m\n\u001b[0m\u001b[0;32m   5479\u001b[0m         \u001b[1;32mexcept\u001b[0m \u001b[0mAttributeError\u001b[0m\u001b[1;33m:\u001b[0m\u001b[1;33m\u001b[0m\u001b[1;33m\u001b[0m\u001b[0m\n\u001b[0;32m   5480\u001b[0m             \u001b[1;32mpass\u001b[0m\u001b[1;33m\u001b[0m\u001b[1;33m\u001b[0m\u001b[0m\n",
      "\u001b[1;32mpandas\\_libs\\properties.pyx\u001b[0m in \u001b[0;36mpandas._libs.properties.AxisProperty.__set__\u001b[1;34m()\u001b[0m\n",
      "\u001b[1;32m~\\anaconda3\\lib\\site-packages\\pandas\\core\\generic.py\u001b[0m in \u001b[0;36m_set_axis\u001b[1;34m(self, axis, labels)\u001b[0m\n\u001b[0;32m    668\u001b[0m     \u001b[1;32mdef\u001b[0m \u001b[0m_set_axis\u001b[0m\u001b[1;33m(\u001b[0m\u001b[0mself\u001b[0m\u001b[1;33m,\u001b[0m \u001b[0maxis\u001b[0m\u001b[1;33m:\u001b[0m \u001b[0mint\u001b[0m\u001b[1;33m,\u001b[0m \u001b[0mlabels\u001b[0m\u001b[1;33m:\u001b[0m \u001b[0mIndex\u001b[0m\u001b[1;33m)\u001b[0m \u001b[1;33m->\u001b[0m \u001b[1;32mNone\u001b[0m\u001b[1;33m:\u001b[0m\u001b[1;33m\u001b[0m\u001b[1;33m\u001b[0m\u001b[0m\n\u001b[0;32m    669\u001b[0m         \u001b[0mlabels\u001b[0m \u001b[1;33m=\u001b[0m \u001b[0mensure_index\u001b[0m\u001b[1;33m(\u001b[0m\u001b[0mlabels\u001b[0m\u001b[1;33m)\u001b[0m\u001b[1;33m\u001b[0m\u001b[1;33m\u001b[0m\u001b[0m\n\u001b[1;32m--> 670\u001b[1;33m         \u001b[0mself\u001b[0m\u001b[1;33m.\u001b[0m\u001b[0m_mgr\u001b[0m\u001b[1;33m.\u001b[0m\u001b[0mset_axis\u001b[0m\u001b[1;33m(\u001b[0m\u001b[0maxis\u001b[0m\u001b[1;33m,\u001b[0m \u001b[0mlabels\u001b[0m\u001b[1;33m)\u001b[0m\u001b[1;33m\u001b[0m\u001b[1;33m\u001b[0m\u001b[0m\n\u001b[0m\u001b[0;32m    671\u001b[0m         \u001b[0mself\u001b[0m\u001b[1;33m.\u001b[0m\u001b[0m_clear_item_cache\u001b[0m\u001b[1;33m(\u001b[0m\u001b[1;33m)\u001b[0m\u001b[1;33m\u001b[0m\u001b[1;33m\u001b[0m\u001b[0m\n\u001b[0;32m    672\u001b[0m \u001b[1;33m\u001b[0m\u001b[0m\n",
      "\u001b[1;32m~\\anaconda3\\lib\\site-packages\\pandas\\core\\internals\\managers.py\u001b[0m in \u001b[0;36mset_axis\u001b[1;34m(self, axis, new_labels)\u001b[0m\n\u001b[0;32m    218\u001b[0m \u001b[1;33m\u001b[0m\u001b[0m\n\u001b[0;32m    219\u001b[0m         \u001b[1;32mif\u001b[0m \u001b[0mnew_len\u001b[0m \u001b[1;33m!=\u001b[0m \u001b[0mold_len\u001b[0m\u001b[1;33m:\u001b[0m\u001b[1;33m\u001b[0m\u001b[1;33m\u001b[0m\u001b[0m\n\u001b[1;32m--> 220\u001b[1;33m             raise ValueError(\n\u001b[0m\u001b[0;32m    221\u001b[0m                 \u001b[1;34mf\"Length mismatch: Expected axis has {old_len} elements, new \"\u001b[0m\u001b[1;33m\u001b[0m\u001b[1;33m\u001b[0m\u001b[0m\n\u001b[0;32m    222\u001b[0m                 \u001b[1;34mf\"values have {new_len} elements\"\u001b[0m\u001b[1;33m\u001b[0m\u001b[1;33m\u001b[0m\u001b[0m\n",
      "\u001b[1;31mValueError\u001b[0m: Length mismatch: Expected axis has 1 elements, new values have 5 elements"
     ]
    },
    {
     "data": {
      "application/javascript": [
       "\n",
       "            setTimeout(function() {\n",
       "                var nbb_cell_id = 223;\n",
       "                var nbb_unformatted_code = \"# for j in range(model.loadings.shape[1]):\\n#     display(model.loadings[:, j][model.loadings[:, j] > 0.5])\\n# display(model.loadings)\\nloadings = pd.DataFrame(model.loadings)\\ncolNames = [\\\"Factor 1\\\", \\\"Factor 2\\\", \\\"Factor 3\\\", \\\"Factor 4\\\", \\\"Factor 5\\\"]\\nloadings.columns = colNames\\nloadings.set_index([FA_vars])\\nloadings\\n\\nfor i in colNames:\\n    display(loadings.nlargest(5, i))\";\n",
       "                var nbb_formatted_code = \"# for j in range(model.loadings.shape[1]):\\n#     display(model.loadings[:, j][model.loadings[:, j] > 0.5])\\n# display(model.loadings)\\nloadings = pd.DataFrame(model.loadings)\\ncolNames = [\\\"Factor 1\\\", \\\"Factor 2\\\", \\\"Factor 3\\\", \\\"Factor 4\\\", \\\"Factor 5\\\"]\\nloadings.columns = colNames\\nloadings.set_index([FA_vars])\\nloadings\\n\\nfor i in colNames:\\n    display(loadings.nlargest(5, i))\";\n",
       "                var nbb_cells = Jupyter.notebook.get_cells();\n",
       "                for (var i = 0; i < nbb_cells.length; ++i) {\n",
       "                    if (nbb_cells[i].input_prompt_number == nbb_cell_id) {\n",
       "                        if (nbb_cells[i].get_text() == nbb_unformatted_code) {\n",
       "                             nbb_cells[i].set_text(nbb_formatted_code);\n",
       "                        }\n",
       "                        break;\n",
       "                    }\n",
       "                }\n",
       "            }, 500);\n",
       "            "
      ],
      "text/plain": [
       "<IPython.core.display.Javascript object>"
      ]
     },
     "metadata": {},
     "output_type": "display_data"
    }
   ],
   "source": [
    "# for j in range(model.loadings.shape[1]):\n",
    "#     display(model.loadings[:, j][model.loadings[:, j] > 0.5])\n",
    "# display(model.loadings)\n",
    "loadings = pd.DataFrame(model.loadings)\n",
    "colNames = [\"Factor 1\", \"Factor 2\", \"Factor 3\", \"Factor 4\", \"Factor 5\"]\n",
    "loadings.columns = colNames\n",
    "loadings.set_index([FA_vars])\n",
    "loadings\n",
    "\n",
    "for i in colNames:\n",
    "    display(loadings.nlargest(5, i))"
   ]
  },
  {
   "cell_type": "code",
   "execution_count": 196,
   "id": "8e49e2ca",
   "metadata": {},
   "outputs": [
    {
     "data": {
      "application/vnd.plotly.v1+json": {
       "config": {
        "plotlyServerURL": "https://plot.ly"
       },
       "data": [
        {
         "hovertemplate": "Variance Explained=0<br>Number of Components=%{x}<br>Cumulative Explained Variance=%{y}<extra></extra>",
         "legendgroup": "0",
         "line": {
          "color": "#636efa",
          "dash": "solid"
         },
         "marker": {
          "symbol": "circle"
         },
         "mode": "lines",
         "name": "0",
         "orientation": "v",
         "showlegend": true,
         "type": "scatter",
         "x": [
          0,
          1,
          2,
          3,
          4,
          5,
          6,
          7,
          8,
          9,
          10,
          11,
          12,
          13,
          14,
          15,
          16,
          17,
          18,
          19,
          20,
          21,
          22,
          23,
          24,
          25,
          26,
          27,
          28,
          29,
          30,
          31,
          32,
          33,
          34
         ],
         "xaxis": "x",
         "y": [
          0.43639718519073195,
          0.6745379679178357,
          0.8059237618260467,
          0.9178721135488701,
          1.0000000001430631,
          1.0599979816727063,
          1.1060817012014232,
          1.1370566861121467,
          1.164792238527992,
          1.1841433258937837,
          1.1993247209398652,
          1.209552557365815,
          1.216944701298395,
          1.2232910592687318,
          1.2285985625690432,
          1.23185152415516,
          1.231045476734574,
          1.2295698831541406,
          1.2263123610840905,
          1.221073397045672,
          1.2146790292107719,
          1.2077817676990763,
          1.2006866693619729,
          1.1924100982913075,
          1.1830058900751783,
          1.1731011766895911,
          1.1619807835815887,
          1.1502783786332498,
          1.1373418899885528,
          1.1222282682142766,
          1.1059564236030148,
          1.0892349126719616,
          1.0713681121049572,
          1.0388433506578798,
          0.9999999999999996
         ],
         "yaxis": "y"
        }
       ],
       "layout": {
        "legend": {
         "title": {
          "text": "Variance Explained"
         },
         "tracegroupgap": 0
        },
        "template": {
         "data": {
          "bar": [
           {
            "error_x": {
             "color": "#2a3f5f"
            },
            "error_y": {
             "color": "#2a3f5f"
            },
            "marker": {
             "line": {
              "color": "#E5ECF6",
              "width": 0.5
             },
             "pattern": {
              "fillmode": "overlay",
              "size": 10,
              "solidity": 0.2
             }
            },
            "type": "bar"
           }
          ],
          "barpolar": [
           {
            "marker": {
             "line": {
              "color": "#E5ECF6",
              "width": 0.5
             },
             "pattern": {
              "fillmode": "overlay",
              "size": 10,
              "solidity": 0.2
             }
            },
            "type": "barpolar"
           }
          ],
          "carpet": [
           {
            "aaxis": {
             "endlinecolor": "#2a3f5f",
             "gridcolor": "white",
             "linecolor": "white",
             "minorgridcolor": "white",
             "startlinecolor": "#2a3f5f"
            },
            "baxis": {
             "endlinecolor": "#2a3f5f",
             "gridcolor": "white",
             "linecolor": "white",
             "minorgridcolor": "white",
             "startlinecolor": "#2a3f5f"
            },
            "type": "carpet"
           }
          ],
          "choropleth": [
           {
            "colorbar": {
             "outlinewidth": 0,
             "ticks": ""
            },
            "type": "choropleth"
           }
          ],
          "contour": [
           {
            "colorbar": {
             "outlinewidth": 0,
             "ticks": ""
            },
            "colorscale": [
             [
              0,
              "#0d0887"
             ],
             [
              0.1111111111111111,
              "#46039f"
             ],
             [
              0.2222222222222222,
              "#7201a8"
             ],
             [
              0.3333333333333333,
              "#9c179e"
             ],
             [
              0.4444444444444444,
              "#bd3786"
             ],
             [
              0.5555555555555556,
              "#d8576b"
             ],
             [
              0.6666666666666666,
              "#ed7953"
             ],
             [
              0.7777777777777778,
              "#fb9f3a"
             ],
             [
              0.8888888888888888,
              "#fdca26"
             ],
             [
              1,
              "#f0f921"
             ]
            ],
            "type": "contour"
           }
          ],
          "contourcarpet": [
           {
            "colorbar": {
             "outlinewidth": 0,
             "ticks": ""
            },
            "type": "contourcarpet"
           }
          ],
          "heatmap": [
           {
            "colorbar": {
             "outlinewidth": 0,
             "ticks": ""
            },
            "colorscale": [
             [
              0,
              "#0d0887"
             ],
             [
              0.1111111111111111,
              "#46039f"
             ],
             [
              0.2222222222222222,
              "#7201a8"
             ],
             [
              0.3333333333333333,
              "#9c179e"
             ],
             [
              0.4444444444444444,
              "#bd3786"
             ],
             [
              0.5555555555555556,
              "#d8576b"
             ],
             [
              0.6666666666666666,
              "#ed7953"
             ],
             [
              0.7777777777777778,
              "#fb9f3a"
             ],
             [
              0.8888888888888888,
              "#fdca26"
             ],
             [
              1,
              "#f0f921"
             ]
            ],
            "type": "heatmap"
           }
          ],
          "heatmapgl": [
           {
            "colorbar": {
             "outlinewidth": 0,
             "ticks": ""
            },
            "colorscale": [
             [
              0,
              "#0d0887"
             ],
             [
              0.1111111111111111,
              "#46039f"
             ],
             [
              0.2222222222222222,
              "#7201a8"
             ],
             [
              0.3333333333333333,
              "#9c179e"
             ],
             [
              0.4444444444444444,
              "#bd3786"
             ],
             [
              0.5555555555555556,
              "#d8576b"
             ],
             [
              0.6666666666666666,
              "#ed7953"
             ],
             [
              0.7777777777777778,
              "#fb9f3a"
             ],
             [
              0.8888888888888888,
              "#fdca26"
             ],
             [
              1,
              "#f0f921"
             ]
            ],
            "type": "heatmapgl"
           }
          ],
          "histogram": [
           {
            "marker": {
             "pattern": {
              "fillmode": "overlay",
              "size": 10,
              "solidity": 0.2
             }
            },
            "type": "histogram"
           }
          ],
          "histogram2d": [
           {
            "colorbar": {
             "outlinewidth": 0,
             "ticks": ""
            },
            "colorscale": [
             [
              0,
              "#0d0887"
             ],
             [
              0.1111111111111111,
              "#46039f"
             ],
             [
              0.2222222222222222,
              "#7201a8"
             ],
             [
              0.3333333333333333,
              "#9c179e"
             ],
             [
              0.4444444444444444,
              "#bd3786"
             ],
             [
              0.5555555555555556,
              "#d8576b"
             ],
             [
              0.6666666666666666,
              "#ed7953"
             ],
             [
              0.7777777777777778,
              "#fb9f3a"
             ],
             [
              0.8888888888888888,
              "#fdca26"
             ],
             [
              1,
              "#f0f921"
             ]
            ],
            "type": "histogram2d"
           }
          ],
          "histogram2dcontour": [
           {
            "colorbar": {
             "outlinewidth": 0,
             "ticks": ""
            },
            "colorscale": [
             [
              0,
              "#0d0887"
             ],
             [
              0.1111111111111111,
              "#46039f"
             ],
             [
              0.2222222222222222,
              "#7201a8"
             ],
             [
              0.3333333333333333,
              "#9c179e"
             ],
             [
              0.4444444444444444,
              "#bd3786"
             ],
             [
              0.5555555555555556,
              "#d8576b"
             ],
             [
              0.6666666666666666,
              "#ed7953"
             ],
             [
              0.7777777777777778,
              "#fb9f3a"
             ],
             [
              0.8888888888888888,
              "#fdca26"
             ],
             [
              1,
              "#f0f921"
             ]
            ],
            "type": "histogram2dcontour"
           }
          ],
          "mesh3d": [
           {
            "colorbar": {
             "outlinewidth": 0,
             "ticks": ""
            },
            "type": "mesh3d"
           }
          ],
          "parcoords": [
           {
            "line": {
             "colorbar": {
              "outlinewidth": 0,
              "ticks": ""
             }
            },
            "type": "parcoords"
           }
          ],
          "pie": [
           {
            "automargin": true,
            "type": "pie"
           }
          ],
          "scatter": [
           {
            "marker": {
             "colorbar": {
              "outlinewidth": 0,
              "ticks": ""
             }
            },
            "type": "scatter"
           }
          ],
          "scatter3d": [
           {
            "line": {
             "colorbar": {
              "outlinewidth": 0,
              "ticks": ""
             }
            },
            "marker": {
             "colorbar": {
              "outlinewidth": 0,
              "ticks": ""
             }
            },
            "type": "scatter3d"
           }
          ],
          "scattercarpet": [
           {
            "marker": {
             "colorbar": {
              "outlinewidth": 0,
              "ticks": ""
             }
            },
            "type": "scattercarpet"
           }
          ],
          "scattergeo": [
           {
            "marker": {
             "colorbar": {
              "outlinewidth": 0,
              "ticks": ""
             }
            },
            "type": "scattergeo"
           }
          ],
          "scattergl": [
           {
            "marker": {
             "colorbar": {
              "outlinewidth": 0,
              "ticks": ""
             }
            },
            "type": "scattergl"
           }
          ],
          "scattermapbox": [
           {
            "marker": {
             "colorbar": {
              "outlinewidth": 0,
              "ticks": ""
             }
            },
            "type": "scattermapbox"
           }
          ],
          "scatterpolar": [
           {
            "marker": {
             "colorbar": {
              "outlinewidth": 0,
              "ticks": ""
             }
            },
            "type": "scatterpolar"
           }
          ],
          "scatterpolargl": [
           {
            "marker": {
             "colorbar": {
              "outlinewidth": 0,
              "ticks": ""
             }
            },
            "type": "scatterpolargl"
           }
          ],
          "scatterternary": [
           {
            "marker": {
             "colorbar": {
              "outlinewidth": 0,
              "ticks": ""
             }
            },
            "type": "scatterternary"
           }
          ],
          "surface": [
           {
            "colorbar": {
             "outlinewidth": 0,
             "ticks": ""
            },
            "colorscale": [
             [
              0,
              "#0d0887"
             ],
             [
              0.1111111111111111,
              "#46039f"
             ],
             [
              0.2222222222222222,
              "#7201a8"
             ],
             [
              0.3333333333333333,
              "#9c179e"
             ],
             [
              0.4444444444444444,
              "#bd3786"
             ],
             [
              0.5555555555555556,
              "#d8576b"
             ],
             [
              0.6666666666666666,
              "#ed7953"
             ],
             [
              0.7777777777777778,
              "#fb9f3a"
             ],
             [
              0.8888888888888888,
              "#fdca26"
             ],
             [
              1,
              "#f0f921"
             ]
            ],
            "type": "surface"
           }
          ],
          "table": [
           {
            "cells": {
             "fill": {
              "color": "#EBF0F8"
             },
             "line": {
              "color": "white"
             }
            },
            "header": {
             "fill": {
              "color": "#C8D4E3"
             },
             "line": {
              "color": "white"
             }
            },
            "type": "table"
           }
          ]
         },
         "layout": {
          "annotationdefaults": {
           "arrowcolor": "#2a3f5f",
           "arrowhead": 0,
           "arrowwidth": 1
          },
          "autotypenumbers": "strict",
          "coloraxis": {
           "colorbar": {
            "outlinewidth": 0,
            "ticks": ""
           }
          },
          "colorscale": {
           "diverging": [
            [
             0,
             "#8e0152"
            ],
            [
             0.1,
             "#c51b7d"
            ],
            [
             0.2,
             "#de77ae"
            ],
            [
             0.3,
             "#f1b6da"
            ],
            [
             0.4,
             "#fde0ef"
            ],
            [
             0.5,
             "#f7f7f7"
            ],
            [
             0.6,
             "#e6f5d0"
            ],
            [
             0.7,
             "#b8e186"
            ],
            [
             0.8,
             "#7fbc41"
            ],
            [
             0.9,
             "#4d9221"
            ],
            [
             1,
             "#276419"
            ]
           ],
           "sequential": [
            [
             0,
             "#0d0887"
            ],
            [
             0.1111111111111111,
             "#46039f"
            ],
            [
             0.2222222222222222,
             "#7201a8"
            ],
            [
             0.3333333333333333,
             "#9c179e"
            ],
            [
             0.4444444444444444,
             "#bd3786"
            ],
            [
             0.5555555555555556,
             "#d8576b"
            ],
            [
             0.6666666666666666,
             "#ed7953"
            ],
            [
             0.7777777777777778,
             "#fb9f3a"
            ],
            [
             0.8888888888888888,
             "#fdca26"
            ],
            [
             1,
             "#f0f921"
            ]
           ],
           "sequentialminus": [
            [
             0,
             "#0d0887"
            ],
            [
             0.1111111111111111,
             "#46039f"
            ],
            [
             0.2222222222222222,
             "#7201a8"
            ],
            [
             0.3333333333333333,
             "#9c179e"
            ],
            [
             0.4444444444444444,
             "#bd3786"
            ],
            [
             0.5555555555555556,
             "#d8576b"
            ],
            [
             0.6666666666666666,
             "#ed7953"
            ],
            [
             0.7777777777777778,
             "#fb9f3a"
            ],
            [
             0.8888888888888888,
             "#fdca26"
            ],
            [
             1,
             "#f0f921"
            ]
           ]
          },
          "colorway": [
           "#636efa",
           "#EF553B",
           "#00cc96",
           "#ab63fa",
           "#FFA15A",
           "#19d3f3",
           "#FF6692",
           "#B6E880",
           "#FF97FF",
           "#FECB52"
          ],
          "font": {
           "color": "#2a3f5f"
          },
          "geo": {
           "bgcolor": "white",
           "lakecolor": "white",
           "landcolor": "#E5ECF6",
           "showlakes": true,
           "showland": true,
           "subunitcolor": "white"
          },
          "hoverlabel": {
           "align": "left"
          },
          "hovermode": "closest",
          "mapbox": {
           "style": "light"
          },
          "paper_bgcolor": "white",
          "plot_bgcolor": "#E5ECF6",
          "polar": {
           "angularaxis": {
            "gridcolor": "white",
            "linecolor": "white",
            "ticks": ""
           },
           "bgcolor": "#E5ECF6",
           "radialaxis": {
            "gridcolor": "white",
            "linecolor": "white",
            "ticks": ""
           }
          },
          "scene": {
           "xaxis": {
            "backgroundcolor": "#E5ECF6",
            "gridcolor": "white",
            "gridwidth": 2,
            "linecolor": "white",
            "showbackground": true,
            "ticks": "",
            "zerolinecolor": "white"
           },
           "yaxis": {
            "backgroundcolor": "#E5ECF6",
            "gridcolor": "white",
            "gridwidth": 2,
            "linecolor": "white",
            "showbackground": true,
            "ticks": "",
            "zerolinecolor": "white"
           },
           "zaxis": {
            "backgroundcolor": "#E5ECF6",
            "gridcolor": "white",
            "gridwidth": 2,
            "linecolor": "white",
            "showbackground": true,
            "ticks": "",
            "zerolinecolor": "white"
           }
          },
          "shapedefaults": {
           "line": {
            "color": "#2a3f5f"
           }
          },
          "ternary": {
           "aaxis": {
            "gridcolor": "white",
            "linecolor": "white",
            "ticks": ""
           },
           "baxis": {
            "gridcolor": "white",
            "linecolor": "white",
            "ticks": ""
           },
           "bgcolor": "#E5ECF6",
           "caxis": {
            "gridcolor": "white",
            "linecolor": "white",
            "ticks": ""
           }
          },
          "title": {
           "x": 0.05
          },
          "xaxis": {
           "automargin": true,
           "gridcolor": "white",
           "linecolor": "white",
           "ticks": "",
           "title": {
            "standoff": 15
           },
           "zerolinecolor": "white",
           "zerolinewidth": 2
          },
          "yaxis": {
           "automargin": true,
           "gridcolor": "white",
           "linecolor": "white",
           "ticks": "",
           "title": {
            "standoff": 15
           },
           "zerolinecolor": "white",
           "zerolinewidth": 2
          }
         }
        },
        "title": {
         "text": "Cumulative Explained Variance vs Number of Components"
        },
        "xaxis": {
         "anchor": "y",
         "domain": [
          0,
          1
         ],
         "title": {
          "text": "Number of Components"
         }
        },
        "yaxis": {
         "anchor": "x",
         "domain": [
          0,
          1
         ],
         "title": {
          "text": "Cumulative Explained Variance"
         }
        }
       }
      },
      "text/html": [
       "<div>                            <div id=\"dcac9419-7517-463c-976b-9f10fb9e882e\" class=\"plotly-graph-div\" style=\"height:525px; width:100%;\"></div>            <script type=\"text/javascript\">                require([\"plotly\"], function(Plotly) {                    window.PLOTLYENV=window.PLOTLYENV || {};                                    if (document.getElementById(\"dcac9419-7517-463c-976b-9f10fb9e882e\")) {                    Plotly.newPlot(                        \"dcac9419-7517-463c-976b-9f10fb9e882e\",                        [{\"hovertemplate\":\"Variance Explained=0<br>Number of Components=%{x}<br>Cumulative Explained Variance=%{y}<extra></extra>\",\"legendgroup\":\"0\",\"line\":{\"color\":\"#636efa\",\"dash\":\"solid\"},\"marker\":{\"symbol\":\"circle\"},\"mode\":\"lines\",\"name\":\"0\",\"orientation\":\"v\",\"showlegend\":true,\"x\":[0,1,2,3,4,5,6,7,8,9,10,11,12,13,14,15,16,17,18,19,20,21,22,23,24,25,26,27,28,29,30,31,32,33,34],\"xaxis\":\"x\",\"y\":[0.43639718519073195,0.6745379679178357,0.8059237618260467,0.9178721135488701,1.0000000001430631,1.0599979816727063,1.1060817012014232,1.1370566861121467,1.164792238527992,1.1841433258937837,1.1993247209398652,1.209552557365815,1.216944701298395,1.2232910592687318,1.2285985625690432,1.23185152415516,1.231045476734574,1.2295698831541406,1.2263123610840905,1.221073397045672,1.2146790292107719,1.2077817676990763,1.2006866693619729,1.1924100982913075,1.1830058900751783,1.1731011766895911,1.1619807835815887,1.1502783786332498,1.1373418899885528,1.1222282682142766,1.1059564236030148,1.0892349126719616,1.0713681121049572,1.0388433506578798,0.9999999999999996],\"yaxis\":\"y\",\"type\":\"scatter\"}],                        {\"template\":{\"data\":{\"bar\":[{\"error_x\":{\"color\":\"#2a3f5f\"},\"error_y\":{\"color\":\"#2a3f5f\"},\"marker\":{\"line\":{\"color\":\"#E5ECF6\",\"width\":0.5},\"pattern\":{\"fillmode\":\"overlay\",\"size\":10,\"solidity\":0.2}},\"type\":\"bar\"}],\"barpolar\":[{\"marker\":{\"line\":{\"color\":\"#E5ECF6\",\"width\":0.5},\"pattern\":{\"fillmode\":\"overlay\",\"size\":10,\"solidity\":0.2}},\"type\":\"barpolar\"}],\"carpet\":[{\"aaxis\":{\"endlinecolor\":\"#2a3f5f\",\"gridcolor\":\"white\",\"linecolor\":\"white\",\"minorgridcolor\":\"white\",\"startlinecolor\":\"#2a3f5f\"},\"baxis\":{\"endlinecolor\":\"#2a3f5f\",\"gridcolor\":\"white\",\"linecolor\":\"white\",\"minorgridcolor\":\"white\",\"startlinecolor\":\"#2a3f5f\"},\"type\":\"carpet\"}],\"choropleth\":[{\"colorbar\":{\"outlinewidth\":0,\"ticks\":\"\"},\"type\":\"choropleth\"}],\"contour\":[{\"colorbar\":{\"outlinewidth\":0,\"ticks\":\"\"},\"colorscale\":[[0.0,\"#0d0887\"],[0.1111111111111111,\"#46039f\"],[0.2222222222222222,\"#7201a8\"],[0.3333333333333333,\"#9c179e\"],[0.4444444444444444,\"#bd3786\"],[0.5555555555555556,\"#d8576b\"],[0.6666666666666666,\"#ed7953\"],[0.7777777777777778,\"#fb9f3a\"],[0.8888888888888888,\"#fdca26\"],[1.0,\"#f0f921\"]],\"type\":\"contour\"}],\"contourcarpet\":[{\"colorbar\":{\"outlinewidth\":0,\"ticks\":\"\"},\"type\":\"contourcarpet\"}],\"heatmap\":[{\"colorbar\":{\"outlinewidth\":0,\"ticks\":\"\"},\"colorscale\":[[0.0,\"#0d0887\"],[0.1111111111111111,\"#46039f\"],[0.2222222222222222,\"#7201a8\"],[0.3333333333333333,\"#9c179e\"],[0.4444444444444444,\"#bd3786\"],[0.5555555555555556,\"#d8576b\"],[0.6666666666666666,\"#ed7953\"],[0.7777777777777778,\"#fb9f3a\"],[0.8888888888888888,\"#fdca26\"],[1.0,\"#f0f921\"]],\"type\":\"heatmap\"}],\"heatmapgl\":[{\"colorbar\":{\"outlinewidth\":0,\"ticks\":\"\"},\"colorscale\":[[0.0,\"#0d0887\"],[0.1111111111111111,\"#46039f\"],[0.2222222222222222,\"#7201a8\"],[0.3333333333333333,\"#9c179e\"],[0.4444444444444444,\"#bd3786\"],[0.5555555555555556,\"#d8576b\"],[0.6666666666666666,\"#ed7953\"],[0.7777777777777778,\"#fb9f3a\"],[0.8888888888888888,\"#fdca26\"],[1.0,\"#f0f921\"]],\"type\":\"heatmapgl\"}],\"histogram\":[{\"marker\":{\"pattern\":{\"fillmode\":\"overlay\",\"size\":10,\"solidity\":0.2}},\"type\":\"histogram\"}],\"histogram2d\":[{\"colorbar\":{\"outlinewidth\":0,\"ticks\":\"\"},\"colorscale\":[[0.0,\"#0d0887\"],[0.1111111111111111,\"#46039f\"],[0.2222222222222222,\"#7201a8\"],[0.3333333333333333,\"#9c179e\"],[0.4444444444444444,\"#bd3786\"],[0.5555555555555556,\"#d8576b\"],[0.6666666666666666,\"#ed7953\"],[0.7777777777777778,\"#fb9f3a\"],[0.8888888888888888,\"#fdca26\"],[1.0,\"#f0f921\"]],\"type\":\"histogram2d\"}],\"histogram2dcontour\":[{\"colorbar\":{\"outlinewidth\":0,\"ticks\":\"\"},\"colorscale\":[[0.0,\"#0d0887\"],[0.1111111111111111,\"#46039f\"],[0.2222222222222222,\"#7201a8\"],[0.3333333333333333,\"#9c179e\"],[0.4444444444444444,\"#bd3786\"],[0.5555555555555556,\"#d8576b\"],[0.6666666666666666,\"#ed7953\"],[0.7777777777777778,\"#fb9f3a\"],[0.8888888888888888,\"#fdca26\"],[1.0,\"#f0f921\"]],\"type\":\"histogram2dcontour\"}],\"mesh3d\":[{\"colorbar\":{\"outlinewidth\":0,\"ticks\":\"\"},\"type\":\"mesh3d\"}],\"parcoords\":[{\"line\":{\"colorbar\":{\"outlinewidth\":0,\"ticks\":\"\"}},\"type\":\"parcoords\"}],\"pie\":[{\"automargin\":true,\"type\":\"pie\"}],\"scatter\":[{\"marker\":{\"colorbar\":{\"outlinewidth\":0,\"ticks\":\"\"}},\"type\":\"scatter\"}],\"scatter3d\":[{\"line\":{\"colorbar\":{\"outlinewidth\":0,\"ticks\":\"\"}},\"marker\":{\"colorbar\":{\"outlinewidth\":0,\"ticks\":\"\"}},\"type\":\"scatter3d\"}],\"scattercarpet\":[{\"marker\":{\"colorbar\":{\"outlinewidth\":0,\"ticks\":\"\"}},\"type\":\"scattercarpet\"}],\"scattergeo\":[{\"marker\":{\"colorbar\":{\"outlinewidth\":0,\"ticks\":\"\"}},\"type\":\"scattergeo\"}],\"scattergl\":[{\"marker\":{\"colorbar\":{\"outlinewidth\":0,\"ticks\":\"\"}},\"type\":\"scattergl\"}],\"scattermapbox\":[{\"marker\":{\"colorbar\":{\"outlinewidth\":0,\"ticks\":\"\"}},\"type\":\"scattermapbox\"}],\"scatterpolar\":[{\"marker\":{\"colorbar\":{\"outlinewidth\":0,\"ticks\":\"\"}},\"type\":\"scatterpolar\"}],\"scatterpolargl\":[{\"marker\":{\"colorbar\":{\"outlinewidth\":0,\"ticks\":\"\"}},\"type\":\"scatterpolargl\"}],\"scatterternary\":[{\"marker\":{\"colorbar\":{\"outlinewidth\":0,\"ticks\":\"\"}},\"type\":\"scatterternary\"}],\"surface\":[{\"colorbar\":{\"outlinewidth\":0,\"ticks\":\"\"},\"colorscale\":[[0.0,\"#0d0887\"],[0.1111111111111111,\"#46039f\"],[0.2222222222222222,\"#7201a8\"],[0.3333333333333333,\"#9c179e\"],[0.4444444444444444,\"#bd3786\"],[0.5555555555555556,\"#d8576b\"],[0.6666666666666666,\"#ed7953\"],[0.7777777777777778,\"#fb9f3a\"],[0.8888888888888888,\"#fdca26\"],[1.0,\"#f0f921\"]],\"type\":\"surface\"}],\"table\":[{\"cells\":{\"fill\":{\"color\":\"#EBF0F8\"},\"line\":{\"color\":\"white\"}},\"header\":{\"fill\":{\"color\":\"#C8D4E3\"},\"line\":{\"color\":\"white\"}},\"type\":\"table\"}]},\"layout\":{\"annotationdefaults\":{\"arrowcolor\":\"#2a3f5f\",\"arrowhead\":0,\"arrowwidth\":1},\"autotypenumbers\":\"strict\",\"coloraxis\":{\"colorbar\":{\"outlinewidth\":0,\"ticks\":\"\"}},\"colorscale\":{\"diverging\":[[0,\"#8e0152\"],[0.1,\"#c51b7d\"],[0.2,\"#de77ae\"],[0.3,\"#f1b6da\"],[0.4,\"#fde0ef\"],[0.5,\"#f7f7f7\"],[0.6,\"#e6f5d0\"],[0.7,\"#b8e186\"],[0.8,\"#7fbc41\"],[0.9,\"#4d9221\"],[1,\"#276419\"]],\"sequential\":[[0.0,\"#0d0887\"],[0.1111111111111111,\"#46039f\"],[0.2222222222222222,\"#7201a8\"],[0.3333333333333333,\"#9c179e\"],[0.4444444444444444,\"#bd3786\"],[0.5555555555555556,\"#d8576b\"],[0.6666666666666666,\"#ed7953\"],[0.7777777777777778,\"#fb9f3a\"],[0.8888888888888888,\"#fdca26\"],[1.0,\"#f0f921\"]],\"sequentialminus\":[[0.0,\"#0d0887\"],[0.1111111111111111,\"#46039f\"],[0.2222222222222222,\"#7201a8\"],[0.3333333333333333,\"#9c179e\"],[0.4444444444444444,\"#bd3786\"],[0.5555555555555556,\"#d8576b\"],[0.6666666666666666,\"#ed7953\"],[0.7777777777777778,\"#fb9f3a\"],[0.8888888888888888,\"#fdca26\"],[1.0,\"#f0f921\"]]},\"colorway\":[\"#636efa\",\"#EF553B\",\"#00cc96\",\"#ab63fa\",\"#FFA15A\",\"#19d3f3\",\"#FF6692\",\"#B6E880\",\"#FF97FF\",\"#FECB52\"],\"font\":{\"color\":\"#2a3f5f\"},\"geo\":{\"bgcolor\":\"white\",\"lakecolor\":\"white\",\"landcolor\":\"#E5ECF6\",\"showlakes\":true,\"showland\":true,\"subunitcolor\":\"white\"},\"hoverlabel\":{\"align\":\"left\"},\"hovermode\":\"closest\",\"mapbox\":{\"style\":\"light\"},\"paper_bgcolor\":\"white\",\"plot_bgcolor\":\"#E5ECF6\",\"polar\":{\"angularaxis\":{\"gridcolor\":\"white\",\"linecolor\":\"white\",\"ticks\":\"\"},\"bgcolor\":\"#E5ECF6\",\"radialaxis\":{\"gridcolor\":\"white\",\"linecolor\":\"white\",\"ticks\":\"\"}},\"scene\":{\"xaxis\":{\"backgroundcolor\":\"#E5ECF6\",\"gridcolor\":\"white\",\"gridwidth\":2,\"linecolor\":\"white\",\"showbackground\":true,\"ticks\":\"\",\"zerolinecolor\":\"white\"},\"yaxis\":{\"backgroundcolor\":\"#E5ECF6\",\"gridcolor\":\"white\",\"gridwidth\":2,\"linecolor\":\"white\",\"showbackground\":true,\"ticks\":\"\",\"zerolinecolor\":\"white\"},\"zaxis\":{\"backgroundcolor\":\"#E5ECF6\",\"gridcolor\":\"white\",\"gridwidth\":2,\"linecolor\":\"white\",\"showbackground\":true,\"ticks\":\"\",\"zerolinecolor\":\"white\"}},\"shapedefaults\":{\"line\":{\"color\":\"#2a3f5f\"}},\"ternary\":{\"aaxis\":{\"gridcolor\":\"white\",\"linecolor\":\"white\",\"ticks\":\"\"},\"baxis\":{\"gridcolor\":\"white\",\"linecolor\":\"white\",\"ticks\":\"\"},\"bgcolor\":\"#E5ECF6\",\"caxis\":{\"gridcolor\":\"white\",\"linecolor\":\"white\",\"ticks\":\"\"}},\"title\":{\"x\":0.05},\"xaxis\":{\"automargin\":true,\"gridcolor\":\"white\",\"linecolor\":\"white\",\"ticks\":\"\",\"title\":{\"standoff\":15},\"zerolinecolor\":\"white\",\"zerolinewidth\":2},\"yaxis\":{\"automargin\":true,\"gridcolor\":\"white\",\"linecolor\":\"white\",\"ticks\":\"\",\"title\":{\"standoff\":15},\"zerolinecolor\":\"white\",\"zerolinewidth\":2}}},\"xaxis\":{\"anchor\":\"y\",\"domain\":[0.0,1.0],\"title\":{\"text\":\"Number of Components\"}},\"yaxis\":{\"anchor\":\"x\",\"domain\":[0.0,1.0],\"title\":{\"text\":\"Cumulative Explained Variance\"}},\"legend\":{\"title\":{\"text\":\"Variance Explained\"},\"tracegroupgap\":0},\"title\":{\"text\":\"Cumulative Explained Variance vs Number of Components\"}},                        {\"responsive\": true}                    ).then(function(){\n",
       "                            \n",
       "var gd = document.getElementById('dcac9419-7517-463c-976b-9f10fb9e882e');\n",
       "var x = new MutationObserver(function (mutations, observer) {{\n",
       "        var display = window.getComputedStyle(gd).display;\n",
       "        if (!display || display === 'none') {{\n",
       "            console.log([gd, 'removed!']);\n",
       "            Plotly.purge(gd);\n",
       "            observer.disconnect();\n",
       "        }}\n",
       "}});\n",
       "\n",
       "// Listen for the removal of the full notebook cells\n",
       "var notebookContainer = gd.closest('#notebook-container');\n",
       "if (notebookContainer) {{\n",
       "    x.observe(notebookContainer, {childList: true});\n",
       "}}\n",
       "\n",
       "// Listen for the clearing of the current output cell\n",
       "var outputEl = gd.closest('.output');\n",
       "if (outputEl) {{\n",
       "    x.observe(outputEl, {childList: true});\n",
       "}}\n",
       "\n",
       "                        })                };                });            </script>        </div>"
      ]
     },
     "metadata": {},
     "output_type": "display_data"
    },
    {
     "data": {
      "application/javascript": [
       "\n",
       "            setTimeout(function() {\n",
       "                var nbb_cell_id = 196;\n",
       "                var nbb_unformatted_code = \"fig = px.line(\\n    np.cumsum(model.eigenvals)  / np.sum(model.eigenvals),\\n    labels={\\n        \\\"index\\\": \\\"Number of Components\\\",\\n        \\\"value\\\": \\\"Cumulative Explained Variance\\\",\\n        \\\"variable\\\": \\\"Variance Explained\\\",\\n    },\\n    title=\\\"Cumulative Explained Variance vs Number of Components\\\",\\n)\\nfig.show()\";\n",
       "                var nbb_formatted_code = \"fig = px.line(\\n    np.cumsum(model.eigenvals) / np.sum(model.eigenvals),\\n    labels={\\n        \\\"index\\\": \\\"Number of Components\\\",\\n        \\\"value\\\": \\\"Cumulative Explained Variance\\\",\\n        \\\"variable\\\": \\\"Variance Explained\\\",\\n    },\\n    title=\\\"Cumulative Explained Variance vs Number of Components\\\",\\n)\\nfig.show()\";\n",
       "                var nbb_cells = Jupyter.notebook.get_cells();\n",
       "                for (var i = 0; i < nbb_cells.length; ++i) {\n",
       "                    if (nbb_cells[i].input_prompt_number == nbb_cell_id) {\n",
       "                        if (nbb_cells[i].get_text() == nbb_unformatted_code) {\n",
       "                             nbb_cells[i].set_text(nbb_formatted_code);\n",
       "                        }\n",
       "                        break;\n",
       "                    }\n",
       "                }\n",
       "            }, 500);\n",
       "            "
      ],
      "text/plain": [
       "<IPython.core.display.Javascript object>"
      ]
     },
     "metadata": {},
     "output_type": "display_data"
    }
   ],
   "source": [
    "fig = px.line(\n",
    "    np.cumsum(model.eigenvals) / np.sum(model.eigenvals),\n",
    "    labels={\n",
    "        \"index\": \"Number of Components\",\n",
    "        \"value\": \"Cumulative Explained Variance\",\n",
    "        \"variable\": \"Variance Explained\",\n",
    "    },\n",
    "    title=\"Cumulative Explained Variance vs Number of Components\",\n",
    ")\n",
    "fig.show()"
   ]
  },
  {
   "cell_type": "code",
   "execution_count": 195,
   "id": "5dbf0514",
   "metadata": {},
   "outputs": [
    {
     "data": {
      "text/plain": [
       "array([0.43639719, 0.67453797, 0.80592376, 0.91787211, 1.        ,\n",
       "       1.05999798, 1.1060817 , 1.13705669, 1.16479224, 1.18414333,\n",
       "       1.19932472, 1.20955256, 1.2169447 , 1.22329106, 1.22859856,\n",
       "       1.23185152, 1.23104548, 1.22956988, 1.22631236, 1.2210734 ,\n",
       "       1.21467903, 1.20778177, 1.20068667, 1.1924101 , 1.18300589,\n",
       "       1.17310118, 1.16198078, 1.15027838, 1.13734189, 1.12222827,\n",
       "       1.10595642, 1.08923491, 1.07136811, 1.03884335, 1.        ])"
      ]
     },
     "execution_count": 195,
     "metadata": {},
     "output_type": "execute_result"
    },
    {
     "data": {
      "application/javascript": [
       "\n",
       "            setTimeout(function() {\n",
       "                var nbb_cell_id = 195;\n",
       "                var nbb_unformatted_code = \"np.cumsum(model.eigenvals)   / np.sum(model.eigenvals)\";\n",
       "                var nbb_formatted_code = \"np.cumsum(model.eigenvals) / np.sum(model.eigenvals)\";\n",
       "                var nbb_cells = Jupyter.notebook.get_cells();\n",
       "                for (var i = 0; i < nbb_cells.length; ++i) {\n",
       "                    if (nbb_cells[i].input_prompt_number == nbb_cell_id) {\n",
       "                        if (nbb_cells[i].get_text() == nbb_unformatted_code) {\n",
       "                             nbb_cells[i].set_text(nbb_formatted_code);\n",
       "                        }\n",
       "                        break;\n",
       "                    }\n",
       "                }\n",
       "            }, 500);\n",
       "            "
      ],
      "text/plain": [
       "<IPython.core.display.Javascript object>"
      ]
     },
     "metadata": {},
     "output_type": "display_data"
    }
   ],
   "source": [
    "np.cumsum(model.eigenvals)  / np.sum(model.eigenvals)\n"
   ]
  }
 ],
 "metadata": {
  "kernelspec": {
   "display_name": "Python 3",
   "language": "python",
   "name": "python3"
  },
  "language_info": {
   "codemirror_mode": {
    "name": "ipython",
    "version": 3
   },
   "file_extension": ".py",
   "mimetype": "text/x-python",
   "name": "python",
   "nbconvert_exporter": "python",
   "pygments_lexer": "ipython3",
   "version": "3.8.8"
  }
 },
 "nbformat": 4,
 "nbformat_minor": 5
}
