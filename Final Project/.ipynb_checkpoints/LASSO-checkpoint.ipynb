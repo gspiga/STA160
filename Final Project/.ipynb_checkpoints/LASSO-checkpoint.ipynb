{
 "cells": [
  {
   "cell_type": "markdown",
   "id": "2c3464cf",
   "metadata": {},
   "source": [
    "# LASSO Regression"
   ]
  },
  {
   "cell_type": "code",
   "execution_count": 2,
   "id": "60cd1077",
   "metadata": {},
   "outputs": [
    {
     "data": {
      "application/javascript": [
       "\n",
       "            setTimeout(function() {\n",
       "                var nbb_cell_id = 2;\n",
       "                var nbb_unformatted_code = \"%load_ext nb_black\";\n",
       "                var nbb_formatted_code = \"%load_ext nb_black\";\n",
       "                var nbb_cells = Jupyter.notebook.get_cells();\n",
       "                for (var i = 0; i < nbb_cells.length; ++i) {\n",
       "                    if (nbb_cells[i].input_prompt_number == nbb_cell_id) {\n",
       "                        if (nbb_cells[i].get_text() == nbb_unformatted_code) {\n",
       "                             nbb_cells[i].set_text(nbb_formatted_code);\n",
       "                        }\n",
       "                        break;\n",
       "                    }\n",
       "                }\n",
       "            }, 500);\n",
       "            "
      ],
      "text/plain": [
       "<IPython.core.display.Javascript object>"
      ]
     },
     "metadata": {},
     "output_type": "display_data"
    }
   ],
   "source": [
    "%load_ext nb_black"
   ]
  },
  {
   "cell_type": "code",
   "execution_count": 42,
   "id": "c731f131",
   "metadata": {},
   "outputs": [
    {
     "data": {
      "application/javascript": [
       "\n",
       "            setTimeout(function() {\n",
       "                var nbb_cell_id = 42;\n",
       "                var nbb_unformatted_code = \"import pandas as pd\\nimport numpy as np\\nimport warnings\\nfrom sklearn.model_selection import train_test_split\\nfrom sklearn.preprocessing import StandardScaler\\nfrom sklearn.linear_model import Lasso\\nfrom sklearn.metrics import mean_squared_error\\nfrom sklearn.linear_model import LassoCV\\nimport matplotlib.pyplot as plt\\nimport plotly.express as px\\nfrom IPython.display import display\\n\\nimport statsmodels.api as sm\";\n",
       "                var nbb_formatted_code = \"import pandas as pd\\nimport numpy as np\\nimport warnings\\nfrom sklearn.model_selection import train_test_split\\nfrom sklearn.preprocessing import StandardScaler\\nfrom sklearn.linear_model import Lasso\\nfrom sklearn.metrics import mean_squared_error\\nfrom sklearn.linear_model import LassoCV\\nimport matplotlib.pyplot as plt\\nimport plotly.express as px\\nfrom IPython.display import display\\n\\nimport statsmodels.api as sm\";\n",
       "                var nbb_cells = Jupyter.notebook.get_cells();\n",
       "                for (var i = 0; i < nbb_cells.length; ++i) {\n",
       "                    if (nbb_cells[i].input_prompt_number == nbb_cell_id) {\n",
       "                        if (nbb_cells[i].get_text() == nbb_unformatted_code) {\n",
       "                             nbb_cells[i].set_text(nbb_formatted_code);\n",
       "                        }\n",
       "                        break;\n",
       "                    }\n",
       "                }\n",
       "            }, 500);\n",
       "            "
      ],
      "text/plain": [
       "<IPython.core.display.Javascript object>"
      ]
     },
     "metadata": {},
     "output_type": "display_data"
    }
   ],
   "source": [
    "import pandas as pd\n",
    "import numpy as np\n",
    "import warnings\n",
    "from sklearn.model_selection import train_test_split\n",
    "from sklearn.preprocessing import StandardScaler\n",
    "from sklearn.linear_model import Lasso\n",
    "from sklearn.metrics import mean_squared_error\n",
    "from sklearn.linear_model import LassoCV\n",
    "import matplotlib.pyplot as plt\n",
    "import plotly.express as px\n",
    "from IPython.display import display\n",
    "\n",
    "import statsmodels.api as sm"
   ]
  },
  {
   "cell_type": "code",
   "execution_count": 4,
   "id": "c29ce812",
   "metadata": {},
   "outputs": [
    {
     "data": {
      "application/javascript": [
       "\n",
       "            setTimeout(function() {\n",
       "                var nbb_cell_id = 4;\n",
       "                var nbb_unformatted_code = \"pd.set_option(\\\"display.max_columns\\\", 500)\";\n",
       "                var nbb_formatted_code = \"pd.set_option(\\\"display.max_columns\\\", 500)\";\n",
       "                var nbb_cells = Jupyter.notebook.get_cells();\n",
       "                for (var i = 0; i < nbb_cells.length; ++i) {\n",
       "                    if (nbb_cells[i].input_prompt_number == nbb_cell_id) {\n",
       "                        if (nbb_cells[i].get_text() == nbb_unformatted_code) {\n",
       "                             nbb_cells[i].set_text(nbb_formatted_code);\n",
       "                        }\n",
       "                        break;\n",
       "                    }\n",
       "                }\n",
       "            }, 500);\n",
       "            "
      ],
      "text/plain": [
       "<IPython.core.display.Javascript object>"
      ]
     },
     "metadata": {},
     "output_type": "display_data"
    }
   ],
   "source": [
    "pd.set_option(\"display.max_columns\", 500)"
   ]
  },
  {
   "cell_type": "code",
   "execution_count": 5,
   "id": "b2f80467",
   "metadata": {},
   "outputs": [
    {
     "data": {
      "text/html": [
       "<div>\n",
       "<style scoped>\n",
       "    .dataframe tbody tr th:only-of-type {\n",
       "        vertical-align: middle;\n",
       "    }\n",
       "\n",
       "    .dataframe tbody tr th {\n",
       "        vertical-align: top;\n",
       "    }\n",
       "\n",
       "    .dataframe thead th {\n",
       "        text-align: right;\n",
       "    }\n",
       "</style>\n",
       "<table border=\"1\" class=\"dataframe\">\n",
       "  <thead>\n",
       "    <tr style=\"text-align: right;\">\n",
       "      <th></th>\n",
       "      <th>state</th>\n",
       "      <th>county</th>\n",
       "      <th>area_sqmi</th>\n",
       "      <th>epl_pov</th>\n",
       "      <th>epl_unemp</th>\n",
       "      <th>epl_pci</th>\n",
       "      <th>epl_nohsdp</th>\n",
       "      <th>epl_age65</th>\n",
       "      <th>epl_age17</th>\n",
       "      <th>epl_disabl</th>\n",
       "      <th>epl_sngpnt</th>\n",
       "      <th>epl_minrty</th>\n",
       "      <th>epl_limeng</th>\n",
       "      <th>epl_munit</th>\n",
       "      <th>epl_mobile</th>\n",
       "      <th>epl_crowd</th>\n",
       "      <th>epl_noveh</th>\n",
       "      <th>epl_groupq</th>\n",
       "      <th>rpl_themes</th>\n",
       "      <th>f_pov</th>\n",
       "      <th>f_unemp</th>\n",
       "      <th>f_pci</th>\n",
       "      <th>f_nohsdp</th>\n",
       "      <th>f_theme1</th>\n",
       "      <th>f_age65</th>\n",
       "      <th>f_age17</th>\n",
       "      <th>f_disabl</th>\n",
       "      <th>f_sngpnt</th>\n",
       "      <th>f_theme2</th>\n",
       "      <th>f_minrty</th>\n",
       "      <th>f_limeng</th>\n",
       "      <th>f_theme3</th>\n",
       "      <th>f_munit</th>\n",
       "      <th>f_mobile</th>\n",
       "      <th>f_crowd</th>\n",
       "      <th>f_noveh</th>\n",
       "      <th>f_groupq</th>\n",
       "      <th>f_theme4</th>\n",
       "    </tr>\n",
       "  </thead>\n",
       "  <tbody>\n",
       "    <tr>\n",
       "      <th>0</th>\n",
       "      <td>ALABAMA</td>\n",
       "      <td>Autauga</td>\n",
       "      <td>594.443459</td>\n",
       "      <td>0.5401</td>\n",
       "      <td>0.2745</td>\n",
       "      <td>0.2860</td>\n",
       "      <td>0.4397</td>\n",
       "      <td>0.1850</td>\n",
       "      <td>0.7529</td>\n",
       "      <td>0.7905</td>\n",
       "      <td>0.3792</td>\n",
       "      <td>0.6336</td>\n",
       "      <td>0.5113</td>\n",
       "      <td>0.6017</td>\n",
       "      <td>0.7408</td>\n",
       "      <td>0.2964</td>\n",
       "      <td>0.4846</td>\n",
       "      <td>0.1525</td>\n",
       "      <td>0.4354</td>\n",
       "      <td>0</td>\n",
       "      <td>0</td>\n",
       "      <td>0</td>\n",
       "      <td>0</td>\n",
       "      <td>0</td>\n",
       "      <td>0</td>\n",
       "      <td>0</td>\n",
       "      <td>0</td>\n",
       "      <td>0</td>\n",
       "      <td>0</td>\n",
       "      <td>0</td>\n",
       "      <td>0</td>\n",
       "      <td>0</td>\n",
       "      <td>0</td>\n",
       "      <td>0</td>\n",
       "      <td>0</td>\n",
       "      <td>0</td>\n",
       "      <td>0</td>\n",
       "      <td>0</td>\n",
       "    </tr>\n",
       "    <tr>\n",
       "      <th>1</th>\n",
       "      <td>ALABAMA</td>\n",
       "      <td>Baldwin</td>\n",
       "      <td>1589.793007</td>\n",
       "      <td>0.2239</td>\n",
       "      <td>0.3121</td>\n",
       "      <td>0.2057</td>\n",
       "      <td>0.3209</td>\n",
       "      <td>0.6428</td>\n",
       "      <td>0.4323</td>\n",
       "      <td>0.3524</td>\n",
       "      <td>0.1391</td>\n",
       "      <td>0.5158</td>\n",
       "      <td>0.3582</td>\n",
       "      <td>0.9713</td>\n",
       "      <td>0.5339</td>\n",
       "      <td>0.2604</td>\n",
       "      <td>0.1328</td>\n",
       "      <td>0.3018</td>\n",
       "      <td>0.2162</td>\n",
       "      <td>0</td>\n",
       "      <td>0</td>\n",
       "      <td>0</td>\n",
       "      <td>0</td>\n",
       "      <td>0</td>\n",
       "      <td>0</td>\n",
       "      <td>0</td>\n",
       "      <td>0</td>\n",
       "      <td>0</td>\n",
       "      <td>0</td>\n",
       "      <td>0</td>\n",
       "      <td>0</td>\n",
       "      <td>0</td>\n",
       "      <td>1</td>\n",
       "      <td>0</td>\n",
       "      <td>0</td>\n",
       "      <td>0</td>\n",
       "      <td>0</td>\n",
       "      <td>1</td>\n",
       "    </tr>\n",
       "    <tr>\n",
       "      <th>2</th>\n",
       "      <td>ALABAMA</td>\n",
       "      <td>Barbour</td>\n",
       "      <td>885.001636</td>\n",
       "      <td>0.9631</td>\n",
       "      <td>0.9217</td>\n",
       "      <td>0.9481</td>\n",
       "      <td>0.9701</td>\n",
       "      <td>0.4893</td>\n",
       "      <td>0.3327</td>\n",
       "      <td>0.9064</td>\n",
       "      <td>0.9468</td>\n",
       "      <td>0.8965</td>\n",
       "      <td>0.7052</td>\n",
       "      <td>0.2416</td>\n",
       "      <td>0.9280</td>\n",
       "      <td>0.8198</td>\n",
       "      <td>0.8685</td>\n",
       "      <td>0.9449</td>\n",
       "      <td>0.9959</td>\n",
       "      <td>1</td>\n",
       "      <td>1</td>\n",
       "      <td>1</td>\n",
       "      <td>1</td>\n",
       "      <td>4</td>\n",
       "      <td>0</td>\n",
       "      <td>0</td>\n",
       "      <td>1</td>\n",
       "      <td>1</td>\n",
       "      <td>2</td>\n",
       "      <td>0</td>\n",
       "      <td>0</td>\n",
       "      <td>0</td>\n",
       "      <td>0</td>\n",
       "      <td>1</td>\n",
       "      <td>0</td>\n",
       "      <td>0</td>\n",
       "      <td>1</td>\n",
       "      <td>2</td>\n",
       "    </tr>\n",
       "    <tr>\n",
       "      <th>3</th>\n",
       "      <td>ALABAMA</td>\n",
       "      <td>Bibb</td>\n",
       "      <td>622.461089</td>\n",
       "      <td>0.4430</td>\n",
       "      <td>0.7895</td>\n",
       "      <td>0.8987</td>\n",
       "      <td>0.7351</td>\n",
       "      <td>0.3200</td>\n",
       "      <td>0.2846</td>\n",
       "      <td>0.6074</td>\n",
       "      <td>0.1706</td>\n",
       "      <td>0.6390</td>\n",
       "      <td>0.2270</td>\n",
       "      <td>0.4317</td>\n",
       "      <td>0.9207</td>\n",
       "      <td>0.0981</td>\n",
       "      <td>0.5441</td>\n",
       "      <td>0.9214</td>\n",
       "      <td>0.6003</td>\n",
       "      <td>0</td>\n",
       "      <td>0</td>\n",
       "      <td>0</td>\n",
       "      <td>0</td>\n",
       "      <td>0</td>\n",
       "      <td>0</td>\n",
       "      <td>0</td>\n",
       "      <td>0</td>\n",
       "      <td>0</td>\n",
       "      <td>0</td>\n",
       "      <td>0</td>\n",
       "      <td>0</td>\n",
       "      <td>0</td>\n",
       "      <td>0</td>\n",
       "      <td>1</td>\n",
       "      <td>0</td>\n",
       "      <td>0</td>\n",
       "      <td>1</td>\n",
       "      <td>2</td>\n",
       "    </tr>\n",
       "    <tr>\n",
       "      <th>4</th>\n",
       "      <td>ALABAMA</td>\n",
       "      <td>Blount</td>\n",
       "      <td>644.830460</td>\n",
       "      <td>0.4723</td>\n",
       "      <td>0.2611</td>\n",
       "      <td>0.7561</td>\n",
       "      <td>0.8405</td>\n",
       "      <td>0.4715</td>\n",
       "      <td>0.6406</td>\n",
       "      <td>0.3763</td>\n",
       "      <td>0.2961</td>\n",
       "      <td>0.4206</td>\n",
       "      <td>0.7170</td>\n",
       "      <td>0.1512</td>\n",
       "      <td>0.8816</td>\n",
       "      <td>0.3703</td>\n",
       "      <td>0.2420</td>\n",
       "      <td>0.1165</td>\n",
       "      <td>0.4242</td>\n",
       "      <td>0</td>\n",
       "      <td>0</td>\n",
       "      <td>0</td>\n",
       "      <td>0</td>\n",
       "      <td>0</td>\n",
       "      <td>0</td>\n",
       "      <td>0</td>\n",
       "      <td>0</td>\n",
       "      <td>0</td>\n",
       "      <td>0</td>\n",
       "      <td>0</td>\n",
       "      <td>0</td>\n",
       "      <td>0</td>\n",
       "      <td>0</td>\n",
       "      <td>0</td>\n",
       "      <td>0</td>\n",
       "      <td>0</td>\n",
       "      <td>0</td>\n",
       "      <td>0</td>\n",
       "    </tr>\n",
       "    <tr>\n",
       "      <th>...</th>\n",
       "      <td>...</td>\n",
       "      <td>...</td>\n",
       "      <td>...</td>\n",
       "      <td>...</td>\n",
       "      <td>...</td>\n",
       "      <td>...</td>\n",
       "      <td>...</td>\n",
       "      <td>...</td>\n",
       "      <td>...</td>\n",
       "      <td>...</td>\n",
       "      <td>...</td>\n",
       "      <td>...</td>\n",
       "      <td>...</td>\n",
       "      <td>...</td>\n",
       "      <td>...</td>\n",
       "      <td>...</td>\n",
       "      <td>...</td>\n",
       "      <td>...</td>\n",
       "      <td>...</td>\n",
       "      <td>...</td>\n",
       "      <td>...</td>\n",
       "      <td>...</td>\n",
       "      <td>...</td>\n",
       "      <td>...</td>\n",
       "      <td>...</td>\n",
       "      <td>...</td>\n",
       "      <td>...</td>\n",
       "      <td>...</td>\n",
       "      <td>...</td>\n",
       "      <td>...</td>\n",
       "      <td>...</td>\n",
       "      <td>...</td>\n",
       "      <td>...</td>\n",
       "      <td>...</td>\n",
       "      <td>...</td>\n",
       "      <td>...</td>\n",
       "      <td>...</td>\n",
       "      <td>...</td>\n",
       "    </tr>\n",
       "    <tr>\n",
       "      <th>3137</th>\n",
       "      <td>WYOMING</td>\n",
       "      <td>Sweetwater</td>\n",
       "      <td>10426.975725</td>\n",
       "      <td>0.3127</td>\n",
       "      <td>0.4490</td>\n",
       "      <td>0.1497</td>\n",
       "      <td>0.2668</td>\n",
       "      <td>0.0293</td>\n",
       "      <td>0.9150</td>\n",
       "      <td>0.2041</td>\n",
       "      <td>0.7679</td>\n",
       "      <td>0.5680</td>\n",
       "      <td>0.7052</td>\n",
       "      <td>0.7307</td>\n",
       "      <td>0.8306</td>\n",
       "      <td>0.4817</td>\n",
       "      <td>0.0503</td>\n",
       "      <td>0.2582</td>\n",
       "      <td>0.3701</td>\n",
       "      <td>0</td>\n",
       "      <td>0</td>\n",
       "      <td>0</td>\n",
       "      <td>0</td>\n",
       "      <td>0</td>\n",
       "      <td>0</td>\n",
       "      <td>1</td>\n",
       "      <td>0</td>\n",
       "      <td>0</td>\n",
       "      <td>1</td>\n",
       "      <td>0</td>\n",
       "      <td>0</td>\n",
       "      <td>0</td>\n",
       "      <td>0</td>\n",
       "      <td>0</td>\n",
       "      <td>0</td>\n",
       "      <td>0</td>\n",
       "      <td>0</td>\n",
       "      <td>0</td>\n",
       "    </tr>\n",
       "    <tr>\n",
       "      <th>3138</th>\n",
       "      <td>WYOMING</td>\n",
       "      <td>Teton</td>\n",
       "      <td>3996.844622</td>\n",
       "      <td>0.0522</td>\n",
       "      <td>0.0264</td>\n",
       "      <td>0.0051</td>\n",
       "      <td>0.0548</td>\n",
       "      <td>0.1334</td>\n",
       "      <td>0.1506</td>\n",
       "      <td>0.0060</td>\n",
       "      <td>0.2216</td>\n",
       "      <td>0.5400</td>\n",
       "      <td>0.9000</td>\n",
       "      <td>0.8109</td>\n",
       "      <td>0.1442</td>\n",
       "      <td>0.9688</td>\n",
       "      <td>0.0503</td>\n",
       "      <td>0.7561</td>\n",
       "      <td>0.1127</td>\n",
       "      <td>0</td>\n",
       "      <td>0</td>\n",
       "      <td>0</td>\n",
       "      <td>0</td>\n",
       "      <td>0</td>\n",
       "      <td>0</td>\n",
       "      <td>0</td>\n",
       "      <td>0</td>\n",
       "      <td>0</td>\n",
       "      <td>0</td>\n",
       "      <td>0</td>\n",
       "      <td>1</td>\n",
       "      <td>1</td>\n",
       "      <td>0</td>\n",
       "      <td>0</td>\n",
       "      <td>1</td>\n",
       "      <td>0</td>\n",
       "      <td>0</td>\n",
       "      <td>1</td>\n",
       "    </tr>\n",
       "    <tr>\n",
       "      <th>3139</th>\n",
       "      <td>WYOMING</td>\n",
       "      <td>Uinta</td>\n",
       "      <td>2081.719807</td>\n",
       "      <td>0.3430</td>\n",
       "      <td>0.6032</td>\n",
       "      <td>0.4443</td>\n",
       "      <td>0.1347</td>\n",
       "      <td>0.0675</td>\n",
       "      <td>0.9685</td>\n",
       "      <td>0.6488</td>\n",
       "      <td>0.2665</td>\n",
       "      <td>0.4136</td>\n",
       "      <td>0.4642</td>\n",
       "      <td>0.7453</td>\n",
       "      <td>0.8816</td>\n",
       "      <td>0.7249</td>\n",
       "      <td>0.1971</td>\n",
       "      <td>0.2582</td>\n",
       "      <td>0.4522</td>\n",
       "      <td>0</td>\n",
       "      <td>0</td>\n",
       "      <td>0</td>\n",
       "      <td>0</td>\n",
       "      <td>0</td>\n",
       "      <td>0</td>\n",
       "      <td>1</td>\n",
       "      <td>0</td>\n",
       "      <td>0</td>\n",
       "      <td>1</td>\n",
       "      <td>0</td>\n",
       "      <td>0</td>\n",
       "      <td>0</td>\n",
       "      <td>0</td>\n",
       "      <td>0</td>\n",
       "      <td>0</td>\n",
       "      <td>0</td>\n",
       "      <td>0</td>\n",
       "      <td>0</td>\n",
       "    </tr>\n",
       "    <tr>\n",
       "      <th>3140</th>\n",
       "      <td>WYOMING</td>\n",
       "      <td>Washakie</td>\n",
       "      <td>2238.672972</td>\n",
       "      <td>0.3360</td>\n",
       "      <td>0.6207</td>\n",
       "      <td>0.4035</td>\n",
       "      <td>0.3792</td>\n",
       "      <td>0.7380</td>\n",
       "      <td>0.7122</td>\n",
       "      <td>0.4448</td>\n",
       "      <td>0.2961</td>\n",
       "      <td>0.5330</td>\n",
       "      <td>0.2270</td>\n",
       "      <td>0.1958</td>\n",
       "      <td>0.5384</td>\n",
       "      <td>0.4457</td>\n",
       "      <td>0.3715</td>\n",
       "      <td>0.4995</td>\n",
       "      <td>0.3732</td>\n",
       "      <td>0</td>\n",
       "      <td>0</td>\n",
       "      <td>0</td>\n",
       "      <td>0</td>\n",
       "      <td>0</td>\n",
       "      <td>0</td>\n",
       "      <td>0</td>\n",
       "      <td>0</td>\n",
       "      <td>0</td>\n",
       "      <td>0</td>\n",
       "      <td>0</td>\n",
       "      <td>0</td>\n",
       "      <td>0</td>\n",
       "      <td>0</td>\n",
       "      <td>0</td>\n",
       "      <td>0</td>\n",
       "      <td>0</td>\n",
       "      <td>0</td>\n",
       "      <td>0</td>\n",
       "    </tr>\n",
       "    <tr>\n",
       "      <th>3141</th>\n",
       "      <td>WYOMING</td>\n",
       "      <td>Weston</td>\n",
       "      <td>2398.003891</td>\n",
       "      <td>0.6745</td>\n",
       "      <td>0.1822</td>\n",
       "      <td>0.2968</td>\n",
       "      <td>0.1831</td>\n",
       "      <td>0.5817</td>\n",
       "      <td>0.3419</td>\n",
       "      <td>0.3983</td>\n",
       "      <td>0.2961</td>\n",
       "      <td>0.3095</td>\n",
       "      <td>0.5492</td>\n",
       "      <td>0.4575</td>\n",
       "      <td>0.8535</td>\n",
       "      <td>0.6049</td>\n",
       "      <td>0.0630</td>\n",
       "      <td>0.8131</td>\n",
       "      <td>0.3475</td>\n",
       "      <td>0</td>\n",
       "      <td>0</td>\n",
       "      <td>0</td>\n",
       "      <td>0</td>\n",
       "      <td>0</td>\n",
       "      <td>0</td>\n",
       "      <td>0</td>\n",
       "      <td>0</td>\n",
       "      <td>0</td>\n",
       "      <td>0</td>\n",
       "      <td>0</td>\n",
       "      <td>0</td>\n",
       "      <td>0</td>\n",
       "      <td>0</td>\n",
       "      <td>0</td>\n",
       "      <td>0</td>\n",
       "      <td>0</td>\n",
       "      <td>0</td>\n",
       "      <td>0</td>\n",
       "    </tr>\n",
       "  </tbody>\n",
       "</table>\n",
       "<p>3141 rows × 38 columns</p>\n",
       "</div>"
      ],
      "text/plain": [
       "        state      county     area_sqmi  epl_pov  epl_unemp  epl_pci  \\\n",
       "0     ALABAMA     Autauga    594.443459   0.5401     0.2745   0.2860   \n",
       "1     ALABAMA     Baldwin   1589.793007   0.2239     0.3121   0.2057   \n",
       "2     ALABAMA     Barbour    885.001636   0.9631     0.9217   0.9481   \n",
       "3     ALABAMA        Bibb    622.461089   0.4430     0.7895   0.8987   \n",
       "4     ALABAMA      Blount    644.830460   0.4723     0.2611   0.7561   \n",
       "...       ...         ...           ...      ...        ...      ...   \n",
       "3137  WYOMING  Sweetwater  10426.975725   0.3127     0.4490   0.1497   \n",
       "3138  WYOMING       Teton   3996.844622   0.0522     0.0264   0.0051   \n",
       "3139  WYOMING       Uinta   2081.719807   0.3430     0.6032   0.4443   \n",
       "3140  WYOMING    Washakie   2238.672972   0.3360     0.6207   0.4035   \n",
       "3141  WYOMING      Weston   2398.003891   0.6745     0.1822   0.2968   \n",
       "\n",
       "      epl_nohsdp  epl_age65  epl_age17  epl_disabl  epl_sngpnt  epl_minrty  \\\n",
       "0         0.4397     0.1850     0.7529      0.7905      0.3792      0.6336   \n",
       "1         0.3209     0.6428     0.4323      0.3524      0.1391      0.5158   \n",
       "2         0.9701     0.4893     0.3327      0.9064      0.9468      0.8965   \n",
       "3         0.7351     0.3200     0.2846      0.6074      0.1706      0.6390   \n",
       "4         0.8405     0.4715     0.6406      0.3763      0.2961      0.4206   \n",
       "...          ...        ...        ...         ...         ...         ...   \n",
       "3137      0.2668     0.0293     0.9150      0.2041      0.7679      0.5680   \n",
       "3138      0.0548     0.1334     0.1506      0.0060      0.2216      0.5400   \n",
       "3139      0.1347     0.0675     0.9685      0.6488      0.2665      0.4136   \n",
       "3140      0.3792     0.7380     0.7122      0.4448      0.2961      0.5330   \n",
       "3141      0.1831     0.5817     0.3419      0.3983      0.2961      0.3095   \n",
       "\n",
       "      epl_limeng  epl_munit  epl_mobile  epl_crowd  epl_noveh  epl_groupq  \\\n",
       "0         0.5113     0.6017      0.7408     0.2964     0.4846      0.1525   \n",
       "1         0.3582     0.9713      0.5339     0.2604     0.1328      0.3018   \n",
       "2         0.7052     0.2416      0.9280     0.8198     0.8685      0.9449   \n",
       "3         0.2270     0.4317      0.9207     0.0981     0.5441      0.9214   \n",
       "4         0.7170     0.1512      0.8816     0.3703     0.2420      0.1165   \n",
       "...          ...        ...         ...        ...        ...         ...   \n",
       "3137      0.7052     0.7307      0.8306     0.4817     0.0503      0.2582   \n",
       "3138      0.9000     0.8109      0.1442     0.9688     0.0503      0.7561   \n",
       "3139      0.4642     0.7453      0.8816     0.7249     0.1971      0.2582   \n",
       "3140      0.2270     0.1958      0.5384     0.4457     0.3715      0.4995   \n",
       "3141      0.5492     0.4575      0.8535     0.6049     0.0630      0.8131   \n",
       "\n",
       "      rpl_themes  f_pov  f_unemp  f_pci  f_nohsdp  f_theme1  f_age65  f_age17  \\\n",
       "0         0.4354      0        0      0         0         0        0        0   \n",
       "1         0.2162      0        0      0         0         0        0        0   \n",
       "2         0.9959      1        1      1         1         4        0        0   \n",
       "3         0.6003      0        0      0         0         0        0        0   \n",
       "4         0.4242      0        0      0         0         0        0        0   \n",
       "...          ...    ...      ...    ...       ...       ...      ...      ...   \n",
       "3137      0.3701      0        0      0         0         0        0        1   \n",
       "3138      0.1127      0        0      0         0         0        0        0   \n",
       "3139      0.4522      0        0      0         0         0        0        1   \n",
       "3140      0.3732      0        0      0         0         0        0        0   \n",
       "3141      0.3475      0        0      0         0         0        0        0   \n",
       "\n",
       "      f_disabl  f_sngpnt  f_theme2  f_minrty  f_limeng  f_theme3  f_munit  \\\n",
       "0            0         0         0         0         0         0        0   \n",
       "1            0         0         0         0         0         0        1   \n",
       "2            1         1         2         0         0         0        0   \n",
       "3            0         0         0         0         0         0        0   \n",
       "4            0         0         0         0         0         0        0   \n",
       "...        ...       ...       ...       ...       ...       ...      ...   \n",
       "3137         0         0         1         0         0         0        0   \n",
       "3138         0         0         0         0         1         1        0   \n",
       "3139         0         0         1         0         0         0        0   \n",
       "3140         0         0         0         0         0         0        0   \n",
       "3141         0         0         0         0         0         0        0   \n",
       "\n",
       "      f_mobile  f_crowd  f_noveh  f_groupq  f_theme4  \n",
       "0            0        0        0         0         0  \n",
       "1            0        0        0         0         1  \n",
       "2            1        0        0         1         2  \n",
       "3            1        0        0         1         2  \n",
       "4            0        0        0         0         0  \n",
       "...        ...      ...      ...       ...       ...  \n",
       "3137         0        0        0         0         0  \n",
       "3138         0        1        0         0         1  \n",
       "3139         0        0        0         0         0  \n",
       "3140         0        0        0         0         0  \n",
       "3141         0        0        0         0         0  \n",
       "\n",
       "[3141 rows x 38 columns]"
      ]
     },
     "execution_count": 5,
     "metadata": {},
     "output_type": "execute_result"
    },
    {
     "data": {
      "application/javascript": [
       "\n",
       "            setTimeout(function() {\n",
       "                var nbb_cell_id = 5;\n",
       "                var nbb_unformatted_code = \"# Loading in the dataset\\ndata = pd.read_csv(\\\"Data/data.csv\\\", index_col=[0])\\ndata = data.drop(\\n    [\\n        \\\"rpl_theme1\\\",\\n        \\\"rpl_theme2\\\",\\n        \\\"rpl_theme3\\\",\\n        \\\"rpl_theme4\\\",\\n        \\\"spl_theme1\\\",\\n        \\\"spl_theme2\\\",\\n        \\\"spl_theme3\\\",\\n        \\\"spl_theme4\\\",\\n        \\\"spl_themes\\\",\\n        \\\"f_total\\\",\\n    ],\\n    axis=1,\\n)\\ndata\";\n",
       "                var nbb_formatted_code = \"# Loading in the dataset\\ndata = pd.read_csv(\\\"Data/data.csv\\\", index_col=[0])\\ndata = data.drop(\\n    [\\n        \\\"rpl_theme1\\\",\\n        \\\"rpl_theme2\\\",\\n        \\\"rpl_theme3\\\",\\n        \\\"rpl_theme4\\\",\\n        \\\"spl_theme1\\\",\\n        \\\"spl_theme2\\\",\\n        \\\"spl_theme3\\\",\\n        \\\"spl_theme4\\\",\\n        \\\"spl_themes\\\",\\n        \\\"f_total\\\",\\n    ],\\n    axis=1,\\n)\\ndata\";\n",
       "                var nbb_cells = Jupyter.notebook.get_cells();\n",
       "                for (var i = 0; i < nbb_cells.length; ++i) {\n",
       "                    if (nbb_cells[i].input_prompt_number == nbb_cell_id) {\n",
       "                        if (nbb_cells[i].get_text() == nbb_unformatted_code) {\n",
       "                             nbb_cells[i].set_text(nbb_formatted_code);\n",
       "                        }\n",
       "                        break;\n",
       "                    }\n",
       "                }\n",
       "            }, 500);\n",
       "            "
      ],
      "text/plain": [
       "<IPython.core.display.Javascript object>"
      ]
     },
     "metadata": {},
     "output_type": "display_data"
    }
   ],
   "source": [
    "# Loading in the dataset\n",
    "data = pd.read_csv(\"Data/data.csv\", index_col=[0])\n",
    "data = data.drop(\n",
    "    [\n",
    "        \"rpl_theme1\",\n",
    "        \"rpl_theme2\",\n",
    "        \"rpl_theme3\",\n",
    "        \"rpl_theme4\",\n",
    "        \"spl_theme1\",\n",
    "        \"spl_theme2\",\n",
    "        \"spl_theme3\",\n",
    "        \"spl_theme4\",\n",
    "        \"spl_themes\",\n",
    "        \"f_total\",\n",
    "    ],\n",
    "    axis=1,\n",
    ")\n",
    "data"
   ]
  },
  {
   "cell_type": "code",
   "execution_count": 6,
   "id": "d8e4f189",
   "metadata": {},
   "outputs": [
    {
     "data": {
      "application/javascript": [
       "\n",
       "            setTimeout(function() {\n",
       "                var nbb_cell_id = 6;\n",
       "                var nbb_unformatted_code = \"# Creating dummy variables for binary data\\n# df = pd.get_dummies(\\n#     data,\\n#     columns=[\\n#         \\\"f_pov\\\",\\n#         \\\"f_unemp\\\",\\n#         \\\"f_pci\\\",\\n#         \\\"f_nohsdp\\\",\\n#         \\\"f_age65\\\",\\n#         \\\"f_age17\\\",\\n#         \\\"f_disabl\\\",\\n#         \\\"f_sngpnt\\\",\\n#         \\\"f_minrty\\\",\\n#         \\\"f_limeng\\\",\\n#         \\\"f_munit\\\",\\n#         \\\"f_mobile\\\",\\n#         \\\"f_crowd\\\",\\n#         \\\"f_noveh\\\",\\n#         \\\"f_groupq\\\",\\n#     ],\\n# )\\n# df\";\n",
       "                var nbb_formatted_code = \"# Creating dummy variables for binary data\\n# df = pd.get_dummies(\\n#     data,\\n#     columns=[\\n#         \\\"f_pov\\\",\\n#         \\\"f_unemp\\\",\\n#         \\\"f_pci\\\",\\n#         \\\"f_nohsdp\\\",\\n#         \\\"f_age65\\\",\\n#         \\\"f_age17\\\",\\n#         \\\"f_disabl\\\",\\n#         \\\"f_sngpnt\\\",\\n#         \\\"f_minrty\\\",\\n#         \\\"f_limeng\\\",\\n#         \\\"f_munit\\\",\\n#         \\\"f_mobile\\\",\\n#         \\\"f_crowd\\\",\\n#         \\\"f_noveh\\\",\\n#         \\\"f_groupq\\\",\\n#     ],\\n# )\\n# df\";\n",
       "                var nbb_cells = Jupyter.notebook.get_cells();\n",
       "                for (var i = 0; i < nbb_cells.length; ++i) {\n",
       "                    if (nbb_cells[i].input_prompt_number == nbb_cell_id) {\n",
       "                        if (nbb_cells[i].get_text() == nbb_unformatted_code) {\n",
       "                             nbb_cells[i].set_text(nbb_formatted_code);\n",
       "                        }\n",
       "                        break;\n",
       "                    }\n",
       "                }\n",
       "            }, 500);\n",
       "            "
      ],
      "text/plain": [
       "<IPython.core.display.Javascript object>"
      ]
     },
     "metadata": {},
     "output_type": "display_data"
    }
   ],
   "source": [
    "# Creating dummy variables for binary data\n",
    "# df = pd.get_dummies(\n",
    "#     data,\n",
    "#     columns=[\n",
    "#         \"f_pov\",\n",
    "#         \"f_unemp\",\n",
    "#         \"f_pci\",\n",
    "#         \"f_nohsdp\",\n",
    "#         \"f_age65\",\n",
    "#         \"f_age17\",\n",
    "#         \"f_disabl\",\n",
    "#         \"f_sngpnt\",\n",
    "#         \"f_minrty\",\n",
    "#         \"f_limeng\",\n",
    "#         \"f_munit\",\n",
    "#         \"f_mobile\",\n",
    "#         \"f_crowd\",\n",
    "#         \"f_noveh\",\n",
    "#         \"f_groupq\",\n",
    "#     ],\n",
    "# )\n",
    "# df"
   ]
  },
  {
   "cell_type": "code",
   "execution_count": 7,
   "id": "9d629e95",
   "metadata": {},
   "outputs": [
    {
     "name": "stderr",
     "output_type": "stream",
     "text": [
      "C:\\Users\\Gianni\\AppData\\Local\\Temp/ipykernel_28668/2484629138.py:4: FutureWarning: In a future version of pandas all arguments of DataFrame.drop except for the argument 'labels' will be keyword-only.\n",
      "  X = X.drop(\"rpl_themes\", 1)\n"
     ]
    },
    {
     "data": {
      "text/html": [
       "<div>\n",
       "<style scoped>\n",
       "    .dataframe tbody tr th:only-of-type {\n",
       "        vertical-align: middle;\n",
       "    }\n",
       "\n",
       "    .dataframe tbody tr th {\n",
       "        vertical-align: top;\n",
       "    }\n",
       "\n",
       "    .dataframe thead th {\n",
       "        text-align: right;\n",
       "    }\n",
       "</style>\n",
       "<table border=\"1\" class=\"dataframe\">\n",
       "  <thead>\n",
       "    <tr style=\"text-align: right;\">\n",
       "      <th></th>\n",
       "      <th>area_sqmi</th>\n",
       "      <th>epl_pov</th>\n",
       "      <th>epl_unemp</th>\n",
       "      <th>epl_pci</th>\n",
       "      <th>epl_nohsdp</th>\n",
       "      <th>epl_age65</th>\n",
       "      <th>epl_age17</th>\n",
       "      <th>epl_disabl</th>\n",
       "      <th>epl_sngpnt</th>\n",
       "      <th>epl_minrty</th>\n",
       "      <th>epl_limeng</th>\n",
       "      <th>epl_munit</th>\n",
       "      <th>epl_mobile</th>\n",
       "      <th>epl_crowd</th>\n",
       "      <th>epl_noveh</th>\n",
       "      <th>epl_groupq</th>\n",
       "    </tr>\n",
       "  </thead>\n",
       "  <tbody>\n",
       "    <tr>\n",
       "      <th>0</th>\n",
       "      <td>594.443459</td>\n",
       "      <td>0.5401</td>\n",
       "      <td>0.2745</td>\n",
       "      <td>0.2860</td>\n",
       "      <td>0.4397</td>\n",
       "      <td>0.1850</td>\n",
       "      <td>0.7529</td>\n",
       "      <td>0.7905</td>\n",
       "      <td>0.3792</td>\n",
       "      <td>0.6336</td>\n",
       "      <td>0.5113</td>\n",
       "      <td>0.6017</td>\n",
       "      <td>0.7408</td>\n",
       "      <td>0.2964</td>\n",
       "      <td>0.4846</td>\n",
       "      <td>0.1525</td>\n",
       "    </tr>\n",
       "    <tr>\n",
       "      <th>1</th>\n",
       "      <td>1589.793007</td>\n",
       "      <td>0.2239</td>\n",
       "      <td>0.3121</td>\n",
       "      <td>0.2057</td>\n",
       "      <td>0.3209</td>\n",
       "      <td>0.6428</td>\n",
       "      <td>0.4323</td>\n",
       "      <td>0.3524</td>\n",
       "      <td>0.1391</td>\n",
       "      <td>0.5158</td>\n",
       "      <td>0.3582</td>\n",
       "      <td>0.9713</td>\n",
       "      <td>0.5339</td>\n",
       "      <td>0.2604</td>\n",
       "      <td>0.1328</td>\n",
       "      <td>0.3018</td>\n",
       "    </tr>\n",
       "    <tr>\n",
       "      <th>2</th>\n",
       "      <td>885.001636</td>\n",
       "      <td>0.9631</td>\n",
       "      <td>0.9217</td>\n",
       "      <td>0.9481</td>\n",
       "      <td>0.9701</td>\n",
       "      <td>0.4893</td>\n",
       "      <td>0.3327</td>\n",
       "      <td>0.9064</td>\n",
       "      <td>0.9468</td>\n",
       "      <td>0.8965</td>\n",
       "      <td>0.7052</td>\n",
       "      <td>0.2416</td>\n",
       "      <td>0.9280</td>\n",
       "      <td>0.8198</td>\n",
       "      <td>0.8685</td>\n",
       "      <td>0.9449</td>\n",
       "    </tr>\n",
       "    <tr>\n",
       "      <th>3</th>\n",
       "      <td>622.461089</td>\n",
       "      <td>0.4430</td>\n",
       "      <td>0.7895</td>\n",
       "      <td>0.8987</td>\n",
       "      <td>0.7351</td>\n",
       "      <td>0.3200</td>\n",
       "      <td>0.2846</td>\n",
       "      <td>0.6074</td>\n",
       "      <td>0.1706</td>\n",
       "      <td>0.6390</td>\n",
       "      <td>0.2270</td>\n",
       "      <td>0.4317</td>\n",
       "      <td>0.9207</td>\n",
       "      <td>0.0981</td>\n",
       "      <td>0.5441</td>\n",
       "      <td>0.9214</td>\n",
       "    </tr>\n",
       "    <tr>\n",
       "      <th>4</th>\n",
       "      <td>644.830460</td>\n",
       "      <td>0.4723</td>\n",
       "      <td>0.2611</td>\n",
       "      <td>0.7561</td>\n",
       "      <td>0.8405</td>\n",
       "      <td>0.4715</td>\n",
       "      <td>0.6406</td>\n",
       "      <td>0.3763</td>\n",
       "      <td>0.2961</td>\n",
       "      <td>0.4206</td>\n",
       "      <td>0.7170</td>\n",
       "      <td>0.1512</td>\n",
       "      <td>0.8816</td>\n",
       "      <td>0.3703</td>\n",
       "      <td>0.2420</td>\n",
       "      <td>0.1165</td>\n",
       "    </tr>\n",
       "    <tr>\n",
       "      <th>...</th>\n",
       "      <td>...</td>\n",
       "      <td>...</td>\n",
       "      <td>...</td>\n",
       "      <td>...</td>\n",
       "      <td>...</td>\n",
       "      <td>...</td>\n",
       "      <td>...</td>\n",
       "      <td>...</td>\n",
       "      <td>...</td>\n",
       "      <td>...</td>\n",
       "      <td>...</td>\n",
       "      <td>...</td>\n",
       "      <td>...</td>\n",
       "      <td>...</td>\n",
       "      <td>...</td>\n",
       "      <td>...</td>\n",
       "    </tr>\n",
       "    <tr>\n",
       "      <th>3137</th>\n",
       "      <td>10426.975725</td>\n",
       "      <td>0.3127</td>\n",
       "      <td>0.4490</td>\n",
       "      <td>0.1497</td>\n",
       "      <td>0.2668</td>\n",
       "      <td>0.0293</td>\n",
       "      <td>0.9150</td>\n",
       "      <td>0.2041</td>\n",
       "      <td>0.7679</td>\n",
       "      <td>0.5680</td>\n",
       "      <td>0.7052</td>\n",
       "      <td>0.7307</td>\n",
       "      <td>0.8306</td>\n",
       "      <td>0.4817</td>\n",
       "      <td>0.0503</td>\n",
       "      <td>0.2582</td>\n",
       "    </tr>\n",
       "    <tr>\n",
       "      <th>3138</th>\n",
       "      <td>3996.844622</td>\n",
       "      <td>0.0522</td>\n",
       "      <td>0.0264</td>\n",
       "      <td>0.0051</td>\n",
       "      <td>0.0548</td>\n",
       "      <td>0.1334</td>\n",
       "      <td>0.1506</td>\n",
       "      <td>0.0060</td>\n",
       "      <td>0.2216</td>\n",
       "      <td>0.5400</td>\n",
       "      <td>0.9000</td>\n",
       "      <td>0.8109</td>\n",
       "      <td>0.1442</td>\n",
       "      <td>0.9688</td>\n",
       "      <td>0.0503</td>\n",
       "      <td>0.7561</td>\n",
       "    </tr>\n",
       "    <tr>\n",
       "      <th>3139</th>\n",
       "      <td>2081.719807</td>\n",
       "      <td>0.3430</td>\n",
       "      <td>0.6032</td>\n",
       "      <td>0.4443</td>\n",
       "      <td>0.1347</td>\n",
       "      <td>0.0675</td>\n",
       "      <td>0.9685</td>\n",
       "      <td>0.6488</td>\n",
       "      <td>0.2665</td>\n",
       "      <td>0.4136</td>\n",
       "      <td>0.4642</td>\n",
       "      <td>0.7453</td>\n",
       "      <td>0.8816</td>\n",
       "      <td>0.7249</td>\n",
       "      <td>0.1971</td>\n",
       "      <td>0.2582</td>\n",
       "    </tr>\n",
       "    <tr>\n",
       "      <th>3140</th>\n",
       "      <td>2238.672972</td>\n",
       "      <td>0.3360</td>\n",
       "      <td>0.6207</td>\n",
       "      <td>0.4035</td>\n",
       "      <td>0.3792</td>\n",
       "      <td>0.7380</td>\n",
       "      <td>0.7122</td>\n",
       "      <td>0.4448</td>\n",
       "      <td>0.2961</td>\n",
       "      <td>0.5330</td>\n",
       "      <td>0.2270</td>\n",
       "      <td>0.1958</td>\n",
       "      <td>0.5384</td>\n",
       "      <td>0.4457</td>\n",
       "      <td>0.3715</td>\n",
       "      <td>0.4995</td>\n",
       "    </tr>\n",
       "    <tr>\n",
       "      <th>3141</th>\n",
       "      <td>2398.003891</td>\n",
       "      <td>0.6745</td>\n",
       "      <td>0.1822</td>\n",
       "      <td>0.2968</td>\n",
       "      <td>0.1831</td>\n",
       "      <td>0.5817</td>\n",
       "      <td>0.3419</td>\n",
       "      <td>0.3983</td>\n",
       "      <td>0.2961</td>\n",
       "      <td>0.3095</td>\n",
       "      <td>0.5492</td>\n",
       "      <td>0.4575</td>\n",
       "      <td>0.8535</td>\n",
       "      <td>0.6049</td>\n",
       "      <td>0.0630</td>\n",
       "      <td>0.8131</td>\n",
       "    </tr>\n",
       "  </tbody>\n",
       "</table>\n",
       "<p>3141 rows × 16 columns</p>\n",
       "</div>"
      ],
      "text/plain": [
       "         area_sqmi  epl_pov  epl_unemp  epl_pci  epl_nohsdp  epl_age65  \\\n",
       "0       594.443459   0.5401     0.2745   0.2860      0.4397     0.1850   \n",
       "1      1589.793007   0.2239     0.3121   0.2057      0.3209     0.6428   \n",
       "2       885.001636   0.9631     0.9217   0.9481      0.9701     0.4893   \n",
       "3       622.461089   0.4430     0.7895   0.8987      0.7351     0.3200   \n",
       "4       644.830460   0.4723     0.2611   0.7561      0.8405     0.4715   \n",
       "...            ...      ...        ...      ...         ...        ...   \n",
       "3137  10426.975725   0.3127     0.4490   0.1497      0.2668     0.0293   \n",
       "3138   3996.844622   0.0522     0.0264   0.0051      0.0548     0.1334   \n",
       "3139   2081.719807   0.3430     0.6032   0.4443      0.1347     0.0675   \n",
       "3140   2238.672972   0.3360     0.6207   0.4035      0.3792     0.7380   \n",
       "3141   2398.003891   0.6745     0.1822   0.2968      0.1831     0.5817   \n",
       "\n",
       "      epl_age17  epl_disabl  epl_sngpnt  epl_minrty  epl_limeng  epl_munit  \\\n",
       "0        0.7529      0.7905      0.3792      0.6336      0.5113     0.6017   \n",
       "1        0.4323      0.3524      0.1391      0.5158      0.3582     0.9713   \n",
       "2        0.3327      0.9064      0.9468      0.8965      0.7052     0.2416   \n",
       "3        0.2846      0.6074      0.1706      0.6390      0.2270     0.4317   \n",
       "4        0.6406      0.3763      0.2961      0.4206      0.7170     0.1512   \n",
       "...         ...         ...         ...         ...         ...        ...   \n",
       "3137     0.9150      0.2041      0.7679      0.5680      0.7052     0.7307   \n",
       "3138     0.1506      0.0060      0.2216      0.5400      0.9000     0.8109   \n",
       "3139     0.9685      0.6488      0.2665      0.4136      0.4642     0.7453   \n",
       "3140     0.7122      0.4448      0.2961      0.5330      0.2270     0.1958   \n",
       "3141     0.3419      0.3983      0.2961      0.3095      0.5492     0.4575   \n",
       "\n",
       "      epl_mobile  epl_crowd  epl_noveh  epl_groupq  \n",
       "0         0.7408     0.2964     0.4846      0.1525  \n",
       "1         0.5339     0.2604     0.1328      0.3018  \n",
       "2         0.9280     0.8198     0.8685      0.9449  \n",
       "3         0.9207     0.0981     0.5441      0.9214  \n",
       "4         0.8816     0.3703     0.2420      0.1165  \n",
       "...          ...        ...        ...         ...  \n",
       "3137      0.8306     0.4817     0.0503      0.2582  \n",
       "3138      0.1442     0.9688     0.0503      0.7561  \n",
       "3139      0.8816     0.7249     0.1971      0.2582  \n",
       "3140      0.5384     0.4457     0.3715      0.4995  \n",
       "3141      0.8535     0.6049     0.0630      0.8131  \n",
       "\n",
       "[3141 rows x 16 columns]"
      ]
     },
     "execution_count": 7,
     "metadata": {},
     "output_type": "execute_result"
    },
    {
     "data": {
      "application/javascript": [
       "\n",
       "            setTimeout(function() {\n",
       "                var nbb_cell_id = 7;\n",
       "                var nbb_unformatted_code = \"# Preparing X and Y\\ny = data[\\\"rpl_themes\\\"]\\nX = data.iloc[:, 2:19]\\nX = X.drop(\\\"rpl_themes\\\", 1)\\nlist_numerical = X.columns\\nX\";\n",
       "                var nbb_formatted_code = \"# Preparing X and Y\\ny = data[\\\"rpl_themes\\\"]\\nX = data.iloc[:, 2:19]\\nX = X.drop(\\\"rpl_themes\\\", 1)\\nlist_numerical = X.columns\\nX\";\n",
       "                var nbb_cells = Jupyter.notebook.get_cells();\n",
       "                for (var i = 0; i < nbb_cells.length; ++i) {\n",
       "                    if (nbb_cells[i].input_prompt_number == nbb_cell_id) {\n",
       "                        if (nbb_cells[i].get_text() == nbb_unformatted_code) {\n",
       "                             nbb_cells[i].set_text(nbb_formatted_code);\n",
       "                        }\n",
       "                        break;\n",
       "                    }\n",
       "                }\n",
       "            }, 500);\n",
       "            "
      ],
      "text/plain": [
       "<IPython.core.display.Javascript object>"
      ]
     },
     "metadata": {},
     "output_type": "display_data"
    }
   ],
   "source": [
    "# Preparing X and Y\n",
    "y = data[\"rpl_themes\"]\n",
    "X = data.iloc[:, 2:19]\n",
    "X = X.drop(\"rpl_themes\", 1)\n",
    "list_numerical = X.columns\n",
    "X"
   ]
  },
  {
   "cell_type": "code",
   "execution_count": 49,
   "id": "fc04983c",
   "metadata": {},
   "outputs": [
    {
     "name": "stdout",
     "output_type": "stream",
     "text": [
      "R squared training set 0.87\n",
      "R squared test set 0.87\n",
      "MSE training set 0.01072\n",
      "MSE test set 0.01033\n"
     ]
    },
    {
     "data": {
      "application/javascript": [
       "\n",
       "            setTimeout(function() {\n",
       "                var nbb_cell_id = 49;\n",
       "                var nbb_unformatted_code = \"# Lasso Regression\\nwarnings.filterwarnings(\\\"ignore\\\")  # Warnings about using iloc\\n\\nX_train, X_test, y_train, y_test = train_test_split(\\n    X, y, test_size=0.2, random_state=10\\n)\\n\\n# Standardize Values\\nscaler = StandardScaler().fit(X_train[list_numerical])\\nX_train[list_numerical] = scaler.transform(X_train[list_numerical])\\nX_test[list_numerical] = scaler.transform(X_test[list_numerical])\\n\\n# Fitting LASSO Model\\nreg = Lasso(alpha=0.05)\\nreg.fit(X_train, y_train)\\n\\n# Measures of Accuracy\\nprint(\\\"R squared training set\\\", round(reg.score(X_train, y_train), 2))\\nprint(\\\"R squared test set\\\", round(reg.score(X_test, y_test), 2))\\n\\n# Training data\\npred_train = reg.predict(X_train)\\nmse_train = mean_squared_error(y_train, pred_train)\\nprint(\\\"MSE training set\\\", round(mse_train, 5))\\n\\n# Test data\\npred = reg.predict(X_test)\\nmse_test = mean_squared_error(y_test, pred)\\nprint(\\\"MSE test set\\\", round(mse_test, 5))\";\n",
       "                var nbb_formatted_code = \"# Lasso Regression\\nwarnings.filterwarnings(\\\"ignore\\\")  # Warnings about using iloc\\n\\nX_train, X_test, y_train, y_test = train_test_split(\\n    X, y, test_size=0.2, random_state=10\\n)\\n\\n# Standardize Values\\nscaler = StandardScaler().fit(X_train[list_numerical])\\nX_train[list_numerical] = scaler.transform(X_train[list_numerical])\\nX_test[list_numerical] = scaler.transform(X_test[list_numerical])\\n\\n# Fitting LASSO Model\\nreg = Lasso(alpha=0.05)\\nreg.fit(X_train, y_train)\\n\\n# Measures of Accuracy\\nprint(\\\"R squared training set\\\", round(reg.score(X_train, y_train), 2))\\nprint(\\\"R squared test set\\\", round(reg.score(X_test, y_test), 2))\\n\\n# Training data\\npred_train = reg.predict(X_train)\\nmse_train = mean_squared_error(y_train, pred_train)\\nprint(\\\"MSE training set\\\", round(mse_train, 5))\\n\\n# Test data\\npred = reg.predict(X_test)\\nmse_test = mean_squared_error(y_test, pred)\\nprint(\\\"MSE test set\\\", round(mse_test, 5))\";\n",
       "                var nbb_cells = Jupyter.notebook.get_cells();\n",
       "                for (var i = 0; i < nbb_cells.length; ++i) {\n",
       "                    if (nbb_cells[i].input_prompt_number == nbb_cell_id) {\n",
       "                        if (nbb_cells[i].get_text() == nbb_unformatted_code) {\n",
       "                             nbb_cells[i].set_text(nbb_formatted_code);\n",
       "                        }\n",
       "                        break;\n",
       "                    }\n",
       "                }\n",
       "            }, 500);\n",
       "            "
      ],
      "text/plain": [
       "<IPython.core.display.Javascript object>"
      ]
     },
     "metadata": {},
     "output_type": "display_data"
    }
   ],
   "source": [
    "# Lasso Regression\n",
    "warnings.filterwarnings(\"ignore\")  # Warnings about using iloc\n",
    "\n",
    "X_train, X_test, y_train, y_test = train_test_split(\n",
    "    X, y, test_size=0.2, random_state=10\n",
    ")\n",
    "\n",
    "# Standardize Values\n",
    "scaler = StandardScaler().fit(X_train[list_numerical])\n",
    "X_train[list_numerical] = scaler.transform(X_train[list_numerical])\n",
    "X_test[list_numerical] = scaler.transform(X_test[list_numerical])\n",
    "\n",
    "# Fitting LASSO Model\n",
    "reg = Lasso(alpha=0.05)\n",
    "reg.fit(X_train, y_train)\n",
    "\n",
    "# Measures of Accuracy\n",
    "print(\"R squared training set\", round(reg.score(X_train, y_train), 2))\n",
    "print(\"R squared test set\", round(reg.score(X_test, y_test), 2))\n",
    "\n",
    "# Training data\n",
    "pred_train = reg.predict(X_train)\n",
    "mse_train = mean_squared_error(y_train, pred_train)\n",
    "print(\"MSE training set\", round(mse_train, 5))\n",
    "\n",
    "# Test data\n",
    "pred = reg.predict(X_test)\n",
    "mse_test = mean_squared_error(y_test, pred)\n",
    "print(\"MSE test set\", round(mse_test, 5))"
   ]
  },
  {
   "cell_type": "code",
   "execution_count": 50,
   "id": "f86cc4cd",
   "metadata": {},
   "outputs": [
    {
     "data": {
      "application/vnd.plotly.v1+json": {
       "config": {
        "plotlyServerURL": "https://plot.ly"
       },
       "data": [
        {
         "hovertemplate": "x=%{x}<br>index=%{y}<extra></extra>",
         "legendgroup": "",
         "marker": {
          "color": "#636efa",
          "symbol": "circle"
         },
         "mode": "markers",
         "name": "",
         "orientation": "h",
         "showlegend": false,
         "type": "scatter",
         "x": [
          0.24672643665459693,
          0.38754483954872754,
          0.4852200737092575,
          0.627501023975794,
          0.8835263801161249,
          0.37653475787395213,
          0.4209521903304636,
          0.7352165775052335,
          0.8604839656982192,
          0.5649288614106676,
          0.9096779309309482,
          0.16242459833444267,
          0.16131975054782183,
          0.40071262726761325,
          0.5343289166494599,
          0.2894050836749117,
          0.5939985565281972,
          0.37962751990072396,
          0.23515239083350042,
          0.6953489868340512,
          0.5544327441928079,
          0.0976179045834113,
          0.41475554487341343,
          0.32960648233537826,
          0.875434403187227,
          0.9365734967359091,
          0.32324252320829633,
          0.6684516950225174,
          0.7979138389815978,
          0.15994720408046964,
          0.7755808645399447,
          0.7946824195591732,
          0.7312208828415696,
          0.9491779177032185,
          0.7816462659806434,
          0.5902971925197968,
          0.6547634751934885,
          0.2610551353355276,
          0.6481768035112022,
          0.6382748470448143,
          0.32977263995100026,
          0.707411094455902,
          0.6903363905531132,
          0.7443429400111927,
          0.680023436438814,
          0.560571595175666,
          0.6096969829918439,
          0.39810793757342,
          0.2522770536753077,
          0.1770008107308253,
          0.4028694823147714,
          0.3792065725494296,
          0.1186298433562884,
          0.25912930469110745,
          0.41173867666693775,
          0.9487100995221185,
          0.16725851254599894,
          0.4923021603785313,
          0.3769542888110775,
          0.7332159996625082,
          0.37723006924908403,
          0.7902713623885088,
          0.6015861738430107,
          0.5884890127699755,
          0.2670040092096083,
          0.47394094498027606,
          0.8355633794578923,
          0.6197232957699194,
          0.7087292725676538,
          0.6305954098370257,
          0.482946006012364,
          0.533921793769865,
          0.43857464223776876,
          0.19817933740730626,
          0.6031234329609427,
          0.8743727187042168,
          0.84746879484769,
          0.3781722736927207,
          0.32137401796697695,
          0.306962984942859,
          0.5334442502823226,
          0.42294066494404253,
          0.4700359035796118,
          0.27320419532589824,
          0.5182268384519245,
          0.41946080971912564,
          0.4255975992142811,
          0.4959301342828876,
          0.658368741297394,
          0.4264756291125276,
          0.6490919618330805,
          0.2816069246747584,
          0.7469432472938319,
          0.2820844807348718,
          0.6651343625995828,
          0.5856326734075804,
          0.17429800271896712,
          0.7321933661528298,
          0.193559123400943,
          0.3006876039928149,
          0.568019742417761,
          0.2064950437443832,
          0.5662915824706971,
          0.29622430202725103,
          0.6971307458934577,
          0.3281747585329906,
          0.6394092434321963,
          0.41700691418920716,
          0.4928423044603897,
          0.2291834738878909,
          0.4525747697314507,
          0.522238669692081,
          0.5777145502233794,
          0.3737109035304772,
          0.5355607207434392,
          0.3303392277669973,
          0.5154054868551801,
          0.43429313579276857,
          0.40376893932223235,
          0.5215193329249858,
          0.21243865239432236,
          0.1634973885196302,
          0.5034362367211753,
          0.3265169155062093,
          0.4830072859649571,
          0.5993786877335358,
          0.4986763869451966,
          0.35338845888644455,
          0.7667638321897565,
          0.8234036256441861,
          0.5687393777136349,
          0.054702804899529056,
          0.35961475584708447,
          0.2330813174730606,
          0.1687931068805792,
          0.7976861078067135,
          0.5716187399360234,
          0.46186866824219847,
          0.24777794366632577,
          0.7048378968709099,
          0.5554920784140394,
          0.6978836329260634,
          0.7610997443965772,
          0.2902568306557283,
          0.40633031246314444,
          0.35545739776567997,
          0.4968496290928225,
          0.8695782822002721,
          0.960892010082643,
          0.49281488343099716,
          0.3702269912783793,
          0.761280531040792,
          0.34524227938911006,
          0.1622395528511309,
          0.39144838437748186,
          0.31590836499816877,
          0.7947204702368693,
          0.6157884562177486,
          0.7654592354207366,
          0.6032074630383808,
          0.7548274894844134,
          0.20999049861409141,
          0.4243036268893979,
          0.3946859691595477,
          0.2667184756881332,
          0.28177760573048893,
          0.760478863812537,
          0.4484717800284705,
          0.6116846996069895,
          0.7670784575609438,
          0.47175557437215915,
          0.4044177388003337,
          0.6056348690886478,
          0.44055649820602893,
          0.23853285534420277,
          0.7073600878343366,
          0.5390101418362663,
          0.4852757453956046,
          0.5576876401186381,
          0.5295358899279663,
          0.527455252458831,
          0.5485771869265543,
          0.7797392734616753,
          0.541157135557533,
          0.3938012555860125,
          0.22306319067271063,
          0.9204104242478112,
          0.2463751051764365,
          0.14709110513619023,
          0.7868843704037451,
          0.7408327448122016,
          0.6609699355030907,
          0.8953308331331107,
          0.7998104177624352,
          0.49407101233842415,
          0.5767444476988711,
          0.7782266517352138,
          0.49102814058199623,
          0.5053874162339473,
          0.7721063412491912,
          0.2068204447004645,
          0.48336636436624053,
          0.6821550677334953,
          0.19606538601711965,
          0.7793893989843175,
          0.14118027926534144,
          0.541171075775246,
          0.1625689739301096,
          0.27388055338424666,
          0.5050296485104291,
          0.47470573574906616,
          0.27094177996653734,
          0.45410968709950544,
          0.6751443944428137,
          0.3778293906171285,
          0.2889655129655777,
          0.7573580856754516,
          0.5553117567052187,
          0.24951859323660214,
          0.15123089055108385,
          0.5177260581620599,
          0.37601217396871167,
          0.653376637824962,
          0.6268728890871056,
          0.19049005437207361,
          0.29989443405717603,
          0.4132728398998189,
          0.4969930702560389,
          0.5350519972882704,
          0.8546317686884276,
          0.49309886669496794,
          0.6971847523922685,
          0.30113153324207326,
          0.4396839368876514,
          0.4238350913175113,
          0.5563314137541724,
          0.7891770413534598,
          0.6544934573327045,
          0.2610851716965944,
          0.5581142636251294,
          0.5498878022750868,
          0.5804870082302636,
          0.3723043947715051,
          0.7827191825042965,
          0.15663368382407689,
          0.724716841199136,
          0.3765070268880283,
          0.6066778309737492,
          0.7762850638722717,
          0.5070952221628509,
          0.7334518519144353,
          0.6001838598070317,
          0.7548755030819345,
          0.31825123636017777,
          0.7339014680854811,
          0.814991365469758,
          0.5788578775888994,
          0.4401700593947762,
          0.5282524244784305,
          0.14862882763461288,
          0.6325643070656223,
          0.6577330098193878,
          0.6056843190286583,
          0.2745627095730307,
          0.5603563584507869,
          0.7601288023667193,
          0.9641155270093825,
          0.6551195312157957,
          0.683564401595973,
          0.4594950302672769,
          0.4666956266700506,
          0.3308443919466354,
          0.45676771854359993,
          0.718249561555803,
          0.6076443771368537,
          0.6884112889696795,
          0.5544548650333696,
          0.23572929771430906,
          0.3139897642462559,
          0.3579073471884575,
          0.7234362761966826,
          0.3603145698352218,
          0.7308421551481029,
          0.15163030859247711,
          0.5737921649949294,
          0.6072455320528589,
          0.7913065408535487,
          0.44882503479227037,
          0.592776822714906,
          0.5556876725393373,
          0.4380176232135104,
          0.2635366781288099,
          0.5607247259782318,
          0.8231861372308498,
          0.516348489403332,
          0.40020736370835597,
          0.5755442052778947,
          0.5984575363480715,
          0.4705944843909264,
          0.25134262287757203,
          0.7450359479117449,
          0.11655617579376198,
          0.536261108730895,
          0.3654834308124247,
          0.5869718050059105,
          0.08857479538630247,
          0.4613983153774645,
          0.44145190794495986,
          0.5775048698643863,
          0.44297537903889733,
          0.6131854871283106,
          0.289884069642923,
          0.8650485385746538,
          0.2265697026289502,
          0.6093711852729568,
          0.23914136586525064,
          0.9262278088727635,
          0.8522562757666823,
          0.6419732529687546,
          0.8156489177739921,
          0.4194732269436575,
          0.5335679498576922,
          0.19861622879453,
          0.7173372112646108,
          0.948832139904213,
          0.42346067361067957,
          0.3605787358921022,
          0.6012043071339386,
          0.5041193909908512,
          0.8888308505528588,
          0.4067679456461951,
          0.25248001079329196,
          0.8567713045106213,
          0.19862152118890453,
          0.7941107038784976,
          0.2950632774826356,
          0.540773391430865,
          0.1415372650273906,
          0.7025589400317562,
          0.32973791043024564,
          0.3196344764315555,
          0.3224950390110598,
          0.7097616696644891,
          0.43478991696113944,
          0.5791918426519961,
          0.648638545076078,
          0.5986093644259218,
          0.0963088495868562,
          0.34532630827368405,
          0.7819861010879683,
          0.2989268933339621,
          0.32852332601473355,
          0.5392488460751717,
          0.7581172318674123,
          0.3211837578034744,
          0.583604521082385,
          0.8738412376879687,
          0.5478314985011126,
          0.5488386453650063,
          0.16729038704042482,
          0.6150458361460659,
          0.5914457334552939,
          0.8351377418008873,
          0.38628952135087025,
          0.16830338707870257,
          0.21567840601273397,
          0.20750465541097535,
          0.3906072845413668,
          0.7347090188839274,
          0.6143074364493563,
          0.9519949540144419,
          0.5163408399104569,
          0.7335099672918166,
          0.7856589302017333,
          0.718345771343879,
          0.38827980510892834,
          0.19554347371629016,
          0.30109903836447804,
          0.3912705390983674,
          0.17309585167037939,
          0.24299223627203032,
          0.18685850494839668,
          0.5776978291315328,
          0.2908248803400167,
          0.31993545240812404,
          0.3530181271940316,
          0.5025058361176512,
          0.17935775167331608,
          0.9646238494948793,
          0.23969058534043347,
          0.5431833427454237,
          0.4430828759417162,
          0.6171582722352214,
          0.2732254094897527,
          0.8650297606741444,
          0.524263903664422,
          0.2753827817600993,
          0.3204997950180679,
          0.6436417324788946,
          0.6997288100163698,
          0.29591475398909095,
          0.8401436037035844,
          0.19960332968575334,
          0.3988224905739412,
          0.28663843668423894,
          0.7085827613135021,
          0.45307570294337773,
          0.6246587574747874,
          0.47990379906137065,
          0.4248368594642691,
          0.3209016245066175,
          0.7324946232591543,
          0.5826993574217773,
          0.4827627989418298,
          0.3823204564177518,
          0.5795055031522289,
          0.28934885403920413,
          0.5113037037997878,
          0.7860185644898864,
          0.27666369679858116,
          0.7620620252888819,
          0.6618299478244334,
          0.4550523024788563,
          0.4180396284135942,
          0.2983550919216719,
          0.36856443118654253,
          0.4366707119196337,
          0.3753952696148811,
          0.7796082727580438,
          0.7150227347562843,
          0.5574609294816787,
          0.18971600704098474,
          0.7039726231462369,
          0.2760155558066629,
          0.6760246727484867,
          0.21322977701422663,
          0.533648941753508,
          0.41817374301847143,
          0.6184893215568319,
          0.42527463851694364,
          0.595912429984698,
          0.2708721608777078,
          0.5270307094668989,
          0.21118081072860279,
          0.6773650036147394,
          0.748654088972537,
          0.6783626659538468,
          0.5275559264292845,
          0.7368404345739157,
          0.31866810504601417,
          0.22192760958326735,
          0.26218262216815413,
          0.574024397827008,
          0.5833406493230392,
          0.19484637475589056,
          0.80322406625122,
          0.47167747554661915,
          0.24180978038955875,
          0.7682826650338159,
          0.7470430011913635,
          0.40028014681675017,
          0.7983569346414267,
          0.9168583036036388,
          0.4694108201090357,
          0.24012845283737588,
          0.36150746855093024,
          0.7564589956528229,
          0.4526779684313922,
          0.35857520016452743,
          0.4401151734677644,
          0.15050407978085856,
          0.7787867010501865,
          0.3636042245745521,
          0.7516560552932182,
          0.6680593410737836,
          0.5881602485793046,
          0.6359891147333873,
          0.388768948525579,
          0.6861118042096221,
          0.8439556743366446,
          0.7686122310916608,
          0.2129520616562291,
          0.40670824510711723,
          0.5465179070273496,
          0.2949792279837559,
          0.27395587066264493,
          0.4197616585183497,
          0.6456996509251448,
          0.3716351613367749,
          0.8622672406216461,
          0.5973849648385333,
          0.7333375648692,
          0.4340029348377125,
          0.5531423025450154,
          0.19415482415490626,
          0.4069192876155426,
          0.3330272230433562,
          0.9228817606753215,
          0.903511506147572,
          0.898668562150634,
          0.9636224416922404,
          0.8130824411799318,
          0.2923796374138428,
          0.47407039252285554,
          0.7042690094730797,
          0.6890854844012835,
          0.5839058143172255,
          0.4258740718512791,
          0.2021688333309251,
          0.6964179742201541,
          0.3017314253046204,
          0.5049636164647971,
          0.3244361750846695,
          0.5591243887349822,
          0.7612303430201908,
          0.8237413248493385,
          0.6236311708370668,
          0.4344479050911413,
          0.7976941928859966,
          0.6450661483726386,
          0.659223885167145,
          0.7364652427204581,
          0.47562636595643043,
          0.3922452527759578,
          0.9072387543840359,
          0.8619464892596669,
          0.2477871066219886,
          0.5119026939277534,
          0.7355070100513357,
          0.5418400327923709,
          0.5252970529528264,
          0.26626015313321205,
          0.8283784679132701,
          0.2554123489205168,
          0.6879968256794391,
          0.5713036001521641,
          0.21719101671340224,
          0.6309082071256262,
          0.618672208422059,
          0.8148364754673753,
          0.7308658376598567,
          0.6629298890645149,
          0.5748833378423897,
          0.182130074564878,
          0.44109489131044294,
          0.398792216631544,
          0.11840762730353205,
          0.8078566883097258,
          0.40288960772721866,
          0.43160563093590465,
          0.2980117059864506,
          0.8306173937957215,
          0.4096319900758069,
          0.21202757906464614,
          0.4603353853019949,
          0.711869666810709,
          0.1943572868968863,
          0.6183719765494295,
          0.12414953217736385,
          0.39449633882518104,
          0.7399919614025259,
          0.17550842682674034,
          0.5958169996949563,
          0.45207330812179997,
          0.5877182894227754,
          0.6148142934664458,
          0.590348112917726,
          0.5882866433788251,
          0.45267506619444053,
          0.3775599317622231,
          0.791595659116062,
          0.7047386387596487,
          0.5321015065403317,
          0.7918762502924699,
          0.21931811103649634,
          0.5449486705749013,
          0.3121706217356421,
          0.42784802489141355,
          0.2363616055705498,
          0.6163939707879205,
          0.4121610269366379,
          0.6527502308257658,
          0.4734377936501477,
          0.13304523813708502,
          0.14345249285812522,
          0.4368090990137632,
          0.41546626328538777,
          0.6316784769048602,
          0.425920278505776,
          0.21103074113530113,
          0.32899815019752304,
          0.6542355590577471,
          0.08943210956523368,
          0.5593544372707366,
          0.1409053473924834,
          0.42999923018522646,
          0.4415605070753691,
          0.5617619309949407,
          0.21557003436090633,
          0.5374763107447752,
          0.3914486853525797,
          0.5395751607751607,
          0.5005701600017066,
          0.7288225146973386,
          0.6747990522348712,
          0.7049221898931474,
          0.30694204460936236,
          0.20413631195750676,
          0.25756937993101936,
          0.6312506345665552,
          0.5128135498796881,
          0.3743014574110759,
          0.23453021990617245,
          0.6814518741557841,
          0.5494331268948606,
          0.35755681588534516,
          0.4429309266747994,
          0.604557937500716,
          0.3659938705143749,
          0.477313164293141,
          0.6734419773930048,
          0.376741630427541,
          0.7766770746635532,
          0.6918744287089285,
          0.7675155208399973,
          0.6146878792976981,
          0.7868196778913761,
          0.545726313875992,
          0.1700786201216264
         ],
         "xaxis": "x",
         "y": [
          2830,
          2088,
          25,
          1122,
          108,
          820,
          3039,
          1951,
          1126,
          1523,
          2577,
          2397,
          2407,
          349,
          2748,
          613,
          2433,
          1276,
          1506,
          2194,
          582,
          1632,
          579,
          855,
          2475,
          1432,
          1316,
          2489,
          56,
          964,
          2877,
          17,
          1822,
          2767,
          410,
          1284,
          2717,
          275,
          2757,
          2660,
          2936,
          1094,
          2842,
          245,
          1805,
          1191,
          326,
          1307,
          3083,
          2122,
          762,
          1330,
          1667,
          2817,
          2304,
          2369,
          2386,
          2228,
          1888,
          1475,
          1234,
          497,
          2720,
          2363,
          3050,
          2687,
          539,
          1436,
          2403,
          2090,
          1836,
          101,
          1489,
          1382,
          130,
          1472,
          2131,
          922,
          2777,
          2807,
          1076,
          1320,
          2686,
          1674,
          588,
          2325,
          2118,
          556,
          2995,
          822,
          219,
          929,
          29,
          2129,
          37,
          1528,
          2806,
          1102,
          842,
          1775,
          454,
          863,
          1576,
          803,
          2179,
          3064,
          2175,
          1124,
          241,
          565,
          2955,
          2563,
          1033,
          908,
          2073,
          2365,
          614,
          1885,
          228,
          2083,
          1631,
          1199,
          756,
          2025,
          1242,
          1921,
          2783,
          549,
          2566,
          1409,
          1263,
          1728,
          860,
          216,
          290,
          520,
          278,
          353,
          2821,
          2550,
          2488,
          493,
          2879,
          263,
          1417,
          437,
          1178,
          343,
          1426,
          1219,
          264,
          1149,
          1756,
          2096,
          887,
          2117,
          145,
          2730,
          2725,
          1297,
          2161,
          1353,
          850,
          1112,
          2097,
          2865,
          176,
          2286,
          1918,
          236,
          330,
          2597,
          2634,
          1833,
          1319,
          2835,
          2752,
          2275,
          2202,
          1570,
          1894,
          2548,
          235,
          775,
          1679,
          2967,
          2376,
          2923,
          1731,
          2710,
          24,
          3001,
          42,
          1451,
          1396,
          2930,
          1196,
          322,
          1960,
          510,
          2264,
          1644,
          372,
          1787,
          404,
          3054,
          2684,
          1348,
          3055,
          2895,
          893,
          628,
          890,
          1892,
          2262,
          805,
          2554,
          1065,
          1394,
          1085,
          1022,
          781,
          1035,
          2624,
          828,
          2887,
          792,
          345,
          427,
          1966,
          282,
          2514,
          601,
          1257,
          3009,
          1012,
          420,
          1844,
          2568,
          148,
          230,
          2190,
          707,
          1156,
          593,
          2585,
          865,
          181,
          485,
          1870,
          1090,
          1572,
          1936,
          1707,
          1152,
          2562,
          1049,
          213,
          1831,
          1996,
          2072,
          2674,
          2949,
          1678,
          1826,
          1080,
          2586,
          742,
          1223,
          912,
          1003,
          2003,
          2338,
          1815,
          163,
          212,
          640,
          2789,
          648,
          530,
          543,
          2211,
          2579,
          1351,
          1928,
          2998,
          1600,
          729,
          2512,
          1437,
          1809,
          1776,
          815,
          2852,
          892,
          1064,
          495,
          210,
          2939,
          616,
          1444,
          2005,
          2135,
          2241,
          705,
          1723,
          3029,
          2971,
          937,
          2600,
          2520,
          3078,
          95,
          2085,
          449,
          1205,
          1476,
          528,
          2523,
          1983,
          1591,
          2975,
          2013,
          2223,
          2588,
          2480,
          365,
          134,
          2171,
          1166,
          3007,
          2157,
          332,
          2258,
          1851,
          90,
          85,
          2038,
          1529,
          957,
          2245,
          2885,
          1042,
          2485,
          2726,
          28,
          66,
          2391,
          1266,
          1114,
          1598,
          2031,
          1010,
          2351,
          1934,
          2856,
          1980,
          1534,
          1907,
          1608,
          2479,
          51,
          2755,
          1371,
          788,
          1485,
          1331,
          1318,
          2170,
          107,
          1145,
          968,
          1804,
          1941,
          1055,
          1886,
          1558,
          1377,
          2206,
          1770,
          3065,
          798,
          183,
          720,
          296,
          2986,
          2613,
          2883,
          81,
          1365,
          928,
          2347,
          2486,
          194,
          256,
          1581,
          2713,
          1398,
          3041,
          1456,
          2808,
          2580,
          831,
          1082,
          2816,
          1760,
          3100,
          3002,
          638,
          1652,
          1274,
          1014,
          1582,
          965,
          1841,
          1305,
          1378,
          688,
          1418,
          1272,
          1163,
          1050,
          1099,
          669,
          2367,
          2266,
          2167,
          2126,
          1823,
          1947,
          3067,
          311,
          2499,
          801,
          1248,
          1736,
          174,
          2059,
          1129,
          621,
          2319,
          1235,
          2076,
          277,
          1755,
          1057,
          2326,
          341,
          64,
          270,
          1768,
          1286,
          2932,
          1141,
          835,
          2458,
          2236,
          3128,
          1808,
          2336,
          1355,
          1005,
          1462,
          2769,
          2522,
          1314,
          333,
          814,
          980,
          2374,
          1999,
          196,
          1400,
          2138,
          3035,
          2997,
          2191,
          188,
          2556,
          1018,
          1597,
          57,
          2119,
          2598,
          2244,
          1727,
          2361,
          2906,
          363,
          1931,
          2498,
          1019,
          1177,
          33,
          442,
          839,
          2410,
          342,
          1929,
          2659,
          1812,
          2991,
          2974,
          1144,
          2493,
          3036,
          1914,
          2284,
          2890,
          8,
          3129,
          2173,
          2388,
          2494,
          2188,
          507,
          1925,
          359,
          1937,
          2603,
          140,
          1910,
          2596,
          2561,
          1440,
          110,
          1352,
          857,
          147,
          2973,
          2825,
          1854,
          1146,
          737,
          2833,
          2843,
          1357,
          2519,
          2060,
          382,
          2615,
          2541,
          1046,
          2419,
          2500,
          691,
          2094,
          1779,
          329,
          1878,
          1212,
          1987,
          371,
          1650,
          1919,
          1155,
          1703,
          1553,
          807,
          2182,
          1594,
          984,
          1531,
          68,
          1493,
          2483,
          1036,
          1295,
          2947,
          324,
          373,
          2864,
          778,
          2675,
          703,
          470,
          924,
          3003,
          1227,
          27,
          306,
          2612,
          1605,
          1392,
          986,
          1186,
          739,
          799,
          2549,
          379,
          1518,
          2429,
          1659,
          16,
          1685,
          898,
          2288,
          2222,
          1695,
          2690,
          1796,
          302,
          2847,
          1160,
          1441,
          2707,
          2123,
          945,
          2528,
          1408,
          1630,
          2608,
          1725,
          1150,
          2651,
          1752,
          1264,
          1557,
          548,
          764,
          2434,
          2929,
          423,
          2159,
          1356,
          169,
          1807,
          2990,
          955
         ],
         "yaxis": "y"
        }
       ],
       "layout": {
        "legend": {
         "tracegroupgap": 0
        },
        "margin": {
         "t": 60
        },
        "template": {
         "data": {
          "bar": [
           {
            "error_x": {
             "color": "#2a3f5f"
            },
            "error_y": {
             "color": "#2a3f5f"
            },
            "marker": {
             "line": {
              "color": "#E5ECF6",
              "width": 0.5
             },
             "pattern": {
              "fillmode": "overlay",
              "size": 10,
              "solidity": 0.2
             }
            },
            "type": "bar"
           }
          ],
          "barpolar": [
           {
            "marker": {
             "line": {
              "color": "#E5ECF6",
              "width": 0.5
             },
             "pattern": {
              "fillmode": "overlay",
              "size": 10,
              "solidity": 0.2
             }
            },
            "type": "barpolar"
           }
          ],
          "carpet": [
           {
            "aaxis": {
             "endlinecolor": "#2a3f5f",
             "gridcolor": "white",
             "linecolor": "white",
             "minorgridcolor": "white",
             "startlinecolor": "#2a3f5f"
            },
            "baxis": {
             "endlinecolor": "#2a3f5f",
             "gridcolor": "white",
             "linecolor": "white",
             "minorgridcolor": "white",
             "startlinecolor": "#2a3f5f"
            },
            "type": "carpet"
           }
          ],
          "choropleth": [
           {
            "colorbar": {
             "outlinewidth": 0,
             "ticks": ""
            },
            "type": "choropleth"
           }
          ],
          "contour": [
           {
            "colorbar": {
             "outlinewidth": 0,
             "ticks": ""
            },
            "colorscale": [
             [
              0,
              "#0d0887"
             ],
             [
              0.1111111111111111,
              "#46039f"
             ],
             [
              0.2222222222222222,
              "#7201a8"
             ],
             [
              0.3333333333333333,
              "#9c179e"
             ],
             [
              0.4444444444444444,
              "#bd3786"
             ],
             [
              0.5555555555555556,
              "#d8576b"
             ],
             [
              0.6666666666666666,
              "#ed7953"
             ],
             [
              0.7777777777777778,
              "#fb9f3a"
             ],
             [
              0.8888888888888888,
              "#fdca26"
             ],
             [
              1,
              "#f0f921"
             ]
            ],
            "type": "contour"
           }
          ],
          "contourcarpet": [
           {
            "colorbar": {
             "outlinewidth": 0,
             "ticks": ""
            },
            "type": "contourcarpet"
           }
          ],
          "heatmap": [
           {
            "colorbar": {
             "outlinewidth": 0,
             "ticks": ""
            },
            "colorscale": [
             [
              0,
              "#0d0887"
             ],
             [
              0.1111111111111111,
              "#46039f"
             ],
             [
              0.2222222222222222,
              "#7201a8"
             ],
             [
              0.3333333333333333,
              "#9c179e"
             ],
             [
              0.4444444444444444,
              "#bd3786"
             ],
             [
              0.5555555555555556,
              "#d8576b"
             ],
             [
              0.6666666666666666,
              "#ed7953"
             ],
             [
              0.7777777777777778,
              "#fb9f3a"
             ],
             [
              0.8888888888888888,
              "#fdca26"
             ],
             [
              1,
              "#f0f921"
             ]
            ],
            "type": "heatmap"
           }
          ],
          "heatmapgl": [
           {
            "colorbar": {
             "outlinewidth": 0,
             "ticks": ""
            },
            "colorscale": [
             [
              0,
              "#0d0887"
             ],
             [
              0.1111111111111111,
              "#46039f"
             ],
             [
              0.2222222222222222,
              "#7201a8"
             ],
             [
              0.3333333333333333,
              "#9c179e"
             ],
             [
              0.4444444444444444,
              "#bd3786"
             ],
             [
              0.5555555555555556,
              "#d8576b"
             ],
             [
              0.6666666666666666,
              "#ed7953"
             ],
             [
              0.7777777777777778,
              "#fb9f3a"
             ],
             [
              0.8888888888888888,
              "#fdca26"
             ],
             [
              1,
              "#f0f921"
             ]
            ],
            "type": "heatmapgl"
           }
          ],
          "histogram": [
           {
            "marker": {
             "pattern": {
              "fillmode": "overlay",
              "size": 10,
              "solidity": 0.2
             }
            },
            "type": "histogram"
           }
          ],
          "histogram2d": [
           {
            "colorbar": {
             "outlinewidth": 0,
             "ticks": ""
            },
            "colorscale": [
             [
              0,
              "#0d0887"
             ],
             [
              0.1111111111111111,
              "#46039f"
             ],
             [
              0.2222222222222222,
              "#7201a8"
             ],
             [
              0.3333333333333333,
              "#9c179e"
             ],
             [
              0.4444444444444444,
              "#bd3786"
             ],
             [
              0.5555555555555556,
              "#d8576b"
             ],
             [
              0.6666666666666666,
              "#ed7953"
             ],
             [
              0.7777777777777778,
              "#fb9f3a"
             ],
             [
              0.8888888888888888,
              "#fdca26"
             ],
             [
              1,
              "#f0f921"
             ]
            ],
            "type": "histogram2d"
           }
          ],
          "histogram2dcontour": [
           {
            "colorbar": {
             "outlinewidth": 0,
             "ticks": ""
            },
            "colorscale": [
             [
              0,
              "#0d0887"
             ],
             [
              0.1111111111111111,
              "#46039f"
             ],
             [
              0.2222222222222222,
              "#7201a8"
             ],
             [
              0.3333333333333333,
              "#9c179e"
             ],
             [
              0.4444444444444444,
              "#bd3786"
             ],
             [
              0.5555555555555556,
              "#d8576b"
             ],
             [
              0.6666666666666666,
              "#ed7953"
             ],
             [
              0.7777777777777778,
              "#fb9f3a"
             ],
             [
              0.8888888888888888,
              "#fdca26"
             ],
             [
              1,
              "#f0f921"
             ]
            ],
            "type": "histogram2dcontour"
           }
          ],
          "mesh3d": [
           {
            "colorbar": {
             "outlinewidth": 0,
             "ticks": ""
            },
            "type": "mesh3d"
           }
          ],
          "parcoords": [
           {
            "line": {
             "colorbar": {
              "outlinewidth": 0,
              "ticks": ""
             }
            },
            "type": "parcoords"
           }
          ],
          "pie": [
           {
            "automargin": true,
            "type": "pie"
           }
          ],
          "scatter": [
           {
            "marker": {
             "colorbar": {
              "outlinewidth": 0,
              "ticks": ""
             }
            },
            "type": "scatter"
           }
          ],
          "scatter3d": [
           {
            "line": {
             "colorbar": {
              "outlinewidth": 0,
              "ticks": ""
             }
            },
            "marker": {
             "colorbar": {
              "outlinewidth": 0,
              "ticks": ""
             }
            },
            "type": "scatter3d"
           }
          ],
          "scattercarpet": [
           {
            "marker": {
             "colorbar": {
              "outlinewidth": 0,
              "ticks": ""
             }
            },
            "type": "scattercarpet"
           }
          ],
          "scattergeo": [
           {
            "marker": {
             "colorbar": {
              "outlinewidth": 0,
              "ticks": ""
             }
            },
            "type": "scattergeo"
           }
          ],
          "scattergl": [
           {
            "marker": {
             "colorbar": {
              "outlinewidth": 0,
              "ticks": ""
             }
            },
            "type": "scattergl"
           }
          ],
          "scattermapbox": [
           {
            "marker": {
             "colorbar": {
              "outlinewidth": 0,
              "ticks": ""
             }
            },
            "type": "scattermapbox"
           }
          ],
          "scatterpolar": [
           {
            "marker": {
             "colorbar": {
              "outlinewidth": 0,
              "ticks": ""
             }
            },
            "type": "scatterpolar"
           }
          ],
          "scatterpolargl": [
           {
            "marker": {
             "colorbar": {
              "outlinewidth": 0,
              "ticks": ""
             }
            },
            "type": "scatterpolargl"
           }
          ],
          "scatterternary": [
           {
            "marker": {
             "colorbar": {
              "outlinewidth": 0,
              "ticks": ""
             }
            },
            "type": "scatterternary"
           }
          ],
          "surface": [
           {
            "colorbar": {
             "outlinewidth": 0,
             "ticks": ""
            },
            "colorscale": [
             [
              0,
              "#0d0887"
             ],
             [
              0.1111111111111111,
              "#46039f"
             ],
             [
              0.2222222222222222,
              "#7201a8"
             ],
             [
              0.3333333333333333,
              "#9c179e"
             ],
             [
              0.4444444444444444,
              "#bd3786"
             ],
             [
              0.5555555555555556,
              "#d8576b"
             ],
             [
              0.6666666666666666,
              "#ed7953"
             ],
             [
              0.7777777777777778,
              "#fb9f3a"
             ],
             [
              0.8888888888888888,
              "#fdca26"
             ],
             [
              1,
              "#f0f921"
             ]
            ],
            "type": "surface"
           }
          ],
          "table": [
           {
            "cells": {
             "fill": {
              "color": "#EBF0F8"
             },
             "line": {
              "color": "white"
             }
            },
            "header": {
             "fill": {
              "color": "#C8D4E3"
             },
             "line": {
              "color": "white"
             }
            },
            "type": "table"
           }
          ]
         },
         "layout": {
          "annotationdefaults": {
           "arrowcolor": "#2a3f5f",
           "arrowhead": 0,
           "arrowwidth": 1
          },
          "autotypenumbers": "strict",
          "coloraxis": {
           "colorbar": {
            "outlinewidth": 0,
            "ticks": ""
           }
          },
          "colorscale": {
           "diverging": [
            [
             0,
             "#8e0152"
            ],
            [
             0.1,
             "#c51b7d"
            ],
            [
             0.2,
             "#de77ae"
            ],
            [
             0.3,
             "#f1b6da"
            ],
            [
             0.4,
             "#fde0ef"
            ],
            [
             0.5,
             "#f7f7f7"
            ],
            [
             0.6,
             "#e6f5d0"
            ],
            [
             0.7,
             "#b8e186"
            ],
            [
             0.8,
             "#7fbc41"
            ],
            [
             0.9,
             "#4d9221"
            ],
            [
             1,
             "#276419"
            ]
           ],
           "sequential": [
            [
             0,
             "#0d0887"
            ],
            [
             0.1111111111111111,
             "#46039f"
            ],
            [
             0.2222222222222222,
             "#7201a8"
            ],
            [
             0.3333333333333333,
             "#9c179e"
            ],
            [
             0.4444444444444444,
             "#bd3786"
            ],
            [
             0.5555555555555556,
             "#d8576b"
            ],
            [
             0.6666666666666666,
             "#ed7953"
            ],
            [
             0.7777777777777778,
             "#fb9f3a"
            ],
            [
             0.8888888888888888,
             "#fdca26"
            ],
            [
             1,
             "#f0f921"
            ]
           ],
           "sequentialminus": [
            [
             0,
             "#0d0887"
            ],
            [
             0.1111111111111111,
             "#46039f"
            ],
            [
             0.2222222222222222,
             "#7201a8"
            ],
            [
             0.3333333333333333,
             "#9c179e"
            ],
            [
             0.4444444444444444,
             "#bd3786"
            ],
            [
             0.5555555555555556,
             "#d8576b"
            ],
            [
             0.6666666666666666,
             "#ed7953"
            ],
            [
             0.7777777777777778,
             "#fb9f3a"
            ],
            [
             0.8888888888888888,
             "#fdca26"
            ],
            [
             1,
             "#f0f921"
            ]
           ]
          },
          "colorway": [
           "#636efa",
           "#EF553B",
           "#00cc96",
           "#ab63fa",
           "#FFA15A",
           "#19d3f3",
           "#FF6692",
           "#B6E880",
           "#FF97FF",
           "#FECB52"
          ],
          "font": {
           "color": "#2a3f5f"
          },
          "geo": {
           "bgcolor": "white",
           "lakecolor": "white",
           "landcolor": "#E5ECF6",
           "showlakes": true,
           "showland": true,
           "subunitcolor": "white"
          },
          "hoverlabel": {
           "align": "left"
          },
          "hovermode": "closest",
          "mapbox": {
           "style": "light"
          },
          "paper_bgcolor": "white",
          "plot_bgcolor": "#E5ECF6",
          "polar": {
           "angularaxis": {
            "gridcolor": "white",
            "linecolor": "white",
            "ticks": ""
           },
           "bgcolor": "#E5ECF6",
           "radialaxis": {
            "gridcolor": "white",
            "linecolor": "white",
            "ticks": ""
           }
          },
          "scene": {
           "xaxis": {
            "backgroundcolor": "#E5ECF6",
            "gridcolor": "white",
            "gridwidth": 2,
            "linecolor": "white",
            "showbackground": true,
            "ticks": "",
            "zerolinecolor": "white"
           },
           "yaxis": {
            "backgroundcolor": "#E5ECF6",
            "gridcolor": "white",
            "gridwidth": 2,
            "linecolor": "white",
            "showbackground": true,
            "ticks": "",
            "zerolinecolor": "white"
           },
           "zaxis": {
            "backgroundcolor": "#E5ECF6",
            "gridcolor": "white",
            "gridwidth": 2,
            "linecolor": "white",
            "showbackground": true,
            "ticks": "",
            "zerolinecolor": "white"
           }
          },
          "shapedefaults": {
           "line": {
            "color": "#2a3f5f"
           }
          },
          "ternary": {
           "aaxis": {
            "gridcolor": "white",
            "linecolor": "white",
            "ticks": ""
           },
           "baxis": {
            "gridcolor": "white",
            "linecolor": "white",
            "ticks": ""
           },
           "bgcolor": "#E5ECF6",
           "caxis": {
            "gridcolor": "white",
            "linecolor": "white",
            "ticks": ""
           }
          },
          "title": {
           "x": 0.05
          },
          "xaxis": {
           "automargin": true,
           "gridcolor": "white",
           "linecolor": "white",
           "ticks": "",
           "title": {
            "standoff": 15
           },
           "zerolinecolor": "white",
           "zerolinewidth": 2
          },
          "yaxis": {
           "automargin": true,
           "gridcolor": "white",
           "linecolor": "white",
           "ticks": "",
           "title": {
            "standoff": 15
           },
           "zerolinecolor": "white",
           "zerolinewidth": 2
          }
         }
        },
        "xaxis": {
         "anchor": "y",
         "domain": [
          0,
          1
         ],
         "title": {
          "text": "x"
         }
        },
        "yaxis": {
         "anchor": "x",
         "domain": [
          0,
          1
         ],
         "title": {
          "text": "index"
         }
        }
       }
      },
      "text/html": [
       "<div>                            <div id=\"4e2f410f-d120-4cfd-a65b-e6d7a58f5b14\" class=\"plotly-graph-div\" style=\"height:525px; width:100%;\"></div>            <script type=\"text/javascript\">                require([\"plotly\"], function(Plotly) {                    window.PLOTLYENV=window.PLOTLYENV || {};                                    if (document.getElementById(\"4e2f410f-d120-4cfd-a65b-e6d7a58f5b14\")) {                    Plotly.newPlot(                        \"4e2f410f-d120-4cfd-a65b-e6d7a58f5b14\",                        [{\"hovertemplate\":\"x=%{x}<br>index=%{y}<extra></extra>\",\"legendgroup\":\"\",\"marker\":{\"color\":\"#636efa\",\"symbol\":\"circle\"},\"mode\":\"markers\",\"name\":\"\",\"orientation\":\"h\",\"showlegend\":false,\"x\":[0.24672643665459693,0.38754483954872754,0.4852200737092575,0.627501023975794,0.8835263801161249,0.37653475787395213,0.4209521903304636,0.7352165775052335,0.8604839656982192,0.5649288614106676,0.9096779309309482,0.16242459833444267,0.16131975054782183,0.40071262726761325,0.5343289166494599,0.2894050836749117,0.5939985565281972,0.37962751990072396,0.23515239083350042,0.6953489868340512,0.5544327441928079,0.0976179045834113,0.41475554487341343,0.32960648233537826,0.875434403187227,0.9365734967359091,0.32324252320829633,0.6684516950225174,0.7979138389815978,0.15994720408046964,0.7755808645399447,0.7946824195591732,0.7312208828415696,0.9491779177032185,0.7816462659806434,0.5902971925197968,0.6547634751934885,0.2610551353355276,0.6481768035112022,0.6382748470448143,0.32977263995100026,0.707411094455902,0.6903363905531132,0.7443429400111927,0.680023436438814,0.560571595175666,0.6096969829918439,0.39810793757342,0.2522770536753077,0.1770008107308253,0.4028694823147714,0.3792065725494296,0.1186298433562884,0.25912930469110745,0.41173867666693775,0.9487100995221185,0.16725851254599894,0.4923021603785313,0.3769542888110775,0.7332159996625082,0.37723006924908403,0.7902713623885088,0.6015861738430107,0.5884890127699755,0.2670040092096083,0.47394094498027606,0.8355633794578923,0.6197232957699194,0.7087292725676538,0.6305954098370257,0.482946006012364,0.533921793769865,0.43857464223776876,0.19817933740730626,0.6031234329609427,0.8743727187042168,0.84746879484769,0.3781722736927207,0.32137401796697695,0.306962984942859,0.5334442502823226,0.42294066494404253,0.4700359035796118,0.27320419532589824,0.5182268384519245,0.41946080971912564,0.4255975992142811,0.4959301342828876,0.658368741297394,0.4264756291125276,0.6490919618330805,0.2816069246747584,0.7469432472938319,0.2820844807348718,0.6651343625995828,0.5856326734075804,0.17429800271896712,0.7321933661528298,0.193559123400943,0.3006876039928149,0.568019742417761,0.2064950437443832,0.5662915824706971,0.29622430202725103,0.6971307458934577,0.3281747585329906,0.6394092434321963,0.41700691418920716,0.4928423044603897,0.2291834738878909,0.4525747697314507,0.522238669692081,0.5777145502233794,0.3737109035304772,0.5355607207434392,0.3303392277669973,0.5154054868551801,0.43429313579276857,0.40376893932223235,0.5215193329249858,0.21243865239432236,0.1634973885196302,0.5034362367211753,0.3265169155062093,0.4830072859649571,0.5993786877335358,0.4986763869451966,0.35338845888644455,0.7667638321897565,0.8234036256441861,0.5687393777136349,0.054702804899529056,0.35961475584708447,0.2330813174730606,0.1687931068805792,0.7976861078067135,0.5716187399360234,0.46186866824219847,0.24777794366632577,0.7048378968709099,0.5554920784140394,0.6978836329260634,0.7610997443965772,0.2902568306557283,0.40633031246314444,0.35545739776567997,0.4968496290928225,0.8695782822002721,0.960892010082643,0.49281488343099716,0.3702269912783793,0.761280531040792,0.34524227938911006,0.1622395528511309,0.39144838437748186,0.31590836499816877,0.7947204702368693,0.6157884562177486,0.7654592354207366,0.6032074630383808,0.7548274894844134,0.20999049861409141,0.4243036268893979,0.3946859691595477,0.2667184756881332,0.28177760573048893,0.760478863812537,0.4484717800284705,0.6116846996069895,0.7670784575609438,0.47175557437215915,0.4044177388003337,0.6056348690886478,0.44055649820602893,0.23853285534420277,0.7073600878343366,0.5390101418362663,0.4852757453956046,0.5576876401186381,0.5295358899279663,0.527455252458831,0.5485771869265543,0.7797392734616753,0.541157135557533,0.3938012555860125,0.22306319067271063,0.9204104242478112,0.2463751051764365,0.14709110513619023,0.7868843704037451,0.7408327448122016,0.6609699355030907,0.8953308331331107,0.7998104177624352,0.49407101233842415,0.5767444476988711,0.7782266517352138,0.49102814058199623,0.5053874162339473,0.7721063412491912,0.2068204447004645,0.48336636436624053,0.6821550677334953,0.19606538601711965,0.7793893989843175,0.14118027926534144,0.541171075775246,0.1625689739301096,0.27388055338424666,0.5050296485104291,0.47470573574906616,0.27094177996653734,0.45410968709950544,0.6751443944428137,0.3778293906171285,0.2889655129655777,0.7573580856754516,0.5553117567052187,0.24951859323660214,0.15123089055108385,0.5177260581620599,0.37601217396871167,0.653376637824962,0.6268728890871056,0.19049005437207361,0.29989443405717603,0.4132728398998189,0.4969930702560389,0.5350519972882704,0.8546317686884276,0.49309886669496794,0.6971847523922685,0.30113153324207326,0.4396839368876514,0.4238350913175113,0.5563314137541724,0.7891770413534598,0.6544934573327045,0.2610851716965944,0.5581142636251294,0.5498878022750868,0.5804870082302636,0.3723043947715051,0.7827191825042965,0.15663368382407689,0.724716841199136,0.3765070268880283,0.6066778309737492,0.7762850638722717,0.5070952221628509,0.7334518519144353,0.6001838598070317,0.7548755030819345,0.31825123636017777,0.7339014680854811,0.814991365469758,0.5788578775888994,0.4401700593947762,0.5282524244784305,0.14862882763461288,0.6325643070656223,0.6577330098193878,0.6056843190286583,0.2745627095730307,0.5603563584507869,0.7601288023667193,0.9641155270093825,0.6551195312157957,0.683564401595973,0.4594950302672769,0.4666956266700506,0.3308443919466354,0.45676771854359993,0.718249561555803,0.6076443771368537,0.6884112889696795,0.5544548650333696,0.23572929771430906,0.3139897642462559,0.3579073471884575,0.7234362761966826,0.3603145698352218,0.7308421551481029,0.15163030859247711,0.5737921649949294,0.6072455320528589,0.7913065408535487,0.44882503479227037,0.592776822714906,0.5556876725393373,0.4380176232135104,0.2635366781288099,0.5607247259782318,0.8231861372308498,0.516348489403332,0.40020736370835597,0.5755442052778947,0.5984575363480715,0.4705944843909264,0.25134262287757203,0.7450359479117449,0.11655617579376198,0.536261108730895,0.3654834308124247,0.5869718050059105,0.08857479538630247,0.4613983153774645,0.44145190794495986,0.5775048698643863,0.44297537903889733,0.6131854871283106,0.289884069642923,0.8650485385746538,0.2265697026289502,0.6093711852729568,0.23914136586525064,0.9262278088727635,0.8522562757666823,0.6419732529687546,0.8156489177739921,0.4194732269436575,0.5335679498576922,0.19861622879453,0.7173372112646108,0.948832139904213,0.42346067361067957,0.3605787358921022,0.6012043071339386,0.5041193909908512,0.8888308505528588,0.4067679456461951,0.25248001079329196,0.8567713045106213,0.19862152118890453,0.7941107038784976,0.2950632774826356,0.540773391430865,0.1415372650273906,0.7025589400317562,0.32973791043024564,0.3196344764315555,0.3224950390110598,0.7097616696644891,0.43478991696113944,0.5791918426519961,0.648638545076078,0.5986093644259218,0.0963088495868562,0.34532630827368405,0.7819861010879683,0.2989268933339621,0.32852332601473355,0.5392488460751717,0.7581172318674123,0.3211837578034744,0.583604521082385,0.8738412376879687,0.5478314985011126,0.5488386453650063,0.16729038704042482,0.6150458361460659,0.5914457334552939,0.8351377418008873,0.38628952135087025,0.16830338707870257,0.21567840601273397,0.20750465541097535,0.3906072845413668,0.7347090188839274,0.6143074364493563,0.9519949540144419,0.5163408399104569,0.7335099672918166,0.7856589302017333,0.718345771343879,0.38827980510892834,0.19554347371629016,0.30109903836447804,0.3912705390983674,0.17309585167037939,0.24299223627203032,0.18685850494839668,0.5776978291315328,0.2908248803400167,0.31993545240812404,0.3530181271940316,0.5025058361176512,0.17935775167331608,0.9646238494948793,0.23969058534043347,0.5431833427454237,0.4430828759417162,0.6171582722352214,0.2732254094897527,0.8650297606741444,0.524263903664422,0.2753827817600993,0.3204997950180679,0.6436417324788946,0.6997288100163698,0.29591475398909095,0.8401436037035844,0.19960332968575334,0.3988224905739412,0.28663843668423894,0.7085827613135021,0.45307570294337773,0.6246587574747874,0.47990379906137065,0.4248368594642691,0.3209016245066175,0.7324946232591543,0.5826993574217773,0.4827627989418298,0.3823204564177518,0.5795055031522289,0.28934885403920413,0.5113037037997878,0.7860185644898864,0.27666369679858116,0.7620620252888819,0.6618299478244334,0.4550523024788563,0.4180396284135942,0.2983550919216719,0.36856443118654253,0.4366707119196337,0.3753952696148811,0.7796082727580438,0.7150227347562843,0.5574609294816787,0.18971600704098474,0.7039726231462369,0.2760155558066629,0.6760246727484867,0.21322977701422663,0.533648941753508,0.41817374301847143,0.6184893215568319,0.42527463851694364,0.595912429984698,0.2708721608777078,0.5270307094668989,0.21118081072860279,0.6773650036147394,0.748654088972537,0.6783626659538468,0.5275559264292845,0.7368404345739157,0.31866810504601417,0.22192760958326735,0.26218262216815413,0.574024397827008,0.5833406493230392,0.19484637475589056,0.80322406625122,0.47167747554661915,0.24180978038955875,0.7682826650338159,0.7470430011913635,0.40028014681675017,0.7983569346414267,0.9168583036036388,0.4694108201090357,0.24012845283737588,0.36150746855093024,0.7564589956528229,0.4526779684313922,0.35857520016452743,0.4401151734677644,0.15050407978085856,0.7787867010501865,0.3636042245745521,0.7516560552932182,0.6680593410737836,0.5881602485793046,0.6359891147333873,0.388768948525579,0.6861118042096221,0.8439556743366446,0.7686122310916608,0.2129520616562291,0.40670824510711723,0.5465179070273496,0.2949792279837559,0.27395587066264493,0.4197616585183497,0.6456996509251448,0.3716351613367749,0.8622672406216461,0.5973849648385333,0.7333375648692,0.4340029348377125,0.5531423025450154,0.19415482415490626,0.4069192876155426,0.3330272230433562,0.9228817606753215,0.903511506147572,0.898668562150634,0.9636224416922404,0.8130824411799318,0.2923796374138428,0.47407039252285554,0.7042690094730797,0.6890854844012835,0.5839058143172255,0.4258740718512791,0.2021688333309251,0.6964179742201541,0.3017314253046204,0.5049636164647971,0.3244361750846695,0.5591243887349822,0.7612303430201908,0.8237413248493385,0.6236311708370668,0.4344479050911413,0.7976941928859966,0.6450661483726386,0.659223885167145,0.7364652427204581,0.47562636595643043,0.3922452527759578,0.9072387543840359,0.8619464892596669,0.2477871066219886,0.5119026939277534,0.7355070100513357,0.5418400327923709,0.5252970529528264,0.26626015313321205,0.8283784679132701,0.2554123489205168,0.6879968256794391,0.5713036001521641,0.21719101671340224,0.6309082071256262,0.618672208422059,0.8148364754673753,0.7308658376598567,0.6629298890645149,0.5748833378423897,0.182130074564878,0.44109489131044294,0.398792216631544,0.11840762730353205,0.8078566883097258,0.40288960772721866,0.43160563093590465,0.2980117059864506,0.8306173937957215,0.4096319900758069,0.21202757906464614,0.4603353853019949,0.711869666810709,0.1943572868968863,0.6183719765494295,0.12414953217736385,0.39449633882518104,0.7399919614025259,0.17550842682674034,0.5958169996949563,0.45207330812179997,0.5877182894227754,0.6148142934664458,0.590348112917726,0.5882866433788251,0.45267506619444053,0.3775599317622231,0.791595659116062,0.7047386387596487,0.5321015065403317,0.7918762502924699,0.21931811103649634,0.5449486705749013,0.3121706217356421,0.42784802489141355,0.2363616055705498,0.6163939707879205,0.4121610269366379,0.6527502308257658,0.4734377936501477,0.13304523813708502,0.14345249285812522,0.4368090990137632,0.41546626328538777,0.6316784769048602,0.425920278505776,0.21103074113530113,0.32899815019752304,0.6542355590577471,0.08943210956523368,0.5593544372707366,0.1409053473924834,0.42999923018522646,0.4415605070753691,0.5617619309949407,0.21557003436090633,0.5374763107447752,0.3914486853525797,0.5395751607751607,0.5005701600017066,0.7288225146973386,0.6747990522348712,0.7049221898931474,0.30694204460936236,0.20413631195750676,0.25756937993101936,0.6312506345665552,0.5128135498796881,0.3743014574110759,0.23453021990617245,0.6814518741557841,0.5494331268948606,0.35755681588534516,0.4429309266747994,0.604557937500716,0.3659938705143749,0.477313164293141,0.6734419773930048,0.376741630427541,0.7766770746635532,0.6918744287089285,0.7675155208399973,0.6146878792976981,0.7868196778913761,0.545726313875992,0.1700786201216264],\"xaxis\":\"x\",\"y\":[2830,2088,25,1122,108,820,3039,1951,1126,1523,2577,2397,2407,349,2748,613,2433,1276,1506,2194,582,1632,579,855,2475,1432,1316,2489,56,964,2877,17,1822,2767,410,1284,2717,275,2757,2660,2936,1094,2842,245,1805,1191,326,1307,3083,2122,762,1330,1667,2817,2304,2369,2386,2228,1888,1475,1234,497,2720,2363,3050,2687,539,1436,2403,2090,1836,101,1489,1382,130,1472,2131,922,2777,2807,1076,1320,2686,1674,588,2325,2118,556,2995,822,219,929,29,2129,37,1528,2806,1102,842,1775,454,863,1576,803,2179,3064,2175,1124,241,565,2955,2563,1033,908,2073,2365,614,1885,228,2083,1631,1199,756,2025,1242,1921,2783,549,2566,1409,1263,1728,860,216,290,520,278,353,2821,2550,2488,493,2879,263,1417,437,1178,343,1426,1219,264,1149,1756,2096,887,2117,145,2730,2725,1297,2161,1353,850,1112,2097,2865,176,2286,1918,236,330,2597,2634,1833,1319,2835,2752,2275,2202,1570,1894,2548,235,775,1679,2967,2376,2923,1731,2710,24,3001,42,1451,1396,2930,1196,322,1960,510,2264,1644,372,1787,404,3054,2684,1348,3055,2895,893,628,890,1892,2262,805,2554,1065,1394,1085,1022,781,1035,2624,828,2887,792,345,427,1966,282,2514,601,1257,3009,1012,420,1844,2568,148,230,2190,707,1156,593,2585,865,181,485,1870,1090,1572,1936,1707,1152,2562,1049,213,1831,1996,2072,2674,2949,1678,1826,1080,2586,742,1223,912,1003,2003,2338,1815,163,212,640,2789,648,530,543,2211,2579,1351,1928,2998,1600,729,2512,1437,1809,1776,815,2852,892,1064,495,210,2939,616,1444,2005,2135,2241,705,1723,3029,2971,937,2600,2520,3078,95,2085,449,1205,1476,528,2523,1983,1591,2975,2013,2223,2588,2480,365,134,2171,1166,3007,2157,332,2258,1851,90,85,2038,1529,957,2245,2885,1042,2485,2726,28,66,2391,1266,1114,1598,2031,1010,2351,1934,2856,1980,1534,1907,1608,2479,51,2755,1371,788,1485,1331,1318,2170,107,1145,968,1804,1941,1055,1886,1558,1377,2206,1770,3065,798,183,720,296,2986,2613,2883,81,1365,928,2347,2486,194,256,1581,2713,1398,3041,1456,2808,2580,831,1082,2816,1760,3100,3002,638,1652,1274,1014,1582,965,1841,1305,1378,688,1418,1272,1163,1050,1099,669,2367,2266,2167,2126,1823,1947,3067,311,2499,801,1248,1736,174,2059,1129,621,2319,1235,2076,277,1755,1057,2326,341,64,270,1768,1286,2932,1141,835,2458,2236,3128,1808,2336,1355,1005,1462,2769,2522,1314,333,814,980,2374,1999,196,1400,2138,3035,2997,2191,188,2556,1018,1597,57,2119,2598,2244,1727,2361,2906,363,1931,2498,1019,1177,33,442,839,2410,342,1929,2659,1812,2991,2974,1144,2493,3036,1914,2284,2890,8,3129,2173,2388,2494,2188,507,1925,359,1937,2603,140,1910,2596,2561,1440,110,1352,857,147,2973,2825,1854,1146,737,2833,2843,1357,2519,2060,382,2615,2541,1046,2419,2500,691,2094,1779,329,1878,1212,1987,371,1650,1919,1155,1703,1553,807,2182,1594,984,1531,68,1493,2483,1036,1295,2947,324,373,2864,778,2675,703,470,924,3003,1227,27,306,2612,1605,1392,986,1186,739,799,2549,379,1518,2429,1659,16,1685,898,2288,2222,1695,2690,1796,302,2847,1160,1441,2707,2123,945,2528,1408,1630,2608,1725,1150,2651,1752,1264,1557,548,764,2434,2929,423,2159,1356,169,1807,2990,955],\"yaxis\":\"y\",\"type\":\"scatter\"}],                        {\"template\":{\"data\":{\"bar\":[{\"error_x\":{\"color\":\"#2a3f5f\"},\"error_y\":{\"color\":\"#2a3f5f\"},\"marker\":{\"line\":{\"color\":\"#E5ECF6\",\"width\":0.5},\"pattern\":{\"fillmode\":\"overlay\",\"size\":10,\"solidity\":0.2}},\"type\":\"bar\"}],\"barpolar\":[{\"marker\":{\"line\":{\"color\":\"#E5ECF6\",\"width\":0.5},\"pattern\":{\"fillmode\":\"overlay\",\"size\":10,\"solidity\":0.2}},\"type\":\"barpolar\"}],\"carpet\":[{\"aaxis\":{\"endlinecolor\":\"#2a3f5f\",\"gridcolor\":\"white\",\"linecolor\":\"white\",\"minorgridcolor\":\"white\",\"startlinecolor\":\"#2a3f5f\"},\"baxis\":{\"endlinecolor\":\"#2a3f5f\",\"gridcolor\":\"white\",\"linecolor\":\"white\",\"minorgridcolor\":\"white\",\"startlinecolor\":\"#2a3f5f\"},\"type\":\"carpet\"}],\"choropleth\":[{\"colorbar\":{\"outlinewidth\":0,\"ticks\":\"\"},\"type\":\"choropleth\"}],\"contour\":[{\"colorbar\":{\"outlinewidth\":0,\"ticks\":\"\"},\"colorscale\":[[0.0,\"#0d0887\"],[0.1111111111111111,\"#46039f\"],[0.2222222222222222,\"#7201a8\"],[0.3333333333333333,\"#9c179e\"],[0.4444444444444444,\"#bd3786\"],[0.5555555555555556,\"#d8576b\"],[0.6666666666666666,\"#ed7953\"],[0.7777777777777778,\"#fb9f3a\"],[0.8888888888888888,\"#fdca26\"],[1.0,\"#f0f921\"]],\"type\":\"contour\"}],\"contourcarpet\":[{\"colorbar\":{\"outlinewidth\":0,\"ticks\":\"\"},\"type\":\"contourcarpet\"}],\"heatmap\":[{\"colorbar\":{\"outlinewidth\":0,\"ticks\":\"\"},\"colorscale\":[[0.0,\"#0d0887\"],[0.1111111111111111,\"#46039f\"],[0.2222222222222222,\"#7201a8\"],[0.3333333333333333,\"#9c179e\"],[0.4444444444444444,\"#bd3786\"],[0.5555555555555556,\"#d8576b\"],[0.6666666666666666,\"#ed7953\"],[0.7777777777777778,\"#fb9f3a\"],[0.8888888888888888,\"#fdca26\"],[1.0,\"#f0f921\"]],\"type\":\"heatmap\"}],\"heatmapgl\":[{\"colorbar\":{\"outlinewidth\":0,\"ticks\":\"\"},\"colorscale\":[[0.0,\"#0d0887\"],[0.1111111111111111,\"#46039f\"],[0.2222222222222222,\"#7201a8\"],[0.3333333333333333,\"#9c179e\"],[0.4444444444444444,\"#bd3786\"],[0.5555555555555556,\"#d8576b\"],[0.6666666666666666,\"#ed7953\"],[0.7777777777777778,\"#fb9f3a\"],[0.8888888888888888,\"#fdca26\"],[1.0,\"#f0f921\"]],\"type\":\"heatmapgl\"}],\"histogram\":[{\"marker\":{\"pattern\":{\"fillmode\":\"overlay\",\"size\":10,\"solidity\":0.2}},\"type\":\"histogram\"}],\"histogram2d\":[{\"colorbar\":{\"outlinewidth\":0,\"ticks\":\"\"},\"colorscale\":[[0.0,\"#0d0887\"],[0.1111111111111111,\"#46039f\"],[0.2222222222222222,\"#7201a8\"],[0.3333333333333333,\"#9c179e\"],[0.4444444444444444,\"#bd3786\"],[0.5555555555555556,\"#d8576b\"],[0.6666666666666666,\"#ed7953\"],[0.7777777777777778,\"#fb9f3a\"],[0.8888888888888888,\"#fdca26\"],[1.0,\"#f0f921\"]],\"type\":\"histogram2d\"}],\"histogram2dcontour\":[{\"colorbar\":{\"outlinewidth\":0,\"ticks\":\"\"},\"colorscale\":[[0.0,\"#0d0887\"],[0.1111111111111111,\"#46039f\"],[0.2222222222222222,\"#7201a8\"],[0.3333333333333333,\"#9c179e\"],[0.4444444444444444,\"#bd3786\"],[0.5555555555555556,\"#d8576b\"],[0.6666666666666666,\"#ed7953\"],[0.7777777777777778,\"#fb9f3a\"],[0.8888888888888888,\"#fdca26\"],[1.0,\"#f0f921\"]],\"type\":\"histogram2dcontour\"}],\"mesh3d\":[{\"colorbar\":{\"outlinewidth\":0,\"ticks\":\"\"},\"type\":\"mesh3d\"}],\"parcoords\":[{\"line\":{\"colorbar\":{\"outlinewidth\":0,\"ticks\":\"\"}},\"type\":\"parcoords\"}],\"pie\":[{\"automargin\":true,\"type\":\"pie\"}],\"scatter\":[{\"marker\":{\"colorbar\":{\"outlinewidth\":0,\"ticks\":\"\"}},\"type\":\"scatter\"}],\"scatter3d\":[{\"line\":{\"colorbar\":{\"outlinewidth\":0,\"ticks\":\"\"}},\"marker\":{\"colorbar\":{\"outlinewidth\":0,\"ticks\":\"\"}},\"type\":\"scatter3d\"}],\"scattercarpet\":[{\"marker\":{\"colorbar\":{\"outlinewidth\":0,\"ticks\":\"\"}},\"type\":\"scattercarpet\"}],\"scattergeo\":[{\"marker\":{\"colorbar\":{\"outlinewidth\":0,\"ticks\":\"\"}},\"type\":\"scattergeo\"}],\"scattergl\":[{\"marker\":{\"colorbar\":{\"outlinewidth\":0,\"ticks\":\"\"}},\"type\":\"scattergl\"}],\"scattermapbox\":[{\"marker\":{\"colorbar\":{\"outlinewidth\":0,\"ticks\":\"\"}},\"type\":\"scattermapbox\"}],\"scatterpolar\":[{\"marker\":{\"colorbar\":{\"outlinewidth\":0,\"ticks\":\"\"}},\"type\":\"scatterpolar\"}],\"scatterpolargl\":[{\"marker\":{\"colorbar\":{\"outlinewidth\":0,\"ticks\":\"\"}},\"type\":\"scatterpolargl\"}],\"scatterternary\":[{\"marker\":{\"colorbar\":{\"outlinewidth\":0,\"ticks\":\"\"}},\"type\":\"scatterternary\"}],\"surface\":[{\"colorbar\":{\"outlinewidth\":0,\"ticks\":\"\"},\"colorscale\":[[0.0,\"#0d0887\"],[0.1111111111111111,\"#46039f\"],[0.2222222222222222,\"#7201a8\"],[0.3333333333333333,\"#9c179e\"],[0.4444444444444444,\"#bd3786\"],[0.5555555555555556,\"#d8576b\"],[0.6666666666666666,\"#ed7953\"],[0.7777777777777778,\"#fb9f3a\"],[0.8888888888888888,\"#fdca26\"],[1.0,\"#f0f921\"]],\"type\":\"surface\"}],\"table\":[{\"cells\":{\"fill\":{\"color\":\"#EBF0F8\"},\"line\":{\"color\":\"white\"}},\"header\":{\"fill\":{\"color\":\"#C8D4E3\"},\"line\":{\"color\":\"white\"}},\"type\":\"table\"}]},\"layout\":{\"annotationdefaults\":{\"arrowcolor\":\"#2a3f5f\",\"arrowhead\":0,\"arrowwidth\":1},\"autotypenumbers\":\"strict\",\"coloraxis\":{\"colorbar\":{\"outlinewidth\":0,\"ticks\":\"\"}},\"colorscale\":{\"diverging\":[[0,\"#8e0152\"],[0.1,\"#c51b7d\"],[0.2,\"#de77ae\"],[0.3,\"#f1b6da\"],[0.4,\"#fde0ef\"],[0.5,\"#f7f7f7\"],[0.6,\"#e6f5d0\"],[0.7,\"#b8e186\"],[0.8,\"#7fbc41\"],[0.9,\"#4d9221\"],[1,\"#276419\"]],\"sequential\":[[0.0,\"#0d0887\"],[0.1111111111111111,\"#46039f\"],[0.2222222222222222,\"#7201a8\"],[0.3333333333333333,\"#9c179e\"],[0.4444444444444444,\"#bd3786\"],[0.5555555555555556,\"#d8576b\"],[0.6666666666666666,\"#ed7953\"],[0.7777777777777778,\"#fb9f3a\"],[0.8888888888888888,\"#fdca26\"],[1.0,\"#f0f921\"]],\"sequentialminus\":[[0.0,\"#0d0887\"],[0.1111111111111111,\"#46039f\"],[0.2222222222222222,\"#7201a8\"],[0.3333333333333333,\"#9c179e\"],[0.4444444444444444,\"#bd3786\"],[0.5555555555555556,\"#d8576b\"],[0.6666666666666666,\"#ed7953\"],[0.7777777777777778,\"#fb9f3a\"],[0.8888888888888888,\"#fdca26\"],[1.0,\"#f0f921\"]]},\"colorway\":[\"#636efa\",\"#EF553B\",\"#00cc96\",\"#ab63fa\",\"#FFA15A\",\"#19d3f3\",\"#FF6692\",\"#B6E880\",\"#FF97FF\",\"#FECB52\"],\"font\":{\"color\":\"#2a3f5f\"},\"geo\":{\"bgcolor\":\"white\",\"lakecolor\":\"white\",\"landcolor\":\"#E5ECF6\",\"showlakes\":true,\"showland\":true,\"subunitcolor\":\"white\"},\"hoverlabel\":{\"align\":\"left\"},\"hovermode\":\"closest\",\"mapbox\":{\"style\":\"light\"},\"paper_bgcolor\":\"white\",\"plot_bgcolor\":\"#E5ECF6\",\"polar\":{\"angularaxis\":{\"gridcolor\":\"white\",\"linecolor\":\"white\",\"ticks\":\"\"},\"bgcolor\":\"#E5ECF6\",\"radialaxis\":{\"gridcolor\":\"white\",\"linecolor\":\"white\",\"ticks\":\"\"}},\"scene\":{\"xaxis\":{\"backgroundcolor\":\"#E5ECF6\",\"gridcolor\":\"white\",\"gridwidth\":2,\"linecolor\":\"white\",\"showbackground\":true,\"ticks\":\"\",\"zerolinecolor\":\"white\"},\"yaxis\":{\"backgroundcolor\":\"#E5ECF6\",\"gridcolor\":\"white\",\"gridwidth\":2,\"linecolor\":\"white\",\"showbackground\":true,\"ticks\":\"\",\"zerolinecolor\":\"white\"},\"zaxis\":{\"backgroundcolor\":\"#E5ECF6\",\"gridcolor\":\"white\",\"gridwidth\":2,\"linecolor\":\"white\",\"showbackground\":true,\"ticks\":\"\",\"zerolinecolor\":\"white\"}},\"shapedefaults\":{\"line\":{\"color\":\"#2a3f5f\"}},\"ternary\":{\"aaxis\":{\"gridcolor\":\"white\",\"linecolor\":\"white\",\"ticks\":\"\"},\"baxis\":{\"gridcolor\":\"white\",\"linecolor\":\"white\",\"ticks\":\"\"},\"bgcolor\":\"#E5ECF6\",\"caxis\":{\"gridcolor\":\"white\",\"linecolor\":\"white\",\"ticks\":\"\"}},\"title\":{\"x\":0.05},\"xaxis\":{\"automargin\":true,\"gridcolor\":\"white\",\"linecolor\":\"white\",\"ticks\":\"\",\"title\":{\"standoff\":15},\"zerolinecolor\":\"white\",\"zerolinewidth\":2},\"yaxis\":{\"automargin\":true,\"gridcolor\":\"white\",\"linecolor\":\"white\",\"ticks\":\"\",\"title\":{\"standoff\":15},\"zerolinecolor\":\"white\",\"zerolinewidth\":2}}},\"xaxis\":{\"anchor\":\"y\",\"domain\":[0.0,1.0],\"title\":{\"text\":\"x\"}},\"yaxis\":{\"anchor\":\"x\",\"domain\":[0.0,1.0],\"title\":{\"text\":\"index\"}},\"legend\":{\"tracegroupgap\":0},\"margin\":{\"t\":60}},                        {\"responsive\": true}                    ).then(function(){\n",
       "                            \n",
       "var gd = document.getElementById('4e2f410f-d120-4cfd-a65b-e6d7a58f5b14');\n",
       "var x = new MutationObserver(function (mutations, observer) {{\n",
       "        var display = window.getComputedStyle(gd).display;\n",
       "        if (!display || display === 'none') {{\n",
       "            console.log([gd, 'removed!']);\n",
       "            Plotly.purge(gd);\n",
       "            observer.disconnect();\n",
       "        }}\n",
       "}});\n",
       "\n",
       "// Listen for the removal of the full notebook cells\n",
       "var notebookContainer = gd.closest('#notebook-container');\n",
       "if (notebookContainer) {{\n",
       "    x.observe(notebookContainer, {childList: true});\n",
       "}}\n",
       "\n",
       "// Listen for the clearing of the current output cell\n",
       "var outputEl = gd.closest('.output');\n",
       "if (outputEl) {{\n",
       "    x.observe(outputEl, {childList: true});\n",
       "}}\n",
       "\n",
       "                        })                };                });            </script>        </div>"
      ]
     },
     "metadata": {},
     "output_type": "display_data"
    },
    {
     "data": {
      "application/javascript": [
       "\n",
       "            setTimeout(function() {\n",
       "                var nbb_cell_id = 50;\n",
       "                var nbb_unformatted_code = \"residuals = y_test - pred\\n\\n# np.sum(residuals)\\ndisplay(px.scatter(residuals, pred))\\n\\n# display(y_test)\\n# display(pred)\";\n",
       "                var nbb_formatted_code = \"residuals = y_test - pred\\n\\n# np.sum(residuals)\\ndisplay(px.scatter(residuals, pred))\\n\\n# display(y_test)\\n# display(pred)\";\n",
       "                var nbb_cells = Jupyter.notebook.get_cells();\n",
       "                for (var i = 0; i < nbb_cells.length; ++i) {\n",
       "                    if (nbb_cells[i].input_prompt_number == nbb_cell_id) {\n",
       "                        if (nbb_cells[i].get_text() == nbb_unformatted_code) {\n",
       "                             nbb_cells[i].set_text(nbb_formatted_code);\n",
       "                        }\n",
       "                        break;\n",
       "                    }\n",
       "                }\n",
       "            }, 500);\n",
       "            "
      ],
      "text/plain": [
       "<IPython.core.display.Javascript object>"
      ]
     },
     "metadata": {},
     "output_type": "display_data"
    }
   ],
   "source": [
    "residuals = y_test - pred\n",
    "\n",
    "# np.sum(residuals)\n",
    "display(px.scatter(residuals, pred))\n",
    "\n",
    "# display(y_test)\n",
    "# display(pred)"
   ]
  },
  {
   "cell_type": "code",
   "execution_count": 51,
   "id": "45fa70b7",
   "metadata": {},
   "outputs": [
    {
     "data": {
      "text/plain": [
       "Text(0.5, 1.0, 'LASSO Coefficients vs Regularization Parameters')"
      ]
     },
     "execution_count": 51,
     "metadata": {},
     "output_type": "execute_result"
    },
    {
     "data": {
      "image/png": "[encoded data removed]",
      "text/plain": [
       "<Figure size 432x288 with 1 Axes>"
      ]
     },
     "metadata": {
      "needs_background": "light"
     },
     "output_type": "display_data"
    },
    {
     "data": {
      "application/javascript": [
       "\n",
       "            setTimeout(function() {\n",
       "                var nbb_cell_id = 51;\n",
       "                var nbb_unformatted_code = \"# Graph\\ncoef = []\\nalphas = np.arange(0.01, 5, 0.10)\\nlasso = Lasso(max_iter=10000)\\n\\nfor a in alphas:\\n    lasso.set_params(alpha=a)\\n    lasso.fit(X_train, y_train)\\n    coef.append(lasso.coef_)\\n\\nfig = plt.figure()\\nax = fig.add_subplot(111)\\nax.plot(alphas, coef)\\nax.set_xlabel(\\\"Lambda (Regularization Parameter)\\\")\\nax.set_ylabel(\\\"Beta (Predictor Coefficients)\\\")\\nax.set_title(\\\"LASSO Coefficients vs Regularization Parameters\\\")\";\n",
       "                var nbb_formatted_code = \"# Graph\\ncoef = []\\nalphas = np.arange(0.01, 5, 0.10)\\nlasso = Lasso(max_iter=10000)\\n\\nfor a in alphas:\\n    lasso.set_params(alpha=a)\\n    lasso.fit(X_train, y_train)\\n    coef.append(lasso.coef_)\\n\\nfig = plt.figure()\\nax = fig.add_subplot(111)\\nax.plot(alphas, coef)\\nax.set_xlabel(\\\"Lambda (Regularization Parameter)\\\")\\nax.set_ylabel(\\\"Beta (Predictor Coefficients)\\\")\\nax.set_title(\\\"LASSO Coefficients vs Regularization Parameters\\\")\";\n",
       "                var nbb_cells = Jupyter.notebook.get_cells();\n",
       "                for (var i = 0; i < nbb_cells.length; ++i) {\n",
       "                    if (nbb_cells[i].input_prompt_number == nbb_cell_id) {\n",
       "                        if (nbb_cells[i].get_text() == nbb_unformatted_code) {\n",
       "                             nbb_cells[i].set_text(nbb_formatted_code);\n",
       "                        }\n",
       "                        break;\n",
       "                    }\n",
       "                }\n",
       "            }, 500);\n",
       "            "
      ],
      "text/plain": [
       "<IPython.core.display.Javascript object>"
      ]
     },
     "metadata": {},
     "output_type": "display_data"
    }
   ],
   "source": [
    "# Graph\n",
    "coef = []\n",
    "alphas = np.arange(0.01, 5, 0.10)\n",
    "lasso = Lasso(max_iter=10000)\n",
    "\n",
    "for a in alphas:\n",
    "    lasso.set_params(alpha=a)\n",
    "    lasso.fit(X_train, y_train)\n",
    "    coef.append(lasso.coef_)\n",
    "\n",
    "fig = plt.figure()\n",
    "ax = fig.add_subplot(111)\n",
    "ax.plot(alphas, coef)\n",
    "ax.set_xlabel(\"Lambda (Regularization Parameter)\")\n",
    "ax.set_ylabel(\"Beta (Predictor Coefficients)\")\n",
    "ax.set_title(\"LASSO Coefficients vs Regularization Parameters\")"
   ]
  },
  {
   "cell_type": "code",
   "execution_count": 53,
   "id": "a13453e4",
   "metadata": {
    "scrolled": true
   },
   "outputs": [
    {
     "data": {
      "text/plain": [
       "0.00024051512259072578"
      ]
     },
     "metadata": {},
     "output_type": "display_data"
    },
    {
     "data": {
      "application/javascript": [
       "\n",
       "            setTimeout(function() {\n",
       "                var nbb_cell_id = 53;\n",
       "                var nbb_unformatted_code = \"# K Fold Cross Validation\\nmodel = LassoCV(cv=10, random_state=1, max_iter=10000)\\nmodel.fit(X_train, y_train)\\noptimal = model.alpha_\\ndisplay(optimal)\";\n",
       "                var nbb_formatted_code = \"# K Fold Cross Validation\\nmodel = LassoCV(cv=10, random_state=1, max_iter=10000)\\nmodel.fit(X_train, y_train)\\noptimal = model.alpha_\\ndisplay(optimal)\";\n",
       "                var nbb_cells = Jupyter.notebook.get_cells();\n",
       "                for (var i = 0; i < nbb_cells.length; ++i) {\n",
       "                    if (nbb_cells[i].input_prompt_number == nbb_cell_id) {\n",
       "                        if (nbb_cells[i].get_text() == nbb_unformatted_code) {\n",
       "                             nbb_cells[i].set_text(nbb_formatted_code);\n",
       "                        }\n",
       "                        break;\n",
       "                    }\n",
       "                }\n",
       "            }, 500);\n",
       "            "
      ],
      "text/plain": [
       "<IPython.core.display.Javascript object>"
      ]
     },
     "metadata": {},
     "output_type": "display_data"
    }
   ],
   "source": [
    "# K Fold Cross Validation\n",
    "model = LassoCV(cv=10, random_state=1, max_iter=10000)\n",
    "model.fit(X_train, y_train)\n",
    "optimal = model.alpha_\n",
    "display(optimal)"
   ]
  },
  {
   "cell_type": "code",
   "execution_count": 74,
   "id": "9e428879",
   "metadata": {},
   "outputs": [
    {
     "data": {
      "text/html": [
       "<div>\n",
       "<style scoped>\n",
       "    .dataframe tbody tr th:only-of-type {\n",
       "        vertical-align: middle;\n",
       "    }\n",
       "\n",
       "    .dataframe tbody tr th {\n",
       "        vertical-align: top;\n",
       "    }\n",
       "\n",
       "    .dataframe thead th {\n",
       "        text-align: right;\n",
       "    }\n",
       "</style>\n",
       "<table border=\"1\" class=\"dataframe\">\n",
       "  <thead>\n",
       "    <tr style=\"text-align: right;\">\n",
       "      <th></th>\n",
       "      <th>Variable</th>\n",
       "      <th>Coef</th>\n",
       "    </tr>\n",
       "  </thead>\n",
       "  <tbody>\n",
       "    <tr>\n",
       "      <th>0</th>\n",
       "      <td>area_sqmi</td>\n",
       "      <td>-0.000058</td>\n",
       "    </tr>\n",
       "    <tr>\n",
       "      <th>1</th>\n",
       "      <td>epl_pov</td>\n",
       "      <td>0.049513</td>\n",
       "    </tr>\n",
       "    <tr>\n",
       "      <th>2</th>\n",
       "      <td>epl_unemp</td>\n",
       "      <td>0.039804</td>\n",
       "    </tr>\n",
       "    <tr>\n",
       "      <th>3</th>\n",
       "      <td>epl_pci</td>\n",
       "      <td>0.036739</td>\n",
       "    </tr>\n",
       "    <tr>\n",
       "      <th>4</th>\n",
       "      <td>epl_nohsdp</td>\n",
       "      <td>0.045384</td>\n",
       "    </tr>\n",
       "    <tr>\n",
       "      <th>5</th>\n",
       "      <td>epl_age65</td>\n",
       "      <td>0.03409</td>\n",
       "    </tr>\n",
       "    <tr>\n",
       "      <th>6</th>\n",
       "      <td>epl_age17</td>\n",
       "      <td>0.035751</td>\n",
       "    </tr>\n",
       "    <tr>\n",
       "      <th>7</th>\n",
       "      <td>epl_disabl</td>\n",
       "      <td>0.041513</td>\n",
       "    </tr>\n",
       "    <tr>\n",
       "      <th>8</th>\n",
       "      <td>epl_sngpnt</td>\n",
       "      <td>0.040529</td>\n",
       "    </tr>\n",
       "    <tr>\n",
       "      <th>9</th>\n",
       "      <td>epl_minrty</td>\n",
       "      <td>0.042637</td>\n",
       "    </tr>\n",
       "    <tr>\n",
       "      <th>10</th>\n",
       "      <td>epl_limeng</td>\n",
       "      <td>0.039017</td>\n",
       "    </tr>\n",
       "    <tr>\n",
       "      <th>11</th>\n",
       "      <td>epl_munit</td>\n",
       "      <td>0.036028</td>\n",
       "    </tr>\n",
       "    <tr>\n",
       "      <th>12</th>\n",
       "      <td>epl_mobile</td>\n",
       "      <td>0.037948</td>\n",
       "    </tr>\n",
       "    <tr>\n",
       "      <th>13</th>\n",
       "      <td>epl_crowd</td>\n",
       "      <td>0.039633</td>\n",
       "    </tr>\n",
       "    <tr>\n",
       "      <th>14</th>\n",
       "      <td>epl_noveh</td>\n",
       "      <td>0.037708</td>\n",
       "    </tr>\n",
       "    <tr>\n",
       "      <th>15</th>\n",
       "      <td>epl_groupq</td>\n",
       "      <td>0.036656</td>\n",
       "    </tr>\n",
       "  </tbody>\n",
       "</table>\n",
       "</div>"
      ],
      "text/plain": [
       "      Variable      Coef\n",
       "0    area_sqmi -0.000058\n",
       "1      epl_pov  0.049513\n",
       "2    epl_unemp  0.039804\n",
       "3      epl_pci  0.036739\n",
       "4   epl_nohsdp  0.045384\n",
       "5    epl_age65   0.03409\n",
       "6    epl_age17  0.035751\n",
       "7   epl_disabl  0.041513\n",
       "8   epl_sngpnt  0.040529\n",
       "9   epl_minrty  0.042637\n",
       "10  epl_limeng  0.039017\n",
       "11   epl_munit  0.036028\n",
       "12  epl_mobile  0.037948\n",
       "13   epl_crowd  0.039633\n",
       "14   epl_noveh  0.037708\n",
       "15  epl_groupq  0.036656"
      ]
     },
     "metadata": {},
     "output_type": "display_data"
    },
    {
     "data": {
      "text/plain": [
       "Index(['area_sqmi', 'epl_pov', 'epl_unemp', 'epl_pci', 'epl_nohsdp',\n",
       "       'epl_age65', 'epl_age17', 'epl_disabl', 'epl_sngpnt', 'epl_minrty',\n",
       "       'epl_limeng', 'epl_munit', 'epl_mobile', 'epl_crowd', 'epl_noveh',\n",
       "       'epl_groupq'],\n",
       "      dtype='object')"
      ]
     },
     "metadata": {},
     "output_type": "display_data"
    },
    {
     "data": {
      "application/vnd.plotly.v1+json": {
       "config": {
        "plotlyServerURL": "https://plot.ly"
       },
       "data": [
        {
         "hovertemplate": "x=%{x}<br>y=%{y}<extra></extra>",
         "legendgroup": "",
         "marker": {
          "color": "#636efa",
          "symbol": "circle"
         },
         "mode": "markers",
         "name": "",
         "orientation": "v",
         "showlegend": false,
         "type": "scatter",
         "x": [
          -0.021474502116666225,
          -0.03133755044316716,
          0.001167359068691809,
          0.04259961412448732,
          -0.005107338355268443,
          -0.018356330283585687,
          -0.05638615955115872,
          0.03192664992079086,
          -0.024290799990594802,
          0.058722345592762126,
          -0.1478690135097286,
          0.02296609927415135,
          -0.0038635444107556483,
          -0.022086538397028177,
          0.03848021779798283,
          -0.024552263485457193,
          0.033426482594642426,
          -0.014148463602348393,
          -0.021876636646835895,
          0.043027658203137475,
          -0.0026141392664633667,
          0.15900685002529452,
          -0.04704153601777189,
          -0.03313972617866526,
          -0.0043134810617880825,
          -0.03707626714380097,
          -0.02435531407138819,
          0.008404120338861065,
          0.006784622117140593,
          -0.015299805989956616,
          0.039797343233051286,
          0.02215780703300574,
          0.01349783529073878,
          -0.10576710190881256,
          0.018088952564613625,
          0.011709792752032544,
          0.05600159165255714,
          -0.013160330444484558,
          0.04861608060133016,
          0.0470576302400012,
          -0.0423647631119293,
          0.04085249914215505,
          0.024599061885392848,
          -0.0073440525423297265,
          -0.0034258771414866773,
          0.025862709846131593,
          0.05287969838029316,
          -0.0440562141525519,
          -0.021366672915466817,
          0.002795781895018279,
          -0.05347532248187309,
          0.014122977122938862,
          0.08347447567331051,
          -0.02401127748739637,
          -0.011685312710340179,
          -0.054512750446042646,
          0.020234277682601408,
          0.006972150896399909,
          -0.03070407620550225,
          0.03377646022690972,
          -0.028383318093637033,
          -0.00885559834058569,
          0.05537794705785737,
          0.028661222107480788,
          -0.025731383782849476,
          -0.005948952011732733,
          0.025007356843263162,
          -0.015770606351270477,
          0.03392013373799041,
          0.031217103967972504,
          0.011732149330675012,
          0.02027113519499235,
          -0.02871522276993832,
          -0.011102947369088081,
          0.04961337290506507,
          -0.03859737565976595,
          0.00330024255175998,
          -0.03935189352728363,
          -0.033001611144057585,
          -0.02683678401838252,
          -0.036688140679403014,
          -0.04168593618898597,
          0.016168920149792654,
          -0.028477102757709455,
          0.01420820910770837,
          -0.03667347000089777,
          -0.025382441602141037,
          -0.0011254306633803335,
          0.022823563551354842,
          -0.029746060414756692,
          0.045717319461815564,
          -0.02485151148632543,
          0.03540959195462545,
          -0.028446102208351615,
          0.005665151639325461,
          0.031674327837433514,
          -0.007532474113422644,
          0.04144624915159212,
          0.02459958561986786,
          -0.02761696833313171,
          0.04627057092509357,
          -0.013321817751018594,
          0.0040982738532535645,
          -0.029050982168077055,
          0.03687350765350772,
          -0.039812222673930836,
          0.036926391330766806,
          -0.05690392451496051,
          -0.0028038999333219183,
          -0.02508719482064045,
          0.0032180429059412985,
          0.02148297480970507,
          -0.0048943609154444845,
          -0.030550977029586812,
          0.004115108213681329,
          -0.029193879222624036,
          -0.002180894020373525,
          -0.020709186570822713,
          -0.029049857564542647,
          0.007051212015207087,
          0.006008265183728628,
          0.028864377390682046,
          -0.054415410415317556,
          -0.018633727344796347,
          0.03855583526970685,
          0.018076446997847495,
          -0.005396249531175679,
          -0.025681679193585272,
          0.03002668793790697,
          0.005715990564886586,
          0.007266716248619853,
          0.10390005404910437,
          -0.034613670884272474,
          -0.019803767477172968,
          0.04270944204505092,
          0.027695244491190096,
          -0.03289802993901081,
          0.028331844989778587,
          -0.02262561631030932,
          0.0327619858769006,
          -0.015365314410759667,
          0.02462777533965599,
          0.024533989473637052,
          -0.0319390426193675,
          -0.0405046698103847,
          -0.047055272910452584,
          0.019924006437648134,
          -0.0596903071667757,
          -0.07735472501921392,
          0.0062632628168616256,
          -0.017016141763533943,
          0.036578867409505,
          -0.006600221391619865,
          0.022910066343523446,
          0.014477922887943806,
          -0.036983965867899565,
          -0.009051226853770578,
          0.03645296975576129,
          0.016958136855786732,
          0.05288079288479852,
          0.023558263932021206,
          -0.012751523224447212,
          0.005718065963640662,
          -0.052133296849125654,
          -0.022330614815379443,
          -0.032613600633866896,
          0.028220829413385107,
          0.01896074485251531,
          0.030134135909699045,
          0.029186269700766543,
          -0.0017978662722008543,
          -0.006622199282034447,
          0.03491526570861214,
          0.010741222773759718,
          -0.02207883238329089,
          0.03499480310416914,
          0.00962156853366758,
          0.014596768084394252,
          0.01977113356936777,
          0.005780489044169945,
          -0.0055365962066096785,
          0.013197742354758457,
          0.02949526179857409,
          -0.005120788688219247,
          -0.023451919037362157,
          -0.026828609583846613,
          0.01709503987127159,
          0.037711172594509915,
          0.026896993357705075,
          0.012979030408430958,
          0.03473738264987902,
          0.043593355509644605,
          -0.012338351733234165,
          0.0011086406838550777,
          0.0060799956115199505,
          -0.03267479706090659,
          0.031245721249898772,
          0.01821673218273967,
          0.0018394858582727602,
          0.027130309950133435,
          -0.015315853101390747,
          0.005080283771179195,
          0.032344874206480356,
          -0.010872867408347794,
          0.025680831674946947,
          0.06287800442693098,
          0.050431368593837345,
          0.00258331511731201,
          -0.028249282908080237,
          -0.016242469037175133,
          0.02129208707786645,
          -0.019592298033306116,
          0.007976269270272007,
          -0.00022404050950841636,
          -0.03299899844062404,
          -0.024769420343164567,
          0.020285552099216342,
          -0.013738826809435611,
          -0.018671133214956004,
          0.03055613874206061,
          0.026844369799011614,
          -0.03282799306918077,
          -0.00036359353768466995,
          0.04563620565348414,
          -0.007763872672129593,
          -0.035387730814053664,
          -0.025939070470047565,
          0.004345909268652082,
          -0.005347954241168962,
          -0.0550555219299238,
          0.03790606895040538,
          0.013179974175829168,
          -0.040188624711393894,
          -0.015361149857582745,
          -0.0508470616883247,
          -0.05496986708230406,
          -0.020821214984600434,
          0.03342073142445212,
          -0.03165879666196364,
          0.02734953999112333,
          0.044473727610826796,
          -0.009606555437360997,
          -0.03570720604778044,
          0.029534697482221817,
          -0.00548853528266896,
          0.031957192802878676,
          -0.019533717515176074,
          0.04394987506561854,
          0.024383707790235576,
          -0.0041928805819889114,
          0.034639911915269384,
          -0.006949554689929416,
          0.015623678643363781,
          -0.015120356265337032,
          0.02204725189333845,
          0.019661496814304735,
          -0.013732206194023266,
          0.011668138386506877,
          0.026729043772820482,
          0.10371434893428016,
          0.02678104971422457,
          0.04335310499327105,
          0.044892612502547724,
          -0.03198635893590565,
          0.029845895679423307,
          0.02903549807430783,
          -0.21673728878250587,
          0.040938611923330925,
          0.04517435091087185,
          -0.03276819439921558,
          -0.018861100494908245,
          -0.03688514922294239,
          0.007162417765810447,
          0.03206007310741288,
          0.015223052913234891,
          0.05041524345863335,
          0.03882726297203076,
          -0.01633333761422373,
          -0.034995136618299866,
          -0.0333626884782221,
          0.030393683928996218,
          0.020953215619464838,
          0.03775239014375842,
          -0.0011917136808241718,
          0.022225685469157264,
          -0.014742610993031535,
          0.010718540459095482,
          -0.03197399746373958,
          -0.018613666049021482,
          -0.006183855611071598,
          -0.006457235848597642,
          -0.02967960977532577,
          0.04558816032508195,
          -0.019847267658897993,
          0.003921737551174309,
          -0.04347511139236765,
          -0.015003435872358861,
          0.05391124766250299,
          -0.043562711358853035,
          -0.022858143778121426,
          0.03990654063014398,
          0.07499659267479007,
          0.052025575245301825,
          -0.02693173296330864,
          0.048431365928003456,
          0.06318208887311252,
          0.002984579531238596,
          -0.04936306869822671,
          0.021902494957378393,
          -0.002394018966492051,
          0.004627547815398092,
          -0.031946126261015256,
          0.021074090642705823,
          -0.017393880321154714,
          0.03969392359155677,
          -0.013420756126401368,
          -0.05933216748410719,
          -0.05481981264641089,
          0.05161623947616634,
          0.015306626048648075,
          -0.004037472092202121,
          0.021783506455012258,
          0.030059183400968845,
          0.01967128762474657,
          -0.20648832018522045,
          -0.024725577074533156,
          -0.01945397133712301,
          0.001714029896725422,
          -0.015181091532402435,
          0.027857904663148414,
          -0.04640610703220199,
          -0.03293527079851305,
          -0.026598828367861316,
          -0.013595307822885372,
          0.035090682860653755,
          -0.028839712787176425,
          0.06971084341681932,
          0.006052198589484026,
          0.04303276601435124,
          -0.04170994963501459,
          -0.030487306789893365,
          0.005891800440043775,
          0.036196970331123124,
          -0.028943453118737306,
          0.03052968941751788,
          0.029461792163584133,
          0.03700763568075982,
          0.18826913648991492,
          -0.02868550436677958,
          0.0028039509219962566,
          -0.034279716606908095,
          -0.016450847576764946,
          -0.007618677562666598,
          0.013180260442875902,
          -0.025308551777862398,
          0.0015406625376136462,
          -0.05421800432792623,
          0.00265078307899258,
          0.03008976454669232,
          0.004743939838574587,
          0.027814600647367405,
          0.033474725512975034,
          -0.03480358646068926,
          0.00403452839241375,
          0.03105086316941605,
          -0.001432757431161391,
          -0.012209592513487591,
          -0.0017341495046647726,
          0.016090883939516853,
          0.0543733662171505,
          -0.04752485060626355,
          -0.020161605058971688,
          0.008550204382146598,
          0.019089110574054158,
          0.033117708526333,
          -0.03076728405580409,
          0.019172815774918785,
          -0.02500213386439537,
          -0.037662943832943774,
          -0.014247761140737364,
          -0.028106632078343075,
          0.012014239105743243,
          0.05476290855132948,
          -0.03028346004071908,
          -0.017125273012664255,
          -0.0295731469871392,
          0.037755947814823276,
          -0.009501937514938205,
          -0.014502713931081379,
          -0.020508764957424985,
          -0.036374199357512293,
          -0.01533100241041263,
          0.018682015153726916,
          -0.030362586327737168,
          -0.018761011840603192,
          -0.009355703631524548,
          -0.03540218828869138,
          -0.03374306636950572,
          -0.0006238580246862302,
          0.0185982541027524,
          -0.032255270538926795,
          -0.024474050524999513,
          0.015142131897392178,
          -0.04868112898507593,
          -0.021522238593446208,
          0.028405336618754773,
          -0.005337546001916993,
          0.048157845897390805,
          -0.006425963526151213,
          -0.022175029848418737,
          -0.03567608420299781,
          0.03839860316695454,
          0.038143573929319,
          0.02553784764895073,
          -0.005569077800585298,
          -0.0038836534754332908,
          -0.02681862680158556,
          0.02903970028885161,
          -0.004805486627863176,
          -0.013530257882717764,
          0.01305251060121193,
          0.04572048018315933,
          -0.05023707390170534,
          -0.03240047796422224,
          -0.015191355909840831,
          -0.005353188080252591,
          -0.03969020375498944,
          -0.03506787262553135,
          -0.039480078569080646,
          0.031561794005018906,
          0.007924434813347703,
          -0.008509698083531997,
          0.03700720231624732,
          -0.02194910918232898,
          0.045642036841040956,
          0.05789702919868979,
          -0.029799548161802414,
          -0.03495346940277,
          0.02506544914000053,
          -0.04173568985506465,
          0.03965083282440218,
          -0.025502317148855577,
          -0.0038930668614840513,
          -0.013628600644893657,
          0.04791471700633143,
          0.03309912399356518,
          0.022386117890663915,
          0.012648330099578664,
          0.016782326736250908,
          -0.03249251799101294,
          -0.027231664815279305,
          -0.024897513758984358,
          0.035963553921343205,
          0.018830406906213737,
          -0.0018843144877702805,
          0.018381484037064855,
          0.04229166134690443,
          -0.021448543427079914,
          0.013357129065250106,
          0.023239117690476263,
          0.005347421393505913,
          0.024179504041676236,
          -0.08932382222517765,
          -0.018887330692662463,
          -0.026164580584438074,
          -0.03265379556386194,
          0.0186634263092732,
          -0.030114851379602514,
          -0.036755012958376965,
          -0.05276874272089263,
          0.06874495890931137,
          0.017509520524831457,
          -0.025872658630353873,
          -0.010732775896818647,
          0.011171392451689965,
          0.01893754925163449,
          0.04718278658575281,
          0.022208502437999322,
          0.04689263664106047,
          0.001047971591967789,
          0.01970889909021023,
          -0.01867234660076217,
          -0.03357600961222923,
          -0.03543286447781124,
          -0.0334449421702705,
          -0.0236360499417647,
          -0.03036891186341012,
          0.03145900103266264,
          0.008553433818043799,
          -0.03449437973207481,
          0.016364260325870572,
          0.039324147817002775,
          0.019938358431695113,
          -0.0020179594006622947,
          0.01145038620207365,
          0.017700569965571955,
          -0.015817593360665128,
          -0.11475857766439634,
          -0.12116998598980988,
          -0.0702151769474495,
          -0.10266561313404365,
          0.005463490366805379,
          -0.04386691259604755,
          -0.021460398909644907,
          0.03676269624444095,
          0.045311023191063615,
          0.056776105558827505,
          -0.0122284843722556,
          -0.009893255034045131,
          0.03689780672369569,
          -0.031967869629668855,
          0.024269197871229387,
          -0.016064681596642205,
          -0.01800121561770429,
          -0.01537403464208531,
          -0.0036938596041250493,
          0.025378596374035056,
          0.012158226331686839,
          0.024161774211175047,
          0.0442416835799585,
          0.043298629742818284,
          0.04096564756234378,
          0.019408920307944832,
          -0.04107157167431774,
          -0.1289016928656922,
          -0.08437819693313675,
          -0.020210684225005965,
          0.005492478929077671,
          0.031294252508574094,
          0.06417104073478774,
          -0.012807189103194394,
          -0.02350172778436796,
          0.02083439535841891,
          -0.021509724489970045,
          0.040429511959567566,
          -0.03914829201627379,
          -0.014241567566114888,
          0.020534140069761286,
          0.03100007265636473,
          0.02342600104851167,
          0.034082379967346754,
          0.04974993332395461,
          -0.0035129841436138953,
          -0.009553290338909226,
          -0.03353814386826276,
          0.021774701263751473,
          0.09561258305837823,
          -0.01591347579489022,
          -0.02898795365943535,
          -0.00011390409276640368,
          -0.03668954913494715,
          -0.006065222719818908,
          0.016313487706995478,
          -0.013858779586701758,
          -0.01835828372268411,
          0.044414218314840936,
          -0.002727096892286049,
          0.019092597241274323,
          0.02470252497765251,
          -0.0383833214496454,
          0.032290057782349835,
          0.0021776633976613308,
          0.02852242219134471,
          0.007214469659663103,
          0.046298853617644964,
          -0.02304296436122011,
          -0.01697825387136953,
          0.020898617108534245,
          -0.04912668515912194,
          -0.024351022297611713,
          -0.0144845692849076,
          0.037457959363863536,
          -0.0012691138523249768,
          0.011788812559549222,
          0.009501280634626318,
          -0.05020597102727453,
          -0.042429847154180134,
          -0.03132758173970607,
          -0.019936152557901154,
          0.017831231856497376,
          -0.0203384065213309,
          0.04708023544632023,
          0.0031495489031772572,
          0.022297651724742733,
          0.01855289929682688,
          -0.008715559295509545,
          0.0013762362353643143,
          0.05285497496027902,
          0.009545600759855,
          -0.028938903651731573,
          -0.03582143825488285,
          0.04532290208807033,
          0.058517277642852146,
          -0.035363868791075614,
          -0.006853568688505771,
          -0.03224342589221091,
          -0.048643776907966174,
          0.056902111494744334,
          -0.021317404417933908,
          0.020889225452021543,
          -0.04596372835438489,
          0.049849198689354446,
          0.016597426078299393,
          0.03106717928655023,
          0.045369054217494154,
          0.03456614153547899,
          -0.032160496623681506,
          -0.01230978197108279,
          -0.025916701560323274,
          0.01099942952531352,
          -0.041985904766294824,
          -0.025422718139747114,
          -0.022834035306379535,
          0.02562481413687201,
          0.004870133033124557,
          0.05317745346297986,
          0.005624828823304229,
          -0.023791125329186202,
          -0.04251043068830812,
          -0.020396518213962878,
          0.038603137484584216,
          -0.02785594121013707,
          0.02329043697513522,
          0.04009417844094498,
          0.03347970594620253,
          0.020553167637280323,
          -0.025971502749231434,
          -0.0028543499442315046,
          -0.017921980133089793
         ],
         "xaxis": "x",
         "y": [
          0.0984,
          0.3169,
          0.5401,
          0.7392,
          0.9318,
          0.3946,
          0.2213,
          0.8713,
          0.9478,
          0.7417,
          0.9971,
          0.0506,
          0.0892,
          0.3962,
          0.6643,
          0.129,
          0.6914,
          0.4076,
          0.1363,
          0.7863,
          0.5576,
          0.0029,
          0.2484,
          0.1796,
          0.9185,
          0.9637,
          0.299,
          0.6478,
          0.9115,
          0.136,
          0.793,
          0.8086,
          0.9146,
          0.9892,
          0.8752,
          0.5975,
          0.7803,
          0.3188,
          0.7834,
          0.7962,
          0.2159,
          0.7882,
          0.7057,
          0.9452,
          0.9529,
          0.6439,
          0.8401,
          0.279,
          0.1443,
          0.0771,
          0.2309,
          0.4726,
          0.0121,
          0.1752,
          0.4229,
          0.971,
          0.0551,
          0.5522,
          0.3121,
          0.8605,
          0.3408,
          0.9404,
          0.7529,
          0.6506,
          0.099,
          0.4748,
          0.8124,
          0.5096,
          0.7137,
          0.6876,
          0.5646,
          0.6188,
          0.3857,
          0.1108,
          0.8777,
          0.972,
          0.8965,
          0.2736,
          0.2522,
          0.2924,
          0.4134,
          0.2838,
          0.5854,
          0.1818,
          0.601,
          0.3156,
          0.3666,
          0.507,
          0.6646,
          0.3596,
          0.7338,
          0.1118,
          0.8417,
          0.1662,
          0.6264,
          0.6717,
          0.0965,
          0.8092,
          0.0398,
          0.2395,
          0.7146,
          0.1271,
          0.5303,
          0.1981,
          0.7828,
          0.2175,
          0.8545,
          0.2643,
          0.4828,
          0.1917,
          0.514,
          0.6204,
          0.5602,
          0.3322,
          0.5369,
          0.2382,
          0.4866,
          0.4,
          0.3557,
          0.5494,
          0.0688,
          0.0404,
          0.3455,
          0.3532,
          0.6315,
          0.6197,
          0.4822,
          0.3099,
          0.8876,
          0.9143,
          0.5742,
          0.0092,
          0.2634,
          0.1519,
          0.0239,
          0.8369,
          0.4452,
          0.6029,
          0.1732,
          0.8732,
          0.4933,
          0.707,
          0.8857,
          0.1369,
          0.3032,
          0.2363,
          0.5946,
          0.9831,
          0.9818,
          0.5248,
          0.3927,
          0.8522,
          0.4213,
          0.051,
          0.4803,
          0.1892,
          0.9436,
          0.6994,
          0.8889,
          0.7401,
          0.8736,
          0.1146,
          0.4637,
          0.2041,
          0.1191,
          0.1822,
          0.7675,
          0.542,
          0.6841,
          0.8822,
          0.4618,
          0.4363,
          0.7067,
          0.5025,
          0.2006,
          0.7545,
          0.5898,
          0.5484,
          0.6159,
          0.5554,
          0.4994,
          0.608,
          0.8675,
          0.493,
          0.379,
          0.1857,
          0.8395,
          0.0213,
          0.0424,
          0.9248,
          0.8022,
          0.764,
          0.9188,
          0.9213,
          0.5191,
          0.4487,
          0.8312,
          0.6076,
          0.5478,
          0.8525,
          0.1615,
          0.5258,
          0.9035,
          0.1201,
          0.7653,
          0.0182,
          0.7631,
          0.0997,
          0.2105,
          0.4446,
          0.5828,
          0.1232,
          0.4911,
          0.6268,
          0.2768,
          0.2497,
          0.9019,
          0.4968,
          0.2503,
          0.0395,
          0.6169,
          0.2882,
          0.6096,
          0.7306,
          0.1153,
          0.1583,
          0.3783,
          0.549,
          0.5156,
          0.9796,
          0.628,
          0.6672,
          0.1901,
          0.4038,
          0.2529,
          0.3395,
          0.9506,
          0.7073,
          0.2379,
          0.6471,
          0.7022,
          0.5131,
          0.3338,
          0.7713,
          0.0882,
          0.8796,
          0.3768,
          0.7226,
          0.8701,
          0.4764,
          0.7908,
          0.5573,
          0.8924,
          0.3277,
          0.9086,
          0.8608,
          0.5201,
          0.5051,
          0.6166,
          0.007,
          0.6707,
          0.7497,
          0.722,
          0.165,
          0.6793,
          0.8293,
          0.9997,
          0.7252,
          0.8232,
          0.3895,
          0.4315,
          0.2904,
          0.5038,
          0.8096,
          0.636,
          0.799,
          0.6656,
          0.1054,
          0.2271,
          0.3115,
          0.7561,
          0.5185,
          0.7538,
          0.1102,
          0.6561,
          0.5239,
          0.915,
          0.3793,
          0.522,
          0.5306,
          0.4796,
          0.2054,
          0.6822,
          0.9589,
          0.5439,
          0.3252,
          0.5217,
          0.7516,
          0.3468,
          0.1611,
          0.7975,
          0.0175,
          0.7118,
          0.3194,
          0.7197,
          0.0229,
          0.4971,
          0.2831,
          0.6392,
          0.4783,
          0.5984,
          0.2089,
          0.8812,
          0.1293,
          0.7159,
          0.0933,
          0.9783,
          0.9809,
          0.7946,
          0.8787,
          0.451,
          0.6382,
          0.0382,
          0.9118,
          0.9994,
          0.3863,
          0.386,
          0.5943,
          0.4787,
          0.8366,
          0.285,
          0.1634,
          0.9618,
          0.1436,
          0.8153,
          0.1685,
          0.7344,
          0.0927,
          0.7822,
          0.2341,
          0.2506,
          0.0357,
          0.7659,
          0.3949,
          0.6869,
          0.7038,
          0.7025,
          0.0013,
          0.2825,
          0.9261,
          0.2516,
          0.0742,
          0.4997,
          0.9232,
          0.321,
          0.5634,
          0.9787,
          0.557,
          0.6481,
          0.0752,
          0.6777,
          0.6895,
          0.9678,
          0.4631,
          0.0315,
          0.0736,
          0.1223,
          0.4318,
          0.9032,
          0.8592,
          0.9697,
          0.4373,
          0.9296,
          0.8761,
          0.7522,
          0.3414,
          0.0497,
          0.2293,
          0.314,
          0.1455,
          0.1452,
          0.0662,
          0.7446,
          0.1471,
          0.3401,
          0.3299,
          0.6592,
          0.115,
          0.9334,
          0.2513,
          0.4115,
          0.442,
          0.6551,
          0.1838,
          0.9379,
          0.4987,
          0.2204,
          0.2115,
          0.6006,
          0.7086,
          0.2672,
          0.9475,
          0.0646,
          0.2895,
          0.2787,
          0.9038,
          0.4561,
          0.7564,
          0.4624,
          0.3933,
          0.2382,
          0.8204,
          0.7016,
          0.5866,
          0.4207,
          0.5452,
          0.1968,
          0.6073,
          0.9366,
          0.0787,
          0.9162,
          0.8102,
          0.2879,
          0.3494,
          0.3287,
          0.4131,
          0.3806,
          0.3497,
          0.9745,
          0.7541,
          0.5774,
          0.1182,
          0.8207,
          0.158,
          0.772,
          0.0178,
          0.4376,
          0.3191,
          0.6653,
          0.3051,
          0.701,
          0.1156,
          0.5194,
          0.1086,
          0.8261,
          0.8182,
          0.6978,
          0.592,
          0.7303,
          0.1392,
          0.1882,
          0.1618,
          0.6758,
          0.6217,
          0.0866,
          0.8685,
          0.6586,
          0.1774,
          0.9217,
          0.8987,
          0.4532,
          0.822,
          0.985,
          0.4436,
          0.1465,
          0.3083,
          0.8994,
          0.3503,
          0.2777,
          0.2468,
          0.0172,
          0.8895,
          0.3344,
          0.9459,
          0.6465,
          0.6245,
          0.8264,
          0.5334,
          0.7841,
          0.9099,
          0.9006,
          0.1169,
          0.3334,
          0.4312,
          0.2118,
          0.1025,
          0.3662,
          0.6764,
          0.4557,
          0.9646,
          0.6182,
          0.778,
          0.5567,
          0.5519,
          0.0608,
          0.4895,
          0.3589,
          0.9908,
          0.9924,
          0.9834,
          0.9889,
          0.9277,
          0.1984,
          0.4309,
          0.7694,
          0.829,
          0.8099,
          0.421,
          0.0904,
          0.7382,
          0.2697,
          0.6293,
          0.3624,
          0.4576,
          0.9576,
          0.9328,
          0.672,
          0.5197,
          0.8627,
          0.843,
          0.8188,
          0.8118,
          0.5758,
          0.3182,
          0.9946,
          0.9895,
          0.1576,
          0.528,
          0.7898,
          0.7889,
          0.4682,
          0.1666,
          0.8847,
          0.1424,
          0.751,
          0.4092,
          0.1411,
          0.6583,
          0.6809,
          0.8382,
          0.8602,
          0.8529,
          0.5541,
          0.1099,
          0.3844,
          0.5382,
          0.0102,
          0.9592,
          0.3803,
          0.4691,
          0.2086,
          0.936,
          0.5169,
          0.1162,
          0.4411,
          0.8315,
          0.0939,
          0.629,
          0.0599,
          0.3385,
          0.7646,
          0.0704,
          0.6564,
          0.4927,
          0.7182,
          0.5061,
          0.5226,
          0.6258,
          0.292,
          0.3713,
          0.9525,
          0.7175,
          0.5242,
          0.8908,
          0.0602,
          0.3793,
          0.2127,
          0.3675,
          0.2092,
          0.6564,
          0.3994,
          0.8446,
          0.4799,
          0.0589,
          0.0532,
          0.4532,
          0.4608,
          0.7408,
          0.5299,
          0.236,
          0.1459,
          0.7758,
          0.0283,
          0.4274,
          0.0994,
          0.3828,
          0.3064,
          0.7354,
          0.1239,
          0.6213,
          0.3357,
          0.6936,
          0.5685,
          0.7468,
          0.7952,
          0.7576,
          0.1697,
          0.1264,
          0.1599,
          0.6303,
          0.3551,
          0.3573,
          0.1908,
          0.7061,
          0.5691,
          0.6395,
          0.478,
          0.4885,
          0.3162,
          0.4296,
          0.7338,
          0.3197,
          0.851,
          0.8108,
          0.8717,
          0.6548,
          0.9631,
          0.5108,
          0.15
         ],
         "yaxis": "y"
        }
       ],
       "layout": {
        "legend": {
         "tracegroupgap": 0
        },
        "margin": {
         "t": 60
        },
        "template": {
         "data": {
          "bar": [
           {
            "error_x": {
             "color": "#2a3f5f"
            },
            "error_y": {
             "color": "#2a3f5f"
            },
            "marker": {
             "line": {
              "color": "#E5ECF6",
              "width": 0.5
             },
             "pattern": {
              "fillmode": "overlay",
              "size": 10,
              "solidity": 0.2
             }
            },
            "type": "bar"
           }
          ],
          "barpolar": [
           {
            "marker": {
             "line": {
              "color": "#E5ECF6",
              "width": 0.5
             },
             "pattern": {
              "fillmode": "overlay",
              "size": 10,
              "solidity": 0.2
             }
            },
            "type": "barpolar"
           }
          ],
          "carpet": [
           {
            "aaxis": {
             "endlinecolor": "#2a3f5f",
             "gridcolor": "white",
             "linecolor": "white",
             "minorgridcolor": "white",
             "startlinecolor": "#2a3f5f"
            },
            "baxis": {
             "endlinecolor": "#2a3f5f",
             "gridcolor": "white",
             "linecolor": "white",
             "minorgridcolor": "white",
             "startlinecolor": "#2a3f5f"
            },
            "type": "carpet"
           }
          ],
          "choropleth": [
           {
            "colorbar": {
             "outlinewidth": 0,
             "ticks": ""
            },
            "type": "choropleth"
           }
          ],
          "contour": [
           {
            "colorbar": {
             "outlinewidth": 0,
             "ticks": ""
            },
            "colorscale": [
             [
              0,
              "#0d0887"
             ],
             [
              0.1111111111111111,
              "#46039f"
             ],
             [
              0.2222222222222222,
              "#7201a8"
             ],
             [
              0.3333333333333333,
              "#9c179e"
             ],
             [
              0.4444444444444444,
              "#bd3786"
             ],
             [
              0.5555555555555556,
              "#d8576b"
             ],
             [
              0.6666666666666666,
              "#ed7953"
             ],
             [
              0.7777777777777778,
              "#fb9f3a"
             ],
             [
              0.8888888888888888,
              "#fdca26"
             ],
             [
              1,
              "#f0f921"
             ]
            ],
            "type": "contour"
           }
          ],
          "contourcarpet": [
           {
            "colorbar": {
             "outlinewidth": 0,
             "ticks": ""
            },
            "type": "contourcarpet"
           }
          ],
          "heatmap": [
           {
            "colorbar": {
             "outlinewidth": 0,
             "ticks": ""
            },
            "colorscale": [
             [
              0,
              "#0d0887"
             ],
             [
              0.1111111111111111,
              "#46039f"
             ],
             [
              0.2222222222222222,
              "#7201a8"
             ],
             [
              0.3333333333333333,
              "#9c179e"
             ],
             [
              0.4444444444444444,
              "#bd3786"
             ],
             [
              0.5555555555555556,
              "#d8576b"
             ],
             [
              0.6666666666666666,
              "#ed7953"
             ],
             [
              0.7777777777777778,
              "#fb9f3a"
             ],
             [
              0.8888888888888888,
              "#fdca26"
             ],
             [
              1,
              "#f0f921"
             ]
            ],
            "type": "heatmap"
           }
          ],
          "heatmapgl": [
           {
            "colorbar": {
             "outlinewidth": 0,
             "ticks": ""
            },
            "colorscale": [
             [
              0,
              "#0d0887"
             ],
             [
              0.1111111111111111,
              "#46039f"
             ],
             [
              0.2222222222222222,
              "#7201a8"
             ],
             [
              0.3333333333333333,
              "#9c179e"
             ],
             [
              0.4444444444444444,
              "#bd3786"
             ],
             [
              0.5555555555555556,
              "#d8576b"
             ],
             [
              0.6666666666666666,
              "#ed7953"
             ],
             [
              0.7777777777777778,
              "#fb9f3a"
             ],
             [
              0.8888888888888888,
              "#fdca26"
             ],
             [
              1,
              "#f0f921"
             ]
            ],
            "type": "heatmapgl"
           }
          ],
          "histogram": [
           {
            "marker": {
             "pattern": {
              "fillmode": "overlay",
              "size": 10,
              "solidity": 0.2
             }
            },
            "type": "histogram"
           }
          ],
          "histogram2d": [
           {
            "colorbar": {
             "outlinewidth": 0,
             "ticks": ""
            },
            "colorscale": [
             [
              0,
              "#0d0887"
             ],
             [
              0.1111111111111111,
              "#46039f"
             ],
             [
              0.2222222222222222,
              "#7201a8"
             ],
             [
              0.3333333333333333,
              "#9c179e"
             ],
             [
              0.4444444444444444,
              "#bd3786"
             ],
             [
              0.5555555555555556,
              "#d8576b"
             ],
             [
              0.6666666666666666,
              "#ed7953"
             ],
             [
              0.7777777777777778,
              "#fb9f3a"
             ],
             [
              0.8888888888888888,
              "#fdca26"
             ],
             [
              1,
              "#f0f921"
             ]
            ],
            "type": "histogram2d"
           }
          ],
          "histogram2dcontour": [
           {
            "colorbar": {
             "outlinewidth": 0,
             "ticks": ""
            },
            "colorscale": [
             [
              0,
              "#0d0887"
             ],
             [
              0.1111111111111111,
              "#46039f"
             ],
             [
              0.2222222222222222,
              "#7201a8"
             ],
             [
              0.3333333333333333,
              "#9c179e"
             ],
             [
              0.4444444444444444,
              "#bd3786"
             ],
             [
              0.5555555555555556,
              "#d8576b"
             ],
             [
              0.6666666666666666,
              "#ed7953"
             ],
             [
              0.7777777777777778,
              "#fb9f3a"
             ],
             [
              0.8888888888888888,
              "#fdca26"
             ],
             [
              1,
              "#f0f921"
             ]
            ],
            "type": "histogram2dcontour"
           }
          ],
          "mesh3d": [
           {
            "colorbar": {
             "outlinewidth": 0,
             "ticks": ""
            },
            "type": "mesh3d"
           }
          ],
          "parcoords": [
           {
            "line": {
             "colorbar": {
              "outlinewidth": 0,
              "ticks": ""
             }
            },
            "type": "parcoords"
           }
          ],
          "pie": [
           {
            "automargin": true,
            "type": "pie"
           }
          ],
          "scatter": [
           {
            "marker": {
             "colorbar": {
              "outlinewidth": 0,
              "ticks": ""
             }
            },
            "type": "scatter"
           }
          ],
          "scatter3d": [
           {
            "line": {
             "colorbar": {
              "outlinewidth": 0,
              "ticks": ""
             }
            },
            "marker": {
             "colorbar": {
              "outlinewidth": 0,
              "ticks": ""
             }
            },
            "type": "scatter3d"
           }
          ],
          "scattercarpet": [
           {
            "marker": {
             "colorbar": {
              "outlinewidth": 0,
              "ticks": ""
             }
            },
            "type": "scattercarpet"
           }
          ],
          "scattergeo": [
           {
            "marker": {
             "colorbar": {
              "outlinewidth": 0,
              "ticks": ""
             }
            },
            "type": "scattergeo"
           }
          ],
          "scattergl": [
           {
            "marker": {
             "colorbar": {
              "outlinewidth": 0,
              "ticks": ""
             }
            },
            "type": "scattergl"
           }
          ],
          "scattermapbox": [
           {
            "marker": {
             "colorbar": {
              "outlinewidth": 0,
              "ticks": ""
             }
            },
            "type": "scattermapbox"
           }
          ],
          "scatterpolar": [
           {
            "marker": {
             "colorbar": {
              "outlinewidth": 0,
              "ticks": ""
             }
            },
            "type": "scatterpolar"
           }
          ],
          "scatterpolargl": [
           {
            "marker": {
             "colorbar": {
              "outlinewidth": 0,
              "ticks": ""
             }
            },
            "type": "scatterpolargl"
           }
          ],
          "scatterternary": [
           {
            "marker": {
             "colorbar": {
              "outlinewidth": 0,
              "ticks": ""
             }
            },
            "type": "scatterternary"
           }
          ],
          "surface": [
           {
            "colorbar": {
             "outlinewidth": 0,
             "ticks": ""
            },
            "colorscale": [
             [
              0,
              "#0d0887"
             ],
             [
              0.1111111111111111,
              "#46039f"
             ],
             [
              0.2222222222222222,
              "#7201a8"
             ],
             [
              0.3333333333333333,
              "#9c179e"
             ],
             [
              0.4444444444444444,
              "#bd3786"
             ],
             [
              0.5555555555555556,
              "#d8576b"
             ],
             [
              0.6666666666666666,
              "#ed7953"
             ],
             [
              0.7777777777777778,
              "#fb9f3a"
             ],
             [
              0.8888888888888888,
              "#fdca26"
             ],
             [
              1,
              "#f0f921"
             ]
            ],
            "type": "surface"
           }
          ],
          "table": [
           {
            "cells": {
             "fill": {
              "color": "#EBF0F8"
             },
             "line": {
              "color": "white"
             }
            },
            "header": {
             "fill": {
              "color": "#C8D4E3"
             },
             "line": {
              "color": "white"
             }
            },
            "type": "table"
           }
          ]
         },
         "layout": {
          "annotationdefaults": {
           "arrowcolor": "#2a3f5f",
           "arrowhead": 0,
           "arrowwidth": 1
          },
          "autotypenumbers": "strict",
          "coloraxis": {
           "colorbar": {
            "outlinewidth": 0,
            "ticks": ""
           }
          },
          "colorscale": {
           "diverging": [
            [
             0,
             "#8e0152"
            ],
            [
             0.1,
             "#c51b7d"
            ],
            [
             0.2,
             "#de77ae"
            ],
            [
             0.3,
             "#f1b6da"
            ],
            [
             0.4,
             "#fde0ef"
            ],
            [
             0.5,
             "#f7f7f7"
            ],
            [
             0.6,
             "#e6f5d0"
            ],
            [
             0.7,
             "#b8e186"
            ],
            [
             0.8,
             "#7fbc41"
            ],
            [
             0.9,
             "#4d9221"
            ],
            [
             1,
             "#276419"
            ]
           ],
           "sequential": [
            [
             0,
             "#0d0887"
            ],
            [
             0.1111111111111111,
             "#46039f"
            ],
            [
             0.2222222222222222,
             "#7201a8"
            ],
            [
             0.3333333333333333,
             "#9c179e"
            ],
            [
             0.4444444444444444,
             "#bd3786"
            ],
            [
             0.5555555555555556,
             "#d8576b"
            ],
            [
             0.6666666666666666,
             "#ed7953"
            ],
            [
             0.7777777777777778,
             "#fb9f3a"
            ],
            [
             0.8888888888888888,
             "#fdca26"
            ],
            [
             1,
             "#f0f921"
            ]
           ],
           "sequentialminus": [
            [
             0,
             "#0d0887"
            ],
            [
             0.1111111111111111,
             "#46039f"
            ],
            [
             0.2222222222222222,
             "#7201a8"
            ],
            [
             0.3333333333333333,
             "#9c179e"
            ],
            [
             0.4444444444444444,
             "#bd3786"
            ],
            [
             0.5555555555555556,
             "#d8576b"
            ],
            [
             0.6666666666666666,
             "#ed7953"
            ],
            [
             0.7777777777777778,
             "#fb9f3a"
            ],
            [
             0.8888888888888888,
             "#fdca26"
            ],
            [
             1,
             "#f0f921"
            ]
           ]
          },
          "colorway": [
           "#636efa",
           "#EF553B",
           "#00cc96",
           "#ab63fa",
           "#FFA15A",
           "#19d3f3",
           "#FF6692",
           "#B6E880",
           "#FF97FF",
           "#FECB52"
          ],
          "font": {
           "color": "#2a3f5f"
          },
          "geo": {
           "bgcolor": "white",
           "lakecolor": "white",
           "landcolor": "#E5ECF6",
           "showlakes": true,
           "showland": true,
           "subunitcolor": "white"
          },
          "hoverlabel": {
           "align": "left"
          },
          "hovermode": "closest",
          "mapbox": {
           "style": "light"
          },
          "paper_bgcolor": "white",
          "plot_bgcolor": "#E5ECF6",
          "polar": {
           "angularaxis": {
            "gridcolor": "white",
            "linecolor": "white",
            "ticks": ""
           },
           "bgcolor": "#E5ECF6",
           "radialaxis": {
            "gridcolor": "white",
            "linecolor": "white",
            "ticks": ""
           }
          },
          "scene": {
           "xaxis": {
            "backgroundcolor": "#E5ECF6",
            "gridcolor": "white",
            "gridwidth": 2,
            "linecolor": "white",
            "showbackground": true,
            "ticks": "",
            "zerolinecolor": "white"
           },
           "yaxis": {
            "backgroundcolor": "#E5ECF6",
            "gridcolor": "white",
            "gridwidth": 2,
            "linecolor": "white",
            "showbackground": true,
            "ticks": "",
            "zerolinecolor": "white"
           },
           "zaxis": {
            "backgroundcolor": "#E5ECF6",
            "gridcolor": "white",
            "gridwidth": 2,
            "linecolor": "white",
            "showbackground": true,
            "ticks": "",
            "zerolinecolor": "white"
           }
          },
          "shapedefaults": {
           "line": {
            "color": "#2a3f5f"
           }
          },
          "ternary": {
           "aaxis": {
            "gridcolor": "white",
            "linecolor": "white",
            "ticks": ""
           },
           "baxis": {
            "gridcolor": "white",
            "linecolor": "white",
            "ticks": ""
           },
           "bgcolor": "#E5ECF6",
           "caxis": {
            "gridcolor": "white",
            "linecolor": "white",
            "ticks": ""
           }
          },
          "title": {
           "x": 0.05
          },
          "xaxis": {
           "automargin": true,
           "gridcolor": "white",
           "linecolor": "white",
           "ticks": "",
           "title": {
            "standoff": 15
           },
           "zerolinecolor": "white",
           "zerolinewidth": 2
          },
          "yaxis": {
           "automargin": true,
           "gridcolor": "white",
           "linecolor": "white",
           "ticks": "",
           "title": {
            "standoff": 15
           },
           "zerolinecolor": "white",
           "zerolinewidth": 2
          }
         }
        },
        "xaxis": {
         "anchor": "y",
         "domain": [
          0,
          1
         ],
         "title": {
          "text": "x"
         }
        },
        "yaxis": {
         "anchor": "x",
         "domain": [
          0,
          1
         ],
         "title": {
          "text": "y"
         }
        }
       }
      },
      "text/html": [
       "<div>                            <div id=\"4a177b61-262a-4c1d-8241-e621932fba58\" class=\"plotly-graph-div\" style=\"height:525px; width:100%;\"></div>            <script type=\"text/javascript\">                require([\"plotly\"], function(Plotly) {                    window.PLOTLYENV=window.PLOTLYENV || {};                                    if (document.getElementById(\"4a177b61-262a-4c1d-8241-e621932fba58\")) {                    Plotly.newPlot(                        \"4a177b61-262a-4c1d-8241-e621932fba58\",                        [{\"hovertemplate\":\"x=%{x}<br>y=%{y}<extra></extra>\",\"legendgroup\":\"\",\"marker\":{\"color\":\"#636efa\",\"symbol\":\"circle\"},\"mode\":\"markers\",\"name\":\"\",\"orientation\":\"v\",\"showlegend\":false,\"x\":[-0.021474502116666225,-0.03133755044316716,0.001167359068691809,0.04259961412448732,-0.005107338355268443,-0.018356330283585687,-0.05638615955115872,0.03192664992079086,-0.024290799990594802,0.058722345592762126,-0.1478690135097286,0.02296609927415135,-0.0038635444107556483,-0.022086538397028177,0.03848021779798283,-0.024552263485457193,0.033426482594642426,-0.014148463602348393,-0.021876636646835895,0.043027658203137475,-0.0026141392664633667,0.15900685002529452,-0.04704153601777189,-0.03313972617866526,-0.0043134810617880825,-0.03707626714380097,-0.02435531407138819,0.008404120338861065,0.006784622117140593,-0.015299805989956616,0.039797343233051286,0.02215780703300574,0.01349783529073878,-0.10576710190881256,0.018088952564613625,0.011709792752032544,0.05600159165255714,-0.013160330444484558,0.04861608060133016,0.0470576302400012,-0.0423647631119293,0.04085249914215505,0.024599061885392848,-0.0073440525423297265,-0.0034258771414866773,0.025862709846131593,0.05287969838029316,-0.0440562141525519,-0.021366672915466817,0.002795781895018279,-0.05347532248187309,0.014122977122938862,0.08347447567331051,-0.02401127748739637,-0.011685312710340179,-0.054512750446042646,0.020234277682601408,0.006972150896399909,-0.03070407620550225,0.03377646022690972,-0.028383318093637033,-0.00885559834058569,0.05537794705785737,0.028661222107480788,-0.025731383782849476,-0.005948952011732733,0.025007356843263162,-0.015770606351270477,0.03392013373799041,0.031217103967972504,0.011732149330675012,0.02027113519499235,-0.02871522276993832,-0.011102947369088081,0.04961337290506507,-0.03859737565976595,0.00330024255175998,-0.03935189352728363,-0.033001611144057585,-0.02683678401838252,-0.036688140679403014,-0.04168593618898597,0.016168920149792654,-0.028477102757709455,0.01420820910770837,-0.03667347000089777,-0.025382441602141037,-0.0011254306633803335,0.022823563551354842,-0.029746060414756692,0.045717319461815564,-0.02485151148632543,0.03540959195462545,-0.028446102208351615,0.005665151639325461,0.031674327837433514,-0.007532474113422644,0.04144624915159212,0.02459958561986786,-0.02761696833313171,0.04627057092509357,-0.013321817751018594,0.0040982738532535645,-0.029050982168077055,0.03687350765350772,-0.039812222673930836,0.036926391330766806,-0.05690392451496051,-0.0028038999333219183,-0.02508719482064045,0.0032180429059412985,0.02148297480970507,-0.0048943609154444845,-0.030550977029586812,0.004115108213681329,-0.029193879222624036,-0.002180894020373525,-0.020709186570822713,-0.029049857564542647,0.007051212015207087,0.006008265183728628,0.028864377390682046,-0.054415410415317556,-0.018633727344796347,0.03855583526970685,0.018076446997847495,-0.005396249531175679,-0.025681679193585272,0.03002668793790697,0.005715990564886586,0.007266716248619853,0.10390005404910437,-0.034613670884272474,-0.019803767477172968,0.04270944204505092,0.027695244491190096,-0.03289802993901081,0.028331844989778587,-0.02262561631030932,0.0327619858769006,-0.015365314410759667,0.02462777533965599,0.024533989473637052,-0.0319390426193675,-0.0405046698103847,-0.047055272910452584,0.019924006437648134,-0.0596903071667757,-0.07735472501921392,0.0062632628168616256,-0.017016141763533943,0.036578867409505,-0.006600221391619865,0.022910066343523446,0.014477922887943806,-0.036983965867899565,-0.009051226853770578,0.03645296975576129,0.016958136855786732,0.05288079288479852,0.023558263932021206,-0.012751523224447212,0.005718065963640662,-0.052133296849125654,-0.022330614815379443,-0.032613600633866896,0.028220829413385107,0.01896074485251531,0.030134135909699045,0.029186269700766543,-0.0017978662722008543,-0.006622199282034447,0.03491526570861214,0.010741222773759718,-0.02207883238329089,0.03499480310416914,0.00962156853366758,0.014596768084394252,0.01977113356936777,0.005780489044169945,-0.0055365962066096785,0.013197742354758457,0.02949526179857409,-0.005120788688219247,-0.023451919037362157,-0.026828609583846613,0.01709503987127159,0.037711172594509915,0.026896993357705075,0.012979030408430958,0.03473738264987902,0.043593355509644605,-0.012338351733234165,0.0011086406838550777,0.0060799956115199505,-0.03267479706090659,0.031245721249898772,0.01821673218273967,0.0018394858582727602,0.027130309950133435,-0.015315853101390747,0.005080283771179195,0.032344874206480356,-0.010872867408347794,0.025680831674946947,0.06287800442693098,0.050431368593837345,0.00258331511731201,-0.028249282908080237,-0.016242469037175133,0.02129208707786645,-0.019592298033306116,0.007976269270272007,-0.00022404050950841636,-0.03299899844062404,-0.024769420343164567,0.020285552099216342,-0.013738826809435611,-0.018671133214956004,0.03055613874206061,0.026844369799011614,-0.03282799306918077,-0.00036359353768466995,0.04563620565348414,-0.007763872672129593,-0.035387730814053664,-0.025939070470047565,0.004345909268652082,-0.005347954241168962,-0.0550555219299238,0.03790606895040538,0.013179974175829168,-0.040188624711393894,-0.015361149857582745,-0.0508470616883247,-0.05496986708230406,-0.020821214984600434,0.03342073142445212,-0.03165879666196364,0.02734953999112333,0.044473727610826796,-0.009606555437360997,-0.03570720604778044,0.029534697482221817,-0.00548853528266896,0.031957192802878676,-0.019533717515176074,0.04394987506561854,0.024383707790235576,-0.0041928805819889114,0.034639911915269384,-0.006949554689929416,0.015623678643363781,-0.015120356265337032,0.02204725189333845,0.019661496814304735,-0.013732206194023266,0.011668138386506877,0.026729043772820482,0.10371434893428016,0.02678104971422457,0.04335310499327105,0.044892612502547724,-0.03198635893590565,0.029845895679423307,0.02903549807430783,-0.21673728878250587,0.040938611923330925,0.04517435091087185,-0.03276819439921558,-0.018861100494908245,-0.03688514922294239,0.007162417765810447,0.03206007310741288,0.015223052913234891,0.05041524345863335,0.03882726297203076,-0.01633333761422373,-0.034995136618299866,-0.0333626884782221,0.030393683928996218,0.020953215619464838,0.03775239014375842,-0.0011917136808241718,0.022225685469157264,-0.014742610993031535,0.010718540459095482,-0.03197399746373958,-0.018613666049021482,-0.006183855611071598,-0.006457235848597642,-0.02967960977532577,0.04558816032508195,-0.019847267658897993,0.003921737551174309,-0.04347511139236765,-0.015003435872358861,0.05391124766250299,-0.043562711358853035,-0.022858143778121426,0.03990654063014398,0.07499659267479007,0.052025575245301825,-0.02693173296330864,0.048431365928003456,0.06318208887311252,0.002984579531238596,-0.04936306869822671,0.021902494957378393,-0.002394018966492051,0.004627547815398092,-0.031946126261015256,0.021074090642705823,-0.017393880321154714,0.03969392359155677,-0.013420756126401368,-0.05933216748410719,-0.05481981264641089,0.05161623947616634,0.015306626048648075,-0.004037472092202121,0.021783506455012258,0.030059183400968845,0.01967128762474657,-0.20648832018522045,-0.024725577074533156,-0.01945397133712301,0.001714029896725422,-0.015181091532402435,0.027857904663148414,-0.04640610703220199,-0.03293527079851305,-0.026598828367861316,-0.013595307822885372,0.035090682860653755,-0.028839712787176425,0.06971084341681932,0.006052198589484026,0.04303276601435124,-0.04170994963501459,-0.030487306789893365,0.005891800440043775,0.036196970331123124,-0.028943453118737306,0.03052968941751788,0.029461792163584133,0.03700763568075982,0.18826913648991492,-0.02868550436677958,0.0028039509219962566,-0.034279716606908095,-0.016450847576764946,-0.007618677562666598,0.013180260442875902,-0.025308551777862398,0.0015406625376136462,-0.05421800432792623,0.00265078307899258,0.03008976454669232,0.004743939838574587,0.027814600647367405,0.033474725512975034,-0.03480358646068926,0.00403452839241375,0.03105086316941605,-0.001432757431161391,-0.012209592513487591,-0.0017341495046647726,0.016090883939516853,0.0543733662171505,-0.04752485060626355,-0.020161605058971688,0.008550204382146598,0.019089110574054158,0.033117708526333,-0.03076728405580409,0.019172815774918785,-0.02500213386439537,-0.037662943832943774,-0.014247761140737364,-0.028106632078343075,0.012014239105743243,0.05476290855132948,-0.03028346004071908,-0.017125273012664255,-0.0295731469871392,0.037755947814823276,-0.009501937514938205,-0.014502713931081379,-0.020508764957424985,-0.036374199357512293,-0.01533100241041263,0.018682015153726916,-0.030362586327737168,-0.018761011840603192,-0.009355703631524548,-0.03540218828869138,-0.03374306636950572,-0.0006238580246862302,0.0185982541027524,-0.032255270538926795,-0.024474050524999513,0.015142131897392178,-0.04868112898507593,-0.021522238593446208,0.028405336618754773,-0.005337546001916993,0.048157845897390805,-0.006425963526151213,-0.022175029848418737,-0.03567608420299781,0.03839860316695454,0.038143573929319,0.02553784764895073,-0.005569077800585298,-0.0038836534754332908,-0.02681862680158556,0.02903970028885161,-0.004805486627863176,-0.013530257882717764,0.01305251060121193,0.04572048018315933,-0.05023707390170534,-0.03240047796422224,-0.015191355909840831,-0.005353188080252591,-0.03969020375498944,-0.03506787262553135,-0.039480078569080646,0.031561794005018906,0.007924434813347703,-0.008509698083531997,0.03700720231624732,-0.02194910918232898,0.045642036841040956,0.05789702919868979,-0.029799548161802414,-0.03495346940277,0.02506544914000053,-0.04173568985506465,0.03965083282440218,-0.025502317148855577,-0.0038930668614840513,-0.013628600644893657,0.04791471700633143,0.03309912399356518,0.022386117890663915,0.012648330099578664,0.016782326736250908,-0.03249251799101294,-0.027231664815279305,-0.024897513758984358,0.035963553921343205,0.018830406906213737,-0.0018843144877702805,0.018381484037064855,0.04229166134690443,-0.021448543427079914,0.013357129065250106,0.023239117690476263,0.005347421393505913,0.024179504041676236,-0.08932382222517765,-0.018887330692662463,-0.026164580584438074,-0.03265379556386194,0.0186634263092732,-0.030114851379602514,-0.036755012958376965,-0.05276874272089263,0.06874495890931137,0.017509520524831457,-0.025872658630353873,-0.010732775896818647,0.011171392451689965,0.01893754925163449,0.04718278658575281,0.022208502437999322,0.04689263664106047,0.001047971591967789,0.01970889909021023,-0.01867234660076217,-0.03357600961222923,-0.03543286447781124,-0.0334449421702705,-0.0236360499417647,-0.03036891186341012,0.03145900103266264,0.008553433818043799,-0.03449437973207481,0.016364260325870572,0.039324147817002775,0.019938358431695113,-0.0020179594006622947,0.01145038620207365,0.017700569965571955,-0.015817593360665128,-0.11475857766439634,-0.12116998598980988,-0.0702151769474495,-0.10266561313404365,0.005463490366805379,-0.04386691259604755,-0.021460398909644907,0.03676269624444095,0.045311023191063615,0.056776105558827505,-0.0122284843722556,-0.009893255034045131,0.03689780672369569,-0.031967869629668855,0.024269197871229387,-0.016064681596642205,-0.01800121561770429,-0.01537403464208531,-0.0036938596041250493,0.025378596374035056,0.012158226331686839,0.024161774211175047,0.0442416835799585,0.043298629742818284,0.04096564756234378,0.019408920307944832,-0.04107157167431774,-0.1289016928656922,-0.08437819693313675,-0.020210684225005965,0.005492478929077671,0.031294252508574094,0.06417104073478774,-0.012807189103194394,-0.02350172778436796,0.02083439535841891,-0.021509724489970045,0.040429511959567566,-0.03914829201627379,-0.014241567566114888,0.020534140069761286,0.03100007265636473,0.02342600104851167,0.034082379967346754,0.04974993332395461,-0.0035129841436138953,-0.009553290338909226,-0.03353814386826276,0.021774701263751473,0.09561258305837823,-0.01591347579489022,-0.02898795365943535,-0.00011390409276640368,-0.03668954913494715,-0.006065222719818908,0.016313487706995478,-0.013858779586701758,-0.01835828372268411,0.044414218314840936,-0.002727096892286049,0.019092597241274323,0.02470252497765251,-0.0383833214496454,0.032290057782349835,0.0021776633976613308,0.02852242219134471,0.007214469659663103,0.046298853617644964,-0.02304296436122011,-0.01697825387136953,0.020898617108534245,-0.04912668515912194,-0.024351022297611713,-0.0144845692849076,0.037457959363863536,-0.0012691138523249768,0.011788812559549222,0.009501280634626318,-0.05020597102727453,-0.042429847154180134,-0.03132758173970607,-0.019936152557901154,0.017831231856497376,-0.0203384065213309,0.04708023544632023,0.0031495489031772572,0.022297651724742733,0.01855289929682688,-0.008715559295509545,0.0013762362353643143,0.05285497496027902,0.009545600759855,-0.028938903651731573,-0.03582143825488285,0.04532290208807033,0.058517277642852146,-0.035363868791075614,-0.006853568688505771,-0.03224342589221091,-0.048643776907966174,0.056902111494744334,-0.021317404417933908,0.020889225452021543,-0.04596372835438489,0.049849198689354446,0.016597426078299393,0.03106717928655023,0.045369054217494154,0.03456614153547899,-0.032160496623681506,-0.01230978197108279,-0.025916701560323274,0.01099942952531352,-0.041985904766294824,-0.025422718139747114,-0.022834035306379535,0.02562481413687201,0.004870133033124557,0.05317745346297986,0.005624828823304229,-0.023791125329186202,-0.04251043068830812,-0.020396518213962878,0.038603137484584216,-0.02785594121013707,0.02329043697513522,0.04009417844094498,0.03347970594620253,0.020553167637280323,-0.025971502749231434,-0.0028543499442315046,-0.017921980133089793],\"xaxis\":\"x\",\"y\":[0.0984,0.3169,0.5401,0.7392,0.9318,0.3946,0.2213,0.8713,0.9478,0.7417,0.9971,0.0506,0.0892,0.3962,0.6643,0.129,0.6914,0.4076,0.1363,0.7863,0.5576,0.0029,0.2484,0.1796,0.9185,0.9637,0.299,0.6478,0.9115,0.136,0.793,0.8086,0.9146,0.9892,0.8752,0.5975,0.7803,0.3188,0.7834,0.7962,0.2159,0.7882,0.7057,0.9452,0.9529,0.6439,0.8401,0.279,0.1443,0.0771,0.2309,0.4726,0.0121,0.1752,0.4229,0.971,0.0551,0.5522,0.3121,0.8605,0.3408,0.9404,0.7529,0.6506,0.099,0.4748,0.8124,0.5096,0.7137,0.6876,0.5646,0.6188,0.3857,0.1108,0.8777,0.972,0.8965,0.2736,0.2522,0.2924,0.4134,0.2838,0.5854,0.1818,0.601,0.3156,0.3666,0.507,0.6646,0.3596,0.7338,0.1118,0.8417,0.1662,0.6264,0.6717,0.0965,0.8092,0.0398,0.2395,0.7146,0.1271,0.5303,0.1981,0.7828,0.2175,0.8545,0.2643,0.4828,0.1917,0.514,0.6204,0.5602,0.3322,0.5369,0.2382,0.4866,0.4,0.3557,0.5494,0.0688,0.0404,0.3455,0.3532,0.6315,0.6197,0.4822,0.3099,0.8876,0.9143,0.5742,0.0092,0.2634,0.1519,0.0239,0.8369,0.4452,0.6029,0.1732,0.8732,0.4933,0.707,0.8857,0.1369,0.3032,0.2363,0.5946,0.9831,0.9818,0.5248,0.3927,0.8522,0.4213,0.051,0.4803,0.1892,0.9436,0.6994,0.8889,0.7401,0.8736,0.1146,0.4637,0.2041,0.1191,0.1822,0.7675,0.542,0.6841,0.8822,0.4618,0.4363,0.7067,0.5025,0.2006,0.7545,0.5898,0.5484,0.6159,0.5554,0.4994,0.608,0.8675,0.493,0.379,0.1857,0.8395,0.0213,0.0424,0.9248,0.8022,0.764,0.9188,0.9213,0.5191,0.4487,0.8312,0.6076,0.5478,0.8525,0.1615,0.5258,0.9035,0.1201,0.7653,0.0182,0.7631,0.0997,0.2105,0.4446,0.5828,0.1232,0.4911,0.6268,0.2768,0.2497,0.9019,0.4968,0.2503,0.0395,0.6169,0.2882,0.6096,0.7306,0.1153,0.1583,0.3783,0.549,0.5156,0.9796,0.628,0.6672,0.1901,0.4038,0.2529,0.3395,0.9506,0.7073,0.2379,0.6471,0.7022,0.5131,0.3338,0.7713,0.0882,0.8796,0.3768,0.7226,0.8701,0.4764,0.7908,0.5573,0.8924,0.3277,0.9086,0.8608,0.5201,0.5051,0.6166,0.007,0.6707,0.7497,0.722,0.165,0.6793,0.8293,0.9997,0.7252,0.8232,0.3895,0.4315,0.2904,0.5038,0.8096,0.636,0.799,0.6656,0.1054,0.2271,0.3115,0.7561,0.5185,0.7538,0.1102,0.6561,0.5239,0.915,0.3793,0.522,0.5306,0.4796,0.2054,0.6822,0.9589,0.5439,0.3252,0.5217,0.7516,0.3468,0.1611,0.7975,0.0175,0.7118,0.3194,0.7197,0.0229,0.4971,0.2831,0.6392,0.4783,0.5984,0.2089,0.8812,0.1293,0.7159,0.0933,0.9783,0.9809,0.7946,0.8787,0.451,0.6382,0.0382,0.9118,0.9994,0.3863,0.386,0.5943,0.4787,0.8366,0.285,0.1634,0.9618,0.1436,0.8153,0.1685,0.7344,0.0927,0.7822,0.2341,0.2506,0.0357,0.7659,0.3949,0.6869,0.7038,0.7025,0.0013,0.2825,0.9261,0.2516,0.0742,0.4997,0.9232,0.321,0.5634,0.9787,0.557,0.6481,0.0752,0.6777,0.6895,0.9678,0.4631,0.0315,0.0736,0.1223,0.4318,0.9032,0.8592,0.9697,0.4373,0.9296,0.8761,0.7522,0.3414,0.0497,0.2293,0.314,0.1455,0.1452,0.0662,0.7446,0.1471,0.3401,0.3299,0.6592,0.115,0.9334,0.2513,0.4115,0.442,0.6551,0.1838,0.9379,0.4987,0.2204,0.2115,0.6006,0.7086,0.2672,0.9475,0.0646,0.2895,0.2787,0.9038,0.4561,0.7564,0.4624,0.3933,0.2382,0.8204,0.7016,0.5866,0.4207,0.5452,0.1968,0.6073,0.9366,0.0787,0.9162,0.8102,0.2879,0.3494,0.3287,0.4131,0.3806,0.3497,0.9745,0.7541,0.5774,0.1182,0.8207,0.158,0.772,0.0178,0.4376,0.3191,0.6653,0.3051,0.701,0.1156,0.5194,0.1086,0.8261,0.8182,0.6978,0.592,0.7303,0.1392,0.1882,0.1618,0.6758,0.6217,0.0866,0.8685,0.6586,0.1774,0.9217,0.8987,0.4532,0.822,0.985,0.4436,0.1465,0.3083,0.8994,0.3503,0.2777,0.2468,0.0172,0.8895,0.3344,0.9459,0.6465,0.6245,0.8264,0.5334,0.7841,0.9099,0.9006,0.1169,0.3334,0.4312,0.2118,0.1025,0.3662,0.6764,0.4557,0.9646,0.6182,0.778,0.5567,0.5519,0.0608,0.4895,0.3589,0.9908,0.9924,0.9834,0.9889,0.9277,0.1984,0.4309,0.7694,0.829,0.8099,0.421,0.0904,0.7382,0.2697,0.6293,0.3624,0.4576,0.9576,0.9328,0.672,0.5197,0.8627,0.843,0.8188,0.8118,0.5758,0.3182,0.9946,0.9895,0.1576,0.528,0.7898,0.7889,0.4682,0.1666,0.8847,0.1424,0.751,0.4092,0.1411,0.6583,0.6809,0.8382,0.8602,0.8529,0.5541,0.1099,0.3844,0.5382,0.0102,0.9592,0.3803,0.4691,0.2086,0.936,0.5169,0.1162,0.4411,0.8315,0.0939,0.629,0.0599,0.3385,0.7646,0.0704,0.6564,0.4927,0.7182,0.5061,0.5226,0.6258,0.292,0.3713,0.9525,0.7175,0.5242,0.8908,0.0602,0.3793,0.2127,0.3675,0.2092,0.6564,0.3994,0.8446,0.4799,0.0589,0.0532,0.4532,0.4608,0.7408,0.5299,0.236,0.1459,0.7758,0.0283,0.4274,0.0994,0.3828,0.3064,0.7354,0.1239,0.6213,0.3357,0.6936,0.5685,0.7468,0.7952,0.7576,0.1697,0.1264,0.1599,0.6303,0.3551,0.3573,0.1908,0.7061,0.5691,0.6395,0.478,0.4885,0.3162,0.4296,0.7338,0.3197,0.851,0.8108,0.8717,0.6548,0.9631,0.5108,0.15],\"yaxis\":\"y\",\"type\":\"scatter\"}],                        {\"template\":{\"data\":{\"bar\":[{\"error_x\":{\"color\":\"#2a3f5f\"},\"error_y\":{\"color\":\"#2a3f5f\"},\"marker\":{\"line\":{\"color\":\"#E5ECF6\",\"width\":0.5},\"pattern\":{\"fillmode\":\"overlay\",\"size\":10,\"solidity\":0.2}},\"type\":\"bar\"}],\"barpolar\":[{\"marker\":{\"line\":{\"color\":\"#E5ECF6\",\"width\":0.5},\"pattern\":{\"fillmode\":\"overlay\",\"size\":10,\"solidity\":0.2}},\"type\":\"barpolar\"}],\"carpet\":[{\"aaxis\":{\"endlinecolor\":\"#2a3f5f\",\"gridcolor\":\"white\",\"linecolor\":\"white\",\"minorgridcolor\":\"white\",\"startlinecolor\":\"#2a3f5f\"},\"baxis\":{\"endlinecolor\":\"#2a3f5f\",\"gridcolor\":\"white\",\"linecolor\":\"white\",\"minorgridcolor\":\"white\",\"startlinecolor\":\"#2a3f5f\"},\"type\":\"carpet\"}],\"choropleth\":[{\"colorbar\":{\"outlinewidth\":0,\"ticks\":\"\"},\"type\":\"choropleth\"}],\"contour\":[{\"colorbar\":{\"outlinewidth\":0,\"ticks\":\"\"},\"colorscale\":[[0.0,\"#0d0887\"],[0.1111111111111111,\"#46039f\"],[0.2222222222222222,\"#7201a8\"],[0.3333333333333333,\"#9c179e\"],[0.4444444444444444,\"#bd3786\"],[0.5555555555555556,\"#d8576b\"],[0.6666666666666666,\"#ed7953\"],[0.7777777777777778,\"#fb9f3a\"],[0.8888888888888888,\"#fdca26\"],[1.0,\"#f0f921\"]],\"type\":\"contour\"}],\"contourcarpet\":[{\"colorbar\":{\"outlinewidth\":0,\"ticks\":\"\"},\"type\":\"contourcarpet\"}],\"heatmap\":[{\"colorbar\":{\"outlinewidth\":0,\"ticks\":\"\"},\"colorscale\":[[0.0,\"#0d0887\"],[0.1111111111111111,\"#46039f\"],[0.2222222222222222,\"#7201a8\"],[0.3333333333333333,\"#9c179e\"],[0.4444444444444444,\"#bd3786\"],[0.5555555555555556,\"#d8576b\"],[0.6666666666666666,\"#ed7953\"],[0.7777777777777778,\"#fb9f3a\"],[0.8888888888888888,\"#fdca26\"],[1.0,\"#f0f921\"]],\"type\":\"heatmap\"}],\"heatmapgl\":[{\"colorbar\":{\"outlinewidth\":0,\"ticks\":\"\"},\"colorscale\":[[0.0,\"#0d0887\"],[0.1111111111111111,\"#46039f\"],[0.2222222222222222,\"#7201a8\"],[0.3333333333333333,\"#9c179e\"],[0.4444444444444444,\"#bd3786\"],[0.5555555555555556,\"#d8576b\"],[0.6666666666666666,\"#ed7953\"],[0.7777777777777778,\"#fb9f3a\"],[0.8888888888888888,\"#fdca26\"],[1.0,\"#f0f921\"]],\"type\":\"heatmapgl\"}],\"histogram\":[{\"marker\":{\"pattern\":{\"fillmode\":\"overlay\",\"size\":10,\"solidity\":0.2}},\"type\":\"histogram\"}],\"histogram2d\":[{\"colorbar\":{\"outlinewidth\":0,\"ticks\":\"\"},\"colorscale\":[[0.0,\"#0d0887\"],[0.1111111111111111,\"#46039f\"],[0.2222222222222222,\"#7201a8\"],[0.3333333333333333,\"#9c179e\"],[0.4444444444444444,\"#bd3786\"],[0.5555555555555556,\"#d8576b\"],[0.6666666666666666,\"#ed7953\"],[0.7777777777777778,\"#fb9f3a\"],[0.8888888888888888,\"#fdca26\"],[1.0,\"#f0f921\"]],\"type\":\"histogram2d\"}],\"histogram2dcontour\":[{\"colorbar\":{\"outlinewidth\":0,\"ticks\":\"\"},\"colorscale\":[[0.0,\"#0d0887\"],[0.1111111111111111,\"#46039f\"],[0.2222222222222222,\"#7201a8\"],[0.3333333333333333,\"#9c179e\"],[0.4444444444444444,\"#bd3786\"],[0.5555555555555556,\"#d8576b\"],[0.6666666666666666,\"#ed7953\"],[0.7777777777777778,\"#fb9f3a\"],[0.8888888888888888,\"#fdca26\"],[1.0,\"#f0f921\"]],\"type\":\"histogram2dcontour\"}],\"mesh3d\":[{\"colorbar\":{\"outlinewidth\":0,\"ticks\":\"\"},\"type\":\"mesh3d\"}],\"parcoords\":[{\"line\":{\"colorbar\":{\"outlinewidth\":0,\"ticks\":\"\"}},\"type\":\"parcoords\"}],\"pie\":[{\"automargin\":true,\"type\":\"pie\"}],\"scatter\":[{\"marker\":{\"colorbar\":{\"outlinewidth\":0,\"ticks\":\"\"}},\"type\":\"scatter\"}],\"scatter3d\":[{\"line\":{\"colorbar\":{\"outlinewidth\":0,\"ticks\":\"\"}},\"marker\":{\"colorbar\":{\"outlinewidth\":0,\"ticks\":\"\"}},\"type\":\"scatter3d\"}],\"scattercarpet\":[{\"marker\":{\"colorbar\":{\"outlinewidth\":0,\"ticks\":\"\"}},\"type\":\"scattercarpet\"}],\"scattergeo\":[{\"marker\":{\"colorbar\":{\"outlinewidth\":0,\"ticks\":\"\"}},\"type\":\"scattergeo\"}],\"scattergl\":[{\"marker\":{\"colorbar\":{\"outlinewidth\":0,\"ticks\":\"\"}},\"type\":\"scattergl\"}],\"scattermapbox\":[{\"marker\":{\"colorbar\":{\"outlinewidth\":0,\"ticks\":\"\"}},\"type\":\"scattermapbox\"}],\"scatterpolar\":[{\"marker\":{\"colorbar\":{\"outlinewidth\":0,\"ticks\":\"\"}},\"type\":\"scatterpolar\"}],\"scatterpolargl\":[{\"marker\":{\"colorbar\":{\"outlinewidth\":0,\"ticks\":\"\"}},\"type\":\"scatterpolargl\"}],\"scatterternary\":[{\"marker\":{\"colorbar\":{\"outlinewidth\":0,\"ticks\":\"\"}},\"type\":\"scatterternary\"}],\"surface\":[{\"colorbar\":{\"outlinewidth\":0,\"ticks\":\"\"},\"colorscale\":[[0.0,\"#0d0887\"],[0.1111111111111111,\"#46039f\"],[0.2222222222222222,\"#7201a8\"],[0.3333333333333333,\"#9c179e\"],[0.4444444444444444,\"#bd3786\"],[0.5555555555555556,\"#d8576b\"],[0.6666666666666666,\"#ed7953\"],[0.7777777777777778,\"#fb9f3a\"],[0.8888888888888888,\"#fdca26\"],[1.0,\"#f0f921\"]],\"type\":\"surface\"}],\"table\":[{\"cells\":{\"fill\":{\"color\":\"#EBF0F8\"},\"line\":{\"color\":\"white\"}},\"header\":{\"fill\":{\"color\":\"#C8D4E3\"},\"line\":{\"color\":\"white\"}},\"type\":\"table\"}]},\"layout\":{\"annotationdefaults\":{\"arrowcolor\":\"#2a3f5f\",\"arrowhead\":0,\"arrowwidth\":1},\"autotypenumbers\":\"strict\",\"coloraxis\":{\"colorbar\":{\"outlinewidth\":0,\"ticks\":\"\"}},\"colorscale\":{\"diverging\":[[0,\"#8e0152\"],[0.1,\"#c51b7d\"],[0.2,\"#de77ae\"],[0.3,\"#f1b6da\"],[0.4,\"#fde0ef\"],[0.5,\"#f7f7f7\"],[0.6,\"#e6f5d0\"],[0.7,\"#b8e186\"],[0.8,\"#7fbc41\"],[0.9,\"#4d9221\"],[1,\"#276419\"]],\"sequential\":[[0.0,\"#0d0887\"],[0.1111111111111111,\"#46039f\"],[0.2222222222222222,\"#7201a8\"],[0.3333333333333333,\"#9c179e\"],[0.4444444444444444,\"#bd3786\"],[0.5555555555555556,\"#d8576b\"],[0.6666666666666666,\"#ed7953\"],[0.7777777777777778,\"#fb9f3a\"],[0.8888888888888888,\"#fdca26\"],[1.0,\"#f0f921\"]],\"sequentialminus\":[[0.0,\"#0d0887\"],[0.1111111111111111,\"#46039f\"],[0.2222222222222222,\"#7201a8\"],[0.3333333333333333,\"#9c179e\"],[0.4444444444444444,\"#bd3786\"],[0.5555555555555556,\"#d8576b\"],[0.6666666666666666,\"#ed7953\"],[0.7777777777777778,\"#fb9f3a\"],[0.8888888888888888,\"#fdca26\"],[1.0,\"#f0f921\"]]},\"colorway\":[\"#636efa\",\"#EF553B\",\"#00cc96\",\"#ab63fa\",\"#FFA15A\",\"#19d3f3\",\"#FF6692\",\"#B6E880\",\"#FF97FF\",\"#FECB52\"],\"font\":{\"color\":\"#2a3f5f\"},\"geo\":{\"bgcolor\":\"white\",\"lakecolor\":\"white\",\"landcolor\":\"#E5ECF6\",\"showlakes\":true,\"showland\":true,\"subunitcolor\":\"white\"},\"hoverlabel\":{\"align\":\"left\"},\"hovermode\":\"closest\",\"mapbox\":{\"style\":\"light\"},\"paper_bgcolor\":\"white\",\"plot_bgcolor\":\"#E5ECF6\",\"polar\":{\"angularaxis\":{\"gridcolor\":\"white\",\"linecolor\":\"white\",\"ticks\":\"\"},\"bgcolor\":\"#E5ECF6\",\"radialaxis\":{\"gridcolor\":\"white\",\"linecolor\":\"white\",\"ticks\":\"\"}},\"scene\":{\"xaxis\":{\"backgroundcolor\":\"#E5ECF6\",\"gridcolor\":\"white\",\"gridwidth\":2,\"linecolor\":\"white\",\"showbackground\":true,\"ticks\":\"\",\"zerolinecolor\":\"white\"},\"yaxis\":{\"backgroundcolor\":\"#E5ECF6\",\"gridcolor\":\"white\",\"gridwidth\":2,\"linecolor\":\"white\",\"showbackground\":true,\"ticks\":\"\",\"zerolinecolor\":\"white\"},\"zaxis\":{\"backgroundcolor\":\"#E5ECF6\",\"gridcolor\":\"white\",\"gridwidth\":2,\"linecolor\":\"white\",\"showbackground\":true,\"ticks\":\"\",\"zerolinecolor\":\"white\"}},\"shapedefaults\":{\"line\":{\"color\":\"#2a3f5f\"}},\"ternary\":{\"aaxis\":{\"gridcolor\":\"white\",\"linecolor\":\"white\",\"ticks\":\"\"},\"baxis\":{\"gridcolor\":\"white\",\"linecolor\":\"white\",\"ticks\":\"\"},\"bgcolor\":\"#E5ECF6\",\"caxis\":{\"gridcolor\":\"white\",\"linecolor\":\"white\",\"ticks\":\"\"}},\"title\":{\"x\":0.05},\"xaxis\":{\"automargin\":true,\"gridcolor\":\"white\",\"linecolor\":\"white\",\"ticks\":\"\",\"title\":{\"standoff\":15},\"zerolinecolor\":\"white\",\"zerolinewidth\":2},\"yaxis\":{\"automargin\":true,\"gridcolor\":\"white\",\"linecolor\":\"white\",\"ticks\":\"\",\"title\":{\"standoff\":15},\"zerolinecolor\":\"white\",\"zerolinewidth\":2}}},\"xaxis\":{\"anchor\":\"y\",\"domain\":[0.0,1.0],\"title\":{\"text\":\"x\"}},\"yaxis\":{\"anchor\":\"x\",\"domain\":[0.0,1.0],\"title\":{\"text\":\"y\"}},\"legend\":{\"tracegroupgap\":0},\"margin\":{\"t\":60}},                        {\"responsive\": true}                    ).then(function(){\n",
       "                            \n",
       "var gd = document.getElementById('4a177b61-262a-4c1d-8241-e621932fba58');\n",
       "var x = new MutationObserver(function (mutations, observer) {{\n",
       "        var display = window.getComputedStyle(gd).display;\n",
       "        if (!display || display === 'none') {{\n",
       "            console.log([gd, 'removed!']);\n",
       "            Plotly.purge(gd);\n",
       "            observer.disconnect();\n",
       "        }}\n",
       "}});\n",
       "\n",
       "// Listen for the removal of the full notebook cells\n",
       "var notebookContainer = gd.closest('#notebook-container');\n",
       "if (notebookContainer) {{\n",
       "    x.observe(notebookContainer, {childList: true});\n",
       "}}\n",
       "\n",
       "// Listen for the clearing of the current output cell\n",
       "var outputEl = gd.closest('.output');\n",
       "if (outputEl) {{\n",
       "    x.observe(outputEl, {childList: true});\n",
       "}}\n",
       "\n",
       "                        })                };                });            </script>        </div>"
      ]
     },
     "metadata": {},
     "output_type": "display_data"
    },
    {
     "data": {
      "application/javascript": [
       "\n",
       "            setTimeout(function() {\n",
       "                var nbb_cell_id = 74;\n",
       "                var nbb_unformatted_code = \"coefs = np.array(model.coef_)\\ncomp = pd.DataFrame((X_test.columns, coefs)).T\\ncomp = comp.rename({0: \\\"Variable\\\", 1: \\\"Coef\\\"}, axis=1)\\ndisplay(comp)\\n\\ndisplay(X_test.columns)\\n\\n\\nnew_pred = model.predict(X_test)\\nnew_resid = y_test - new_pred\\n\\ndisplay(px.scatter(x = new_resid, y = y_test))\";\n",
       "                var nbb_formatted_code = \"coefs = np.array(model.coef_)\\ncomp = pd.DataFrame((X_test.columns, coefs)).T\\ncomp = comp.rename({0: \\\"Variable\\\", 1: \\\"Coef\\\"}, axis=1)\\ndisplay(comp)\\n\\ndisplay(X_test.columns)\\n\\n\\nnew_pred = model.predict(X_test)\\nnew_resid = y_test - new_pred\\n\\ndisplay(px.scatter(x=new_resid, y=y_test))\";\n",
       "                var nbb_cells = Jupyter.notebook.get_cells();\n",
       "                for (var i = 0; i < nbb_cells.length; ++i) {\n",
       "                    if (nbb_cells[i].input_prompt_number == nbb_cell_id) {\n",
       "                        if (nbb_cells[i].get_text() == nbb_unformatted_code) {\n",
       "                             nbb_cells[i].set_text(nbb_formatted_code);\n",
       "                        }\n",
       "                        break;\n",
       "                    }\n",
       "                }\n",
       "            }, 500);\n",
       "            "
      ],
      "text/plain": [
       "<IPython.core.display.Javascript object>"
      ]
     },
     "metadata": {},
     "output_type": "display_data"
    }
   ],
   "source": [
    "coefs = np.array(model.coef_)\n",
    "comp = pd.DataFrame((X_test.columns, coefs)).T\n",
    "comp = comp.rename({0: \"Variable\", 1: \"Coef\"}, axis=1)\n",
    "display(comp)\n",
    "\n",
    "display(X_test.columns)\n",
    "\n",
    "\n",
    "new_pred = model.predict(X_test)\n",
    "new_resid = y_test - new_pred\n",
    "\n",
    "display(px.scatter(x=new_resid, y=y_test))"
   ]
  }
 ],
 "metadata": {
  "kernelspec": {
   "display_name": "Python 3 (ipykernel)",
   "language": "python",
   "name": "python3"
  },
  "language_info": {
   "codemirror_mode": {
    "name": "ipython",
    "version": 3
   },
   "file_extension": ".py",
   "mimetype": "text/x-python",
   "name": "python",
   "nbconvert_exporter": "python",
   "pygments_lexer": "ipython3",
   "version": "3.8.8"
  }
 },
 "nbformat": 4,
 "nbformat_minor": 5
}
