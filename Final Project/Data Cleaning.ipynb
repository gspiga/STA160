{
 "cells": [
  {
   "cell_type": "code",
   "execution_count": 71,
   "id": "584796f9",
   "metadata": {},
   "outputs": [],
   "source": [
    "import numpy as np\n",
    "import pandas as pd"
   ]
  },
  {
   "cell_type": "code",
   "execution_count": 72,
   "id": "45758e00",
   "metadata": {},
   "outputs": [],
   "source": [
    "df_county = pd.read_csv(\"Data/SVI2018_US_COUNTY.csv\")\n",
    "df_census = pd.read_csv(\"Data/SVI2018_US.csv\")"
   ]
  },
  {
   "cell_type": "code",
   "execution_count": 73,
   "id": "a02b0019",
   "metadata": {},
   "outputs": [],
   "source": [
    "df_county = pd.read_csv(\"Data/SVI2018_US_COUNTY.csv\")\n",
    "df_census = pd.read_csv(\"Data/SVI2018_US.csv\")\n",
    "\n",
    "# Dropping rows with missing RPL values\n",
    "df_county = df_county.loc[df_county.RPL_THEMES >= 0]\n",
    "df_census = df_census[df_census.RPL_THEMES >= 0]\n",
    "\n",
    "# Dropping redundant ST, location, and FIPS\n",
    "df_county = df_county.drop([\"ST\", \"ST_ABBR\", \"LOCATION\"], axis=1)\n",
    "df_census = df_census.drop([\"ST\", \"ST_ABBR\", \"LOCATION\"], axis=1)\n",
    "\n",
    "# Removing all columns Margin of Error columns\n",
    "df_county = df_county.loc[:, ~df_county.columns.str.startswith(\"M_\")]\n",
    "df_census = df_census.loc[:, ~df_census.columns.str.startswith(\"M_\")]\n",
    "\n",
    "# Saving to new .csv file\n",
    "df_county.to_csv(\"Data/county_clean.csv\")\n",
    "df_census.to_csv(\"Data/census_clean.csv\")"
   ]
  }
 ],
 "metadata": {
  "kernelspec": {
   "display_name": "Python 3 (ipykernel)",
   "language": "python",
   "name": "python3"
  },
  "language_info": {
   "codemirror_mode": {
    "name": "ipython",
    "version": 3
   },
   "file_extension": ".py",
   "mimetype": "text/x-python",
   "name": "python",
   "nbconvert_exporter": "python",
   "pygments_lexer": "ipython3",
   "version": "3.8.10"
  }
 },
 "nbformat": 4,
 "nbformat_minor": 5
}
